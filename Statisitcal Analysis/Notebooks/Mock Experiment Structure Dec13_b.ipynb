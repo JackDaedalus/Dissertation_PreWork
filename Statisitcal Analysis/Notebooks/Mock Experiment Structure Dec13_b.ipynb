{
 "cells": [
  {
   "cell_type": "markdown",
   "id": "2ff5b166-150a-40cb-83ba-c46b6d211a66",
   "metadata": {},
   "source": [
    "# Disseration Experiment 7a\n",
    "# Generate a Mock Experiment Structure for Dissertation\n",
    "Ciaran Finnegan December  2023"
   ]
  },
  {
   "cell_type": "markdown",
   "id": "d50cb673-dec3-4e17-837b-f14c549115f4",
   "metadata": {},
   "source": [
    "---------------------------------\n",
    "Write the Python code for use in a Kubeflow Python notebook with the following operations.\n",
    "\n",
    "Load a csv file called 'credit_default_experiment_data.csv' into a dataframe.\n",
    "\n",
    "Split this data into 20 consecutive dataframes and place these dataframes in a list named 'list_df' with a sequential number as an identifier. \n",
    "\n",
    "---------------------------------"
   ]
  },
  {
   "cell_type": "code",
   "execution_count": null,
   "id": "2e008b52-12ba-4431-9619-ded695c0ad87",
   "metadata": {},
   "outputs": [],
   "source": [
    "import pandas as pd\n",
    "import os\n",
    "import time\n",
    "import random\n",
    "import openpyxl"
   ]
  },
  {
   "cell_type": "markdown",
   "id": "2619daf2-794e-48e6-8bbf-7121194bc089",
   "metadata": {},
   "source": [
    "### Suppress Warnings to clean up output"
   ]
  },
  {
   "cell_type": "code",
   "execution_count": null,
   "id": "d5aa321b-0cbe-4b6e-8f20-b9d45b8995fb",
   "metadata": {},
   "outputs": [],
   "source": [
    "import warnings\n",
    "warnings.simplefilter(action='ignore', category=Warning)"
   ]
  },
  {
   "cell_type": "markdown",
   "id": "81ee39a7-0c5c-46fd-8711-1a0c957a8b76",
   "metadata": {},
   "source": [
    "## Read File and split into a list of dataframes"
   ]
  },
  {
   "cell_type": "code",
   "execution_count": null,
   "id": "8456fa3f-1177-4e29-9160-ba6e86a1ba55",
   "metadata": {},
   "outputs": [],
   "source": [
    "# Step 1: Load the CSV file into a DataFrame\n",
    "df = pd.read_csv('credit_default_experiment_data.csv')  # Replace with the correct path"
   ]
  },
  {
   "cell_type": "code",
   "execution_count": null,
   "id": "81893dd4-f91c-4331-b6de-cbb206093d93",
   "metadata": {},
   "outputs": [],
   "source": [
    "# Step 2: Split the DataFrame into 20 consecutive smaller DataFrames\n",
    "num_splits = 20\n",
    "split_size = len(df) // num_splits\n",
    "list_df = [df.iloc[i * split_size: min((i + 1) * split_size, len(df))] for i in range(num_splits)]"
   ]
  },
  {
   "cell_type": "code",
   "execution_count": null,
   "id": "0e72bd49-88b5-4902-9d0e-e4ec17d85fec",
   "metadata": {},
   "outputs": [],
   "source": [
    "# Print the dimensions of the data split\n",
    "print(f\"Original DF Length: {len(df)}\")\n",
    "print(f\"Split Size: {split_size}\")"
   ]
  },
  {
   "cell_type": "markdown",
   "id": "cfeaef61-c2a5-4939-b68c-686695d045e4",
   "metadata": {},
   "source": [
    "### Add a routine to check output values"
   ]
  },
  {
   "cell_type": "code",
   "execution_count": null,
   "id": "f9d92413-f783-4cf3-8f22-4a7e59b0214c",
   "metadata": {},
   "outputs": [],
   "source": [
    "# Display starting points in the first four sub dataframes\n",
    "end = 0\n",
    "debug_recs = 6\n",
    "for start in range(0, len(df), split_size):\n",
    "    if end < len(df): # avoid out of bound errors\n",
    "        if end < (split_size * debug_recs):  # limit range of lines to check for write out\n",
    "            # Display the slice of the DataFrame\n",
    "            display(df.iloc[[end]])\n",
    "            end = start + split_size"
   ]
  },
  {
   "cell_type": "code",
   "execution_count": null,
   "id": "e5876524-5578-43f1-804f-93a366d254fa",
   "metadata": {},
   "outputs": [],
   "source": [
    "# Step 3: Optionally, if you need a sequential number as an identifier for each DataFrame\n",
    "list_df = {f'df_{i + 1}': list_df[i] for i in range(len(list_df))}"
   ]
  },
  {
   "cell_type": "markdown",
   "id": "e81313b1-a9e1-4a2f-b46b-8935b057ab3b",
   "metadata": {},
   "source": [
    "## Check Starting Point in External XL File"
   ]
  },
  {
   "cell_type": "markdown",
   "id": "9eefaaa4-2738-4eab-bd15-17f83023f517",
   "metadata": {},
   "source": [
    "Now, write additional Python code so that for each dataframe in the list just created carry out the following actions;\n",
    "\n",
    "Check if an XAI results XL spreadsheet called 'XAI_Metrics_Expriments.xls' exists;\n",
    "    \n",
    "\tIf not create an empty XL spreadsheet with the name 'XAI_Metrics_Expriments.xls', and then define a variable called ‘Sample’ with an integer value of 1 and print the value of 'Sample' to output.\n",
    "    \n",
    "\tIf and XL spreadsheet called 'XAI_Metrics_Expriments.xls' does exist, then read the entries in the spreadsheet in the first column named ‘Sample Number’ and create a variable \n",
    "\tin this Python program named ‘Sample’ that is one integer value higher than the highest integer number column named ‘Sample Number’ in the XL, and print this value of 'Sample' to output.\n",
    "\n"
   ]
  },
  {
   "cell_type": "code",
   "execution_count": null,
   "id": "30354721-6d8c-4077-a63f-b8587d45b446",
   "metadata": {},
   "outputs": [],
   "source": [
    "# File path for the XAI results spreadsheet\n",
    "xai_file_path = 'XAI_Metrics_Experiments.xlsx'  # Replace with the actual path"
   ]
  },
  {
   "cell_type": "code",
   "execution_count": null,
   "id": "c1c66baf-4a4c-4324-9d24-6b22a94f1f1a",
   "metadata": {},
   "outputs": [],
   "source": [
    "# Function to update or create the spreadsheet and determine the 'Sample' number\n",
    "def update_xai_spreadsheet():\n",
    "    if os.path.exists(xai_file_path):\n",
    "        # Read the existing spreadsheet\n",
    "        xai_df = pd.read_excel(xai_file_path)\n",
    "\n",
    "        # Check if 'Sample Number' column exists and find the next sample number\n",
    "        if 'Sample Number' in xai_df.columns:\n",
    "            sample = xai_df['Sample Number'].max() + 1\n",
    "        else:\n",
    "            sample = 1\n",
    "    else:\n",
    "        # Create an empty spreadsheet\n",
    "        pd.DataFrame().to_excel(xai_file_path, engine='openpyxl')\n",
    "        sample = 1\n",
    "\n",
    "    return sample"
   ]
  },
  {
   "cell_type": "code",
   "execution_count": null,
   "id": "d78f2ebd-334b-4094-9b7d-4e365a749c3f",
   "metadata": {},
   "outputs": [],
   "source": [
    "# Process each dataframe in 'list_df'\n",
    "for df in list_df:\n",
    "    # Update or create the spreadsheet and get the 'Sample' number\n",
    "    sample = update_xai_spreadsheet()\n",
    "\n",
    "    # Print the 'Sample' number\n",
    "    print(f\"Sample Number for current DataFrame: {sample}\")\n",
    "    break"
   ]
  },
  {
   "cell_type": "markdown",
   "id": "18e38d99-abf6-4814-aa4c-fc3f4b7082a6",
   "metadata": {},
   "source": [
    "## Start Processing Next Dataframe"
   ]
  },
  {
   "cell_type": "markdown",
   "id": "b7b8a3e2-e0f0-48c1-86dc-d072646cbf6a",
   "metadata": {},
   "source": [
    "---------------------------------\n",
    "\n",
    "\t\n",
    "Now, extend the above by writing additional Python code so that the code reads in the dataframe from 'list df' that corresponds to the integer value in the \n",
    "variable named ‘Sample’. \n",
    "\n",
    "Assign this dataframe the name 'df_Selected_from_List'.\n",
    "\n",
    "\n",
    "----------------------------------"
   ]
  },
  {
   "cell_type": "code",
   "execution_count": null,
   "id": "13076424-e42a-4864-b53d-007f593927cc",
   "metadata": {},
   "outputs": [],
   "source": [
    "# Function to update or create the spreadsheet and determine the 'Sample' number\n",
    "def update_xai_spreadsheet():\n",
    "    if os.path.exists(xai_file_path):\n",
    "        # Read the existing spreadsheet\n",
    "        xai_df = pd.read_excel(xai_file_path)\n",
    "\n",
    "        # Check if 'Sample Number' column exists and find the next sample number\n",
    "        if 'Sample Number' in xai_df.columns:\n",
    "            sample = xai_df['Sample Number'].max() + 1\n",
    "        else:\n",
    "            sample = 1\n",
    "    else:\n",
    "        # Create an empty spreadsheet\n",
    "        pd.DataFrame().to_excel(xai_file_path, engine='openpyxl')\n",
    "        sample = 1\n",
    "\n",
    "    return sample"
   ]
  },
  {
   "cell_type": "code",
   "execution_count": null,
   "id": "0ab10201-75f8-4fe1-ad41-bdc2290f7954",
   "metadata": {},
   "outputs": [],
   "source": [
    "# Initialize df_Selected_from_List as None\n",
    "df_Selected_from_List = None"
   ]
  },
  {
   "cell_type": "code",
   "execution_count": null,
   "id": "96d01c69-3b3c-4a4e-9569-238b4093a177",
   "metadata": {},
   "outputs": [],
   "source": [
    "# Process each dataframe in 'list_df'\n",
    "for index, df in enumerate(list_df):\n",
    "    # Update or create the spreadsheet and get the 'Sample' number\n",
    "    sample = update_xai_spreadsheet()\n",
    "    \n",
    "    key = f'df_{sample}'\n",
    "    if key in list_df:\n",
    "        df_Selected_from_List = list_df[key]\n",
    "        print(f\"DataFrame selected for Sample Number {sample} witk key {key}\")\n",
    "        break\n",
    "    else:\n",
    "        print(f\"No DataFrame found for Sample Number {sample}\")   \n",
    "        break"
   ]
  },
  {
   "cell_type": "code",
   "execution_count": null,
   "id": "b5b75fb3-dac1-4f37-9bf6-60578082ccb5",
   "metadata": {},
   "outputs": [],
   "source": [
    "# If no DataFrame is selected (e.g., if 'Sample' exceeds the number of DataFrames in list_df)\n",
    "if 'df_Selected_from_List' not in locals():\n",
    "    print(\"No DataFrame selected. The 'Sample' number may exceed the number of DataFrames in list_df.\")"
   ]
  },
  {
   "cell_type": "markdown",
   "id": "e5be1a2b-3dad-403d-a497-686d7d935c25",
   "metadata": {},
   "source": [
    "## Generate Dummy Metrics for Dataframe"
   ]
  },
  {
   "cell_type": "markdown",
   "id": "8f7dc955-f0c6-4a7e-acff-f56e5b5a4f54",
   "metadata": {},
   "source": [
    "----------------------------------\n",
    "\n",
    "Now, extend the above by writing additional Python code to create a function called Calc_XAI_Comp_Time() that generates a random time wait. \n",
    "\n",
    "Use Python code to measure the time taken to run the ‘Calc_XAI_Comp_Time()’ function and calculate time required and store as variable ‘XAI_Time_Metric_5’.\n",
    "\n",
    "Create a ‘Calc_XAI_ Metric_One()’ Python function to generate a number between 0.01 and 0.99. Invoke function and stored returned result as ‘XAI_Ident_Metric_1’ variable.\n",
    "\n",
    "\n",
    "\n",
    "----------------------------------"
   ]
  },
  {
   "cell_type": "code",
   "execution_count": null,
   "id": "dadb1e3d-61aa-448e-af58-ef8a68ee1aa4",
   "metadata": {},
   "outputs": [],
   "source": [
    "def Calc_XAI_Comp_Time():\n",
    "    # Simulate computation time with a random wait\n",
    "    time_wait = random.uniform(0.5, 5.0)  # Random wait between 0.5 and 5 seconds\n",
    "    time.sleep(time_wait)\n",
    "    return time_wait"
   ]
  },
  {
   "cell_type": "code",
   "execution_count": null,
   "id": "2fef9de3-8a97-4f2e-a937-2f1cff0a7809",
   "metadata": {},
   "outputs": [],
   "source": [
    "def Calc_XAI_Metric_One():\n",
    "    # Generate a random number between 0.01 and 0.99\n",
    "    return random.uniform(0.01, 0.99)"
   ]
  },
  {
   "cell_type": "code",
   "execution_count": null,
   "id": "396f42d1-b18a-406f-9cf2-af40ebc21304",
   "metadata": {},
   "outputs": [],
   "source": [
    "def Calc_XAI_Metric_Two():\n",
    "    # Generate a random number between 0.01 and 0.99\n",
    "    return random.uniform(0.01, 0.99)"
   ]
  },
  {
   "cell_type": "code",
   "execution_count": null,
   "id": "1fe3139d-933e-41a0-9abe-be0f368a509c",
   "metadata": {},
   "outputs": [],
   "source": [
    "def Calc_XAI_Metric_Three():\n",
    "    # Generate a random number between 0.01 and 0.99\n",
    "    return random.uniform(0.01, 0.99)"
   ]
  },
  {
   "cell_type": "code",
   "execution_count": null,
   "id": "fe38b3b3-dab5-46b5-bfca-232a5c6dc680",
   "metadata": {},
   "outputs": [],
   "source": [
    "def Calc_XAI_Metric_Four():\n",
    "    # Generate a random number between 0.01 and 0.99\n",
    "    return random.uniform(0.01, 0.99)"
   ]
  },
  {
   "cell_type": "code",
   "execution_count": null,
   "id": "5b4bf27b-d5af-4bb5-855e-edbe0b7ce3d7",
   "metadata": {},
   "outputs": [],
   "source": [
    "# Measure the time taken by Calc_XAI_Comp_Time()\n",
    "start_time = time.time()\n",
    "Calc_XAI_Comp_Time()\n",
    "end_time = time.time()\n",
    "XAI_Time_Metric_5 = end_time - start_time"
   ]
  },
  {
   "cell_type": "code",
   "execution_count": null,
   "id": "f760c6e9-4108-4481-bed5-a0edc0066a1b",
   "metadata": {},
   "outputs": [],
   "source": [
    "# Generate a number using Calc_XAI_Metric_One() and other functions\n",
    "XAI_Ident_Metric_1        = Calc_XAI_Metric_One()\n",
    "XAI_Stability_Metric_2    = Calc_XAI_Metric_Two()\n",
    "XAI_Seperability_Metric_3 = Calc_XAI_Metric_Three()\n",
    "XAI_Similarity_Metric_4   = Calc_XAI_Metric_Four()\n",
    "\n",
    "# Print the results\n",
    "print(f\"XAI Time Metric 5: {XAI_Time_Metric_5} seconds\")\n",
    "print(f\"XAI Ident Metric 1: {XAI_Ident_Metric_1}\")\n",
    "print(f\"XAI Stability Metric 2: {XAI_Stability_Metric_2}\")\n",
    "print(f\"XAI Seperability Metric 1: {XAI_Seperability_Metric_3}\")\n",
    "print(f\"XAI Similarity Metric 1: {XAI_Similarity_Metric_4}\")"
   ]
  },
  {
   "cell_type": "markdown",
   "id": "a1225802-38e3-4796-83e1-2c30ece52e1e",
   "metadata": {},
   "source": [
    "## Write Out Metrics to XL"
   ]
  },
  {
   "cell_type": "markdown",
   "id": "b1760516-5f46-4366-af82-c57234e05b5c",
   "metadata": {},
   "source": [
    "----------------------------------\n",
    "\n",
    "Now, extend the above by writing additional Python code to Append a row into the XL spreadsheet 'XAI_Metrics_Expriments.xls' with a column named 'Sample Number' as the first column with the value of the variable named 'Sample', \n",
    "a second column named 'XAI_Identity' with the value in the variable ‘XAI_Ident_Metric_1’, \n",
    "a third column named 'Comp_Efficiency' with the value in the variable variable ‘XAI_Time_Metric_5’,\n",
    "and three other columns that contain the first three columns in the first row of the 'df_Selected_from_List' dataframe.\n",
    "\n",
    "----------------------------------"
   ]
  },
  {
   "cell_type": "code",
   "execution_count": null,
   "id": "44029d5a-55f6-4965-97bf-6dfab3f70ee9",
   "metadata": {},
   "outputs": [],
   "source": [
    "def append_to_excel(file_path, \n",
    "                    sample, \n",
    "                    xai_identity, \n",
    "                    xai_stability, \n",
    "                    xai_seperability, \n",
    "                    xai_similarity, \n",
    "                    comp_efficiency, \n",
    "                    df_row):\n",
    "    # Check if the file exists and read it; if not, create a new DataFrame\n",
    "    if os.path.exists(file_path):\n",
    "        existing_data = pd.read_excel(file_path, engine='openpyxl')\n",
    "    else:\n",
    "        existing_data = pd.DataFrame()\n",
    "\n",
    "    # Prepare the new row to be appended\n",
    "    new_row = {\n",
    "        'Sample Number': sample,\n",
    "        'XAI_Identity'    : xai_identity,\n",
    "        'XAI_Stability'   : xai_stability,\n",
    "        'XAI_Seperability': xai_seperability,\n",
    "        'XAI_Similairity' : xai_similarity,\n",
    "        'Comp_Efficiency' : comp_efficiency\n",
    "    }\n",
    "\n",
    "    # Add data from the first row of df_Selected_from_List\n",
    "    for col in df_row.index[:3]:  # Taking the first three columns\n",
    "        new_row[col] = df_row[col]\n",
    "\n",
    "    # Append the new row to the existing DataFrame\n",
    "    updated_data = existing_data.append(new_row, ignore_index=True)\n",
    "\n",
    "    # Write the updated DataFrame back to the Excel file\n",
    "    updated_data.to_excel(file_path, index=False, engine='openpyxl')"
   ]
  },
  {
   "cell_type": "code",
   "execution_count": null,
   "id": "7cc71d3a-0a90-4684-9af9-f84f9b52379b",
   "metadata": {},
   "outputs": [],
   "source": [
    "# Assign metric values before writing to XL\n",
    "xai_identity     = XAI_Ident_Metric_1  # The value from Calc_XAI_Metric_One()\n",
    "xai_stability    = XAI_Stability_Metric_2 \n",
    "xai_seperability = XAI_Seperability_Metric_3 \n",
    "xai_similarity   = XAI_Similarity_Metric_4 \n",
    "comp_efficiency  = XAI_Time_Metric_5  # The time metric from Calc_XAI_Comp_Time()"
   ]
  },
  {
   "cell_type": "code",
   "execution_count": null,
   "id": "13e0e586-5896-4e0b-bf54-f602087c009a",
   "metadata": {},
   "outputs": [],
   "source": [
    "print(type(df_Selected_from_List))"
   ]
  },
  {
   "cell_type": "code",
   "execution_count": null,
   "id": "4fffef70-604f-43db-bb0c-f05bc8aa0f72",
   "metadata": {},
   "outputs": [],
   "source": [
    "# Now, df_Selected_from_List should be a DataFrame. If a DataFrame was found, proceed with the next operations\n",
    "if df_Selected_from_List is not None:\n",
    "    # Extract the first row from df_Selected_from_List\n",
    "    first_row_of_selected_df = df_Selected_from_List.iloc[0]\n",
    "    # Append the data to the Excel file\n",
    "    append_to_excel(xai_file_path, \n",
    "                    sample, \n",
    "                    xai_identity, \n",
    "                    xai_stability, \n",
    "                    xai_seperability, \n",
    "                    xai_similarity, \n",
    "                    comp_efficiency, \n",
    "                    first_row_of_selected_df)\n",
    "    print(f\"DataFrame selected for Sample Number {sample} witk key {key}\")\n",
    "else:\n",
    "    print(\"DataFrame not selected or does not exist.\")"
   ]
  }
 ],
 "metadata": {
  "kernelspec": {
   "display_name": "Python 3",
   "language": "python",
   "name": "python3"
  },
  "language_info": {
   "codemirror_mode": {
    "name": "ipython",
    "version": 3
   },
   "file_extension": ".py",
   "mimetype": "text/x-python",
   "name": "python",
   "nbconvert_exporter": "python",
   "pygments_lexer": "ipython3",
   "version": "3.8.10"
  }
 },
 "nbformat": 4,
 "nbformat_minor": 5
}
