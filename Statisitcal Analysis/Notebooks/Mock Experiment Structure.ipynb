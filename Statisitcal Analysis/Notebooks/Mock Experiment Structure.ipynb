{
 "cells": [
  {
   "cell_type": "markdown",
   "id": "2ff5b166-150a-40cb-83ba-c46b6d211a66",
   "metadata": {},
   "source": [
    "# Disseration Experiment 7a\n",
    "# Generate a Mock Experiment Structure for Dissertation\n",
    "Ciaran Finnegan December  2023"
   ]
  },
  {
   "cell_type": "markdown",
   "id": "d50cb673-dec3-4e17-837b-f14c549115f4",
   "metadata": {},
   "source": [
    "---------------------------------\n",
    "Write the Python code for use in a Kubeflow Python notebook with the following operations.\n",
    "\n",
    "Load a csv file called 'credit_default_experiment_data.csv' into a dataframe.\n",
    "\n",
    "Split this data into 20 consecutive dataframes and place these dataframes in a list named 'list_df' with a sequential number as an identifier. \n",
    "\n",
    "---------------------------------"
   ]
  },
  {
   "cell_type": "code",
   "execution_count": 1,
   "id": "2e008b52-12ba-4431-9619-ded695c0ad87",
   "metadata": {},
   "outputs": [],
   "source": [
    "import pandas as pd\n",
    "import os\n",
    "import time\n",
    "import random\n",
    "import openpyxl"
   ]
  },
  {
   "cell_type": "markdown",
   "id": "2619daf2-794e-48e6-8bbf-7121194bc089",
   "metadata": {},
   "source": [
    "#### Suppress Warnings to clean up output"
   ]
  },
  {
   "cell_type": "code",
   "execution_count": 2,
   "id": "d5aa321b-0cbe-4b6e-8f20-b9d45b8995fb",
   "metadata": {},
   "outputs": [],
   "source": [
    "import warnings\n",
    "warnings.simplefilter(action='ignore', category=Warning)"
   ]
  },
  {
   "cell_type": "code",
   "execution_count": 3,
   "id": "8456fa3f-1177-4e29-9160-ba6e86a1ba55",
   "metadata": {},
   "outputs": [],
   "source": [
    "# Step 1: Load the CSV file into a DataFrame\n",
    "df = pd.read_csv('credit_default_experiment_data.csv')  # Replace with the correct path"
   ]
  },
  {
   "cell_type": "code",
   "execution_count": 4,
   "id": "dc3b5733-fb20-4a61-ab3a-3b2db629e456",
   "metadata": {},
   "outputs": [
    {
     "name": "stdout",
     "output_type": "stream",
     "text": [
      "    LIMIT_BAL  SEX  EDUCATION  MARRIAGE  AGE  PAY_0  PAY_2  PAY_3  PAY_4  \\\n",
      "0       20000    2          2         1   24      2      2     -1     -1   \n",
      "9       20000    1          3         2   35     -2     -2     -2     -2   \n",
      "18     360000    2          1         1   49      1     -2     -2     -2   \n",
      "27      50000    2          3         2   30      0      0      0      0   \n",
      "\n",
      "    PAY_5  ...  BILL_AMT4  BILL_AMT5  BILL_AMT6  PAY_AMT1  PAY_AMT2  PAY_AMT3  \\\n",
      "0      -2  ...          0          0          0         0       689         0   \n",
      "9      -1  ...          0      13007      13912         0         0         0   \n",
      "18     -2  ...          0          0          0         0         0         0   \n",
      "27      0  ...      17878      18931      19617      1300      1300      1000   \n",
      "\n",
      "    PAY_AMT4  PAY_AMT5  PAY_AMT6  default  \n",
      "0          0         0         0        1  \n",
      "9      13007      1122         0        0  \n",
      "18         0         0         0        0  \n",
      "27      1500      1000      1012        0  \n",
      "\n",
      "[4 rows x 24 columns]\n"
     ]
    }
   ],
   "source": [
    "# Display starting points in the first four sub dataframes\n",
    "rows_to_display = df.iloc[[0, 9, 18, 27]]\n",
    "print(rows_to_display)"
   ]
  },
  {
   "cell_type": "code",
   "execution_count": 5,
   "id": "81893dd4-f91c-4331-b6de-cbb206093d93",
   "metadata": {},
   "outputs": [],
   "source": [
    "# Step 2: Split the DataFrame into 20 consecutive smaller DataFrames\n",
    "num_splits = 20\n",
    "split_size = len(df) // num_splits\n",
    "list_df = [df.iloc[i * split_size: min((i + 1) * split_size, len(df))] for i in range(num_splits)]"
   ]
  },
  {
   "cell_type": "code",
   "execution_count": 6,
   "id": "0e72bd49-88b5-4902-9d0e-e4ec17d85fec",
   "metadata": {},
   "outputs": [
    {
     "name": "stdout",
     "output_type": "stream",
     "text": [
      "Original DF Length: 199\n",
      "Split Size: 9\n"
     ]
    }
   ],
   "source": [
    "# Print the dimensions of the data split\n",
    "print(f\"Original DF Length: {len(df)}\")\n",
    "print(f\"Split Size: {split_size}\")"
   ]
  },
  {
   "cell_type": "code",
   "execution_count": 7,
   "id": "e5876524-5578-43f1-804f-93a366d254fa",
   "metadata": {},
   "outputs": [],
   "source": [
    "# Step 3: Optionally, if you need a sequential number as an identifier for each DataFrame\n",
    "list_df = {f'df_{i + 1}': list_df[i] for i in range(len(list_df))}"
   ]
  },
  {
   "cell_type": "markdown",
   "id": "9eefaaa4-2738-4eab-bd15-17f83023f517",
   "metadata": {},
   "source": [
    "Now, write additional Python code so that for each dataframe in the list just created carry out the following actions;\n",
    "\n",
    "Check if an XAI results XL spreadsheet called 'XAI_Metrics_Expriments.xls' exists;\n",
    "    \n",
    "\tIf not create an empty XL spreadsheet with the name 'XAI_Metrics_Expriments.xls', and then define a variable called ‘Sample’ with an integer value of 1 and print the value of 'Sample' to output.\n",
    "    \n",
    "\tIf and XL spreadsheet called 'XAI_Metrics_Expriments.xls' does exist, then read the entries in the spreadsheet in the first column named ‘Sample Number’ and create a variable \n",
    "\tin this Python program named ‘Sample’ that is one integer value higher than the highest integer number column named ‘Sample Number’ in the XL, and print this value of 'Sample' to output.\n",
    "\n"
   ]
  },
  {
   "cell_type": "code",
   "execution_count": 8,
   "id": "30354721-6d8c-4077-a63f-b8587d45b446",
   "metadata": {},
   "outputs": [],
   "source": [
    "# File path for the XAI results spreadsheet\n",
    "xai_file_path = 'XAI_Metrics_Experiments.xlsx'  # Replace with the actual path"
   ]
  },
  {
   "cell_type": "code",
   "execution_count": 9,
   "id": "c1c66baf-4a4c-4324-9d24-6b22a94f1f1a",
   "metadata": {},
   "outputs": [],
   "source": [
    "# Function to update or create the spreadsheet and determine the 'Sample' number\n",
    "def update_xai_spreadsheet():\n",
    "    if os.path.exists(xai_file_path):\n",
    "        # Read the existing spreadsheet\n",
    "        xai_df = pd.read_excel(xai_file_path)\n",
    "\n",
    "        # Check if 'Sample Number' column exists and find the next sample number\n",
    "        if 'Sample Number' in xai_df.columns:\n",
    "            sample = xai_df['Sample Number'].max() + 1\n",
    "        else:\n",
    "            sample = 1\n",
    "    else:\n",
    "        # Create an empty spreadsheet\n",
    "        pd.DataFrame().to_excel(xai_file_path, engine='openpyxl')\n",
    "        sample = 1\n",
    "\n",
    "    return sample"
   ]
  },
  {
   "cell_type": "code",
   "execution_count": 10,
   "id": "d78f2ebd-334b-4094-9b7d-4e365a749c3f",
   "metadata": {},
   "outputs": [
    {
     "name": "stdout",
     "output_type": "stream",
     "text": [
      "Sample Number for current DataFrame: 17\n"
     ]
    }
   ],
   "source": [
    "# Process each dataframe in 'list_df'\n",
    "for df in list_df:\n",
    "    # Update or create the spreadsheet and get the 'Sample' number\n",
    "    sample = update_xai_spreadsheet()\n",
    "\n",
    "    # Print the 'Sample' number\n",
    "    print(f\"Sample Number for current DataFrame: {sample}\")\n",
    "    break"
   ]
  },
  {
   "cell_type": "markdown",
   "id": "b7b8a3e2-e0f0-48c1-86dc-d072646cbf6a",
   "metadata": {},
   "source": [
    "---------------------------------\n",
    "\n",
    "\t\n",
    "Now, extend the above by writing additional Python code so that the code reads in the dataframe from 'list df' that corresponds to the integer value in the \n",
    "variable named ‘Sample’. \n",
    "\n",
    "Assign this dataframe the name 'df_Selected_from_List'.\n",
    "\n",
    "\n",
    "----------------------------------"
   ]
  },
  {
   "cell_type": "code",
   "execution_count": 11,
   "id": "13076424-e42a-4864-b53d-007f593927cc",
   "metadata": {},
   "outputs": [],
   "source": [
    "# Function to update or create the spreadsheet and determine the 'Sample' number\n",
    "def update_xai_spreadsheet():\n",
    "    if os.path.exists(xai_file_path):\n",
    "        # Read the existing spreadsheet\n",
    "        xai_df = pd.read_excel(xai_file_path)\n",
    "\n",
    "        # Check if 'Sample Number' column exists and find the next sample number\n",
    "        if 'Sample Number' in xai_df.columns:\n",
    "            sample = xai_df['Sample Number'].max() + 1\n",
    "        else:\n",
    "            sample = 1\n",
    "    else:\n",
    "        # Create an empty spreadsheet\n",
    "        pd.DataFrame().to_excel(xai_file_path, engine='openpyxl')\n",
    "        sample = 1\n",
    "\n",
    "    return sample"
   ]
  },
  {
   "cell_type": "code",
   "execution_count": 12,
   "id": "0ab10201-75f8-4fe1-ad41-bdc2290f7954",
   "metadata": {},
   "outputs": [],
   "source": [
    "# Initialize df_Selected_from_List as None\n",
    "df_Selected_from_List = None"
   ]
  },
  {
   "cell_type": "code",
   "execution_count": 13,
   "id": "96d01c69-3b3c-4a4e-9569-238b4093a177",
   "metadata": {},
   "outputs": [
    {
     "name": "stdout",
     "output_type": "stream",
     "text": [
      "DataFrame selected for Sample Number 17 witk key df_17\n"
     ]
    }
   ],
   "source": [
    "# Process each dataframe in 'list_df'\n",
    "for index, df in enumerate(list_df):\n",
    "    # Update or create the spreadsheet and get the 'Sample' number\n",
    "    sample = update_xai_spreadsheet()\n",
    "    \n",
    "    key = f'df_{sample}'\n",
    "    if key in list_df:\n",
    "        df_Selected_from_List = list_df[key]\n",
    "        print(f\"DataFrame selected for Sample Number {sample} witk key {key}\")\n",
    "        break\n",
    "    else:\n",
    "        print(f\"No DataFrame found for Sample Number {sample}\")   \n",
    "        break"
   ]
  },
  {
   "cell_type": "code",
   "execution_count": 14,
   "id": "b5b75fb3-dac1-4f37-9bf6-60578082ccb5",
   "metadata": {},
   "outputs": [],
   "source": [
    "# If no DataFrame is selected (e.g., if 'Sample' exceeds the number of DataFrames in list_df)\n",
    "if 'df_Selected_from_List' not in locals():\n",
    "    print(\"No DataFrame selected. The 'Sample' number may exceed the number of DataFrames in list_df.\")"
   ]
  },
  {
   "cell_type": "markdown",
   "id": "8f7dc955-f0c6-4a7e-acff-f56e5b5a4f54",
   "metadata": {},
   "source": [
    "----------------------------------\n",
    "\n",
    "Now, extend the above by writing additional Python code to create a function called Calc_XAI_Comp_Time() that generates a random time wait. \n",
    "\n",
    "Use Python code to measure the time taken to run the ‘Calc_XAI_Comp_Time()’ function and calculate time required and store as variable ‘XAI_Time_Metric_5’.\n",
    "\n",
    "Create a ‘Calc_XAI_ Metric_One()’ Python function to generate a number between 0.01 and 0.99. Invoke function and stored returned result as ‘XAI_Ident_Metric_1’ variable.\n",
    "\n",
    "\n",
    "\n",
    "----------------------------------"
   ]
  },
  {
   "cell_type": "code",
   "execution_count": 15,
   "id": "dadb1e3d-61aa-448e-af58-ef8a68ee1aa4",
   "metadata": {},
   "outputs": [],
   "source": [
    "def Calc_XAI_Comp_Time():\n",
    "    # Simulate computation time with a random wait\n",
    "    time_wait = random.uniform(0.5, 5.0)  # Random wait between 0.5 and 5 seconds\n",
    "    time.sleep(time_wait)\n",
    "    return time_wait"
   ]
  },
  {
   "cell_type": "code",
   "execution_count": 16,
   "id": "2fef9de3-8a97-4f2e-a937-2f1cff0a7809",
   "metadata": {},
   "outputs": [],
   "source": [
    "def Calc_XAI_Metric_One():\n",
    "    # Generate a random number between 0.01 and 0.99\n",
    "    return random.uniform(0.01, 0.99)"
   ]
  },
  {
   "cell_type": "code",
   "execution_count": 17,
   "id": "5b4bf27b-d5af-4bb5-855e-edbe0b7ce3d7",
   "metadata": {},
   "outputs": [],
   "source": [
    "# Measure the time taken by Calc_XAI_Comp_Time()\n",
    "start_time = time.time()\n",
    "Calc_XAI_Comp_Time()\n",
    "end_time = time.time()\n",
    "XAI_Time_Metric_5 = end_time - start_time"
   ]
  },
  {
   "cell_type": "code",
   "execution_count": 18,
   "id": "f760c6e9-4108-4481-bed5-a0edc0066a1b",
   "metadata": {},
   "outputs": [
    {
     "name": "stdout",
     "output_type": "stream",
     "text": [
      "XAI Time Metric 5: 3.0917413234710693 seconds\n",
      "XAI Ident Metric 1: 0.04748505553692491\n"
     ]
    }
   ],
   "source": [
    "# Generate a number using Calc_XAI_Metric_One()\n",
    "XAI_Ident_Metric_1 = Calc_XAI_Metric_One()\n",
    "\n",
    "# Print the results\n",
    "print(f\"XAI Time Metric 5: {XAI_Time_Metric_5} seconds\")\n",
    "print(f\"XAI Ident Metric 1: {XAI_Ident_Metric_1}\")"
   ]
  },
  {
   "cell_type": "markdown",
   "id": "b1760516-5f46-4366-af82-c57234e05b5c",
   "metadata": {},
   "source": [
    "----------------------------------\n",
    "\n",
    "Now, extend the above by writing additional Python code to Append a row into the XL spreadsheet 'XAI_Metrics_Expriments.xls' with a column named 'Sample Number' as the first column with the value of the variable named 'Sample', \n",
    "a second column named 'XAI_Identity' with the value in the variable ‘XAI_Ident_Metric_1’, \n",
    "a third column named 'Comp_Efficiency' with the value in the variable variable ‘XAI_Time_Metric_5’,\n",
    "and three other columns that contain the first three columns in the first row of the 'df_Selected_from_List' dataframe.\n",
    "\n",
    "----------------------------------"
   ]
  },
  {
   "cell_type": "code",
   "execution_count": 19,
   "id": "44029d5a-55f6-4965-97bf-6dfab3f70ee9",
   "metadata": {},
   "outputs": [],
   "source": [
    "def append_to_excel(file_path, sample, xai_identity, comp_efficiency, df_row):\n",
    "    # Check if the file exists and read it; if not, create a new DataFrame\n",
    "    if os.path.exists(file_path):\n",
    "        existing_data = pd.read_excel(file_path, engine='openpyxl')\n",
    "    else:\n",
    "        existing_data = pd.DataFrame()\n",
    "\n",
    "    # Prepare the new row to be appended\n",
    "    new_row = {\n",
    "        'Sample Number': sample,\n",
    "        'XAI_Identity': xai_identity,\n",
    "        'Comp_Efficiency': comp_efficiency\n",
    "    }\n",
    "\n",
    "    # Add data from the first row of df_Selected_from_List\n",
    "    for col in df_row.index[:3]:  # Taking the first three columns\n",
    "        new_row[col] = df_row[col]\n",
    "\n",
    "    # Append the new row to the existing DataFrame\n",
    "    updated_data = existing_data.append(new_row, ignore_index=True)\n",
    "\n",
    "    # Write the updated DataFrame back to the Excel file\n",
    "    updated_data.to_excel(file_path, index=False, engine='openpyxl')"
   ]
  },
  {
   "cell_type": "code",
   "execution_count": 20,
   "id": "7cc71d3a-0a90-4684-9af9-f84f9b52379b",
   "metadata": {},
   "outputs": [],
   "source": [
    "# Example usage\n",
    "#file_path = '/path/to/XAI_Metrics_Experiments.xlsx'  # Replace with the actual path\n",
    "#xai_file_path = 'XAI_Metrics_Experiments.xlsx'  # Replace with the actual path\n",
    "#sample = # The value of 'Sample' from previous steps\n",
    "xai_identity = XAI_Ident_Metric_1  # The value from Calc_XAI_Metric_One()\n",
    "comp_efficiency = XAI_Time_Metric_5  # The time metric from Calc_XAI_Comp_Time()"
   ]
  },
  {
   "cell_type": "code",
   "execution_count": 21,
   "id": "13e0e586-5896-4e0b-bf54-f602087c009a",
   "metadata": {},
   "outputs": [
    {
     "name": "stdout",
     "output_type": "stream",
     "text": [
      "<class 'pandas.core.frame.DataFrame'>\n"
     ]
    }
   ],
   "source": [
    "print(type(df_Selected_from_List))"
   ]
  },
  {
   "cell_type": "code",
   "execution_count": 22,
   "id": "4fffef70-604f-43db-bb0c-f05bc8aa0f72",
   "metadata": {},
   "outputs": [],
   "source": [
    "# Now, df_Selected_from_List should be a DataFrame. If a DataFrame was found, proceed with the next operations\n",
    "if df_Selected_from_List is not None:\n",
    "    # Extract the first row from df_Selected_from_List\n",
    "    first_row_of_selected_df = df_Selected_from_List.iloc[0]\n",
    "    # Append the data to the Excel file\n",
    "    append_to_excel(xai_file_path, sample, xai_identity, comp_efficiency, first_row_of_selected_df)\n",
    "else:\n",
    "    print(\"DataFrame not selected or does not exist.\")"
   ]
  },
  {
   "cell_type": "code",
   "execution_count": null,
   "id": "be4c526d-f206-4634-a15a-23a71811ab56",
   "metadata": {},
   "outputs": [],
   "source": []
  }
 ],
 "metadata": {
  "kernelspec": {
   "display_name": "Python 3",
   "language": "python",
   "name": "python3"
  },
  "language_info": {
   "codemirror_mode": {
    "name": "ipython",
    "version": 3
   },
   "file_extension": ".py",
   "mimetype": "text/x-python",
   "name": "python",
   "nbconvert_exporter": "python",
   "pygments_lexer": "ipython3",
   "version": "3.8.10"
  }
 },
 "nbformat": 4,
 "nbformat_minor": 5
}
