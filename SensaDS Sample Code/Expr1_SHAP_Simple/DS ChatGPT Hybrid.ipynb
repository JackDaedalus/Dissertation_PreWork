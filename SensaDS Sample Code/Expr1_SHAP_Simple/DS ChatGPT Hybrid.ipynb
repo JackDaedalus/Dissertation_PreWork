{
 "cells": [
  {
   "cell_type": "markdown",
   "id": "6ca4a0ab-9ee0-4aca-ad73-0d6ed0f77dd4",
   "metadata": {},
   "source": [
    "# Disseration Experiment 2 \n",
    "# Metrics to Measure SHAP Values\n",
    "Ciaran Finnegan August 2023"
   ]
  },
  {
   "cell_type": "code",
   "execution_count": 1,
   "id": "e24ee720-adba-4d8a-8dfc-a142ca634051",
   "metadata": {},
   "outputs": [],
   "source": [
    "# Import libs\n",
    "import numpy as np\n",
    "import pandas as pd\n",
    "import xgboost as xgb\n",
    "import lightgbm as lgb\n",
    "from sklearn.ensemble import RandomForestRegressor,RandomForestClassifier\n",
    "import shap\n",
    "import random\n",
    "\n",
    "from sklearn.preprocessing import LabelEncoder\n",
    "import warnings\n",
    "import sklearn.metrics\n",
    "from sklearn.metrics import classification_report\n",
    "from sklearn.metrics import confusion_matrix\n",
    "\n",
    "# Classifier training (not used for explainability)\n",
    "from sklearn.model_selection import train_test_split\n",
    "\n",
    "\n"
   ]
  },
  {
   "cell_type": "markdown",
   "id": "276e5e63-128d-4c85-b1f6-977bc9fdc15d",
   "metadata": {},
   "source": [
    "## Import Data"
   ]
  },
  {
   "cell_type": "code",
   "execution_count": 2,
   "id": "6b5bb94e-0547-4b5f-b447-7b01bce71a34",
   "metadata": {},
   "outputs": [
    {
     "data": {
      "text/html": [
       "<div>\n",
       "<style scoped>\n",
       "    .dataframe tbody tr th:only-of-type {\n",
       "        vertical-align: middle;\n",
       "    }\n",
       "\n",
       "    .dataframe tbody tr th {\n",
       "        vertical-align: top;\n",
       "    }\n",
       "\n",
       "    .dataframe thead th {\n",
       "        text-align: right;\n",
       "    }\n",
       "</style>\n",
       "<table border=\"1\" class=\"dataframe\">\n",
       "  <thead>\n",
       "    <tr style=\"text-align: right;\">\n",
       "      <th></th>\n",
       "      <th>LIMIT_BAL</th>\n",
       "      <th>SEX</th>\n",
       "      <th>EDUCATION</th>\n",
       "      <th>MARRIAGE</th>\n",
       "      <th>AGE</th>\n",
       "      <th>PAY_0</th>\n",
       "      <th>PAY_2</th>\n",
       "      <th>PAY_3</th>\n",
       "      <th>PAY_4</th>\n",
       "      <th>PAY_5</th>\n",
       "      <th>...</th>\n",
       "      <th>BILL_AMT4</th>\n",
       "      <th>BILL_AMT5</th>\n",
       "      <th>BILL_AMT6</th>\n",
       "      <th>PAY_AMT1</th>\n",
       "      <th>PAY_AMT2</th>\n",
       "      <th>PAY_AMT3</th>\n",
       "      <th>PAY_AMT4</th>\n",
       "      <th>PAY_AMT5</th>\n",
       "      <th>PAY_AMT6</th>\n",
       "      <th>default</th>\n",
       "    </tr>\n",
       "  </thead>\n",
       "  <tbody>\n",
       "    <tr>\n",
       "      <th>0</th>\n",
       "      <td>20000</td>\n",
       "      <td>2</td>\n",
       "      <td>2</td>\n",
       "      <td>1</td>\n",
       "      <td>24</td>\n",
       "      <td>2</td>\n",
       "      <td>2</td>\n",
       "      <td>-1</td>\n",
       "      <td>-1</td>\n",
       "      <td>-2</td>\n",
       "      <td>...</td>\n",
       "      <td>0</td>\n",
       "      <td>0</td>\n",
       "      <td>0</td>\n",
       "      <td>0</td>\n",
       "      <td>689</td>\n",
       "      <td>0</td>\n",
       "      <td>0</td>\n",
       "      <td>0</td>\n",
       "      <td>0</td>\n",
       "      <td>1</td>\n",
       "    </tr>\n",
       "    <tr>\n",
       "      <th>1</th>\n",
       "      <td>120000</td>\n",
       "      <td>2</td>\n",
       "      <td>2</td>\n",
       "      <td>2</td>\n",
       "      <td>26</td>\n",
       "      <td>-1</td>\n",
       "      <td>2</td>\n",
       "      <td>0</td>\n",
       "      <td>0</td>\n",
       "      <td>0</td>\n",
       "      <td>...</td>\n",
       "      <td>3272</td>\n",
       "      <td>3455</td>\n",
       "      <td>3261</td>\n",
       "      <td>0</td>\n",
       "      <td>1000</td>\n",
       "      <td>1000</td>\n",
       "      <td>1000</td>\n",
       "      <td>0</td>\n",
       "      <td>2000</td>\n",
       "      <td>1</td>\n",
       "    </tr>\n",
       "    <tr>\n",
       "      <th>2</th>\n",
       "      <td>90000</td>\n",
       "      <td>2</td>\n",
       "      <td>2</td>\n",
       "      <td>2</td>\n",
       "      <td>34</td>\n",
       "      <td>0</td>\n",
       "      <td>0</td>\n",
       "      <td>0</td>\n",
       "      <td>0</td>\n",
       "      <td>0</td>\n",
       "      <td>...</td>\n",
       "      <td>14331</td>\n",
       "      <td>14948</td>\n",
       "      <td>15549</td>\n",
       "      <td>1518</td>\n",
       "      <td>1500</td>\n",
       "      <td>1000</td>\n",
       "      <td>1000</td>\n",
       "      <td>1000</td>\n",
       "      <td>5000</td>\n",
       "      <td>0</td>\n",
       "    </tr>\n",
       "    <tr>\n",
       "      <th>3</th>\n",
       "      <td>50000</td>\n",
       "      <td>2</td>\n",
       "      <td>2</td>\n",
       "      <td>1</td>\n",
       "      <td>37</td>\n",
       "      <td>0</td>\n",
       "      <td>0</td>\n",
       "      <td>0</td>\n",
       "      <td>0</td>\n",
       "      <td>0</td>\n",
       "      <td>...</td>\n",
       "      <td>28314</td>\n",
       "      <td>28959</td>\n",
       "      <td>29547</td>\n",
       "      <td>2000</td>\n",
       "      <td>2019</td>\n",
       "      <td>1200</td>\n",
       "      <td>1100</td>\n",
       "      <td>1069</td>\n",
       "      <td>1000</td>\n",
       "      <td>0</td>\n",
       "    </tr>\n",
       "    <tr>\n",
       "      <th>4</th>\n",
       "      <td>50000</td>\n",
       "      <td>1</td>\n",
       "      <td>2</td>\n",
       "      <td>1</td>\n",
       "      <td>57</td>\n",
       "      <td>-1</td>\n",
       "      <td>0</td>\n",
       "      <td>-1</td>\n",
       "      <td>0</td>\n",
       "      <td>0</td>\n",
       "      <td>...</td>\n",
       "      <td>20940</td>\n",
       "      <td>19146</td>\n",
       "      <td>19131</td>\n",
       "      <td>2000</td>\n",
       "      <td>36681</td>\n",
       "      <td>10000</td>\n",
       "      <td>9000</td>\n",
       "      <td>689</td>\n",
       "      <td>679</td>\n",
       "      <td>0</td>\n",
       "    </tr>\n",
       "  </tbody>\n",
       "</table>\n",
       "<p>5 rows × 24 columns</p>\n",
       "</div>"
      ],
      "text/plain": [
       "   LIMIT_BAL  SEX  EDUCATION  MARRIAGE  AGE  PAY_0  PAY_2  PAY_3  PAY_4  \\\n",
       "0      20000    2          2         1   24      2      2     -1     -1   \n",
       "1     120000    2          2         2   26     -1      2      0      0   \n",
       "2      90000    2          2         2   34      0      0      0      0   \n",
       "3      50000    2          2         1   37      0      0      0      0   \n",
       "4      50000    1          2         1   57     -1      0     -1      0   \n",
       "\n",
       "   PAY_5  ...  BILL_AMT4  BILL_AMT5  BILL_AMT6  PAY_AMT1  PAY_AMT2  PAY_AMT3  \\\n",
       "0     -2  ...          0          0          0         0       689         0   \n",
       "1      0  ...       3272       3455       3261         0      1000      1000   \n",
       "2      0  ...      14331      14948      15549      1518      1500      1000   \n",
       "3      0  ...      28314      28959      29547      2000      2019      1200   \n",
       "4      0  ...      20940      19146      19131      2000     36681     10000   \n",
       "\n",
       "   PAY_AMT4  PAY_AMT5  PAY_AMT6  default  \n",
       "0         0         0         0        1  \n",
       "1      1000         0      2000        1  \n",
       "2      1000      1000      5000        0  \n",
       "3      1100      1069      1000        0  \n",
       "4      9000       689       679        0  \n",
       "\n",
       "[5 rows x 24 columns]"
      ]
     },
     "execution_count": 2,
     "metadata": {},
     "output_type": "execute_result"
    }
   ],
   "source": [
    "df = pd.read_csv('credit_default_data.csv')\n",
    "df.head()"
   ]
  },
  {
   "cell_type": "markdown",
   "id": "d9fee190-1c0f-44af-91d4-7c07a26eafbb",
   "metadata": {},
   "source": [
    "### Basic Feature Engineering"
   ]
  },
  {
   "cell_type": "code",
   "execution_count": 3,
   "id": "408bab93-0fcb-4d32-8551-1f4e551eafe4",
   "metadata": {},
   "outputs": [],
   "source": [
    "# List of categorical columns\n",
    "cat_cols = ['SEX', 'EDUCATION', 'MARRIAGE', 'PAY_0', 'PAY_2', 'PAY_3', 'PAY_4', 'PAY_5', 'PAY_6']\n",
    "\n",
    "# Adjust cat columns to range from 0\n",
    "df[cat_cols] = df[cat_cols] = df[cat_cols].apply(LabelEncoder().fit_transform)"
   ]
  },
  {
   "cell_type": "code",
   "execution_count": 4,
   "id": "006b130e-bdb0-41a5-9780-f504dabebbf5",
   "metadata": {},
   "outputs": [],
   "source": [
    "X = df.drop(columns=['default'])\n",
    "y = df['default']"
   ]
  },
  {
   "cell_type": "code",
   "execution_count": 5,
   "id": "fa582f01-3124-47f0-89a9-cfc3aacb451f",
   "metadata": {},
   "outputs": [],
   "source": [
    "# Set categorical columns to type category\n",
    "for c in cat_cols:\n",
    "    X[c] = X[c].astype('category')"
   ]
  },
  {
   "cell_type": "code",
   "execution_count": 6,
   "id": "4c7db2cf-26c2-4922-aaa2-ad71e6cd9f03",
   "metadata": {},
   "outputs": [],
   "source": [
    "# Convert column names to a list\n",
    "feature_names = X.columns.tolist()"
   ]
  },
  {
   "cell_type": "markdown",
   "id": "d3a9949e-1a3b-4d5d-bd50-a1dd10393d0b",
   "metadata": {},
   "source": [
    "### Split Data into Test/Training Datasets"
   ]
  },
  {
   "cell_type": "code",
   "execution_count": 7,
   "id": "5f7fb38e-3312-40da-863f-6b925073a417",
   "metadata": {},
   "outputs": [],
   "source": [
    "# Split into inference and training splits\n",
    "X_train, X_inf, y_train, y_inf = train_test_split(X, y, test_size=0.25, random_state=123)\n",
    "\n",
    "# Split Train into train test\n",
    "X_train, X_test, y_train, y_test = train_test_split(X_train, y_train, test_size=0.25, random_state=123)"
   ]
  },
  {
   "cell_type": "code",
   "execution_count": 8,
   "id": "b4c6a28f-0923-4d8b-a249-19b194e5d743",
   "metadata": {},
   "outputs": [],
   "source": [
    "X_train = X_train.reset_index(drop=True)\n",
    "X_test= X_test.reset_index(drop=True)\n",
    "X_inf = X_inf.reset_index(drop=True)\n",
    "\n",
    "y_train = y_train.reset_index(drop=True)\n",
    "y_test= y_test.reset_index(drop=True)\n",
    "y_inf = y_inf.reset_index(drop=True)"
   ]
  },
  {
   "cell_type": "markdown",
   "id": "5b9f3d35-9f07-4200-91e5-17aebb95dfc2",
   "metadata": {},
   "source": [
    "### Basic Additional Data Exploration (Training Data)"
   ]
  },
  {
   "cell_type": "code",
   "execution_count": 9,
   "id": "1e493468-e8eb-460a-9c88-3a8153f9702e",
   "metadata": {},
   "outputs": [
    {
     "name": "stdout",
     "output_type": "stream",
     "text": [
      "Number of Features: 23\n",
      "Number Continuous Features: 14\n",
      "Number Categorical Features: 9\n",
      "Number Train Examples: 16875\n",
      "Number Positive Train Examples: 3741\n",
      "Number Negative Train Examples: 13134\n"
     ]
    }
   ],
   "source": [
    "# Train model Stats\n",
    "\n",
    "print(\"Number of Features:\", X_train.shape[1])\n",
    "print(\"Number Continuous Features:\", X_train.shape[1] - len(cat_cols))\n",
    "print(\"Number Categorical Features:\", len(cat_cols))\n",
    "print(\"Number Train Examples:\", X_train.shape[0])\n",
    "print(\"Number Positive Train Examples:\", (y_train == 1).sum())\n",
    "print(\"Number Negative Train Examples:\", (y_train == 0).sum())"
   ]
  },
  {
   "cell_type": "markdown",
   "id": "54d8bc2a-7ad7-497d-abce-5956142359d8",
   "metadata": {},
   "source": [
    "## Train Model"
   ]
  },
  {
   "cell_type": "code",
   "execution_count": 10,
   "id": "e3004840-a535-43ec-a30b-c17fb7a93535",
   "metadata": {},
   "outputs": [
    {
     "data": {
      "text/html": [
       "<style>#sk-container-id-1 {color: black;background-color: white;}#sk-container-id-1 pre{padding: 0;}#sk-container-id-1 div.sk-toggleable {background-color: white;}#sk-container-id-1 label.sk-toggleable__label {cursor: pointer;display: block;width: 100%;margin-bottom: 0;padding: 0.3em;box-sizing: border-box;text-align: center;}#sk-container-id-1 label.sk-toggleable__label-arrow:before {content: \"▸\";float: left;margin-right: 0.25em;color: #696969;}#sk-container-id-1 label.sk-toggleable__label-arrow:hover:before {color: black;}#sk-container-id-1 div.sk-estimator:hover label.sk-toggleable__label-arrow:before {color: black;}#sk-container-id-1 div.sk-toggleable__content {max-height: 0;max-width: 0;overflow: hidden;text-align: left;background-color: #f0f8ff;}#sk-container-id-1 div.sk-toggleable__content pre {margin: 0.2em;color: black;border-radius: 0.25em;background-color: #f0f8ff;}#sk-container-id-1 input.sk-toggleable__control:checked~div.sk-toggleable__content {max-height: 200px;max-width: 100%;overflow: auto;}#sk-container-id-1 input.sk-toggleable__control:checked~label.sk-toggleable__label-arrow:before {content: \"▾\";}#sk-container-id-1 div.sk-estimator input.sk-toggleable__control:checked~label.sk-toggleable__label {background-color: #d4ebff;}#sk-container-id-1 div.sk-label input.sk-toggleable__control:checked~label.sk-toggleable__label {background-color: #d4ebff;}#sk-container-id-1 input.sk-hidden--visually {border: 0;clip: rect(1px 1px 1px 1px);clip: rect(1px, 1px, 1px, 1px);height: 1px;margin: -1px;overflow: hidden;padding: 0;position: absolute;width: 1px;}#sk-container-id-1 div.sk-estimator {font-family: monospace;background-color: #f0f8ff;border: 1px dotted black;border-radius: 0.25em;box-sizing: border-box;margin-bottom: 0.5em;}#sk-container-id-1 div.sk-estimator:hover {background-color: #d4ebff;}#sk-container-id-1 div.sk-parallel-item::after {content: \"\";width: 100%;border-bottom: 1px solid gray;flex-grow: 1;}#sk-container-id-1 div.sk-label:hover label.sk-toggleable__label {background-color: #d4ebff;}#sk-container-id-1 div.sk-serial::before {content: \"\";position: absolute;border-left: 1px solid gray;box-sizing: border-box;top: 0;bottom: 0;left: 50%;z-index: 0;}#sk-container-id-1 div.sk-serial {display: flex;flex-direction: column;align-items: center;background-color: white;padding-right: 0.2em;padding-left: 0.2em;position: relative;}#sk-container-id-1 div.sk-item {position: relative;z-index: 1;}#sk-container-id-1 div.sk-parallel {display: flex;align-items: stretch;justify-content: center;background-color: white;position: relative;}#sk-container-id-1 div.sk-item::before, #sk-container-id-1 div.sk-parallel-item::before {content: \"\";position: absolute;border-left: 1px solid gray;box-sizing: border-box;top: 0;bottom: 0;left: 50%;z-index: -1;}#sk-container-id-1 div.sk-parallel-item {display: flex;flex-direction: column;z-index: 1;position: relative;background-color: white;}#sk-container-id-1 div.sk-parallel-item:first-child::after {align-self: flex-end;width: 50%;}#sk-container-id-1 div.sk-parallel-item:last-child::after {align-self: flex-start;width: 50%;}#sk-container-id-1 div.sk-parallel-item:only-child::after {width: 0;}#sk-container-id-1 div.sk-dashed-wrapped {border: 1px dashed gray;margin: 0 0.4em 0.5em 0.4em;box-sizing: border-box;padding-bottom: 0.4em;background-color: white;}#sk-container-id-1 div.sk-label label {font-family: monospace;font-weight: bold;display: inline-block;line-height: 1.2em;}#sk-container-id-1 div.sk-label-container {text-align: center;}#sk-container-id-1 div.sk-container {/* jupyter's `normalize.less` sets `[hidden] { display: none; }` but bootstrap.min.css set `[hidden] { display: none !important; }` so we also need the `!important` here to be able to override the default hidden behavior on the sphinx rendered scikit-learn.org. See: https://github.com/scikit-learn/scikit-learn/issues/21755 */display: inline-block !important;position: relative;}#sk-container-id-1 div.sk-text-repr-fallback {display: none;}</style><div id=\"sk-container-id-1\" class=\"sk-top-container\"><div class=\"sk-text-repr-fallback\"><pre>LGBMClassifier()</pre><b>In a Jupyter environment, please rerun this cell to show the HTML representation or trust the notebook. <br />On GitHub, the HTML representation is unable to render, please try loading this page with nbviewer.org.</b></div><div class=\"sk-container\" hidden><div class=\"sk-item\"><div class=\"sk-estimator sk-toggleable\"><input class=\"sk-toggleable__control sk-hidden--visually\" id=\"sk-estimator-id-1\" type=\"checkbox\" checked><label for=\"sk-estimator-id-1\" class=\"sk-toggleable__label sk-toggleable__label-arrow\">LGBMClassifier</label><div class=\"sk-toggleable__content\"><pre>LGBMClassifier()</pre></div></div></div></div></div>"
      ],
      "text/plain": [
       "LGBMClassifier()"
      ]
     },
     "execution_count": 10,
     "metadata": {},
     "output_type": "execute_result"
    }
   ],
   "source": [
    "# 3. Train an LGBMClassifier\n",
    "model = lgb.LGBMClassifier()\n",
    "model.fit(X_train, y_train)\n",
    "\n",
    "\n",
    "#model = RandomForestClassifier()\n",
    "#model.fit(X_train, y_train)  "
   ]
  },
  {
   "cell_type": "markdown",
   "id": "abd65467-5299-43f9-a9ae-c167e837d3dc",
   "metadata": {},
   "source": [
    "## Compute SHAP Values"
   ]
  },
  {
   "cell_type": "markdown",
   "id": "0e4f96b9-cd4a-4ebc-9204-10baab807a36",
   "metadata": {},
   "source": [
    "### Full Dataset"
   ]
  },
  {
   "cell_type": "code",
   "execution_count": 11,
   "id": "5a8fb89d-5a27-4ed5-82ff-237dd8970f2c",
   "metadata": {},
   "outputs": [
    {
     "name": "stderr",
     "output_type": "stream",
     "text": [
      "LightGBM binary classifier with TreeExplainer shap values output has changed to a list of ndarray\n"
     ]
    }
   ],
   "source": [
    "# 4. Compute SHAP values\n",
    "explainer = shap.Explainer(model)\n",
    "shap_values = explainer.shap_values(X_test)"
   ]
  },
  {
   "cell_type": "code",
   "execution_count": 12,
   "id": "6e437880-6707-47b0-aefc-717e1812317c",
   "metadata": {},
   "outputs": [],
   "source": [
    "# 5. Display in tabular format\n",
    "df_X_test = pd.DataFrame(X_test, columns=feature_names)\n",
    "df_shap = pd.DataFrame(shap_values[1], columns=[f\"{name}_SHAP\" for name in feature_names])  # Index 1 for positive class\n",
    "predictions = model.predict(X_test)\n",
    "df_X_test['Prediction'] = predictions"
   ]
  },
  {
   "cell_type": "code",
   "execution_count": 13,
   "id": "e21b34a1-719f-4997-88a9-e10c49e2e7f0",
   "metadata": {},
   "outputs": [],
   "source": [
    "# Combining feature values, SHAP values, and predictions into one DataFrame\n",
    "result = pd.concat([df_X_test, df_shap], axis=1)"
   ]
  },
  {
   "cell_type": "code",
   "execution_count": 14,
   "id": "031269a5-cf00-434d-82d7-f58f83bdfd2e",
   "metadata": {},
   "outputs": [
    {
     "name": "stdout",
     "output_type": "stream",
     "text": [
      "   LIMIT_BAL SEX EDUCATION MARRIAGE  AGE PAY_0 PAY_2 PAY_3 PAY_4 PAY_5  ...  \\\n",
      "0      50000   0         1        2   24     2     2     2     2     2  ...   \n",
      "1     120000   1         3        2   26     1     1     1     1     1  ...   \n",
      "2     340000   0         1        1   53     1     1     1     0     0  ...   \n",
      "3      50000   0         1        2   28     2     2     2     2     2  ...   \n",
      "4     150000   0         2        1   31     4     4     2     2     2  ...   \n",
      "\n",
      "  BILL_AMT3_SHAP  BILL_AMT4_SHAP  BILL_AMT5_SHAP  BILL_AMT6_SHAP  \\\n",
      "0      -0.018087       -0.011665       -0.001804       -0.028289   \n",
      "1      -0.024824        0.011808       -0.011015       -0.020239   \n",
      "2      -0.070267        0.075647       -0.004757        0.010282   \n",
      "3      -0.036549        0.005163        0.027942       -0.030055   \n",
      "4       0.058568       -0.000523        0.005793        0.059847   \n",
      "\n",
      "   PAY_AMT1_SHAP  PAY_AMT2_SHAP  PAY_AMT3_SHAP  PAY_AMT4_SHAP  PAY_AMT5_SHAP  \\\n",
      "0       0.027474      -0.036818       0.050181       0.070905      -0.011546   \n",
      "1       0.101202       0.210066       0.134248       0.048964       0.009563   \n",
      "2      -0.163107       0.223197      -0.048117       0.042324      -0.000053   \n",
      "3       0.133481       0.260455      -0.009850       0.071116      -0.004501   \n",
      "4       0.046471      -0.065972      -0.011417      -0.153910       0.065491   \n",
      "\n",
      "   PAY_AMT6_SHAP  \n",
      "0       0.051102  \n",
      "1       0.008608  \n",
      "2       0.076741  \n",
      "3      -0.002780  \n",
      "4       0.027727  \n",
      "\n",
      "[5 rows x 47 columns]\n"
     ]
    }
   ],
   "source": [
    "# Display the table (for demonstration purposes, show only the first 5 instances)\n",
    "print(result.head())"
   ]
  },
  {
   "cell_type": "code",
   "execution_count": null,
   "id": "a4987e43-80da-46d7-9c58-5762fbacbff6",
   "metadata": {},
   "outputs": [],
   "source": []
  },
  {
   "cell_type": "markdown",
   "id": "38f6a4d8-d5b3-4bde-9918-b975ab5e22c6",
   "metadata": {},
   "source": [
    "### Take a single observation in the test set "
   ]
  },
  {
   "cell_type": "code",
   "execution_count": 15,
   "id": "fd4a2036-543e-4f2a-bd04-1bf041dab2e6",
   "metadata": {},
   "outputs": [],
   "source": [
    "def single_observation_summary(sample,model,Y_test,explainer):\n",
    "    rand = random.randrange(len(sample)) \n",
    "    single_record = sample.iloc[[rand]]\n",
    "    label = Y_test.loc[single_record.index]\n",
    "    score = model.predict_proba(single_record)[:,1]\n",
    "    shap_values = explainer.shap_values(single_record)\n",
    "    return single_record,label,score,shap_values"
   ]
  },
  {
   "cell_type": "code",
   "execution_count": 16,
   "id": "5f031afe-0a91-4477-b2ef-06b40d88bcc4",
   "metadata": {},
   "outputs": [
    {
     "name": "stderr",
     "output_type": "stream",
     "text": [
      "LightGBM binary classifier with TreeExplainer shap values output has changed to a list of ndarray\n"
     ]
    }
   ],
   "source": [
    "df_sample,sample_label,sample_score,shap_values = single_observation_summary(X_test,model,y_test,explainer)"
   ]
  },
  {
   "cell_type": "code",
   "execution_count": 17,
   "id": "e37d05ec-2f5e-4e4f-a7dd-0492f499c3bd",
   "metadata": {},
   "outputs": [
    {
     "data": {
      "text/html": [
       "<div>\n",
       "<style scoped>\n",
       "    .dataframe tbody tr th:only-of-type {\n",
       "        vertical-align: middle;\n",
       "    }\n",
       "\n",
       "    .dataframe tbody tr th {\n",
       "        vertical-align: top;\n",
       "    }\n",
       "\n",
       "    .dataframe thead th {\n",
       "        text-align: right;\n",
       "    }\n",
       "</style>\n",
       "<table border=\"1\" class=\"dataframe\">\n",
       "  <thead>\n",
       "    <tr style=\"text-align: right;\">\n",
       "      <th></th>\n",
       "      <th>LIMIT_BAL</th>\n",
       "      <th>SEX</th>\n",
       "      <th>EDUCATION</th>\n",
       "      <th>MARRIAGE</th>\n",
       "      <th>AGE</th>\n",
       "      <th>PAY_0</th>\n",
       "      <th>PAY_2</th>\n",
       "      <th>PAY_3</th>\n",
       "      <th>PAY_4</th>\n",
       "      <th>PAY_5</th>\n",
       "      <th>...</th>\n",
       "      <th>BILL_AMT3</th>\n",
       "      <th>BILL_AMT4</th>\n",
       "      <th>BILL_AMT5</th>\n",
       "      <th>BILL_AMT6</th>\n",
       "      <th>PAY_AMT1</th>\n",
       "      <th>PAY_AMT2</th>\n",
       "      <th>PAY_AMT3</th>\n",
       "      <th>PAY_AMT4</th>\n",
       "      <th>PAY_AMT5</th>\n",
       "      <th>PAY_AMT6</th>\n",
       "    </tr>\n",
       "  </thead>\n",
       "  <tbody>\n",
       "    <tr>\n",
       "      <th>361</th>\n",
       "      <td>60000</td>\n",
       "      <td>1</td>\n",
       "      <td>1</td>\n",
       "      <td>1</td>\n",
       "      <td>45</td>\n",
       "      <td>3</td>\n",
       "      <td>4</td>\n",
       "      <td>2</td>\n",
       "      <td>2</td>\n",
       "      <td>3</td>\n",
       "      <td>...</td>\n",
       "      <td>58322</td>\n",
       "      <td>59781</td>\n",
       "      <td>8177</td>\n",
       "      <td>7757</td>\n",
       "      <td>0</td>\n",
       "      <td>3000</td>\n",
       "      <td>3100</td>\n",
       "      <td>0</td>\n",
       "      <td>1000</td>\n",
       "      <td>500</td>\n",
       "    </tr>\n",
       "  </tbody>\n",
       "</table>\n",
       "<p>1 rows × 23 columns</p>\n",
       "</div>"
      ],
      "text/plain": [
       "     LIMIT_BAL SEX EDUCATION MARRIAGE  AGE PAY_0 PAY_2 PAY_3 PAY_4 PAY_5  ...  \\\n",
       "361      60000   1         1        1   45     3     4     2     2     3  ...   \n",
       "\n",
       "    BILL_AMT3  BILL_AMT4  BILL_AMT5  BILL_AMT6  PAY_AMT1  PAY_AMT2  PAY_AMT3  \\\n",
       "361     58322      59781       8177       7757         0      3000      3100   \n",
       "\n",
       "     PAY_AMT4  PAY_AMT5  PAY_AMT6  \n",
       "361         0      1000       500  \n",
       "\n",
       "[1 rows x 23 columns]"
      ]
     },
     "execution_count": 17,
     "metadata": {},
     "output_type": "execute_result"
    }
   ],
   "source": [
    "df_sample"
   ]
  },
  {
   "cell_type": "code",
   "execution_count": 18,
   "id": "1b98268d-895b-4497-b190-dd10e0b18c0d",
   "metadata": {},
   "outputs": [
    {
     "data": {
      "text/plain": [
       "(361    1\n",
       " Name: default, dtype: int64,\n",
       " array([0.33398539]))"
      ]
     },
     "execution_count": 18,
     "metadata": {},
     "output_type": "execute_result"
    }
   ],
   "source": [
    "sample_label, sample_score"
   ]
  },
  {
   "cell_type": "code",
   "execution_count": 19,
   "id": "dd03b80d-984d-400f-b324-70d4f219985f",
   "metadata": {},
   "outputs": [
    {
     "data": {
      "text/plain": [
       "[array([[-0.15344636,  0.04574187,  0.01061396, -0.04101478, -0.03358803,\n",
       "         -0.33544027, -0.3590018 ,  0.02719105,  0.01267169, -0.21803437,\n",
       "          0.06689   ,  0.08666566, -0.01789888, -0.04202678,  0.04474509,\n",
       "          0.01235714,  0.11167425, -0.08778311,  0.00503784,  0.03737457,\n",
       "         -0.13134606,  0.04517347, -0.00805906]]),\n",
       " array([[ 0.15344636, -0.04574187, -0.01061396,  0.04101478,  0.03358803,\n",
       "          0.33544027,  0.3590018 , -0.02719105, -0.01267169,  0.21803437,\n",
       "         -0.06689   , -0.08666566,  0.01789888,  0.04202678, -0.04474509,\n",
       "         -0.01235714, -0.11167425,  0.08778311, -0.00503784, -0.03737457,\n",
       "          0.13134606, -0.04517347,  0.00805906]])]"
      ]
     },
     "execution_count": 19,
     "metadata": {},
     "output_type": "execute_result"
    }
   ],
   "source": [
    "shap_values"
   ]
  },
  {
   "cell_type": "code",
   "execution_count": null,
   "id": "af1a3d55-b417-402a-9051-3884d89f81a4",
   "metadata": {},
   "outputs": [],
   "source": []
  },
  {
   "cell_type": "markdown",
   "id": "9c54a6b2-e23a-491a-bf0c-3f7ba282006f",
   "metadata": {},
   "source": [
    "### Generate shap values and base line value for n random observations"
   ]
  },
  {
   "cell_type": "code",
   "execution_count": 20,
   "id": "8dd6249b-19eb-4d2a-8821-a933f59f4736",
   "metadata": {},
   "outputs": [],
   "source": [
    "modelRF = RandomForestClassifier()\n",
    "modelRF.fit(X_train, y_train)  \n",
    "y_pred = modelRF.predict(X_test)\n",
    "score = modelRF.predict_proba(X_test)\n",
    "sklearn.metrics.roc_auc_score(y_test.values, score[:,1])\n",
    "\n",
    "matrix = confusion_matrix(y_test, y_pred)\n",
    "\n",
    "label = pd.DataFrame(y_test)\n",
    "test_data = X_test.join(label)\n"
   ]
  },
  {
   "cell_type": "code",
   "execution_count": 21,
   "id": "b925a5c4-34ae-4356-87bf-60c03f72d456",
   "metadata": {},
   "outputs": [],
   "source": [
    "def generate_shap_values(model,data,number_of_sample):\n",
    "\n",
    "    explainer = shap.TreeExplainer(model)\n",
    "    expected_value = explainer.expected_value[0]\n",
    "    if isinstance(expected_value, list):\n",
    "        expected_value = expected_value[1]\n",
    "    print(f\"Explainer expected value: {round(expected_value,2)}\")\n",
    "\n",
    "\n",
    "    features = data.sample(n=number_of_sample)\n",
    "\n",
    "\n",
    "    with warnings.catch_warnings():\n",
    "        warnings.simplefilter(\"ignore\")\n",
    "        shap_values = explainer.shap_values(features)[1]\n",
    "        shap_interaction_values = explainer.shap_interaction_values(features)\n",
    "    if isinstance(shap_interaction_values, list):\n",
    "        shap_interaction_values = shap_interaction_values[1]\n",
    "    return shap_values, expected_value,shap_interaction_values,features,explainer"
   ]
  },
  {
   "cell_type": "markdown",
   "id": "8ffa356f-7f64-4bd7-a6cb-70abf3e2aa95",
   "metadata": {},
   "source": [
    "Select 5 observations and generate shap values"
   ]
  },
  {
   "cell_type": "code",
   "execution_count": 22,
   "id": "cef42421-f207-447e-8904-7ed3cf35420d",
   "metadata": {},
   "outputs": [
    {
     "name": "stdout",
     "output_type": "stream",
     "text": [
      "Explainer expected value: 0.78\n"
     ]
    }
   ],
   "source": [
    "shap_values,expected_value,shap_interaction_values,sample,explainer = generate_shap_values(modelRF,X_test,5)"
   ]
  },
  {
   "cell_type": "markdown",
   "id": "8574250e-7002-48ee-8aa0-3eee26cfb7cc",
   "metadata": {},
   "source": [
    "Generate decision plot and feature summary plot"
   ]
  },
  {
   "cell_type": "code",
   "execution_count": 23,
   "id": "46e134e7-69b6-40ab-9a57-e6b6595d5876",
   "metadata": {},
   "outputs": [
    {
     "data": {
      "image/png": "[encoded data removed]",
      "text/plain": [
       "<Figure size 576x684 with 1 Axes>"
      ]
     },
     "metadata": {
      "needs_background": "light"
     },
     "output_type": "display_data"
    }
   ],
   "source": [
    "shap.summary_plot(shap_values,sample,plot_type='bar')"
   ]
  },
  {
   "cell_type": "code",
   "execution_count": null,
   "id": "7adfd151-1ee5-41e0-91a4-9a3d0b29afb4",
   "metadata": {},
   "outputs": [],
   "source": []
  }
 ],
 "metadata": {
  "kernelspec": {
   "display_name": "Python 3",
   "language": "python",
   "name": "python3"
  },
  "language_info": {
   "codemirror_mode": {
    "name": "ipython",
    "version": 3
   },
   "file_extension": ".py",
   "mimetype": "text/x-python",
   "name": "python",
   "nbconvert_exporter": "python",
   "pygments_lexer": "ipython3",
   "version": "3.8.10"
  }
 },
 "nbformat": 4,
 "nbformat_minor": 5
}
