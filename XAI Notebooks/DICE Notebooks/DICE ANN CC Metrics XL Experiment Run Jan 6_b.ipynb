{
 "cells": [
  {
   "cell_type": "markdown",
   "id": "6e6a486b-7a72-4691-8f57-260d79c5b234",
   "metadata": {
    "tags": []
   },
   "source": [
    "# Disseration Experiment 6i\n",
    "# Generate DICE Output (Credit Card Fraud) - Experiment Jan 6¶\n",
    "Ciaran Finnegan January 2024"
   ]
  },
  {
   "cell_type": "markdown",
   "id": "77cf1fe4-b634-4d96-9d71-ca3c511196b2",
   "metadata": {},
   "source": [
    "# Import Libraries + Custom Functions"
   ]
  },
  {
   "cell_type": "markdown",
   "id": "3199cb23-d506-4576-8658-9c9e3ea1db33",
   "metadata": {},
   "source": [
    "## Import Libraries"
   ]
  },
  {
   "cell_type": "code",
   "execution_count": 1,
   "id": "8884cf21-2d0d-457b-b738-8a9280059051",
   "metadata": {},
   "outputs": [
    {
     "name": "stderr",
     "output_type": "stream",
     "text": [
      "2024-01-06 21:23:32.587640: I tensorflow/core/util/port.cc:110] oneDNN custom operations are on. You may see slightly different numerical results due to floating-point round-off errors from different computation orders. To turn them off, set the environment variable `TF_ENABLE_ONEDNN_OPTS=0`.\n",
      "2024-01-06 21:23:32.590245: I tensorflow/tsl/cuda/cudart_stub.cc:28] Could not find cuda drivers on your machine, GPU will not be used.\n",
      "2024-01-06 21:23:32.638976: I tensorflow/tsl/cuda/cudart_stub.cc:28] Could not find cuda drivers on your machine, GPU will not be used.\n",
      "2024-01-06 21:23:32.640319: I tensorflow/core/platform/cpu_feature_guard.cc:182] This TensorFlow binary is optimized to use available CPU instructions in performance-critical operations.\n",
      "To enable the following instructions: AVX2 AVX512F AVX512_VNNI FMA, in other operations, rebuild TensorFlow with the appropriate compiler flags.\n",
      "2024-01-06 21:23:33.486961: W tensorflow/compiler/tf2tensorrt/utils/py_utils.cc:38] TF-TRT Warning: Could not find TensorRT\n"
     ]
    }
   ],
   "source": [
    "# Import libs\n",
    "import numpy as np\n",
    "import pandas as pd\n",
    "\n",
    "# Display libraries\n",
    "from IPython.display import display, HTML\n",
    "from prettytable import PrettyTable\n",
    "import raiutils\n",
    "from raiutils.exceptions import UserConfigValidationException\n",
    "\n",
    "\n",
    "# Import necessary libraries for DICE explainer\n",
    "import dice_ml\n",
    "from dice_ml.utils import helpers  # helper functions\n",
    "\n",
    "\n",
    "# Import necessary libraries for NN Modelling\n",
    "import tensorflow as tf\n",
    "from tensorflow import keras\n",
    "from tensorflow.keras import layers\n",
    "\n",
    "\n",
    "# Libraries required for metrics calculations\n",
    "from scipy.spatial import distance\n",
    "from sklearn.cluster import KMeans\n",
    "\n",
    "\n",
    "# Libraries for Supplementary Model Evaluation\n",
    "import sklearn.metrics\n",
    "from sklearn.metrics import classification_report\n",
    "from sklearn.metrics import confusion_matrix\n",
    "from sklearn.metrics import accuracy_score\n",
    "from sklearn.metrics import roc_auc_score\n",
    "from sklearn.utils import resample\n",
    "\n",
    "\n",
    "# Classifier training (not used for explainability)\n",
    "from sklearn.model_selection import train_test_split\n",
    "from sklearn.model_selection import GridSearchCV\n",
    "\n",
    "# Libraries used in Experiment Creation of XL Output Metrics\n",
    "import os\n",
    "import time\n",
    "import random\n",
    "import openpyxl"
   ]
  },
  {
   "cell_type": "markdown",
   "id": "ee2b9bdf-7e9b-4392-ab7a-201fa73a72d3",
   "metadata": {},
   "source": [
    "## Custom Functions"
   ]
  },
  {
   "cell_type": "markdown",
   "id": "026204c6-487b-493b-ba0e-d183313deb9b",
   "metadata": {},
   "source": [
    "Dataset Visualisations"
   ]
  },
  {
   "cell_type": "code",
   "execution_count": 2,
   "id": "bfe990ca-e2ae-4ff2-8717-6b44611d9183",
   "metadata": {},
   "outputs": [],
   "source": [
    "%run ./DS_Visualisation_Functions.ipynb"
   ]
  },
  {
   "cell_type": "markdown",
   "id": "2c5be5fc-a8db-4305-b5f8-922019057b68",
   "metadata": {},
   "source": [
    "Metrics"
   ]
  },
  {
   "cell_type": "code",
   "execution_count": 3,
   "id": "79b526b8-52c3-442b-9c13-9318d7601e5f",
   "metadata": {},
   "outputs": [
    {
     "name": "stdout",
     "output_type": "stream",
     "text": [
      "Function 'example_function' executed in 2.0022 seconds\n",
      "Result: Result, Execution Time: 2.002173900604248 seconds\n"
     ]
    }
   ],
   "source": [
    "%run ./XAI_Metrics_Functions.ipynb"
   ]
  },
  {
   "cell_type": "markdown",
   "id": "05e5c28d-0c07-4f7e-ab3a-3234ef4bd08c",
   "metadata": {},
   "source": [
    "Model Evaluation Functions"
   ]
  },
  {
   "cell_type": "code",
   "execution_count": 4,
   "id": "8ec1dbd5-037d-47ec-9c04-2b27599a3048",
   "metadata": {},
   "outputs": [],
   "source": [
    "%run ./DS_Model_Build_Evaluation_Functions.ipynb"
   ]
  },
  {
   "cell_type": "markdown",
   "id": "812d5845-3804-409e-89e6-6407aed98ef8",
   "metadata": {},
   "source": [
    "Track Experiment Result Functions"
   ]
  },
  {
   "cell_type": "code",
   "execution_count": 5,
   "id": "4b5de81e-14ce-47f6-9dde-d6a90cfb0ad6",
   "metadata": {},
   "outputs": [],
   "source": [
    "%run ./XAI_Experiment_Functions.ipynb"
   ]
  },
  {
   "cell_type": "markdown",
   "id": "01e54ff1-79b6-4f97-9052-bcd154126e1c",
   "metadata": {},
   "source": [
    "# Load Model"
   ]
  },
  {
   "cell_type": "markdown",
   "id": "72daa4d5-8380-4e9d-b7f0-8c4fabd0deb6",
   "metadata": {},
   "source": [
    "A Neural Network Model has been created in another Kubeflow Notebook and is being used in all the XAI experiments"
   ]
  },
  {
   "cell_type": "code",
   "execution_count": 6,
   "id": "aedb8365-904e-44f9-b985-d702de36d30e",
   "metadata": {},
   "outputs": [],
   "source": [
    "loaded_model = keras.models.load_model('ccfraud_model')  # If saved as SavedModel"
   ]
  },
  {
   "cell_type": "code",
   "execution_count": 7,
   "id": "9b737778-ebbe-46ac-9fd8-9616323b6b3a",
   "metadata": {},
   "outputs": [],
   "source": [
    "X_test_loaded, y_test_loaded, X_train_loaded, df_downsampled_loaded, dfCatCols = load_CC_train_test_data()"
   ]
  },
  {
   "cell_type": "code",
   "execution_count": 8,
   "id": "f9200d15-6454-45ff-a613-13bfd0d9ba20",
   "metadata": {},
   "outputs": [
    {
     "data": {
      "text/html": [
       "<div>\n",
       "<style scoped>\n",
       "    .dataframe tbody tr th:only-of-type {\n",
       "        vertical-align: middle;\n",
       "    }\n",
       "\n",
       "    .dataframe tbody tr th {\n",
       "        vertical-align: top;\n",
       "    }\n",
       "\n",
       "    .dataframe thead th {\n",
       "        text-align: right;\n",
       "    }\n",
       "</style>\n",
       "<table border=\"1\" class=\"dataframe\">\n",
       "  <thead>\n",
       "    <tr style=\"text-align: right;\">\n",
       "      <th></th>\n",
       "      <th>OnlinePOSCount.cnt.day.present</th>\n",
       "      <th>EMVTransactionsCount.cnt.day.present</th>\n",
       "      <th>NonEMVTransactionsCount.cnt.day.present</th>\n",
       "      <th>MerchantCategory</th>\n",
       "      <th>POS_Count.cnt.day.present</th>\n",
       "      <th>PinIndicator</th>\n",
       "      <th>DomesticAuthCount.cnt.hour1</th>\n",
       "      <th>DomesticAuthCount.cnt.hour3</th>\n",
       "      <th>DomesticAuthCount.cnt.hour4</th>\n",
       "      <th>DomesticAuthCount.cnt.hour10</th>\n",
       "      <th>...</th>\n",
       "      <th>TxnChannelCode_OnL</th>\n",
       "      <th>TxnChannelCode_POS</th>\n",
       "      <th>CustomerPresentIndicator_N</th>\n",
       "      <th>CustomerPresentIndicator_U</th>\n",
       "      <th>CustomerPresentIndicator_Y</th>\n",
       "      <th>DvcPosEntryMode_Card Present</th>\n",
       "      <th>DvcPosEntryMode_E-Commerce</th>\n",
       "      <th>DvcPosEntryMode_U</th>\n",
       "      <th>ECommerceFlag_U</th>\n",
       "      <th>ECommerceFlag_Y</th>\n",
       "    </tr>\n",
       "  </thead>\n",
       "  <tbody>\n",
       "    <tr>\n",
       "      <th>0</th>\n",
       "      <td>2</td>\n",
       "      <td>2</td>\n",
       "      <td>0</td>\n",
       "      <td>5462</td>\n",
       "      <td>2</td>\n",
       "      <td>1</td>\n",
       "      <td>1</td>\n",
       "      <td>1</td>\n",
       "      <td>1</td>\n",
       "      <td>2</td>\n",
       "      <td>...</td>\n",
       "      <td>0</td>\n",
       "      <td>1</td>\n",
       "      <td>0</td>\n",
       "      <td>0</td>\n",
       "      <td>1</td>\n",
       "      <td>1</td>\n",
       "      <td>0</td>\n",
       "      <td>0</td>\n",
       "      <td>1</td>\n",
       "      <td>0</td>\n",
       "    </tr>\n",
       "  </tbody>\n",
       "</table>\n",
       "<p>1 rows × 64 columns</p>\n",
       "</div>"
      ],
      "text/plain": [
       "   OnlinePOSCount.cnt.day.present  EMVTransactionsCount.cnt.day.present  \\\n",
       "0                               2                                     2   \n",
       "\n",
       "   NonEMVTransactionsCount.cnt.day.present  MerchantCategory  \\\n",
       "0                                        0              5462   \n",
       "\n",
       "   POS_Count.cnt.day.present  PinIndicator  DomesticAuthCount.cnt.hour1  \\\n",
       "0                          2             1                            1   \n",
       "\n",
       "   DomesticAuthCount.cnt.hour3  DomesticAuthCount.cnt.hour4  \\\n",
       "0                            1                            1   \n",
       "\n",
       "   DomesticAuthCount.cnt.hour10  ...  TxnChannelCode_OnL  TxnChannelCode_POS  \\\n",
       "0                             2  ...                   0                   1   \n",
       "\n",
       "   CustomerPresentIndicator_N  CustomerPresentIndicator_U  \\\n",
       "0                           0                           0   \n",
       "\n",
       "   CustomerPresentIndicator_Y  DvcPosEntryMode_Card Present  \\\n",
       "0                           1                             1   \n",
       "\n",
       "   DvcPosEntryMode_E-Commerce  DvcPosEntryMode_U  ECommerceFlag_U  \\\n",
       "0                           0                  0                1   \n",
       "\n",
       "   ECommerceFlag_Y  \n",
       "0                0  \n",
       "\n",
       "[1 rows x 64 columns]"
      ]
     },
     "execution_count": 8,
     "metadata": {},
     "output_type": "execute_result"
    }
   ],
   "source": [
    "X_train_loaded.head(1)"
   ]
  },
  {
   "cell_type": "code",
   "execution_count": 9,
   "id": "57c8ae91-40b4-4973-9751-0f6f1d5bdd92",
   "metadata": {},
   "outputs": [],
   "source": [
    "#dfCatCols"
   ]
  },
  {
   "cell_type": "markdown",
   "id": "ef7515a5-f146-4af2-abb4-94c621418ad5",
   "metadata": {},
   "source": [
    "## Re-Display Model Peformance"
   ]
  },
  {
   "cell_type": "markdown",
   "id": "eb898c44-e5c5-499c-8045-1f09edc4441c",
   "metadata": {},
   "source": [
    "For illustration, the evualtion metrics of the NN model will be repeated here."
   ]
  },
  {
   "cell_type": "markdown",
   "id": "0f81b105-1170-4978-ad30-7c6b6d35fe0e",
   "metadata": {},
   "source": [
    "### Tabular Data"
   ]
  },
  {
   "cell_type": "code",
   "execution_count": 10,
   "id": "2577345a-cefd-44fb-b793-7dc53189730e",
   "metadata": {},
   "outputs": [],
   "source": [
    "scaler = StandardScaler()   \n",
    "X_test_loaded_scaled = scaler.fit_transform(X_test_loaded)"
   ]
  },
  {
   "cell_type": "code",
   "execution_count": 11,
   "id": "dac63791-c7e9-4ea4-be40-d94e52498495",
   "metadata": {},
   "outputs": [
    {
     "data": {
      "text/html": [
       "\n",
       "    <div style=\"background-color: #4CAF50; padding: 7px; text-align: center; border-radius: 3px;\">\n",
       "        <h2 style=\"color: white;\">This is the Model Accuracy</h2>\n",
       "    </div>\n",
       "    "
      ],
      "text/plain": [
       "<IPython.core.display.HTML object>"
      ]
     },
     "metadata": {},
     "output_type": "display_data"
    },
    {
     "name": "stdout",
     "output_type": "stream",
     "text": [
      "42/42 [==============================] - 0s 1ms/step - loss: 0.3741 - accuracy: 0.8744\n"
     ]
    },
    {
     "data": {
      "text/html": [
       "\n",
       "    <div style=\"font-size: 20px; font-weight: bold;\">\n",
       "        Test Accuracy: 87.44%\n",
       "    </div>\n",
       "    "
      ],
      "text/plain": [
       "<IPython.core.display.HTML object>"
      ]
     },
     "metadata": {},
     "output_type": "display_data"
    },
    {
     "name": "stdout",
     "output_type": "stream",
     "text": [
      "42/42 [==============================] - 0s 1ms/step\n"
     ]
    },
    {
     "data": {
      "text/html": [
       "\n",
       "    <div style=\"font-size: 20px; font-weight: bold;\">\n",
       "        Model Performance Metrics\n",
       "    </div>\n",
       "    "
      ],
      "text/plain": [
       "<IPython.core.display.HTML object>"
      ]
     },
     "metadata": {},
     "output_type": "display_data"
    },
    {
     "data": {
      "text/html": [
       "<table border=\"1\" class=\"dataframe table table-striped table-bordered\">\n",
       "  <thead>\n",
       "    <tr style=\"text-align: right;\">\n",
       "      <th>Metric</th>\n",
       "      <th>Value</th>\n",
       "    </tr>\n",
       "  </thead>\n",
       "  <tbody>\n",
       "    <tr>\n",
       "      <td>Accuracy</td>\n",
       "      <td>0.874429</td>\n",
       "    </tr>\n",
       "    <tr>\n",
       "      <td>ROC AUC Score</td>\n",
       "      <td>0.937547</td>\n",
       "    </tr>\n",
       "    <tr>\n",
       "      <td>Precision (Class 0)</td>\n",
       "      <td>0.891680</td>\n",
       "    </tr>\n",
       "    <tr>\n",
       "      <td>Recall (Class 0)</td>\n",
       "      <td>0.855422</td>\n",
       "    </tr>\n",
       "    <tr>\n",
       "      <td>F1-Score (Class 0)</td>\n",
       "      <td>0.873174</td>\n",
       "    </tr>\n",
       "    <tr>\n",
       "      <td>Precision (Class 1)</td>\n",
       "      <td>0.858198</td>\n",
       "    </tr>\n",
       "    <tr>\n",
       "      <td>Recall (Class 1)</td>\n",
       "      <td>0.893846</td>\n",
       "    </tr>\n",
       "    <tr>\n",
       "      <td>F1-Score (Class 1)</td>\n",
       "      <td>0.875659</td>\n",
       "    </tr>\n",
       "  </tbody>\n",
       "</table>"
      ],
      "text/plain": [
       "<IPython.core.display.HTML object>"
      ]
     },
     "metadata": {},
     "output_type": "display_data"
    },
    {
     "name": "stdout",
     "output_type": "stream",
     "text": [
      "Tablular Done!\n"
     ]
    }
   ],
   "source": [
    "y_pred_loaded = display_model_metrics_tabular(loaded_model, X_test_loaded_scaled, y_test_loaded)"
   ]
  },
  {
   "cell_type": "markdown",
   "id": "d3423934-e8fa-4142-a988-cd3ff29875f8",
   "metadata": {},
   "source": [
    "### Confusion Matrix"
   ]
  },
  {
   "cell_type": "code",
   "execution_count": 12,
   "id": "f111fcdb-8143-4cc9-9f70-16459e90880b",
   "metadata": {},
   "outputs": [
    {
     "data": {
      "text/html": [
       "\n",
       "    <div style=\"background-color: #4CAF50; padding: 7px; text-align: center; border-radius: 3px;\">\n",
       "        <h2 style=\"color: white;\">Confusion Matrix</h2>\n",
       "    </div>\n",
       "    "
      ],
      "text/plain": [
       "<IPython.core.display.HTML object>"
      ]
     },
     "metadata": {},
     "output_type": "display_data"
    },
    {
     "data": {
      "image/png": "[encoded data removed]",
      "text/plain": [
       "<Figure size 576x432 with 1 Axes>"
      ]
     },
     "metadata": {
      "needs_background": "light"
     },
     "output_type": "display_data"
    },
    {
     "data": {
      "text/plain": [
       "'Confusion Matrix!'"
      ]
     },
     "execution_count": 12,
     "metadata": {},
     "output_type": "execute_result"
    }
   ],
   "source": [
    "generate_confusion_matrix(y_test_loaded, y_pred_loaded)"
   ]
  },
  {
   "cell_type": "markdown",
   "id": "f8072535-5a1e-4a6b-be40-58e0e85cf8d9",
   "metadata": {},
   "source": [
    "# Apply DiCE"
   ]
  },
  {
   "cell_type": "markdown",
   "id": "45f678e7-85d0-4884-aa8c-520c45f55a45",
   "metadata": {},
   "source": [
    "## Generate the Counterfactuals"
   ]
  },
  {
   "cell_type": "code",
   "execution_count": 13,
   "id": "a325e91e-ad59-45c5-bedb-50699b35b60c",
   "metadata": {},
   "outputs": [],
   "source": [
    "#lCC_catcols_as_list = dfCatCols[dfCatCols.columns[0]].tolist()"
   ]
  },
  {
   "cell_type": "markdown",
   "id": "15dfe2d9-adf3-40e1-ab50-38723985bf54",
   "metadata": {},
   "source": [
    "### Use Tensor Flow - Prepare DiCE parameters - CC Dataset"
   ]
  },
  {
   "cell_type": "markdown",
   "id": "38c2dd0d-f937-458f-b043-d79f99c0d7bb",
   "metadata": {},
   "source": [
    "#### Read External File Containing list of Continous Features"
   ]
  },
  {
   "cell_type": "markdown",
   "id": "806068de-f7cf-4f69-b1c7-cce897f84034",
   "metadata": {},
   "source": [
    "An analysis, external to this Notebook, has taken place to identify the set of continous features that will be use din this experiment to generate Counterfactual values."
   ]
  },
  {
   "cell_type": "code",
   "execution_count": 14,
   "id": "02b97a86-998a-41eb-8b74-439bbc4b2c48",
   "metadata": {},
   "outputs": [],
   "source": [
    "def read_cc_features(file_path):\n",
    "    # Read the CSV file\n",
    "    data = pd.read_csv(file_path)\n",
    "    \n",
    "    # Filter the data where Rank is 39 or between 41 and 53 (inclusive)\n",
    "    filtered_data = data[(data['RANK'] == 39) | ((data['RANK'] >= 41) & (data['RANK'] <= 55))]\n",
    "    \n",
    "    # Extract the 'Feature' column values and return them as a list\n",
    "    feature_list = filtered_data['FEATURE'].tolist()\n",
    "    return feature_list"
   ]
  },
  {
   "cell_type": "code",
   "execution_count": 15,
   "id": "725100a8-dfc1-4ffa-9f67-02c06d49d34f",
   "metadata": {},
   "outputs": [],
   "source": [
    "# Assume the file is in the same directory as Notebook\n",
    "file_path = 'Select_CC_Fraud_Features_v1_1.csv'\n",
    "cc_continuous_features_list = read_cc_features(file_path)"
   ]
  },
  {
   "cell_type": "code",
   "execution_count": 16,
   "id": "4f345bda-b12b-4b8d-92de-f0be85ff9f24",
   "metadata": {},
   "outputs": [
    {
     "data": {
      "text/plain": [
       "['AmountBase',\n",
       " 'POSSum.acc.month.total',\n",
       " 'NotECommerceAuthAmount.acc.day.total',\n",
       " 'NonEMVTransactionsAcc.acc.day.total',\n",
       " 'POSTerminalAttendedAuthAmount.acc.day.total',\n",
       " 'CustomerPresentAuthAmount.acc.day.total',\n",
       " 'EMVTransactionsAcc.acc.day.total',\n",
       " 'CustomerNotPresentAuthAmount.acc.day.total',\n",
       " 'HourlyAuthAmt.acc.hour25',\n",
       " 'NonEMVTransactionsAcc.acc.day.present',\n",
       " 'NotECommerceAuthAmount.acc.day.present',\n",
       " 'CustomerNotPresentAuthAmount.acc.day.present',\n",
       " 'POSTerminalAttendedAuthAmount.acc.day.present',\n",
       " 'CustomerPresentAuthAmount.acc.day.present',\n",
       " 'HighRiskPOSSum.acc.hour.total',\n",
       " 'EMVTransactionsAcc.acc.day.present']"
      ]
     },
     "execution_count": 16,
     "metadata": {},
     "output_type": "execute_result"
    }
   ],
   "source": [
    "# Display List of continous features loaded from external XL file.\n",
    "cc_continuous_features_list"
   ]
  },
  {
   "cell_type": "markdown",
   "id": "72b6253a-8ae0-419c-9e1a-af9e7580358b",
   "metadata": {},
   "source": [
    "#### Build DiCE Counterfactual Function"
   ]
  },
  {
   "cell_type": "code",
   "execution_count": 17,
   "id": "d48b6d0a-1788-4980-8d7d-19ae2a528dfa",
   "metadata": {},
   "outputs": [],
   "source": [
    "# Define the data for DiCE based on your DataFrame\n",
    "d = dice_ml.Data(dataframe=df_downsampled_loaded, continuous_features=cc_continuous_features_list, outcome_name='Fraud')"
   ]
  },
  {
   "cell_type": "code",
   "execution_count": 18,
   "id": "f3246ef5-99c1-4aec-8e5e-ac658541bcb5",
   "metadata": {},
   "outputs": [],
   "source": [
    "# Use the backend as TensorFlow and link the model\n",
    "m = dice_ml.Model(model=loaded_model, backend='TF2')"
   ]
  },
  {
   "cell_type": "code",
   "execution_count": 19,
   "id": "3f24ee56-d3fe-44f5-85e6-f9d51010fc20",
   "metadata": {},
   "outputs": [],
   "source": [
    "# Initialize DiCE\n",
    "exp = dice_ml.Dice(d, m)"
   ]
  },
  {
   "cell_type": "markdown",
   "id": "85d78a16-7aa8-42f9-8405-ecd27f2e1b04",
   "metadata": {},
   "source": [
    "#### Example 1: Sample DiCE Counterfactual example (x2)"
   ]
  },
  {
   "cell_type": "markdown",
   "id": "43f2fd9a-3f65-4fd2-b6e4-869944fb945c",
   "metadata": {},
   "source": [
    "The code below provides examples of generated counterfactuals. In the first two examples, for each instance entry the code has generated five counterfactuals."
   ]
  },
  {
   "cell_type": "code",
   "execution_count": 20,
   "id": "80f230c6-2d7b-4e42-a4f1-8bb29a2cb35a",
   "metadata": {},
   "outputs": [
    {
     "name": "stderr",
     "output_type": "stream",
     "text": [
      "100%|██████████| 2/2 [00:02<00:00,  1.21s/it]\n"
     ]
    }
   ],
   "source": [
    "# Generate counterfactual explanations\n",
    "# Change query instances to match the instances you are interested in\n",
    "query_instances = df_downsampled_loaded.iloc[0:2].drop('Fraud', axis=1)  # Taking the first two instances\n",
    "counterfactuals = exp.generate_counterfactuals(query_instances, total_CFs=5, desired_class=\"opposite\")"
   ]
  },
  {
   "cell_type": "code",
   "execution_count": 21,
   "id": "62fcfaa9-fd18-4168-9743-38a54affacfb",
   "metadata": {},
   "outputs": [
    {
     "name": "stdout",
     "output_type": "stream",
     "text": [
      "Query instance (original outcome : 0)\n"
     ]
    },
    {
     "data": {
      "text/html": [
       "<div>\n",
       "<style scoped>\n",
       "    .dataframe tbody tr th:only-of-type {\n",
       "        vertical-align: middle;\n",
       "    }\n",
       "\n",
       "    .dataframe tbody tr th {\n",
       "        vertical-align: top;\n",
       "    }\n",
       "\n",
       "    .dataframe thead th {\n",
       "        text-align: right;\n",
       "    }\n",
       "</style>\n",
       "<table border=\"1\" class=\"dataframe\">\n",
       "  <thead>\n",
       "    <tr style=\"text-align: right;\">\n",
       "      <th></th>\n",
       "      <th>OnlinePOSCount.cnt.day.present</th>\n",
       "      <th>EMVTransactionsCount.cnt.day.present</th>\n",
       "      <th>NonEMVTransactionsCount.cnt.day.present</th>\n",
       "      <th>MerchantCategory</th>\n",
       "      <th>POS_Count.cnt.day.present</th>\n",
       "      <th>PinIndicator</th>\n",
       "      <th>DomesticAuthCount.cnt.hour1</th>\n",
       "      <th>DomesticAuthCount.cnt.hour3</th>\n",
       "      <th>DomesticAuthCount.cnt.hour4</th>\n",
       "      <th>DomesticAuthCount.cnt.hour10</th>\n",
       "      <th>...</th>\n",
       "      <th>TxnChannelCode_POS</th>\n",
       "      <th>CustomerPresentIndicator_N</th>\n",
       "      <th>CustomerPresentIndicator_U</th>\n",
       "      <th>CustomerPresentIndicator_Y</th>\n",
       "      <th>DvcPosEntryMode_Card Present</th>\n",
       "      <th>DvcPosEntryMode_E-Commerce</th>\n",
       "      <th>DvcPosEntryMode_U</th>\n",
       "      <th>ECommerceFlag_U</th>\n",
       "      <th>ECommerceFlag_Y</th>\n",
       "      <th>Fraud</th>\n",
       "    </tr>\n",
       "  </thead>\n",
       "  <tbody>\n",
       "    <tr>\n",
       "      <th>0</th>\n",
       "      <td>-1</td>\n",
       "      <td>0</td>\n",
       "      <td>1</td>\n",
       "      <td>5631</td>\n",
       "      <td>0</td>\n",
       "      <td>0</td>\n",
       "      <td>1</td>\n",
       "      <td>1</td>\n",
       "      <td>1</td>\n",
       "      <td>1</td>\n",
       "      <td>...</td>\n",
       "      <td>0</td>\n",
       "      <td>0</td>\n",
       "      <td>0</td>\n",
       "      <td>1</td>\n",
       "      <td>1</td>\n",
       "      <td>0</td>\n",
       "      <td>0</td>\n",
       "      <td>1</td>\n",
       "      <td>0</td>\n",
       "      <td>0</td>\n",
       "    </tr>\n",
       "  </tbody>\n",
       "</table>\n",
       "<p>1 rows × 65 columns</p>\n",
       "</div>"
      ],
      "text/plain": [
       "   OnlinePOSCount.cnt.day.present  EMVTransactionsCount.cnt.day.present  \\\n",
       "0                              -1                                     0   \n",
       "\n",
       "   NonEMVTransactionsCount.cnt.day.present  MerchantCategory  \\\n",
       "0                                        1              5631   \n",
       "\n",
       "   POS_Count.cnt.day.present  PinIndicator  DomesticAuthCount.cnt.hour1  \\\n",
       "0                          0             0                            1   \n",
       "\n",
       "   DomesticAuthCount.cnt.hour3  DomesticAuthCount.cnt.hour4  \\\n",
       "0                            1                            1   \n",
       "\n",
       "   DomesticAuthCount.cnt.hour10  ...  TxnChannelCode_POS  \\\n",
       "0                             1  ...                   0   \n",
       "\n",
       "   CustomerPresentIndicator_N  CustomerPresentIndicator_U  \\\n",
       "0                           0                           0   \n",
       "\n",
       "   CustomerPresentIndicator_Y  DvcPosEntryMode_Card Present  \\\n",
       "0                           1                             1   \n",
       "\n",
       "   DvcPosEntryMode_E-Commerce  DvcPosEntryMode_U  ECommerceFlag_U  \\\n",
       "0                           0                  0                1   \n",
       "\n",
       "   ECommerceFlag_Y  Fraud  \n",
       "0                0      0  \n",
       "\n",
       "[1 rows x 65 columns]"
      ]
     },
     "metadata": {},
     "output_type": "display_data"
    },
    {
     "name": "stdout",
     "output_type": "stream",
     "text": [
      "\n",
      "Diverse Counterfactual set (new outcome: 1)\n"
     ]
    },
    {
     "data": {
      "text/html": [
       "<div>\n",
       "<style scoped>\n",
       "    .dataframe tbody tr th:only-of-type {\n",
       "        vertical-align: middle;\n",
       "    }\n",
       "\n",
       "    .dataframe tbody tr th {\n",
       "        vertical-align: top;\n",
       "    }\n",
       "\n",
       "    .dataframe thead th {\n",
       "        text-align: right;\n",
       "    }\n",
       "</style>\n",
       "<table border=\"1\" class=\"dataframe\">\n",
       "  <thead>\n",
       "    <tr style=\"text-align: right;\">\n",
       "      <th></th>\n",
       "      <th>OnlinePOSCount.cnt.day.present</th>\n",
       "      <th>EMVTransactionsCount.cnt.day.present</th>\n",
       "      <th>NonEMVTransactionsCount.cnt.day.present</th>\n",
       "      <th>MerchantCategory</th>\n",
       "      <th>POS_Count.cnt.day.present</th>\n",
       "      <th>PinIndicator</th>\n",
       "      <th>DomesticAuthCount.cnt.hour1</th>\n",
       "      <th>DomesticAuthCount.cnt.hour3</th>\n",
       "      <th>DomesticAuthCount.cnt.hour4</th>\n",
       "      <th>DomesticAuthCount.cnt.hour10</th>\n",
       "      <th>...</th>\n",
       "      <th>TxnChannelCode_POS</th>\n",
       "      <th>CustomerPresentIndicator_N</th>\n",
       "      <th>CustomerPresentIndicator_U</th>\n",
       "      <th>CustomerPresentIndicator_Y</th>\n",
       "      <th>DvcPosEntryMode_Card Present</th>\n",
       "      <th>DvcPosEntryMode_E-Commerce</th>\n",
       "      <th>DvcPosEntryMode_U</th>\n",
       "      <th>ECommerceFlag_U</th>\n",
       "      <th>ECommerceFlag_Y</th>\n",
       "      <th>Fraud</th>\n",
       "    </tr>\n",
       "  </thead>\n",
       "  <tbody>\n",
       "    <tr>\n",
       "      <th>0</th>\n",
       "      <td>-</td>\n",
       "      <td>-</td>\n",
       "      <td>36</td>\n",
       "      <td>-</td>\n",
       "      <td>-</td>\n",
       "      <td>-</td>\n",
       "      <td>-</td>\n",
       "      <td>-</td>\n",
       "      <td>-</td>\n",
       "      <td>-</td>\n",
       "      <td>...</td>\n",
       "      <td>-</td>\n",
       "      <td>-</td>\n",
       "      <td>-</td>\n",
       "      <td>-</td>\n",
       "      <td>-</td>\n",
       "      <td>-</td>\n",
       "      <td>-</td>\n",
       "      <td>-</td>\n",
       "      <td>-</td>\n",
       "      <td>1</td>\n",
       "    </tr>\n",
       "    <tr>\n",
       "      <th>1</th>\n",
       "      <td>-</td>\n",
       "      <td>-</td>\n",
       "      <td>-</td>\n",
       "      <td>-</td>\n",
       "      <td>-</td>\n",
       "      <td>-</td>\n",
       "      <td>-</td>\n",
       "      <td>-</td>\n",
       "      <td>-</td>\n",
       "      <td>-</td>\n",
       "      <td>...</td>\n",
       "      <td>-</td>\n",
       "      <td>-</td>\n",
       "      <td>-</td>\n",
       "      <td>-</td>\n",
       "      <td>-</td>\n",
       "      <td>-</td>\n",
       "      <td>-</td>\n",
       "      <td>-</td>\n",
       "      <td>-</td>\n",
       "      <td>1</td>\n",
       "    </tr>\n",
       "    <tr>\n",
       "      <th>2</th>\n",
       "      <td>-</td>\n",
       "      <td>-</td>\n",
       "      <td>-</td>\n",
       "      <td>-</td>\n",
       "      <td>-</td>\n",
       "      <td>-</td>\n",
       "      <td>-</td>\n",
       "      <td>-</td>\n",
       "      <td>-</td>\n",
       "      <td>-</td>\n",
       "      <td>...</td>\n",
       "      <td>-</td>\n",
       "      <td>-</td>\n",
       "      <td>-</td>\n",
       "      <td>-</td>\n",
       "      <td>-</td>\n",
       "      <td>-</td>\n",
       "      <td>-</td>\n",
       "      <td>-</td>\n",
       "      <td>-</td>\n",
       "      <td>1</td>\n",
       "    </tr>\n",
       "    <tr>\n",
       "      <th>3</th>\n",
       "      <td>-</td>\n",
       "      <td>-</td>\n",
       "      <td>-</td>\n",
       "      <td>-</td>\n",
       "      <td>-</td>\n",
       "      <td>-</td>\n",
       "      <td>-</td>\n",
       "      <td>-</td>\n",
       "      <td>-</td>\n",
       "      <td>-</td>\n",
       "      <td>...</td>\n",
       "      <td>-</td>\n",
       "      <td>-</td>\n",
       "      <td>-</td>\n",
       "      <td>-</td>\n",
       "      <td>-</td>\n",
       "      <td>-</td>\n",
       "      <td>1</td>\n",
       "      <td>-</td>\n",
       "      <td>-</td>\n",
       "      <td>1</td>\n",
       "    </tr>\n",
       "    <tr>\n",
       "      <th>4</th>\n",
       "      <td>-</td>\n",
       "      <td>-</td>\n",
       "      <td>-</td>\n",
       "      <td>-</td>\n",
       "      <td>-</td>\n",
       "      <td>-</td>\n",
       "      <td>-</td>\n",
       "      <td>-</td>\n",
       "      <td>-</td>\n",
       "      <td>-</td>\n",
       "      <td>...</td>\n",
       "      <td>-</td>\n",
       "      <td>-</td>\n",
       "      <td>-</td>\n",
       "      <td>-</td>\n",
       "      <td>-</td>\n",
       "      <td>-</td>\n",
       "      <td>-</td>\n",
       "      <td>-</td>\n",
       "      <td>-</td>\n",
       "      <td>1</td>\n",
       "    </tr>\n",
       "  </tbody>\n",
       "</table>\n",
       "<p>5 rows × 65 columns</p>\n",
       "</div>"
      ],
      "text/plain": [
       "  OnlinePOSCount.cnt.day.present EMVTransactionsCount.cnt.day.present  \\\n",
       "0                              -                                    -   \n",
       "1                              -                                    -   \n",
       "2                              -                                    -   \n",
       "3                              -                                    -   \n",
       "4                              -                                    -   \n",
       "\n",
       "  NonEMVTransactionsCount.cnt.day.present MerchantCategory  \\\n",
       "0                                      36                -   \n",
       "1                                       -                -   \n",
       "2                                       -                -   \n",
       "3                                       -                -   \n",
       "4                                       -                -   \n",
       "\n",
       "  POS_Count.cnt.day.present PinIndicator DomesticAuthCount.cnt.hour1  \\\n",
       "0                         -            -                           -   \n",
       "1                         -            -                           -   \n",
       "2                         -            -                           -   \n",
       "3                         -            -                           -   \n",
       "4                         -            -                           -   \n",
       "\n",
       "  DomesticAuthCount.cnt.hour3 DomesticAuthCount.cnt.hour4  \\\n",
       "0                           -                           -   \n",
       "1                           -                           -   \n",
       "2                           -                           -   \n",
       "3                           -                           -   \n",
       "4                           -                           -   \n",
       "\n",
       "  DomesticAuthCount.cnt.hour10  ... TxnChannelCode_POS  \\\n",
       "0                            -  ...                  -   \n",
       "1                            -  ...                  -   \n",
       "2                            -  ...                  -   \n",
       "3                            -  ...                  -   \n",
       "4                            -  ...                  -   \n",
       "\n",
       "  CustomerPresentIndicator_N CustomerPresentIndicator_U  \\\n",
       "0                          -                          -   \n",
       "1                          -                          -   \n",
       "2                          -                          -   \n",
       "3                          -                          -   \n",
       "4                          -                          -   \n",
       "\n",
       "  CustomerPresentIndicator_Y DvcPosEntryMode_Card Present  \\\n",
       "0                          -                            -   \n",
       "1                          -                            -   \n",
       "2                          -                            -   \n",
       "3                          -                            -   \n",
       "4                          -                            -   \n",
       "\n",
       "  DvcPosEntryMode_E-Commerce DvcPosEntryMode_U ECommerceFlag_U  \\\n",
       "0                          -                 -               -   \n",
       "1                          -                 -               -   \n",
       "2                          -                 -               -   \n",
       "3                          -                 1               -   \n",
       "4                          -                 -               -   \n",
       "\n",
       "  ECommerceFlag_Y Fraud  \n",
       "0               -     1  \n",
       "1               -     1  \n",
       "2               -     1  \n",
       "3               -     1  \n",
       "4               -     1  \n",
       "\n",
       "[5 rows x 65 columns]"
      ]
     },
     "metadata": {},
     "output_type": "display_data"
    },
    {
     "name": "stdout",
     "output_type": "stream",
     "text": [
      "Query instance (original outcome : 0)\n"
     ]
    },
    {
     "data": {
      "text/html": [
       "<div>\n",
       "<style scoped>\n",
       "    .dataframe tbody tr th:only-of-type {\n",
       "        vertical-align: middle;\n",
       "    }\n",
       "\n",
       "    .dataframe tbody tr th {\n",
       "        vertical-align: top;\n",
       "    }\n",
       "\n",
       "    .dataframe thead th {\n",
       "        text-align: right;\n",
       "    }\n",
       "</style>\n",
       "<table border=\"1\" class=\"dataframe\">\n",
       "  <thead>\n",
       "    <tr style=\"text-align: right;\">\n",
       "      <th></th>\n",
       "      <th>OnlinePOSCount.cnt.day.present</th>\n",
       "      <th>EMVTransactionsCount.cnt.day.present</th>\n",
       "      <th>NonEMVTransactionsCount.cnt.day.present</th>\n",
       "      <th>MerchantCategory</th>\n",
       "      <th>POS_Count.cnt.day.present</th>\n",
       "      <th>PinIndicator</th>\n",
       "      <th>DomesticAuthCount.cnt.hour1</th>\n",
       "      <th>DomesticAuthCount.cnt.hour3</th>\n",
       "      <th>DomesticAuthCount.cnt.hour4</th>\n",
       "      <th>DomesticAuthCount.cnt.hour10</th>\n",
       "      <th>...</th>\n",
       "      <th>TxnChannelCode_POS</th>\n",
       "      <th>CustomerPresentIndicator_N</th>\n",
       "      <th>CustomerPresentIndicator_U</th>\n",
       "      <th>CustomerPresentIndicator_Y</th>\n",
       "      <th>DvcPosEntryMode_Card Present</th>\n",
       "      <th>DvcPosEntryMode_E-Commerce</th>\n",
       "      <th>DvcPosEntryMode_U</th>\n",
       "      <th>ECommerceFlag_U</th>\n",
       "      <th>ECommerceFlag_Y</th>\n",
       "      <th>Fraud</th>\n",
       "    </tr>\n",
       "  </thead>\n",
       "  <tbody>\n",
       "    <tr>\n",
       "      <th>0</th>\n",
       "      <td>-1</td>\n",
       "      <td>0</td>\n",
       "      <td>3</td>\n",
       "      <td>5499</td>\n",
       "      <td>1</td>\n",
       "      <td>0</td>\n",
       "      <td>0</td>\n",
       "      <td>0</td>\n",
       "      <td>1</td>\n",
       "      <td>1</td>\n",
       "      <td>...</td>\n",
       "      <td>0</td>\n",
       "      <td>1</td>\n",
       "      <td>0</td>\n",
       "      <td>0</td>\n",
       "      <td>0</td>\n",
       "      <td>1</td>\n",
       "      <td>0</td>\n",
       "      <td>0</td>\n",
       "      <td>1</td>\n",
       "      <td>0</td>\n",
       "    </tr>\n",
       "  </tbody>\n",
       "</table>\n",
       "<p>1 rows × 65 columns</p>\n",
       "</div>"
      ],
      "text/plain": [
       "   OnlinePOSCount.cnt.day.present  EMVTransactionsCount.cnt.day.present  \\\n",
       "0                              -1                                     0   \n",
       "\n",
       "   NonEMVTransactionsCount.cnt.day.present  MerchantCategory  \\\n",
       "0                                        3              5499   \n",
       "\n",
       "   POS_Count.cnt.day.present  PinIndicator  DomesticAuthCount.cnt.hour1  \\\n",
       "0                          1             0                            0   \n",
       "\n",
       "   DomesticAuthCount.cnt.hour3  DomesticAuthCount.cnt.hour4  \\\n",
       "0                            0                            1   \n",
       "\n",
       "   DomesticAuthCount.cnt.hour10  ...  TxnChannelCode_POS  \\\n",
       "0                             1  ...                   0   \n",
       "\n",
       "   CustomerPresentIndicator_N  CustomerPresentIndicator_U  \\\n",
       "0                           1                           0   \n",
       "\n",
       "   CustomerPresentIndicator_Y  DvcPosEntryMode_Card Present  \\\n",
       "0                           0                             0   \n",
       "\n",
       "   DvcPosEntryMode_E-Commerce  DvcPosEntryMode_U  ECommerceFlag_U  \\\n",
       "0                           1                  0                0   \n",
       "\n",
       "   ECommerceFlag_Y  Fraud  \n",
       "0                1      0  \n",
       "\n",
       "[1 rows x 65 columns]"
      ]
     },
     "metadata": {},
     "output_type": "display_data"
    },
    {
     "name": "stdout",
     "output_type": "stream",
     "text": [
      "\n",
      "Diverse Counterfactual set (new outcome: 1)\n"
     ]
    },
    {
     "data": {
      "text/html": [
       "<div>\n",
       "<style scoped>\n",
       "    .dataframe tbody tr th:only-of-type {\n",
       "        vertical-align: middle;\n",
       "    }\n",
       "\n",
       "    .dataframe tbody tr th {\n",
       "        vertical-align: top;\n",
       "    }\n",
       "\n",
       "    .dataframe thead th {\n",
       "        text-align: right;\n",
       "    }\n",
       "</style>\n",
       "<table border=\"1\" class=\"dataframe\">\n",
       "  <thead>\n",
       "    <tr style=\"text-align: right;\">\n",
       "      <th></th>\n",
       "      <th>OnlinePOSCount.cnt.day.present</th>\n",
       "      <th>EMVTransactionsCount.cnt.day.present</th>\n",
       "      <th>NonEMVTransactionsCount.cnt.day.present</th>\n",
       "      <th>MerchantCategory</th>\n",
       "      <th>POS_Count.cnt.day.present</th>\n",
       "      <th>PinIndicator</th>\n",
       "      <th>DomesticAuthCount.cnt.hour1</th>\n",
       "      <th>DomesticAuthCount.cnt.hour3</th>\n",
       "      <th>DomesticAuthCount.cnt.hour4</th>\n",
       "      <th>DomesticAuthCount.cnt.hour10</th>\n",
       "      <th>...</th>\n",
       "      <th>TxnChannelCode_POS</th>\n",
       "      <th>CustomerPresentIndicator_N</th>\n",
       "      <th>CustomerPresentIndicator_U</th>\n",
       "      <th>CustomerPresentIndicator_Y</th>\n",
       "      <th>DvcPosEntryMode_Card Present</th>\n",
       "      <th>DvcPosEntryMode_E-Commerce</th>\n",
       "      <th>DvcPosEntryMode_U</th>\n",
       "      <th>ECommerceFlag_U</th>\n",
       "      <th>ECommerceFlag_Y</th>\n",
       "      <th>Fraud</th>\n",
       "    </tr>\n",
       "  </thead>\n",
       "  <tbody>\n",
       "    <tr>\n",
       "      <th>0</th>\n",
       "      <td>-</td>\n",
       "      <td>-</td>\n",
       "      <td>-</td>\n",
       "      <td>-</td>\n",
       "      <td>-</td>\n",
       "      <td>-</td>\n",
       "      <td>-</td>\n",
       "      <td>-</td>\n",
       "      <td>-</td>\n",
       "      <td>-</td>\n",
       "      <td>...</td>\n",
       "      <td>-</td>\n",
       "      <td>-</td>\n",
       "      <td>-</td>\n",
       "      <td>-</td>\n",
       "      <td>-</td>\n",
       "      <td>-</td>\n",
       "      <td>-</td>\n",
       "      <td>-</td>\n",
       "      <td>-</td>\n",
       "      <td>1</td>\n",
       "    </tr>\n",
       "    <tr>\n",
       "      <th>1</th>\n",
       "      <td>-</td>\n",
       "      <td>-</td>\n",
       "      <td>-</td>\n",
       "      <td>-</td>\n",
       "      <td>-</td>\n",
       "      <td>-</td>\n",
       "      <td>-</td>\n",
       "      <td>-</td>\n",
       "      <td>-</td>\n",
       "      <td>-</td>\n",
       "      <td>...</td>\n",
       "      <td>-</td>\n",
       "      <td>-</td>\n",
       "      <td>-</td>\n",
       "      <td>-</td>\n",
       "      <td>-</td>\n",
       "      <td>-</td>\n",
       "      <td>-</td>\n",
       "      <td>-</td>\n",
       "      <td>-</td>\n",
       "      <td>1</td>\n",
       "    </tr>\n",
       "    <tr>\n",
       "      <th>2</th>\n",
       "      <td>-</td>\n",
       "      <td>-</td>\n",
       "      <td>-</td>\n",
       "      <td>-</td>\n",
       "      <td>-</td>\n",
       "      <td>-</td>\n",
       "      <td>-</td>\n",
       "      <td>-</td>\n",
       "      <td>-</td>\n",
       "      <td>-</td>\n",
       "      <td>...</td>\n",
       "      <td>-</td>\n",
       "      <td>-</td>\n",
       "      <td>-</td>\n",
       "      <td>-</td>\n",
       "      <td>-</td>\n",
       "      <td>-</td>\n",
       "      <td>-</td>\n",
       "      <td>-</td>\n",
       "      <td>-</td>\n",
       "      <td>1</td>\n",
       "    </tr>\n",
       "    <tr>\n",
       "      <th>3</th>\n",
       "      <td>-</td>\n",
       "      <td>-</td>\n",
       "      <td>-</td>\n",
       "      <td>-</td>\n",
       "      <td>-</td>\n",
       "      <td>-</td>\n",
       "      <td>-</td>\n",
       "      <td>-</td>\n",
       "      <td>-</td>\n",
       "      <td>-</td>\n",
       "      <td>...</td>\n",
       "      <td>-</td>\n",
       "      <td>-</td>\n",
       "      <td>-</td>\n",
       "      <td>-</td>\n",
       "      <td>-</td>\n",
       "      <td>-</td>\n",
       "      <td>-</td>\n",
       "      <td>-</td>\n",
       "      <td>-</td>\n",
       "      <td>1</td>\n",
       "    </tr>\n",
       "    <tr>\n",
       "      <th>4</th>\n",
       "      <td>-</td>\n",
       "      <td>-</td>\n",
       "      <td>-</td>\n",
       "      <td>-</td>\n",
       "      <td>-</td>\n",
       "      <td>-</td>\n",
       "      <td>-</td>\n",
       "      <td>-</td>\n",
       "      <td>-</td>\n",
       "      <td>-</td>\n",
       "      <td>...</td>\n",
       "      <td>-</td>\n",
       "      <td>-</td>\n",
       "      <td>1</td>\n",
       "      <td>-</td>\n",
       "      <td>-</td>\n",
       "      <td>-</td>\n",
       "      <td>-</td>\n",
       "      <td>-</td>\n",
       "      <td>-</td>\n",
       "      <td>1</td>\n",
       "    </tr>\n",
       "  </tbody>\n",
       "</table>\n",
       "<p>5 rows × 65 columns</p>\n",
       "</div>"
      ],
      "text/plain": [
       "  OnlinePOSCount.cnt.day.present EMVTransactionsCount.cnt.day.present  \\\n",
       "0                              -                                    -   \n",
       "1                              -                                    -   \n",
       "2                              -                                    -   \n",
       "3                              -                                    -   \n",
       "4                              -                                    -   \n",
       "\n",
       "  NonEMVTransactionsCount.cnt.day.present MerchantCategory  \\\n",
       "0                                       -                -   \n",
       "1                                       -                -   \n",
       "2                                       -                -   \n",
       "3                                       -                -   \n",
       "4                                       -                -   \n",
       "\n",
       "  POS_Count.cnt.day.present PinIndicator DomesticAuthCount.cnt.hour1  \\\n",
       "0                         -            -                           -   \n",
       "1                         -            -                           -   \n",
       "2                         -            -                           -   \n",
       "3                         -            -                           -   \n",
       "4                         -            -                           -   \n",
       "\n",
       "  DomesticAuthCount.cnt.hour3 DomesticAuthCount.cnt.hour4  \\\n",
       "0                           -                           -   \n",
       "1                           -                           -   \n",
       "2                           -                           -   \n",
       "3                           -                           -   \n",
       "4                           -                           -   \n",
       "\n",
       "  DomesticAuthCount.cnt.hour10  ... TxnChannelCode_POS  \\\n",
       "0                            -  ...                  -   \n",
       "1                            -  ...                  -   \n",
       "2                            -  ...                  -   \n",
       "3                            -  ...                  -   \n",
       "4                            -  ...                  -   \n",
       "\n",
       "  CustomerPresentIndicator_N CustomerPresentIndicator_U  \\\n",
       "0                          -                          -   \n",
       "1                          -                          -   \n",
       "2                          -                          -   \n",
       "3                          -                          -   \n",
       "4                          -                          1   \n",
       "\n",
       "  CustomerPresentIndicator_Y DvcPosEntryMode_Card Present  \\\n",
       "0                          -                            -   \n",
       "1                          -                            -   \n",
       "2                          -                            -   \n",
       "3                          -                            -   \n",
       "4                          -                            -   \n",
       "\n",
       "  DvcPosEntryMode_E-Commerce DvcPosEntryMode_U ECommerceFlag_U  \\\n",
       "0                          -                 -               -   \n",
       "1                          -                 -               -   \n",
       "2                          -                 -               -   \n",
       "3                          -                 -               -   \n",
       "4                          -                 -               -   \n",
       "\n",
       "  ECommerceFlag_Y Fraud  \n",
       "0               -     1  \n",
       "1               -     1  \n",
       "2               -     1  \n",
       "3               -     1  \n",
       "4               -     1  \n",
       "\n",
       "[5 rows x 65 columns]"
      ]
     },
     "metadata": {},
     "output_type": "display_data"
    }
   ],
   "source": [
    "# Visualize the counterfactual explanations\n",
    "counterfactuals.visualize_as_dataframe(show_only_changes=True)"
   ]
  },
  {
   "cell_type": "markdown",
   "id": "3c121124-da30-405f-907b-14e3fdab3eff",
   "metadata": {},
   "source": [
    "------------------------"
   ]
  },
  {
   "cell_type": "markdown",
   "id": "4abf6863-ec2e-49ab-b1a0-bca59217d9fd",
   "metadata": {},
   "source": [
    "#### Example 2: Counterfactual - Highlighted Display"
   ]
  },
  {
   "cell_type": "markdown",
   "id": "5478d0ba-8151-4680-9f0a-2f67d56aead6",
   "metadata": {},
   "source": [
    "This example uses a display routine to improve the visual highlightin of the counterfactuals."
   ]
  },
  {
   "cell_type": "code",
   "execution_count": 22,
   "id": "72d410e0-0f0c-489a-9634-6da271116663",
   "metadata": {},
   "outputs": [],
   "source": [
    "# Generate counterfactuals\n",
    "#exp = dice_ml.Dice(d, m)\n",
    "query_instance = df_downsampled_loaded.iloc[0:1].drop('Fraud', axis=1)"
   ]
  },
  {
   "cell_type": "code",
   "execution_count": 23,
   "id": "09bc9f47-1942-4a23-91df-75abc3fcbb43",
   "metadata": {},
   "outputs": [
    {
     "name": "stderr",
     "output_type": "stream",
     "text": [
      "100%|██████████| 1/1 [00:01<00:00,  1.11s/it]\n"
     ]
    }
   ],
   "source": [
    "# Generate counterfactuals\n",
    "dice_exp = exp.generate_counterfactuals(query_instance, total_CFs=5, desired_class=\"opposite\")"
   ]
  },
  {
   "cell_type": "markdown",
   "id": "64f7d270-4730-47e4-b426-c6543567eef9",
   "metadata": {},
   "source": [
    "#### Visualize Counterfactuals (Single Set) - No Highlights"
   ]
  },
  {
   "cell_type": "code",
   "execution_count": 24,
   "id": "ac7acf9c-018e-4244-b901-11e1c7eaa3a9",
   "metadata": {},
   "outputs": [
    {
     "name": "stdout",
     "output_type": "stream",
     "text": [
      "Query instance (original outcome : 0)\n"
     ]
    },
    {
     "data": {
      "text/html": [
       "<div>\n",
       "<style scoped>\n",
       "    .dataframe tbody tr th:only-of-type {\n",
       "        vertical-align: middle;\n",
       "    }\n",
       "\n",
       "    .dataframe tbody tr th {\n",
       "        vertical-align: top;\n",
       "    }\n",
       "\n",
       "    .dataframe thead th {\n",
       "        text-align: right;\n",
       "    }\n",
       "</style>\n",
       "<table border=\"1\" class=\"dataframe\">\n",
       "  <thead>\n",
       "    <tr style=\"text-align: right;\">\n",
       "      <th></th>\n",
       "      <th>OnlinePOSCount.cnt.day.present</th>\n",
       "      <th>EMVTransactionsCount.cnt.day.present</th>\n",
       "      <th>NonEMVTransactionsCount.cnt.day.present</th>\n",
       "      <th>MerchantCategory</th>\n",
       "      <th>POS_Count.cnt.day.present</th>\n",
       "      <th>PinIndicator</th>\n",
       "      <th>DomesticAuthCount.cnt.hour1</th>\n",
       "      <th>DomesticAuthCount.cnt.hour3</th>\n",
       "      <th>DomesticAuthCount.cnt.hour4</th>\n",
       "      <th>DomesticAuthCount.cnt.hour10</th>\n",
       "      <th>...</th>\n",
       "      <th>TxnChannelCode_POS</th>\n",
       "      <th>CustomerPresentIndicator_N</th>\n",
       "      <th>CustomerPresentIndicator_U</th>\n",
       "      <th>CustomerPresentIndicator_Y</th>\n",
       "      <th>DvcPosEntryMode_Card Present</th>\n",
       "      <th>DvcPosEntryMode_E-Commerce</th>\n",
       "      <th>DvcPosEntryMode_U</th>\n",
       "      <th>ECommerceFlag_U</th>\n",
       "      <th>ECommerceFlag_Y</th>\n",
       "      <th>Fraud</th>\n",
       "    </tr>\n",
       "  </thead>\n",
       "  <tbody>\n",
       "    <tr>\n",
       "      <th>0</th>\n",
       "      <td>-1</td>\n",
       "      <td>0</td>\n",
       "      <td>1</td>\n",
       "      <td>5631</td>\n",
       "      <td>0</td>\n",
       "      <td>0</td>\n",
       "      <td>1</td>\n",
       "      <td>1</td>\n",
       "      <td>1</td>\n",
       "      <td>1</td>\n",
       "      <td>...</td>\n",
       "      <td>0</td>\n",
       "      <td>0</td>\n",
       "      <td>0</td>\n",
       "      <td>1</td>\n",
       "      <td>1</td>\n",
       "      <td>0</td>\n",
       "      <td>0</td>\n",
       "      <td>1</td>\n",
       "      <td>0</td>\n",
       "      <td>0</td>\n",
       "    </tr>\n",
       "  </tbody>\n",
       "</table>\n",
       "<p>1 rows × 65 columns</p>\n",
       "</div>"
      ],
      "text/plain": [
       "   OnlinePOSCount.cnt.day.present  EMVTransactionsCount.cnt.day.present  \\\n",
       "0                              -1                                     0   \n",
       "\n",
       "   NonEMVTransactionsCount.cnt.day.present  MerchantCategory  \\\n",
       "0                                        1              5631   \n",
       "\n",
       "   POS_Count.cnt.day.present  PinIndicator  DomesticAuthCount.cnt.hour1  \\\n",
       "0                          0             0                            1   \n",
       "\n",
       "   DomesticAuthCount.cnt.hour3  DomesticAuthCount.cnt.hour4  \\\n",
       "0                            1                            1   \n",
       "\n",
       "   DomesticAuthCount.cnt.hour10  ...  TxnChannelCode_POS  \\\n",
       "0                             1  ...                   0   \n",
       "\n",
       "   CustomerPresentIndicator_N  CustomerPresentIndicator_U  \\\n",
       "0                           0                           0   \n",
       "\n",
       "   CustomerPresentIndicator_Y  DvcPosEntryMode_Card Present  \\\n",
       "0                           1                             1   \n",
       "\n",
       "   DvcPosEntryMode_E-Commerce  DvcPosEntryMode_U  ECommerceFlag_U  \\\n",
       "0                           0                  0                1   \n",
       "\n",
       "   ECommerceFlag_Y  Fraud  \n",
       "0                0      0  \n",
       "\n",
       "[1 rows x 65 columns]"
      ]
     },
     "metadata": {},
     "output_type": "display_data"
    },
    {
     "name": "stdout",
     "output_type": "stream",
     "text": [
      "\n",
      "Diverse Counterfactual set (new outcome: 1)\n"
     ]
    },
    {
     "data": {
      "text/html": [
       "<div>\n",
       "<style scoped>\n",
       "    .dataframe tbody tr th:only-of-type {\n",
       "        vertical-align: middle;\n",
       "    }\n",
       "\n",
       "    .dataframe tbody tr th {\n",
       "        vertical-align: top;\n",
       "    }\n",
       "\n",
       "    .dataframe thead th {\n",
       "        text-align: right;\n",
       "    }\n",
       "</style>\n",
       "<table border=\"1\" class=\"dataframe\">\n",
       "  <thead>\n",
       "    <tr style=\"text-align: right;\">\n",
       "      <th></th>\n",
       "      <th>OnlinePOSCount.cnt.day.present</th>\n",
       "      <th>EMVTransactionsCount.cnt.day.present</th>\n",
       "      <th>NonEMVTransactionsCount.cnt.day.present</th>\n",
       "      <th>MerchantCategory</th>\n",
       "      <th>POS_Count.cnt.day.present</th>\n",
       "      <th>PinIndicator</th>\n",
       "      <th>DomesticAuthCount.cnt.hour1</th>\n",
       "      <th>DomesticAuthCount.cnt.hour3</th>\n",
       "      <th>DomesticAuthCount.cnt.hour4</th>\n",
       "      <th>DomesticAuthCount.cnt.hour10</th>\n",
       "      <th>...</th>\n",
       "      <th>TxnChannelCode_POS</th>\n",
       "      <th>CustomerPresentIndicator_N</th>\n",
       "      <th>CustomerPresentIndicator_U</th>\n",
       "      <th>CustomerPresentIndicator_Y</th>\n",
       "      <th>DvcPosEntryMode_Card Present</th>\n",
       "      <th>DvcPosEntryMode_E-Commerce</th>\n",
       "      <th>DvcPosEntryMode_U</th>\n",
       "      <th>ECommerceFlag_U</th>\n",
       "      <th>ECommerceFlag_Y</th>\n",
       "      <th>Fraud</th>\n",
       "    </tr>\n",
       "  </thead>\n",
       "  <tbody>\n",
       "    <tr>\n",
       "      <th>0</th>\n",
       "      <td>-1</td>\n",
       "      <td>0</td>\n",
       "      <td>1</td>\n",
       "      <td>5631</td>\n",
       "      <td>0</td>\n",
       "      <td>0</td>\n",
       "      <td>1</td>\n",
       "      <td>1</td>\n",
       "      <td>1</td>\n",
       "      <td>1</td>\n",
       "      <td>...</td>\n",
       "      <td>0</td>\n",
       "      <td>0</td>\n",
       "      <td>0</td>\n",
       "      <td>1</td>\n",
       "      <td>1</td>\n",
       "      <td>0</td>\n",
       "      <td>0</td>\n",
       "      <td>1</td>\n",
       "      <td>0</td>\n",
       "      <td>1</td>\n",
       "    </tr>\n",
       "    <tr>\n",
       "      <th>1</th>\n",
       "      <td>-1</td>\n",
       "      <td>0</td>\n",
       "      <td>1</td>\n",
       "      <td>5631</td>\n",
       "      <td>0</td>\n",
       "      <td>0</td>\n",
       "      <td>1</td>\n",
       "      <td>1</td>\n",
       "      <td>1</td>\n",
       "      <td>1</td>\n",
       "      <td>...</td>\n",
       "      <td>0</td>\n",
       "      <td>0</td>\n",
       "      <td>0</td>\n",
       "      <td>1</td>\n",
       "      <td>1</td>\n",
       "      <td>0</td>\n",
       "      <td>0</td>\n",
       "      <td>1</td>\n",
       "      <td>0</td>\n",
       "      <td>1</td>\n",
       "    </tr>\n",
       "    <tr>\n",
       "      <th>2</th>\n",
       "      <td>-1</td>\n",
       "      <td>0</td>\n",
       "      <td>1</td>\n",
       "      <td>5631</td>\n",
       "      <td>0</td>\n",
       "      <td>0</td>\n",
       "      <td>7</td>\n",
       "      <td>1</td>\n",
       "      <td>1</td>\n",
       "      <td>1</td>\n",
       "      <td>...</td>\n",
       "      <td>0</td>\n",
       "      <td>0</td>\n",
       "      <td>0</td>\n",
       "      <td>1</td>\n",
       "      <td>1</td>\n",
       "      <td>0</td>\n",
       "      <td>0</td>\n",
       "      <td>1</td>\n",
       "      <td>0</td>\n",
       "      <td>1</td>\n",
       "    </tr>\n",
       "    <tr>\n",
       "      <th>3</th>\n",
       "      <td>-1</td>\n",
       "      <td>0</td>\n",
       "      <td>1</td>\n",
       "      <td>5631</td>\n",
       "      <td>0</td>\n",
       "      <td>0</td>\n",
       "      <td>1</td>\n",
       "      <td>1</td>\n",
       "      <td>1</td>\n",
       "      <td>1</td>\n",
       "      <td>...</td>\n",
       "      <td>0</td>\n",
       "      <td>0</td>\n",
       "      <td>0</td>\n",
       "      <td>1</td>\n",
       "      <td>1</td>\n",
       "      <td>0</td>\n",
       "      <td>0</td>\n",
       "      <td>1</td>\n",
       "      <td>0</td>\n",
       "      <td>1</td>\n",
       "    </tr>\n",
       "    <tr>\n",
       "      <th>4</th>\n",
       "      <td>-1</td>\n",
       "      <td>0</td>\n",
       "      <td>1</td>\n",
       "      <td>5631</td>\n",
       "      <td>0</td>\n",
       "      <td>1</td>\n",
       "      <td>1</td>\n",
       "      <td>1</td>\n",
       "      <td>1</td>\n",
       "      <td>1</td>\n",
       "      <td>...</td>\n",
       "      <td>0</td>\n",
       "      <td>0</td>\n",
       "      <td>0</td>\n",
       "      <td>1</td>\n",
       "      <td>1</td>\n",
       "      <td>0</td>\n",
       "      <td>0</td>\n",
       "      <td>1</td>\n",
       "      <td>0</td>\n",
       "      <td>1</td>\n",
       "    </tr>\n",
       "  </tbody>\n",
       "</table>\n",
       "<p>5 rows × 65 columns</p>\n",
       "</div>"
      ],
      "text/plain": [
       "   OnlinePOSCount.cnt.day.present  EMVTransactionsCount.cnt.day.present  \\\n",
       "0                              -1                                     0   \n",
       "1                              -1                                     0   \n",
       "2                              -1                                     0   \n",
       "3                              -1                                     0   \n",
       "4                              -1                                     0   \n",
       "\n",
       "   NonEMVTransactionsCount.cnt.day.present  MerchantCategory  \\\n",
       "0                                        1              5631   \n",
       "1                                        1              5631   \n",
       "2                                        1              5631   \n",
       "3                                        1              5631   \n",
       "4                                        1              5631   \n",
       "\n",
       "   POS_Count.cnt.day.present  PinIndicator  DomesticAuthCount.cnt.hour1  \\\n",
       "0                          0             0                            1   \n",
       "1                          0             0                            1   \n",
       "2                          0             0                            7   \n",
       "3                          0             0                            1   \n",
       "4                          0             1                            1   \n",
       "\n",
       "   DomesticAuthCount.cnt.hour3  DomesticAuthCount.cnt.hour4  \\\n",
       "0                            1                            1   \n",
       "1                            1                            1   \n",
       "2                            1                            1   \n",
       "3                            1                            1   \n",
       "4                            1                            1   \n",
       "\n",
       "   DomesticAuthCount.cnt.hour10  ...  TxnChannelCode_POS  \\\n",
       "0                             1  ...                   0   \n",
       "1                             1  ...                   0   \n",
       "2                             1  ...                   0   \n",
       "3                             1  ...                   0   \n",
       "4                             1  ...                   0   \n",
       "\n",
       "   CustomerPresentIndicator_N  CustomerPresentIndicator_U  \\\n",
       "0                           0                           0   \n",
       "1                           0                           0   \n",
       "2                           0                           0   \n",
       "3                           0                           0   \n",
       "4                           0                           0   \n",
       "\n",
       "   CustomerPresentIndicator_Y  DvcPosEntryMode_Card Present  \\\n",
       "0                           1                             1   \n",
       "1                           1                             1   \n",
       "2                           1                             1   \n",
       "3                           1                             1   \n",
       "4                           1                             1   \n",
       "\n",
       "   DvcPosEntryMode_E-Commerce  DvcPosEntryMode_U  ECommerceFlag_U  \\\n",
       "0                           0                  0                1   \n",
       "1                           0                  0                1   \n",
       "2                           0                  0                1   \n",
       "3                           0                  0                1   \n",
       "4                           0                  0                1   \n",
       "\n",
       "   ECommerceFlag_Y  Fraud  \n",
       "0                0      1  \n",
       "1                0      1  \n",
       "2                0      1  \n",
       "3                0      1  \n",
       "4                0      1  \n",
       "\n",
       "[5 rows x 65 columns]"
      ]
     },
     "metadata": {},
     "output_type": "display_data"
    }
   ],
   "source": [
    "dice_exp.visualize_as_dataframe()"
   ]
  },
  {
   "cell_type": "markdown",
   "id": "49b70a10-3a75-4c66-b5c6-15195fd8945b",
   "metadata": {},
   "source": [
    "#### Visualize Counterfactuals (Single Set) - With Highlights"
   ]
  },
  {
   "cell_type": "markdown",
   "id": "a448bc39-fcc0-4ccb-9583-3d91cd3223fc",
   "metadata": {},
   "source": [
    "##### Create Display Function"
   ]
  },
  {
   "cell_type": "code",
   "execution_count": 25,
   "id": "9007cfb4-047c-4ff2-9cbc-92e368937822",
   "metadata": {},
   "outputs": [],
   "source": [
    "def highlight_differences(query_instance, counterfactuals_df):\n",
    "    \"\"\"\n",
    "    Compares a query instance (as a Series) with counterfactual instances in a DataFrame.\n",
    "    \n",
    "    Args:\n",
    "    - query_instance (pd.Series): The original data instance.\n",
    "    - counterfactuals_df (pd.DataFrame): DataFrame containing counterfactual instances.\n",
    "    \n",
    "    Returns:\n",
    "    - A styled DataFrame where:\n",
    "        * The original instance is highlighted entirely.\n",
    "        * Cells with differences in counterfactuals are highlighted.\n",
    "    \"\"\"\n",
    "    # Convert query_instance to DataFrame and concatenate with counterfactuals_df\n",
    "    combined_df = pd.concat([query_instance.to_frame().T, counterfactuals_df], axis=0).reset_index(drop=True)\n",
    "    \n",
    "    def highlight_cells(row):\n",
    "        \"\"\"Helper function to apply the styling.\"\"\"\n",
    "        if row.name == 0:  # If it's the original instance\n",
    "            return ['background-color: lightblue' for _ in row.index]\n",
    "        \n",
    "        # For counterfactual rows\n",
    "        colors = []\n",
    "        for col in row.index:\n",
    "            original_value = query_instance[col]\n",
    "            cf_value = row[col]\n",
    "            \n",
    "            # Convert to the same data type if they are different\n",
    "            if type(original_value) != type(cf_value):\n",
    "                try:\n",
    "                    original_value = type(cf_value)(original_value)\n",
    "                except ValueError:\n",
    "                    try:\n",
    "                        cf_value = type(original_value)(cf_value)\n",
    "                    except ValueError:\n",
    "                        pass\n",
    "            \n",
    "            # Handle float comparisons with a small tolerance\n",
    "            if isinstance(original_value, float) and isinstance(cf_value, float):\n",
    "                if abs(original_value - cf_value) < 1e-9:\n",
    "                    colors.append('')\n",
    "                else:\n",
    "                    colors.append('background-color: yellow')\n",
    "            elif original_value != cf_value:\n",
    "                colors.append('background-color: yellow')\n",
    "            else:\n",
    "                colors.append('')\n",
    "        return colors\n",
    "    \n",
    "    styled_df = combined_df.style.apply(highlight_cells, axis=1)\n",
    "    return styled_df\n",
    "\n",
    "# This refined version of the function should handle potential data type mismatches better."
   ]
  },
  {
   "cell_type": "markdown",
   "id": "9f6aa2a2-def6-4f69-9074-d7d30fd3bb90",
   "metadata": {},
   "source": [
    "##### Display Differences - with Highlights"
   ]
  },
  {
   "cell_type": "code",
   "execution_count": 26,
   "id": "a2e04381-77c1-40e0-bbbd-38c084487e40",
   "metadata": {},
   "outputs": [],
   "source": [
    "# 2. Extract counterfactuals to a DataFrame\n",
    "your_actual_counterfactuals_df = dice_exp.cf_examples_list[0].final_cfs_df"
   ]
  },
  {
   "cell_type": "code",
   "execution_count": 27,
   "id": "4c6c1410-a4cd-44a2-965b-0f18998e85f4",
   "metadata": {},
   "outputs": [],
   "source": [
    "#your_actual_counterfactuals_df.head()"
   ]
  },
  {
   "cell_type": "code",
   "execution_count": 28,
   "id": "04d9e621-15f2-453d-966a-e57549619abc",
   "metadata": {},
   "outputs": [],
   "source": [
    "query_instance_series = df_downsampled_loaded.iloc[0]"
   ]
  },
  {
   "cell_type": "code",
   "execution_count": 29,
   "id": "ce3c1e60-f834-4040-84ba-c8315741437a",
   "metadata": {},
   "outputs": [],
   "source": [
    "styled_result = highlight_differences(query_instance_series, your_actual_counterfactuals_df)"
   ]
  },
  {
   "cell_type": "code",
   "execution_count": 30,
   "id": "4bdc8ea0-7328-4ca1-9532-09d00f0d9f4d",
   "metadata": {},
   "outputs": [
    {
     "data": {
      "text/html": [
       "<style type=\"text/css\">\n",
       "#T_49c91_row0_col0, #T_49c91_row0_col1, #T_49c91_row0_col2, #T_49c91_row0_col3, #T_49c91_row0_col4, #T_49c91_row0_col5, #T_49c91_row0_col6, #T_49c91_row0_col7, #T_49c91_row0_col8, #T_49c91_row0_col9, #T_49c91_row0_col10, #T_49c91_row0_col11, #T_49c91_row0_col12, #T_49c91_row0_col13, #T_49c91_row0_col14, #T_49c91_row0_col15, #T_49c91_row0_col16, #T_49c91_row0_col17, #T_49c91_row0_col18, #T_49c91_row0_col19, #T_49c91_row0_col20, #T_49c91_row0_col21, #T_49c91_row0_col22, #T_49c91_row0_col23, #T_49c91_row0_col24, #T_49c91_row0_col25, #T_49c91_row0_col26, #T_49c91_row0_col27, #T_49c91_row0_col28, #T_49c91_row0_col29, #T_49c91_row0_col30, #T_49c91_row0_col31, #T_49c91_row0_col32, #T_49c91_row0_col33, #T_49c91_row0_col34, #T_49c91_row0_col35, #T_49c91_row0_col36, #T_49c91_row0_col37, #T_49c91_row0_col38, #T_49c91_row0_col39, #T_49c91_row0_col40, #T_49c91_row0_col41, #T_49c91_row0_col42, #T_49c91_row0_col43, #T_49c91_row0_col44, #T_49c91_row0_col45, #T_49c91_row0_col46, #T_49c91_row0_col47, #T_49c91_row0_col48, #T_49c91_row0_col49, #T_49c91_row0_col50, #T_49c91_row0_col51, #T_49c91_row0_col52, #T_49c91_row0_col53, #T_49c91_row0_col54, #T_49c91_row0_col55, #T_49c91_row0_col56, #T_49c91_row0_col57, #T_49c91_row0_col58, #T_49c91_row0_col59, #T_49c91_row0_col60, #T_49c91_row0_col61, #T_49c91_row0_col62, #T_49c91_row0_col63, #T_49c91_row0_col64 {\n",
       "  background-color: lightblue;\n",
       "}\n",
       "#T_49c91_row1_col46, #T_49c91_row2_col44, #T_49c91_row3_col6, #T_49c91_row3_col38, #T_49c91_row4_col44, #T_49c91_row5_col5, #T_49c91_row5_col38 {\n",
       "  background-color: yellow;\n",
       "}\n",
       "</style>\n",
       "<table id=\"T_49c91\">\n",
       "  <thead>\n",
       "    <tr>\n",
       "      <th class=\"blank level0\" >&nbsp;</th>\n",
       "      <th id=\"T_49c91_level0_col0\" class=\"col_heading level0 col0\" >OnlinePOSCount.cnt.day.present</th>\n",
       "      <th id=\"T_49c91_level0_col1\" class=\"col_heading level0 col1\" >EMVTransactionsCount.cnt.day.present</th>\n",
       "      <th id=\"T_49c91_level0_col2\" class=\"col_heading level0 col2\" >NonEMVTransactionsCount.cnt.day.present</th>\n",
       "      <th id=\"T_49c91_level0_col3\" class=\"col_heading level0 col3\" >MerchantCategory</th>\n",
       "      <th id=\"T_49c91_level0_col4\" class=\"col_heading level0 col4\" >POS_Count.cnt.day.present</th>\n",
       "      <th id=\"T_49c91_level0_col5\" class=\"col_heading level0 col5\" >PinIndicator</th>\n",
       "      <th id=\"T_49c91_level0_col6\" class=\"col_heading level0 col6\" >DomesticAuthCount.cnt.hour1</th>\n",
       "      <th id=\"T_49c91_level0_col7\" class=\"col_heading level0 col7\" >DomesticAuthCount.cnt.hour3</th>\n",
       "      <th id=\"T_49c91_level0_col8\" class=\"col_heading level0 col8\" >DomesticAuthCount.cnt.hour4</th>\n",
       "      <th id=\"T_49c91_level0_col9\" class=\"col_heading level0 col9\" >DomesticAuthCount.cnt.hour10</th>\n",
       "      <th id=\"T_49c91_level0_col10\" class=\"col_heading level0 col10\" >DomesticAuthCount.cnt.hour15</th>\n",
       "      <th id=\"T_49c91_level0_col11\" class=\"col_heading level0 col11\" >DomesticAuthCounter.cnt.day.present</th>\n",
       "      <th id=\"T_49c91_level0_col12\" class=\"col_heading level0 col12\" >DomesticAuthCount.cnt.hour25</th>\n",
       "      <th id=\"T_49c91_level0_col13\" class=\"col_heading level0 col13\" >OnlinePOSCountForever.cnt.present</th>\n",
       "      <th id=\"T_49c91_level0_col14\" class=\"col_heading level0 col14\" >POSTerminalAttendedAuthCount.cnt.day.present</th>\n",
       "      <th id=\"T_49c91_level0_col15\" class=\"col_heading level0 col15\" >CustomerNotPresentAuthCount.cnt.day.present</th>\n",
       "      <th id=\"T_49c91_level0_col16\" class=\"col_heading level0 col16\" >DvcVerificationCap</th>\n",
       "      <th id=\"T_49c91_level0_col17\" class=\"col_heading level0 col17\" >ECommerceAuthCount.cnt.day.present</th>\n",
       "      <th id=\"T_49c91_level0_col18\" class=\"col_heading level0 col18\" >OnlineNewMerchCtryCntDaily.cnt.day.present</th>\n",
       "      <th id=\"T_49c91_level0_col19\" class=\"col_heading level0 col19\" >OnlineNewMerchCtryCntHourly.cnt.hour24</th>\n",
       "      <th id=\"T_49c91_level0_col20\" class=\"col_heading level0 col20\" >OnlineNewMerchCtryCntHourly.cnt.hour15</th>\n",
       "      <th id=\"T_49c91_level0_col21\" class=\"col_heading level0 col21\" >OnlineNewMerchCtryCntHourly.cnt.hour10</th>\n",
       "      <th id=\"T_49c91_level0_col22\" class=\"col_heading level0 col22\" >OnlineNewMerchCtryCntHourly.cnt.hour3</th>\n",
       "      <th id=\"T_49c91_level0_col23\" class=\"col_heading level0 col23\" >OnlineNewMerchCtryCntHourly.cnt.hour4</th>\n",
       "      <th id=\"T_49c91_level0_col24\" class=\"col_heading level0 col24\" >OnlineNewMerchCtryCntDaily.cnt.day.total</th>\n",
       "      <th id=\"T_49c91_level0_col25\" class=\"col_heading level0 col25\" >NotECommerceAuthCount.cnt.day.present</th>\n",
       "      <th id=\"T_49c91_level0_col26\" class=\"col_heading level0 col26\" >NewMerchantCountryCount.cnt.hour15</th>\n",
       "      <th id=\"T_49c91_level0_col27\" class=\"col_heading level0 col27\" >OnlineNewMerchCtryCntHourly.cnt.hour1</th>\n",
       "      <th id=\"T_49c91_level0_col28\" class=\"col_heading level0 col28\" >NewMerchantCountryCount.cnt.hour10</th>\n",
       "      <th id=\"T_49c91_level0_col29\" class=\"col_heading level0 col29\" >NewMerchantCountryCount.cnt.hour24</th>\n",
       "      <th id=\"T_49c91_level0_col30\" class=\"col_heading level0 col30\" >NewMerchantCountryCount.cnt.hour4</th>\n",
       "      <th id=\"T_49c91_level0_col31\" class=\"col_heading level0 col31\" >NewMerchantCountryCount.cnt.hour3</th>\n",
       "      <th id=\"T_49c91_level0_col32\" class=\"col_heading level0 col32\" >AuthResponse</th>\n",
       "      <th id=\"T_49c91_level0_col33\" class=\"col_heading level0 col33\" >NewMerchantCountryCount.cnt.hour1</th>\n",
       "      <th id=\"T_49c91_level0_col34\" class=\"col_heading level0 col34\" >AmountBase</th>\n",
       "      <th id=\"T_49c91_level0_col35\" class=\"col_heading level0 col35\" >CardType</th>\n",
       "      <th id=\"T_49c91_level0_col36\" class=\"col_heading level0 col36\" >POSSum.acc.month.total</th>\n",
       "      <th id=\"T_49c91_level0_col37\" class=\"col_heading level0 col37\" >NotECommerceAuthAmount.acc.day.total</th>\n",
       "      <th id=\"T_49c91_level0_col38\" class=\"col_heading level0 col38\" >NonEMVTransactionsAcc.acc.day.total</th>\n",
       "      <th id=\"T_49c91_level0_col39\" class=\"col_heading level0 col39\" >POSTerminalAttendedAuthAmount.acc.day.total</th>\n",
       "      <th id=\"T_49c91_level0_col40\" class=\"col_heading level0 col40\" >CustomerPresentAuthAmount.acc.day.total</th>\n",
       "      <th id=\"T_49c91_level0_col41\" class=\"col_heading level0 col41\" >EMVTransactionsAcc.acc.day.total</th>\n",
       "      <th id=\"T_49c91_level0_col42\" class=\"col_heading level0 col42\" >CustomerNotPresentAuthAmount.acc.day.total</th>\n",
       "      <th id=\"T_49c91_level0_col43\" class=\"col_heading level0 col43\" >HourlyAuthAmt.acc.hour25</th>\n",
       "      <th id=\"T_49c91_level0_col44\" class=\"col_heading level0 col44\" >NonEMVTransactionsAcc.acc.day.present</th>\n",
       "      <th id=\"T_49c91_level0_col45\" class=\"col_heading level0 col45\" >NotECommerceAuthAmount.acc.day.present</th>\n",
       "      <th id=\"T_49c91_level0_col46\" class=\"col_heading level0 col46\" >CustomerNotPresentAuthAmount.acc.day.present</th>\n",
       "      <th id=\"T_49c91_level0_col47\" class=\"col_heading level0 col47\" >POSTerminalAttendedAuthAmount.acc.day.present</th>\n",
       "      <th id=\"T_49c91_level0_col48\" class=\"col_heading level0 col48\" >CustomerPresentAuthAmount.acc.day.present</th>\n",
       "      <th id=\"T_49c91_level0_col49\" class=\"col_heading level0 col49\" >HighRiskPOSSum.acc.hour.total</th>\n",
       "      <th id=\"T_49c91_level0_col50\" class=\"col_heading level0 col50\" >EMVTransactionsAcc.acc.day.present</th>\n",
       "      <th id=\"T_49c91_level0_col51\" class=\"col_heading level0 col51\" >Fraud</th>\n",
       "      <th id=\"T_49c91_level0_col52\" class=\"col_heading level0 col52\" >PosTerminalAttended_N</th>\n",
       "      <th id=\"T_49c91_level0_col53\" class=\"col_heading level0 col53\" >PosTerminalAttended_U</th>\n",
       "      <th id=\"T_49c91_level0_col54\" class=\"col_heading level0 col54\" >PosTerminalAttended_Y</th>\n",
       "      <th id=\"T_49c91_level0_col55\" class=\"col_heading level0 col55\" >TxnChannelCode_OnL</th>\n",
       "      <th id=\"T_49c91_level0_col56\" class=\"col_heading level0 col56\" >TxnChannelCode_POS</th>\n",
       "      <th id=\"T_49c91_level0_col57\" class=\"col_heading level0 col57\" >CustomerPresentIndicator_N</th>\n",
       "      <th id=\"T_49c91_level0_col58\" class=\"col_heading level0 col58\" >CustomerPresentIndicator_U</th>\n",
       "      <th id=\"T_49c91_level0_col59\" class=\"col_heading level0 col59\" >CustomerPresentIndicator_Y</th>\n",
       "      <th id=\"T_49c91_level0_col60\" class=\"col_heading level0 col60\" >DvcPosEntryMode_Card Present</th>\n",
       "      <th id=\"T_49c91_level0_col61\" class=\"col_heading level0 col61\" >DvcPosEntryMode_E-Commerce</th>\n",
       "      <th id=\"T_49c91_level0_col62\" class=\"col_heading level0 col62\" >DvcPosEntryMode_U</th>\n",
       "      <th id=\"T_49c91_level0_col63\" class=\"col_heading level0 col63\" >ECommerceFlag_U</th>\n",
       "      <th id=\"T_49c91_level0_col64\" class=\"col_heading level0 col64\" >ECommerceFlag_Y</th>\n",
       "    </tr>\n",
       "  </thead>\n",
       "  <tbody>\n",
       "    <tr>\n",
       "      <th id=\"T_49c91_level0_row0\" class=\"row_heading level0 row0\" >0</th>\n",
       "      <td id=\"T_49c91_row0_col0\" class=\"data row0 col0\" >-1</td>\n",
       "      <td id=\"T_49c91_row0_col1\" class=\"data row0 col1\" >0</td>\n",
       "      <td id=\"T_49c91_row0_col2\" class=\"data row0 col2\" >1</td>\n",
       "      <td id=\"T_49c91_row0_col3\" class=\"data row0 col3\" >5631</td>\n",
       "      <td id=\"T_49c91_row0_col4\" class=\"data row0 col4\" >0</td>\n",
       "      <td id=\"T_49c91_row0_col5\" class=\"data row0 col5\" >0</td>\n",
       "      <td id=\"T_49c91_row0_col6\" class=\"data row0 col6\" >1</td>\n",
       "      <td id=\"T_49c91_row0_col7\" class=\"data row0 col7\" >1</td>\n",
       "      <td id=\"T_49c91_row0_col8\" class=\"data row0 col8\" >1</td>\n",
       "      <td id=\"T_49c91_row0_col9\" class=\"data row0 col9\" >1</td>\n",
       "      <td id=\"T_49c91_row0_col10\" class=\"data row0 col10\" >1</td>\n",
       "      <td id=\"T_49c91_row0_col11\" class=\"data row0 col11\" >1</td>\n",
       "      <td id=\"T_49c91_row0_col12\" class=\"data row0 col12\" >1</td>\n",
       "      <td id=\"T_49c91_row0_col13\" class=\"data row0 col13\" >-19</td>\n",
       "      <td id=\"T_49c91_row0_col14\" class=\"data row0 col14\" >1</td>\n",
       "      <td id=\"T_49c91_row0_col15\" class=\"data row0 col15\" >0</td>\n",
       "      <td id=\"T_49c91_row0_col16\" class=\"data row0 col16\" >1</td>\n",
       "      <td id=\"T_49c91_row0_col17\" class=\"data row0 col17\" >0</td>\n",
       "      <td id=\"T_49c91_row0_col18\" class=\"data row0 col18\" >0</td>\n",
       "      <td id=\"T_49c91_row0_col19\" class=\"data row0 col19\" >0</td>\n",
       "      <td id=\"T_49c91_row0_col20\" class=\"data row0 col20\" >0</td>\n",
       "      <td id=\"T_49c91_row0_col21\" class=\"data row0 col21\" >0</td>\n",
       "      <td id=\"T_49c91_row0_col22\" class=\"data row0 col22\" >0</td>\n",
       "      <td id=\"T_49c91_row0_col23\" class=\"data row0 col23\" >0</td>\n",
       "      <td id=\"T_49c91_row0_col24\" class=\"data row0 col24\" >0</td>\n",
       "      <td id=\"T_49c91_row0_col25\" class=\"data row0 col25\" >1</td>\n",
       "      <td id=\"T_49c91_row0_col26\" class=\"data row0 col26\" >0</td>\n",
       "      <td id=\"T_49c91_row0_col27\" class=\"data row0 col27\" >0</td>\n",
       "      <td id=\"T_49c91_row0_col28\" class=\"data row0 col28\" >0</td>\n",
       "      <td id=\"T_49c91_row0_col29\" class=\"data row0 col29\" >0</td>\n",
       "      <td id=\"T_49c91_row0_col30\" class=\"data row0 col30\" >0</td>\n",
       "      <td id=\"T_49c91_row0_col31\" class=\"data row0 col31\" >0</td>\n",
       "      <td id=\"T_49c91_row0_col32\" class=\"data row0 col32\" >0</td>\n",
       "      <td id=\"T_49c91_row0_col33\" class=\"data row0 col33\" >0</td>\n",
       "      <td id=\"T_49c91_row0_col34\" class=\"data row0 col34\" >203</td>\n",
       "      <td id=\"T_49c91_row0_col35\" class=\"data row0 col35\" >819</td>\n",
       "      <td id=\"T_49c91_row0_col36\" class=\"data row0 col36\" >2300</td>\n",
       "      <td id=\"T_49c91_row0_col37\" class=\"data row0 col37\" >14880</td>\n",
       "      <td id=\"T_49c91_row0_col38\" class=\"data row0 col38\" >20450</td>\n",
       "      <td id=\"T_49c91_row0_col39\" class=\"data row0 col39\" >13948</td>\n",
       "      <td id=\"T_49c91_row0_col40\" class=\"data row0 col40\" >7355</td>\n",
       "      <td id=\"T_49c91_row0_col41\" class=\"data row0 col41\" >0</td>\n",
       "      <td id=\"T_49c91_row0_col42\" class=\"data row0 col42\" >13095</td>\n",
       "      <td id=\"T_49c91_row0_col43\" class=\"data row0 col43\" >203</td>\n",
       "      <td id=\"T_49c91_row0_col44\" class=\"data row0 col44\" >203</td>\n",
       "      <td id=\"T_49c91_row0_col45\" class=\"data row0 col45\" >203</td>\n",
       "      <td id=\"T_49c91_row0_col46\" class=\"data row0 col46\" >0</td>\n",
       "      <td id=\"T_49c91_row0_col47\" class=\"data row0 col47\" >203</td>\n",
       "      <td id=\"T_49c91_row0_col48\" class=\"data row0 col48\" >203</td>\n",
       "      <td id=\"T_49c91_row0_col49\" class=\"data row0 col49\" >0</td>\n",
       "      <td id=\"T_49c91_row0_col50\" class=\"data row0 col50\" >0</td>\n",
       "      <td id=\"T_49c91_row0_col51\" class=\"data row0 col51\" >1</td>\n",
       "      <td id=\"T_49c91_row0_col52\" class=\"data row0 col52\" >0</td>\n",
       "      <td id=\"T_49c91_row0_col53\" class=\"data row0 col53\" >0</td>\n",
       "      <td id=\"T_49c91_row0_col54\" class=\"data row0 col54\" >1</td>\n",
       "      <td id=\"T_49c91_row0_col55\" class=\"data row0 col55\" >1</td>\n",
       "      <td id=\"T_49c91_row0_col56\" class=\"data row0 col56\" >0</td>\n",
       "      <td id=\"T_49c91_row0_col57\" class=\"data row0 col57\" >0</td>\n",
       "      <td id=\"T_49c91_row0_col58\" class=\"data row0 col58\" >0</td>\n",
       "      <td id=\"T_49c91_row0_col59\" class=\"data row0 col59\" >1</td>\n",
       "      <td id=\"T_49c91_row0_col60\" class=\"data row0 col60\" >1</td>\n",
       "      <td id=\"T_49c91_row0_col61\" class=\"data row0 col61\" >0</td>\n",
       "      <td id=\"T_49c91_row0_col62\" class=\"data row0 col62\" >0</td>\n",
       "      <td id=\"T_49c91_row0_col63\" class=\"data row0 col63\" >1</td>\n",
       "      <td id=\"T_49c91_row0_col64\" class=\"data row0 col64\" >0</td>\n",
       "    </tr>\n",
       "    <tr>\n",
       "      <th id=\"T_49c91_level0_row1\" class=\"row_heading level0 row1\" >1</th>\n",
       "      <td id=\"T_49c91_row1_col0\" class=\"data row1 col0\" >-1</td>\n",
       "      <td id=\"T_49c91_row1_col1\" class=\"data row1 col1\" >0</td>\n",
       "      <td id=\"T_49c91_row1_col2\" class=\"data row1 col2\" >1</td>\n",
       "      <td id=\"T_49c91_row1_col3\" class=\"data row1 col3\" >5631</td>\n",
       "      <td id=\"T_49c91_row1_col4\" class=\"data row1 col4\" >0</td>\n",
       "      <td id=\"T_49c91_row1_col5\" class=\"data row1 col5\" >0</td>\n",
       "      <td id=\"T_49c91_row1_col6\" class=\"data row1 col6\" >1</td>\n",
       "      <td id=\"T_49c91_row1_col7\" class=\"data row1 col7\" >1</td>\n",
       "      <td id=\"T_49c91_row1_col8\" class=\"data row1 col8\" >1</td>\n",
       "      <td id=\"T_49c91_row1_col9\" class=\"data row1 col9\" >1</td>\n",
       "      <td id=\"T_49c91_row1_col10\" class=\"data row1 col10\" >1</td>\n",
       "      <td id=\"T_49c91_row1_col11\" class=\"data row1 col11\" >1</td>\n",
       "      <td id=\"T_49c91_row1_col12\" class=\"data row1 col12\" >1</td>\n",
       "      <td id=\"T_49c91_row1_col13\" class=\"data row1 col13\" >-19</td>\n",
       "      <td id=\"T_49c91_row1_col14\" class=\"data row1 col14\" >1</td>\n",
       "      <td id=\"T_49c91_row1_col15\" class=\"data row1 col15\" >0</td>\n",
       "      <td id=\"T_49c91_row1_col16\" class=\"data row1 col16\" >1</td>\n",
       "      <td id=\"T_49c91_row1_col17\" class=\"data row1 col17\" >0</td>\n",
       "      <td id=\"T_49c91_row1_col18\" class=\"data row1 col18\" >0</td>\n",
       "      <td id=\"T_49c91_row1_col19\" class=\"data row1 col19\" >0</td>\n",
       "      <td id=\"T_49c91_row1_col20\" class=\"data row1 col20\" >0</td>\n",
       "      <td id=\"T_49c91_row1_col21\" class=\"data row1 col21\" >0</td>\n",
       "      <td id=\"T_49c91_row1_col22\" class=\"data row1 col22\" >0</td>\n",
       "      <td id=\"T_49c91_row1_col23\" class=\"data row1 col23\" >0</td>\n",
       "      <td id=\"T_49c91_row1_col24\" class=\"data row1 col24\" >0</td>\n",
       "      <td id=\"T_49c91_row1_col25\" class=\"data row1 col25\" >1</td>\n",
       "      <td id=\"T_49c91_row1_col26\" class=\"data row1 col26\" >0</td>\n",
       "      <td id=\"T_49c91_row1_col27\" class=\"data row1 col27\" >0</td>\n",
       "      <td id=\"T_49c91_row1_col28\" class=\"data row1 col28\" >0</td>\n",
       "      <td id=\"T_49c91_row1_col29\" class=\"data row1 col29\" >0</td>\n",
       "      <td id=\"T_49c91_row1_col30\" class=\"data row1 col30\" >0</td>\n",
       "      <td id=\"T_49c91_row1_col31\" class=\"data row1 col31\" >0</td>\n",
       "      <td id=\"T_49c91_row1_col32\" class=\"data row1 col32\" >0</td>\n",
       "      <td id=\"T_49c91_row1_col33\" class=\"data row1 col33\" >0</td>\n",
       "      <td id=\"T_49c91_row1_col34\" class=\"data row1 col34\" >203</td>\n",
       "      <td id=\"T_49c91_row1_col35\" class=\"data row1 col35\" >819</td>\n",
       "      <td id=\"T_49c91_row1_col36\" class=\"data row1 col36\" >2300</td>\n",
       "      <td id=\"T_49c91_row1_col37\" class=\"data row1 col37\" >14880</td>\n",
       "      <td id=\"T_49c91_row1_col38\" class=\"data row1 col38\" >20450</td>\n",
       "      <td id=\"T_49c91_row1_col39\" class=\"data row1 col39\" >13948</td>\n",
       "      <td id=\"T_49c91_row1_col40\" class=\"data row1 col40\" >7355</td>\n",
       "      <td id=\"T_49c91_row1_col41\" class=\"data row1 col41\" >0</td>\n",
       "      <td id=\"T_49c91_row1_col42\" class=\"data row1 col42\" >13095</td>\n",
       "      <td id=\"T_49c91_row1_col43\" class=\"data row1 col43\" >203</td>\n",
       "      <td id=\"T_49c91_row1_col44\" class=\"data row1 col44\" >203</td>\n",
       "      <td id=\"T_49c91_row1_col45\" class=\"data row1 col45\" >203</td>\n",
       "      <td id=\"T_49c91_row1_col46\" class=\"data row1 col46\" >21278</td>\n",
       "      <td id=\"T_49c91_row1_col47\" class=\"data row1 col47\" >203</td>\n",
       "      <td id=\"T_49c91_row1_col48\" class=\"data row1 col48\" >203</td>\n",
       "      <td id=\"T_49c91_row1_col49\" class=\"data row1 col49\" >0</td>\n",
       "      <td id=\"T_49c91_row1_col50\" class=\"data row1 col50\" >0</td>\n",
       "      <td id=\"T_49c91_row1_col51\" class=\"data row1 col51\" >1</td>\n",
       "      <td id=\"T_49c91_row1_col52\" class=\"data row1 col52\" >0</td>\n",
       "      <td id=\"T_49c91_row1_col53\" class=\"data row1 col53\" >0</td>\n",
       "      <td id=\"T_49c91_row1_col54\" class=\"data row1 col54\" >1</td>\n",
       "      <td id=\"T_49c91_row1_col55\" class=\"data row1 col55\" >1</td>\n",
       "      <td id=\"T_49c91_row1_col56\" class=\"data row1 col56\" >0</td>\n",
       "      <td id=\"T_49c91_row1_col57\" class=\"data row1 col57\" >0</td>\n",
       "      <td id=\"T_49c91_row1_col58\" class=\"data row1 col58\" >0</td>\n",
       "      <td id=\"T_49c91_row1_col59\" class=\"data row1 col59\" >1</td>\n",
       "      <td id=\"T_49c91_row1_col60\" class=\"data row1 col60\" >1</td>\n",
       "      <td id=\"T_49c91_row1_col61\" class=\"data row1 col61\" >0</td>\n",
       "      <td id=\"T_49c91_row1_col62\" class=\"data row1 col62\" >0</td>\n",
       "      <td id=\"T_49c91_row1_col63\" class=\"data row1 col63\" >1</td>\n",
       "      <td id=\"T_49c91_row1_col64\" class=\"data row1 col64\" >0</td>\n",
       "    </tr>\n",
       "    <tr>\n",
       "      <th id=\"T_49c91_level0_row2\" class=\"row_heading level0 row2\" >2</th>\n",
       "      <td id=\"T_49c91_row2_col0\" class=\"data row2 col0\" >-1</td>\n",
       "      <td id=\"T_49c91_row2_col1\" class=\"data row2 col1\" >0</td>\n",
       "      <td id=\"T_49c91_row2_col2\" class=\"data row2 col2\" >1</td>\n",
       "      <td id=\"T_49c91_row2_col3\" class=\"data row2 col3\" >5631</td>\n",
       "      <td id=\"T_49c91_row2_col4\" class=\"data row2 col4\" >0</td>\n",
       "      <td id=\"T_49c91_row2_col5\" class=\"data row2 col5\" >0</td>\n",
       "      <td id=\"T_49c91_row2_col6\" class=\"data row2 col6\" >1</td>\n",
       "      <td id=\"T_49c91_row2_col7\" class=\"data row2 col7\" >1</td>\n",
       "      <td id=\"T_49c91_row2_col8\" class=\"data row2 col8\" >1</td>\n",
       "      <td id=\"T_49c91_row2_col9\" class=\"data row2 col9\" >1</td>\n",
       "      <td id=\"T_49c91_row2_col10\" class=\"data row2 col10\" >1</td>\n",
       "      <td id=\"T_49c91_row2_col11\" class=\"data row2 col11\" >1</td>\n",
       "      <td id=\"T_49c91_row2_col12\" class=\"data row2 col12\" >1</td>\n",
       "      <td id=\"T_49c91_row2_col13\" class=\"data row2 col13\" >-19</td>\n",
       "      <td id=\"T_49c91_row2_col14\" class=\"data row2 col14\" >1</td>\n",
       "      <td id=\"T_49c91_row2_col15\" class=\"data row2 col15\" >0</td>\n",
       "      <td id=\"T_49c91_row2_col16\" class=\"data row2 col16\" >1</td>\n",
       "      <td id=\"T_49c91_row2_col17\" class=\"data row2 col17\" >0</td>\n",
       "      <td id=\"T_49c91_row2_col18\" class=\"data row2 col18\" >0</td>\n",
       "      <td id=\"T_49c91_row2_col19\" class=\"data row2 col19\" >0</td>\n",
       "      <td id=\"T_49c91_row2_col20\" class=\"data row2 col20\" >0</td>\n",
       "      <td id=\"T_49c91_row2_col21\" class=\"data row2 col21\" >0</td>\n",
       "      <td id=\"T_49c91_row2_col22\" class=\"data row2 col22\" >0</td>\n",
       "      <td id=\"T_49c91_row2_col23\" class=\"data row2 col23\" >0</td>\n",
       "      <td id=\"T_49c91_row2_col24\" class=\"data row2 col24\" >0</td>\n",
       "      <td id=\"T_49c91_row2_col25\" class=\"data row2 col25\" >1</td>\n",
       "      <td id=\"T_49c91_row2_col26\" class=\"data row2 col26\" >0</td>\n",
       "      <td id=\"T_49c91_row2_col27\" class=\"data row2 col27\" >0</td>\n",
       "      <td id=\"T_49c91_row2_col28\" class=\"data row2 col28\" >0</td>\n",
       "      <td id=\"T_49c91_row2_col29\" class=\"data row2 col29\" >0</td>\n",
       "      <td id=\"T_49c91_row2_col30\" class=\"data row2 col30\" >0</td>\n",
       "      <td id=\"T_49c91_row2_col31\" class=\"data row2 col31\" >0</td>\n",
       "      <td id=\"T_49c91_row2_col32\" class=\"data row2 col32\" >0</td>\n",
       "      <td id=\"T_49c91_row2_col33\" class=\"data row2 col33\" >0</td>\n",
       "      <td id=\"T_49c91_row2_col34\" class=\"data row2 col34\" >203</td>\n",
       "      <td id=\"T_49c91_row2_col35\" class=\"data row2 col35\" >819</td>\n",
       "      <td id=\"T_49c91_row2_col36\" class=\"data row2 col36\" >2300</td>\n",
       "      <td id=\"T_49c91_row2_col37\" class=\"data row2 col37\" >14880</td>\n",
       "      <td id=\"T_49c91_row2_col38\" class=\"data row2 col38\" >20450</td>\n",
       "      <td id=\"T_49c91_row2_col39\" class=\"data row2 col39\" >13948</td>\n",
       "      <td id=\"T_49c91_row2_col40\" class=\"data row2 col40\" >7355</td>\n",
       "      <td id=\"T_49c91_row2_col41\" class=\"data row2 col41\" >0</td>\n",
       "      <td id=\"T_49c91_row2_col42\" class=\"data row2 col42\" >13095</td>\n",
       "      <td id=\"T_49c91_row2_col43\" class=\"data row2 col43\" >203</td>\n",
       "      <td id=\"T_49c91_row2_col44\" class=\"data row2 col44\" >20947</td>\n",
       "      <td id=\"T_49c91_row2_col45\" class=\"data row2 col45\" >203</td>\n",
       "      <td id=\"T_49c91_row2_col46\" class=\"data row2 col46\" >0</td>\n",
       "      <td id=\"T_49c91_row2_col47\" class=\"data row2 col47\" >203</td>\n",
       "      <td id=\"T_49c91_row2_col48\" class=\"data row2 col48\" >203</td>\n",
       "      <td id=\"T_49c91_row2_col49\" class=\"data row2 col49\" >0</td>\n",
       "      <td id=\"T_49c91_row2_col50\" class=\"data row2 col50\" >0</td>\n",
       "      <td id=\"T_49c91_row2_col51\" class=\"data row2 col51\" >1</td>\n",
       "      <td id=\"T_49c91_row2_col52\" class=\"data row2 col52\" >0</td>\n",
       "      <td id=\"T_49c91_row2_col53\" class=\"data row2 col53\" >0</td>\n",
       "      <td id=\"T_49c91_row2_col54\" class=\"data row2 col54\" >1</td>\n",
       "      <td id=\"T_49c91_row2_col55\" class=\"data row2 col55\" >1</td>\n",
       "      <td id=\"T_49c91_row2_col56\" class=\"data row2 col56\" >0</td>\n",
       "      <td id=\"T_49c91_row2_col57\" class=\"data row2 col57\" >0</td>\n",
       "      <td id=\"T_49c91_row2_col58\" class=\"data row2 col58\" >0</td>\n",
       "      <td id=\"T_49c91_row2_col59\" class=\"data row2 col59\" >1</td>\n",
       "      <td id=\"T_49c91_row2_col60\" class=\"data row2 col60\" >1</td>\n",
       "      <td id=\"T_49c91_row2_col61\" class=\"data row2 col61\" >0</td>\n",
       "      <td id=\"T_49c91_row2_col62\" class=\"data row2 col62\" >0</td>\n",
       "      <td id=\"T_49c91_row2_col63\" class=\"data row2 col63\" >1</td>\n",
       "      <td id=\"T_49c91_row2_col64\" class=\"data row2 col64\" >0</td>\n",
       "    </tr>\n",
       "    <tr>\n",
       "      <th id=\"T_49c91_level0_row3\" class=\"row_heading level0 row3\" >3</th>\n",
       "      <td id=\"T_49c91_row3_col0\" class=\"data row3 col0\" >-1</td>\n",
       "      <td id=\"T_49c91_row3_col1\" class=\"data row3 col1\" >0</td>\n",
       "      <td id=\"T_49c91_row3_col2\" class=\"data row3 col2\" >1</td>\n",
       "      <td id=\"T_49c91_row3_col3\" class=\"data row3 col3\" >5631</td>\n",
       "      <td id=\"T_49c91_row3_col4\" class=\"data row3 col4\" >0</td>\n",
       "      <td id=\"T_49c91_row3_col5\" class=\"data row3 col5\" >0</td>\n",
       "      <td id=\"T_49c91_row3_col6\" class=\"data row3 col6\" >7</td>\n",
       "      <td id=\"T_49c91_row3_col7\" class=\"data row3 col7\" >1</td>\n",
       "      <td id=\"T_49c91_row3_col8\" class=\"data row3 col8\" >1</td>\n",
       "      <td id=\"T_49c91_row3_col9\" class=\"data row3 col9\" >1</td>\n",
       "      <td id=\"T_49c91_row3_col10\" class=\"data row3 col10\" >1</td>\n",
       "      <td id=\"T_49c91_row3_col11\" class=\"data row3 col11\" >1</td>\n",
       "      <td id=\"T_49c91_row3_col12\" class=\"data row3 col12\" >1</td>\n",
       "      <td id=\"T_49c91_row3_col13\" class=\"data row3 col13\" >-19</td>\n",
       "      <td id=\"T_49c91_row3_col14\" class=\"data row3 col14\" >1</td>\n",
       "      <td id=\"T_49c91_row3_col15\" class=\"data row3 col15\" >0</td>\n",
       "      <td id=\"T_49c91_row3_col16\" class=\"data row3 col16\" >1</td>\n",
       "      <td id=\"T_49c91_row3_col17\" class=\"data row3 col17\" >0</td>\n",
       "      <td id=\"T_49c91_row3_col18\" class=\"data row3 col18\" >0</td>\n",
       "      <td id=\"T_49c91_row3_col19\" class=\"data row3 col19\" >0</td>\n",
       "      <td id=\"T_49c91_row3_col20\" class=\"data row3 col20\" >0</td>\n",
       "      <td id=\"T_49c91_row3_col21\" class=\"data row3 col21\" >0</td>\n",
       "      <td id=\"T_49c91_row3_col22\" class=\"data row3 col22\" >0</td>\n",
       "      <td id=\"T_49c91_row3_col23\" class=\"data row3 col23\" >0</td>\n",
       "      <td id=\"T_49c91_row3_col24\" class=\"data row3 col24\" >0</td>\n",
       "      <td id=\"T_49c91_row3_col25\" class=\"data row3 col25\" >1</td>\n",
       "      <td id=\"T_49c91_row3_col26\" class=\"data row3 col26\" >0</td>\n",
       "      <td id=\"T_49c91_row3_col27\" class=\"data row3 col27\" >0</td>\n",
       "      <td id=\"T_49c91_row3_col28\" class=\"data row3 col28\" >0</td>\n",
       "      <td id=\"T_49c91_row3_col29\" class=\"data row3 col29\" >0</td>\n",
       "      <td id=\"T_49c91_row3_col30\" class=\"data row3 col30\" >0</td>\n",
       "      <td id=\"T_49c91_row3_col31\" class=\"data row3 col31\" >0</td>\n",
       "      <td id=\"T_49c91_row3_col32\" class=\"data row3 col32\" >0</td>\n",
       "      <td id=\"T_49c91_row3_col33\" class=\"data row3 col33\" >0</td>\n",
       "      <td id=\"T_49c91_row3_col34\" class=\"data row3 col34\" >203</td>\n",
       "      <td id=\"T_49c91_row3_col35\" class=\"data row3 col35\" >819</td>\n",
       "      <td id=\"T_49c91_row3_col36\" class=\"data row3 col36\" >2300</td>\n",
       "      <td id=\"T_49c91_row3_col37\" class=\"data row3 col37\" >14880</td>\n",
       "      <td id=\"T_49c91_row3_col38\" class=\"data row3 col38\" >59151</td>\n",
       "      <td id=\"T_49c91_row3_col39\" class=\"data row3 col39\" >13948</td>\n",
       "      <td id=\"T_49c91_row3_col40\" class=\"data row3 col40\" >7355</td>\n",
       "      <td id=\"T_49c91_row3_col41\" class=\"data row3 col41\" >0</td>\n",
       "      <td id=\"T_49c91_row3_col42\" class=\"data row3 col42\" >13095</td>\n",
       "      <td id=\"T_49c91_row3_col43\" class=\"data row3 col43\" >203</td>\n",
       "      <td id=\"T_49c91_row3_col44\" class=\"data row3 col44\" >203</td>\n",
       "      <td id=\"T_49c91_row3_col45\" class=\"data row3 col45\" >203</td>\n",
       "      <td id=\"T_49c91_row3_col46\" class=\"data row3 col46\" >0</td>\n",
       "      <td id=\"T_49c91_row3_col47\" class=\"data row3 col47\" >203</td>\n",
       "      <td id=\"T_49c91_row3_col48\" class=\"data row3 col48\" >203</td>\n",
       "      <td id=\"T_49c91_row3_col49\" class=\"data row3 col49\" >0</td>\n",
       "      <td id=\"T_49c91_row3_col50\" class=\"data row3 col50\" >0</td>\n",
       "      <td id=\"T_49c91_row3_col51\" class=\"data row3 col51\" >1</td>\n",
       "      <td id=\"T_49c91_row3_col52\" class=\"data row3 col52\" >0</td>\n",
       "      <td id=\"T_49c91_row3_col53\" class=\"data row3 col53\" >0</td>\n",
       "      <td id=\"T_49c91_row3_col54\" class=\"data row3 col54\" >1</td>\n",
       "      <td id=\"T_49c91_row3_col55\" class=\"data row3 col55\" >1</td>\n",
       "      <td id=\"T_49c91_row3_col56\" class=\"data row3 col56\" >0</td>\n",
       "      <td id=\"T_49c91_row3_col57\" class=\"data row3 col57\" >0</td>\n",
       "      <td id=\"T_49c91_row3_col58\" class=\"data row3 col58\" >0</td>\n",
       "      <td id=\"T_49c91_row3_col59\" class=\"data row3 col59\" >1</td>\n",
       "      <td id=\"T_49c91_row3_col60\" class=\"data row3 col60\" >1</td>\n",
       "      <td id=\"T_49c91_row3_col61\" class=\"data row3 col61\" >0</td>\n",
       "      <td id=\"T_49c91_row3_col62\" class=\"data row3 col62\" >0</td>\n",
       "      <td id=\"T_49c91_row3_col63\" class=\"data row3 col63\" >1</td>\n",
       "      <td id=\"T_49c91_row3_col64\" class=\"data row3 col64\" >0</td>\n",
       "    </tr>\n",
       "    <tr>\n",
       "      <th id=\"T_49c91_level0_row4\" class=\"row_heading level0 row4\" >4</th>\n",
       "      <td id=\"T_49c91_row4_col0\" class=\"data row4 col0\" >-1</td>\n",
       "      <td id=\"T_49c91_row4_col1\" class=\"data row4 col1\" >0</td>\n",
       "      <td id=\"T_49c91_row4_col2\" class=\"data row4 col2\" >1</td>\n",
       "      <td id=\"T_49c91_row4_col3\" class=\"data row4 col3\" >5631</td>\n",
       "      <td id=\"T_49c91_row4_col4\" class=\"data row4 col4\" >0</td>\n",
       "      <td id=\"T_49c91_row4_col5\" class=\"data row4 col5\" >0</td>\n",
       "      <td id=\"T_49c91_row4_col6\" class=\"data row4 col6\" >1</td>\n",
       "      <td id=\"T_49c91_row4_col7\" class=\"data row4 col7\" >1</td>\n",
       "      <td id=\"T_49c91_row4_col8\" class=\"data row4 col8\" >1</td>\n",
       "      <td id=\"T_49c91_row4_col9\" class=\"data row4 col9\" >1</td>\n",
       "      <td id=\"T_49c91_row4_col10\" class=\"data row4 col10\" >1</td>\n",
       "      <td id=\"T_49c91_row4_col11\" class=\"data row4 col11\" >1</td>\n",
       "      <td id=\"T_49c91_row4_col12\" class=\"data row4 col12\" >1</td>\n",
       "      <td id=\"T_49c91_row4_col13\" class=\"data row4 col13\" >-19</td>\n",
       "      <td id=\"T_49c91_row4_col14\" class=\"data row4 col14\" >1</td>\n",
       "      <td id=\"T_49c91_row4_col15\" class=\"data row4 col15\" >0</td>\n",
       "      <td id=\"T_49c91_row4_col16\" class=\"data row4 col16\" >1</td>\n",
       "      <td id=\"T_49c91_row4_col17\" class=\"data row4 col17\" >0</td>\n",
       "      <td id=\"T_49c91_row4_col18\" class=\"data row4 col18\" >0</td>\n",
       "      <td id=\"T_49c91_row4_col19\" class=\"data row4 col19\" >0</td>\n",
       "      <td id=\"T_49c91_row4_col20\" class=\"data row4 col20\" >0</td>\n",
       "      <td id=\"T_49c91_row4_col21\" class=\"data row4 col21\" >0</td>\n",
       "      <td id=\"T_49c91_row4_col22\" class=\"data row4 col22\" >0</td>\n",
       "      <td id=\"T_49c91_row4_col23\" class=\"data row4 col23\" >0</td>\n",
       "      <td id=\"T_49c91_row4_col24\" class=\"data row4 col24\" >0</td>\n",
       "      <td id=\"T_49c91_row4_col25\" class=\"data row4 col25\" >1</td>\n",
       "      <td id=\"T_49c91_row4_col26\" class=\"data row4 col26\" >0</td>\n",
       "      <td id=\"T_49c91_row4_col27\" class=\"data row4 col27\" >0</td>\n",
       "      <td id=\"T_49c91_row4_col28\" class=\"data row4 col28\" >0</td>\n",
       "      <td id=\"T_49c91_row4_col29\" class=\"data row4 col29\" >0</td>\n",
       "      <td id=\"T_49c91_row4_col30\" class=\"data row4 col30\" >0</td>\n",
       "      <td id=\"T_49c91_row4_col31\" class=\"data row4 col31\" >0</td>\n",
       "      <td id=\"T_49c91_row4_col32\" class=\"data row4 col32\" >0</td>\n",
       "      <td id=\"T_49c91_row4_col33\" class=\"data row4 col33\" >0</td>\n",
       "      <td id=\"T_49c91_row4_col34\" class=\"data row4 col34\" >203</td>\n",
       "      <td id=\"T_49c91_row4_col35\" class=\"data row4 col35\" >819</td>\n",
       "      <td id=\"T_49c91_row4_col36\" class=\"data row4 col36\" >2300</td>\n",
       "      <td id=\"T_49c91_row4_col37\" class=\"data row4 col37\" >14880</td>\n",
       "      <td id=\"T_49c91_row4_col38\" class=\"data row4 col38\" >20450</td>\n",
       "      <td id=\"T_49c91_row4_col39\" class=\"data row4 col39\" >13948</td>\n",
       "      <td id=\"T_49c91_row4_col40\" class=\"data row4 col40\" >7355</td>\n",
       "      <td id=\"T_49c91_row4_col41\" class=\"data row4 col41\" >0</td>\n",
       "      <td id=\"T_49c91_row4_col42\" class=\"data row4 col42\" >13095</td>\n",
       "      <td id=\"T_49c91_row4_col43\" class=\"data row4 col43\" >203</td>\n",
       "      <td id=\"T_49c91_row4_col44\" class=\"data row4 col44\" >21709</td>\n",
       "      <td id=\"T_49c91_row4_col45\" class=\"data row4 col45\" >203</td>\n",
       "      <td id=\"T_49c91_row4_col46\" class=\"data row4 col46\" >0</td>\n",
       "      <td id=\"T_49c91_row4_col47\" class=\"data row4 col47\" >203</td>\n",
       "      <td id=\"T_49c91_row4_col48\" class=\"data row4 col48\" >203</td>\n",
       "      <td id=\"T_49c91_row4_col49\" class=\"data row4 col49\" >0</td>\n",
       "      <td id=\"T_49c91_row4_col50\" class=\"data row4 col50\" >0</td>\n",
       "      <td id=\"T_49c91_row4_col51\" class=\"data row4 col51\" >1</td>\n",
       "      <td id=\"T_49c91_row4_col52\" class=\"data row4 col52\" >0</td>\n",
       "      <td id=\"T_49c91_row4_col53\" class=\"data row4 col53\" >0</td>\n",
       "      <td id=\"T_49c91_row4_col54\" class=\"data row4 col54\" >1</td>\n",
       "      <td id=\"T_49c91_row4_col55\" class=\"data row4 col55\" >1</td>\n",
       "      <td id=\"T_49c91_row4_col56\" class=\"data row4 col56\" >0</td>\n",
       "      <td id=\"T_49c91_row4_col57\" class=\"data row4 col57\" >0</td>\n",
       "      <td id=\"T_49c91_row4_col58\" class=\"data row4 col58\" >0</td>\n",
       "      <td id=\"T_49c91_row4_col59\" class=\"data row4 col59\" >1</td>\n",
       "      <td id=\"T_49c91_row4_col60\" class=\"data row4 col60\" >1</td>\n",
       "      <td id=\"T_49c91_row4_col61\" class=\"data row4 col61\" >0</td>\n",
       "      <td id=\"T_49c91_row4_col62\" class=\"data row4 col62\" >0</td>\n",
       "      <td id=\"T_49c91_row4_col63\" class=\"data row4 col63\" >1</td>\n",
       "      <td id=\"T_49c91_row4_col64\" class=\"data row4 col64\" >0</td>\n",
       "    </tr>\n",
       "    <tr>\n",
       "      <th id=\"T_49c91_level0_row5\" class=\"row_heading level0 row5\" >5</th>\n",
       "      <td id=\"T_49c91_row5_col0\" class=\"data row5 col0\" >-1</td>\n",
       "      <td id=\"T_49c91_row5_col1\" class=\"data row5 col1\" >0</td>\n",
       "      <td id=\"T_49c91_row5_col2\" class=\"data row5 col2\" >1</td>\n",
       "      <td id=\"T_49c91_row5_col3\" class=\"data row5 col3\" >5631</td>\n",
       "      <td id=\"T_49c91_row5_col4\" class=\"data row5 col4\" >0</td>\n",
       "      <td id=\"T_49c91_row5_col5\" class=\"data row5 col5\" >1</td>\n",
       "      <td id=\"T_49c91_row5_col6\" class=\"data row5 col6\" >1</td>\n",
       "      <td id=\"T_49c91_row5_col7\" class=\"data row5 col7\" >1</td>\n",
       "      <td id=\"T_49c91_row5_col8\" class=\"data row5 col8\" >1</td>\n",
       "      <td id=\"T_49c91_row5_col9\" class=\"data row5 col9\" >1</td>\n",
       "      <td id=\"T_49c91_row5_col10\" class=\"data row5 col10\" >1</td>\n",
       "      <td id=\"T_49c91_row5_col11\" class=\"data row5 col11\" >1</td>\n",
       "      <td id=\"T_49c91_row5_col12\" class=\"data row5 col12\" >1</td>\n",
       "      <td id=\"T_49c91_row5_col13\" class=\"data row5 col13\" >-19</td>\n",
       "      <td id=\"T_49c91_row5_col14\" class=\"data row5 col14\" >1</td>\n",
       "      <td id=\"T_49c91_row5_col15\" class=\"data row5 col15\" >0</td>\n",
       "      <td id=\"T_49c91_row5_col16\" class=\"data row5 col16\" >1</td>\n",
       "      <td id=\"T_49c91_row5_col17\" class=\"data row5 col17\" >0</td>\n",
       "      <td id=\"T_49c91_row5_col18\" class=\"data row5 col18\" >0</td>\n",
       "      <td id=\"T_49c91_row5_col19\" class=\"data row5 col19\" >0</td>\n",
       "      <td id=\"T_49c91_row5_col20\" class=\"data row5 col20\" >0</td>\n",
       "      <td id=\"T_49c91_row5_col21\" class=\"data row5 col21\" >0</td>\n",
       "      <td id=\"T_49c91_row5_col22\" class=\"data row5 col22\" >0</td>\n",
       "      <td id=\"T_49c91_row5_col23\" class=\"data row5 col23\" >0</td>\n",
       "      <td id=\"T_49c91_row5_col24\" class=\"data row5 col24\" >0</td>\n",
       "      <td id=\"T_49c91_row5_col25\" class=\"data row5 col25\" >1</td>\n",
       "      <td id=\"T_49c91_row5_col26\" class=\"data row5 col26\" >0</td>\n",
       "      <td id=\"T_49c91_row5_col27\" class=\"data row5 col27\" >0</td>\n",
       "      <td id=\"T_49c91_row5_col28\" class=\"data row5 col28\" >0</td>\n",
       "      <td id=\"T_49c91_row5_col29\" class=\"data row5 col29\" >0</td>\n",
       "      <td id=\"T_49c91_row5_col30\" class=\"data row5 col30\" >0</td>\n",
       "      <td id=\"T_49c91_row5_col31\" class=\"data row5 col31\" >0</td>\n",
       "      <td id=\"T_49c91_row5_col32\" class=\"data row5 col32\" >0</td>\n",
       "      <td id=\"T_49c91_row5_col33\" class=\"data row5 col33\" >0</td>\n",
       "      <td id=\"T_49c91_row5_col34\" class=\"data row5 col34\" >203</td>\n",
       "      <td id=\"T_49c91_row5_col35\" class=\"data row5 col35\" >819</td>\n",
       "      <td id=\"T_49c91_row5_col36\" class=\"data row5 col36\" >2300</td>\n",
       "      <td id=\"T_49c91_row5_col37\" class=\"data row5 col37\" >14880</td>\n",
       "      <td id=\"T_49c91_row5_col38\" class=\"data row5 col38\" >56771</td>\n",
       "      <td id=\"T_49c91_row5_col39\" class=\"data row5 col39\" >13948</td>\n",
       "      <td id=\"T_49c91_row5_col40\" class=\"data row5 col40\" >7355</td>\n",
       "      <td id=\"T_49c91_row5_col41\" class=\"data row5 col41\" >0</td>\n",
       "      <td id=\"T_49c91_row5_col42\" class=\"data row5 col42\" >13095</td>\n",
       "      <td id=\"T_49c91_row5_col43\" class=\"data row5 col43\" >203</td>\n",
       "      <td id=\"T_49c91_row5_col44\" class=\"data row5 col44\" >203</td>\n",
       "      <td id=\"T_49c91_row5_col45\" class=\"data row5 col45\" >203</td>\n",
       "      <td id=\"T_49c91_row5_col46\" class=\"data row5 col46\" >0</td>\n",
       "      <td id=\"T_49c91_row5_col47\" class=\"data row5 col47\" >203</td>\n",
       "      <td id=\"T_49c91_row5_col48\" class=\"data row5 col48\" >203</td>\n",
       "      <td id=\"T_49c91_row5_col49\" class=\"data row5 col49\" >0</td>\n",
       "      <td id=\"T_49c91_row5_col50\" class=\"data row5 col50\" >0</td>\n",
       "      <td id=\"T_49c91_row5_col51\" class=\"data row5 col51\" >1</td>\n",
       "      <td id=\"T_49c91_row5_col52\" class=\"data row5 col52\" >0</td>\n",
       "      <td id=\"T_49c91_row5_col53\" class=\"data row5 col53\" >0</td>\n",
       "      <td id=\"T_49c91_row5_col54\" class=\"data row5 col54\" >1</td>\n",
       "      <td id=\"T_49c91_row5_col55\" class=\"data row5 col55\" >1</td>\n",
       "      <td id=\"T_49c91_row5_col56\" class=\"data row5 col56\" >0</td>\n",
       "      <td id=\"T_49c91_row5_col57\" class=\"data row5 col57\" >0</td>\n",
       "      <td id=\"T_49c91_row5_col58\" class=\"data row5 col58\" >0</td>\n",
       "      <td id=\"T_49c91_row5_col59\" class=\"data row5 col59\" >1</td>\n",
       "      <td id=\"T_49c91_row5_col60\" class=\"data row5 col60\" >1</td>\n",
       "      <td id=\"T_49c91_row5_col61\" class=\"data row5 col61\" >0</td>\n",
       "      <td id=\"T_49c91_row5_col62\" class=\"data row5 col62\" >0</td>\n",
       "      <td id=\"T_49c91_row5_col63\" class=\"data row5 col63\" >1</td>\n",
       "      <td id=\"T_49c91_row5_col64\" class=\"data row5 col64\" >0</td>\n",
       "    </tr>\n",
       "  </tbody>\n",
       "</table>\n"
      ],
      "text/plain": [
       "<pandas.io.formats.style.Styler at 0x7fdfd05d4070>"
      ]
     },
     "metadata": {},
     "output_type": "display_data"
    }
   ],
   "source": [
    "# 3. Visualize differences\n",
    "display(styled_result)"
   ]
  },
  {
   "cell_type": "markdown",
   "id": "984b94da-d0a4-4bf0-9d6d-f43a20d4df56",
   "metadata": {},
   "source": [
    "# Prepare Data for Metric Calculations"
   ]
  },
  {
   "cell_type": "markdown",
   "id": "6d721533-fd83-4f09-9253-6faf34e3c1ce",
   "metadata": {},
   "source": [
    "### Prepare DiCE input to Metrics function"
   ]
  },
  {
   "cell_type": "code",
   "execution_count": 31,
   "id": "1d5733b8-aad3-4ae2-a491-4f3322d37801",
   "metadata": {},
   "outputs": [],
   "source": [
    "@timeit\n",
    "def generate_counterfactuals_for_instances(df, num_instances=20, sLabel='Fraud'):\n",
    "    \"\"\"\n",
    "    Generate counterfactual explanations for a specified number of instances from a dataframe.\n",
    "    \n",
    "    Args:\n",
    "    - df (pd.DataFrame): The dataframe containing the original instances.\n",
    "    - num_instances (int): The number of instances for which to generate counterfactuals.\n",
    "    \n",
    "    Returns:\n",
    "    - original_instances_df (pd.DataFrame): DataFrame containing the original instances.\n",
    "    - counterfactuals_df (pd.DataFrame): DataFrame containing the counterfactual explanations.\n",
    "    \"\"\"\n",
    "    # Prepare an empty dataframe for counterfactuals\n",
    "    counterfactuals_list = []\n",
    "    \n",
    "    # Select the first 'num_instances' from the dataframe\n",
    "    original_instances_df = df.head(num_instances)\n",
    "    \n",
    "    for _, instance in original_instances_df.iterrows():\n",
    "        # Convert the instance to DataFrame\n",
    "        \n",
    "        instance_df = instance.drop(sLabel).to_frame().T\n",
    "        #instance_df = instance.drop('default').to_frame().T\n",
    "        #instance_df = instance.to_frame().T\n",
    "        \n",
    "        # Generate counterfactual for the instance\n",
    "        dice_exp = exp.generate_counterfactuals(instance_df, total_CFs=1, desired_class=\"opposite\")\n",
    "        \n",
    "        # Extract the counterfactual to a DataFrame\n",
    "        cf_df = dice_exp.cf_examples_list[0].final_cfs_df.drop(sLabel, axis=1)\n",
    "        #cf_df = dice_exp.cf_examples_list[0].final_cfs_df.drop('default', axis=1)\n",
    "        #cf_df = dice_exp.cf_examples_list[0].final_cfs_df\n",
    "        \n",
    "        # Append the counterfactual to the list\n",
    "        counterfactuals_list.append(cf_df.iloc[0])\n",
    "    \n",
    "    counterfactuals_df = pd.DataFrame(counterfactuals_list).reset_index(drop=True)\n",
    "    \n",
    "    return original_instances_df, counterfactuals_df"
   ]
  },
  {
   "cell_type": "markdown",
   "id": "e15ce31c-f80b-4d5f-a666-48e31fc11d65",
   "metadata": {},
   "source": [
    "# XAI Experiments - Metrics Capture"
   ]
  },
  {
   "cell_type": "markdown",
   "id": "0e223116-befa-4ea5-a1ef-082a8cb2b53d",
   "metadata": {},
   "source": [
    "## Suppress Warnings to clean up output"
   ]
  },
  {
   "cell_type": "code",
   "execution_count": 32,
   "id": "a2f98fd8-7e35-439d-aec6-60a5bb7c32d7",
   "metadata": {},
   "outputs": [],
   "source": [
    "import warnings\n",
    "warnings.simplefilter(action='ignore', category=Warning)"
   ]
  },
  {
   "cell_type": "markdown",
   "id": "10cf93e6-78ed-4595-855a-6f187d2d226f",
   "metadata": {},
   "source": [
    "## Break out Model Test Data into a list of dataframes"
   ]
  },
  {
   "cell_type": "markdown",
   "id": "9bb03a92-2859-4b38-b8cc-909280d10c3d",
   "metadata": {},
   "source": [
    "### Create Test Data for Experiment Input"
   ]
  },
  {
   "cell_type": "code",
   "execution_count": 33,
   "id": "927706bd-125e-4769-93fc-6286204daf4b",
   "metadata": {},
   "outputs": [],
   "source": [
    "#X_test_loaded.head()"
   ]
  },
  {
   "cell_type": "code",
   "execution_count": 34,
   "id": "c59b57e9-44a8-4ef5-babd-e08221b86e89",
   "metadata": {},
   "outputs": [],
   "source": [
    "#y_test_loaded.head()"
   ]
  },
  {
   "cell_type": "code",
   "execution_count": 35,
   "id": "ec8f7d0c-e9b9-4931-9834-4d38104c0c10",
   "metadata": {},
   "outputs": [],
   "source": [
    "#X_test_loaded.shape"
   ]
  },
  {
   "cell_type": "markdown",
   "id": "5594c5d4-5cf1-4726-9a5f-ca605de1ef9f",
   "metadata": {},
   "source": [
    "Step 1: Ensure 'X_test' and 'y_test' Are DataFrames with Proper Columns"
   ]
  },
  {
   "cell_type": "code",
   "execution_count": 36,
   "id": "093213b5-d0f5-4627-b12d-accf13fc894a",
   "metadata": {},
   "outputs": [],
   "source": [
    "# Assuming 'X_test' is a numpy array and you have a list of the original column names\n",
    "original_feature_names = [col for col in df_downsampled_loaded.columns if col != 'Fraud']\n",
    "\n",
    "# Ensure X_test_loaded has the correct column names (if necessary)\n",
    "X_test_loaded.columns = original_feature_names"
   ]
  },
  {
   "cell_type": "code",
   "execution_count": 37,
   "id": "545999cf-6006-4e5c-84ed-799e7581eac8",
   "metadata": {},
   "outputs": [],
   "source": [
    "#X_test_loaded"
   ]
  },
  {
   "cell_type": "code",
   "execution_count": 38,
   "id": "cfed5eaf-da90-4f90-9ba8-d59bb18eaed0",
   "metadata": {},
   "outputs": [],
   "source": [
    "#y_test_loaded.head()"
   ]
  },
  {
   "cell_type": "code",
   "execution_count": 39,
   "id": "90caafcb-7f63-4052-9708-2e03dee27b0e",
   "metadata": {},
   "outputs": [],
   "source": [
    "# Combine X_test_loaded and y_test into a single DataFrame\n",
    "df_TestData = pd.concat([X_test_loaded, y_test_loaded], axis=1)"
   ]
  },
  {
   "cell_type": "code",
   "execution_count": 40,
   "id": "62d74fa3-9c07-4b51-8cdd-bb8766e32fe4",
   "metadata": {},
   "outputs": [],
   "source": [
    "#df_TestData.head()"
   ]
  },
  {
   "cell_type": "markdown",
   "id": "3a884210-9f03-42e8-9f9e-ffc6d7bda9b3",
   "metadata": {},
   "source": [
    "### Split the DataFrame into 20 consecutive smaller DataFrames"
   ]
  },
  {
   "cell_type": "code",
   "execution_count": 41,
   "id": "36e4c912-6b45-49be-a9c0-f69ef18a329a",
   "metadata": {},
   "outputs": [
    {
     "name": "stdout",
     "output_type": "stream",
     "text": [
      "Original DF Length: 1314\n",
      "Split Size: 65\n"
     ]
    }
   ],
   "source": [
    "# Split the DataFrame into 20 consecutive smaller DataFrames\n",
    "split_size, list_df = split_TestData_into_nn_Blocks(df_TestData, num_splits = 20)"
   ]
  },
  {
   "cell_type": "code",
   "execution_count": 42,
   "id": "e6a06e73-02a2-46f2-aa74-445c51fa82e2",
   "metadata": {},
   "outputs": [
    {
     "name": "stdout",
     "output_type": "stream",
     "text": [
      "Breakdown of 'Fraud' and non-Fraud label records in df_TestData:\n",
      "0    664\n",
      "1    650\n",
      "Name: Fraud, dtype: int64\n"
     ]
    }
   ],
   "source": [
    "# Count the occurrence of each unique value in the 'Fraud' column\n",
    "fraud_counts = df_TestData['Fraud'].value_counts()\n",
    "\n",
    "# Display the counts\n",
    "print(\"Breakdown of 'Fraud' and non-Fraud label records in df_TestData:\")\n",
    "print(fraud_counts)"
   ]
  },
  {
   "cell_type": "markdown",
   "id": "fd669b36-5b95-4a5a-bd6c-75c5f50d370e",
   "metadata": {},
   "source": [
    "### Add a routine to check output values"
   ]
  },
  {
   "cell_type": "code",
   "execution_count": 43,
   "id": "1a06a179-82ce-4975-9879-02e1a762cf0d",
   "metadata": {},
   "outputs": [
    {
     "data": {
      "text/html": [
       "<div>\n",
       "<style scoped>\n",
       "    .dataframe tbody tr th:only-of-type {\n",
       "        vertical-align: middle;\n",
       "    }\n",
       "\n",
       "    .dataframe tbody tr th {\n",
       "        vertical-align: top;\n",
       "    }\n",
       "\n",
       "    .dataframe thead th {\n",
       "        text-align: right;\n",
       "    }\n",
       "</style>\n",
       "<table border=\"1\" class=\"dataframe\">\n",
       "  <thead>\n",
       "    <tr style=\"text-align: right;\">\n",
       "      <th></th>\n",
       "      <th>OnlinePOSCount.cnt.day.present</th>\n",
       "      <th>EMVTransactionsCount.cnt.day.present</th>\n",
       "      <th>NonEMVTransactionsCount.cnt.day.present</th>\n",
       "      <th>MerchantCategory</th>\n",
       "      <th>POS_Count.cnt.day.present</th>\n",
       "      <th>PinIndicator</th>\n",
       "      <th>DomesticAuthCount.cnt.hour1</th>\n",
       "      <th>DomesticAuthCount.cnt.hour3</th>\n",
       "      <th>DomesticAuthCount.cnt.hour4</th>\n",
       "      <th>DomesticAuthCount.cnt.hour10</th>\n",
       "      <th>...</th>\n",
       "      <th>TxnChannelCode_POS</th>\n",
       "      <th>CustomerPresentIndicator_N</th>\n",
       "      <th>CustomerPresentIndicator_U</th>\n",
       "      <th>CustomerPresentIndicator_Y</th>\n",
       "      <th>DvcPosEntryMode_Card Present</th>\n",
       "      <th>DvcPosEntryMode_E-Commerce</th>\n",
       "      <th>DvcPosEntryMode_U</th>\n",
       "      <th>ECommerceFlag_U</th>\n",
       "      <th>ECommerceFlag_Y</th>\n",
       "      <th>Fraud</th>\n",
       "    </tr>\n",
       "  </thead>\n",
       "  <tbody>\n",
       "    <tr>\n",
       "      <th>0</th>\n",
       "      <td>1</td>\n",
       "      <td>0</td>\n",
       "      <td>1</td>\n",
       "      <td>5541</td>\n",
       "      <td>1</td>\n",
       "      <td>0</td>\n",
       "      <td>1</td>\n",
       "      <td>1</td>\n",
       "      <td>1</td>\n",
       "      <td>1</td>\n",
       "      <td>...</td>\n",
       "      <td>1</td>\n",
       "      <td>0</td>\n",
       "      <td>0</td>\n",
       "      <td>1</td>\n",
       "      <td>1</td>\n",
       "      <td>0</td>\n",
       "      <td>0</td>\n",
       "      <td>1</td>\n",
       "      <td>0</td>\n",
       "      <td>1</td>\n",
       "    </tr>\n",
       "  </tbody>\n",
       "</table>\n",
       "<p>1 rows × 65 columns</p>\n",
       "</div>"
      ],
      "text/plain": [
       "   OnlinePOSCount.cnt.day.present  EMVTransactionsCount.cnt.day.present  \\\n",
       "0                               1                                     0   \n",
       "\n",
       "   NonEMVTransactionsCount.cnt.day.present  MerchantCategory  \\\n",
       "0                                        1              5541   \n",
       "\n",
       "   POS_Count.cnt.day.present  PinIndicator  DomesticAuthCount.cnt.hour1  \\\n",
       "0                          1             0                            1   \n",
       "\n",
       "   DomesticAuthCount.cnt.hour3  DomesticAuthCount.cnt.hour4  \\\n",
       "0                            1                            1   \n",
       "\n",
       "   DomesticAuthCount.cnt.hour10  ...  TxnChannelCode_POS  \\\n",
       "0                             1  ...                   1   \n",
       "\n",
       "   CustomerPresentIndicator_N  CustomerPresentIndicator_U  \\\n",
       "0                           0                           0   \n",
       "\n",
       "   CustomerPresentIndicator_Y  DvcPosEntryMode_Card Present  \\\n",
       "0                           1                             1   \n",
       "\n",
       "   DvcPosEntryMode_E-Commerce  DvcPosEntryMode_U  ECommerceFlag_U  \\\n",
       "0                           0                  0                1   \n",
       "\n",
       "   ECommerceFlag_Y  Fraud  \n",
       "0                0      1  \n",
       "\n",
       "[1 rows x 65 columns]"
      ]
     },
     "metadata": {},
     "output_type": "display_data"
    }
   ],
   "source": [
    "# Display starting points in the first nn sub dataframes\n",
    "startBlockDisplay(df_TestData, split_size, 1)"
   ]
  },
  {
   "cell_type": "markdown",
   "id": "f8ab48bd-aa44-458c-892e-aeb8be308876",
   "metadata": {},
   "source": [
    "## Confirm Starting Point in External XL File"
   ]
  },
  {
   "cell_type": "markdown",
   "id": "1d59c0cd-50c5-44fd-b708-0d712d5d3ed7",
   "metadata": {},
   "source": [
    "The code below acts so that for each dataframe in the list just created the following actions are carried out;\n",
    "\n",
    "Check if an XAI results XL spreadsheet called 'DiCE_XAI_Metrics_Experiments.xls' exists;\n",
    "\n",
    "If not create an empty XL spreadsheet with the name 'DiCE_XAI_Metrics_Experiments.xls', and then define a variable called ‘Sample’ with an integer value of 1 and print the value of 'Sample' to output.\n",
    "\n",
    "If and XL spreadsheet called 'DiCE_XAI_Metrics_Experiments.xls' does exist, then read the entries in the spreadsheet in the first column named ‘Sample Number’ and create a variable in this Python program named ‘Sample’ that is one integer value higher than the highest integer number column named ‘Sample Number’ in the XL, and print this value of 'Sample' to output."
   ]
  },
  {
   "cell_type": "code",
   "execution_count": 44,
   "id": "fb95e75e-8d4d-42dc-a25f-e0ce42c77352",
   "metadata": {},
   "outputs": [],
   "source": [
    "# Create a sequential number as an identifier for each DataFrame\n",
    "list_df = {f'df_{i + 1}': list_df[i] for i in range(len(list_df))}"
   ]
  },
  {
   "cell_type": "code",
   "execution_count": 45,
   "id": "5b4926fc-a9be-470c-9800-d02119b19693",
   "metadata": {},
   "outputs": [],
   "source": [
    "# File path for the XAI results spreadsheet\n",
    "DiCE_xai_file_path = 'DICE_XAI_Metrics_Experiments.xlsx'  # Stored locally"
   ]
  },
  {
   "cell_type": "code",
   "execution_count": 46,
   "id": "265e07ff-561e-4fac-a72e-8ed278d26fe5",
   "metadata": {},
   "outputs": [
    {
     "name": "stdout",
     "output_type": "stream",
     "text": [
      "Sample Number for current DiCE XAI DataFrame: 1\n"
     ]
    }
   ],
   "source": [
    "# Call Function to update or create the spreadsheet and determine the 'Sample' number\n",
    "# Process each dataframe in 'list_df'\n",
    "sample = return_next_sample_number_to_process(list_df, DiCE_xai_file_path, \"DiCE\")"
   ]
  },
  {
   "cell_type": "markdown",
   "id": "51313328-ce40-49a7-b37b-7050d5df95c7",
   "metadata": {},
   "source": [
    "## Select Next Dataframe to Process"
   ]
  },
  {
   "cell_type": "markdown",
   "id": "409c401e-7e72-43e0-bec6-dea206049d6c",
   "metadata": {},
   "source": [
    "---------------------------------\n",
    "\n",
    "\t\n",
    "Extend the Python code so that the code reads in the dataframe from 'list df' that corresponds to the integer value in the \n",
    "variable named ‘Sample’. \n",
    "\n",
    "Assign this dataframe the name 'df_Selected_from_List'.\n",
    "\n",
    "\n",
    "----------------------------------"
   ]
  },
  {
   "cell_type": "markdown",
   "id": "6fc07df0-568c-4e32-90ee-7872ea22deea",
   "metadata": {},
   "source": [
    "### Initialize Dataframe to Capture Re-start Point as None"
   ]
  },
  {
   "cell_type": "code",
   "execution_count": 47,
   "id": "4da99ff6-1854-4c2d-9aa5-a45069926310",
   "metadata": {},
   "outputs": [],
   "source": [
    "# Initialize df_Selected_from_List as None\n",
    "df_Selected_from_List = None"
   ]
  },
  {
   "cell_type": "markdown",
   "id": "bb96ba17-61f1-4647-be35-e3a564adcf54",
   "metadata": {},
   "source": [
    "### Extract test data block to restart XAI metrics process"
   ]
  },
  {
   "cell_type": "code",
   "execution_count": 48,
   "id": "b04a0528-e7dd-4d7b-9ec5-472f5931e328",
   "metadata": {},
   "outputs": [
    {
     "name": "stdout",
     "output_type": "stream",
     "text": [
      "DataFrame selected for Sample Number 1 witk key df_1\n"
     ]
    }
   ],
   "source": [
    "df_Selected_from_List, key = select_restart_testdata_block(df_Selected_from_List, \n",
    "                                                           list_df, \n",
    "                                                           DiCE_xai_file_path)"
   ]
  },
  {
   "cell_type": "code",
   "execution_count": 49,
   "id": "0bbf4186-8096-4a14-82dd-1a35927af230",
   "metadata": {},
   "outputs": [],
   "source": [
    "# If no DataFrame is selected (e.g., if 'Sample' exceeds the number of DataFrames in list_df)\n",
    "if 'df_Selected_from_List' not in locals():\n",
    "    print(\"No DataFrame selected. The 'Sample' number may exceed the number of DataFrames in list_df.\")"
   ]
  },
  {
   "cell_type": "markdown",
   "id": "6d1b17f0-e4ac-4258-adc2-3ac722ff7c51",
   "metadata": {},
   "source": [
    "------------------------------------"
   ]
  },
  {
   "cell_type": "markdown",
   "id": "15688ab9-4523-4174-9f9a-57e23c3865f0",
   "metadata": {},
   "source": [
    "## Generate XAI Metrics from Dataframe"
   ]
  },
  {
   "cell_type": "code",
   "execution_count": 50,
   "id": "e9f5b2d6-6ad0-4bed-abca-c49a2f175636",
   "metadata": {},
   "outputs": [],
   "source": [
    "#df_Selected_from_List"
   ]
  },
  {
   "cell_type": "markdown",
   "id": "33466803-bcbc-4ead-a00c-0c24a539c701",
   "metadata": {},
   "source": [
    "### Generate the Counterfactuals for the Test Data Block"
   ]
  },
  {
   "cell_type": "code",
   "execution_count": 51,
   "id": "f5705c7f-670c-4d21-a2be-bba70a2f7d78",
   "metadata": {},
   "outputs": [
    {
     "name": "stderr",
     "output_type": "stream",
     "text": [
      "100%|██████████| 1/1 [00:01<00:00,  1.27s/it]\n",
      "100%|██████████| 1/1 [00:01<00:00,  1.10s/it]\n",
      "100%|██████████| 1/1 [00:01<00:00,  1.09s/it]\n",
      "100%|██████████| 1/1 [00:01<00:00,  1.12s/it]\n",
      "100%|██████████| 1/1 [00:01<00:00,  1.12s/it]\n",
      "100%|██████████| 1/1 [00:01<00:00,  1.09s/it]\n",
      "100%|██████████| 1/1 [00:01<00:00,  1.28s/it]\n",
      "100%|██████████| 1/1 [00:01<00:00,  1.20s/it]\n",
      "100%|██████████| 1/1 [00:01<00:00,  1.13s/it]\n",
      "100%|██████████| 1/1 [00:01<00:00,  1.10s/it]\n",
      "100%|██████████| 1/1 [00:01<00:00,  1.09s/it]\n",
      "100%|██████████| 1/1 [00:01<00:00,  1.30s/it]\n",
      "100%|██████████| 1/1 [00:01<00:00,  1.19s/it]\n",
      "100%|██████████| 1/1 [00:01<00:00,  1.10s/it]\n",
      "100%|██████████| 1/1 [00:01<00:00,  1.11s/it]\n",
      "100%|██████████| 1/1 [00:01<00:00,  1.10s/it]\n",
      "100%|██████████| 1/1 [00:01<00:00,  1.23s/it]\n",
      "100%|██████████| 1/1 [00:01<00:00,  1.23s/it]\n",
      "100%|██████████| 1/1 [00:01<00:00,  1.11s/it]\n",
      "100%|██████████| 1/1 [00:01<00:00,  1.11s/it]"
     ]
    },
    {
     "name": "stdout",
     "output_type": "stream",
     "text": [
      "Function 'generate_counterfactuals_for_instances' executed in 23.3200 seconds\n"
     ]
    },
    {
     "name": "stderr",
     "output_type": "stream",
     "text": [
      "\n"
     ]
    }
   ],
   "source": [
    "results_DiCE, exec_time_Dice = generate_counterfactuals_for_instances(df_Selected_from_List)"
   ]
  },
  {
   "cell_type": "code",
   "execution_count": 52,
   "id": "c0d363f9-080b-4d1f-bd1f-17a7c19ded04",
   "metadata": {},
   "outputs": [],
   "source": [
    "original_df_DiCE, cf_df_DiCE = results_DiCE"
   ]
  },
  {
   "cell_type": "markdown",
   "id": "ddeb813e-06b4-419b-8072-9b2e3fc5cd34",
   "metadata": {},
   "source": [
    "### Generate Identity Metric"
   ]
  },
  {
   "cell_type": "markdown",
   "id": "1d5d2b81-5722-4bdb-aa35-11194697deb3",
   "metadata": {},
   "source": [
    "#### Pre-Process Identity Inputs"
   ]
  },
  {
   "cell_type": "code",
   "execution_count": 53,
   "id": "84abfac4-6b23-4e45-aa86-c38a7da45fd1",
   "metadata": {},
   "outputs": [],
   "source": [
    "scaler = StandardScaler()"
   ]
  },
  {
   "cell_type": "code",
   "execution_count": 54,
   "id": "830478dd-68a0-44d6-b524-630c2f13f7e8",
   "metadata": {},
   "outputs": [],
   "source": [
    "original_df_DiCE = scaler.fit_transform(original_df_DiCE)"
   ]
  },
  {
   "cell_type": "code",
   "execution_count": 55,
   "id": "0ad44bcc-6442-4092-b1e6-d8792d8c3698",
   "metadata": {},
   "outputs": [],
   "source": [
    "cf_df_DiCE = scaler.fit_transform(cf_df_DiCE)"
   ]
  },
  {
   "cell_type": "code",
   "execution_count": 56,
   "id": "f9f9489c-0a62-4b72-909a-b9f54ec41946",
   "metadata": {},
   "outputs": [],
   "source": [
    "# Extract the feature names, including the target variable 'Fraud'\n",
    "column_names_wDefault = df_downsampled_loaded.columns"
   ]
  },
  {
   "cell_type": "code",
   "execution_count": 57,
   "id": "737172a4-c5f9-42d4-8ea8-bd602b19b24b",
   "metadata": {},
   "outputs": [],
   "source": [
    "# Convert NumPy array to DataFrame\n",
    "original_df_DiCE = pd.DataFrame(original_df_DiCE, columns=column_names_wDefault)"
   ]
  },
  {
   "cell_type": "code",
   "execution_count": 58,
   "id": "35eddf7f-9241-4426-ad67-370d41937004",
   "metadata": {},
   "outputs": [],
   "source": [
    "column_names = df_downsampled_loaded.drop('Fraud', axis=1).columns"
   ]
  },
  {
   "cell_type": "code",
   "execution_count": 59,
   "id": "50cbfb45-3894-47d6-8626-7577185ee32e",
   "metadata": {},
   "outputs": [],
   "source": [
    "# Convert NumPy array to DataFrame\n",
    "cf_df_DiCE = pd.DataFrame(cf_df_DiCE, columns=column_names)"
   ]
  },
  {
   "cell_type": "code",
   "execution_count": 60,
   "id": "0b04da81-89e3-4ecf-994a-298ccfb6ef5e",
   "metadata": {},
   "outputs": [],
   "source": [
    "# Convert all values to float for consistent data type\n",
    "original_df_DiCE = original_df_DiCE.astype(float)\n",
    "cf_df_DiCE = cf_df_DiCE.astype(float)"
   ]
  },
  {
   "cell_type": "markdown",
   "id": "425351f5-b9f7-42f2-9637-60cb559f628f",
   "metadata": {},
   "source": [
    "#### Run a Basic Test First"
   ]
  },
  {
   "cell_type": "code",
   "execution_count": 61,
   "id": "c62ff400-e847-477c-af3e-bed8cbf99c67",
   "metadata": {},
   "outputs": [
    {
     "name": "stdout",
     "output_type": "stream",
     "text": [
      "\n",
      "Calculating Euclidean distance...\n",
      "\n",
      "\n",
      "Euclidean distance between instance 16 and instance 15: 11.1749\n"
     ]
    }
   ],
   "source": [
    "# Select two random instances from the DiCE dataframe\n",
    "df_xai_numerical = cf_df_DiCE\n",
    "\n",
    "random_indices = np.random.choice(df_xai_numerical.index, size=2, replace=False)\n",
    "instance_1 = df_xai_numerical.iloc[random_indices[0]]\n",
    "instance_2 = df_xai_numerical.iloc[random_indices[1]]\n",
    "\n",
    "# Compute the Euclidean distance between the selected instances - uses custom project function\n",
    "distance = get_euclidean_distance(instance_1, instance_2)\n",
    "print(f\"Euclidean distance between instance {random_indices[0]} and instance {random_indices[1]}: {distance:.4f}\")"
   ]
  },
  {
   "cell_type": "markdown",
   "id": "2814898d-8142-4db5-903e-b2a860fa005b",
   "metadata": {},
   "source": [
    "#### Retrieve Identity Score"
   ]
  },
  {
   "cell_type": "code",
   "execution_count": 62,
   "id": "be735948-82d6-4d54-9e11-6fd4937ea958",
   "metadata": {},
   "outputs": [],
   "source": [
    "from scipy.spatial import distance"
   ]
  },
  {
   "cell_type": "code",
   "execution_count": 63,
   "id": "d44cea1c-a34c-4779-8e04-4fc9ded7f2e4",
   "metadata": {},
   "outputs": [
    {
     "name": "stdout",
     "output_type": "stream",
     "text": [
      "Instance 0:   Current matches: 1\n",
      "\tClosest feature instance: 15 (Distance: 6.6709)\n",
      "\tClosest DiCE instance: {closest_xai_idx} (Distance: {xai_distances[closest_xai_idx]:.4f})\n",
      "Instance 1:   Current matches: 1\n",
      "\tClosest feature instance: 7 (Distance: 2.2622)\n",
      "\tClosest DiCE instance: {closest_xai_idx} (Distance: {xai_distances[closest_xai_idx]:.4f})\n",
      "Instance 2:   Current matches: 2\n",
      "\tClosest feature instance: 5 (Distance: 5.3410)\n",
      "\tClosest DiCE instance: {closest_xai_idx} (Distance: {xai_distances[closest_xai_idx]:.4f})\n",
      "Instance 3:   Current matches: 2\n",
      "\tClosest feature instance: 14 (Distance: 11.9429)\n",
      "\tClosest DiCE instance: {closest_xai_idx} (Distance: {xai_distances[closest_xai_idx]:.4f})\n",
      "Instance 4:   Current matches: 2\n",
      "\tClosest feature instance: 14 (Distance: 9.4228)\n",
      "\tClosest DiCE instance: {closest_xai_idx} (Distance: {xai_distances[closest_xai_idx]:.4f})\n",
      "Instance 5:   Current matches: 3\n",
      "\tClosest feature instance: 18 (Distance: 4.9783)\n",
      "\tClosest DiCE instance: {closest_xai_idx} (Distance: {xai_distances[closest_xai_idx]:.4f})\n",
      "Instance 6:   Current matches: 4\n",
      "\tClosest feature instance: 15 (Distance: 0.7363)\n",
      "\tClosest DiCE instance: {closest_xai_idx} (Distance: {xai_distances[closest_xai_idx]:.4f})\n",
      "Instance 7:   Current matches: 5\n",
      "\tClosest feature instance: 1 (Distance: 2.2622)\n",
      "\tClosest DiCE instance: {closest_xai_idx} (Distance: {xai_distances[closest_xai_idx]:.4f})\n",
      "Instance 8:   Current matches: 6\n",
      "\tClosest feature instance: 9 (Distance: 3.7258)\n",
      "\tClosest DiCE instance: {closest_xai_idx} (Distance: {xai_distances[closest_xai_idx]:.4f})\n",
      "Instance 9:   Current matches: 7\n",
      "\tClosest feature instance: 8 (Distance: 3.7258)\n",
      "\tClosest DiCE instance: {closest_xai_idx} (Distance: {xai_distances[closest_xai_idx]:.4f})\n",
      "Instance 10:   Current matches: 8\n",
      "\tClosest feature instance: 1 (Distance: 8.3193)\n",
      "\tClosest DiCE instance: {closest_xai_idx} (Distance: {xai_distances[closest_xai_idx]:.4f})\n",
      "Instance 11:   Current matches: 9\n",
      "\tClosest feature instance: 6 (Distance: 5.0967)\n",
      "\tClosest DiCE instance: {closest_xai_idx} (Distance: {xai_distances[closest_xai_idx]:.4f})\n",
      "Instance 12:   Current matches: 9\n",
      "\tClosest feature instance: 14 (Distance: 12.4711)\n",
      "\tClosest DiCE instance: {closest_xai_idx} (Distance: {xai_distances[closest_xai_idx]:.4f})\n",
      "Instance 13:   Current matches: 9\n",
      "\tClosest feature instance: 7 (Distance: 6.2856)\n",
      "\tClosest DiCE instance: {closest_xai_idx} (Distance: {xai_distances[closest_xai_idx]:.4f})\n",
      "Instance 14:   Current matches: 9\n",
      "\tClosest feature instance: 19 (Distance: 4.9030)\n",
      "\tClosest DiCE instance: {closest_xai_idx} (Distance: {xai_distances[closest_xai_idx]:.4f})\n",
      "Instance 15:   Current matches: 10\n",
      "\tClosest feature instance: 6 (Distance: 0.7363)\n",
      "\tClosest DiCE instance: {closest_xai_idx} (Distance: {xai_distances[closest_xai_idx]:.4f})\n",
      "Instance 16:   Current matches: 11\n",
      "\tClosest feature instance: 11 (Distance: 8.2570)\n",
      "\tClosest DiCE instance: {closest_xai_idx} (Distance: {xai_distances[closest_xai_idx]:.4f})\n",
      "Instance 17:   Current matches: 12\n",
      "\tClosest feature instance: 15 (Distance: 2.4400)\n",
      "\tClosest DiCE instance: {closest_xai_idx} (Distance: {xai_distances[closest_xai_idx]:.4f})\n",
      "Instance 18:   Current matches: 13\n",
      "\tClosest feature instance: 5 (Distance: 4.9783)\n",
      "\tClosest DiCE instance: {closest_xai_idx} (Distance: {xai_distances[closest_xai_idx]:.4f})\n",
      "Instance 19:   Current matches: 13\n",
      "\tClosest feature instance: 14 (Distance: 4.9030)\n",
      "\tClosest DiCE instance: {closest_xai_idx} (Distance: {xai_distances[closest_xai_idx]:.4f})\n",
      "\n",
      "\n",
      "This is the function in XAI_METRICS_FUNCTIONS -- IDENTITY for DiCE\n",
      "\n",
      "\n",
      "\n",
      "Percentage of matches: 65.00%   13 Matches of 20 Entries\n"
     ]
    }
   ],
   "source": [
    "DiCE_Identity_Metric = get_identity_metric(original_df_DiCE, cf_df_DiCE, \"DiCE\")"
   ]
  },
  {
   "cell_type": "markdown",
   "id": "eb6ffcd8-481f-4440-865e-7103c831f5ab",
   "metadata": {},
   "source": [
    "#### Display Identity Score Metric"
   ]
  },
  {
   "cell_type": "code",
   "execution_count": 64,
   "id": "55b896a9-79bb-4c03-8d9a-e5c2336d503e",
   "metadata": {},
   "outputs": [],
   "source": [
    "DiCE_Ident_Number = \"{:.2f}%\".format(DiCE_Identity_Metric)"
   ]
  },
  {
   "cell_type": "code",
   "execution_count": 65,
   "id": "e87ea635-466b-49f6-bbd8-4b6cc59ff59c",
   "metadata": {},
   "outputs": [
    {
     "data": {
      "text/html": [
       "\n",
       "    <div style=\"font-size: 20px; font-weight: bold;\">\n",
       "        DiCE Identity Metric Score: 65.00%\n",
       "    </div>\n",
       "    "
      ],
      "text/plain": [
       "<IPython.core.display.HTML object>"
      ]
     },
     "metadata": {},
     "output_type": "display_data"
    }
   ],
   "source": [
    "display_text(\"DiCE Identity Metric Score: \" + DiCE_Ident_Number)"
   ]
  },
  {
   "cell_type": "code",
   "execution_count": 66,
   "id": "c1e9fa75-98e2-49d8-9d38-636cc21e430d",
   "metadata": {},
   "outputs": [],
   "source": [
    "# Read in XAI Metric for Identity\n",
    "XAI_Ident_Metric_1 = DiCE_Identity_Metric"
   ]
  },
  {
   "cell_type": "markdown",
   "id": "a7a703fb-4070-4679-81ec-e33993ce4439",
   "metadata": {},
   "source": [
    "----------------------------------"
   ]
  },
  {
   "cell_type": "markdown",
   "id": "71eeb214-60c4-4002-940c-5de662e9b90a",
   "metadata": {},
   "source": [
    "### Generate Stability Metric"
   ]
  },
  {
   "cell_type": "markdown",
   "id": "3ca56d92-dc51-46f4-ae5a-197fea71547c",
   "metadata": {},
   "source": [
    "#### Retrieve Stability Score"
   ]
  },
  {
   "cell_type": "code",
   "execution_count": 67,
   "id": "52aedd87-8b2d-4805-b5ec-8fdf24dc0d45",
   "metadata": {},
   "outputs": [
    {
     "name": "stdout",
     "output_type": "stream",
     "text": [
      "Number of Instances in Cluster '0': 0\n",
      "Number of Instances in Cluster '1': 0\n",
      "\n",
      "For Class '0':\n",
      "Total Instances: 9\n",
      "Matching Cluster '0' Instances: 0\n",
      "\n",
      "For Class '1':\n",
      "Total Instances: 11\n",
      "Matching Cluster '1' Instances: 0\n",
      "\n",
      "\n",
      "This is the function in XAI_METRICS_FUNCTIONS -- STABILITY -- DiCE\n",
      "\n",
      "\n",
      "\n",
      "Percentage of matches: 0.00%   0.0 Matches of 20 Entries\n"
     ]
    }
   ],
   "source": [
    "DiCE_Stability_Metric = get_stability_metric_y(cf_df_DiCE, y_test_loaded, 'DiCE')"
   ]
  },
  {
   "cell_type": "markdown",
   "id": "52184a47-467a-4e00-a62a-dd3bb0a7dd38",
   "metadata": {},
   "source": [
    "#### Display Stability Score Metric"
   ]
  },
  {
   "cell_type": "code",
   "execution_count": 68,
   "id": "10a46da7-78d0-4c7e-a7db-e4dddb87a084",
   "metadata": {},
   "outputs": [],
   "source": [
    "DiCE_Stbly_Number = \"{:.2f}%\".format(DiCE_Stability_Metric)"
   ]
  },
  {
   "cell_type": "code",
   "execution_count": 69,
   "id": "27ce5972-bc17-4f75-bc81-6f5f9270126a",
   "metadata": {},
   "outputs": [
    {
     "data": {
      "text/html": [
       "\n",
       "    <div style=\"font-size: 20px; font-weight: bold;\">\n",
       "        DiCE Stability Metric Score: 0.00%\n",
       "    </div>\n",
       "    "
      ],
      "text/plain": [
       "<IPython.core.display.HTML object>"
      ]
     },
     "metadata": {},
     "output_type": "display_data"
    }
   ],
   "source": [
    "display_text(\"DiCE Stability Metric Score: \" + DiCE_Stbly_Number)"
   ]
  },
  {
   "cell_type": "code",
   "execution_count": 70,
   "id": "8b9b48ba-55e6-43fc-b86b-0e502ef4e7e5",
   "metadata": {},
   "outputs": [],
   "source": [
    "# Read in XAI Metric for Stability\n",
    "XAI_Stability_Metric_2 = DiCE_Stability_Metric"
   ]
  },
  {
   "cell_type": "markdown",
   "id": "cc585d2d-c527-4ea6-8112-bdde6eba93a7",
   "metadata": {},
   "source": [
    "-----------------------------"
   ]
  },
  {
   "cell_type": "markdown",
   "id": "63dfc615-86c7-4a23-8599-ab75a9e544f0",
   "metadata": {},
   "source": [
    "### Generate Seperability Metric"
   ]
  },
  {
   "cell_type": "markdown",
   "id": "9fc51767-213f-4d27-8eed-1cbf84d0f547",
   "metadata": {},
   "source": [
    "#### Retrieve Seperability Score"
   ]
  },
  {
   "cell_type": "code",
   "execution_count": 71,
   "id": "9d5f5b67-b0ed-4ee7-a685-448c98117513",
   "metadata": {},
   "outputs": [
    {
     "data": {
      "text/html": [
       "\n",
       "    <div style=\"font-size: 20px; font-weight: bold;\">\n",
       "        The Y Seperability Metric Score for DiCE: 100.0\n",
       "    </div>\n",
       "    "
      ],
      "text/plain": [
       "<IPython.core.display.HTML object>"
      ]
     },
     "metadata": {},
     "output_type": "display_data"
    }
   ],
   "source": [
    "DiCE_Seperability_Metric = get_seperability_metric(original_df_DiCE, cf_df_DiCE, \"DiCE\")"
   ]
  },
  {
   "cell_type": "markdown",
   "id": "458f1aad-4b49-4f5f-8fe1-33836e5408ec",
   "metadata": {},
   "source": [
    "#### Display Seperability Score Metric"
   ]
  },
  {
   "cell_type": "code",
   "execution_count": 72,
   "id": "d61ac778-8b2e-4961-ad3a-c8cdd33aeb77",
   "metadata": {},
   "outputs": [],
   "source": [
    "DiCE_Seperability_Number = \"{:.2f}%\".format(DiCE_Seperability_Metric)"
   ]
  },
  {
   "cell_type": "code",
   "execution_count": 73,
   "id": "db9f3e4e-b637-41f0-8495-18d2c883f475",
   "metadata": {},
   "outputs": [
    {
     "data": {
      "text/html": [
       "\n",
       "    <div style=\"font-size: 20px; font-weight: bold;\">\n",
       "        DiCE Seperability Metric Score: 100.00%\n",
       "    </div>\n",
       "    "
      ],
      "text/plain": [
       "<IPython.core.display.HTML object>"
      ]
     },
     "metadata": {},
     "output_type": "display_data"
    }
   ],
   "source": [
    "display_text(\"DiCE Seperability Metric Score: \" + DiCE_Seperability_Number)"
   ]
  },
  {
   "cell_type": "code",
   "execution_count": 74,
   "id": "a7f0a327-9313-4195-a6bd-b43b23e21c0e",
   "metadata": {},
   "outputs": [],
   "source": [
    "# Read in XAI Metric for Seperability\n",
    "XAI_Seperability_Metric_3 = DiCE_Seperability_Metric"
   ]
  },
  {
   "cell_type": "markdown",
   "id": "4030f93b-d42e-467d-a769-e6034147a5ba",
   "metadata": {},
   "source": [
    "----------------------------"
   ]
  },
  {
   "cell_type": "markdown",
   "id": "47827762-a542-4892-ab08-51eede136d21",
   "metadata": {},
   "source": [
    "### Generate Similarity Metric"
   ]
  },
  {
   "cell_type": "markdown",
   "id": "ebc84d3c-ee0a-444d-bcfd-80547861456e",
   "metadata": {},
   "source": [
    "#### Retrieve Similarity Score"
   ]
  },
  {
   "cell_type": "code",
   "execution_count": 75,
   "id": "c5153e9f-eecf-444c-a04c-0ebbeca3891b",
   "metadata": {},
   "outputs": [
    {
     "data": {
      "text/html": [
       "\n",
       "    <div style=\"font-size: 20px; font-weight: bold;\">\n",
       "        The Similarity Metric Score for DiCE: 6.769769464204768\n",
       "    </div>\n",
       "    "
      ],
      "text/plain": [
       "<IPython.core.display.HTML object>"
      ]
     },
     "metadata": {},
     "output_type": "display_data"
    }
   ],
   "source": [
    "DiCE_Similarity_Metric = get_similarity_metric(original_df_DiCE, cf_df_DiCE, \"DiCE\", use_dbscan=False)"
   ]
  },
  {
   "cell_type": "markdown",
   "id": "09bc95d7-53aa-4176-a525-83ebbfd94200",
   "metadata": {},
   "source": [
    "#### Display Similarity Score Metric"
   ]
  },
  {
   "cell_type": "code",
   "execution_count": 76,
   "id": "df2b8721-406a-4e73-9d01-bb7f31b217ed",
   "metadata": {},
   "outputs": [],
   "source": [
    "DiCE_Similarity_Number = \"{:6.2f}\".format(DiCE_Similarity_Metric)"
   ]
  },
  {
   "cell_type": "code",
   "execution_count": 77,
   "id": "711991f5-4b7a-4e07-9b94-0497b2c7b475",
   "metadata": {},
   "outputs": [
    {
     "data": {
      "text/html": [
       "\n",
       "    <div style=\"font-size: 20px; font-weight: bold;\">\n",
       "        DiCE Similarity Metric Value:   6.77\n",
       "    </div>\n",
       "    "
      ],
      "text/plain": [
       "<IPython.core.display.HTML object>"
      ]
     },
     "metadata": {},
     "output_type": "display_data"
    }
   ],
   "source": [
    "display_text(\"DiCE Similarity Metric Value: \" + DiCE_Similarity_Number)"
   ]
  },
  {
   "cell_type": "code",
   "execution_count": 78,
   "id": "c053a627-b7af-4ac6-8ab2-353e907d8e4f",
   "metadata": {},
   "outputs": [],
   "source": [
    "# Read in XAI Metric for Similarity\n",
    "XAI_Similarity_Metric_4 = DiCE_Similarity_Metric"
   ]
  },
  {
   "cell_type": "markdown",
   "id": "bf878bce-ed36-40db-af9d-2022887117ca",
   "metadata": {},
   "source": [
    "-------------------------------"
   ]
  },
  {
   "cell_type": "markdown",
   "id": "6c6fb224-c5f0-446e-aba9-98896a7a0172",
   "metadata": {},
   "source": [
    "### Display Final Set of Metrics (this run)"
   ]
  },
  {
   "cell_type": "code",
   "execution_count": 79,
   "id": "181a7766-4152-4d9a-b6ea-6b80b9942de7",
   "metadata": {},
   "outputs": [
    {
     "name": "stdout",
     "output_type": "stream",
     "text": [
      "XAI Ident Metric 1: 65.0\n",
      "XAI Stability Metric 2: 0.0\n",
      "XAI Seperability Metric 1: 100.0\n",
      "XAI Similarity Metric 1: 6.769769464204768\n",
      "XAI Time Metric 5: 23.319985389709473 seconds\n"
     ]
    }
   ],
   "source": [
    "# Print the results\n",
    "print(f\"XAI Ident Metric 1: {XAI_Ident_Metric_1}\")\n",
    "print(f\"XAI Stability Metric 2: {XAI_Stability_Metric_2}\")\n",
    "print(f\"XAI Seperability Metric 1: {XAI_Seperability_Metric_3}\")\n",
    "print(f\"XAI Similarity Metric 1: {XAI_Similarity_Metric_4}\")\n",
    "print(f\"XAI Time Metric 5: {exec_time_Dice} seconds\")"
   ]
  },
  {
   "cell_type": "markdown",
   "id": "8becf255-8d5a-4b49-9478-5a17f67a217e",
   "metadata": {},
   "source": [
    "------------------------------------"
   ]
  },
  {
   "cell_type": "markdown",
   "id": "46f1e7aa-bae3-47ab-99a8-50fd148ef0a6",
   "metadata": {},
   "source": [
    "## Write Out Metrics to XL"
   ]
  },
  {
   "cell_type": "code",
   "execution_count": 80,
   "id": "70489556-5140-4d91-a641-87cdbc849cc7",
   "metadata": {},
   "outputs": [
    {
     "name": "stdout",
     "output_type": "stream",
     "text": [
      "<class 'pandas.core.frame.DataFrame'>\n"
     ]
    }
   ],
   "source": [
    "print(type(df_Selected_from_List))"
   ]
  },
  {
   "cell_type": "code",
   "execution_count": 81,
   "id": "2155ff20-f112-4872-9d68-9fbe6038dce3",
   "metadata": {},
   "outputs": [
    {
     "name": "stdout",
     "output_type": "stream",
     "text": [
      "DiCE DataFrame selected for Sample Number 1 witk key df_1\n"
     ]
    }
   ],
   "source": [
    "write_xai_Metrics_to_XL(DiCE_xai_file_path, \n",
    "                        sample, \n",
    "                        DiCE_Identity_Metric, \n",
    "                        DiCE_Stability_Metric, \n",
    "                        DiCE_Seperability_Metric, \n",
    "                        DiCE_Similarity_Metric, \n",
    "                        exec_time_Dice, \n",
    "                        df_Selected_from_List,\n",
    "                        \"DiCE\")"
   ]
  },
  {
   "cell_type": "code",
   "execution_count": null,
   "id": "08d1ff69-af7f-42cc-894d-7fc8e454e342",
   "metadata": {},
   "outputs": [],
   "source": []
  }
 ],
 "metadata": {
  "kernelspec": {
   "display_name": "Python 3 (ipykernel)",
   "language": "python",
   "name": "python3"
  },
  "language_info": {
   "codemirror_mode": {
    "name": "ipython",
    "version": 3
   },
   "file_extension": ".py",
   "mimetype": "text/x-python",
   "name": "python",
   "nbconvert_exporter": "python",
   "pygments_lexer": "ipython3",
   "version": "3.8.10"
  },
  "toc-showcode": false,
  "toc-showmarkdowntxt": false,
  "toc-showtags": false
 },
 "nbformat": 4,
 "nbformat_minor": 5
}
