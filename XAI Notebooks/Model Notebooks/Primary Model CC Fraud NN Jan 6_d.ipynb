{
 "cells": [
  {
   "cell_type": "markdown",
   "id": "f15aaeaf-7888-491a-bdec-2a48e9e26f87",
   "metadata": {},
   "source": [
    "# Disseration Experiment - 10c\n",
    "# Build the CC Neural Network Model\n",
    "Ciaran Finnegan January 2024"
   ]
  },
  {
   "cell_type": "markdown",
   "id": "26b0c1aa-b556-492f-945c-c2dbc06d3ed9",
   "metadata": {},
   "source": [
    "# Import Libraries + Custom Functions"
   ]
  },
  {
   "cell_type": "markdown",
   "id": "53117526-70d0-4f4d-ad6f-d878ebf70b55",
   "metadata": {},
   "source": [
    "## Import Libraries"
   ]
  },
  {
   "cell_type": "code",
   "execution_count": 1,
   "id": "ea37532a-ac92-4057-8333-c969a9f193b3",
   "metadata": {},
   "outputs": [
    {
     "name": "stderr",
     "output_type": "stream",
     "text": [
      "2024-01-09 20:43:39.013686: I tensorflow/core/util/port.cc:110] oneDNN custom operations are on. You may see slightly different numerical results due to floating-point round-off errors from different computation orders. To turn them off, set the environment variable `TF_ENABLE_ONEDNN_OPTS=0`.\n",
      "2024-01-09 20:43:39.016237: I tensorflow/tsl/cuda/cudart_stub.cc:28] Could not find cuda drivers on your machine, GPU will not be used.\n",
      "2024-01-09 20:43:39.065040: I tensorflow/tsl/cuda/cudart_stub.cc:28] Could not find cuda drivers on your machine, GPU will not be used.\n",
      "2024-01-09 20:43:39.066105: I tensorflow/core/platform/cpu_feature_guard.cc:182] This TensorFlow binary is optimized to use available CPU instructions in performance-critical operations.\n",
      "To enable the following instructions: AVX2 AVX512F AVX512_VNNI FMA, in other operations, rebuild TensorFlow with the appropriate compiler flags.\n",
      "2024-01-09 20:43:39.926343: W tensorflow/compiler/tf2tensorrt/utils/py_utils.cc:38] TF-TRT Warning: Could not find TensorRT\n"
     ]
    }
   ],
   "source": [
    "## Import libs\n",
    "import numpy as np\n",
    "import pandas as pd\n",
    "import random\n",
    "\n",
    "# Display libraries\n",
    "from IPython.display import display, HTML\n",
    "from prettytable import PrettyTable\n",
    "\n",
    "import raiutils\n",
    "from raiutils.exceptions import UserConfigValidationException\n",
    "\n",
    "# Feature Data Manipulation\n",
    "from sklearn.preprocessing import LabelEncoder\n",
    "import warnings\n",
    "\n",
    "# Classifier training (not used for explainability)\n",
    "from sklearn.model_selection import train_test_split\n",
    "\n",
    "# Neural Network Libraries\n",
    "import tensorflow as tf\n",
    "import keras_tuner as kt\n",
    "from tensorflow import keras\n",
    "from tensorflow.keras import layers, models\n",
    "from tensorflow.keras.optimizers import Adam\n",
    "from tensorflow.keras.optimizers import Adagrad\n",
    "from tensorflow.keras.optimizers import RMSprop\n",
    "from tensorflow.keras import regularizers\n",
    "from tensorflow.keras.models import Sequential\n",
    "from tensorflow.keras.layers import Dense, Dropout\n",
    "\n",
    "\n",
    "# Libraries required for metrics calculations\n",
    "from scipy.spatial import distance\n",
    "from sklearn.cluster import KMeans\n",
    "import sklearn.metrics\n",
    "from sklearn.metrics import classification_report\n",
    "from sklearn.metrics import confusion_matrix\n",
    "from sklearn.metrics import accuracy_score\n",
    "from sklearn.metrics import roc_auc_score\n",
    "from sklearn.utils import resample"
   ]
  },
  {
   "cell_type": "markdown",
   "id": "e872c29e-0438-4545-93fc-30e82a43ad61",
   "metadata": {},
   "source": [
    "## Custom Functions"
   ]
  },
  {
   "cell_type": "markdown",
   "id": "9d6a876e-e587-43a7-887b-64770cce1c29",
   "metadata": {},
   "source": [
    "Dataset Visualisations"
   ]
  },
  {
   "cell_type": "code",
   "execution_count": 2,
   "id": "d132efb3-cbd5-4b6a-a346-848837fd6278",
   "metadata": {},
   "outputs": [],
   "source": [
    "%run ./DS_Visualisation_Functions.ipynb"
   ]
  },
  {
   "cell_type": "markdown",
   "id": "916b5322-cd2d-4add-b5ed-ab7d6035acef",
   "metadata": {},
   "source": [
    "Metrics"
   ]
  },
  {
   "cell_type": "code",
   "execution_count": 3,
   "id": "4e18c7a5-0685-45aa-a166-5bb35e4cfd19",
   "metadata": {},
   "outputs": [
    {
     "name": "stdout",
     "output_type": "stream",
     "text": [
      "Function 'example_function' executed in 2.0021 seconds\n",
      "Result: Result, Execution Time: 2.0020995140075684 seconds\n"
     ]
    }
   ],
   "source": [
    "%run ./XAI_Metrics_Functions.ipynb"
   ]
  },
  {
   "cell_type": "markdown",
   "id": "d53e1c2a-94e0-4649-add7-0041ed4dc837",
   "metadata": {},
   "source": [
    "Model Evaluation Functions"
   ]
  },
  {
   "cell_type": "code",
   "execution_count": 4,
   "id": "07b1cb23-5e49-48ee-a3d5-b09ec0ad3c9a",
   "metadata": {},
   "outputs": [],
   "source": [
    "%run ./DS_Model_Build_Evaluation_Functions.ipynb"
   ]
  },
  {
   "cell_type": "markdown",
   "id": "af2e7127-e555-4c9d-a711-f0fbc20494bf",
   "metadata": {},
   "source": [
    "#### Suppress Warnings to clean up output"
   ]
  },
  {
   "cell_type": "code",
   "execution_count": 5,
   "id": "9871642e-1032-4e40-a2b5-126a80fa54ec",
   "metadata": {},
   "outputs": [],
   "source": [
    "warnings.simplefilter(action='ignore', category=Warning)"
   ]
  },
  {
   "cell_type": "markdown",
   "id": "299906eb-ea50-40a4-a10a-569ed3a50977",
   "metadata": {},
   "source": [
    "# Data Visualisation and Exploration"
   ]
  },
  {
   "cell_type": "markdown",
   "id": "e55e5224-c542-4323-847e-d275f9c51226",
   "metadata": {},
   "source": [
    "## Import Data"
   ]
  },
  {
   "cell_type": "code",
   "execution_count": 6,
   "id": "27e752c6-3f5b-4eca-944f-888da55e7d5a",
   "metadata": {},
   "outputs": [],
   "source": [
    "#ds_file_to_load = 'CreditCard_Fraud_Dataset_2KRows_v1-1_July2020.csv'\n",
    "ds_file_to_load = 'CreditCard_Fraud_Dataset_25KRows_LargerSet_v1-0_July2020.csv'\n",
    "df = pd.read_csv(ds_file_to_load)"
   ]
  },
  {
   "cell_type": "markdown",
   "id": "be870476-4d88-4808-ac40-6f663a98bfab",
   "metadata": {},
   "source": [
    "## Data Exploration"
   ]
  },
  {
   "cell_type": "markdown",
   "id": "9e9a1cd6-e47e-4f3f-8b93-e42d4d7d29d0",
   "metadata": {},
   "source": [
    "### Dataset Structure"
   ]
  },
  {
   "cell_type": "code",
   "execution_count": 7,
   "id": "69564559-8288-486e-af00-bcd33cc324d9",
   "metadata": {},
   "outputs": [
    {
     "data": {
      "text/html": [
       "<div>\n",
       "<style scoped>\n",
       "    .dataframe tbody tr th:only-of-type {\n",
       "        vertical-align: middle;\n",
       "    }\n",
       "\n",
       "    .dataframe tbody tr th {\n",
       "        vertical-align: top;\n",
       "    }\n",
       "\n",
       "    .dataframe thead th {\n",
       "        text-align: right;\n",
       "    }\n",
       "</style>\n",
       "<table border=\"1\" class=\"dataframe\">\n",
       "  <thead>\n",
       "    <tr style=\"text-align: right;\">\n",
       "      <th></th>\n",
       "      <th>CardOperationsId</th>\n",
       "      <th>RunTimestamp</th>\n",
       "      <th>LOCAL_TIMESTAMP</th>\n",
       "      <th>TxnChannelCode</th>\n",
       "      <th>TxnSourceTypeCode</th>\n",
       "      <th>SourceSystemCode</th>\n",
       "      <th>AccountSourceUniqueId</th>\n",
       "      <th>CardId</th>\n",
       "      <th>CardSourceRefId</th>\n",
       "      <th>DeviceId</th>\n",
       "      <th>...</th>\n",
       "      <th>SmallOnlineAuthorizationCount.cnt.hour24</th>\n",
       "      <th>HighRiskPOSSum.acc.hour.total</th>\n",
       "      <th>HighRiskPOSSum.acc.hour.present</th>\n",
       "      <th>HighRiskPOSSum.acc.hour.past1</th>\n",
       "      <th>HighRiskPOSSum.acc.hour.past3</th>\n",
       "      <th>HighRiskPOSSum.acc.hour.past4</th>\n",
       "      <th>HighRiskPOSSum.acc.hour.past10</th>\n",
       "      <th>HighRiskPOSSum.acc.hour.past15</th>\n",
       "      <th>HighRiskPOSSum.acc.hour.past24</th>\n",
       "      <th>HighRiskPOSSum.acc.hour.past29</th>\n",
       "    </tr>\n",
       "  </thead>\n",
       "  <tbody>\n",
       "    <tr>\n",
       "      <th>0</th>\n",
       "      <td>COID-1001227</td>\n",
       "      <td>2.014030e+13</td>\n",
       "      <td>2.014030e+13</td>\n",
       "      <td>POS</td>\n",
       "      <td>External</td>\n",
       "      <td>none</td>\n",
       "      <td>ACCT-24342</td>\n",
       "      <td>CARD-37899</td>\n",
       "      <td>CARD-37899</td>\n",
       "      <td>DVID-147119</td>\n",
       "      <td>...</td>\n",
       "      <td>0</td>\n",
       "      <td>0</td>\n",
       "      <td>0</td>\n",
       "      <td>0</td>\n",
       "      <td>0</td>\n",
       "      <td>0</td>\n",
       "      <td>0</td>\n",
       "      <td>0</td>\n",
       "      <td>0</td>\n",
       "      <td>0</td>\n",
       "    </tr>\n",
       "    <tr>\n",
       "      <th>1</th>\n",
       "      <td>COID-1001382</td>\n",
       "      <td>2.014030e+13</td>\n",
       "      <td>2.014030e+13</td>\n",
       "      <td>POS</td>\n",
       "      <td>External</td>\n",
       "      <td>none</td>\n",
       "      <td>ACCT-24342</td>\n",
       "      <td>CARD-37899</td>\n",
       "      <td>CARD-37899</td>\n",
       "      <td>DVID-44938</td>\n",
       "      <td>...</td>\n",
       "      <td>0</td>\n",
       "      <td>0</td>\n",
       "      <td>0</td>\n",
       "      <td>0</td>\n",
       "      <td>0</td>\n",
       "      <td>0</td>\n",
       "      <td>0</td>\n",
       "      <td>0</td>\n",
       "      <td>0</td>\n",
       "      <td>0</td>\n",
       "    </tr>\n",
       "    <tr>\n",
       "      <th>2</th>\n",
       "      <td>COID-1001539</td>\n",
       "      <td>2.014030e+13</td>\n",
       "      <td>2.014030e+13</td>\n",
       "      <td>POS</td>\n",
       "      <td>External</td>\n",
       "      <td>none</td>\n",
       "      <td>ACCT-24342</td>\n",
       "      <td>CARD-37899</td>\n",
       "      <td>CARD-37899</td>\n",
       "      <td>DVID-44938</td>\n",
       "      <td>...</td>\n",
       "      <td>0</td>\n",
       "      <td>100</td>\n",
       "      <td>0</td>\n",
       "      <td>0</td>\n",
       "      <td>0</td>\n",
       "      <td>0</td>\n",
       "      <td>0</td>\n",
       "      <td>0</td>\n",
       "      <td>0</td>\n",
       "      <td>0</td>\n",
       "    </tr>\n",
       "    <tr>\n",
       "      <th>3</th>\n",
       "      <td>COID-1001540</td>\n",
       "      <td>2.014030e+13</td>\n",
       "      <td>2.014030e+13</td>\n",
       "      <td>POS</td>\n",
       "      <td>External</td>\n",
       "      <td>none</td>\n",
       "      <td>ACCT-24342</td>\n",
       "      <td>CARD-37899</td>\n",
       "      <td>CARD-37899</td>\n",
       "      <td>DVID-316518</td>\n",
       "      <td>...</td>\n",
       "      <td>0</td>\n",
       "      <td>100</td>\n",
       "      <td>0</td>\n",
       "      <td>0</td>\n",
       "      <td>0</td>\n",
       "      <td>0</td>\n",
       "      <td>0</td>\n",
       "      <td>0</td>\n",
       "      <td>0</td>\n",
       "      <td>0</td>\n",
       "    </tr>\n",
       "    <tr>\n",
       "      <th>4</th>\n",
       "      <td>COID-100624</td>\n",
       "      <td>2.014030e+13</td>\n",
       "      <td>2.014030e+13</td>\n",
       "      <td>POS</td>\n",
       "      <td>External</td>\n",
       "      <td>none</td>\n",
       "      <td>ACCT-46712</td>\n",
       "      <td>CARD-624</td>\n",
       "      <td>CARD-624</td>\n",
       "      <td>DVID-54868</td>\n",
       "      <td>...</td>\n",
       "      <td>0</td>\n",
       "      <td>175</td>\n",
       "      <td>0</td>\n",
       "      <td>11</td>\n",
       "      <td>0</td>\n",
       "      <td>0</td>\n",
       "      <td>0</td>\n",
       "      <td>0</td>\n",
       "      <td>0</td>\n",
       "      <td>0</td>\n",
       "    </tr>\n",
       "  </tbody>\n",
       "</table>\n",
       "<p>5 rows × 380 columns</p>\n",
       "</div>"
      ],
      "text/plain": [
       "  CardOperationsId  RunTimestamp  LOCAL_TIMESTAMP TxnChannelCode  \\\n",
       "0     COID-1001227  2.014030e+13     2.014030e+13            POS   \n",
       "1     COID-1001382  2.014030e+13     2.014030e+13            POS   \n",
       "2     COID-1001539  2.014030e+13     2.014030e+13            POS   \n",
       "3     COID-1001540  2.014030e+13     2.014030e+13            POS   \n",
       "4      COID-100624  2.014030e+13     2.014030e+13            POS   \n",
       "\n",
       "  TxnSourceTypeCode SourceSystemCode AccountSourceUniqueId      CardId  \\\n",
       "0          External             none            ACCT-24342  CARD-37899   \n",
       "1          External             none            ACCT-24342  CARD-37899   \n",
       "2          External             none            ACCT-24342  CARD-37899   \n",
       "3          External             none            ACCT-24342  CARD-37899   \n",
       "4          External             none            ACCT-46712    CARD-624   \n",
       "\n",
       "  CardSourceRefId     DeviceId  ... SmallOnlineAuthorizationCount.cnt.hour24  \\\n",
       "0      CARD-37899  DVID-147119  ...                                        0   \n",
       "1      CARD-37899   DVID-44938  ...                                        0   \n",
       "2      CARD-37899   DVID-44938  ...                                        0   \n",
       "3      CARD-37899  DVID-316518  ...                                        0   \n",
       "4        CARD-624   DVID-54868  ...                                        0   \n",
       "\n",
       "  HighRiskPOSSum.acc.hour.total  HighRiskPOSSum.acc.hour.present  \\\n",
       "0                             0                                0   \n",
       "1                             0                                0   \n",
       "2                           100                                0   \n",
       "3                           100                                0   \n",
       "4                           175                                0   \n",
       "\n",
       "  HighRiskPOSSum.acc.hour.past1 HighRiskPOSSum.acc.hour.past3  \\\n",
       "0                             0                             0   \n",
       "1                             0                             0   \n",
       "2                             0                             0   \n",
       "3                             0                             0   \n",
       "4                            11                             0   \n",
       "\n",
       "  HighRiskPOSSum.acc.hour.past4 HighRiskPOSSum.acc.hour.past10  \\\n",
       "0                             0                              0   \n",
       "1                             0                              0   \n",
       "2                             0                              0   \n",
       "3                             0                              0   \n",
       "4                             0                              0   \n",
       "\n",
       "  HighRiskPOSSum.acc.hour.past15 HighRiskPOSSum.acc.hour.past24  \\\n",
       "0                              0                              0   \n",
       "1                              0                              0   \n",
       "2                              0                              0   \n",
       "3                              0                              0   \n",
       "4                              0                              0   \n",
       "\n",
       "  HighRiskPOSSum.acc.hour.past29  \n",
       "0                              0  \n",
       "1                              0  \n",
       "2                              0  \n",
       "3                              0  \n",
       "4                              0  \n",
       "\n",
       "[5 rows x 380 columns]"
      ]
     },
     "metadata": {},
     "output_type": "display_data"
    }
   ],
   "source": [
    "# Reset default Pandas display options\n",
    "pd.reset_option('display.max_columns')\n",
    "pd.reset_option('display.expand_frame_repr')\n",
    "pd.reset_option('display.max_colwidth')\n",
    "# Display the dataframe\n",
    "display(df.head())"
   ]
  },
  {
   "cell_type": "markdown",
   "id": "865ebd28-af52-4a3c-9113-085acc633fb1",
   "metadata": {},
   "source": [
    "# Feature Engineering - I"
   ]
  },
  {
   "cell_type": "markdown",
   "id": "9129dfbd-6f7a-44fa-94a5-d10249c55fe0",
   "metadata": {},
   "source": [
    "## Check for Missing Data"
   ]
  },
  {
   "cell_type": "markdown",
   "id": "38a1ddc5-01e0-414d-a0f6-09fc81914b74",
   "metadata": {},
   "source": [
    "### Volume Check - Missing Data in Dataset Columns"
   ]
  },
  {
   "cell_type": "markdown",
   "id": "0f2a14f2-b8b3-465d-bc22-3e674f1f1ce9",
   "metadata": {},
   "source": [
    "Identify Columns with more than three-quarters of data missing"
   ]
  },
  {
   "cell_type": "code",
   "execution_count": 8,
   "id": "42fca901-d824-4750-aca6-664636cd3600",
   "metadata": {},
   "outputs": [],
   "source": [
    "# Calculate the percentage of missing data in each column\n",
    "missing_data_percentage = df.isnull().mean() * 100\n",
    "columns_with_high_missing_data = missing_data_percentage[missing_data_percentage > 75]"
   ]
  },
  {
   "cell_type": "code",
   "execution_count": 9,
   "id": "b89880a0-61ff-46af-a733-b886411d5e5b",
   "metadata": {},
   "outputs": [
    {
     "data": {
      "text/html": [
       "<style type=\"text/css\">\n",
       "#T_368d5 th {\n",
       "  text-align: left;\n",
       "}\n",
       "#T_368d5_row0_col0, #T_368d5_row0_col1, #T_368d5_row1_col0, #T_368d5_row1_col1, #T_368d5_row2_col0, #T_368d5_row2_col1, #T_368d5_row3_col0, #T_368d5_row3_col1, #T_368d5_row4_col0, #T_368d5_row4_col1, #T_368d5_row5_col0, #T_368d5_row5_col1, #T_368d5_row6_col0, #T_368d5_row6_col1, #T_368d5_row7_col0, #T_368d5_row7_col1, #T_368d5_row8_col0, #T_368d5_row8_col1, #T_368d5_row9_col0, #T_368d5_row9_col1, #T_368d5_row10_col0, #T_368d5_row10_col1 {\n",
       "  text-align: left;\n",
       "}\n",
       "</style>\n",
       "<table id=\"T_368d5\">\n",
       "  <thead>\n",
       "    <tr>\n",
       "      <th class=\"blank level0\" >&nbsp;</th>\n",
       "      <th id=\"T_368d5_level0_col0\" class=\"col_heading level0 col0\" >Dataset Column</th>\n",
       "      <th id=\"T_368d5_level0_col1\" class=\"col_heading level0 col1\" >PCT of Values Missing</th>\n",
       "    </tr>\n",
       "  </thead>\n",
       "  <tbody>\n",
       "    <tr>\n",
       "      <th id=\"T_368d5_level0_row0\" class=\"row_heading level0 row0\" >0</th>\n",
       "      <td id=\"T_368d5_row0_col0\" class=\"data row0 col0\" >AuthResReasonCode</td>\n",
       "      <td id=\"T_368d5_row0_col1\" class=\"data row0 col1\" >100.000000</td>\n",
       "    </tr>\n",
       "    <tr>\n",
       "      <th id=\"T_368d5_level0_row1\" class=\"row_heading level0 row1\" >1</th>\n",
       "      <td id=\"T_368d5_row1_col0\" class=\"data row1 col0\" >CurrencyCodeOrig</td>\n",
       "      <td id=\"T_368d5_row1_col1\" class=\"data row1 col1\" >100.000000</td>\n",
       "    </tr>\n",
       "    <tr>\n",
       "      <th id=\"T_368d5_level0_row2\" class=\"row_heading level0 row2\" >2</th>\n",
       "      <td id=\"T_368d5_row2_col0\" class=\"data row2 col0\" >CurrencyCodeBase</td>\n",
       "      <td id=\"T_368d5_row2_col1\" class=\"data row2 col1\" >100.000000</td>\n",
       "    </tr>\n",
       "    <tr>\n",
       "      <th id=\"T_368d5_level0_row3\" class=\"row_heading level0 row3\" >3</th>\n",
       "      <td id=\"T_368d5_row3_col0\" class=\"data row3 col0\" >Secure3d</td>\n",
       "      <td id=\"T_368d5_row3_col1\" class=\"data row3 col1\" >99.235912</td>\n",
       "    </tr>\n",
       "    <tr>\n",
       "      <th id=\"T_368d5_level0_row4\" class=\"row_heading level0 row4\" >4</th>\n",
       "      <td id=\"T_368d5_row4_col0\" class=\"data row4 col0\" >Disposition</td>\n",
       "      <td id=\"T_368d5_row4_col1\" class=\"data row4 col1\" >99.721426</td>\n",
       "    </tr>\n",
       "    <tr>\n",
       "      <th id=\"T_368d5_level0_row5\" class=\"row_heading level0 row5\" >5</th>\n",
       "      <td id=\"T_368d5_row5_col0\" class=\"data row5 col0\" >ATMDepositMax.max.day.total</td>\n",
       "      <td id=\"T_368d5_row5_col1\" class=\"data row5 col1\" >100.000000</td>\n",
       "    </tr>\n",
       "    <tr>\n",
       "      <th id=\"T_368d5_level0_row6\" class=\"row_heading level0 row6\" >6</th>\n",
       "      <td id=\"T_368d5_row6_col0\" class=\"data row6 col0\" >ATMDepositMax.max.day.present</td>\n",
       "      <td id=\"T_368d5_row6_col1\" class=\"data row6 col1\" >100.000000</td>\n",
       "    </tr>\n",
       "    <tr>\n",
       "      <th id=\"T_368d5_level0_row7\" class=\"row_heading level0 row7\" >7</th>\n",
       "      <td id=\"T_368d5_row7_col0\" class=\"data row7 col0\" >ATMDepositMax.max.day.past1</td>\n",
       "      <td id=\"T_368d5_row7_col1\" class=\"data row7 col1\" >100.000000</td>\n",
       "    </tr>\n",
       "    <tr>\n",
       "      <th id=\"T_368d5_level0_row8\" class=\"row_heading level0 row8\" >8</th>\n",
       "      <td id=\"T_368d5_row8_col0\" class=\"data row8 col0\" >ATMDepositMax.max.day.past3</td>\n",
       "      <td id=\"T_368d5_row8_col1\" class=\"data row8 col1\" >100.000000</td>\n",
       "    </tr>\n",
       "    <tr>\n",
       "      <th id=\"T_368d5_level0_row9\" class=\"row_heading level0 row9\" >9</th>\n",
       "      <td id=\"T_368d5_row9_col0\" class=\"data row9 col0\" >ATMDepositMax.max.day.past4</td>\n",
       "      <td id=\"T_368d5_row9_col1\" class=\"data row9 col1\" >100.000000</td>\n",
       "    </tr>\n",
       "    <tr>\n",
       "      <th id=\"T_368d5_level0_row10\" class=\"row_heading level0 row10\" >10</th>\n",
       "      <td id=\"T_368d5_row10_col0\" class=\"data row10 col0\" >OnlinePOSCount.cnt.present</td>\n",
       "      <td id=\"T_368d5_row10_col1\" class=\"data row10 col1\" >99.996020</td>\n",
       "    </tr>\n",
       "  </tbody>\n",
       "</table>\n"
      ],
      "text/plain": [
       "<pandas.io.formats.style.Styler at 0x7fefc998d820>"
      ]
     },
     "execution_count": 9,
     "metadata": {},
     "output_type": "execute_result"
    }
   ],
   "source": [
    "# Convert the series to a DataFrame for better presentation\n",
    "missing_data_df = pd.DataFrame(columns_with_high_missing_data).reset_index()\n",
    "missing_data_df.columns = ['Dataset Column', 'PCT of Values Missing']\n",
    "\n",
    "# Display the DataFrame\n",
    "missing_data_df.style.set_properties(**{'text-align': 'left'}).set_table_styles([{\n",
    "    'selector': 'th',\n",
    "    'props': [('text-align', 'left')]\n",
    "}])"
   ]
  },
  {
   "cell_type": "code",
   "execution_count": 10,
   "id": "363ad78b-e9a6-41f4-9039-d2ddeb3b1433",
   "metadata": {},
   "outputs": [
    {
     "data": {
      "text/plain": [
       "(25128, 380)"
      ]
     },
     "execution_count": 10,
     "metadata": {},
     "output_type": "execute_result"
    }
   ],
   "source": [
    "# Confirm dataframe dimentsions before check\n",
    "df.shape"
   ]
  },
  {
   "cell_type": "code",
   "execution_count": 11,
   "id": "1e4f3935-7d89-43c6-8fe7-db1bf4b9aa27",
   "metadata": {},
   "outputs": [
    {
     "data": {
      "text/plain": [
       "25128"
      ]
     },
     "execution_count": 11,
     "metadata": {},
     "output_type": "execute_result"
    }
   ],
   "source": [
    "len(df)"
   ]
  },
  {
   "cell_type": "markdown",
   "id": "df35a659-bb21-41b1-bfed-d3fa97387592",
   "metadata": {},
   "source": [
    "### Correct Missing Data in Dataset - 2 Columns"
   ]
  },
  {
   "cell_type": "markdown",
   "id": "0c6d73a6-2ce4-4a41-acd0-94564c95c21d",
   "metadata": {},
   "source": [
    "1. Add 'U' for 'Unknown' to the Secure3d column. Domain advise indicates that this value is relevant for credit card fraud detection."
   ]
  },
  {
   "cell_type": "code",
   "execution_count": 12,
   "id": "70c53cca-967f-406d-8208-9bf25e5211eb",
   "metadata": {},
   "outputs": [],
   "source": [
    "# Update missing entries in the 'Secure3d' column with a 'U' character\n",
    "df['Secure3d'].fillna('U', inplace=True)"
   ]
  },
  {
   "cell_type": "code",
   "execution_count": 13,
   "id": "08fb9815-857c-4742-b78c-2c07c2664b9f",
   "metadata": {},
   "outputs": [
    {
     "name": "stdout",
     "output_type": "stream",
     "text": [
      "Amended Data Values in Secure3d column:\n",
      "\n"
     ]
    },
    {
     "data": {
      "text/plain": [
       "U    24936\n",
       "Y      161\n",
       "N       31\n",
       "Name: Secure3d, dtype: int64"
      ]
     },
     "execution_count": 13,
     "metadata": {},
     "output_type": "execute_result"
    }
   ],
   "source": [
    "# Verify the update\n",
    "print(\"Amended Data Values in Secure3d column:\\n\")\n",
    "df['Secure3d'].value_counts()"
   ]
  },
  {
   "cell_type": "markdown",
   "id": "d6bfae12-5500-4422-ade6-7b4fb648fe28",
   "metadata": {},
   "source": [
    "2. Add 'U' for 'Unknown' to the DvcPostEntryMode column. Domain advise indicates that this value is relevant for credit card fraud detection."
   ]
  },
  {
   "cell_type": "code",
   "execution_count": 14,
   "id": "ca6193ce-f473-4f19-9ab5-15933820fc52",
   "metadata": {},
   "outputs": [],
   "source": [
    "# Update missing entries in the 'DvcPosEntryMode' column with a 'U' character\n",
    "df['DvcPosEntryMode'].fillna('U', inplace=True)"
   ]
  },
  {
   "cell_type": "code",
   "execution_count": 15,
   "id": "145ab815-2689-48c7-af81-1f32890fb765",
   "metadata": {},
   "outputs": [
    {
     "name": "stdout",
     "output_type": "stream",
     "text": [
      "Amended Data Values in DvcPosEntryMode column:\n",
      "\n"
     ]
    },
    {
     "data": {
      "text/plain": [
       "U               7397\n",
       "E-Commerce      5897\n",
       "Card Present    5655\n",
       "5               3556\n",
       "81               888\n",
       "91               589\n",
       "90               528\n",
       "1                489\n",
       "80                64\n",
       "96                42\n",
       "0                 23\n",
       "Name: DvcPosEntryMode, dtype: int64"
      ]
     },
     "execution_count": 15,
     "metadata": {},
     "output_type": "execute_result"
    }
   ],
   "source": [
    "# Verify the update\n",
    "print(\"Amended Data Values in DvcPosEntryMode column:\\n\")\n",
    "df['DvcPosEntryMode'].value_counts()"
   ]
  },
  {
   "cell_type": "markdown",
   "id": "0f2b6572-3089-433a-9cff-ec71eb43e672",
   "metadata": {},
   "source": [
    "Reset threshold to 98% to remove these redundant columns"
   ]
  },
  {
   "cell_type": "code",
   "execution_count": 16,
   "id": "59d67fe9-6685-4182-90dd-fda8356d73e9",
   "metadata": {},
   "outputs": [],
   "source": [
    "# Determine the threshold for missing values\n",
    "threshold = 0.75 * len(df)"
   ]
  },
  {
   "cell_type": "code",
   "execution_count": 17,
   "id": "6010efe1-1e78-470f-84c5-99a95af1464b",
   "metadata": {},
   "outputs": [
    {
     "data": {
      "text/plain": [
       "18846.0"
      ]
     },
     "execution_count": 17,
     "metadata": {},
     "output_type": "execute_result"
    }
   ],
   "source": [
    "threshold"
   ]
  },
  {
   "cell_type": "markdown",
   "id": "3d061813-c417-4fb8-9034-9d24aca085a0",
   "metadata": {},
   "source": [
    "Re-check list of columns to be dropped - ensure Secure3d not in list"
   ]
  },
  {
   "cell_type": "code",
   "execution_count": 18,
   "id": "4059639c-e6b8-4100-a2ee-c189cb86a2cc",
   "metadata": {},
   "outputs": [],
   "source": [
    "# Identify columns with missing values greater than the threshold\n",
    "missing_columns = df.columns[df.isnull().sum() > threshold]"
   ]
  },
  {
   "cell_type": "code",
   "execution_count": 19,
   "id": "fbaac20d-e705-43da-834c-8747278cc34e",
   "metadata": {},
   "outputs": [
    {
     "name": "stdout",
     "output_type": "stream",
     "text": [
      "Columns with more than 98% missing values: Index(['AuthResReasonCode', 'CurrencyCodeOrig', 'CurrencyCodeBase',\n",
      "       'Disposition', 'ATMDepositMax.max.day.total',\n",
      "       'ATMDepositMax.max.day.present', 'ATMDepositMax.max.day.past1',\n",
      "       'ATMDepositMax.max.day.past3', 'ATMDepositMax.max.day.past4',\n",
      "       'OnlinePOSCount.cnt.present'],\n",
      "      dtype='object')\n"
     ]
    }
   ],
   "source": [
    "# Print the columns with more than 98% missing values\n",
    "print(\"Columns with more than 98% missing values:\", missing_columns)"
   ]
  },
  {
   "cell_type": "markdown",
   "id": "b8065361-cf32-42b7-a6ee-36a07be4230a",
   "metadata": {},
   "source": [
    "### Volume Check - Missing Data in Dataset Rows"
   ]
  },
  {
   "cell_type": "code",
   "execution_count": 20,
   "id": "e2b0058d-864a-4761-b961-4f625149a7b9",
   "metadata": {},
   "outputs": [
    {
     "name": "stdout",
     "output_type": "stream",
     "text": [
      "Rows with missing values, and percentage of cells with missing data:\n",
      "\n"
     ]
    },
    {
     "data": {
      "text/plain": [
       "(297, 1.1819484240687679)"
      ]
     },
     "execution_count": 20,
     "metadata": {},
     "output_type": "execute_result"
    }
   ],
   "source": [
    "# Remove columns with more than 75% missing data\n",
    "columns_to_drop = columns_with_high_missing_data.index.tolist()\n",
    "df_dropped = df.drop(columns=columns_to_drop)\n",
    "\n",
    "# Check if any rows in the dataset still have missing data\n",
    "rows_with_missing_data = df_dropped.isnull().any(axis=1).sum()\n",
    "rows_with_missing_data_percentage = (rows_with_missing_data / len(df_dropped)) * 100\n",
    "\n",
    "print(\"Rows with missing values, and percentage of cells with missing data:\\n\")\n",
    "rows_with_missing_data, rows_with_missing_data_percentage"
   ]
  },
  {
   "cell_type": "code",
   "execution_count": 21,
   "id": "a632e2ec-b16f-4b9d-b441-99cb18e4b966",
   "metadata": {},
   "outputs": [
    {
     "data": {
      "text/html": [
       "<style type=\"text/css\">\n",
       "#T_32966 th {\n",
       "  text-align: left;\n",
       "}\n",
       "#T_32966_row0_col0, #T_32966_row0_col1, #T_32966_row0_col2, #T_32966_row0_col3, #T_32966_row0_col4, #T_32966_row0_col5, #T_32966_row0_col6, #T_32966_row0_col7, #T_32966_row0_col8, #T_32966_row0_col9, #T_32966_row0_col10, #T_32966_row0_col11, #T_32966_row0_col12, #T_32966_row0_col13, #T_32966_row0_col14, #T_32966_row0_col15, #T_32966_row0_col16, #T_32966_row0_col17, #T_32966_row0_col18, #T_32966_row0_col19, #T_32966_row0_col20, #T_32966_row0_col21, #T_32966_row0_col22, #T_32966_row0_col23, #T_32966_row0_col24, #T_32966_row0_col25, #T_32966_row0_col26, #T_32966_row0_col27, #T_32966_row0_col28, #T_32966_row0_col29, #T_32966_row0_col30, #T_32966_row0_col31, #T_32966_row0_col32, #T_32966_row0_col33, #T_32966_row0_col34, #T_32966_row0_col35, #T_32966_row0_col36, #T_32966_row0_col37, #T_32966_row0_col38, #T_32966_row0_col39, #T_32966_row0_col40, #T_32966_row0_col41, #T_32966_row0_col42, #T_32966_row0_col43, #T_32966_row0_col44, #T_32966_row0_col45, #T_32966_row0_col46, #T_32966_row0_col47, #T_32966_row0_col48, #T_32966_row0_col49, #T_32966_row0_col50, #T_32966_row0_col51, #T_32966_row0_col52, #T_32966_row0_col53, #T_32966_row0_col54, #T_32966_row0_col55, #T_32966_row0_col56, #T_32966_row0_col57, #T_32966_row0_col58, #T_32966_row0_col59, #T_32966_row0_col60, #T_32966_row0_col61, #T_32966_row0_col62, #T_32966_row0_col63, #T_32966_row0_col64, #T_32966_row0_col65, #T_32966_row0_col66, #T_32966_row0_col67, #T_32966_row0_col68, #T_32966_row0_col69, #T_32966_row0_col70, #T_32966_row0_col71, #T_32966_row0_col72, #T_32966_row0_col73, #T_32966_row0_col74, #T_32966_row0_col75, #T_32966_row0_col76, #T_32966_row0_col77, #T_32966_row0_col78, #T_32966_row0_col79, #T_32966_row0_col80, #T_32966_row0_col81, #T_32966_row0_col82, #T_32966_row0_col83, #T_32966_row0_col84, #T_32966_row0_col85, #T_32966_row0_col86, #T_32966_row0_col87, #T_32966_row0_col88, #T_32966_row0_col89, #T_32966_row0_col90, #T_32966_row0_col91, #T_32966_row0_col92, #T_32966_row0_col93, #T_32966_row0_col94, #T_32966_row0_col95, #T_32966_row0_col96, #T_32966_row0_col97, #T_32966_row0_col98, #T_32966_row0_col99, #T_32966_row0_col100, #T_32966_row0_col101, #T_32966_row0_col102, #T_32966_row0_col103, #T_32966_row0_col104, #T_32966_row0_col105, #T_32966_row0_col106, #T_32966_row0_col107, #T_32966_row0_col108, #T_32966_row0_col109, #T_32966_row0_col110, #T_32966_row0_col111, #T_32966_row0_col112, #T_32966_row0_col113, #T_32966_row0_col114, #T_32966_row0_col115, #T_32966_row0_col116, #T_32966_row0_col117, #T_32966_row0_col118, #T_32966_row0_col119, #T_32966_row0_col120, #T_32966_row0_col121, #T_32966_row0_col122, #T_32966_row0_col123, #T_32966_row0_col124, #T_32966_row0_col125, #T_32966_row0_col126, #T_32966_row0_col127, #T_32966_row0_col128, #T_32966_row0_col129, #T_32966_row0_col130, #T_32966_row0_col131, #T_32966_row0_col132, #T_32966_row0_col133, #T_32966_row0_col134, #T_32966_row0_col135, #T_32966_row0_col136, #T_32966_row0_col137, #T_32966_row0_col138, #T_32966_row0_col139, #T_32966_row0_col140, #T_32966_row0_col141, #T_32966_row0_col142, #T_32966_row0_col143, #T_32966_row0_col144, #T_32966_row0_col145, #T_32966_row0_col146, #T_32966_row0_col147, #T_32966_row0_col148, #T_32966_row0_col149, #T_32966_row0_col150, #T_32966_row0_col151, #T_32966_row0_col152, #T_32966_row0_col153, #T_32966_row0_col154, #T_32966_row0_col155, #T_32966_row0_col156, #T_32966_row0_col157, #T_32966_row0_col158, #T_32966_row0_col159, #T_32966_row0_col160, #T_32966_row0_col161, #T_32966_row0_col162, #T_32966_row0_col163, #T_32966_row0_col164, #T_32966_row0_col165, #T_32966_row0_col166, #T_32966_row0_col167, #T_32966_row0_col168, #T_32966_row0_col169, #T_32966_row0_col170, #T_32966_row0_col171, #T_32966_row0_col172, #T_32966_row0_col173, #T_32966_row0_col174, #T_32966_row0_col175, #T_32966_row0_col176, #T_32966_row0_col177, #T_32966_row0_col178, #T_32966_row0_col179, #T_32966_row0_col180, #T_32966_row0_col181, #T_32966_row0_col182, #T_32966_row0_col183, #T_32966_row0_col184, #T_32966_row0_col185, #T_32966_row0_col186, #T_32966_row0_col187, #T_32966_row0_col188, #T_32966_row0_col189, #T_32966_row0_col190, #T_32966_row0_col191, #T_32966_row0_col192, #T_32966_row0_col193, #T_32966_row0_col194, #T_32966_row0_col195, #T_32966_row0_col196, #T_32966_row0_col197, #T_32966_row0_col198, #T_32966_row0_col199, #T_32966_row0_col200, #T_32966_row0_col201, #T_32966_row0_col202, #T_32966_row0_col203, #T_32966_row0_col204, #T_32966_row0_col205, #T_32966_row0_col206, #T_32966_row0_col207, #T_32966_row0_col208, #T_32966_row0_col209, #T_32966_row0_col210, #T_32966_row0_col211, #T_32966_row0_col212, #T_32966_row0_col213, #T_32966_row0_col214, #T_32966_row0_col215, #T_32966_row0_col216, #T_32966_row0_col217, #T_32966_row0_col218, #T_32966_row0_col219, #T_32966_row0_col220, #T_32966_row0_col221, #T_32966_row0_col222, #T_32966_row0_col223, #T_32966_row0_col224, #T_32966_row0_col225, #T_32966_row0_col226, #T_32966_row0_col227, #T_32966_row0_col228, #T_32966_row0_col229, #T_32966_row0_col230, #T_32966_row0_col231, #T_32966_row0_col232, #T_32966_row0_col233, #T_32966_row0_col234, #T_32966_row0_col235, #T_32966_row0_col236, #T_32966_row0_col237, #T_32966_row0_col238, #T_32966_row0_col239, #T_32966_row0_col240, #T_32966_row0_col241, #T_32966_row0_col242, #T_32966_row0_col243, #T_32966_row0_col244, #T_32966_row0_col245, #T_32966_row0_col246, #T_32966_row0_col247, #T_32966_row0_col248, #T_32966_row0_col249, #T_32966_row0_col250, #T_32966_row0_col251, #T_32966_row0_col252, #T_32966_row0_col253, #T_32966_row0_col254, #T_32966_row0_col255, #T_32966_row0_col256, #T_32966_row0_col257, #T_32966_row0_col258, #T_32966_row0_col259, #T_32966_row0_col260, #T_32966_row0_col261, #T_32966_row0_col262, #T_32966_row0_col263, #T_32966_row0_col264, #T_32966_row0_col265, #T_32966_row0_col266, #T_32966_row0_col267, #T_32966_row0_col268, #T_32966_row0_col269, #T_32966_row0_col270, #T_32966_row0_col271, #T_32966_row0_col272, #T_32966_row0_col273, #T_32966_row0_col274, #T_32966_row0_col275, #T_32966_row0_col276, #T_32966_row0_col277, #T_32966_row0_col278, #T_32966_row0_col279, #T_32966_row0_col280, #T_32966_row0_col281, #T_32966_row0_col282, #T_32966_row0_col283, #T_32966_row0_col284, #T_32966_row0_col285, #T_32966_row0_col286, #T_32966_row0_col287, #T_32966_row0_col288, #T_32966_row0_col289, #T_32966_row0_col290, #T_32966_row0_col291, #T_32966_row0_col292, #T_32966_row0_col293, #T_32966_row0_col294, #T_32966_row0_col295, #T_32966_row0_col296, #T_32966_row0_col297, #T_32966_row0_col298, #T_32966_row0_col299, #T_32966_row0_col300, #T_32966_row0_col301, #T_32966_row0_col302, #T_32966_row0_col303, #T_32966_row0_col304, #T_32966_row0_col305, #T_32966_row0_col306, #T_32966_row0_col307, #T_32966_row0_col308, #T_32966_row0_col309, #T_32966_row0_col310, #T_32966_row0_col311, #T_32966_row0_col312, #T_32966_row0_col313, #T_32966_row0_col314, #T_32966_row0_col315, #T_32966_row0_col316, #T_32966_row0_col317, #T_32966_row0_col318, #T_32966_row0_col319, #T_32966_row0_col320, #T_32966_row0_col321, #T_32966_row0_col322, #T_32966_row0_col323, #T_32966_row0_col324, #T_32966_row0_col325, #T_32966_row0_col326, #T_32966_row0_col327, #T_32966_row0_col328, #T_32966_row0_col329, #T_32966_row0_col330, #T_32966_row0_col331, #T_32966_row0_col332, #T_32966_row0_col333, #T_32966_row0_col334, #T_32966_row0_col335, #T_32966_row0_col336, #T_32966_row0_col337, #T_32966_row0_col338, #T_32966_row0_col339, #T_32966_row0_col340, #T_32966_row0_col341, #T_32966_row0_col342, #T_32966_row0_col343, #T_32966_row0_col344, #T_32966_row0_col345, #T_32966_row0_col346, #T_32966_row0_col347, #T_32966_row0_col348, #T_32966_row0_col349, #T_32966_row0_col350, #T_32966_row0_col351, #T_32966_row0_col352, #T_32966_row0_col353, #T_32966_row0_col354, #T_32966_row0_col355, #T_32966_row0_col356, #T_32966_row0_col357, #T_32966_row0_col358, #T_32966_row0_col359, #T_32966_row0_col360, #T_32966_row0_col361, #T_32966_row0_col362, #T_32966_row0_col363, #T_32966_row0_col364, #T_32966_row0_col365, #T_32966_row0_col366, #T_32966_row0_col367, #T_32966_row0_col368, #T_32966_row1_col0, #T_32966_row1_col1, #T_32966_row1_col2, #T_32966_row1_col3, #T_32966_row1_col4, #T_32966_row1_col5, #T_32966_row1_col6, #T_32966_row1_col7, #T_32966_row1_col8, #T_32966_row1_col9, #T_32966_row1_col10, #T_32966_row1_col11, #T_32966_row1_col12, #T_32966_row1_col13, #T_32966_row1_col14, #T_32966_row1_col15, #T_32966_row1_col16, #T_32966_row1_col17, #T_32966_row1_col18, #T_32966_row1_col19, #T_32966_row1_col20, #T_32966_row1_col21, #T_32966_row1_col22, #T_32966_row1_col23, #T_32966_row1_col24, #T_32966_row1_col25, #T_32966_row1_col26, #T_32966_row1_col27, #T_32966_row1_col28, #T_32966_row1_col29, #T_32966_row1_col30, #T_32966_row1_col31, #T_32966_row1_col32, #T_32966_row1_col33, #T_32966_row1_col34, #T_32966_row1_col35, #T_32966_row1_col36, #T_32966_row1_col37, #T_32966_row1_col38, #T_32966_row1_col39, #T_32966_row1_col40, #T_32966_row1_col41, #T_32966_row1_col42, #T_32966_row1_col43, #T_32966_row1_col44, #T_32966_row1_col45, #T_32966_row1_col46, #T_32966_row1_col47, #T_32966_row1_col48, #T_32966_row1_col49, #T_32966_row1_col50, #T_32966_row1_col51, #T_32966_row1_col52, #T_32966_row1_col53, #T_32966_row1_col54, #T_32966_row1_col55, #T_32966_row1_col56, #T_32966_row1_col57, #T_32966_row1_col58, #T_32966_row1_col59, #T_32966_row1_col60, #T_32966_row1_col61, #T_32966_row1_col62, #T_32966_row1_col63, #T_32966_row1_col64, #T_32966_row1_col65, #T_32966_row1_col66, #T_32966_row1_col67, #T_32966_row1_col68, #T_32966_row1_col69, #T_32966_row1_col70, #T_32966_row1_col71, #T_32966_row1_col72, #T_32966_row1_col73, #T_32966_row1_col74, #T_32966_row1_col75, #T_32966_row1_col76, #T_32966_row1_col77, #T_32966_row1_col78, #T_32966_row1_col79, #T_32966_row1_col80, #T_32966_row1_col81, #T_32966_row1_col82, #T_32966_row1_col83, #T_32966_row1_col84, #T_32966_row1_col85, #T_32966_row1_col86, #T_32966_row1_col87, #T_32966_row1_col88, #T_32966_row1_col89, #T_32966_row1_col90, #T_32966_row1_col91, #T_32966_row1_col92, #T_32966_row1_col93, #T_32966_row1_col94, #T_32966_row1_col95, #T_32966_row1_col96, #T_32966_row1_col97, #T_32966_row1_col98, #T_32966_row1_col99, #T_32966_row1_col100, #T_32966_row1_col101, #T_32966_row1_col102, #T_32966_row1_col103, #T_32966_row1_col104, #T_32966_row1_col105, #T_32966_row1_col106, #T_32966_row1_col107, #T_32966_row1_col108, #T_32966_row1_col109, #T_32966_row1_col110, #T_32966_row1_col111, #T_32966_row1_col112, #T_32966_row1_col113, #T_32966_row1_col114, #T_32966_row1_col115, #T_32966_row1_col116, #T_32966_row1_col117, #T_32966_row1_col118, #T_32966_row1_col119, #T_32966_row1_col120, #T_32966_row1_col121, #T_32966_row1_col122, #T_32966_row1_col123, #T_32966_row1_col124, #T_32966_row1_col125, #T_32966_row1_col126, #T_32966_row1_col127, #T_32966_row1_col128, #T_32966_row1_col129, #T_32966_row1_col130, #T_32966_row1_col131, #T_32966_row1_col132, #T_32966_row1_col133, #T_32966_row1_col134, #T_32966_row1_col135, #T_32966_row1_col136, #T_32966_row1_col137, #T_32966_row1_col138, #T_32966_row1_col139, #T_32966_row1_col140, #T_32966_row1_col141, #T_32966_row1_col142, #T_32966_row1_col143, #T_32966_row1_col144, #T_32966_row1_col145, #T_32966_row1_col146, #T_32966_row1_col147, #T_32966_row1_col148, #T_32966_row1_col149, #T_32966_row1_col150, #T_32966_row1_col151, #T_32966_row1_col152, #T_32966_row1_col153, #T_32966_row1_col154, #T_32966_row1_col155, #T_32966_row1_col156, #T_32966_row1_col157, #T_32966_row1_col158, #T_32966_row1_col159, #T_32966_row1_col160, #T_32966_row1_col161, #T_32966_row1_col162, #T_32966_row1_col163, #T_32966_row1_col164, #T_32966_row1_col165, #T_32966_row1_col166, #T_32966_row1_col167, #T_32966_row1_col168, #T_32966_row1_col169, #T_32966_row1_col170, #T_32966_row1_col171, #T_32966_row1_col172, #T_32966_row1_col173, #T_32966_row1_col174, #T_32966_row1_col175, #T_32966_row1_col176, #T_32966_row1_col177, #T_32966_row1_col178, #T_32966_row1_col179, #T_32966_row1_col180, #T_32966_row1_col181, #T_32966_row1_col182, #T_32966_row1_col183, #T_32966_row1_col184, #T_32966_row1_col185, #T_32966_row1_col186, #T_32966_row1_col187, #T_32966_row1_col188, #T_32966_row1_col189, #T_32966_row1_col190, #T_32966_row1_col191, #T_32966_row1_col192, #T_32966_row1_col193, #T_32966_row1_col194, #T_32966_row1_col195, #T_32966_row1_col196, #T_32966_row1_col197, #T_32966_row1_col198, #T_32966_row1_col199, #T_32966_row1_col200, #T_32966_row1_col201, #T_32966_row1_col202, #T_32966_row1_col203, #T_32966_row1_col204, #T_32966_row1_col205, #T_32966_row1_col206, #T_32966_row1_col207, #T_32966_row1_col208, #T_32966_row1_col209, #T_32966_row1_col210, #T_32966_row1_col211, #T_32966_row1_col212, #T_32966_row1_col213, #T_32966_row1_col214, #T_32966_row1_col215, #T_32966_row1_col216, #T_32966_row1_col217, #T_32966_row1_col218, #T_32966_row1_col219, #T_32966_row1_col220, #T_32966_row1_col221, #T_32966_row1_col222, #T_32966_row1_col223, #T_32966_row1_col224, #T_32966_row1_col225, #T_32966_row1_col226, #T_32966_row1_col227, #T_32966_row1_col228, #T_32966_row1_col229, #T_32966_row1_col230, #T_32966_row1_col231, #T_32966_row1_col232, #T_32966_row1_col233, #T_32966_row1_col234, #T_32966_row1_col235, #T_32966_row1_col236, #T_32966_row1_col237, #T_32966_row1_col238, #T_32966_row1_col239, #T_32966_row1_col240, #T_32966_row1_col241, #T_32966_row1_col242, #T_32966_row1_col243, #T_32966_row1_col244, #T_32966_row1_col245, #T_32966_row1_col246, #T_32966_row1_col247, #T_32966_row1_col248, #T_32966_row1_col249, #T_32966_row1_col250, #T_32966_row1_col251, #T_32966_row1_col252, #T_32966_row1_col253, #T_32966_row1_col254, #T_32966_row1_col255, #T_32966_row1_col256, #T_32966_row1_col257, #T_32966_row1_col258, #T_32966_row1_col259, #T_32966_row1_col260, #T_32966_row1_col261, #T_32966_row1_col262, #T_32966_row1_col263, #T_32966_row1_col264, #T_32966_row1_col265, #T_32966_row1_col266, #T_32966_row1_col267, #T_32966_row1_col268, #T_32966_row1_col269, #T_32966_row1_col270, #T_32966_row1_col271, #T_32966_row1_col272, #T_32966_row1_col273, #T_32966_row1_col274, #T_32966_row1_col275, #T_32966_row1_col276, #T_32966_row1_col277, #T_32966_row1_col278, #T_32966_row1_col279, #T_32966_row1_col280, #T_32966_row1_col281, #T_32966_row1_col282, #T_32966_row1_col283, #T_32966_row1_col284, #T_32966_row1_col285, #T_32966_row1_col286, #T_32966_row1_col287, #T_32966_row1_col288, #T_32966_row1_col289, #T_32966_row1_col290, #T_32966_row1_col291, #T_32966_row1_col292, #T_32966_row1_col293, #T_32966_row1_col294, #T_32966_row1_col295, #T_32966_row1_col296, #T_32966_row1_col297, #T_32966_row1_col298, #T_32966_row1_col299, #T_32966_row1_col300, #T_32966_row1_col301, #T_32966_row1_col302, #T_32966_row1_col303, #T_32966_row1_col304, #T_32966_row1_col305, #T_32966_row1_col306, #T_32966_row1_col307, #T_32966_row1_col308, #T_32966_row1_col309, #T_32966_row1_col310, #T_32966_row1_col311, #T_32966_row1_col312, #T_32966_row1_col313, #T_32966_row1_col314, #T_32966_row1_col315, #T_32966_row1_col316, #T_32966_row1_col317, #T_32966_row1_col318, #T_32966_row1_col319, #T_32966_row1_col320, #T_32966_row1_col321, #T_32966_row1_col322, #T_32966_row1_col323, #T_32966_row1_col324, #T_32966_row1_col325, #T_32966_row1_col326, #T_32966_row1_col327, #T_32966_row1_col328, #T_32966_row1_col329, #T_32966_row1_col330, #T_32966_row1_col331, #T_32966_row1_col332, #T_32966_row1_col333, #T_32966_row1_col334, #T_32966_row1_col335, #T_32966_row1_col336, #T_32966_row1_col337, #T_32966_row1_col338, #T_32966_row1_col339, #T_32966_row1_col340, #T_32966_row1_col341, #T_32966_row1_col342, #T_32966_row1_col343, #T_32966_row1_col344, #T_32966_row1_col345, #T_32966_row1_col346, #T_32966_row1_col347, #T_32966_row1_col348, #T_32966_row1_col349, #T_32966_row1_col350, #T_32966_row1_col351, #T_32966_row1_col352, #T_32966_row1_col353, #T_32966_row1_col354, #T_32966_row1_col355, #T_32966_row1_col356, #T_32966_row1_col357, #T_32966_row1_col358, #T_32966_row1_col359, #T_32966_row1_col360, #T_32966_row1_col361, #T_32966_row1_col362, #T_32966_row1_col363, #T_32966_row1_col364, #T_32966_row1_col365, #T_32966_row1_col366, #T_32966_row1_col367, #T_32966_row1_col368, #T_32966_row2_col0, #T_32966_row2_col1, #T_32966_row2_col2, #T_32966_row2_col3, #T_32966_row2_col4, #T_32966_row2_col5, #T_32966_row2_col6, #T_32966_row2_col7, #T_32966_row2_col8, #T_32966_row2_col9, #T_32966_row2_col10, #T_32966_row2_col11, #T_32966_row2_col12, #T_32966_row2_col13, #T_32966_row2_col14, #T_32966_row2_col15, #T_32966_row2_col16, #T_32966_row2_col17, #T_32966_row2_col18, #T_32966_row2_col19, #T_32966_row2_col20, #T_32966_row2_col21, #T_32966_row2_col22, #T_32966_row2_col23, #T_32966_row2_col24, #T_32966_row2_col25, #T_32966_row2_col26, #T_32966_row2_col27, #T_32966_row2_col28, #T_32966_row2_col29, #T_32966_row2_col30, #T_32966_row2_col31, #T_32966_row2_col32, #T_32966_row2_col33, #T_32966_row2_col34, #T_32966_row2_col35, #T_32966_row2_col36, #T_32966_row2_col37, #T_32966_row2_col38, #T_32966_row2_col39, #T_32966_row2_col40, #T_32966_row2_col41, #T_32966_row2_col42, #T_32966_row2_col43, #T_32966_row2_col44, #T_32966_row2_col45, #T_32966_row2_col46, #T_32966_row2_col47, #T_32966_row2_col48, #T_32966_row2_col49, #T_32966_row2_col50, #T_32966_row2_col51, #T_32966_row2_col52, #T_32966_row2_col53, #T_32966_row2_col54, #T_32966_row2_col55, #T_32966_row2_col56, #T_32966_row2_col57, #T_32966_row2_col58, #T_32966_row2_col59, #T_32966_row2_col60, #T_32966_row2_col61, #T_32966_row2_col62, #T_32966_row2_col63, #T_32966_row2_col64, #T_32966_row2_col65, #T_32966_row2_col66, #T_32966_row2_col67, #T_32966_row2_col68, #T_32966_row2_col69, #T_32966_row2_col70, #T_32966_row2_col71, #T_32966_row2_col72, #T_32966_row2_col73, #T_32966_row2_col74, #T_32966_row2_col75, #T_32966_row2_col76, #T_32966_row2_col77, #T_32966_row2_col78, #T_32966_row2_col79, #T_32966_row2_col80, #T_32966_row2_col81, #T_32966_row2_col82, #T_32966_row2_col83, #T_32966_row2_col84, #T_32966_row2_col85, #T_32966_row2_col86, #T_32966_row2_col87, #T_32966_row2_col88, #T_32966_row2_col89, #T_32966_row2_col90, #T_32966_row2_col91, #T_32966_row2_col92, #T_32966_row2_col93, #T_32966_row2_col94, #T_32966_row2_col95, #T_32966_row2_col96, #T_32966_row2_col97, #T_32966_row2_col98, #T_32966_row2_col99, #T_32966_row2_col100, #T_32966_row2_col101, #T_32966_row2_col102, #T_32966_row2_col103, #T_32966_row2_col104, #T_32966_row2_col105, #T_32966_row2_col106, #T_32966_row2_col107, #T_32966_row2_col108, #T_32966_row2_col109, #T_32966_row2_col110, #T_32966_row2_col111, #T_32966_row2_col112, #T_32966_row2_col113, #T_32966_row2_col114, #T_32966_row2_col115, #T_32966_row2_col116, #T_32966_row2_col117, #T_32966_row2_col118, #T_32966_row2_col119, #T_32966_row2_col120, #T_32966_row2_col121, #T_32966_row2_col122, #T_32966_row2_col123, #T_32966_row2_col124, #T_32966_row2_col125, #T_32966_row2_col126, #T_32966_row2_col127, #T_32966_row2_col128, #T_32966_row2_col129, #T_32966_row2_col130, #T_32966_row2_col131, #T_32966_row2_col132, #T_32966_row2_col133, #T_32966_row2_col134, #T_32966_row2_col135, #T_32966_row2_col136, #T_32966_row2_col137, #T_32966_row2_col138, #T_32966_row2_col139, #T_32966_row2_col140, #T_32966_row2_col141, #T_32966_row2_col142, #T_32966_row2_col143, #T_32966_row2_col144, #T_32966_row2_col145, #T_32966_row2_col146, #T_32966_row2_col147, #T_32966_row2_col148, #T_32966_row2_col149, #T_32966_row2_col150, #T_32966_row2_col151, #T_32966_row2_col152, #T_32966_row2_col153, #T_32966_row2_col154, #T_32966_row2_col155, #T_32966_row2_col156, #T_32966_row2_col157, #T_32966_row2_col158, #T_32966_row2_col159, #T_32966_row2_col160, #T_32966_row2_col161, #T_32966_row2_col162, #T_32966_row2_col163, #T_32966_row2_col164, #T_32966_row2_col165, #T_32966_row2_col166, #T_32966_row2_col167, #T_32966_row2_col168, #T_32966_row2_col169, #T_32966_row2_col170, #T_32966_row2_col171, #T_32966_row2_col172, #T_32966_row2_col173, #T_32966_row2_col174, #T_32966_row2_col175, #T_32966_row2_col176, #T_32966_row2_col177, #T_32966_row2_col178, #T_32966_row2_col179, #T_32966_row2_col180, #T_32966_row2_col181, #T_32966_row2_col182, #T_32966_row2_col183, #T_32966_row2_col184, #T_32966_row2_col185, #T_32966_row2_col186, #T_32966_row2_col187, #T_32966_row2_col188, #T_32966_row2_col189, #T_32966_row2_col190, #T_32966_row2_col191, #T_32966_row2_col192, #T_32966_row2_col193, #T_32966_row2_col194, #T_32966_row2_col195, #T_32966_row2_col196, #T_32966_row2_col197, #T_32966_row2_col198, #T_32966_row2_col199, #T_32966_row2_col200, #T_32966_row2_col201, #T_32966_row2_col202, #T_32966_row2_col203, #T_32966_row2_col204, #T_32966_row2_col205, #T_32966_row2_col206, #T_32966_row2_col207, #T_32966_row2_col208, #T_32966_row2_col209, #T_32966_row2_col210, #T_32966_row2_col211, #T_32966_row2_col212, #T_32966_row2_col213, #T_32966_row2_col214, #T_32966_row2_col215, #T_32966_row2_col216, #T_32966_row2_col217, #T_32966_row2_col218, #T_32966_row2_col219, #T_32966_row2_col220, #T_32966_row2_col221, #T_32966_row2_col222, #T_32966_row2_col223, #T_32966_row2_col224, #T_32966_row2_col225, #T_32966_row2_col226, #T_32966_row2_col227, #T_32966_row2_col228, #T_32966_row2_col229, #T_32966_row2_col230, #T_32966_row2_col231, #T_32966_row2_col232, #T_32966_row2_col233, #T_32966_row2_col234, #T_32966_row2_col235, #T_32966_row2_col236, #T_32966_row2_col237, #T_32966_row2_col238, #T_32966_row2_col239, #T_32966_row2_col240, #T_32966_row2_col241, #T_32966_row2_col242, #T_32966_row2_col243, #T_32966_row2_col244, #T_32966_row2_col245, #T_32966_row2_col246, #T_32966_row2_col247, #T_32966_row2_col248, #T_32966_row2_col249, #T_32966_row2_col250, #T_32966_row2_col251, #T_32966_row2_col252, #T_32966_row2_col253, #T_32966_row2_col254, #T_32966_row2_col255, #T_32966_row2_col256, #T_32966_row2_col257, #T_32966_row2_col258, #T_32966_row2_col259, #T_32966_row2_col260, #T_32966_row2_col261, #T_32966_row2_col262, #T_32966_row2_col263, #T_32966_row2_col264, #T_32966_row2_col265, #T_32966_row2_col266, #T_32966_row2_col267, #T_32966_row2_col268, #T_32966_row2_col269, #T_32966_row2_col270, #T_32966_row2_col271, #T_32966_row2_col272, #T_32966_row2_col273, #T_32966_row2_col274, #T_32966_row2_col275, #T_32966_row2_col276, #T_32966_row2_col277, #T_32966_row2_col278, #T_32966_row2_col279, #T_32966_row2_col280, #T_32966_row2_col281, #T_32966_row2_col282, #T_32966_row2_col283, #T_32966_row2_col284, #T_32966_row2_col285, #T_32966_row2_col286, #T_32966_row2_col287, #T_32966_row2_col288, #T_32966_row2_col289, #T_32966_row2_col290, #T_32966_row2_col291, #T_32966_row2_col292, #T_32966_row2_col293, #T_32966_row2_col294, #T_32966_row2_col295, #T_32966_row2_col296, #T_32966_row2_col297, #T_32966_row2_col298, #T_32966_row2_col299, #T_32966_row2_col300, #T_32966_row2_col301, #T_32966_row2_col302, #T_32966_row2_col303, #T_32966_row2_col304, #T_32966_row2_col305, #T_32966_row2_col306, #T_32966_row2_col307, #T_32966_row2_col308, #T_32966_row2_col309, #T_32966_row2_col310, #T_32966_row2_col311, #T_32966_row2_col312, #T_32966_row2_col313, #T_32966_row2_col314, #T_32966_row2_col315, #T_32966_row2_col316, #T_32966_row2_col317, #T_32966_row2_col318, #T_32966_row2_col319, #T_32966_row2_col320, #T_32966_row2_col321, #T_32966_row2_col322, #T_32966_row2_col323, #T_32966_row2_col324, #T_32966_row2_col325, #T_32966_row2_col326, #T_32966_row2_col327, #T_32966_row2_col328, #T_32966_row2_col329, #T_32966_row2_col330, #T_32966_row2_col331, #T_32966_row2_col332, #T_32966_row2_col333, #T_32966_row2_col334, #T_32966_row2_col335, #T_32966_row2_col336, #T_32966_row2_col337, #T_32966_row2_col338, #T_32966_row2_col339, #T_32966_row2_col340, #T_32966_row2_col341, #T_32966_row2_col342, #T_32966_row2_col343, #T_32966_row2_col344, #T_32966_row2_col345, #T_32966_row2_col346, #T_32966_row2_col347, #T_32966_row2_col348, #T_32966_row2_col349, #T_32966_row2_col350, #T_32966_row2_col351, #T_32966_row2_col352, #T_32966_row2_col353, #T_32966_row2_col354, #T_32966_row2_col355, #T_32966_row2_col356, #T_32966_row2_col357, #T_32966_row2_col358, #T_32966_row2_col359, #T_32966_row2_col360, #T_32966_row2_col361, #T_32966_row2_col362, #T_32966_row2_col363, #T_32966_row2_col364, #T_32966_row2_col365, #T_32966_row2_col366, #T_32966_row2_col367, #T_32966_row2_col368, #T_32966_row3_col0, #T_32966_row3_col1, #T_32966_row3_col2, #T_32966_row3_col3, #T_32966_row3_col4, #T_32966_row3_col5, #T_32966_row3_col6, #T_32966_row3_col7, #T_32966_row3_col8, #T_32966_row3_col9, #T_32966_row3_col10, #T_32966_row3_col11, #T_32966_row3_col12, #T_32966_row3_col13, #T_32966_row3_col14, #T_32966_row3_col15, #T_32966_row3_col16, #T_32966_row3_col17, #T_32966_row3_col18, #T_32966_row3_col19, #T_32966_row3_col20, #T_32966_row3_col21, #T_32966_row3_col22, #T_32966_row3_col23, #T_32966_row3_col24, #T_32966_row3_col25, #T_32966_row3_col26, #T_32966_row3_col27, #T_32966_row3_col28, #T_32966_row3_col29, #T_32966_row3_col30, #T_32966_row3_col31, #T_32966_row3_col32, #T_32966_row3_col33, #T_32966_row3_col34, #T_32966_row3_col35, #T_32966_row3_col36, #T_32966_row3_col37, #T_32966_row3_col38, #T_32966_row3_col39, #T_32966_row3_col40, #T_32966_row3_col41, #T_32966_row3_col42, #T_32966_row3_col43, #T_32966_row3_col44, #T_32966_row3_col45, #T_32966_row3_col46, #T_32966_row3_col47, #T_32966_row3_col48, #T_32966_row3_col49, #T_32966_row3_col50, #T_32966_row3_col51, #T_32966_row3_col52, #T_32966_row3_col53, #T_32966_row3_col54, #T_32966_row3_col55, #T_32966_row3_col56, #T_32966_row3_col57, #T_32966_row3_col58, #T_32966_row3_col59, #T_32966_row3_col60, #T_32966_row3_col61, #T_32966_row3_col62, #T_32966_row3_col63, #T_32966_row3_col64, #T_32966_row3_col65, #T_32966_row3_col66, #T_32966_row3_col67, #T_32966_row3_col68, #T_32966_row3_col69, #T_32966_row3_col70, #T_32966_row3_col71, #T_32966_row3_col72, #T_32966_row3_col73, #T_32966_row3_col74, #T_32966_row3_col75, #T_32966_row3_col76, #T_32966_row3_col77, #T_32966_row3_col78, #T_32966_row3_col79, #T_32966_row3_col80, #T_32966_row3_col81, #T_32966_row3_col82, #T_32966_row3_col83, #T_32966_row3_col84, #T_32966_row3_col85, #T_32966_row3_col86, #T_32966_row3_col87, #T_32966_row3_col88, #T_32966_row3_col89, #T_32966_row3_col90, #T_32966_row3_col91, #T_32966_row3_col92, #T_32966_row3_col93, #T_32966_row3_col94, #T_32966_row3_col95, #T_32966_row3_col96, #T_32966_row3_col97, #T_32966_row3_col98, #T_32966_row3_col99, #T_32966_row3_col100, #T_32966_row3_col101, #T_32966_row3_col102, #T_32966_row3_col103, #T_32966_row3_col104, #T_32966_row3_col105, #T_32966_row3_col106, #T_32966_row3_col107, #T_32966_row3_col108, #T_32966_row3_col109, #T_32966_row3_col110, #T_32966_row3_col111, #T_32966_row3_col112, #T_32966_row3_col113, #T_32966_row3_col114, #T_32966_row3_col115, #T_32966_row3_col116, #T_32966_row3_col117, #T_32966_row3_col118, #T_32966_row3_col119, #T_32966_row3_col120, #T_32966_row3_col121, #T_32966_row3_col122, #T_32966_row3_col123, #T_32966_row3_col124, #T_32966_row3_col125, #T_32966_row3_col126, #T_32966_row3_col127, #T_32966_row3_col128, #T_32966_row3_col129, #T_32966_row3_col130, #T_32966_row3_col131, #T_32966_row3_col132, #T_32966_row3_col133, #T_32966_row3_col134, #T_32966_row3_col135, #T_32966_row3_col136, #T_32966_row3_col137, #T_32966_row3_col138, #T_32966_row3_col139, #T_32966_row3_col140, #T_32966_row3_col141, #T_32966_row3_col142, #T_32966_row3_col143, #T_32966_row3_col144, #T_32966_row3_col145, #T_32966_row3_col146, #T_32966_row3_col147, #T_32966_row3_col148, #T_32966_row3_col149, #T_32966_row3_col150, #T_32966_row3_col151, #T_32966_row3_col152, #T_32966_row3_col153, #T_32966_row3_col154, #T_32966_row3_col155, #T_32966_row3_col156, #T_32966_row3_col157, #T_32966_row3_col158, #T_32966_row3_col159, #T_32966_row3_col160, #T_32966_row3_col161, #T_32966_row3_col162, #T_32966_row3_col163, #T_32966_row3_col164, #T_32966_row3_col165, #T_32966_row3_col166, #T_32966_row3_col167, #T_32966_row3_col168, #T_32966_row3_col169, #T_32966_row3_col170, #T_32966_row3_col171, #T_32966_row3_col172, #T_32966_row3_col173, #T_32966_row3_col174, #T_32966_row3_col175, #T_32966_row3_col176, #T_32966_row3_col177, #T_32966_row3_col178, #T_32966_row3_col179, #T_32966_row3_col180, #T_32966_row3_col181, #T_32966_row3_col182, #T_32966_row3_col183, #T_32966_row3_col184, #T_32966_row3_col185, #T_32966_row3_col186, #T_32966_row3_col187, #T_32966_row3_col188, #T_32966_row3_col189, #T_32966_row3_col190, #T_32966_row3_col191, #T_32966_row3_col192, #T_32966_row3_col193, #T_32966_row3_col194, #T_32966_row3_col195, #T_32966_row3_col196, #T_32966_row3_col197, #T_32966_row3_col198, #T_32966_row3_col199, #T_32966_row3_col200, #T_32966_row3_col201, #T_32966_row3_col202, #T_32966_row3_col203, #T_32966_row3_col204, #T_32966_row3_col205, #T_32966_row3_col206, #T_32966_row3_col207, #T_32966_row3_col208, #T_32966_row3_col209, #T_32966_row3_col210, #T_32966_row3_col211, #T_32966_row3_col212, #T_32966_row3_col213, #T_32966_row3_col214, #T_32966_row3_col215, #T_32966_row3_col216, #T_32966_row3_col217, #T_32966_row3_col218, #T_32966_row3_col219, #T_32966_row3_col220, #T_32966_row3_col221, #T_32966_row3_col222, #T_32966_row3_col223, #T_32966_row3_col224, #T_32966_row3_col225, #T_32966_row3_col226, #T_32966_row3_col227, #T_32966_row3_col228, #T_32966_row3_col229, #T_32966_row3_col230, #T_32966_row3_col231, #T_32966_row3_col232, #T_32966_row3_col233, #T_32966_row3_col234, #T_32966_row3_col235, #T_32966_row3_col236, #T_32966_row3_col237, #T_32966_row3_col238, #T_32966_row3_col239, #T_32966_row3_col240, #T_32966_row3_col241, #T_32966_row3_col242, #T_32966_row3_col243, #T_32966_row3_col244, #T_32966_row3_col245, #T_32966_row3_col246, #T_32966_row3_col247, #T_32966_row3_col248, #T_32966_row3_col249, #T_32966_row3_col250, #T_32966_row3_col251, #T_32966_row3_col252, #T_32966_row3_col253, #T_32966_row3_col254, #T_32966_row3_col255, #T_32966_row3_col256, #T_32966_row3_col257, #T_32966_row3_col258, #T_32966_row3_col259, #T_32966_row3_col260, #T_32966_row3_col261, #T_32966_row3_col262, #T_32966_row3_col263, #T_32966_row3_col264, #T_32966_row3_col265, #T_32966_row3_col266, #T_32966_row3_col267, #T_32966_row3_col268, #T_32966_row3_col269, #T_32966_row3_col270, #T_32966_row3_col271, #T_32966_row3_col272, #T_32966_row3_col273, #T_32966_row3_col274, #T_32966_row3_col275, #T_32966_row3_col276, #T_32966_row3_col277, #T_32966_row3_col278, #T_32966_row3_col279, #T_32966_row3_col280, #T_32966_row3_col281, #T_32966_row3_col282, #T_32966_row3_col283, #T_32966_row3_col284, #T_32966_row3_col285, #T_32966_row3_col286, #T_32966_row3_col287, #T_32966_row3_col288, #T_32966_row3_col289, #T_32966_row3_col290, #T_32966_row3_col291, #T_32966_row3_col292, #T_32966_row3_col293, #T_32966_row3_col294, #T_32966_row3_col295, #T_32966_row3_col296, #T_32966_row3_col297, #T_32966_row3_col298, #T_32966_row3_col299, #T_32966_row3_col300, #T_32966_row3_col301, #T_32966_row3_col302, #T_32966_row3_col303, #T_32966_row3_col304, #T_32966_row3_col305, #T_32966_row3_col306, #T_32966_row3_col307, #T_32966_row3_col308, #T_32966_row3_col309, #T_32966_row3_col310, #T_32966_row3_col311, #T_32966_row3_col312, #T_32966_row3_col313, #T_32966_row3_col314, #T_32966_row3_col315, #T_32966_row3_col316, #T_32966_row3_col317, #T_32966_row3_col318, #T_32966_row3_col319, #T_32966_row3_col320, #T_32966_row3_col321, #T_32966_row3_col322, #T_32966_row3_col323, #T_32966_row3_col324, #T_32966_row3_col325, #T_32966_row3_col326, #T_32966_row3_col327, #T_32966_row3_col328, #T_32966_row3_col329, #T_32966_row3_col330, #T_32966_row3_col331, #T_32966_row3_col332, #T_32966_row3_col333, #T_32966_row3_col334, #T_32966_row3_col335, #T_32966_row3_col336, #T_32966_row3_col337, #T_32966_row3_col338, #T_32966_row3_col339, #T_32966_row3_col340, #T_32966_row3_col341, #T_32966_row3_col342, #T_32966_row3_col343, #T_32966_row3_col344, #T_32966_row3_col345, #T_32966_row3_col346, #T_32966_row3_col347, #T_32966_row3_col348, #T_32966_row3_col349, #T_32966_row3_col350, #T_32966_row3_col351, #T_32966_row3_col352, #T_32966_row3_col353, #T_32966_row3_col354, #T_32966_row3_col355, #T_32966_row3_col356, #T_32966_row3_col357, #T_32966_row3_col358, #T_32966_row3_col359, #T_32966_row3_col360, #T_32966_row3_col361, #T_32966_row3_col362, #T_32966_row3_col363, #T_32966_row3_col364, #T_32966_row3_col365, #T_32966_row3_col366, #T_32966_row3_col367, #T_32966_row3_col368, #T_32966_row4_col0, #T_32966_row4_col1, #T_32966_row4_col2, #T_32966_row4_col3, #T_32966_row4_col4, #T_32966_row4_col5, #T_32966_row4_col6, #T_32966_row4_col7, #T_32966_row4_col8, #T_32966_row4_col9, #T_32966_row4_col10, #T_32966_row4_col11, #T_32966_row4_col12, #T_32966_row4_col13, #T_32966_row4_col14, #T_32966_row4_col15, #T_32966_row4_col16, #T_32966_row4_col17, #T_32966_row4_col18, #T_32966_row4_col19, #T_32966_row4_col20, #T_32966_row4_col21, #T_32966_row4_col22, #T_32966_row4_col23, #T_32966_row4_col24, #T_32966_row4_col25, #T_32966_row4_col26, #T_32966_row4_col27, #T_32966_row4_col28, #T_32966_row4_col29, #T_32966_row4_col30, #T_32966_row4_col31, #T_32966_row4_col32, #T_32966_row4_col33, #T_32966_row4_col34, #T_32966_row4_col35, #T_32966_row4_col36, #T_32966_row4_col37, #T_32966_row4_col38, #T_32966_row4_col39, #T_32966_row4_col40, #T_32966_row4_col41, #T_32966_row4_col42, #T_32966_row4_col43, #T_32966_row4_col44, #T_32966_row4_col45, #T_32966_row4_col46, #T_32966_row4_col47, #T_32966_row4_col48, #T_32966_row4_col49, #T_32966_row4_col50, #T_32966_row4_col51, #T_32966_row4_col52, #T_32966_row4_col53, #T_32966_row4_col54, #T_32966_row4_col55, #T_32966_row4_col56, #T_32966_row4_col57, #T_32966_row4_col58, #T_32966_row4_col59, #T_32966_row4_col60, #T_32966_row4_col61, #T_32966_row4_col62, #T_32966_row4_col63, #T_32966_row4_col64, #T_32966_row4_col65, #T_32966_row4_col66, #T_32966_row4_col67, #T_32966_row4_col68, #T_32966_row4_col69, #T_32966_row4_col70, #T_32966_row4_col71, #T_32966_row4_col72, #T_32966_row4_col73, #T_32966_row4_col74, #T_32966_row4_col75, #T_32966_row4_col76, #T_32966_row4_col77, #T_32966_row4_col78, #T_32966_row4_col79, #T_32966_row4_col80, #T_32966_row4_col81, #T_32966_row4_col82, #T_32966_row4_col83, #T_32966_row4_col84, #T_32966_row4_col85, #T_32966_row4_col86, #T_32966_row4_col87, #T_32966_row4_col88, #T_32966_row4_col89, #T_32966_row4_col90, #T_32966_row4_col91, #T_32966_row4_col92, #T_32966_row4_col93, #T_32966_row4_col94, #T_32966_row4_col95, #T_32966_row4_col96, #T_32966_row4_col97, #T_32966_row4_col98, #T_32966_row4_col99, #T_32966_row4_col100, #T_32966_row4_col101, #T_32966_row4_col102, #T_32966_row4_col103, #T_32966_row4_col104, #T_32966_row4_col105, #T_32966_row4_col106, #T_32966_row4_col107, #T_32966_row4_col108, #T_32966_row4_col109, #T_32966_row4_col110, #T_32966_row4_col111, #T_32966_row4_col112, #T_32966_row4_col113, #T_32966_row4_col114, #T_32966_row4_col115, #T_32966_row4_col116, #T_32966_row4_col117, #T_32966_row4_col118, #T_32966_row4_col119, #T_32966_row4_col120, #T_32966_row4_col121, #T_32966_row4_col122, #T_32966_row4_col123, #T_32966_row4_col124, #T_32966_row4_col125, #T_32966_row4_col126, #T_32966_row4_col127, #T_32966_row4_col128, #T_32966_row4_col129, #T_32966_row4_col130, #T_32966_row4_col131, #T_32966_row4_col132, #T_32966_row4_col133, #T_32966_row4_col134, #T_32966_row4_col135, #T_32966_row4_col136, #T_32966_row4_col137, #T_32966_row4_col138, #T_32966_row4_col139, #T_32966_row4_col140, #T_32966_row4_col141, #T_32966_row4_col142, #T_32966_row4_col143, #T_32966_row4_col144, #T_32966_row4_col145, #T_32966_row4_col146, #T_32966_row4_col147, #T_32966_row4_col148, #T_32966_row4_col149, #T_32966_row4_col150, #T_32966_row4_col151, #T_32966_row4_col152, #T_32966_row4_col153, #T_32966_row4_col154, #T_32966_row4_col155, #T_32966_row4_col156, #T_32966_row4_col157, #T_32966_row4_col158, #T_32966_row4_col159, #T_32966_row4_col160, #T_32966_row4_col161, #T_32966_row4_col162, #T_32966_row4_col163, #T_32966_row4_col164, #T_32966_row4_col165, #T_32966_row4_col166, #T_32966_row4_col167, #T_32966_row4_col168, #T_32966_row4_col169, #T_32966_row4_col170, #T_32966_row4_col171, #T_32966_row4_col172, #T_32966_row4_col173, #T_32966_row4_col174, #T_32966_row4_col175, #T_32966_row4_col176, #T_32966_row4_col177, #T_32966_row4_col178, #T_32966_row4_col179, #T_32966_row4_col180, #T_32966_row4_col181, #T_32966_row4_col182, #T_32966_row4_col183, #T_32966_row4_col184, #T_32966_row4_col185, #T_32966_row4_col186, #T_32966_row4_col187, #T_32966_row4_col188, #T_32966_row4_col189, #T_32966_row4_col190, #T_32966_row4_col191, #T_32966_row4_col192, #T_32966_row4_col193, #T_32966_row4_col194, #T_32966_row4_col195, #T_32966_row4_col196, #T_32966_row4_col197, #T_32966_row4_col198, #T_32966_row4_col199, #T_32966_row4_col200, #T_32966_row4_col201, #T_32966_row4_col202, #T_32966_row4_col203, #T_32966_row4_col204, #T_32966_row4_col205, #T_32966_row4_col206, #T_32966_row4_col207, #T_32966_row4_col208, #T_32966_row4_col209, #T_32966_row4_col210, #T_32966_row4_col211, #T_32966_row4_col212, #T_32966_row4_col213, #T_32966_row4_col214, #T_32966_row4_col215, #T_32966_row4_col216, #T_32966_row4_col217, #T_32966_row4_col218, #T_32966_row4_col219, #T_32966_row4_col220, #T_32966_row4_col221, #T_32966_row4_col222, #T_32966_row4_col223, #T_32966_row4_col224, #T_32966_row4_col225, #T_32966_row4_col226, #T_32966_row4_col227, #T_32966_row4_col228, #T_32966_row4_col229, #T_32966_row4_col230, #T_32966_row4_col231, #T_32966_row4_col232, #T_32966_row4_col233, #T_32966_row4_col234, #T_32966_row4_col235, #T_32966_row4_col236, #T_32966_row4_col237, #T_32966_row4_col238, #T_32966_row4_col239, #T_32966_row4_col240, #T_32966_row4_col241, #T_32966_row4_col242, #T_32966_row4_col243, #T_32966_row4_col244, #T_32966_row4_col245, #T_32966_row4_col246, #T_32966_row4_col247, #T_32966_row4_col248, #T_32966_row4_col249, #T_32966_row4_col250, #T_32966_row4_col251, #T_32966_row4_col252, #T_32966_row4_col253, #T_32966_row4_col254, #T_32966_row4_col255, #T_32966_row4_col256, #T_32966_row4_col257, #T_32966_row4_col258, #T_32966_row4_col259, #T_32966_row4_col260, #T_32966_row4_col261, #T_32966_row4_col262, #T_32966_row4_col263, #T_32966_row4_col264, #T_32966_row4_col265, #T_32966_row4_col266, #T_32966_row4_col267, #T_32966_row4_col268, #T_32966_row4_col269, #T_32966_row4_col270, #T_32966_row4_col271, #T_32966_row4_col272, #T_32966_row4_col273, #T_32966_row4_col274, #T_32966_row4_col275, #T_32966_row4_col276, #T_32966_row4_col277, #T_32966_row4_col278, #T_32966_row4_col279, #T_32966_row4_col280, #T_32966_row4_col281, #T_32966_row4_col282, #T_32966_row4_col283, #T_32966_row4_col284, #T_32966_row4_col285, #T_32966_row4_col286, #T_32966_row4_col287, #T_32966_row4_col288, #T_32966_row4_col289, #T_32966_row4_col290, #T_32966_row4_col291, #T_32966_row4_col292, #T_32966_row4_col293, #T_32966_row4_col294, #T_32966_row4_col295, #T_32966_row4_col296, #T_32966_row4_col297, #T_32966_row4_col298, #T_32966_row4_col299, #T_32966_row4_col300, #T_32966_row4_col301, #T_32966_row4_col302, #T_32966_row4_col303, #T_32966_row4_col304, #T_32966_row4_col305, #T_32966_row4_col306, #T_32966_row4_col307, #T_32966_row4_col308, #T_32966_row4_col309, #T_32966_row4_col310, #T_32966_row4_col311, #T_32966_row4_col312, #T_32966_row4_col313, #T_32966_row4_col314, #T_32966_row4_col315, #T_32966_row4_col316, #T_32966_row4_col317, #T_32966_row4_col318, #T_32966_row4_col319, #T_32966_row4_col320, #T_32966_row4_col321, #T_32966_row4_col322, #T_32966_row4_col323, #T_32966_row4_col324, #T_32966_row4_col325, #T_32966_row4_col326, #T_32966_row4_col327, #T_32966_row4_col328, #T_32966_row4_col329, #T_32966_row4_col330, #T_32966_row4_col331, #T_32966_row4_col332, #T_32966_row4_col333, #T_32966_row4_col334, #T_32966_row4_col335, #T_32966_row4_col336, #T_32966_row4_col337, #T_32966_row4_col338, #T_32966_row4_col339, #T_32966_row4_col340, #T_32966_row4_col341, #T_32966_row4_col342, #T_32966_row4_col343, #T_32966_row4_col344, #T_32966_row4_col345, #T_32966_row4_col346, #T_32966_row4_col347, #T_32966_row4_col348, #T_32966_row4_col349, #T_32966_row4_col350, #T_32966_row4_col351, #T_32966_row4_col352, #T_32966_row4_col353, #T_32966_row4_col354, #T_32966_row4_col355, #T_32966_row4_col356, #T_32966_row4_col357, #T_32966_row4_col358, #T_32966_row4_col359, #T_32966_row4_col360, #T_32966_row4_col361, #T_32966_row4_col362, #T_32966_row4_col363, #T_32966_row4_col364, #T_32966_row4_col365, #T_32966_row4_col366, #T_32966_row4_col367, #T_32966_row4_col368 {\n",
       "  text-align: left;\n",
       "}\n",
       "</style>\n",
       "<table id=\"T_32966\">\n",
       "  <thead>\n",
       "    <tr>\n",
       "      <th class=\"blank level0\" >&nbsp;</th>\n",
       "      <th id=\"T_32966_level0_col0\" class=\"col_heading level0 col0\" >CardOperationsId</th>\n",
       "      <th id=\"T_32966_level0_col1\" class=\"col_heading level0 col1\" >RunTimestamp</th>\n",
       "      <th id=\"T_32966_level0_col2\" class=\"col_heading level0 col2\" >LOCAL_TIMESTAMP</th>\n",
       "      <th id=\"T_32966_level0_col3\" class=\"col_heading level0 col3\" >TxnChannelCode</th>\n",
       "      <th id=\"T_32966_level0_col4\" class=\"col_heading level0 col4\" >TxnSourceTypeCode</th>\n",
       "      <th id=\"T_32966_level0_col5\" class=\"col_heading level0 col5\" >SourceSystemCode</th>\n",
       "      <th id=\"T_32966_level0_col6\" class=\"col_heading level0 col6\" >AccountSourceUniqueId</th>\n",
       "      <th id=\"T_32966_level0_col7\" class=\"col_heading level0 col7\" >CardId</th>\n",
       "      <th id=\"T_32966_level0_col8\" class=\"col_heading level0 col8\" >CardSourceRefId</th>\n",
       "      <th id=\"T_32966_level0_col9\" class=\"col_heading level0 col9\" >DeviceId</th>\n",
       "      <th id=\"T_32966_level0_col10\" class=\"col_heading level0 col10\" >MerchantRefId</th>\n",
       "      <th id=\"T_32966_level0_col11\" class=\"col_heading level0 col11\" >MerchantName</th>\n",
       "      <th id=\"T_32966_level0_col12\" class=\"col_heading level0 col12\" >MerchantCategory</th>\n",
       "      <th id=\"T_32966_level0_col13\" class=\"col_heading level0 col13\" >MerchantAddressLine1</th>\n",
       "      <th id=\"T_32966_level0_col14\" class=\"col_heading level0 col14\" >MerchantAddressLine2</th>\n",
       "      <th id=\"T_32966_level0_col15\" class=\"col_heading level0 col15\" >MerchantAddressLine3</th>\n",
       "      <th id=\"T_32966_level0_col16\" class=\"col_heading level0 col16\" >MerchantCity</th>\n",
       "      <th id=\"T_32966_level0_col17\" class=\"col_heading level0 col17\" >MerchantZone</th>\n",
       "      <th id=\"T_32966_level0_col18\" class=\"col_heading level0 col18\" >MerchantPostalCode</th>\n",
       "      <th id=\"T_32966_level0_col19\" class=\"col_heading level0 col19\" >MerchantCountryCode</th>\n",
       "      <th id=\"T_32966_level0_col20\" class=\"col_heading level0 col20\" >IssuerRefId</th>\n",
       "      <th id=\"T_32966_level0_col21\" class=\"col_heading level0 col21\" >AcquirerRefId</th>\n",
       "      <th id=\"T_32966_level0_col22\" class=\"col_heading level0 col22\" >AcquirerCountryCode</th>\n",
       "      <th id=\"T_32966_level0_col23\" class=\"col_heading level0 col23\" >AuthId</th>\n",
       "      <th id=\"T_32966_level0_col24\" class=\"col_heading level0 col24\" >AuthTimestamp</th>\n",
       "      <th id=\"T_32966_level0_col25\" class=\"col_heading level0 col25\" >AuthSource</th>\n",
       "      <th id=\"T_32966_level0_col26\" class=\"col_heading level0 col26\" >AuthResponse</th>\n",
       "      <th id=\"T_32966_level0_col27\" class=\"col_heading level0 col27\" >AuthAvailableCreditLimit</th>\n",
       "      <th id=\"T_32966_level0_col28\" class=\"col_heading level0 col28\" >AmountOrig</th>\n",
       "      <th id=\"T_32966_level0_col29\" class=\"col_heading level0 col29\" >AmountCashBack</th>\n",
       "      <th id=\"T_32966_level0_col30\" class=\"col_heading level0 col30\" >AmountAccount</th>\n",
       "      <th id=\"T_32966_level0_col31\" class=\"col_heading level0 col31\" >AmountBase</th>\n",
       "      <th id=\"T_32966_level0_col32\" class=\"col_heading level0 col32\" >CurrencyCodeAccount</th>\n",
       "      <th id=\"T_32966_level0_col33\" class=\"col_heading level0 col33\" >CardFunction</th>\n",
       "      <th id=\"T_32966_level0_col34\" class=\"col_heading level0 col34\" >CardType</th>\n",
       "      <th id=\"T_32966_level0_col35\" class=\"col_heading level0 col35\" >CardNrOfflinePin</th>\n",
       "      <th id=\"T_32966_level0_col36\" class=\"col_heading level0 col36\" >CardSequenceNumber</th>\n",
       "      <th id=\"T_32966_level0_col37\" class=\"col_heading level0 col37\" >CardCreditLimitMonthly</th>\n",
       "      <th id=\"T_32966_level0_col38\" class=\"col_heading level0 col38\" >CardCreditLimitWeekly</th>\n",
       "      <th id=\"T_32966_level0_col39\" class=\"col_heading level0 col39\" >CardCreditLimitDaily</th>\n",
       "      <th id=\"T_32966_level0_col40\" class=\"col_heading level0 col40\" >DvcPosEntryMode</th>\n",
       "      <th id=\"T_32966_level0_col41\" class=\"col_heading level0 col41\" >DvcVerificationCap</th>\n",
       "      <th id=\"T_32966_level0_col42\" class=\"col_heading level0 col42\" >OrgUnitCode</th>\n",
       "      <th id=\"T_32966_level0_col43\" class=\"col_heading level0 col43\" >CustomerPresentIndicator</th>\n",
       "      <th id=\"T_32966_level0_col44\" class=\"col_heading level0 col44\" >PosTerminalAttended</th>\n",
       "      <th id=\"T_32966_level0_col45\" class=\"col_heading level0 col45\" >CvvMatch</th>\n",
       "      <th id=\"T_32966_level0_col46\" class=\"col_heading level0 col46\" >ErrorCorrectFlag</th>\n",
       "      <th id=\"T_32966_level0_col47\" class=\"col_heading level0 col47\" >PosConditionCode</th>\n",
       "      <th id=\"T_32966_level0_col48\" class=\"col_heading level0 col48\" >PosCaptureCode</th>\n",
       "      <th id=\"T_32966_level0_col49\" class=\"col_heading level0 col49\" >AvsResponseCode</th>\n",
       "      <th id=\"T_32966_level0_col50\" class=\"col_heading level0 col50\" >AccountSourceRefId</th>\n",
       "      <th id=\"T_32966_level0_col51\" class=\"col_heading level0 col51\" >TransactionLocation</th>\n",
       "      <th id=\"T_32966_level0_col52\" class=\"col_heading level0 col52\" >OwnDevice</th>\n",
       "      <th id=\"T_32966_level0_col53\" class=\"col_heading level0 col53\" >CardHolderName</th>\n",
       "      <th id=\"T_32966_level0_col54\" class=\"col_heading level0 col54\" >DeviceName</th>\n",
       "      <th id=\"T_32966_level0_col55\" class=\"col_heading level0 col55\" >DeviceCategory</th>\n",
       "      <th id=\"T_32966_level0_col56\" class=\"col_heading level0 col56\" >DeviceCity</th>\n",
       "      <th id=\"T_32966_level0_col57\" class=\"col_heading level0 col57\" >DeviceZone</th>\n",
       "      <th id=\"T_32966_level0_col58\" class=\"col_heading level0 col58\" >DevicePostalCode</th>\n",
       "      <th id=\"T_32966_level0_col59\" class=\"col_heading level0 col59\" >DeviceCountryCode</th>\n",
       "      <th id=\"T_32966_level0_col60\" class=\"col_heading level0 col60\" >ECommerceFlag</th>\n",
       "      <th id=\"T_32966_level0_col61\" class=\"col_heading level0 col61\" >ProductIndicator</th>\n",
       "      <th id=\"T_32966_level0_col62\" class=\"col_heading level0 col62\" >CreditDebitCode</th>\n",
       "      <th id=\"T_32966_level0_col63\" class=\"col_heading level0 col63\" >MerchantFSA</th>\n",
       "      <th id=\"T_32966_level0_col64\" class=\"col_heading level0 col64\" >DeviceFSA</th>\n",
       "      <th id=\"T_32966_level0_col65\" class=\"col_heading level0 col65\" >PinIndicator</th>\n",
       "      <th id=\"T_32966_level0_col66\" class=\"col_heading level0 col66\" >Fraud</th>\n",
       "      <th id=\"T_32966_level0_col67\" class=\"col_heading level0 col67\" >Alerted</th>\n",
       "      <th id=\"T_32966_level0_col68\" class=\"col_heading level0 col68\" >CardLimit</th>\n",
       "      <th id=\"T_32966_level0_col69\" class=\"col_heading level0 col69\" >KnownATMLocation_df</th>\n",
       "      <th id=\"T_32966_level0_col70\" class=\"col_heading level0 col70\" >KnownPOS81Merchant</th>\n",
       "      <th id=\"T_32966_level0_col71\" class=\"col_heading level0 col71\" >DomesticGeoDistance</th>\n",
       "      <th id=\"T_32966_level0_col72\" class=\"col_heading level0 col72\" >KnownCPMerchant_df</th>\n",
       "      <th id=\"T_32966_level0_col73\" class=\"col_heading level0 col73\" >DomesticGeoTimeDiff</th>\n",
       "      <th id=\"T_32966_level0_col74\" class=\"col_heading level0 col74\" >ATMMerchantGeoDistance</th>\n",
       "      <th id=\"T_32966_level0_col75\" class=\"col_heading level0 col75\" >OnlineNewMerchCtryCntHourly.cnt.hour1</th>\n",
       "      <th id=\"T_32966_level0_col76\" class=\"col_heading level0 col76\" >OnlineNewMerchCtryCntHourly.cnt.hour3</th>\n",
       "      <th id=\"T_32966_level0_col77\" class=\"col_heading level0 col77\" >OnlineNewMerchCtryCntHourly.cnt.hour4</th>\n",
       "      <th id=\"T_32966_level0_col78\" class=\"col_heading level0 col78\" >OnlineNewMerchCtryCntHourly.cnt.hour10</th>\n",
       "      <th id=\"T_32966_level0_col79\" class=\"col_heading level0 col79\" >OnlineNewMerchCtryCntHourly.cnt.hour15</th>\n",
       "      <th id=\"T_32966_level0_col80\" class=\"col_heading level0 col80\" >OnlineNewMerchCtryCntHourly.cnt.hour24</th>\n",
       "      <th id=\"T_32966_level0_col81\" class=\"col_heading level0 col81\" >POSTerminalAttendedAuthAmount.acc.day.total</th>\n",
       "      <th id=\"T_32966_level0_col82\" class=\"col_heading level0 col82\" >POSTerminalAttendedAuthAmount.acc.day.present</th>\n",
       "      <th id=\"T_32966_level0_col83\" class=\"col_heading level0 col83\" >POSTerminalAttendedAuthAmount.acc.day.past1</th>\n",
       "      <th id=\"T_32966_level0_col84\" class=\"col_heading level0 col84\" >POSTerminalAttendedAuthAmount.acc.day.past3</th>\n",
       "      <th id=\"T_32966_level0_col85\" class=\"col_heading level0 col85\" >POSTerminalAttendedAuthAmount.acc.day.past10</th>\n",
       "      <th id=\"T_32966_level0_col86\" class=\"col_heading level0 col86\" >POSTerminalAttendedAuthAmount.acc.day.past15</th>\n",
       "      <th id=\"T_32966_level0_col87\" class=\"col_heading level0 col87\" >POSTerminalAttendedAuthAmount.acc.day.past29</th>\n",
       "      <th id=\"T_32966_level0_col88\" class=\"col_heading level0 col88\" >HighRiskMCCAmount.acc.hour.total</th>\n",
       "      <th id=\"T_32966_level0_col89\" class=\"col_heading level0 col89\" >HighRiskMCCAmount.acc.hour.present</th>\n",
       "      <th id=\"T_32966_level0_col90\" class=\"col_heading level0 col90\" >HighRiskMCCAmount.acc.hour.past1</th>\n",
       "      <th id=\"T_32966_level0_col91\" class=\"col_heading level0 col91\" >HighRiskMCCAmount.acc.hour.past3</th>\n",
       "      <th id=\"T_32966_level0_col92\" class=\"col_heading level0 col92\" >HighRiskMCCAmount.acc.hour.past4</th>\n",
       "      <th id=\"T_32966_level0_col93\" class=\"col_heading level0 col93\" >HighRiskMCCAmount.acc.hour.past10</th>\n",
       "      <th id=\"T_32966_level0_col94\" class=\"col_heading level0 col94\" >HighRiskMCCAmount.acc.hour.past15</th>\n",
       "      <th id=\"T_32966_level0_col95\" class=\"col_heading level0 col95\" >HighRiskMCCAmount.acc.hour.past23</th>\n",
       "      <th id=\"T_32966_level0_col96\" class=\"col_heading level0 col96\" >POSSum.acc.month.total</th>\n",
       "      <th id=\"T_32966_level0_col97\" class=\"col_heading level0 col97\" >POSSum.acc.month.present</th>\n",
       "      <th id=\"T_32966_level0_col98\" class=\"col_heading level0 col98\" >HighRiskPOSCnt.cnt.hour.total</th>\n",
       "      <th id=\"T_32966_level0_col99\" class=\"col_heading level0 col99\" >HighRiskPOSCnt.cnt.hour.present</th>\n",
       "      <th id=\"T_32966_level0_col100\" class=\"col_heading level0 col100\" >HighRiskPOSCnt.cnt.hour.past1</th>\n",
       "      <th id=\"T_32966_level0_col101\" class=\"col_heading level0 col101\" >HighRiskPOSCnt.cnt.hour.past3</th>\n",
       "      <th id=\"T_32966_level0_col102\" class=\"col_heading level0 col102\" >HighRiskPOSCnt.cnt.hour.past4</th>\n",
       "      <th id=\"T_32966_level0_col103\" class=\"col_heading level0 col103\" >HighRiskPOSCnt.cnt.hour.past10</th>\n",
       "      <th id=\"T_32966_level0_col104\" class=\"col_heading level0 col104\" >HighRiskPOSCnt.cnt.hour.past15</th>\n",
       "      <th id=\"T_32966_level0_col105\" class=\"col_heading level0 col105\" >HighRiskPOSCnt.cnt.hour.past24</th>\n",
       "      <th id=\"T_32966_level0_col106\" class=\"col_heading level0 col106\" >HighRiskPOSCnt.cnt.hour.past29</th>\n",
       "      <th id=\"T_32966_level0_col107\" class=\"col_heading level0 col107\" >FuelPumpCount.cnt.day.total</th>\n",
       "      <th id=\"T_32966_level0_col108\" class=\"col_heading level0 col108\" >FuelPumpCount.cnt.day.present</th>\n",
       "      <th id=\"T_32966_level0_col109\" class=\"col_heading level0 col109\" >FuelPumpCount.cnt.day.past1</th>\n",
       "      <th id=\"T_32966_level0_col110\" class=\"col_heading level0 col110\" >FuelPumpCount.cnt.day.past3</th>\n",
       "      <th id=\"T_32966_level0_col111\" class=\"col_heading level0 col111\" >FuelPumpCount.cnt.day.past10</th>\n",
       "      <th id=\"T_32966_level0_col112\" class=\"col_heading level0 col112\" >FuelPumpCount.cnt.day.past15</th>\n",
       "      <th id=\"T_32966_level0_col113\" class=\"col_heading level0 col113\" >FuelPumpCount.cnt.day.past29</th>\n",
       "      <th id=\"T_32966_level0_col114\" class=\"col_heading level0 col114\" >CardNotPresentCardingCnt.cnt.day.total</th>\n",
       "      <th id=\"T_32966_level0_col115\" class=\"col_heading level0 col115\" >CardNotPresentCardingCnt.cnt.day.present</th>\n",
       "      <th id=\"T_32966_level0_col116\" class=\"col_heading level0 col116\" >CardNotPresentCardingCnt.cnt.day.past1</th>\n",
       "      <th id=\"T_32966_level0_col117\" class=\"col_heading level0 col117\" >CardNotPresentCardingCnt.cnt.day.past3</th>\n",
       "      <th id=\"T_32966_level0_col118\" class=\"col_heading level0 col118\" >CardNotPresentCardingCnt.cnt.day.past6</th>\n",
       "      <th id=\"T_32966_level0_col119\" class=\"col_heading level0 col119\" >NotECommerceAuthAmount.acc.day.total</th>\n",
       "      <th id=\"T_32966_level0_col120\" class=\"col_heading level0 col120\" >NotECommerceAuthAmount.acc.day.present</th>\n",
       "      <th id=\"T_32966_level0_col121\" class=\"col_heading level0 col121\" >NotECommerceAuthAmount.acc.day.past1</th>\n",
       "      <th id=\"T_32966_level0_col122\" class=\"col_heading level0 col122\" >NotECommerceAuthAmount.acc.day.past3</th>\n",
       "      <th id=\"T_32966_level0_col123\" class=\"col_heading level0 col123\" >NotECommerceAuthAmount.acc.day.past10</th>\n",
       "      <th id=\"T_32966_level0_col124\" class=\"col_heading level0 col124\" >NotECommerceAuthAmount.acc.day.past15</th>\n",
       "      <th id=\"T_32966_level0_col125\" class=\"col_heading level0 col125\" >NotECommerceAuthAmount.acc.day.past29</th>\n",
       "      <th id=\"T_32966_level0_col126\" class=\"col_heading level0 col126\" >HourlyAuthAmt.acc.hour1</th>\n",
       "      <th id=\"T_32966_level0_col127\" class=\"col_heading level0 col127\" >HourlyAuthAmt.acc.hour3</th>\n",
       "      <th id=\"T_32966_level0_col128\" class=\"col_heading level0 col128\" >HourlyAuthAmt.acc.hour4</th>\n",
       "      <th id=\"T_32966_level0_col129\" class=\"col_heading level0 col129\" >HourlyAuthAmt.acc.hour10</th>\n",
       "      <th id=\"T_32966_level0_col130\" class=\"col_heading level0 col130\" >HourlyAuthAmt.acc.hour15</th>\n",
       "      <th id=\"T_32966_level0_col131\" class=\"col_heading level0 col131\" >HourlyAuthAmt.acc.hour25</th>\n",
       "      <th id=\"T_32966_level0_col132\" class=\"col_heading level0 col132\" >CashAdvanceTransactionsAcc.acc.day.total</th>\n",
       "      <th id=\"T_32966_level0_col133\" class=\"col_heading level0 col133\" >CashAdvanceTransactionsAcc.acc.day.present</th>\n",
       "      <th id=\"T_32966_level0_col134\" class=\"col_heading level0 col134\" >CashAdvanceTransactionsAcc.acc.day.past1</th>\n",
       "      <th id=\"T_32966_level0_col135\" class=\"col_heading level0 col135\" >CashAdvanceTransactionsAcc.acc.day.past3</th>\n",
       "      <th id=\"T_32966_level0_col136\" class=\"col_heading level0 col136\" >CashAdvanceTransactionsAcc.acc.day.past10</th>\n",
       "      <th id=\"T_32966_level0_col137\" class=\"col_heading level0 col137\" >CashAdvanceTransactionsAcc.acc.day.past15</th>\n",
       "      <th id=\"T_32966_level0_col138\" class=\"col_heading level0 col138\" >CashAdvanceTransactionsAcc.acc.day.past29</th>\n",
       "      <th id=\"T_32966_level0_col139\" class=\"col_heading level0 col139\" >NonEMVTransactionsCount.cnt.day.total</th>\n",
       "      <th id=\"T_32966_level0_col140\" class=\"col_heading level0 col140\" >NonEMVTransactionsCount.cnt.day.present</th>\n",
       "      <th id=\"T_32966_level0_col141\" class=\"col_heading level0 col141\" >NonEMVTransactionsCount.cnt.day.past1</th>\n",
       "      <th id=\"T_32966_level0_col142\" class=\"col_heading level0 col142\" >NonEMVTransactionsCount.cnt.day.past3</th>\n",
       "      <th id=\"T_32966_level0_col143\" class=\"col_heading level0 col143\" >NonEMVTransactionsCount.cnt.day.past10</th>\n",
       "      <th id=\"T_32966_level0_col144\" class=\"col_heading level0 col144\" >NonEMVTransactionsCount.cnt.day.past15</th>\n",
       "      <th id=\"T_32966_level0_col145\" class=\"col_heading level0 col145\" >NonEMVTransactionsCount.cnt.day.past29</th>\n",
       "      <th id=\"T_32966_level0_col146\" class=\"col_heading level0 col146\" >NonEMVTransactionsAcc.acc.day.total</th>\n",
       "      <th id=\"T_32966_level0_col147\" class=\"col_heading level0 col147\" >NonEMVTransactionsAcc.acc.day.present</th>\n",
       "      <th id=\"T_32966_level0_col148\" class=\"col_heading level0 col148\" >NonEMVTransactionsAcc.acc.day.past1</th>\n",
       "      <th id=\"T_32966_level0_col149\" class=\"col_heading level0 col149\" >NonEMVTransactionsAcc.acc.day.past3</th>\n",
       "      <th id=\"T_32966_level0_col150\" class=\"col_heading level0 col150\" >NonEMVTransactionsAcc.acc.day.past10</th>\n",
       "      <th id=\"T_32966_level0_col151\" class=\"col_heading level0 col151\" >NonEMVTransactionsAcc.acc.day.past15</th>\n",
       "      <th id=\"T_32966_level0_col152\" class=\"col_heading level0 col152\" >NonEMVTransactionsAcc.acc.day.past29</th>\n",
       "      <th id=\"T_32966_level0_col153\" class=\"col_heading level0 col153\" >CorporateNonEMVCardsCount.cnt.day.total</th>\n",
       "      <th id=\"T_32966_level0_col154\" class=\"col_heading level0 col154\" >CorporateNonEMVCardsCount.cnt.day.present</th>\n",
       "      <th id=\"T_32966_level0_col155\" class=\"col_heading level0 col155\" >CorporateNonEMVCardsCount.cnt.day.past1</th>\n",
       "      <th id=\"T_32966_level0_col156\" class=\"col_heading level0 col156\" >CorporateNonEMVCardsCount.cnt.day.past3</th>\n",
       "      <th id=\"T_32966_level0_col157\" class=\"col_heading level0 col157\" >CorporateNonEMVCardsCount.cnt.day.past10</th>\n",
       "      <th id=\"T_32966_level0_col158\" class=\"col_heading level0 col158\" >CorporateNonEMVCardsCount.cnt.day.past15</th>\n",
       "      <th id=\"T_32966_level0_col159\" class=\"col_heading level0 col159\" >CorporateNonEMVCardsCount.cnt.day.past29</th>\n",
       "      <th id=\"T_32966_level0_col160\" class=\"col_heading level0 col160\" >DomesticAuthCounter.cnt.day.total</th>\n",
       "      <th id=\"T_32966_level0_col161\" class=\"col_heading level0 col161\" >DomesticAuthCounter.cnt.day.present</th>\n",
       "      <th id=\"T_32966_level0_col162\" class=\"col_heading level0 col162\" >DomesticAuthCounter.cnt.day.past1</th>\n",
       "      <th id=\"T_32966_level0_col163\" class=\"col_heading level0 col163\" >DomesticAuthCounter.cnt.day.past3</th>\n",
       "      <th id=\"T_32966_level0_col164\" class=\"col_heading level0 col164\" >DomesticAuthCounter.cnt.day.past10</th>\n",
       "      <th id=\"T_32966_level0_col165\" class=\"col_heading level0 col165\" >DomesticAuthCounter.cnt.day.past15</th>\n",
       "      <th id=\"T_32966_level0_col166\" class=\"col_heading level0 col166\" >DomesticAuthCounter.cnt.day.past29</th>\n",
       "      <th id=\"T_32966_level0_col167\" class=\"col_heading level0 col167\" >CustomerNotPresentAuthAmount.acc.day.total</th>\n",
       "      <th id=\"T_32966_level0_col168\" class=\"col_heading level0 col168\" >CustomerNotPresentAuthAmount.acc.day.present</th>\n",
       "      <th id=\"T_32966_level0_col169\" class=\"col_heading level0 col169\" >CustomerNotPresentAuthAmount.acc.day.past1</th>\n",
       "      <th id=\"T_32966_level0_col170\" class=\"col_heading level0 col170\" >CustomerNotPresentAuthAmount.acc.day.past3</th>\n",
       "      <th id=\"T_32966_level0_col171\" class=\"col_heading level0 col171\" >CustomerNotPresentAuthAmount.acc.day.past10</th>\n",
       "      <th id=\"T_32966_level0_col172\" class=\"col_heading level0 col172\" >CustomerNotPresentAuthAmount.acc.day.past15</th>\n",
       "      <th id=\"T_32966_level0_col173\" class=\"col_heading level0 col173\" >CustomerNotPresentAuthAmount.acc.day.past29</th>\n",
       "      <th id=\"T_32966_level0_col174\" class=\"col_heading level0 col174\" >ATMDepositCounter.cnt.day.total</th>\n",
       "      <th id=\"T_32966_level0_col175\" class=\"col_heading level0 col175\" >ATMDepositCounter.cnt.day.present</th>\n",
       "      <th id=\"T_32966_level0_col176\" class=\"col_heading level0 col176\" >ATMDepositCounter.cnt.day.past1</th>\n",
       "      <th id=\"T_32966_level0_col177\" class=\"col_heading level0 col177\" >ATMDepositCounter.cnt.day.past3</th>\n",
       "      <th id=\"T_32966_level0_col178\" class=\"col_heading level0 col178\" >ATMDepositCounter.cnt.day.past10</th>\n",
       "      <th id=\"T_32966_level0_col179\" class=\"col_heading level0 col179\" >ATMDepositCounter.cnt.day.past15</th>\n",
       "      <th id=\"T_32966_level0_col180\" class=\"col_heading level0 col180\" >ATMDepositCounter.cnt.day.past29</th>\n",
       "      <th id=\"T_32966_level0_col181\" class=\"col_heading level0 col181\" >POSTerminalAttendedAuthCount.cnt.day.total</th>\n",
       "      <th id=\"T_32966_level0_col182\" class=\"col_heading level0 col182\" >POSTerminalAttendedAuthCount.cnt.day.present</th>\n",
       "      <th id=\"T_32966_level0_col183\" class=\"col_heading level0 col183\" >POSTerminalAttendedAuthCount.cnt.day.past1</th>\n",
       "      <th id=\"T_32966_level0_col184\" class=\"col_heading level0 col184\" >POSTerminalAttendedAuthCount.cnt.day.past3</th>\n",
       "      <th id=\"T_32966_level0_col185\" class=\"col_heading level0 col185\" >POSTerminalAttendedAuthCount.cnt.day.past10</th>\n",
       "      <th id=\"T_32966_level0_col186\" class=\"col_heading level0 col186\" >POSTerminalAttendedAuthCount.cnt.day.past15</th>\n",
       "      <th id=\"T_32966_level0_col187\" class=\"col_heading level0 col187\" >POSTerminalAttendedAuthCount.cnt.day.past29</th>\n",
       "      <th id=\"T_32966_level0_col188\" class=\"col_heading level0 col188\" >CashAdvanceTransactionsCount.cnt.day.total</th>\n",
       "      <th id=\"T_32966_level0_col189\" class=\"col_heading level0 col189\" >CashAdvanceTransactionsCount.cnt.day.present</th>\n",
       "      <th id=\"T_32966_level0_col190\" class=\"col_heading level0 col190\" >CashAdvanceTransactionsCount.cnt.day.past1</th>\n",
       "      <th id=\"T_32966_level0_col191\" class=\"col_heading level0 col191\" >CashAdvanceTransactionsCount.cnt.day.past3</th>\n",
       "      <th id=\"T_32966_level0_col192\" class=\"col_heading level0 col192\" >CashAdvanceTransactionsCount.cnt.day.past10</th>\n",
       "      <th id=\"T_32966_level0_col193\" class=\"col_heading level0 col193\" >CashAdvanceTransactionsCount.cnt.day.past15</th>\n",
       "      <th id=\"T_32966_level0_col194\" class=\"col_heading level0 col194\" >CashAdvanceTransactionsCount.cnt.day.past29</th>\n",
       "      <th id=\"T_32966_level0_col195\" class=\"col_heading level0 col195\" >OnlineNewMerchCtryCntDaily.cnt.day.total</th>\n",
       "      <th id=\"T_32966_level0_col196\" class=\"col_heading level0 col196\" >OnlineNewMerchCtryCntDaily.cnt.day.present</th>\n",
       "      <th id=\"T_32966_level0_col197\" class=\"col_heading level0 col197\" >OnlineNewMerchCtryCntDaily.cnt.day.past1</th>\n",
       "      <th id=\"T_32966_level0_col198\" class=\"col_heading level0 col198\" >OnlineNewMerchCtryCntDaily.cnt.day.past3</th>\n",
       "      <th id=\"T_32966_level0_col199\" class=\"col_heading level0 col199\" >OnlineNewMerchCtryCntDaily.cnt.day.past4</th>\n",
       "      <th id=\"T_32966_level0_col200\" class=\"col_heading level0 col200\" >ECommerceAuthCount.cnt.day.total</th>\n",
       "      <th id=\"T_32966_level0_col201\" class=\"col_heading level0 col201\" >ECommerceAuthCount.cnt.day.present</th>\n",
       "      <th id=\"T_32966_level0_col202\" class=\"col_heading level0 col202\" >ECommerceAuthCount.cnt.day.past1</th>\n",
       "      <th id=\"T_32966_level0_col203\" class=\"col_heading level0 col203\" >ECommerceAuthCount.cnt.day.past3</th>\n",
       "      <th id=\"T_32966_level0_col204\" class=\"col_heading level0 col204\" >ECommerceAuthCount.cnt.day.past10</th>\n",
       "      <th id=\"T_32966_level0_col205\" class=\"col_heading level0 col205\" >ECommerceAuthCount.cnt.day.past15</th>\n",
       "      <th id=\"T_32966_level0_col206\" class=\"col_heading level0 col206\" >ECommerceAuthCount.cnt.day.past29</th>\n",
       "      <th id=\"T_32966_level0_col207\" class=\"col_heading level0 col207\" >ATMHighRiskDebitCounter.cnt.day.total</th>\n",
       "      <th id=\"T_32966_level0_col208\" class=\"col_heading level0 col208\" >ATMHighRiskDebitCounter.cnt.day.present</th>\n",
       "      <th id=\"T_32966_level0_col209\" class=\"col_heading level0 col209\" >ATMHighRiskDebitCounter.cnt.day.past1</th>\n",
       "      <th id=\"T_32966_level0_col210\" class=\"col_heading level0 col210\" >ATMHighRiskDebitCounter.cnt.day.past3</th>\n",
       "      <th id=\"T_32966_level0_col211\" class=\"col_heading level0 col211\" >ATMHighRiskDebitCounter.cnt.day.past10</th>\n",
       "      <th id=\"T_32966_level0_col212\" class=\"col_heading level0 col212\" >ATMHighRiskDebitCounter.cnt.day.past15</th>\n",
       "      <th id=\"T_32966_level0_col213\" class=\"col_heading level0 col213\" >ATMHighRiskDebitCounter.cnt.day.past29</th>\n",
       "      <th id=\"T_32966_level0_col214\" class=\"col_heading level0 col214\" >DomesticAuthCount.cnt.hour1</th>\n",
       "      <th id=\"T_32966_level0_col215\" class=\"col_heading level0 col215\" >DomesticAuthCount.cnt.hour3</th>\n",
       "      <th id=\"T_32966_level0_col216\" class=\"col_heading level0 col216\" >DomesticAuthCount.cnt.hour4</th>\n",
       "      <th id=\"T_32966_level0_col217\" class=\"col_heading level0 col217\" >DomesticAuthCount.cnt.hour10</th>\n",
       "      <th id=\"T_32966_level0_col218\" class=\"col_heading level0 col218\" >DomesticAuthCount.cnt.hour15</th>\n",
       "      <th id=\"T_32966_level0_col219\" class=\"col_heading level0 col219\" >DomesticAuthCount.cnt.hour25</th>\n",
       "      <th id=\"T_32966_level0_col220\" class=\"col_heading level0 col220\" >NotECommerceAuthCount.cnt.day.total</th>\n",
       "      <th id=\"T_32966_level0_col221\" class=\"col_heading level0 col221\" >NotECommerceAuthCount.cnt.day.present</th>\n",
       "      <th id=\"T_32966_level0_col222\" class=\"col_heading level0 col222\" >NotECommerceAuthCount.cnt.day.past1</th>\n",
       "      <th id=\"T_32966_level0_col223\" class=\"col_heading level0 col223\" >NotECommerceAuthCount.cnt.day.past3</th>\n",
       "      <th id=\"T_32966_level0_col224\" class=\"col_heading level0 col224\" >NotECommerceAuthCount.cnt.day.past10</th>\n",
       "      <th id=\"T_32966_level0_col225\" class=\"col_heading level0 col225\" >NotECommerceAuthCount.cnt.day.past15</th>\n",
       "      <th id=\"T_32966_level0_col226\" class=\"col_heading level0 col226\" >NotECommerceAuthCount.cnt.day.past29</th>\n",
       "      <th id=\"T_32966_level0_col227\" class=\"col_heading level0 col227\" >EMVTransactionsCount.cnt.day.total</th>\n",
       "      <th id=\"T_32966_level0_col228\" class=\"col_heading level0 col228\" >EMVTransactionsCount.cnt.day.present</th>\n",
       "      <th id=\"T_32966_level0_col229\" class=\"col_heading level0 col229\" >EMVTransactionsCount.cnt.day.past1</th>\n",
       "      <th id=\"T_32966_level0_col230\" class=\"col_heading level0 col230\" >EMVTransactionsCount.cnt.day.past3</th>\n",
       "      <th id=\"T_32966_level0_col231\" class=\"col_heading level0 col231\" >EMVTransactionsCount.cnt.day.past10</th>\n",
       "      <th id=\"T_32966_level0_col232\" class=\"col_heading level0 col232\" >EMVTransactionsCount.cnt.day.past15</th>\n",
       "      <th id=\"T_32966_level0_col233\" class=\"col_heading level0 col233\" >EMVTransactionsCount.cnt.day.past29</th>\n",
       "      <th id=\"T_32966_level0_col234\" class=\"col_heading level0 col234\" >CustomerNotPresentAuthCount.cnt.day.total</th>\n",
       "      <th id=\"T_32966_level0_col235\" class=\"col_heading level0 col235\" >CustomerNotPresentAuthCount.cnt.day.present</th>\n",
       "      <th id=\"T_32966_level0_col236\" class=\"col_heading level0 col236\" >CustomerNotPresentAuthCount.cnt.day.past1</th>\n",
       "      <th id=\"T_32966_level0_col237\" class=\"col_heading level0 col237\" >CustomerNotPresentAuthCount.cnt.day.past3</th>\n",
       "      <th id=\"T_32966_level0_col238\" class=\"col_heading level0 col238\" >CustomerNotPresentAuthCount.cnt.day.past10</th>\n",
       "      <th id=\"T_32966_level0_col239\" class=\"col_heading level0 col239\" >CustomerNotPresentAuthCount.cnt.day.past15</th>\n",
       "      <th id=\"T_32966_level0_col240\" class=\"col_heading level0 col240\" >CustomerNotPresentAuthCount.cnt.day.past29</th>\n",
       "      <th id=\"T_32966_level0_col241\" class=\"col_heading level0 col241\" >OnlinePOSCountForever.cnt.present</th>\n",
       "      <th id=\"T_32966_level0_col242\" class=\"col_heading level0 col242\" >ATMCashAdvanceLimitExceededAcc.acc.day.total</th>\n",
       "      <th id=\"T_32966_level0_col243\" class=\"col_heading level0 col243\" >ATMCashAdvanceLimitExceededAcc.acc.day.present</th>\n",
       "      <th id=\"T_32966_level0_col244\" class=\"col_heading level0 col244\" >ATMCashAdvanceLimitExceededAcc.acc.day.past1</th>\n",
       "      <th id=\"T_32966_level0_col245\" class=\"col_heading level0 col245\" >ATMCashAdvanceLimitExceededAcc.acc.day.past3</th>\n",
       "      <th id=\"T_32966_level0_col246\" class=\"col_heading level0 col246\" >ATMCashAdvanceLimitExceededAcc.acc.day.past10</th>\n",
       "      <th id=\"T_32966_level0_col247\" class=\"col_heading level0 col247\" >ATMCashAdvanceLimitExceededAcc.acc.day.past15</th>\n",
       "      <th id=\"T_32966_level0_col248\" class=\"col_heading level0 col248\" >ATMCashAdvanceLimitExceededAcc.acc.day.past29</th>\n",
       "      <th id=\"T_32966_level0_col249\" class=\"col_heading level0 col249\" >CorporateNonEMVCardsAcc.acc.day.total</th>\n",
       "      <th id=\"T_32966_level0_col250\" class=\"col_heading level0 col250\" >CorporateNonEMVCardsAcc.acc.day.present</th>\n",
       "      <th id=\"T_32966_level0_col251\" class=\"col_heading level0 col251\" >CorporateNonEMVCardsAcc.acc.day.past1</th>\n",
       "      <th id=\"T_32966_level0_col252\" class=\"col_heading level0 col252\" >CorporateNonEMVCardsAcc.acc.day.past3</th>\n",
       "      <th id=\"T_32966_level0_col253\" class=\"col_heading level0 col253\" >CorporateNonEMVCardsAcc.acc.day.past10</th>\n",
       "      <th id=\"T_32966_level0_col254\" class=\"col_heading level0 col254\" >CorporateNonEMVCardsAcc.acc.day.past15</th>\n",
       "      <th id=\"T_32966_level0_col255\" class=\"col_heading level0 col255\" >CorporateNonEMVCardsAcc.acc.day.past29</th>\n",
       "      <th id=\"T_32966_level0_col256\" class=\"col_heading level0 col256\" >SmallPOSAuthorizationCount.cnt.hour1</th>\n",
       "      <th id=\"T_32966_level0_col257\" class=\"col_heading level0 col257\" >SmallPOSAuthorizationCount.cnt.hour3</th>\n",
       "      <th id=\"T_32966_level0_col258\" class=\"col_heading level0 col258\" >SmallPOSAuthorizationCount.cnt.hour4</th>\n",
       "      <th id=\"T_32966_level0_col259\" class=\"col_heading level0 col259\" >SmallPOSAuthorizationCount.cnt.hour10</th>\n",
       "      <th id=\"T_32966_level0_col260\" class=\"col_heading level0 col260\" >SmallPOSAuthorizationCount.cnt.hour15</th>\n",
       "      <th id=\"T_32966_level0_col261\" class=\"col_heading level0 col261\" >SmallPOSAuthorizationCount.cnt.hour24</th>\n",
       "      <th id=\"T_32966_level0_col262\" class=\"col_heading level0 col262\" >HourlyAuthCnt.cnt.hour1</th>\n",
       "      <th id=\"T_32966_level0_col263\" class=\"col_heading level0 col263\" >HourlyAuthCnt.cnt.hour3</th>\n",
       "      <th id=\"T_32966_level0_col264\" class=\"col_heading level0 col264\" >HourlyAuthCnt.cnt.hour4</th>\n",
       "      <th id=\"T_32966_level0_col265\" class=\"col_heading level0 col265\" >HourlyAuthCnt.cnt.hour10</th>\n",
       "      <th id=\"T_32966_level0_col266\" class=\"col_heading level0 col266\" >HourlyAuthCnt.cnt.hour15</th>\n",
       "      <th id=\"T_32966_level0_col267\" class=\"col_heading level0 col267\" >HourlyAuthCnt.cnt.hour25</th>\n",
       "      <th id=\"T_32966_level0_col268\" class=\"col_heading level0 col268\" >InternationalAuthCounter.cnt.day.total</th>\n",
       "      <th id=\"T_32966_level0_col269\" class=\"col_heading level0 col269\" >InternationalAuthCounter.cnt.day.present</th>\n",
       "      <th id=\"T_32966_level0_col270\" class=\"col_heading level0 col270\" >InternationalAuthCounter.cnt.day.past1</th>\n",
       "      <th id=\"T_32966_level0_col271\" class=\"col_heading level0 col271\" >InternationalAuthCounter.cnt.day.past3</th>\n",
       "      <th id=\"T_32966_level0_col272\" class=\"col_heading level0 col272\" >InternationalAuthCounter.cnt.day.past10</th>\n",
       "      <th id=\"T_32966_level0_col273\" class=\"col_heading level0 col273\" >InternationalAuthCounter.cnt.day.past15</th>\n",
       "      <th id=\"T_32966_level0_col274\" class=\"col_heading level0 col274\" >InternationalAuthCounter.cnt.day.past29</th>\n",
       "      <th id=\"T_32966_level0_col275\" class=\"col_heading level0 col275\" >POS_Count.cnt.day.total</th>\n",
       "      <th id=\"T_32966_level0_col276\" class=\"col_heading level0 col276\" >POS_Count.cnt.day.present</th>\n",
       "      <th id=\"T_32966_level0_col277\" class=\"col_heading level0 col277\" >POS_Count.cnt.day.past1</th>\n",
       "      <th id=\"T_32966_level0_col278\" class=\"col_heading level0 col278\" >POS_Count.cnt.day.past3</th>\n",
       "      <th id=\"T_32966_level0_col279\" class=\"col_heading level0 col279\" >POS_Count.cnt.day.past10</th>\n",
       "      <th id=\"T_32966_level0_col280\" class=\"col_heading level0 col280\" >POS_Count.cnt.day.past15</th>\n",
       "      <th id=\"T_32966_level0_col281\" class=\"col_heading level0 col281\" >POS_Count.cnt.day.past29</th>\n",
       "      <th id=\"T_32966_level0_col282\" class=\"col_heading level0 col282\" >LowValueECommerceAuthCnt.cnt.day.total</th>\n",
       "      <th id=\"T_32966_level0_col283\" class=\"col_heading level0 col283\" >LowValueECommerceAuthCnt.cnt.day.present</th>\n",
       "      <th id=\"T_32966_level0_col284\" class=\"col_heading level0 col284\" >LowValueECommerceAuthCnt.cnt.day.past1</th>\n",
       "      <th id=\"T_32966_level0_col285\" class=\"col_heading level0 col285\" >LowValueECommerceAuthCnt.cnt.day.past3</th>\n",
       "      <th id=\"T_32966_level0_col286\" class=\"col_heading level0 col286\" >LowValueECommerceAuthCnt.cnt.day.past10</th>\n",
       "      <th id=\"T_32966_level0_col287\" class=\"col_heading level0 col287\" >LowValueECommerceAuthCnt.cnt.day.past15</th>\n",
       "      <th id=\"T_32966_level0_col288\" class=\"col_heading level0 col288\" >LowValueECommerceAuthCnt.cnt.day.past29</th>\n",
       "      <th id=\"T_32966_level0_col289\" class=\"col_heading level0 col289\" >ConsecutiveChannelAndAmount.cnt.hour1</th>\n",
       "      <th id=\"T_32966_level0_col290\" class=\"col_heading level0 col290\" >ConsecutiveChannelAndAmount.cnt.hour3</th>\n",
       "      <th id=\"T_32966_level0_col291\" class=\"col_heading level0 col291\" >ConsecutiveChannelAndAmount.cnt.hour4</th>\n",
       "      <th id=\"T_32966_level0_col292\" class=\"col_heading level0 col292\" >ConsecutiveChannelAndAmount.cnt.hour10</th>\n",
       "      <th id=\"T_32966_level0_col293\" class=\"col_heading level0 col293\" >ConsecutiveChannelAndAmount.cnt.hour15</th>\n",
       "      <th id=\"T_32966_level0_col294\" class=\"col_heading level0 col294\" >ConsecutiveChannelAndAmount.cnt.hour24</th>\n",
       "      <th id=\"T_32966_level0_col295\" class=\"col_heading level0 col295\" >POSInternationalCnt.cnt.week.total</th>\n",
       "      <th id=\"T_32966_level0_col296\" class=\"col_heading level0 col296\" >POSInternationalCnt.cnt.week.present</th>\n",
       "      <th id=\"T_32966_level0_col297\" class=\"col_heading level0 col297\" >POSInternationalCnt.cnt.week.past1</th>\n",
       "      <th id=\"T_32966_level0_col298\" class=\"col_heading level0 col298\" >POSInternationalCnt.cnt.week.past3</th>\n",
       "      <th id=\"T_32966_level0_col299\" class=\"col_heading level0 col299\" >OnlineNewMerchCtryAmtDaily.acc.day.total</th>\n",
       "      <th id=\"T_32966_level0_col300\" class=\"col_heading level0 col300\" >OnlineNewMerchCtryAmtDaily.acc.day.present</th>\n",
       "      <th id=\"T_32966_level0_col301\" class=\"col_heading level0 col301\" >OnlineNewMerchCtryAmtDaily.acc.day.past1</th>\n",
       "      <th id=\"T_32966_level0_col302\" class=\"col_heading level0 col302\" >OnlineNewMerchCtryAmtDaily.acc.day.past3</th>\n",
       "      <th id=\"T_32966_level0_col303\" class=\"col_heading level0 col303\" >OnlineNewMerchCtryAmtDaily.acc.day.past4</th>\n",
       "      <th id=\"T_32966_level0_col304\" class=\"col_heading level0 col304\" >ATMCashAdvanceLimitExceededCount.cnt.day.total</th>\n",
       "      <th id=\"T_32966_level0_col305\" class=\"col_heading level0 col305\" >ATMCashAdvanceLimitExceededCount.cnt.day.present</th>\n",
       "      <th id=\"T_32966_level0_col306\" class=\"col_heading level0 col306\" >ATMCashAdvanceLimitExceededCount.cnt.day.past1</th>\n",
       "      <th id=\"T_32966_level0_col307\" class=\"col_heading level0 col307\" >ATMCashAdvanceLimitExceededCount.cnt.day.past3</th>\n",
       "      <th id=\"T_32966_level0_col308\" class=\"col_heading level0 col308\" >ATMCashAdvanceLimitExceededCount.cnt.day.past10</th>\n",
       "      <th id=\"T_32966_level0_col309\" class=\"col_heading level0 col309\" >ATMCashAdvanceLimitExceededCount.cnt.day.past15</th>\n",
       "      <th id=\"T_32966_level0_col310\" class=\"col_heading level0 col310\" >ATMCashAdvanceLimitExceededCount.cnt.day.past29</th>\n",
       "      <th id=\"T_32966_level0_col311\" class=\"col_heading level0 col311\" >ATMHighRiskDebitAccumulator.acc.day.total</th>\n",
       "      <th id=\"T_32966_level0_col312\" class=\"col_heading level0 col312\" >ATMHighRiskDebitAccumulator.acc.day.present</th>\n",
       "      <th id=\"T_32966_level0_col313\" class=\"col_heading level0 col313\" >ATMHighRiskDebitAccumulator.acc.day.past1</th>\n",
       "      <th id=\"T_32966_level0_col314\" class=\"col_heading level0 col314\" >ATMHighRiskDebitAccumulator.acc.day.past3</th>\n",
       "      <th id=\"T_32966_level0_col315\" class=\"col_heading level0 col315\" >ATMHighRiskDebitAccumulator.acc.day.past10</th>\n",
       "      <th id=\"T_32966_level0_col316\" class=\"col_heading level0 col316\" >ATMHighRiskDebitAccumulator.acc.day.past15</th>\n",
       "      <th id=\"T_32966_level0_col317\" class=\"col_heading level0 col317\" >ATMHighRiskDebitAccumulator.acc.day.past29</th>\n",
       "      <th id=\"T_32966_level0_col318\" class=\"col_heading level0 col318\" >OnlinePOSCount.cnt.day.present</th>\n",
       "      <th id=\"T_32966_level0_col319\" class=\"col_heading level0 col319\" >OnlinePOSCount.cnt.day.past1</th>\n",
       "      <th id=\"T_32966_level0_col320\" class=\"col_heading level0 col320\" >OnlinePOSCount.cnt.day.past3</th>\n",
       "      <th id=\"T_32966_level0_col321\" class=\"col_heading level0 col321\" >OnlinePOSCount.cnt.day.past9</th>\n",
       "      <th id=\"T_32966_level0_col322\" class=\"col_heading level0 col322\" >EMVTransactionsAcc.acc.day.total</th>\n",
       "      <th id=\"T_32966_level0_col323\" class=\"col_heading level0 col323\" >EMVTransactionsAcc.acc.day.present</th>\n",
       "      <th id=\"T_32966_level0_col324\" class=\"col_heading level0 col324\" >EMVTransactionsAcc.acc.day.past1</th>\n",
       "      <th id=\"T_32966_level0_col325\" class=\"col_heading level0 col325\" >EMVTransactionsAcc.acc.day.past3</th>\n",
       "      <th id=\"T_32966_level0_col326\" class=\"col_heading level0 col326\" >EMVTransactionsAcc.acc.day.past10</th>\n",
       "      <th id=\"T_32966_level0_col327\" class=\"col_heading level0 col327\" >EMVTransactionsAcc.acc.day.past15</th>\n",
       "      <th id=\"T_32966_level0_col328\" class=\"col_heading level0 col328\" >EMVTransactionsAcc.acc.day.past29</th>\n",
       "      <th id=\"T_32966_level0_col329\" class=\"col_heading level0 col329\" >NewMerchantCountryCount.cnt.hour1</th>\n",
       "      <th id=\"T_32966_level0_col330\" class=\"col_heading level0 col330\" >NewMerchantCountryCount.cnt.hour3</th>\n",
       "      <th id=\"T_32966_level0_col331\" class=\"col_heading level0 col331\" >NewMerchantCountryCount.cnt.hour4</th>\n",
       "      <th id=\"T_32966_level0_col332\" class=\"col_heading level0 col332\" >NewMerchantCountryCount.cnt.hour10</th>\n",
       "      <th id=\"T_32966_level0_col333\" class=\"col_heading level0 col333\" >NewMerchantCountryCount.cnt.hour15</th>\n",
       "      <th id=\"T_32966_level0_col334\" class=\"col_heading level0 col334\" >NewMerchantCountryCount.cnt.hour24</th>\n",
       "      <th id=\"T_32966_level0_col335\" class=\"col_heading level0 col335\" >ATMDepositAccumulator.acc.day.total</th>\n",
       "      <th id=\"T_32966_level0_col336\" class=\"col_heading level0 col336\" >ATMDepositAccumulator.acc.day.present</th>\n",
       "      <th id=\"T_32966_level0_col337\" class=\"col_heading level0 col337\" >ATMDepositAccumulator.acc.day.past1</th>\n",
       "      <th id=\"T_32966_level0_col338\" class=\"col_heading level0 col338\" >ATMDepositAccumulator.acc.day.past3</th>\n",
       "      <th id=\"T_32966_level0_col339\" class=\"col_heading level0 col339\" >ATMDepositAccumulator.acc.day.past10</th>\n",
       "      <th id=\"T_32966_level0_col340\" class=\"col_heading level0 col340\" >ATMDepositAccumulator.acc.day.past15</th>\n",
       "      <th id=\"T_32966_level0_col341\" class=\"col_heading level0 col341\" >ATMDepositAccumulator.acc.day.past29</th>\n",
       "      <th id=\"T_32966_level0_col342\" class=\"col_heading level0 col342\" >CustomerPresentAuthAmount.acc.day.total</th>\n",
       "      <th id=\"T_32966_level0_col343\" class=\"col_heading level0 col343\" >CustomerPresentAuthAmount.acc.day.present</th>\n",
       "      <th id=\"T_32966_level0_col344\" class=\"col_heading level0 col344\" >CustomerPresentAuthAmount.acc.day.past1</th>\n",
       "      <th id=\"T_32966_level0_col345\" class=\"col_heading level0 col345\" >CustomerPresentAuthAmount.acc.day.past3</th>\n",
       "      <th id=\"T_32966_level0_col346\" class=\"col_heading level0 col346\" >CustomerPresentAuthAmount.acc.day.past10</th>\n",
       "      <th id=\"T_32966_level0_col347\" class=\"col_heading level0 col347\" >CustomerPresentAuthAmount.acc.day.past15</th>\n",
       "      <th id=\"T_32966_level0_col348\" class=\"col_heading level0 col348\" >CustomerPresentAuthAmount.acc.day.past29</th>\n",
       "      <th id=\"T_32966_level0_col349\" class=\"col_heading level0 col349\" >AlternatingCountrySwapCounter.cnt.day.total</th>\n",
       "      <th id=\"T_32966_level0_col350\" class=\"col_heading level0 col350\" >AlternatingCountrySwapCounter.cnt.day.present</th>\n",
       "      <th id=\"T_32966_level0_col351\" class=\"col_heading level0 col351\" >AlternatingCountrySwapCounter.cnt.day.past1</th>\n",
       "      <th id=\"T_32966_level0_col352\" class=\"col_heading level0 col352\" >AlternatingCountrySwapCounter.cnt.day.past3</th>\n",
       "      <th id=\"T_32966_level0_col353\" class=\"col_heading level0 col353\" >AlternatingCountrySwapCounter.cnt.day.past6</th>\n",
       "      <th id=\"T_32966_level0_col354\" class=\"col_heading level0 col354\" >SmallOnlineAuthorizationCount.cnt.hour1</th>\n",
       "      <th id=\"T_32966_level0_col355\" class=\"col_heading level0 col355\" >SmallOnlineAuthorizationCount.cnt.hour3</th>\n",
       "      <th id=\"T_32966_level0_col356\" class=\"col_heading level0 col356\" >SmallOnlineAuthorizationCount.cnt.hour4</th>\n",
       "      <th id=\"T_32966_level0_col357\" class=\"col_heading level0 col357\" >SmallOnlineAuthorizationCount.cnt.hour10</th>\n",
       "      <th id=\"T_32966_level0_col358\" class=\"col_heading level0 col358\" >SmallOnlineAuthorizationCount.cnt.hour15</th>\n",
       "      <th id=\"T_32966_level0_col359\" class=\"col_heading level0 col359\" >SmallOnlineAuthorizationCount.cnt.hour24</th>\n",
       "      <th id=\"T_32966_level0_col360\" class=\"col_heading level0 col360\" >HighRiskPOSSum.acc.hour.total</th>\n",
       "      <th id=\"T_32966_level0_col361\" class=\"col_heading level0 col361\" >HighRiskPOSSum.acc.hour.present</th>\n",
       "      <th id=\"T_32966_level0_col362\" class=\"col_heading level0 col362\" >HighRiskPOSSum.acc.hour.past1</th>\n",
       "      <th id=\"T_32966_level0_col363\" class=\"col_heading level0 col363\" >HighRiskPOSSum.acc.hour.past3</th>\n",
       "      <th id=\"T_32966_level0_col364\" class=\"col_heading level0 col364\" >HighRiskPOSSum.acc.hour.past4</th>\n",
       "      <th id=\"T_32966_level0_col365\" class=\"col_heading level0 col365\" >HighRiskPOSSum.acc.hour.past10</th>\n",
       "      <th id=\"T_32966_level0_col366\" class=\"col_heading level0 col366\" >HighRiskPOSSum.acc.hour.past15</th>\n",
       "      <th id=\"T_32966_level0_col367\" class=\"col_heading level0 col367\" >HighRiskPOSSum.acc.hour.past24</th>\n",
       "      <th id=\"T_32966_level0_col368\" class=\"col_heading level0 col368\" >HighRiskPOSSum.acc.hour.past29</th>\n",
       "    </tr>\n",
       "  </thead>\n",
       "  <tbody>\n",
       "    <tr>\n",
       "      <th id=\"T_32966_level0_row0\" class=\"row_heading level0 row0\" >22555</th>\n",
       "      <td id=\"T_32966_row0_col0\" class=\"data row0 col0\" >COID-579548</td>\n",
       "      <td id=\"T_32966_row0_col1\" class=\"data row0 col1\" >20140300000000.000000</td>\n",
       "      <td id=\"T_32966_row0_col2\" class=\"data row0 col2\" >20140300000000.000000</td>\n",
       "      <td id=\"T_32966_row0_col3\" class=\"data row0 col3\" >OnL</td>\n",
       "      <td id=\"T_32966_row0_col4\" class=\"data row0 col4\" >External</td>\n",
       "      <td id=\"T_32966_row0_col5\" class=\"data row0 col5\" >none</td>\n",
       "      <td id=\"T_32966_row0_col6\" class=\"data row0 col6\" >ACCT-39517</td>\n",
       "      <td id=\"T_32966_row0_col7\" class=\"data row0 col7\" >CARD-6384</td>\n",
       "      <td id=\"T_32966_row0_col8\" class=\"data row0 col8\" >CARD-6384</td>\n",
       "      <td id=\"T_32966_row0_col9\" class=\"data row0 col9\" >DVID-49456</td>\n",
       "      <td id=\"T_32966_row0_col10\" class=\"data row0 col10\" >MRCH-202951</td>\n",
       "      <td id=\"T_32966_row0_col11\" class=\"data row0 col11\" >MERCHANT NAME: ANON(202951)</td>\n",
       "      <td id=\"T_32966_row0_col12\" class=\"data row0 col12\" >4814</td>\n",
       "      <td id=\"T_32966_row0_col13\" class=\"data row0 col13\" >ANON ADDRESS</td>\n",
       "      <td id=\"T_32966_row0_col14\" class=\"data row0 col14\" >who cares?</td>\n",
       "      <td id=\"T_32966_row0_col15\" class=\"data row0 col15\" >who cares?</td>\n",
       "      <td id=\"T_32966_row0_col16\" class=\"data row0 col16\" >EZETOP.COM</td>\n",
       "      <td id=\"T_32966_row0_col17\" class=\"data row0 col17\" >none</td>\n",
       "      <td id=\"T_32966_row0_col18\" class=\"data row0 col18\" >MISSING</td>\n",
       "      <td id=\"T_32966_row0_col19\" class=\"data row0 col19\" >IE</td>\n",
       "      <td id=\"T_32966_row0_col20\" class=\"data row0 col20\" >none</td>\n",
       "      <td id=\"T_32966_row0_col21\" class=\"data row0 col21\" >ACQR-14</td>\n",
       "      <td id=\"T_32966_row0_col22\" class=\"data row0 col22\" >none</td>\n",
       "      <td id=\"T_32966_row0_col23\" class=\"data row0 col23\" >AUTH-37330</td>\n",
       "      <td id=\"T_32966_row0_col24\" class=\"data row0 col24\" >20140300000000.000000</td>\n",
       "      <td id=\"T_32966_row0_col25\" class=\"data row0 col25\" >5</td>\n",
       "      <td id=\"T_32966_row0_col26\" class=\"data row0 col26\" >0</td>\n",
       "      <td id=\"T_32966_row0_col27\" class=\"data row0 col27\" >0</td>\n",
       "      <td id=\"T_32966_row0_col28\" class=\"data row0 col28\" >28</td>\n",
       "      <td id=\"T_32966_row0_col29\" class=\"data row0 col29\" >0</td>\n",
       "      <td id=\"T_32966_row0_col30\" class=\"data row0 col30\" >28</td>\n",
       "      <td id=\"T_32966_row0_col31\" class=\"data row0 col31\" >28</td>\n",
       "      <td id=\"T_32966_row0_col32\" class=\"data row0 col32\" >none</td>\n",
       "      <td id=\"T_32966_row0_col33\" class=\"data row0 col33\" >C</td>\n",
       "      <td id=\"T_32966_row0_col34\" class=\"data row0 col34\" >18</td>\n",
       "      <td id=\"T_32966_row0_col35\" class=\"data row0 col35\" >0</td>\n",
       "      <td id=\"T_32966_row0_col36\" class=\"data row0 col36\" >none</td>\n",
       "      <td id=\"T_32966_row0_col37\" class=\"data row0 col37\" >0</td>\n",
       "      <td id=\"T_32966_row0_col38\" class=\"data row0 col38\" >0</td>\n",
       "      <td id=\"T_32966_row0_col39\" class=\"data row0 col39\" >0</td>\n",
       "      <td id=\"T_32966_row0_col40\" class=\"data row0 col40\" >E-Commerce</td>\n",
       "      <td id=\"T_32966_row0_col41\" class=\"data row0 col41\" >0</td>\n",
       "      <td id=\"T_32966_row0_col42\" class=\"data row0 col42\" >TOP</td>\n",
       "      <td id=\"T_32966_row0_col43\" class=\"data row0 col43\" >N</td>\n",
       "      <td id=\"T_32966_row0_col44\" class=\"data row0 col44\" >N</td>\n",
       "      <td id=\"T_32966_row0_col45\" class=\"data row0 col45\" >none</td>\n",
       "      <td id=\"T_32966_row0_col46\" class=\"data row0 col46\" >none</td>\n",
       "      <td id=\"T_32966_row0_col47\" class=\"data row0 col47\" >none</td>\n",
       "      <td id=\"T_32966_row0_col48\" class=\"data row0 col48\" >none</td>\n",
       "      <td id=\"T_32966_row0_col49\" class=\"data row0 col49\" >none</td>\n",
       "      <td id=\"T_32966_row0_col50\" class=\"data row0 col50\" >none</td>\n",
       "      <td id=\"T_32966_row0_col51\" class=\"data row0 col51\" >none</td>\n",
       "      <td id=\"T_32966_row0_col52\" class=\"data row0 col52\" >N</td>\n",
       "      <td id=\"T_32966_row0_col53\" class=\"data row0 col53\" >none</td>\n",
       "      <td id=\"T_32966_row0_col54\" class=\"data row0 col54\" >none</td>\n",
       "      <td id=\"T_32966_row0_col55\" class=\"data row0 col55\" >none</td>\n",
       "      <td id=\"T_32966_row0_col56\" class=\"data row0 col56\" >EZETOP.COM</td>\n",
       "      <td id=\"T_32966_row0_col57\" class=\"data row0 col57\" >IR</td>\n",
       "      <td id=\"T_32966_row0_col58\" class=\"data row0 col58\" >MISSING</td>\n",
       "      <td id=\"T_32966_row0_col59\" class=\"data row0 col59\" >IE</td>\n",
       "      <td id=\"T_32966_row0_col60\" class=\"data row0 col60\" >Y</td>\n",
       "      <td id=\"T_32966_row0_col61\" class=\"data row0 col61\" >1</td>\n",
       "      <td id=\"T_32966_row0_col62\" class=\"data row0 col62\" >C</td>\n",
       "      <td id=\"T_32966_row0_col63\" class=\"data row0 col63\" >MISSING</td>\n",
       "      <td id=\"T_32966_row0_col64\" class=\"data row0 col64\" >MISSING</td>\n",
       "      <td id=\"T_32966_row0_col65\" class=\"data row0 col65\" >0</td>\n",
       "      <td id=\"T_32966_row0_col66\" class=\"data row0 col66\" >0</td>\n",
       "      <td id=\"T_32966_row0_col67\" class=\"data row0 col67\" >-1</td>\n",
       "      <td id=\"T_32966_row0_col68\" class=\"data row0 col68\" >-1</td>\n",
       "      <td id=\"T_32966_row0_col69\" class=\"data row0 col69\" >0</td>\n",
       "      <td id=\"T_32966_row0_col70\" class=\"data row0 col70\" >0</td>\n",
       "      <td id=\"T_32966_row0_col71\" class=\"data row0 col71\" >0</td>\n",
       "      <td id=\"T_32966_row0_col72\" class=\"data row0 col72\" >0</td>\n",
       "      <td id=\"T_32966_row0_col73\" class=\"data row0 col73\" >-317046</td>\n",
       "      <td id=\"T_32966_row0_col74\" class=\"data row0 col74\" >0</td>\n",
       "      <td id=\"T_32966_row0_col75\" class=\"data row0 col75\" >1</td>\n",
       "      <td id=\"T_32966_row0_col76\" class=\"data row0 col76\" >1</td>\n",
       "      <td id=\"T_32966_row0_col77\" class=\"data row0 col77\" >1</td>\n",
       "      <td id=\"T_32966_row0_col78\" class=\"data row0 col78\" >1</td>\n",
       "      <td id=\"T_32966_row0_col79\" class=\"data row0 col79\" >1</td>\n",
       "      <td id=\"T_32966_row0_col80\" class=\"data row0 col80\" >1</td>\n",
       "      <td id=\"T_32966_row0_col81\" class=\"data row0 col81\" >350</td>\n",
       "      <td id=\"T_32966_row0_col82\" class=\"data row0 col82\" >0</td>\n",
       "      <td id=\"T_32966_row0_col83\" class=\"data row0 col83\" >149</td>\n",
       "      <td id=\"T_32966_row0_col84\" class=\"data row0 col84\" >0</td>\n",
       "      <td id=\"T_32966_row0_col85\" class=\"data row0 col85\" >0</td>\n",
       "      <td id=\"T_32966_row0_col86\" class=\"data row0 col86\" >0</td>\n",
       "      <td id=\"T_32966_row0_col87\" class=\"data row0 col87\" >0</td>\n",
       "      <td id=\"T_32966_row0_col88\" class=\"data row0 col88\" >0</td>\n",
       "      <td id=\"T_32966_row0_col89\" class=\"data row0 col89\" >0</td>\n",
       "      <td id=\"T_32966_row0_col90\" class=\"data row0 col90\" >0</td>\n",
       "      <td id=\"T_32966_row0_col91\" class=\"data row0 col91\" >0</td>\n",
       "      <td id=\"T_32966_row0_col92\" class=\"data row0 col92\" >0</td>\n",
       "      <td id=\"T_32966_row0_col93\" class=\"data row0 col93\" >0</td>\n",
       "      <td id=\"T_32966_row0_col94\" class=\"data row0 col94\" >0</td>\n",
       "      <td id=\"T_32966_row0_col95\" class=\"data row0 col95\" >0</td>\n",
       "      <td id=\"T_32966_row0_col96\" class=\"data row0 col96\" >231</td>\n",
       "      <td id=\"T_32966_row0_col97\" class=\"data row0 col97\" >231</td>\n",
       "      <td id=\"T_32966_row0_col98\" class=\"data row0 col98\" >0</td>\n",
       "      <td id=\"T_32966_row0_col99\" class=\"data row0 col99\" >0</td>\n",
       "      <td id=\"T_32966_row0_col100\" class=\"data row0 col100\" >0</td>\n",
       "      <td id=\"T_32966_row0_col101\" class=\"data row0 col101\" >0</td>\n",
       "      <td id=\"T_32966_row0_col102\" class=\"data row0 col102\" >0</td>\n",
       "      <td id=\"T_32966_row0_col103\" class=\"data row0 col103\" >0</td>\n",
       "      <td id=\"T_32966_row0_col104\" class=\"data row0 col104\" >0</td>\n",
       "      <td id=\"T_32966_row0_col105\" class=\"data row0 col105\" >0</td>\n",
       "      <td id=\"T_32966_row0_col106\" class=\"data row0 col106\" >0</td>\n",
       "      <td id=\"T_32966_row0_col107\" class=\"data row0 col107\" >2</td>\n",
       "      <td id=\"T_32966_row0_col108\" class=\"data row0 col108\" >0</td>\n",
       "      <td id=\"T_32966_row0_col109\" class=\"data row0 col109\" >0</td>\n",
       "      <td id=\"T_32966_row0_col110\" class=\"data row0 col110\" >0</td>\n",
       "      <td id=\"T_32966_row0_col111\" class=\"data row0 col111\" >0</td>\n",
       "      <td id=\"T_32966_row0_col112\" class=\"data row0 col112\" >0</td>\n",
       "      <td id=\"T_32966_row0_col113\" class=\"data row0 col113\" >0</td>\n",
       "      <td id=\"T_32966_row0_col114\" class=\"data row0 col114\" >0</td>\n",
       "      <td id=\"T_32966_row0_col115\" class=\"data row0 col115\" >0</td>\n",
       "      <td id=\"T_32966_row0_col116\" class=\"data row0 col116\" >0</td>\n",
       "      <td id=\"T_32966_row0_col117\" class=\"data row0 col117\" >0</td>\n",
       "      <td id=\"T_32966_row0_col118\" class=\"data row0 col118\" >0</td>\n",
       "      <td id=\"T_32966_row0_col119\" class=\"data row0 col119\" >350</td>\n",
       "      <td id=\"T_32966_row0_col120\" class=\"data row0 col120\" >0</td>\n",
       "      <td id=\"T_32966_row0_col121\" class=\"data row0 col121\" >149</td>\n",
       "      <td id=\"T_32966_row0_col122\" class=\"data row0 col122\" >0</td>\n",
       "      <td id=\"T_32966_row0_col123\" class=\"data row0 col123\" >0</td>\n",
       "      <td id=\"T_32966_row0_col124\" class=\"data row0 col124\" >0</td>\n",
       "      <td id=\"T_32966_row0_col125\" class=\"data row0 col125\" >0</td>\n",
       "      <td id=\"T_32966_row0_col126\" class=\"data row0 col126\" >28</td>\n",
       "      <td id=\"T_32966_row0_col127\" class=\"data row0 col127\" >28</td>\n",
       "      <td id=\"T_32966_row0_col128\" class=\"data row0 col128\" >28</td>\n",
       "      <td id=\"T_32966_row0_col129\" class=\"data row0 col129\" >28</td>\n",
       "      <td id=\"T_32966_row0_col130\" class=\"data row0 col130\" >58</td>\n",
       "      <td id=\"T_32966_row0_col131\" class=\"data row0 col131\" >177</td>\n",
       "      <td id=\"T_32966_row0_col132\" class=\"data row0 col132\" >0</td>\n",
       "      <td id=\"T_32966_row0_col133\" class=\"data row0 col133\" >0</td>\n",
       "      <td id=\"T_32966_row0_col134\" class=\"data row0 col134\" >0</td>\n",
       "      <td id=\"T_32966_row0_col135\" class=\"data row0 col135\" >0</td>\n",
       "      <td id=\"T_32966_row0_col136\" class=\"data row0 col136\" >0</td>\n",
       "      <td id=\"T_32966_row0_col137\" class=\"data row0 col137\" >0</td>\n",
       "      <td id=\"T_32966_row0_col138\" class=\"data row0 col138\" >0</td>\n",
       "      <td id=\"T_32966_row0_col139\" class=\"data row0 col139\" >3</td>\n",
       "      <td id=\"T_32966_row0_col140\" class=\"data row0 col140\" >1</td>\n",
       "      <td id=\"T_32966_row0_col141\" class=\"data row0 col141\" >1</td>\n",
       "      <td id=\"T_32966_row0_col142\" class=\"data row0 col142\" >0</td>\n",
       "      <td id=\"T_32966_row0_col143\" class=\"data row0 col143\" >0</td>\n",
       "      <td id=\"T_32966_row0_col144\" class=\"data row0 col144\" >1</td>\n",
       "      <td id=\"T_32966_row0_col145\" class=\"data row0 col145\" >0</td>\n",
       "      <td id=\"T_32966_row0_col146\" class=\"data row0 col146\" >427</td>\n",
       "      <td id=\"T_32966_row0_col147\" class=\"data row0 col147\" >28</td>\n",
       "      <td id=\"T_32966_row0_col148\" class=\"data row0 col148\" >119</td>\n",
       "      <td id=\"T_32966_row0_col149\" class=\"data row0 col149\" >0</td>\n",
       "      <td id=\"T_32966_row0_col150\" class=\"data row0 col150\" >0</td>\n",
       "      <td id=\"T_32966_row0_col151\" class=\"data row0 col151\" >280</td>\n",
       "      <td id=\"T_32966_row0_col152\" class=\"data row0 col152\" >0</td>\n",
       "      <td id=\"T_32966_row0_col153\" class=\"data row0 col153\" >0</td>\n",
       "      <td id=\"T_32966_row0_col154\" class=\"data row0 col154\" >0</td>\n",
       "      <td id=\"T_32966_row0_col155\" class=\"data row0 col155\" >0</td>\n",
       "      <td id=\"T_32966_row0_col156\" class=\"data row0 col156\" >0</td>\n",
       "      <td id=\"T_32966_row0_col157\" class=\"data row0 col157\" >0</td>\n",
       "      <td id=\"T_32966_row0_col158\" class=\"data row0 col158\" >0</td>\n",
       "      <td id=\"T_32966_row0_col159\" class=\"data row0 col159\" >0</td>\n",
       "      <td id=\"T_32966_row0_col160\" class=\"data row0 col160\" >5</td>\n",
       "      <td id=\"T_32966_row0_col161\" class=\"data row0 col161\" >0</td>\n",
       "      <td id=\"T_32966_row0_col162\" class=\"data row0 col162\" >2</td>\n",
       "      <td id=\"T_32966_row0_col163\" class=\"data row0 col163\" >0</td>\n",
       "      <td id=\"T_32966_row0_col164\" class=\"data row0 col164\" >0</td>\n",
       "      <td id=\"T_32966_row0_col165\" class=\"data row0 col165\" >1</td>\n",
       "      <td id=\"T_32966_row0_col166\" class=\"data row0 col166\" >0</td>\n",
       "      <td id=\"T_32966_row0_col167\" class=\"data row0 col167\" >427</td>\n",
       "      <td id=\"T_32966_row0_col168\" class=\"data row0 col168\" >28</td>\n",
       "      <td id=\"T_32966_row0_col169\" class=\"data row0 col169\" >119</td>\n",
       "      <td id=\"T_32966_row0_col170\" class=\"data row0 col170\" >0</td>\n",
       "      <td id=\"T_32966_row0_col171\" class=\"data row0 col171\" >0</td>\n",
       "      <td id=\"T_32966_row0_col172\" class=\"data row0 col172\" >280</td>\n",
       "      <td id=\"T_32966_row0_col173\" class=\"data row0 col173\" >0</td>\n",
       "      <td id=\"T_32966_row0_col174\" class=\"data row0 col174\" >0</td>\n",
       "      <td id=\"T_32966_row0_col175\" class=\"data row0 col175\" >0</td>\n",
       "      <td id=\"T_32966_row0_col176\" class=\"data row0 col176\" >0</td>\n",
       "      <td id=\"T_32966_row0_col177\" class=\"data row0 col177\" >0</td>\n",
       "      <td id=\"T_32966_row0_col178\" class=\"data row0 col178\" >0</td>\n",
       "      <td id=\"T_32966_row0_col179\" class=\"data row0 col179\" >0</td>\n",
       "      <td id=\"T_32966_row0_col180\" class=\"data row0 col180\" >0</td>\n",
       "      <td id=\"T_32966_row0_col181\" class=\"data row0 col181\" >4</td>\n",
       "      <td id=\"T_32966_row0_col182\" class=\"data row0 col182\" >0</td>\n",
       "      <td id=\"T_32966_row0_col183\" class=\"data row0 col183\" >2</td>\n",
       "      <td id=\"T_32966_row0_col184\" class=\"data row0 col184\" >0</td>\n",
       "      <td id=\"T_32966_row0_col185\" class=\"data row0 col185\" >0</td>\n",
       "      <td id=\"T_32966_row0_col186\" class=\"data row0 col186\" >0</td>\n",
       "      <td id=\"T_32966_row0_col187\" class=\"data row0 col187\" >0</td>\n",
       "      <td id=\"T_32966_row0_col188\" class=\"data row0 col188\" >0</td>\n",
       "      <td id=\"T_32966_row0_col189\" class=\"data row0 col189\" >0</td>\n",
       "      <td id=\"T_32966_row0_col190\" class=\"data row0 col190\" >0</td>\n",
       "      <td id=\"T_32966_row0_col191\" class=\"data row0 col191\" >0</td>\n",
       "      <td id=\"T_32966_row0_col192\" class=\"data row0 col192\" >0</td>\n",
       "      <td id=\"T_32966_row0_col193\" class=\"data row0 col193\" >0</td>\n",
       "      <td id=\"T_32966_row0_col194\" class=\"data row0 col194\" >0</td>\n",
       "      <td id=\"T_32966_row0_col195\" class=\"data row0 col195\" >1</td>\n",
       "      <td id=\"T_32966_row0_col196\" class=\"data row0 col196\" >1</td>\n",
       "      <td id=\"T_32966_row0_col197\" class=\"data row0 col197\" >0</td>\n",
       "      <td id=\"T_32966_row0_col198\" class=\"data row0 col198\" >0</td>\n",
       "      <td id=\"T_32966_row0_col199\" class=\"data row0 col199\" >0</td>\n",
       "      <td id=\"T_32966_row0_col200\" class=\"data row0 col200\" >2</td>\n",
       "      <td id=\"T_32966_row0_col201\" class=\"data row0 col201\" >1</td>\n",
       "      <td id=\"T_32966_row0_col202\" class=\"data row0 col202\" >0</td>\n",
       "      <td id=\"T_32966_row0_col203\" class=\"data row0 col203\" >0</td>\n",
       "      <td id=\"T_32966_row0_col204\" class=\"data row0 col204\" >0</td>\n",
       "      <td id=\"T_32966_row0_col205\" class=\"data row0 col205\" >1</td>\n",
       "      <td id=\"T_32966_row0_col206\" class=\"data row0 col206\" >0</td>\n",
       "      <td id=\"T_32966_row0_col207\" class=\"data row0 col207\" >0</td>\n",
       "      <td id=\"T_32966_row0_col208\" class=\"data row0 col208\" >0</td>\n",
       "      <td id=\"T_32966_row0_col209\" class=\"data row0 col209\" >0</td>\n",
       "      <td id=\"T_32966_row0_col210\" class=\"data row0 col210\" >0</td>\n",
       "      <td id=\"T_32966_row0_col211\" class=\"data row0 col211\" >0</td>\n",
       "      <td id=\"T_32966_row0_col212\" class=\"data row0 col212\" >0</td>\n",
       "      <td id=\"T_32966_row0_col213\" class=\"data row0 col213\" >0</td>\n",
       "      <td id=\"T_32966_row0_col214\" class=\"data row0 col214\" >0</td>\n",
       "      <td id=\"T_32966_row0_col215\" class=\"data row0 col215\" >0</td>\n",
       "      <td id=\"T_32966_row0_col216\" class=\"data row0 col216\" >0</td>\n",
       "      <td id=\"T_32966_row0_col217\" class=\"data row0 col217\" >0</td>\n",
       "      <td id=\"T_32966_row0_col218\" class=\"data row0 col218\" >1</td>\n",
       "      <td id=\"T_32966_row0_col219\" class=\"data row0 col219\" >2</td>\n",
       "      <td id=\"T_32966_row0_col220\" class=\"data row0 col220\" >4</td>\n",
       "      <td id=\"T_32966_row0_col221\" class=\"data row0 col221\" >0</td>\n",
       "      <td id=\"T_32966_row0_col222\" class=\"data row0 col222\" >2</td>\n",
       "      <td id=\"T_32966_row0_col223\" class=\"data row0 col223\" >0</td>\n",
       "      <td id=\"T_32966_row0_col224\" class=\"data row0 col224\" >0</td>\n",
       "      <td id=\"T_32966_row0_col225\" class=\"data row0 col225\" >0</td>\n",
       "      <td id=\"T_32966_row0_col226\" class=\"data row0 col226\" >0</td>\n",
       "      <td id=\"T_32966_row0_col227\" class=\"data row0 col227\" >3</td>\n",
       "      <td id=\"T_32966_row0_col228\" class=\"data row0 col228\" >0</td>\n",
       "      <td id=\"T_32966_row0_col229\" class=\"data row0 col229\" >1</td>\n",
       "      <td id=\"T_32966_row0_col230\" class=\"data row0 col230\" >0</td>\n",
       "      <td id=\"T_32966_row0_col231\" class=\"data row0 col231\" >0</td>\n",
       "      <td id=\"T_32966_row0_col232\" class=\"data row0 col232\" >0</td>\n",
       "      <td id=\"T_32966_row0_col233\" class=\"data row0 col233\" >0</td>\n",
       "      <td id=\"T_32966_row0_col234\" class=\"data row0 col234\" >3</td>\n",
       "      <td id=\"T_32966_row0_col235\" class=\"data row0 col235\" >1</td>\n",
       "      <td id=\"T_32966_row0_col236\" class=\"data row0 col236\" >1</td>\n",
       "      <td id=\"T_32966_row0_col237\" class=\"data row0 col237\" >0</td>\n",
       "      <td id=\"T_32966_row0_col238\" class=\"data row0 col238\" >0</td>\n",
       "      <td id=\"T_32966_row0_col239\" class=\"data row0 col239\" >1</td>\n",
       "      <td id=\"T_32966_row0_col240\" class=\"data row0 col240\" >0</td>\n",
       "      <td id=\"T_32966_row0_col241\" class=\"data row0 col241\" >0</td>\n",
       "      <td id=\"T_32966_row0_col242\" class=\"data row0 col242\" >0</td>\n",
       "      <td id=\"T_32966_row0_col243\" class=\"data row0 col243\" >0</td>\n",
       "      <td id=\"T_32966_row0_col244\" class=\"data row0 col244\" >0</td>\n",
       "      <td id=\"T_32966_row0_col245\" class=\"data row0 col245\" >0</td>\n",
       "      <td id=\"T_32966_row0_col246\" class=\"data row0 col246\" >0</td>\n",
       "      <td id=\"T_32966_row0_col247\" class=\"data row0 col247\" >0</td>\n",
       "      <td id=\"T_32966_row0_col248\" class=\"data row0 col248\" >0</td>\n",
       "      <td id=\"T_32966_row0_col249\" class=\"data row0 col249\" >0</td>\n",
       "      <td id=\"T_32966_row0_col250\" class=\"data row0 col250\" >0</td>\n",
       "      <td id=\"T_32966_row0_col251\" class=\"data row0 col251\" >0</td>\n",
       "      <td id=\"T_32966_row0_col252\" class=\"data row0 col252\" >0</td>\n",
       "      <td id=\"T_32966_row0_col253\" class=\"data row0 col253\" >0</td>\n",
       "      <td id=\"T_32966_row0_col254\" class=\"data row0 col254\" >0</td>\n",
       "      <td id=\"T_32966_row0_col255\" class=\"data row0 col255\" >0</td>\n",
       "      <td id=\"T_32966_row0_col256\" class=\"data row0 col256\" >0</td>\n",
       "      <td id=\"T_32966_row0_col257\" class=\"data row0 col257\" >0</td>\n",
       "      <td id=\"T_32966_row0_col258\" class=\"data row0 col258\" >0</td>\n",
       "      <td id=\"T_32966_row0_col259\" class=\"data row0 col259\" >0</td>\n",
       "      <td id=\"T_32966_row0_col260\" class=\"data row0 col260\" >0</td>\n",
       "      <td id=\"T_32966_row0_col261\" class=\"data row0 col261\" >0</td>\n",
       "      <td id=\"T_32966_row0_col262\" class=\"data row0 col262\" >1</td>\n",
       "      <td id=\"T_32966_row0_col263\" class=\"data row0 col263\" >1</td>\n",
       "      <td id=\"T_32966_row0_col264\" class=\"data row0 col264\" >1</td>\n",
       "      <td id=\"T_32966_row0_col265\" class=\"data row0 col265\" >1</td>\n",
       "      <td id=\"T_32966_row0_col266\" class=\"data row0 col266\" >2</td>\n",
       "      <td id=\"T_32966_row0_col267\" class=\"data row0 col267\" >3</td>\n",
       "      <td id=\"T_32966_row0_col268\" class=\"data row0 col268\" >0</td>\n",
       "      <td id=\"T_32966_row0_col269\" class=\"data row0 col269\" >0</td>\n",
       "      <td id=\"T_32966_row0_col270\" class=\"data row0 col270\" >0</td>\n",
       "      <td id=\"T_32966_row0_col271\" class=\"data row0 col271\" >0</td>\n",
       "      <td id=\"T_32966_row0_col272\" class=\"data row0 col272\" >0</td>\n",
       "      <td id=\"T_32966_row0_col273\" class=\"data row0 col273\" >0</td>\n",
       "      <td id=\"T_32966_row0_col274\" class=\"data row0 col274\" >0</td>\n",
       "      <td id=\"T_32966_row0_col275\" class=\"data row0 col275\" >3</td>\n",
       "      <td id=\"T_32966_row0_col276\" class=\"data row0 col276\" >0</td>\n",
       "      <td id=\"T_32966_row0_col277\" class=\"data row0 col277\" >1</td>\n",
       "      <td id=\"T_32966_row0_col278\" class=\"data row0 col278\" >0</td>\n",
       "      <td id=\"T_32966_row0_col279\" class=\"data row0 col279\" >0</td>\n",
       "      <td id=\"T_32966_row0_col280\" class=\"data row0 col280\" >0</td>\n",
       "      <td id=\"T_32966_row0_col281\" class=\"data row0 col281\" >0</td>\n",
       "      <td id=\"T_32966_row0_col282\" class=\"data row0 col282\" >0</td>\n",
       "      <td id=\"T_32966_row0_col283\" class=\"data row0 col283\" >0</td>\n",
       "      <td id=\"T_32966_row0_col284\" class=\"data row0 col284\" >0</td>\n",
       "      <td id=\"T_32966_row0_col285\" class=\"data row0 col285\" >0</td>\n",
       "      <td id=\"T_32966_row0_col286\" class=\"data row0 col286\" >0</td>\n",
       "      <td id=\"T_32966_row0_col287\" class=\"data row0 col287\" >0</td>\n",
       "      <td id=\"T_32966_row0_col288\" class=\"data row0 col288\" >0</td>\n",
       "      <td id=\"T_32966_row0_col289\" class=\"data row0 col289\" >0</td>\n",
       "      <td id=\"T_32966_row0_col290\" class=\"data row0 col290\" >0</td>\n",
       "      <td id=\"T_32966_row0_col291\" class=\"data row0 col291\" >0</td>\n",
       "      <td id=\"T_32966_row0_col292\" class=\"data row0 col292\" >0</td>\n",
       "      <td id=\"T_32966_row0_col293\" class=\"data row0 col293\" >0</td>\n",
       "      <td id=\"T_32966_row0_col294\" class=\"data row0 col294\" >0</td>\n",
       "      <td id=\"T_32966_row0_col295\" class=\"data row0 col295\" >0</td>\n",
       "      <td id=\"T_32966_row0_col296\" class=\"data row0 col296\" >0</td>\n",
       "      <td id=\"T_32966_row0_col297\" class=\"data row0 col297\" >0</td>\n",
       "      <td id=\"T_32966_row0_col298\" class=\"data row0 col298\" >0</td>\n",
       "      <td id=\"T_32966_row0_col299\" class=\"data row0 col299\" >28</td>\n",
       "      <td id=\"T_32966_row0_col300\" class=\"data row0 col300\" >28</td>\n",
       "      <td id=\"T_32966_row0_col301\" class=\"data row0 col301\" >0</td>\n",
       "      <td id=\"T_32966_row0_col302\" class=\"data row0 col302\" >0</td>\n",
       "      <td id=\"T_32966_row0_col303\" class=\"data row0 col303\" >0</td>\n",
       "      <td id=\"T_32966_row0_col304\" class=\"data row0 col304\" >0</td>\n",
       "      <td id=\"T_32966_row0_col305\" class=\"data row0 col305\" >0</td>\n",
       "      <td id=\"T_32966_row0_col306\" class=\"data row0 col306\" >0</td>\n",
       "      <td id=\"T_32966_row0_col307\" class=\"data row0 col307\" >0</td>\n",
       "      <td id=\"T_32966_row0_col308\" class=\"data row0 col308\" >0</td>\n",
       "      <td id=\"T_32966_row0_col309\" class=\"data row0 col309\" >0</td>\n",
       "      <td id=\"T_32966_row0_col310\" class=\"data row0 col310\" >0</td>\n",
       "      <td id=\"T_32966_row0_col311\" class=\"data row0 col311\" >0</td>\n",
       "      <td id=\"T_32966_row0_col312\" class=\"data row0 col312\" >0</td>\n",
       "      <td id=\"T_32966_row0_col313\" class=\"data row0 col313\" >0</td>\n",
       "      <td id=\"T_32966_row0_col314\" class=\"data row0 col314\" >0</td>\n",
       "      <td id=\"T_32966_row0_col315\" class=\"data row0 col315\" >0</td>\n",
       "      <td id=\"T_32966_row0_col316\" class=\"data row0 col316\" >0</td>\n",
       "      <td id=\"T_32966_row0_col317\" class=\"data row0 col317\" >0</td>\n",
       "      <td id=\"T_32966_row0_col318\" class=\"data row0 col318\" >-1</td>\n",
       "      <td id=\"T_32966_row0_col319\" class=\"data row0 col319\" >0.000000</td>\n",
       "      <td id=\"T_32966_row0_col320\" class=\"data row0 col320\" >0</td>\n",
       "      <td id=\"T_32966_row0_col321\" class=\"data row0 col321\" >0</td>\n",
       "      <td id=\"T_32966_row0_col322\" class=\"data row0 col322\" >231</td>\n",
       "      <td id=\"T_32966_row0_col323\" class=\"data row0 col323\" >0</td>\n",
       "      <td id=\"T_32966_row0_col324\" class=\"data row0 col324\" >30</td>\n",
       "      <td id=\"T_32966_row0_col325\" class=\"data row0 col325\" >0</td>\n",
       "      <td id=\"T_32966_row0_col326\" class=\"data row0 col326\" >0</td>\n",
       "      <td id=\"T_32966_row0_col327\" class=\"data row0 col327\" >0</td>\n",
       "      <td id=\"T_32966_row0_col328\" class=\"data row0 col328\" >0</td>\n",
       "      <td id=\"T_32966_row0_col329\" class=\"data row0 col329\" >1</td>\n",
       "      <td id=\"T_32966_row0_col330\" class=\"data row0 col330\" >1</td>\n",
       "      <td id=\"T_32966_row0_col331\" class=\"data row0 col331\" >1</td>\n",
       "      <td id=\"T_32966_row0_col332\" class=\"data row0 col332\" >1</td>\n",
       "      <td id=\"T_32966_row0_col333\" class=\"data row0 col333\" >1</td>\n",
       "      <td id=\"T_32966_row0_col334\" class=\"data row0 col334\" >1</td>\n",
       "      <td id=\"T_32966_row0_col335\" class=\"data row0 col335\" >0</td>\n",
       "      <td id=\"T_32966_row0_col336\" class=\"data row0 col336\" >0</td>\n",
       "      <td id=\"T_32966_row0_col337\" class=\"data row0 col337\" >0</td>\n",
       "      <td id=\"T_32966_row0_col338\" class=\"data row0 col338\" >0</td>\n",
       "      <td id=\"T_32966_row0_col339\" class=\"data row0 col339\" >0</td>\n",
       "      <td id=\"T_32966_row0_col340\" class=\"data row0 col340\" >0</td>\n",
       "      <td id=\"T_32966_row0_col341\" class=\"data row0 col341\" >0</td>\n",
       "      <td id=\"T_32966_row0_col342\" class=\"data row0 col342\" >231</td>\n",
       "      <td id=\"T_32966_row0_col343\" class=\"data row0 col343\" >0</td>\n",
       "      <td id=\"T_32966_row0_col344\" class=\"data row0 col344\" >30</td>\n",
       "      <td id=\"T_32966_row0_col345\" class=\"data row0 col345\" >0</td>\n",
       "      <td id=\"T_32966_row0_col346\" class=\"data row0 col346\" >0</td>\n",
       "      <td id=\"T_32966_row0_col347\" class=\"data row0 col347\" >0</td>\n",
       "      <td id=\"T_32966_row0_col348\" class=\"data row0 col348\" >0</td>\n",
       "      <td id=\"T_32966_row0_col349\" class=\"data row0 col349\" >0</td>\n",
       "      <td id=\"T_32966_row0_col350\" class=\"data row0 col350\" >0</td>\n",
       "      <td id=\"T_32966_row0_col351\" class=\"data row0 col351\" >0</td>\n",
       "      <td id=\"T_32966_row0_col352\" class=\"data row0 col352\" >0</td>\n",
       "      <td id=\"T_32966_row0_col353\" class=\"data row0 col353\" >0</td>\n",
       "      <td id=\"T_32966_row0_col354\" class=\"data row0 col354\" >0</td>\n",
       "      <td id=\"T_32966_row0_col355\" class=\"data row0 col355\" >0</td>\n",
       "      <td id=\"T_32966_row0_col356\" class=\"data row0 col356\" >0</td>\n",
       "      <td id=\"T_32966_row0_col357\" class=\"data row0 col357\" >0</td>\n",
       "      <td id=\"T_32966_row0_col358\" class=\"data row0 col358\" >0</td>\n",
       "      <td id=\"T_32966_row0_col359\" class=\"data row0 col359\" >0</td>\n",
       "      <td id=\"T_32966_row0_col360\" class=\"data row0 col360\" >0</td>\n",
       "      <td id=\"T_32966_row0_col361\" class=\"data row0 col361\" >0</td>\n",
       "      <td id=\"T_32966_row0_col362\" class=\"data row0 col362\" >0</td>\n",
       "      <td id=\"T_32966_row0_col363\" class=\"data row0 col363\" >0</td>\n",
       "      <td id=\"T_32966_row0_col364\" class=\"data row0 col364\" >0</td>\n",
       "      <td id=\"T_32966_row0_col365\" class=\"data row0 col365\" >0</td>\n",
       "      <td id=\"T_32966_row0_col366\" class=\"data row0 col366\" >0</td>\n",
       "      <td id=\"T_32966_row0_col367\" class=\"data row0 col367\" >0</td>\n",
       "      <td id=\"T_32966_row0_col368\" class=\"data row0 col368\" >0</td>\n",
       "    </tr>\n",
       "    <tr>\n",
       "      <th id=\"T_32966_level0_row1\" class=\"row_heading level0 row1\" >15012</th>\n",
       "      <td id=\"T_32966_row1_col0\" class=\"data row1 col0\" >COID-3584562</td>\n",
       "      <td id=\"T_32966_row1_col1\" class=\"data row1 col1\" >20140300000000.000000</td>\n",
       "      <td id=\"T_32966_row1_col2\" class=\"data row1 col2\" >20140300000000.000000</td>\n",
       "      <td id=\"T_32966_row1_col3\" class=\"data row1 col3\" >POS</td>\n",
       "      <td id=\"T_32966_row1_col4\" class=\"data row1 col4\" >External</td>\n",
       "      <td id=\"T_32966_row1_col5\" class=\"data row1 col5\" >none</td>\n",
       "      <td id=\"T_32966_row1_col6\" class=\"data row1 col6\" >ACCT-12840</td>\n",
       "      <td id=\"T_32966_row1_col7\" class=\"data row1 col7\" >CARD-19597</td>\n",
       "      <td id=\"T_32966_row1_col8\" class=\"data row1 col8\" >CARD-19597</td>\n",
       "      <td id=\"T_32966_row1_col9\" class=\"data row1 col9\" >DVID-103557</td>\n",
       "      <td id=\"T_32966_row1_col10\" class=\"data row1 col10\" >MRCH-90452</td>\n",
       "      <td id=\"T_32966_row1_col11\" class=\"data row1 col11\" >MERCHANT NAME: ANON(90452)</td>\n",
       "      <td id=\"T_32966_row1_col12\" class=\"data row1 col12\" >5812</td>\n",
       "      <td id=\"T_32966_row1_col13\" class=\"data row1 col13\" >ANON ADDRESS</td>\n",
       "      <td id=\"T_32966_row1_col14\" class=\"data row1 col14\" >who cares?</td>\n",
       "      <td id=\"T_32966_row1_col15\" class=\"data row1 col15\" >who cares?</td>\n",
       "      <td id=\"T_32966_row1_col16\" class=\"data row1 col16\" >PHILIPSBUR</td>\n",
       "      <td id=\"T_32966_row1_col17\" class=\"data row1 col17\" >none</td>\n",
       "      <td id=\"T_32966_row1_col18\" class=\"data row1 col18\" >MISSING</td>\n",
       "      <td id=\"T_32966_row1_col19\" class=\"data row1 col19\" >0</td>\n",
       "      <td id=\"T_32966_row1_col20\" class=\"data row1 col20\" >none</td>\n",
       "      <td id=\"T_32966_row1_col21\" class=\"data row1 col21\" >ACQR-921</td>\n",
       "      <td id=\"T_32966_row1_col22\" class=\"data row1 col22\" >none</td>\n",
       "      <td id=\"T_32966_row1_col23\" class=\"data row1 col23\" >AUTH-7853</td>\n",
       "      <td id=\"T_32966_row1_col24\" class=\"data row1 col24\" >20140300000000.000000</td>\n",
       "      <td id=\"T_32966_row1_col25\" class=\"data row1 col25\" >5</td>\n",
       "      <td id=\"T_32966_row1_col26\" class=\"data row1 col26\" >0</td>\n",
       "      <td id=\"T_32966_row1_col27\" class=\"data row1 col27\" >0</td>\n",
       "      <td id=\"T_32966_row1_col28\" class=\"data row1 col28\" >70</td>\n",
       "      <td id=\"T_32966_row1_col29\" class=\"data row1 col29\" >0</td>\n",
       "      <td id=\"T_32966_row1_col30\" class=\"data row1 col30\" >70</td>\n",
       "      <td id=\"T_32966_row1_col31\" class=\"data row1 col31\" >70</td>\n",
       "      <td id=\"T_32966_row1_col32\" class=\"data row1 col32\" >none</td>\n",
       "      <td id=\"T_32966_row1_col33\" class=\"data row1 col33\" >C</td>\n",
       "      <td id=\"T_32966_row1_col34\" class=\"data row1 col34\" >72</td>\n",
       "      <td id=\"T_32966_row1_col35\" class=\"data row1 col35\" >0</td>\n",
       "      <td id=\"T_32966_row1_col36\" class=\"data row1 col36\" >none</td>\n",
       "      <td id=\"T_32966_row1_col37\" class=\"data row1 col37\" >0</td>\n",
       "      <td id=\"T_32966_row1_col38\" class=\"data row1 col38\" >0</td>\n",
       "      <td id=\"T_32966_row1_col39\" class=\"data row1 col39\" >0</td>\n",
       "      <td id=\"T_32966_row1_col40\" class=\"data row1 col40\" >U</td>\n",
       "      <td id=\"T_32966_row1_col41\" class=\"data row1 col41\" >1</td>\n",
       "      <td id=\"T_32966_row1_col42\" class=\"data row1 col42\" >TOP</td>\n",
       "      <td id=\"T_32966_row1_col43\" class=\"data row1 col43\" >Y</td>\n",
       "      <td id=\"T_32966_row1_col44\" class=\"data row1 col44\" >Y</td>\n",
       "      <td id=\"T_32966_row1_col45\" class=\"data row1 col45\" >none</td>\n",
       "      <td id=\"T_32966_row1_col46\" class=\"data row1 col46\" >none</td>\n",
       "      <td id=\"T_32966_row1_col47\" class=\"data row1 col47\" >none</td>\n",
       "      <td id=\"T_32966_row1_col48\" class=\"data row1 col48\" >none</td>\n",
       "      <td id=\"T_32966_row1_col49\" class=\"data row1 col49\" >none</td>\n",
       "      <td id=\"T_32966_row1_col50\" class=\"data row1 col50\" >none</td>\n",
       "      <td id=\"T_32966_row1_col51\" class=\"data row1 col51\" >none</td>\n",
       "      <td id=\"T_32966_row1_col52\" class=\"data row1 col52\" >N</td>\n",
       "      <td id=\"T_32966_row1_col53\" class=\"data row1 col53\" >none</td>\n",
       "      <td id=\"T_32966_row1_col54\" class=\"data row1 col54\" >none</td>\n",
       "      <td id=\"T_32966_row1_col55\" class=\"data row1 col55\" >none</td>\n",
       "      <td id=\"T_32966_row1_col56\" class=\"data row1 col56\" >PHILIPSBUR</td>\n",
       "      <td id=\"T_32966_row1_col57\" class=\"data row1 col57\" >SX</td>\n",
       "      <td id=\"T_32966_row1_col58\" class=\"data row1 col58\" >MISSING</td>\n",
       "      <td id=\"T_32966_row1_col59\" class=\"data row1 col59\" >0</td>\n",
       "      <td id=\"T_32966_row1_col60\" class=\"data row1 col60\" >U</td>\n",
       "      <td id=\"T_32966_row1_col61\" class=\"data row1 col61\" >1</td>\n",
       "      <td id=\"T_32966_row1_col62\" class=\"data row1 col62\" >C</td>\n",
       "      <td id=\"T_32966_row1_col63\" class=\"data row1 col63\" >MISSING</td>\n",
       "      <td id=\"T_32966_row1_col64\" class=\"data row1 col64\" >MISSING</td>\n",
       "      <td id=\"T_32966_row1_col65\" class=\"data row1 col65\" >1</td>\n",
       "      <td id=\"T_32966_row1_col66\" class=\"data row1 col66\" >0</td>\n",
       "      <td id=\"T_32966_row1_col67\" class=\"data row1 col67\" >-1</td>\n",
       "      <td id=\"T_32966_row1_col68\" class=\"data row1 col68\" >-1</td>\n",
       "      <td id=\"T_32966_row1_col69\" class=\"data row1 col69\" >0</td>\n",
       "      <td id=\"T_32966_row1_col70\" class=\"data row1 col70\" >0</td>\n",
       "      <td id=\"T_32966_row1_col71\" class=\"data row1 col71\" >0</td>\n",
       "      <td id=\"T_32966_row1_col72\" class=\"data row1 col72\" >0</td>\n",
       "      <td id=\"T_32966_row1_col73\" class=\"data row1 col73\" >-317046</td>\n",
       "      <td id=\"T_32966_row1_col74\" class=\"data row1 col74\" >0</td>\n",
       "      <td id=\"T_32966_row1_col75\" class=\"data row1 col75\" >0</td>\n",
       "      <td id=\"T_32966_row1_col76\" class=\"data row1 col76\" >0</td>\n",
       "      <td id=\"T_32966_row1_col77\" class=\"data row1 col77\" >0</td>\n",
       "      <td id=\"T_32966_row1_col78\" class=\"data row1 col78\" >0</td>\n",
       "      <td id=\"T_32966_row1_col79\" class=\"data row1 col79\" >0</td>\n",
       "      <td id=\"T_32966_row1_col80\" class=\"data row1 col80\" >0</td>\n",
       "      <td id=\"T_32966_row1_col81\" class=\"data row1 col81\" >1269</td>\n",
       "      <td id=\"T_32966_row1_col82\" class=\"data row1 col82\" >109</td>\n",
       "      <td id=\"T_32966_row1_col83\" class=\"data row1 col83\" >25</td>\n",
       "      <td id=\"T_32966_row1_col84\" class=\"data row1 col84\" >20</td>\n",
       "      <td id=\"T_32966_row1_col85\" class=\"data row1 col85\" >624</td>\n",
       "      <td id=\"T_32966_row1_col86\" class=\"data row1 col86\" >0</td>\n",
       "      <td id=\"T_32966_row1_col87\" class=\"data row1 col87\" >0</td>\n",
       "      <td id=\"T_32966_row1_col88\" class=\"data row1 col88\" >0</td>\n",
       "      <td id=\"T_32966_row1_col89\" class=\"data row1 col89\" >0</td>\n",
       "      <td id=\"T_32966_row1_col90\" class=\"data row1 col90\" >0</td>\n",
       "      <td id=\"T_32966_row1_col91\" class=\"data row1 col91\" >0</td>\n",
       "      <td id=\"T_32966_row1_col92\" class=\"data row1 col92\" >0</td>\n",
       "      <td id=\"T_32966_row1_col93\" class=\"data row1 col93\" >0</td>\n",
       "      <td id=\"T_32966_row1_col94\" class=\"data row1 col94\" >0</td>\n",
       "      <td id=\"T_32966_row1_col95\" class=\"data row1 col95\" >0</td>\n",
       "      <td id=\"T_32966_row1_col96\" class=\"data row1 col96\" >1128</td>\n",
       "      <td id=\"T_32966_row1_col97\" class=\"data row1 col97\" >1128</td>\n",
       "      <td id=\"T_32966_row1_col98\" class=\"data row1 col98\" >0</td>\n",
       "      <td id=\"T_32966_row1_col99\" class=\"data row1 col99\" >0</td>\n",
       "      <td id=\"T_32966_row1_col100\" class=\"data row1 col100\" >0</td>\n",
       "      <td id=\"T_32966_row1_col101\" class=\"data row1 col101\" >0</td>\n",
       "      <td id=\"T_32966_row1_col102\" class=\"data row1 col102\" >0</td>\n",
       "      <td id=\"T_32966_row1_col103\" class=\"data row1 col103\" >0</td>\n",
       "      <td id=\"T_32966_row1_col104\" class=\"data row1 col104\" >0</td>\n",
       "      <td id=\"T_32966_row1_col105\" class=\"data row1 col105\" >0</td>\n",
       "      <td id=\"T_32966_row1_col106\" class=\"data row1 col106\" >0</td>\n",
       "      <td id=\"T_32966_row1_col107\" class=\"data row1 col107\" >2</td>\n",
       "      <td id=\"T_32966_row1_col108\" class=\"data row1 col108\" >0</td>\n",
       "      <td id=\"T_32966_row1_col109\" class=\"data row1 col109\" >0</td>\n",
       "      <td id=\"T_32966_row1_col110\" class=\"data row1 col110\" >0</td>\n",
       "      <td id=\"T_32966_row1_col111\" class=\"data row1 col111\" >0</td>\n",
       "      <td id=\"T_32966_row1_col112\" class=\"data row1 col112\" >0</td>\n",
       "      <td id=\"T_32966_row1_col113\" class=\"data row1 col113\" >0</td>\n",
       "      <td id=\"T_32966_row1_col114\" class=\"data row1 col114\" >0</td>\n",
       "      <td id=\"T_32966_row1_col115\" class=\"data row1 col115\" >0</td>\n",
       "      <td id=\"T_32966_row1_col116\" class=\"data row1 col116\" >0</td>\n",
       "      <td id=\"T_32966_row1_col117\" class=\"data row1 col117\" >0</td>\n",
       "      <td id=\"T_32966_row1_col118\" class=\"data row1 col118\" >0</td>\n",
       "      <td id=\"T_32966_row1_col119\" class=\"data row1 col119\" >1548</td>\n",
       "      <td id=\"T_32966_row1_col120\" class=\"data row1 col120\" >109</td>\n",
       "      <td id=\"T_32966_row1_col121\" class=\"data row1 col121\" >25</td>\n",
       "      <td id=\"T_32966_row1_col122\" class=\"data row1 col122\" >20</td>\n",
       "      <td id=\"T_32966_row1_col123\" class=\"data row1 col123\" >624</td>\n",
       "      <td id=\"T_32966_row1_col124\" class=\"data row1 col124\" >0</td>\n",
       "      <td id=\"T_32966_row1_col125\" class=\"data row1 col125\" >0</td>\n",
       "      <td id=\"T_32966_row1_col126\" class=\"data row1 col126\" >70</td>\n",
       "      <td id=\"T_32966_row1_col127\" class=\"data row1 col127\" >109</td>\n",
       "      <td id=\"T_32966_row1_col128\" class=\"data row1 col128\" >109</td>\n",
       "      <td id=\"T_32966_row1_col129\" class=\"data row1 col129\" >109</td>\n",
       "      <td id=\"T_32966_row1_col130\" class=\"data row1 col130\" >109</td>\n",
       "      <td id=\"T_32966_row1_col131\" class=\"data row1 col131\" >134</td>\n",
       "      <td id=\"T_32966_row1_col132\" class=\"data row1 col132\" >0</td>\n",
       "      <td id=\"T_32966_row1_col133\" class=\"data row1 col133\" >0</td>\n",
       "      <td id=\"T_32966_row1_col134\" class=\"data row1 col134\" >0</td>\n",
       "      <td id=\"T_32966_row1_col135\" class=\"data row1 col135\" >0</td>\n",
       "      <td id=\"T_32966_row1_col136\" class=\"data row1 col136\" >0</td>\n",
       "      <td id=\"T_32966_row1_col137\" class=\"data row1 col137\" >0</td>\n",
       "      <td id=\"T_32966_row1_col138\" class=\"data row1 col138\" >0</td>\n",
       "      <td id=\"T_32966_row1_col139\" class=\"data row1 col139\" >11</td>\n",
       "      <td id=\"T_32966_row1_col140\" class=\"data row1 col140\" >0</td>\n",
       "      <td id=\"T_32966_row1_col141\" class=\"data row1 col141\" >1</td>\n",
       "      <td id=\"T_32966_row1_col142\" class=\"data row1 col142\" >1</td>\n",
       "      <td id=\"T_32966_row1_col143\" class=\"data row1 col143\" >0</td>\n",
       "      <td id=\"T_32966_row1_col144\" class=\"data row1 col144\" >0</td>\n",
       "      <td id=\"T_32966_row1_col145\" class=\"data row1 col145\" >0</td>\n",
       "      <td id=\"T_32966_row1_col146\" class=\"data row1 col146\" >578</td>\n",
       "      <td id=\"T_32966_row1_col147\" class=\"data row1 col147\" >0</td>\n",
       "      <td id=\"T_32966_row1_col148\" class=\"data row1 col148\" >25</td>\n",
       "      <td id=\"T_32966_row1_col149\" class=\"data row1 col149\" >20</td>\n",
       "      <td id=\"T_32966_row1_col150\" class=\"data row1 col150\" >0</td>\n",
       "      <td id=\"T_32966_row1_col151\" class=\"data row1 col151\" >0</td>\n",
       "      <td id=\"T_32966_row1_col152\" class=\"data row1 col152\" >0</td>\n",
       "      <td id=\"T_32966_row1_col153\" class=\"data row1 col153\" >0</td>\n",
       "      <td id=\"T_32966_row1_col154\" class=\"data row1 col154\" >0</td>\n",
       "      <td id=\"T_32966_row1_col155\" class=\"data row1 col155\" >0</td>\n",
       "      <td id=\"T_32966_row1_col156\" class=\"data row1 col156\" >0</td>\n",
       "      <td id=\"T_32966_row1_col157\" class=\"data row1 col157\" >0</td>\n",
       "      <td id=\"T_32966_row1_col158\" class=\"data row1 col158\" >0</td>\n",
       "      <td id=\"T_32966_row1_col159\" class=\"data row1 col159\" >0</td>\n",
       "      <td id=\"T_32966_row1_col160\" class=\"data row1 col160\" >9</td>\n",
       "      <td id=\"T_32966_row1_col161\" class=\"data row1 col161\" >0</td>\n",
       "      <td id=\"T_32966_row1_col162\" class=\"data row1 col162\" >1</td>\n",
       "      <td id=\"T_32966_row1_col163\" class=\"data row1 col163\" >1</td>\n",
       "      <td id=\"T_32966_row1_col164\" class=\"data row1 col164\" >0</td>\n",
       "      <td id=\"T_32966_row1_col165\" class=\"data row1 col165\" >0</td>\n",
       "      <td id=\"T_32966_row1_col166\" class=\"data row1 col166\" >0</td>\n",
       "      <td id=\"T_32966_row1_col167\" class=\"data row1 col167\" >577</td>\n",
       "      <td id=\"T_32966_row1_col168\" class=\"data row1 col168\" >0</td>\n",
       "      <td id=\"T_32966_row1_col169\" class=\"data row1 col169\" >25</td>\n",
       "      <td id=\"T_32966_row1_col170\" class=\"data row1 col170\" >20</td>\n",
       "      <td id=\"T_32966_row1_col171\" class=\"data row1 col171\" >0</td>\n",
       "      <td id=\"T_32966_row1_col172\" class=\"data row1 col172\" >0</td>\n",
       "      <td id=\"T_32966_row1_col173\" class=\"data row1 col173\" >0</td>\n",
       "      <td id=\"T_32966_row1_col174\" class=\"data row1 col174\" >0</td>\n",
       "      <td id=\"T_32966_row1_col175\" class=\"data row1 col175\" >0</td>\n",
       "      <td id=\"T_32966_row1_col176\" class=\"data row1 col176\" >0</td>\n",
       "      <td id=\"T_32966_row1_col177\" class=\"data row1 col177\" >0</td>\n",
       "      <td id=\"T_32966_row1_col178\" class=\"data row1 col178\" >0</td>\n",
       "      <td id=\"T_32966_row1_col179\" class=\"data row1 col179\" >0</td>\n",
       "      <td id=\"T_32966_row1_col180\" class=\"data row1 col180\" >0</td>\n",
       "      <td id=\"T_32966_row1_col181\" class=\"data row1 col181\" >8</td>\n",
       "      <td id=\"T_32966_row1_col182\" class=\"data row1 col182\" >2</td>\n",
       "      <td id=\"T_32966_row1_col183\" class=\"data row1 col183\" >1</td>\n",
       "      <td id=\"T_32966_row1_col184\" class=\"data row1 col184\" >1</td>\n",
       "      <td id=\"T_32966_row1_col185\" class=\"data row1 col185\" >1</td>\n",
       "      <td id=\"T_32966_row1_col186\" class=\"data row1 col186\" >0</td>\n",
       "      <td id=\"T_32966_row1_col187\" class=\"data row1 col187\" >0</td>\n",
       "      <td id=\"T_32966_row1_col188\" class=\"data row1 col188\" >0</td>\n",
       "      <td id=\"T_32966_row1_col189\" class=\"data row1 col189\" >0</td>\n",
       "      <td id=\"T_32966_row1_col190\" class=\"data row1 col190\" >0</td>\n",
       "      <td id=\"T_32966_row1_col191\" class=\"data row1 col191\" >0</td>\n",
       "      <td id=\"T_32966_row1_col192\" class=\"data row1 col192\" >0</td>\n",
       "      <td id=\"T_32966_row1_col193\" class=\"data row1 col193\" >0</td>\n",
       "      <td id=\"T_32966_row1_col194\" class=\"data row1 col194\" >0</td>\n",
       "      <td id=\"T_32966_row1_col195\" class=\"data row1 col195\" >0</td>\n",
       "      <td id=\"T_32966_row1_col196\" class=\"data row1 col196\" >0</td>\n",
       "      <td id=\"T_32966_row1_col197\" class=\"data row1 col197\" >0</td>\n",
       "      <td id=\"T_32966_row1_col198\" class=\"data row1 col198\" >0</td>\n",
       "      <td id=\"T_32966_row1_col199\" class=\"data row1 col199\" >0</td>\n",
       "      <td id=\"T_32966_row1_col200\" class=\"data row1 col200\" >3</td>\n",
       "      <td id=\"T_32966_row1_col201\" class=\"data row1 col201\" >0</td>\n",
       "      <td id=\"T_32966_row1_col202\" class=\"data row1 col202\" >0</td>\n",
       "      <td id=\"T_32966_row1_col203\" class=\"data row1 col203\" >0</td>\n",
       "      <td id=\"T_32966_row1_col204\" class=\"data row1 col204\" >0</td>\n",
       "      <td id=\"T_32966_row1_col205\" class=\"data row1 col205\" >0</td>\n",
       "      <td id=\"T_32966_row1_col206\" class=\"data row1 col206\" >0</td>\n",
       "      <td id=\"T_32966_row1_col207\" class=\"data row1 col207\" >0</td>\n",
       "      <td id=\"T_32966_row1_col208\" class=\"data row1 col208\" >0</td>\n",
       "      <td id=\"T_32966_row1_col209\" class=\"data row1 col209\" >0</td>\n",
       "      <td id=\"T_32966_row1_col210\" class=\"data row1 col210\" >0</td>\n",
       "      <td id=\"T_32966_row1_col211\" class=\"data row1 col211\" >0</td>\n",
       "      <td id=\"T_32966_row1_col212\" class=\"data row1 col212\" >0</td>\n",
       "      <td id=\"T_32966_row1_col213\" class=\"data row1 col213\" >0</td>\n",
       "      <td id=\"T_32966_row1_col214\" class=\"data row1 col214\" >0</td>\n",
       "      <td id=\"T_32966_row1_col215\" class=\"data row1 col215\" >0</td>\n",
       "      <td id=\"T_32966_row1_col216\" class=\"data row1 col216\" >0</td>\n",
       "      <td id=\"T_32966_row1_col217\" class=\"data row1 col217\" >0</td>\n",
       "      <td id=\"T_32966_row1_col218\" class=\"data row1 col218\" >0</td>\n",
       "      <td id=\"T_32966_row1_col219\" class=\"data row1 col219\" >1</td>\n",
       "      <td id=\"T_32966_row1_col220\" class=\"data row1 col220\" >12</td>\n",
       "      <td id=\"T_32966_row1_col221\" class=\"data row1 col221\" >2</td>\n",
       "      <td id=\"T_32966_row1_col222\" class=\"data row1 col222\" >1</td>\n",
       "      <td id=\"T_32966_row1_col223\" class=\"data row1 col223\" >1</td>\n",
       "      <td id=\"T_32966_row1_col224\" class=\"data row1 col224\" >1</td>\n",
       "      <td id=\"T_32966_row1_col225\" class=\"data row1 col225\" >0</td>\n",
       "      <td id=\"T_32966_row1_col226\" class=\"data row1 col226\" >0</td>\n",
       "      <td id=\"T_32966_row1_col227\" class=\"data row1 col227\" >4</td>\n",
       "      <td id=\"T_32966_row1_col228\" class=\"data row1 col228\" >2</td>\n",
       "      <td id=\"T_32966_row1_col229\" class=\"data row1 col229\" >0</td>\n",
       "      <td id=\"T_32966_row1_col230\" class=\"data row1 col230\" >0</td>\n",
       "      <td id=\"T_32966_row1_col231\" class=\"data row1 col231\" >1</td>\n",
       "      <td id=\"T_32966_row1_col232\" class=\"data row1 col232\" >0</td>\n",
       "      <td id=\"T_32966_row1_col233\" class=\"data row1 col233\" >0</td>\n",
       "      <td id=\"T_32966_row1_col234\" class=\"data row1 col234\" >10</td>\n",
       "      <td id=\"T_32966_row1_col235\" class=\"data row1 col235\" >0</td>\n",
       "      <td id=\"T_32966_row1_col236\" class=\"data row1 col236\" >1</td>\n",
       "      <td id=\"T_32966_row1_col237\" class=\"data row1 col237\" >1</td>\n",
       "      <td id=\"T_32966_row1_col238\" class=\"data row1 col238\" >0</td>\n",
       "      <td id=\"T_32966_row1_col239\" class=\"data row1 col239\" >0</td>\n",
       "      <td id=\"T_32966_row1_col240\" class=\"data row1 col240\" >0</td>\n",
       "      <td id=\"T_32966_row1_col241\" class=\"data row1 col241\" >-3</td>\n",
       "      <td id=\"T_32966_row1_col242\" class=\"data row1 col242\" >0</td>\n",
       "      <td id=\"T_32966_row1_col243\" class=\"data row1 col243\" >0</td>\n",
       "      <td id=\"T_32966_row1_col244\" class=\"data row1 col244\" >0</td>\n",
       "      <td id=\"T_32966_row1_col245\" class=\"data row1 col245\" >0</td>\n",
       "      <td id=\"T_32966_row1_col246\" class=\"data row1 col246\" >0</td>\n",
       "      <td id=\"T_32966_row1_col247\" class=\"data row1 col247\" >0</td>\n",
       "      <td id=\"T_32966_row1_col248\" class=\"data row1 col248\" >0</td>\n",
       "      <td id=\"T_32966_row1_col249\" class=\"data row1 col249\" >0</td>\n",
       "      <td id=\"T_32966_row1_col250\" class=\"data row1 col250\" >0</td>\n",
       "      <td id=\"T_32966_row1_col251\" class=\"data row1 col251\" >0</td>\n",
       "      <td id=\"T_32966_row1_col252\" class=\"data row1 col252\" >0</td>\n",
       "      <td id=\"T_32966_row1_col253\" class=\"data row1 col253\" >0</td>\n",
       "      <td id=\"T_32966_row1_col254\" class=\"data row1 col254\" >0</td>\n",
       "      <td id=\"T_32966_row1_col255\" class=\"data row1 col255\" >0</td>\n",
       "      <td id=\"T_32966_row1_col256\" class=\"data row1 col256\" >0</td>\n",
       "      <td id=\"T_32966_row1_col257\" class=\"data row1 col257\" >0</td>\n",
       "      <td id=\"T_32966_row1_col258\" class=\"data row1 col258\" >0</td>\n",
       "      <td id=\"T_32966_row1_col259\" class=\"data row1 col259\" >0</td>\n",
       "      <td id=\"T_32966_row1_col260\" class=\"data row1 col260\" >0</td>\n",
       "      <td id=\"T_32966_row1_col261\" class=\"data row1 col261\" >0</td>\n",
       "      <td id=\"T_32966_row1_col262\" class=\"data row1 col262\" >1</td>\n",
       "      <td id=\"T_32966_row1_col263\" class=\"data row1 col263\" >2</td>\n",
       "      <td id=\"T_32966_row1_col264\" class=\"data row1 col264\" >2</td>\n",
       "      <td id=\"T_32966_row1_col265\" class=\"data row1 col265\" >2</td>\n",
       "      <td id=\"T_32966_row1_col266\" class=\"data row1 col266\" >2</td>\n",
       "      <td id=\"T_32966_row1_col267\" class=\"data row1 col267\" >3</td>\n",
       "      <td id=\"T_32966_row1_col268\" class=\"data row1 col268\" >0</td>\n",
       "      <td id=\"T_32966_row1_col269\" class=\"data row1 col269\" >0</td>\n",
       "      <td id=\"T_32966_row1_col270\" class=\"data row1 col270\" >0</td>\n",
       "      <td id=\"T_32966_row1_col271\" class=\"data row1 col271\" >0</td>\n",
       "      <td id=\"T_32966_row1_col272\" class=\"data row1 col272\" >0</td>\n",
       "      <td id=\"T_32966_row1_col273\" class=\"data row1 col273\" >0</td>\n",
       "      <td id=\"T_32966_row1_col274\" class=\"data row1 col274\" >0</td>\n",
       "      <td id=\"T_32966_row1_col275\" class=\"data row1 col275\" >6</td>\n",
       "      <td id=\"T_32966_row1_col276\" class=\"data row1 col276\" >2</td>\n",
       "      <td id=\"T_32966_row1_col277\" class=\"data row1 col277\" >0</td>\n",
       "      <td id=\"T_32966_row1_col278\" class=\"data row1 col278\" >0</td>\n",
       "      <td id=\"T_32966_row1_col279\" class=\"data row1 col279\" >1</td>\n",
       "      <td id=\"T_32966_row1_col280\" class=\"data row1 col280\" >0</td>\n",
       "      <td id=\"T_32966_row1_col281\" class=\"data row1 col281\" >0</td>\n",
       "      <td id=\"T_32966_row1_col282\" class=\"data row1 col282\" >1</td>\n",
       "      <td id=\"T_32966_row1_col283\" class=\"data row1 col283\" >0</td>\n",
       "      <td id=\"T_32966_row1_col284\" class=\"data row1 col284\" >0</td>\n",
       "      <td id=\"T_32966_row1_col285\" class=\"data row1 col285\" >0</td>\n",
       "      <td id=\"T_32966_row1_col286\" class=\"data row1 col286\" >0</td>\n",
       "      <td id=\"T_32966_row1_col287\" class=\"data row1 col287\" >0</td>\n",
       "      <td id=\"T_32966_row1_col288\" class=\"data row1 col288\" >0</td>\n",
       "      <td id=\"T_32966_row1_col289\" class=\"data row1 col289\" >0</td>\n",
       "      <td id=\"T_32966_row1_col290\" class=\"data row1 col290\" >0</td>\n",
       "      <td id=\"T_32966_row1_col291\" class=\"data row1 col291\" >0</td>\n",
       "      <td id=\"T_32966_row1_col292\" class=\"data row1 col292\" >0</td>\n",
       "      <td id=\"T_32966_row1_col293\" class=\"data row1 col293\" >0</td>\n",
       "      <td id=\"T_32966_row1_col294\" class=\"data row1 col294\" >0</td>\n",
       "      <td id=\"T_32966_row1_col295\" class=\"data row1 col295\" >4</td>\n",
       "      <td id=\"T_32966_row1_col296\" class=\"data row1 col296\" >4</td>\n",
       "      <td id=\"T_32966_row1_col297\" class=\"data row1 col297\" >0</td>\n",
       "      <td id=\"T_32966_row1_col298\" class=\"data row1 col298\" >0</td>\n",
       "      <td id=\"T_32966_row1_col299\" class=\"data row1 col299\" >0</td>\n",
       "      <td id=\"T_32966_row1_col300\" class=\"data row1 col300\" >0</td>\n",
       "      <td id=\"T_32966_row1_col301\" class=\"data row1 col301\" >0</td>\n",
       "      <td id=\"T_32966_row1_col302\" class=\"data row1 col302\" >0</td>\n",
       "      <td id=\"T_32966_row1_col303\" class=\"data row1 col303\" >0</td>\n",
       "      <td id=\"T_32966_row1_col304\" class=\"data row1 col304\" >0</td>\n",
       "      <td id=\"T_32966_row1_col305\" class=\"data row1 col305\" >0</td>\n",
       "      <td id=\"T_32966_row1_col306\" class=\"data row1 col306\" >0</td>\n",
       "      <td id=\"T_32966_row1_col307\" class=\"data row1 col307\" >0</td>\n",
       "      <td id=\"T_32966_row1_col308\" class=\"data row1 col308\" >0</td>\n",
       "      <td id=\"T_32966_row1_col309\" class=\"data row1 col309\" >0</td>\n",
       "      <td id=\"T_32966_row1_col310\" class=\"data row1 col310\" >0</td>\n",
       "      <td id=\"T_32966_row1_col311\" class=\"data row1 col311\" >0</td>\n",
       "      <td id=\"T_32966_row1_col312\" class=\"data row1 col312\" >0</td>\n",
       "      <td id=\"T_32966_row1_col313\" class=\"data row1 col313\" >0</td>\n",
       "      <td id=\"T_32966_row1_col314\" class=\"data row1 col314\" >0</td>\n",
       "      <td id=\"T_32966_row1_col315\" class=\"data row1 col315\" >0</td>\n",
       "      <td id=\"T_32966_row1_col316\" class=\"data row1 col316\" >0</td>\n",
       "      <td id=\"T_32966_row1_col317\" class=\"data row1 col317\" >0</td>\n",
       "      <td id=\"T_32966_row1_col318\" class=\"data row1 col318\" >2</td>\n",
       "      <td id=\"T_32966_row1_col319\" class=\"data row1 col319\" >-1.000000</td>\n",
       "      <td id=\"T_32966_row1_col320\" class=\"data row1 col320\" >-1</td>\n",
       "      <td id=\"T_32966_row1_col321\" class=\"data row1 col321\" >0</td>\n",
       "      <td id=\"T_32966_row1_col322\" class=\"data row1 col322\" >1027</td>\n",
       "      <td id=\"T_32966_row1_col323\" class=\"data row1 col323\" >109</td>\n",
       "      <td id=\"T_32966_row1_col324\" class=\"data row1 col324\" >0</td>\n",
       "      <td id=\"T_32966_row1_col325\" class=\"data row1 col325\" >0</td>\n",
       "      <td id=\"T_32966_row1_col326\" class=\"data row1 col326\" >624</td>\n",
       "      <td id=\"T_32966_row1_col327\" class=\"data row1 col327\" >0</td>\n",
       "      <td id=\"T_32966_row1_col328\" class=\"data row1 col328\" >0</td>\n",
       "      <td id=\"T_32966_row1_col329\" class=\"data row1 col329\" >0</td>\n",
       "      <td id=\"T_32966_row1_col330\" class=\"data row1 col330\" >1</td>\n",
       "      <td id=\"T_32966_row1_col331\" class=\"data row1 col331\" >1</td>\n",
       "      <td id=\"T_32966_row1_col332\" class=\"data row1 col332\" >1</td>\n",
       "      <td id=\"T_32966_row1_col333\" class=\"data row1 col333\" >1</td>\n",
       "      <td id=\"T_32966_row1_col334\" class=\"data row1 col334\" >1</td>\n",
       "      <td id=\"T_32966_row1_col335\" class=\"data row1 col335\" >0</td>\n",
       "      <td id=\"T_32966_row1_col336\" class=\"data row1 col336\" >0</td>\n",
       "      <td id=\"T_32966_row1_col337\" class=\"data row1 col337\" >0</td>\n",
       "      <td id=\"T_32966_row1_col338\" class=\"data row1 col338\" >0</td>\n",
       "      <td id=\"T_32966_row1_col339\" class=\"data row1 col339\" >0</td>\n",
       "      <td id=\"T_32966_row1_col340\" class=\"data row1 col340\" >0</td>\n",
       "      <td id=\"T_32966_row1_col341\" class=\"data row1 col341\" >0</td>\n",
       "      <td id=\"T_32966_row1_col342\" class=\"data row1 col342\" >1028</td>\n",
       "      <td id=\"T_32966_row1_col343\" class=\"data row1 col343\" >109</td>\n",
       "      <td id=\"T_32966_row1_col344\" class=\"data row1 col344\" >0</td>\n",
       "      <td id=\"T_32966_row1_col345\" class=\"data row1 col345\" >0</td>\n",
       "      <td id=\"T_32966_row1_col346\" class=\"data row1 col346\" >624</td>\n",
       "      <td id=\"T_32966_row1_col347\" class=\"data row1 col347\" >0</td>\n",
       "      <td id=\"T_32966_row1_col348\" class=\"data row1 col348\" >0</td>\n",
       "      <td id=\"T_32966_row1_col349\" class=\"data row1 col349\" >2</td>\n",
       "      <td id=\"T_32966_row1_col350\" class=\"data row1 col350\" >1</td>\n",
       "      <td id=\"T_32966_row1_col351\" class=\"data row1 col351\" >0</td>\n",
       "      <td id=\"T_32966_row1_col352\" class=\"data row1 col352\" >0</td>\n",
       "      <td id=\"T_32966_row1_col353\" class=\"data row1 col353\" >0</td>\n",
       "      <td id=\"T_32966_row1_col354\" class=\"data row1 col354\" >0</td>\n",
       "      <td id=\"T_32966_row1_col355\" class=\"data row1 col355\" >0</td>\n",
       "      <td id=\"T_32966_row1_col356\" class=\"data row1 col356\" >0</td>\n",
       "      <td id=\"T_32966_row1_col357\" class=\"data row1 col357\" >0</td>\n",
       "      <td id=\"T_32966_row1_col358\" class=\"data row1 col358\" >0</td>\n",
       "      <td id=\"T_32966_row1_col359\" class=\"data row1 col359\" >0</td>\n",
       "      <td id=\"T_32966_row1_col360\" class=\"data row1 col360\" >0</td>\n",
       "      <td id=\"T_32966_row1_col361\" class=\"data row1 col361\" >0</td>\n",
       "      <td id=\"T_32966_row1_col362\" class=\"data row1 col362\" >0</td>\n",
       "      <td id=\"T_32966_row1_col363\" class=\"data row1 col363\" >0</td>\n",
       "      <td id=\"T_32966_row1_col364\" class=\"data row1 col364\" >0</td>\n",
       "      <td id=\"T_32966_row1_col365\" class=\"data row1 col365\" >0</td>\n",
       "      <td id=\"T_32966_row1_col366\" class=\"data row1 col366\" >0</td>\n",
       "      <td id=\"T_32966_row1_col367\" class=\"data row1 col367\" >0</td>\n",
       "      <td id=\"T_32966_row1_col368\" class=\"data row1 col368\" >0</td>\n",
       "    </tr>\n",
       "    <tr>\n",
       "      <th id=\"T_32966_level0_row2\" class=\"row_heading level0 row2\" >18165</th>\n",
       "      <td id=\"T_32966_row2_col0\" class=\"data row2 col0\" >COID-4181326</td>\n",
       "      <td id=\"T_32966_row2_col1\" class=\"data row2 col1\" >20140300000000.000000</td>\n",
       "      <td id=\"T_32966_row2_col2\" class=\"data row2 col2\" >20140300000000.000000</td>\n",
       "      <td id=\"T_32966_row2_col3\" class=\"data row2 col3\" >POS</td>\n",
       "      <td id=\"T_32966_row2_col4\" class=\"data row2 col4\" >External</td>\n",
       "      <td id=\"T_32966_row2_col5\" class=\"data row2 col5\" >none</td>\n",
       "      <td id=\"T_32966_row2_col6\" class=\"data row2 col6\" >ACCT-52042</td>\n",
       "      <td id=\"T_32966_row2_col7\" class=\"data row2 col7\" >CARD-12634</td>\n",
       "      <td id=\"T_32966_row2_col8\" class=\"data row2 col8\" >CARD-12634</td>\n",
       "      <td id=\"T_32966_row2_col9\" class=\"data row2 col9\" >DVID-166619</td>\n",
       "      <td id=\"T_32966_row2_col10\" class=\"data row2 col10\" >MRCH-52384</td>\n",
       "      <td id=\"T_32966_row2_col11\" class=\"data row2 col11\" >MERCHANT NAME: ANON(52384)</td>\n",
       "      <td id=\"T_32966_row2_col12\" class=\"data row2 col12\" >5812</td>\n",
       "      <td id=\"T_32966_row2_col13\" class=\"data row2 col13\" >ANON ADDRESS</td>\n",
       "      <td id=\"T_32966_row2_col14\" class=\"data row2 col14\" >who cares?</td>\n",
       "      <td id=\"T_32966_row2_col15\" class=\"data row2 col15\" >who cares?</td>\n",
       "      <td id=\"T_32966_row2_col16\" class=\"data row2 col16\" >DOHA</td>\n",
       "      <td id=\"T_32966_row2_col17\" class=\"data row2 col17\" >none</td>\n",
       "      <td id=\"T_32966_row2_col18\" class=\"data row2 col18\" >MISSING</td>\n",
       "      <td id=\"T_32966_row2_col19\" class=\"data row2 col19\" >QA</td>\n",
       "      <td id=\"T_32966_row2_col20\" class=\"data row2 col20\" >none</td>\n",
       "      <td id=\"T_32966_row2_col21\" class=\"data row2 col21\" >ACQR-626</td>\n",
       "      <td id=\"T_32966_row2_col22\" class=\"data row2 col22\" >none</td>\n",
       "      <td id=\"T_32966_row2_col23\" class=\"data row2 col23\" >AUTH-44</td>\n",
       "      <td id=\"T_32966_row2_col24\" class=\"data row2 col24\" >20140300000000.000000</td>\n",
       "      <td id=\"T_32966_row2_col25\" class=\"data row2 col25\" >5</td>\n",
       "      <td id=\"T_32966_row2_col26\" class=\"data row2 col26\" >0</td>\n",
       "      <td id=\"T_32966_row2_col27\" class=\"data row2 col27\" >0</td>\n",
       "      <td id=\"T_32966_row2_col28\" class=\"data row2 col28\" >4</td>\n",
       "      <td id=\"T_32966_row2_col29\" class=\"data row2 col29\" >0</td>\n",
       "      <td id=\"T_32966_row2_col30\" class=\"data row2 col30\" >4</td>\n",
       "      <td id=\"T_32966_row2_col31\" class=\"data row2 col31\" >4</td>\n",
       "      <td id=\"T_32966_row2_col32\" class=\"data row2 col32\" >none</td>\n",
       "      <td id=\"T_32966_row2_col33\" class=\"data row2 col33\" >C</td>\n",
       "      <td id=\"T_32966_row2_col34\" class=\"data row2 col34\" >75</td>\n",
       "      <td id=\"T_32966_row2_col35\" class=\"data row2 col35\" >0</td>\n",
       "      <td id=\"T_32966_row2_col36\" class=\"data row2 col36\" >none</td>\n",
       "      <td id=\"T_32966_row2_col37\" class=\"data row2 col37\" >0</td>\n",
       "      <td id=\"T_32966_row2_col38\" class=\"data row2 col38\" >0</td>\n",
       "      <td id=\"T_32966_row2_col39\" class=\"data row2 col39\" >0</td>\n",
       "      <td id=\"T_32966_row2_col40\" class=\"data row2 col40\" >U</td>\n",
       "      <td id=\"T_32966_row2_col41\" class=\"data row2 col41\" >1</td>\n",
       "      <td id=\"T_32966_row2_col42\" class=\"data row2 col42\" >TOP</td>\n",
       "      <td id=\"T_32966_row2_col43\" class=\"data row2 col43\" >Y</td>\n",
       "      <td id=\"T_32966_row2_col44\" class=\"data row2 col44\" >Y</td>\n",
       "      <td id=\"T_32966_row2_col45\" class=\"data row2 col45\" >none</td>\n",
       "      <td id=\"T_32966_row2_col46\" class=\"data row2 col46\" >none</td>\n",
       "      <td id=\"T_32966_row2_col47\" class=\"data row2 col47\" >none</td>\n",
       "      <td id=\"T_32966_row2_col48\" class=\"data row2 col48\" >none</td>\n",
       "      <td id=\"T_32966_row2_col49\" class=\"data row2 col49\" >none</td>\n",
       "      <td id=\"T_32966_row2_col50\" class=\"data row2 col50\" >none</td>\n",
       "      <td id=\"T_32966_row2_col51\" class=\"data row2 col51\" >none</td>\n",
       "      <td id=\"T_32966_row2_col52\" class=\"data row2 col52\" >N</td>\n",
       "      <td id=\"T_32966_row2_col53\" class=\"data row2 col53\" >none</td>\n",
       "      <td id=\"T_32966_row2_col54\" class=\"data row2 col54\" >none</td>\n",
       "      <td id=\"T_32966_row2_col55\" class=\"data row2 col55\" >none</td>\n",
       "      <td id=\"T_32966_row2_col56\" class=\"data row2 col56\" >DOHA</td>\n",
       "      <td id=\"T_32966_row2_col57\" class=\"data row2 col57\" >QA</td>\n",
       "      <td id=\"T_32966_row2_col58\" class=\"data row2 col58\" >MISSING</td>\n",
       "      <td id=\"T_32966_row2_col59\" class=\"data row2 col59\" >QA</td>\n",
       "      <td id=\"T_32966_row2_col60\" class=\"data row2 col60\" >U</td>\n",
       "      <td id=\"T_32966_row2_col61\" class=\"data row2 col61\" >1</td>\n",
       "      <td id=\"T_32966_row2_col62\" class=\"data row2 col62\" >C</td>\n",
       "      <td id=\"T_32966_row2_col63\" class=\"data row2 col63\" >MISSING</td>\n",
       "      <td id=\"T_32966_row2_col64\" class=\"data row2 col64\" >MISSING</td>\n",
       "      <td id=\"T_32966_row2_col65\" class=\"data row2 col65\" >1</td>\n",
       "      <td id=\"T_32966_row2_col66\" class=\"data row2 col66\" >0</td>\n",
       "      <td id=\"T_32966_row2_col67\" class=\"data row2 col67\" >-1</td>\n",
       "      <td id=\"T_32966_row2_col68\" class=\"data row2 col68\" >-1</td>\n",
       "      <td id=\"T_32966_row2_col69\" class=\"data row2 col69\" >0</td>\n",
       "      <td id=\"T_32966_row2_col70\" class=\"data row2 col70\" >0</td>\n",
       "      <td id=\"T_32966_row2_col71\" class=\"data row2 col71\" >0</td>\n",
       "      <td id=\"T_32966_row2_col72\" class=\"data row2 col72\" >0</td>\n",
       "      <td id=\"T_32966_row2_col73\" class=\"data row2 col73\" >-317046</td>\n",
       "      <td id=\"T_32966_row2_col74\" class=\"data row2 col74\" >0</td>\n",
       "      <td id=\"T_32966_row2_col75\" class=\"data row2 col75\" >0</td>\n",
       "      <td id=\"T_32966_row2_col76\" class=\"data row2 col76\" >0</td>\n",
       "      <td id=\"T_32966_row2_col77\" class=\"data row2 col77\" >0</td>\n",
       "      <td id=\"T_32966_row2_col78\" class=\"data row2 col78\" >0</td>\n",
       "      <td id=\"T_32966_row2_col79\" class=\"data row2 col79\" >0</td>\n",
       "      <td id=\"T_32966_row2_col80\" class=\"data row2 col80\" >0</td>\n",
       "      <td id=\"T_32966_row2_col81\" class=\"data row2 col81\" >365</td>\n",
       "      <td id=\"T_32966_row2_col82\" class=\"data row2 col82\" >58</td>\n",
       "      <td id=\"T_32966_row2_col83\" class=\"data row2 col83\" >16</td>\n",
       "      <td id=\"T_32966_row2_col84\" class=\"data row2 col84\" >0</td>\n",
       "      <td id=\"T_32966_row2_col85\" class=\"data row2 col85\" >0</td>\n",
       "      <td id=\"T_32966_row2_col86\" class=\"data row2 col86\" >0</td>\n",
       "      <td id=\"T_32966_row2_col87\" class=\"data row2 col87\" >0</td>\n",
       "      <td id=\"T_32966_row2_col88\" class=\"data row2 col88\" >0</td>\n",
       "      <td id=\"T_32966_row2_col89\" class=\"data row2 col89\" >0</td>\n",
       "      <td id=\"T_32966_row2_col90\" class=\"data row2 col90\" >0</td>\n",
       "      <td id=\"T_32966_row2_col91\" class=\"data row2 col91\" >0</td>\n",
       "      <td id=\"T_32966_row2_col92\" class=\"data row2 col92\" >0</td>\n",
       "      <td id=\"T_32966_row2_col93\" class=\"data row2 col93\" >0</td>\n",
       "      <td id=\"T_32966_row2_col94\" class=\"data row2 col94\" >0</td>\n",
       "      <td id=\"T_32966_row2_col95\" class=\"data row2 col95\" >0</td>\n",
       "      <td id=\"T_32966_row2_col96\" class=\"data row2 col96\" >365</td>\n",
       "      <td id=\"T_32966_row2_col97\" class=\"data row2 col97\" >365</td>\n",
       "      <td id=\"T_32966_row2_col98\" class=\"data row2 col98\" >0</td>\n",
       "      <td id=\"T_32966_row2_col99\" class=\"data row2 col99\" >0</td>\n",
       "      <td id=\"T_32966_row2_col100\" class=\"data row2 col100\" >0</td>\n",
       "      <td id=\"T_32966_row2_col101\" class=\"data row2 col101\" >0</td>\n",
       "      <td id=\"T_32966_row2_col102\" class=\"data row2 col102\" >0</td>\n",
       "      <td id=\"T_32966_row2_col103\" class=\"data row2 col103\" >0</td>\n",
       "      <td id=\"T_32966_row2_col104\" class=\"data row2 col104\" >0</td>\n",
       "      <td id=\"T_32966_row2_col105\" class=\"data row2 col105\" >0</td>\n",
       "      <td id=\"T_32966_row2_col106\" class=\"data row2 col106\" >0</td>\n",
       "      <td id=\"T_32966_row2_col107\" class=\"data row2 col107\" >0</td>\n",
       "      <td id=\"T_32966_row2_col108\" class=\"data row2 col108\" >0</td>\n",
       "      <td id=\"T_32966_row2_col109\" class=\"data row2 col109\" >0</td>\n",
       "      <td id=\"T_32966_row2_col110\" class=\"data row2 col110\" >0</td>\n",
       "      <td id=\"T_32966_row2_col111\" class=\"data row2 col111\" >0</td>\n",
       "      <td id=\"T_32966_row2_col112\" class=\"data row2 col112\" >0</td>\n",
       "      <td id=\"T_32966_row2_col113\" class=\"data row2 col113\" >0</td>\n",
       "      <td id=\"T_32966_row2_col114\" class=\"data row2 col114\" >1</td>\n",
       "      <td id=\"T_32966_row2_col115\" class=\"data row2 col115\" >1</td>\n",
       "      <td id=\"T_32966_row2_col116\" class=\"data row2 col116\" >0</td>\n",
       "      <td id=\"T_32966_row2_col117\" class=\"data row2 col117\" >0</td>\n",
       "      <td id=\"T_32966_row2_col118\" class=\"data row2 col118\" >0</td>\n",
       "      <td id=\"T_32966_row2_col119\" class=\"data row2 col119\" >365</td>\n",
       "      <td id=\"T_32966_row2_col120\" class=\"data row2 col120\" >58</td>\n",
       "      <td id=\"T_32966_row2_col121\" class=\"data row2 col121\" >16</td>\n",
       "      <td id=\"T_32966_row2_col122\" class=\"data row2 col122\" >0</td>\n",
       "      <td id=\"T_32966_row2_col123\" class=\"data row2 col123\" >0</td>\n",
       "      <td id=\"T_32966_row2_col124\" class=\"data row2 col124\" >0</td>\n",
       "      <td id=\"T_32966_row2_col125\" class=\"data row2 col125\" >0</td>\n",
       "      <td id=\"T_32966_row2_col126\" class=\"data row2 col126\" >4</td>\n",
       "      <td id=\"T_32966_row2_col127\" class=\"data row2 col127\" >4</td>\n",
       "      <td id=\"T_32966_row2_col128\" class=\"data row2 col128\" >4</td>\n",
       "      <td id=\"T_32966_row2_col129\" class=\"data row2 col129\" >58</td>\n",
       "      <td id=\"T_32966_row2_col130\" class=\"data row2 col130\" >58</td>\n",
       "      <td id=\"T_32966_row2_col131\" class=\"data row2 col131\" >75</td>\n",
       "      <td id=\"T_32966_row2_col132\" class=\"data row2 col132\" >0</td>\n",
       "      <td id=\"T_32966_row2_col133\" class=\"data row2 col133\" >0</td>\n",
       "      <td id=\"T_32966_row2_col134\" class=\"data row2 col134\" >0</td>\n",
       "      <td id=\"T_32966_row2_col135\" class=\"data row2 col135\" >0</td>\n",
       "      <td id=\"T_32966_row2_col136\" class=\"data row2 col136\" >0</td>\n",
       "      <td id=\"T_32966_row2_col137\" class=\"data row2 col137\" >0</td>\n",
       "      <td id=\"T_32966_row2_col138\" class=\"data row2 col138\" >0</td>\n",
       "      <td id=\"T_32966_row2_col139\" class=\"data row2 col139\" >5</td>\n",
       "      <td id=\"T_32966_row2_col140\" class=\"data row2 col140\" >0</td>\n",
       "      <td id=\"T_32966_row2_col141\" class=\"data row2 col141\" >0</td>\n",
       "      <td id=\"T_32966_row2_col142\" class=\"data row2 col142\" >0</td>\n",
       "      <td id=\"T_32966_row2_col143\" class=\"data row2 col143\" >0</td>\n",
       "      <td id=\"T_32966_row2_col144\" class=\"data row2 col144\" >0</td>\n",
       "      <td id=\"T_32966_row2_col145\" class=\"data row2 col145\" >0</td>\n",
       "      <td id=\"T_32966_row2_col146\" class=\"data row2 col146\" >109</td>\n",
       "      <td id=\"T_32966_row2_col147\" class=\"data row2 col147\" >0</td>\n",
       "      <td id=\"T_32966_row2_col148\" class=\"data row2 col148\" >0</td>\n",
       "      <td id=\"T_32966_row2_col149\" class=\"data row2 col149\" >0</td>\n",
       "      <td id=\"T_32966_row2_col150\" class=\"data row2 col150\" >0</td>\n",
       "      <td id=\"T_32966_row2_col151\" class=\"data row2 col151\" >0</td>\n",
       "      <td id=\"T_32966_row2_col152\" class=\"data row2 col152\" >0</td>\n",
       "      <td id=\"T_32966_row2_col153\" class=\"data row2 col153\" >0</td>\n",
       "      <td id=\"T_32966_row2_col154\" class=\"data row2 col154\" >0</td>\n",
       "      <td id=\"T_32966_row2_col155\" class=\"data row2 col155\" >0</td>\n",
       "      <td id=\"T_32966_row2_col156\" class=\"data row2 col156\" >0</td>\n",
       "      <td id=\"T_32966_row2_col157\" class=\"data row2 col157\" >0</td>\n",
       "      <td id=\"T_32966_row2_col158\" class=\"data row2 col158\" >0</td>\n",
       "      <td id=\"T_32966_row2_col159\" class=\"data row2 col159\" >0</td>\n",
       "      <td id=\"T_32966_row2_col160\" class=\"data row2 col160\" >10</td>\n",
       "      <td id=\"T_32966_row2_col161\" class=\"data row2 col161\" >0</td>\n",
       "      <td id=\"T_32966_row2_col162\" class=\"data row2 col162\" >2</td>\n",
       "      <td id=\"T_32966_row2_col163\" class=\"data row2 col163\" >0</td>\n",
       "      <td id=\"T_32966_row2_col164\" class=\"data row2 col164\" >0</td>\n",
       "      <td id=\"T_32966_row2_col165\" class=\"data row2 col165\" >0</td>\n",
       "      <td id=\"T_32966_row2_col166\" class=\"data row2 col166\" >0</td>\n",
       "      <td id=\"T_32966_row2_col167\" class=\"data row2 col167\" >44</td>\n",
       "      <td id=\"T_32966_row2_col168\" class=\"data row2 col168\" >0</td>\n",
       "      <td id=\"T_32966_row2_col169\" class=\"data row2 col169\" >0</td>\n",
       "      <td id=\"T_32966_row2_col170\" class=\"data row2 col170\" >0</td>\n",
       "      <td id=\"T_32966_row2_col171\" class=\"data row2 col171\" >0</td>\n",
       "      <td id=\"T_32966_row2_col172\" class=\"data row2 col172\" >0</td>\n",
       "      <td id=\"T_32966_row2_col173\" class=\"data row2 col173\" >0</td>\n",
       "      <td id=\"T_32966_row2_col174\" class=\"data row2 col174\" >0</td>\n",
       "      <td id=\"T_32966_row2_col175\" class=\"data row2 col175\" >0</td>\n",
       "      <td id=\"T_32966_row2_col176\" class=\"data row2 col176\" >0</td>\n",
       "      <td id=\"T_32966_row2_col177\" class=\"data row2 col177\" >0</td>\n",
       "      <td id=\"T_32966_row2_col178\" class=\"data row2 col178\" >0</td>\n",
       "      <td id=\"T_32966_row2_col179\" class=\"data row2 col179\" >0</td>\n",
       "      <td id=\"T_32966_row2_col180\" class=\"data row2 col180\" >0</td>\n",
       "      <td id=\"T_32966_row2_col181\" class=\"data row2 col181\" >11</td>\n",
       "      <td id=\"T_32966_row2_col182\" class=\"data row2 col182\" >2</td>\n",
       "      <td id=\"T_32966_row2_col183\" class=\"data row2 col183\" >2</td>\n",
       "      <td id=\"T_32966_row2_col184\" class=\"data row2 col184\" >0</td>\n",
       "      <td id=\"T_32966_row2_col185\" class=\"data row2 col185\" >0</td>\n",
       "      <td id=\"T_32966_row2_col186\" class=\"data row2 col186\" >0</td>\n",
       "      <td id=\"T_32966_row2_col187\" class=\"data row2 col187\" >0</td>\n",
       "      <td id=\"T_32966_row2_col188\" class=\"data row2 col188\" >0</td>\n",
       "      <td id=\"T_32966_row2_col189\" class=\"data row2 col189\" >0</td>\n",
       "      <td id=\"T_32966_row2_col190\" class=\"data row2 col190\" >0</td>\n",
       "      <td id=\"T_32966_row2_col191\" class=\"data row2 col191\" >0</td>\n",
       "      <td id=\"T_32966_row2_col192\" class=\"data row2 col192\" >0</td>\n",
       "      <td id=\"T_32966_row2_col193\" class=\"data row2 col193\" >0</td>\n",
       "      <td id=\"T_32966_row2_col194\" class=\"data row2 col194\" >0</td>\n",
       "      <td id=\"T_32966_row2_col195\" class=\"data row2 col195\" >0</td>\n",
       "      <td id=\"T_32966_row2_col196\" class=\"data row2 col196\" >0</td>\n",
       "      <td id=\"T_32966_row2_col197\" class=\"data row2 col197\" >0</td>\n",
       "      <td id=\"T_32966_row2_col198\" class=\"data row2 col198\" >0</td>\n",
       "      <td id=\"T_32966_row2_col199\" class=\"data row2 col199\" >0</td>\n",
       "      <td id=\"T_32966_row2_col200\" class=\"data row2 col200\" >2</td>\n",
       "      <td id=\"T_32966_row2_col201\" class=\"data row2 col201\" >0</td>\n",
       "      <td id=\"T_32966_row2_col202\" class=\"data row2 col202\" >0</td>\n",
       "      <td id=\"T_32966_row2_col203\" class=\"data row2 col203\" >0</td>\n",
       "      <td id=\"T_32966_row2_col204\" class=\"data row2 col204\" >0</td>\n",
       "      <td id=\"T_32966_row2_col205\" class=\"data row2 col205\" >0</td>\n",
       "      <td id=\"T_32966_row2_col206\" class=\"data row2 col206\" >0</td>\n",
       "      <td id=\"T_32966_row2_col207\" class=\"data row2 col207\" >0</td>\n",
       "      <td id=\"T_32966_row2_col208\" class=\"data row2 col208\" >0</td>\n",
       "      <td id=\"T_32966_row2_col209\" class=\"data row2 col209\" >0</td>\n",
       "      <td id=\"T_32966_row2_col210\" class=\"data row2 col210\" >0</td>\n",
       "      <td id=\"T_32966_row2_col211\" class=\"data row2 col211\" >0</td>\n",
       "      <td id=\"T_32966_row2_col212\" class=\"data row2 col212\" >0</td>\n",
       "      <td id=\"T_32966_row2_col213\" class=\"data row2 col213\" >0</td>\n",
       "      <td id=\"T_32966_row2_col214\" class=\"data row2 col214\" >0</td>\n",
       "      <td id=\"T_32966_row2_col215\" class=\"data row2 col215\" >0</td>\n",
       "      <td id=\"T_32966_row2_col216\" class=\"data row2 col216\" >0</td>\n",
       "      <td id=\"T_32966_row2_col217\" class=\"data row2 col217\" >0</td>\n",
       "      <td id=\"T_32966_row2_col218\" class=\"data row2 col218\" >0</td>\n",
       "      <td id=\"T_32966_row2_col219\" class=\"data row2 col219\" >2</td>\n",
       "      <td id=\"T_32966_row2_col220\" class=\"data row2 col220\" >11</td>\n",
       "      <td id=\"T_32966_row2_col221\" class=\"data row2 col221\" >2</td>\n",
       "      <td id=\"T_32966_row2_col222\" class=\"data row2 col222\" >2</td>\n",
       "      <td id=\"T_32966_row2_col223\" class=\"data row2 col223\" >0</td>\n",
       "      <td id=\"T_32966_row2_col224\" class=\"data row2 col224\" >0</td>\n",
       "      <td id=\"T_32966_row2_col225\" class=\"data row2 col225\" >0</td>\n",
       "      <td id=\"T_32966_row2_col226\" class=\"data row2 col226\" >0</td>\n",
       "      <td id=\"T_32966_row2_col227\" class=\"data row2 col227\" >8</td>\n",
       "      <td id=\"T_32966_row2_col228\" class=\"data row2 col228\" >2</td>\n",
       "      <td id=\"T_32966_row2_col229\" class=\"data row2 col229\" >2</td>\n",
       "      <td id=\"T_32966_row2_col230\" class=\"data row2 col230\" >0</td>\n",
       "      <td id=\"T_32966_row2_col231\" class=\"data row2 col231\" >0</td>\n",
       "      <td id=\"T_32966_row2_col232\" class=\"data row2 col232\" >0</td>\n",
       "      <td id=\"T_32966_row2_col233\" class=\"data row2 col233\" >0</td>\n",
       "      <td id=\"T_32966_row2_col234\" class=\"data row2 col234\" >2</td>\n",
       "      <td id=\"T_32966_row2_col235\" class=\"data row2 col235\" >0</td>\n",
       "      <td id=\"T_32966_row2_col236\" class=\"data row2 col236\" >0</td>\n",
       "      <td id=\"T_32966_row2_col237\" class=\"data row2 col237\" >0</td>\n",
       "      <td id=\"T_32966_row2_col238\" class=\"data row2 col238\" >0</td>\n",
       "      <td id=\"T_32966_row2_col239\" class=\"data row2 col239\" >0</td>\n",
       "      <td id=\"T_32966_row2_col240\" class=\"data row2 col240\" >0</td>\n",
       "      <td id=\"T_32966_row2_col241\" class=\"data row2 col241\" >9</td>\n",
       "      <td id=\"T_32966_row2_col242\" class=\"data row2 col242\" >0</td>\n",
       "      <td id=\"T_32966_row2_col243\" class=\"data row2 col243\" >0</td>\n",
       "      <td id=\"T_32966_row2_col244\" class=\"data row2 col244\" >0</td>\n",
       "      <td id=\"T_32966_row2_col245\" class=\"data row2 col245\" >0</td>\n",
       "      <td id=\"T_32966_row2_col246\" class=\"data row2 col246\" >0</td>\n",
       "      <td id=\"T_32966_row2_col247\" class=\"data row2 col247\" >0</td>\n",
       "      <td id=\"T_32966_row2_col248\" class=\"data row2 col248\" >0</td>\n",
       "      <td id=\"T_32966_row2_col249\" class=\"data row2 col249\" >0</td>\n",
       "      <td id=\"T_32966_row2_col250\" class=\"data row2 col250\" >0</td>\n",
       "      <td id=\"T_32966_row2_col251\" class=\"data row2 col251\" >0</td>\n",
       "      <td id=\"T_32966_row2_col252\" class=\"data row2 col252\" >0</td>\n",
       "      <td id=\"T_32966_row2_col253\" class=\"data row2 col253\" >0</td>\n",
       "      <td id=\"T_32966_row2_col254\" class=\"data row2 col254\" >0</td>\n",
       "      <td id=\"T_32966_row2_col255\" class=\"data row2 col255\" >0</td>\n",
       "      <td id=\"T_32966_row2_col256\" class=\"data row2 col256\" >0</td>\n",
       "      <td id=\"T_32966_row2_col257\" class=\"data row2 col257\" >0</td>\n",
       "      <td id=\"T_32966_row2_col258\" class=\"data row2 col258\" >0</td>\n",
       "      <td id=\"T_32966_row2_col259\" class=\"data row2 col259\" >0</td>\n",
       "      <td id=\"T_32966_row2_col260\" class=\"data row2 col260\" >0</td>\n",
       "      <td id=\"T_32966_row2_col261\" class=\"data row2 col261\" >0</td>\n",
       "      <td id=\"T_32966_row2_col262\" class=\"data row2 col262\" >1</td>\n",
       "      <td id=\"T_32966_row2_col263\" class=\"data row2 col263\" >1</td>\n",
       "      <td id=\"T_32966_row2_col264\" class=\"data row2 col264\" >1</td>\n",
       "      <td id=\"T_32966_row2_col265\" class=\"data row2 col265\" >2</td>\n",
       "      <td id=\"T_32966_row2_col266\" class=\"data row2 col266\" >2</td>\n",
       "      <td id=\"T_32966_row2_col267\" class=\"data row2 col267\" >4</td>\n",
       "      <td id=\"T_32966_row2_col268\" class=\"data row2 col268\" >0</td>\n",
       "      <td id=\"T_32966_row2_col269\" class=\"data row2 col269\" >0</td>\n",
       "      <td id=\"T_32966_row2_col270\" class=\"data row2 col270\" >0</td>\n",
       "      <td id=\"T_32966_row2_col271\" class=\"data row2 col271\" >0</td>\n",
       "      <td id=\"T_32966_row2_col272\" class=\"data row2 col272\" >0</td>\n",
       "      <td id=\"T_32966_row2_col273\" class=\"data row2 col273\" >0</td>\n",
       "      <td id=\"T_32966_row2_col274\" class=\"data row2 col274\" >0</td>\n",
       "      <td id=\"T_32966_row2_col275\" class=\"data row2 col275\" >11</td>\n",
       "      <td id=\"T_32966_row2_col276\" class=\"data row2 col276\" >2</td>\n",
       "      <td id=\"T_32966_row2_col277\" class=\"data row2 col277\" >2</td>\n",
       "      <td id=\"T_32966_row2_col278\" class=\"data row2 col278\" >0</td>\n",
       "      <td id=\"T_32966_row2_col279\" class=\"data row2 col279\" >0</td>\n",
       "      <td id=\"T_32966_row2_col280\" class=\"data row2 col280\" >0</td>\n",
       "      <td id=\"T_32966_row2_col281\" class=\"data row2 col281\" >0</td>\n",
       "      <td id=\"T_32966_row2_col282\" class=\"data row2 col282\" >0</td>\n",
       "      <td id=\"T_32966_row2_col283\" class=\"data row2 col283\" >0</td>\n",
       "      <td id=\"T_32966_row2_col284\" class=\"data row2 col284\" >0</td>\n",
       "      <td id=\"T_32966_row2_col285\" class=\"data row2 col285\" >0</td>\n",
       "      <td id=\"T_32966_row2_col286\" class=\"data row2 col286\" >0</td>\n",
       "      <td id=\"T_32966_row2_col287\" class=\"data row2 col287\" >0</td>\n",
       "      <td id=\"T_32966_row2_col288\" class=\"data row2 col288\" >0</td>\n",
       "      <td id=\"T_32966_row2_col289\" class=\"data row2 col289\" >0</td>\n",
       "      <td id=\"T_32966_row2_col290\" class=\"data row2 col290\" >0</td>\n",
       "      <td id=\"T_32966_row2_col291\" class=\"data row2 col291\" >0</td>\n",
       "      <td id=\"T_32966_row2_col292\" class=\"data row2 col292\" >0</td>\n",
       "      <td id=\"T_32966_row2_col293\" class=\"data row2 col293\" >0</td>\n",
       "      <td id=\"T_32966_row2_col294\" class=\"data row2 col294\" >0</td>\n",
       "      <td id=\"T_32966_row2_col295\" class=\"data row2 col295\" >2</td>\n",
       "      <td id=\"T_32966_row2_col296\" class=\"data row2 col296\" >2</td>\n",
       "      <td id=\"T_32966_row2_col297\" class=\"data row2 col297\" >0</td>\n",
       "      <td id=\"T_32966_row2_col298\" class=\"data row2 col298\" >0</td>\n",
       "      <td id=\"T_32966_row2_col299\" class=\"data row2 col299\" >0</td>\n",
       "      <td id=\"T_32966_row2_col300\" class=\"data row2 col300\" >0</td>\n",
       "      <td id=\"T_32966_row2_col301\" class=\"data row2 col301\" >0</td>\n",
       "      <td id=\"T_32966_row2_col302\" class=\"data row2 col302\" >0</td>\n",
       "      <td id=\"T_32966_row2_col303\" class=\"data row2 col303\" >0</td>\n",
       "      <td id=\"T_32966_row2_col304\" class=\"data row2 col304\" >0</td>\n",
       "      <td id=\"T_32966_row2_col305\" class=\"data row2 col305\" >0</td>\n",
       "      <td id=\"T_32966_row2_col306\" class=\"data row2 col306\" >0</td>\n",
       "      <td id=\"T_32966_row2_col307\" class=\"data row2 col307\" >0</td>\n",
       "      <td id=\"T_32966_row2_col308\" class=\"data row2 col308\" >0</td>\n",
       "      <td id=\"T_32966_row2_col309\" class=\"data row2 col309\" >0</td>\n",
       "      <td id=\"T_32966_row2_col310\" class=\"data row2 col310\" >0</td>\n",
       "      <td id=\"T_32966_row2_col311\" class=\"data row2 col311\" >0</td>\n",
       "      <td id=\"T_32966_row2_col312\" class=\"data row2 col312\" >0</td>\n",
       "      <td id=\"T_32966_row2_col313\" class=\"data row2 col313\" >0</td>\n",
       "      <td id=\"T_32966_row2_col314\" class=\"data row2 col314\" >0</td>\n",
       "      <td id=\"T_32966_row2_col315\" class=\"data row2 col315\" >0</td>\n",
       "      <td id=\"T_32966_row2_col316\" class=\"data row2 col316\" >0</td>\n",
       "      <td id=\"T_32966_row2_col317\" class=\"data row2 col317\" >0</td>\n",
       "      <td id=\"T_32966_row2_col318\" class=\"data row2 col318\" >2</td>\n",
       "      <td id=\"T_32966_row2_col319\" class=\"data row2 col319\" >2.000000</td>\n",
       "      <td id=\"T_32966_row2_col320\" class=\"data row2 col320\" >0</td>\n",
       "      <td id=\"T_32966_row2_col321\" class=\"data row2 col321\" >0</td>\n",
       "      <td id=\"T_32966_row2_col322\" class=\"data row2 col322\" >300</td>\n",
       "      <td id=\"T_32966_row2_col323\" class=\"data row2 col323\" >58</td>\n",
       "      <td id=\"T_32966_row2_col324\" class=\"data row2 col324\" >16</td>\n",
       "      <td id=\"T_32966_row2_col325\" class=\"data row2 col325\" >0</td>\n",
       "      <td id=\"T_32966_row2_col326\" class=\"data row2 col326\" >0</td>\n",
       "      <td id=\"T_32966_row2_col327\" class=\"data row2 col327\" >0</td>\n",
       "      <td id=\"T_32966_row2_col328\" class=\"data row2 col328\" >0</td>\n",
       "      <td id=\"T_32966_row2_col329\" class=\"data row2 col329\" >0</td>\n",
       "      <td id=\"T_32966_row2_col330\" class=\"data row2 col330\" >0</td>\n",
       "      <td id=\"T_32966_row2_col331\" class=\"data row2 col331\" >0</td>\n",
       "      <td id=\"T_32966_row2_col332\" class=\"data row2 col332\" >1</td>\n",
       "      <td id=\"T_32966_row2_col333\" class=\"data row2 col333\" >1</td>\n",
       "      <td id=\"T_32966_row2_col334\" class=\"data row2 col334\" >1</td>\n",
       "      <td id=\"T_32966_row2_col335\" class=\"data row2 col335\" >0</td>\n",
       "      <td id=\"T_32966_row2_col336\" class=\"data row2 col336\" >0</td>\n",
       "      <td id=\"T_32966_row2_col337\" class=\"data row2 col337\" >0</td>\n",
       "      <td id=\"T_32966_row2_col338\" class=\"data row2 col338\" >0</td>\n",
       "      <td id=\"T_32966_row2_col339\" class=\"data row2 col339\" >0</td>\n",
       "      <td id=\"T_32966_row2_col340\" class=\"data row2 col340\" >0</td>\n",
       "      <td id=\"T_32966_row2_col341\" class=\"data row2 col341\" >0</td>\n",
       "      <td id=\"T_32966_row2_col342\" class=\"data row2 col342\" >365</td>\n",
       "      <td id=\"T_32966_row2_col343\" class=\"data row2 col343\" >58</td>\n",
       "      <td id=\"T_32966_row2_col344\" class=\"data row2 col344\" >16</td>\n",
       "      <td id=\"T_32966_row2_col345\" class=\"data row2 col345\" >0</td>\n",
       "      <td id=\"T_32966_row2_col346\" class=\"data row2 col346\" >0</td>\n",
       "      <td id=\"T_32966_row2_col347\" class=\"data row2 col347\" >0</td>\n",
       "      <td id=\"T_32966_row2_col348\" class=\"data row2 col348\" >0</td>\n",
       "      <td id=\"T_32966_row2_col349\" class=\"data row2 col349\" >1</td>\n",
       "      <td id=\"T_32966_row2_col350\" class=\"data row2 col350\" >1</td>\n",
       "      <td id=\"T_32966_row2_col351\" class=\"data row2 col351\" >0</td>\n",
       "      <td id=\"T_32966_row2_col352\" class=\"data row2 col352\" >0</td>\n",
       "      <td id=\"T_32966_row2_col353\" class=\"data row2 col353\" >0</td>\n",
       "      <td id=\"T_32966_row2_col354\" class=\"data row2 col354\" >0</td>\n",
       "      <td id=\"T_32966_row2_col355\" class=\"data row2 col355\" >0</td>\n",
       "      <td id=\"T_32966_row2_col356\" class=\"data row2 col356\" >0</td>\n",
       "      <td id=\"T_32966_row2_col357\" class=\"data row2 col357\" >0</td>\n",
       "      <td id=\"T_32966_row2_col358\" class=\"data row2 col358\" >0</td>\n",
       "      <td id=\"T_32966_row2_col359\" class=\"data row2 col359\" >0</td>\n",
       "      <td id=\"T_32966_row2_col360\" class=\"data row2 col360\" >0</td>\n",
       "      <td id=\"T_32966_row2_col361\" class=\"data row2 col361\" >0</td>\n",
       "      <td id=\"T_32966_row2_col362\" class=\"data row2 col362\" >0</td>\n",
       "      <td id=\"T_32966_row2_col363\" class=\"data row2 col363\" >0</td>\n",
       "      <td id=\"T_32966_row2_col364\" class=\"data row2 col364\" >0</td>\n",
       "      <td id=\"T_32966_row2_col365\" class=\"data row2 col365\" >0</td>\n",
       "      <td id=\"T_32966_row2_col366\" class=\"data row2 col366\" >0</td>\n",
       "      <td id=\"T_32966_row2_col367\" class=\"data row2 col367\" >0</td>\n",
       "      <td id=\"T_32966_row2_col368\" class=\"data row2 col368\" >0</td>\n",
       "    </tr>\n",
       "    <tr>\n",
       "      <th id=\"T_32966_level0_row3\" class=\"row_heading level0 row3\" >21650</th>\n",
       "      <td id=\"T_32966_row3_col0\" class=\"data row3 col0\" >COID-4781641</td>\n",
       "      <td id=\"T_32966_row3_col1\" class=\"data row3 col1\" >20140300000000.000000</td>\n",
       "      <td id=\"T_32966_row3_col2\" class=\"data row3 col2\" >20140300000000.000000</td>\n",
       "      <td id=\"T_32966_row3_col3\" class=\"data row3 col3\" >OnL</td>\n",
       "      <td id=\"T_32966_row3_col4\" class=\"data row3 col4\" >External</td>\n",
       "      <td id=\"T_32966_row3_col5\" class=\"data row3 col5\" >none</td>\n",
       "      <td id=\"T_32966_row3_col6\" class=\"data row3 col6\" >ACCT-19223</td>\n",
       "      <td id=\"T_32966_row3_col7\" class=\"data row3 col7\" >CARD-39355</td>\n",
       "      <td id=\"T_32966_row3_col8\" class=\"data row3 col8\" >CARD-39355</td>\n",
       "      <td id=\"T_32966_row3_col9\" class=\"data row3 col9\" >DVID-138792</td>\n",
       "      <td id=\"T_32966_row3_col10\" class=\"data row3 col10\" >MRCH-235554</td>\n",
       "      <td id=\"T_32966_row3_col11\" class=\"data row3 col11\" >MERCHANT NAME: ANON(235554)</td>\n",
       "      <td id=\"T_32966_row3_col12\" class=\"data row3 col12\" >5968</td>\n",
       "      <td id=\"T_32966_row3_col13\" class=\"data row3 col13\" >ANON ADDRESS</td>\n",
       "      <td id=\"T_32966_row3_col14\" class=\"data row3 col14\" >who cares?</td>\n",
       "      <td id=\"T_32966_row3_col15\" class=\"data row3 col15\" >who cares?</td>\n",
       "      <td id=\"T_32966_row3_col16\" class=\"data row3 col16\" >LINKEDIN.COM</td>\n",
       "      <td id=\"T_32966_row3_col17\" class=\"data row3 col17\" >none</td>\n",
       "      <td id=\"T_32966_row3_col18\" class=\"data row3 col18\" >MISSING</td>\n",
       "      <td id=\"T_32966_row3_col19\" class=\"data row3 col19\" >IE</td>\n",
       "      <td id=\"T_32966_row3_col20\" class=\"data row3 col20\" >none</td>\n",
       "      <td id=\"T_32966_row3_col21\" class=\"data row3 col21\" >ACQR-14</td>\n",
       "      <td id=\"T_32966_row3_col22\" class=\"data row3 col22\" >none</td>\n",
       "      <td id=\"T_32966_row3_col23\" class=\"data row3 col23\" >AUTH-44549</td>\n",
       "      <td id=\"T_32966_row3_col24\" class=\"data row3 col24\" >20140300000000.000000</td>\n",
       "      <td id=\"T_32966_row3_col25\" class=\"data row3 col25\" >3</td>\n",
       "      <td id=\"T_32966_row3_col26\" class=\"data row3 col26\" >57</td>\n",
       "      <td id=\"T_32966_row3_col27\" class=\"data row3 col27\" >0</td>\n",
       "      <td id=\"T_32966_row3_col28\" class=\"data row3 col28\" >26</td>\n",
       "      <td id=\"T_32966_row3_col29\" class=\"data row3 col29\" >0</td>\n",
       "      <td id=\"T_32966_row3_col30\" class=\"data row3 col30\" >26</td>\n",
       "      <td id=\"T_32966_row3_col31\" class=\"data row3 col31\" >26</td>\n",
       "      <td id=\"T_32966_row3_col32\" class=\"data row3 col32\" >none</td>\n",
       "      <td id=\"T_32966_row3_col33\" class=\"data row3 col33\" >C</td>\n",
       "      <td id=\"T_32966_row3_col34\" class=\"data row3 col34\" >84</td>\n",
       "      <td id=\"T_32966_row3_col35\" class=\"data row3 col35\" >0</td>\n",
       "      <td id=\"T_32966_row3_col36\" class=\"data row3 col36\" >none</td>\n",
       "      <td id=\"T_32966_row3_col37\" class=\"data row3 col37\" >0</td>\n",
       "      <td id=\"T_32966_row3_col38\" class=\"data row3 col38\" >0</td>\n",
       "      <td id=\"T_32966_row3_col39\" class=\"data row3 col39\" >0</td>\n",
       "      <td id=\"T_32966_row3_col40\" class=\"data row3 col40\" >Card Present</td>\n",
       "      <td id=\"T_32966_row3_col41\" class=\"data row3 col41\" >0</td>\n",
       "      <td id=\"T_32966_row3_col42\" class=\"data row3 col42\" >TOP</td>\n",
       "      <td id=\"T_32966_row3_col43\" class=\"data row3 col43\" >N</td>\n",
       "      <td id=\"T_32966_row3_col44\" class=\"data row3 col44\" >Y</td>\n",
       "      <td id=\"T_32966_row3_col45\" class=\"data row3 col45\" >none</td>\n",
       "      <td id=\"T_32966_row3_col46\" class=\"data row3 col46\" >none</td>\n",
       "      <td id=\"T_32966_row3_col47\" class=\"data row3 col47\" >none</td>\n",
       "      <td id=\"T_32966_row3_col48\" class=\"data row3 col48\" >none</td>\n",
       "      <td id=\"T_32966_row3_col49\" class=\"data row3 col49\" >none</td>\n",
       "      <td id=\"T_32966_row3_col50\" class=\"data row3 col50\" >none</td>\n",
       "      <td id=\"T_32966_row3_col51\" class=\"data row3 col51\" >none</td>\n",
       "      <td id=\"T_32966_row3_col52\" class=\"data row3 col52\" >N</td>\n",
       "      <td id=\"T_32966_row3_col53\" class=\"data row3 col53\" >none</td>\n",
       "      <td id=\"T_32966_row3_col54\" class=\"data row3 col54\" >none</td>\n",
       "      <td id=\"T_32966_row3_col55\" class=\"data row3 col55\" >none</td>\n",
       "      <td id=\"T_32966_row3_col56\" class=\"data row3 col56\" >LINKEDIN.COM</td>\n",
       "      <td id=\"T_32966_row3_col57\" class=\"data row3 col57\" >IR</td>\n",
       "      <td id=\"T_32966_row3_col58\" class=\"data row3 col58\" >MISSING</td>\n",
       "      <td id=\"T_32966_row3_col59\" class=\"data row3 col59\" >IE</td>\n",
       "      <td id=\"T_32966_row3_col60\" class=\"data row3 col60\" >U</td>\n",
       "      <td id=\"T_32966_row3_col61\" class=\"data row3 col61\" >1</td>\n",
       "      <td id=\"T_32966_row3_col62\" class=\"data row3 col62\" >C</td>\n",
       "      <td id=\"T_32966_row3_col63\" class=\"data row3 col63\" >MISSING</td>\n",
       "      <td id=\"T_32966_row3_col64\" class=\"data row3 col64\" >MISSING</td>\n",
       "      <td id=\"T_32966_row3_col65\" class=\"data row3 col65\" >0</td>\n",
       "      <td id=\"T_32966_row3_col66\" class=\"data row3 col66\" >1</td>\n",
       "      <td id=\"T_32966_row3_col67\" class=\"data row3 col67\" >-1</td>\n",
       "      <td id=\"T_32966_row3_col68\" class=\"data row3 col68\" >-1</td>\n",
       "      <td id=\"T_32966_row3_col69\" class=\"data row3 col69\" >0</td>\n",
       "      <td id=\"T_32966_row3_col70\" class=\"data row3 col70\" >0</td>\n",
       "      <td id=\"T_32966_row3_col71\" class=\"data row3 col71\" >0</td>\n",
       "      <td id=\"T_32966_row3_col72\" class=\"data row3 col72\" >0</td>\n",
       "      <td id=\"T_32966_row3_col73\" class=\"data row3 col73\" >-317046</td>\n",
       "      <td id=\"T_32966_row3_col74\" class=\"data row3 col74\" >0</td>\n",
       "      <td id=\"T_32966_row3_col75\" class=\"data row3 col75\" >1</td>\n",
       "      <td id=\"T_32966_row3_col76\" class=\"data row3 col76\" >1</td>\n",
       "      <td id=\"T_32966_row3_col77\" class=\"data row3 col77\" >1</td>\n",
       "      <td id=\"T_32966_row3_col78\" class=\"data row3 col78\" >1</td>\n",
       "      <td id=\"T_32966_row3_col79\" class=\"data row3 col79\" >1</td>\n",
       "      <td id=\"T_32966_row3_col80\" class=\"data row3 col80\" >1</td>\n",
       "      <td id=\"T_32966_row3_col81\" class=\"data row3 col81\" >979</td>\n",
       "      <td id=\"T_32966_row3_col82\" class=\"data row3 col82\" >26</td>\n",
       "      <td id=\"T_32966_row3_col83\" class=\"data row3 col83\" >0</td>\n",
       "      <td id=\"T_32966_row3_col84\" class=\"data row3 col84\" >0</td>\n",
       "      <td id=\"T_32966_row3_col85\" class=\"data row3 col85\" >0</td>\n",
       "      <td id=\"T_32966_row3_col86\" class=\"data row3 col86\" >0</td>\n",
       "      <td id=\"T_32966_row3_col87\" class=\"data row3 col87\" >0</td>\n",
       "      <td id=\"T_32966_row3_col88\" class=\"data row3 col88\" >0</td>\n",
       "      <td id=\"T_32966_row3_col89\" class=\"data row3 col89\" >0</td>\n",
       "      <td id=\"T_32966_row3_col90\" class=\"data row3 col90\" >0</td>\n",
       "      <td id=\"T_32966_row3_col91\" class=\"data row3 col91\" >0</td>\n",
       "      <td id=\"T_32966_row3_col92\" class=\"data row3 col92\" >0</td>\n",
       "      <td id=\"T_32966_row3_col93\" class=\"data row3 col93\" >0</td>\n",
       "      <td id=\"T_32966_row3_col94\" class=\"data row3 col94\" >0</td>\n",
       "      <td id=\"T_32966_row3_col95\" class=\"data row3 col95\" >0</td>\n",
       "      <td id=\"T_32966_row3_col96\" class=\"data row3 col96\" >1719</td>\n",
       "      <td id=\"T_32966_row3_col97\" class=\"data row3 col97\" >1719</td>\n",
       "      <td id=\"T_32966_row3_col98\" class=\"data row3 col98\" >0</td>\n",
       "      <td id=\"T_32966_row3_col99\" class=\"data row3 col99\" >0</td>\n",
       "      <td id=\"T_32966_row3_col100\" class=\"data row3 col100\" >0</td>\n",
       "      <td id=\"T_32966_row3_col101\" class=\"data row3 col101\" >0</td>\n",
       "      <td id=\"T_32966_row3_col102\" class=\"data row3 col102\" >0</td>\n",
       "      <td id=\"T_32966_row3_col103\" class=\"data row3 col103\" >0</td>\n",
       "      <td id=\"T_32966_row3_col104\" class=\"data row3 col104\" >0</td>\n",
       "      <td id=\"T_32966_row3_col105\" class=\"data row3 col105\" >0</td>\n",
       "      <td id=\"T_32966_row3_col106\" class=\"data row3 col106\" >0</td>\n",
       "      <td id=\"T_32966_row3_col107\" class=\"data row3 col107\" >15</td>\n",
       "      <td id=\"T_32966_row3_col108\" class=\"data row3 col108\" >0</td>\n",
       "      <td id=\"T_32966_row3_col109\" class=\"data row3 col109\" >0</td>\n",
       "      <td id=\"T_32966_row3_col110\" class=\"data row3 col110\" >0</td>\n",
       "      <td id=\"T_32966_row3_col111\" class=\"data row3 col111\" >0</td>\n",
       "      <td id=\"T_32966_row3_col112\" class=\"data row3 col112\" >0</td>\n",
       "      <td id=\"T_32966_row3_col113\" class=\"data row3 col113\" >2</td>\n",
       "      <td id=\"T_32966_row3_col114\" class=\"data row3 col114\" >0</td>\n",
       "      <td id=\"T_32966_row3_col115\" class=\"data row3 col115\" >0</td>\n",
       "      <td id=\"T_32966_row3_col116\" class=\"data row3 col116\" >0</td>\n",
       "      <td id=\"T_32966_row3_col117\" class=\"data row3 col117\" >0</td>\n",
       "      <td id=\"T_32966_row3_col118\" class=\"data row3 col118\" >0</td>\n",
       "      <td id=\"T_32966_row3_col119\" class=\"data row3 col119\" >2203</td>\n",
       "      <td id=\"T_32966_row3_col120\" class=\"data row3 col120\" >26</td>\n",
       "      <td id=\"T_32966_row3_col121\" class=\"data row3 col121\" >0</td>\n",
       "      <td id=\"T_32966_row3_col122\" class=\"data row3 col122\" >0</td>\n",
       "      <td id=\"T_32966_row3_col123\" class=\"data row3 col123\" >0</td>\n",
       "      <td id=\"T_32966_row3_col124\" class=\"data row3 col124\" >0</td>\n",
       "      <td id=\"T_32966_row3_col125\" class=\"data row3 col125\" >204</td>\n",
       "      <td id=\"T_32966_row3_col126\" class=\"data row3 col126\" >26</td>\n",
       "      <td id=\"T_32966_row3_col127\" class=\"data row3 col127\" >26</td>\n",
       "      <td id=\"T_32966_row3_col128\" class=\"data row3 col128\" >26</td>\n",
       "      <td id=\"T_32966_row3_col129\" class=\"data row3 col129\" >26</td>\n",
       "      <td id=\"T_32966_row3_col130\" class=\"data row3 col130\" >26</td>\n",
       "      <td id=\"T_32966_row3_col131\" class=\"data row3 col131\" >26</td>\n",
       "      <td id=\"T_32966_row3_col132\" class=\"data row3 col132\" >0</td>\n",
       "      <td id=\"T_32966_row3_col133\" class=\"data row3 col133\" >0</td>\n",
       "      <td id=\"T_32966_row3_col134\" class=\"data row3 col134\" >0</td>\n",
       "      <td id=\"T_32966_row3_col135\" class=\"data row3 col135\" >0</td>\n",
       "      <td id=\"T_32966_row3_col136\" class=\"data row3 col136\" >0</td>\n",
       "      <td id=\"T_32966_row3_col137\" class=\"data row3 col137\" >0</td>\n",
       "      <td id=\"T_32966_row3_col138\" class=\"data row3 col138\" >0</td>\n",
       "      <td id=\"T_32966_row3_col139\" class=\"data row3 col139\" >27</td>\n",
       "      <td id=\"T_32966_row3_col140\" class=\"data row3 col140\" >1</td>\n",
       "      <td id=\"T_32966_row3_col141\" class=\"data row3 col141\" >0</td>\n",
       "      <td id=\"T_32966_row3_col142\" class=\"data row3 col142\" >0</td>\n",
       "      <td id=\"T_32966_row3_col143\" class=\"data row3 col143\" >0</td>\n",
       "      <td id=\"T_32966_row3_col144\" class=\"data row3 col144\" >0</td>\n",
       "      <td id=\"T_32966_row3_col145\" class=\"data row3 col145\" >4</td>\n",
       "      <td id=\"T_32966_row3_col146\" class=\"data row3 col146\" >2286</td>\n",
       "      <td id=\"T_32966_row3_col147\" class=\"data row3 col147\" >26</td>\n",
       "      <td id=\"T_32966_row3_col148\" class=\"data row3 col148\" >0</td>\n",
       "      <td id=\"T_32966_row3_col149\" class=\"data row3 col149\" >0</td>\n",
       "      <td id=\"T_32966_row3_col150\" class=\"data row3 col150\" >0</td>\n",
       "      <td id=\"T_32966_row3_col151\" class=\"data row3 col151\" >0</td>\n",
       "      <td id=\"T_32966_row3_col152\" class=\"data row3 col152\" >248</td>\n",
       "      <td id=\"T_32966_row3_col153\" class=\"data row3 col153\" >0</td>\n",
       "      <td id=\"T_32966_row3_col154\" class=\"data row3 col154\" >0</td>\n",
       "      <td id=\"T_32966_row3_col155\" class=\"data row3 col155\" >0</td>\n",
       "      <td id=\"T_32966_row3_col156\" class=\"data row3 col156\" >0</td>\n",
       "      <td id=\"T_32966_row3_col157\" class=\"data row3 col157\" >0</td>\n",
       "      <td id=\"T_32966_row3_col158\" class=\"data row3 col158\" >0</td>\n",
       "      <td id=\"T_32966_row3_col159\" class=\"data row3 col159\" >0</td>\n",
       "      <td id=\"T_32966_row3_col160\" class=\"data row3 col160\" >24</td>\n",
       "      <td id=\"T_32966_row3_col161\" class=\"data row3 col161\" >0</td>\n",
       "      <td id=\"T_32966_row3_col162\" class=\"data row3 col162\" >0</td>\n",
       "      <td id=\"T_32966_row3_col163\" class=\"data row3 col163\" >0</td>\n",
       "      <td id=\"T_32966_row3_col164\" class=\"data row3 col164\" >0</td>\n",
       "      <td id=\"T_32966_row3_col165\" class=\"data row3 col165\" >0</td>\n",
       "      <td id=\"T_32966_row3_col166\" class=\"data row3 col166\" >3</td>\n",
       "      <td id=\"T_32966_row3_col167\" class=\"data row3 col167\" >1541</td>\n",
       "      <td id=\"T_32966_row3_col168\" class=\"data row3 col168\" >26</td>\n",
       "      <td id=\"T_32966_row3_col169\" class=\"data row3 col169\" >0</td>\n",
       "      <td id=\"T_32966_row3_col170\" class=\"data row3 col170\" >0</td>\n",
       "      <td id=\"T_32966_row3_col171\" class=\"data row3 col171\" >0</td>\n",
       "      <td id=\"T_32966_row3_col172\" class=\"data row3 col172\" >0</td>\n",
       "      <td id=\"T_32966_row3_col173\" class=\"data row3 col173\" >248</td>\n",
       "      <td id=\"T_32966_row3_col174\" class=\"data row3 col174\" >0</td>\n",
       "      <td id=\"T_32966_row3_col175\" class=\"data row3 col175\" >0</td>\n",
       "      <td id=\"T_32966_row3_col176\" class=\"data row3 col176\" >0</td>\n",
       "      <td id=\"T_32966_row3_col177\" class=\"data row3 col177\" >0</td>\n",
       "      <td id=\"T_32966_row3_col178\" class=\"data row3 col178\" >0</td>\n",
       "      <td id=\"T_32966_row3_col179\" class=\"data row3 col179\" >0</td>\n",
       "      <td id=\"T_32966_row3_col180\" class=\"data row3 col180\" >0</td>\n",
       "      <td id=\"T_32966_row3_col181\" class=\"data row3 col181\" >10</td>\n",
       "      <td id=\"T_32966_row3_col182\" class=\"data row3 col182\" >1</td>\n",
       "      <td id=\"T_32966_row3_col183\" class=\"data row3 col183\" >0</td>\n",
       "      <td id=\"T_32966_row3_col184\" class=\"data row3 col184\" >0</td>\n",
       "      <td id=\"T_32966_row3_col185\" class=\"data row3 col185\" >0</td>\n",
       "      <td id=\"T_32966_row3_col186\" class=\"data row3 col186\" >0</td>\n",
       "      <td id=\"T_32966_row3_col187\" class=\"data row3 col187\" >0</td>\n",
       "      <td id=\"T_32966_row3_col188\" class=\"data row3 col188\" >0</td>\n",
       "      <td id=\"T_32966_row3_col189\" class=\"data row3 col189\" >0</td>\n",
       "      <td id=\"T_32966_row3_col190\" class=\"data row3 col190\" >0</td>\n",
       "      <td id=\"T_32966_row3_col191\" class=\"data row3 col191\" >0</td>\n",
       "      <td id=\"T_32966_row3_col192\" class=\"data row3 col192\" >0</td>\n",
       "      <td id=\"T_32966_row3_col193\" class=\"data row3 col193\" >0</td>\n",
       "      <td id=\"T_32966_row3_col194\" class=\"data row3 col194\" >0</td>\n",
       "      <td id=\"T_32966_row3_col195\" class=\"data row3 col195\" >1</td>\n",
       "      <td id=\"T_32966_row3_col196\" class=\"data row3 col196\" >1</td>\n",
       "      <td id=\"T_32966_row3_col197\" class=\"data row3 col197\" >0</td>\n",
       "      <td id=\"T_32966_row3_col198\" class=\"data row3 col198\" >0</td>\n",
       "      <td id=\"T_32966_row3_col199\" class=\"data row3 col199\" >0</td>\n",
       "      <td id=\"T_32966_row3_col200\" class=\"data row3 col200\" >4</td>\n",
       "      <td id=\"T_32966_row3_col201\" class=\"data row3 col201\" >0</td>\n",
       "      <td id=\"T_32966_row3_col202\" class=\"data row3 col202\" >0</td>\n",
       "      <td id=\"T_32966_row3_col203\" class=\"data row3 col203\" >0</td>\n",
       "      <td id=\"T_32966_row3_col204\" class=\"data row3 col204\" >0</td>\n",
       "      <td id=\"T_32966_row3_col205\" class=\"data row3 col205\" >0</td>\n",
       "      <td id=\"T_32966_row3_col206\" class=\"data row3 col206\" >1</td>\n",
       "      <td id=\"T_32966_row3_col207\" class=\"data row3 col207\" >0</td>\n",
       "      <td id=\"T_32966_row3_col208\" class=\"data row3 col208\" >0</td>\n",
       "      <td id=\"T_32966_row3_col209\" class=\"data row3 col209\" >0</td>\n",
       "      <td id=\"T_32966_row3_col210\" class=\"data row3 col210\" >0</td>\n",
       "      <td id=\"T_32966_row3_col211\" class=\"data row3 col211\" >0</td>\n",
       "      <td id=\"T_32966_row3_col212\" class=\"data row3 col212\" >0</td>\n",
       "      <td id=\"T_32966_row3_col213\" class=\"data row3 col213\" >0</td>\n",
       "      <td id=\"T_32966_row3_col214\" class=\"data row3 col214\" >0</td>\n",
       "      <td id=\"T_32966_row3_col215\" class=\"data row3 col215\" >0</td>\n",
       "      <td id=\"T_32966_row3_col216\" class=\"data row3 col216\" >0</td>\n",
       "      <td id=\"T_32966_row3_col217\" class=\"data row3 col217\" >0</td>\n",
       "      <td id=\"T_32966_row3_col218\" class=\"data row3 col218\" >0</td>\n",
       "      <td id=\"T_32966_row3_col219\" class=\"data row3 col219\" >0</td>\n",
       "      <td id=\"T_32966_row3_col220\" class=\"data row3 col220\" >25</td>\n",
       "      <td id=\"T_32966_row3_col221\" class=\"data row3 col221\" >1</td>\n",
       "      <td id=\"T_32966_row3_col222\" class=\"data row3 col222\" >0</td>\n",
       "      <td id=\"T_32966_row3_col223\" class=\"data row3 col223\" >0</td>\n",
       "      <td id=\"T_32966_row3_col224\" class=\"data row3 col224\" >0</td>\n",
       "      <td id=\"T_32966_row3_col225\" class=\"data row3 col225\" >0</td>\n",
       "      <td id=\"T_32966_row3_col226\" class=\"data row3 col226\" >3</td>\n",
       "      <td id=\"T_32966_row3_col227\" class=\"data row3 col227\" >2</td>\n",
       "      <td id=\"T_32966_row3_col228\" class=\"data row3 col228\" >0</td>\n",
       "      <td id=\"T_32966_row3_col229\" class=\"data row3 col229\" >0</td>\n",
       "      <td id=\"T_32966_row3_col230\" class=\"data row3 col230\" >0</td>\n",
       "      <td id=\"T_32966_row3_col231\" class=\"data row3 col231\" >0</td>\n",
       "      <td id=\"T_32966_row3_col232\" class=\"data row3 col232\" >0</td>\n",
       "      <td id=\"T_32966_row3_col233\" class=\"data row3 col233\" >0</td>\n",
       "      <td id=\"T_32966_row3_col234\" class=\"data row3 col234\" >22</td>\n",
       "      <td id=\"T_32966_row3_col235\" class=\"data row3 col235\" >1</td>\n",
       "      <td id=\"T_32966_row3_col236\" class=\"data row3 col236\" >0</td>\n",
       "      <td id=\"T_32966_row3_col237\" class=\"data row3 col237\" >0</td>\n",
       "      <td id=\"T_32966_row3_col238\" class=\"data row3 col238\" >0</td>\n",
       "      <td id=\"T_32966_row3_col239\" class=\"data row3 col239\" >0</td>\n",
       "      <td id=\"T_32966_row3_col240\" class=\"data row3 col240\" >4</td>\n",
       "      <td id=\"T_32966_row3_col241\" class=\"data row3 col241\" >1</td>\n",
       "      <td id=\"T_32966_row3_col242\" class=\"data row3 col242\" >0</td>\n",
       "      <td id=\"T_32966_row3_col243\" class=\"data row3 col243\" >0</td>\n",
       "      <td id=\"T_32966_row3_col244\" class=\"data row3 col244\" >0</td>\n",
       "      <td id=\"T_32966_row3_col245\" class=\"data row3 col245\" >0</td>\n",
       "      <td id=\"T_32966_row3_col246\" class=\"data row3 col246\" >0</td>\n",
       "      <td id=\"T_32966_row3_col247\" class=\"data row3 col247\" >0</td>\n",
       "      <td id=\"T_32966_row3_col248\" class=\"data row3 col248\" >0</td>\n",
       "      <td id=\"T_32966_row3_col249\" class=\"data row3 col249\" >0</td>\n",
       "      <td id=\"T_32966_row3_col250\" class=\"data row3 col250\" >0</td>\n",
       "      <td id=\"T_32966_row3_col251\" class=\"data row3 col251\" >0</td>\n",
       "      <td id=\"T_32966_row3_col252\" class=\"data row3 col252\" >0</td>\n",
       "      <td id=\"T_32966_row3_col253\" class=\"data row3 col253\" >0</td>\n",
       "      <td id=\"T_32966_row3_col254\" class=\"data row3 col254\" >0</td>\n",
       "      <td id=\"T_32966_row3_col255\" class=\"data row3 col255\" >0</td>\n",
       "      <td id=\"T_32966_row3_col256\" class=\"data row3 col256\" >0</td>\n",
       "      <td id=\"T_32966_row3_col257\" class=\"data row3 col257\" >0</td>\n",
       "      <td id=\"T_32966_row3_col258\" class=\"data row3 col258\" >0</td>\n",
       "      <td id=\"T_32966_row3_col259\" class=\"data row3 col259\" >0</td>\n",
       "      <td id=\"T_32966_row3_col260\" class=\"data row3 col260\" >0</td>\n",
       "      <td id=\"T_32966_row3_col261\" class=\"data row3 col261\" >0</td>\n",
       "      <td id=\"T_32966_row3_col262\" class=\"data row3 col262\" >1</td>\n",
       "      <td id=\"T_32966_row3_col263\" class=\"data row3 col263\" >1</td>\n",
       "      <td id=\"T_32966_row3_col264\" class=\"data row3 col264\" >1</td>\n",
       "      <td id=\"T_32966_row3_col265\" class=\"data row3 col265\" >1</td>\n",
       "      <td id=\"T_32966_row3_col266\" class=\"data row3 col266\" >1</td>\n",
       "      <td id=\"T_32966_row3_col267\" class=\"data row3 col267\" >1</td>\n",
       "      <td id=\"T_32966_row3_col268\" class=\"data row3 col268\" >0</td>\n",
       "      <td id=\"T_32966_row3_col269\" class=\"data row3 col269\" >0</td>\n",
       "      <td id=\"T_32966_row3_col270\" class=\"data row3 col270\" >0</td>\n",
       "      <td id=\"T_32966_row3_col271\" class=\"data row3 col271\" >0</td>\n",
       "      <td id=\"T_32966_row3_col272\" class=\"data row3 col272\" >0</td>\n",
       "      <td id=\"T_32966_row3_col273\" class=\"data row3 col273\" >0</td>\n",
       "      <td id=\"T_32966_row3_col274\" class=\"data row3 col274\" >0</td>\n",
       "      <td id=\"T_32966_row3_col275\" class=\"data row3 col275\" >15</td>\n",
       "      <td id=\"T_32966_row3_col276\" class=\"data row3 col276\" >0</td>\n",
       "      <td id=\"T_32966_row3_col277\" class=\"data row3 col277\" >0</td>\n",
       "      <td id=\"T_32966_row3_col278\" class=\"data row3 col278\" >0</td>\n",
       "      <td id=\"T_32966_row3_col279\" class=\"data row3 col279\" >0</td>\n",
       "      <td id=\"T_32966_row3_col280\" class=\"data row3 col280\" >0</td>\n",
       "      <td id=\"T_32966_row3_col281\" class=\"data row3 col281\" >2</td>\n",
       "      <td id=\"T_32966_row3_col282\" class=\"data row3 col282\" >0</td>\n",
       "      <td id=\"T_32966_row3_col283\" class=\"data row3 col283\" >0</td>\n",
       "      <td id=\"T_32966_row3_col284\" class=\"data row3 col284\" >0</td>\n",
       "      <td id=\"T_32966_row3_col285\" class=\"data row3 col285\" >0</td>\n",
       "      <td id=\"T_32966_row3_col286\" class=\"data row3 col286\" >0</td>\n",
       "      <td id=\"T_32966_row3_col287\" class=\"data row3 col287\" >0</td>\n",
       "      <td id=\"T_32966_row3_col288\" class=\"data row3 col288\" >0</td>\n",
       "      <td id=\"T_32966_row3_col289\" class=\"data row3 col289\" >0</td>\n",
       "      <td id=\"T_32966_row3_col290\" class=\"data row3 col290\" >0</td>\n",
       "      <td id=\"T_32966_row3_col291\" class=\"data row3 col291\" >0</td>\n",
       "      <td id=\"T_32966_row3_col292\" class=\"data row3 col292\" >0</td>\n",
       "      <td id=\"T_32966_row3_col293\" class=\"data row3 col293\" >0</td>\n",
       "      <td id=\"T_32966_row3_col294\" class=\"data row3 col294\" >0</td>\n",
       "      <td id=\"T_32966_row3_col295\" class=\"data row3 col295\" >0</td>\n",
       "      <td id=\"T_32966_row3_col296\" class=\"data row3 col296\" >0</td>\n",
       "      <td id=\"T_32966_row3_col297\" class=\"data row3 col297\" >0</td>\n",
       "      <td id=\"T_32966_row3_col298\" class=\"data row3 col298\" >0</td>\n",
       "      <td id=\"T_32966_row3_col299\" class=\"data row3 col299\" >26</td>\n",
       "      <td id=\"T_32966_row3_col300\" class=\"data row3 col300\" >26</td>\n",
       "      <td id=\"T_32966_row3_col301\" class=\"data row3 col301\" >0</td>\n",
       "      <td id=\"T_32966_row3_col302\" class=\"data row3 col302\" >0</td>\n",
       "      <td id=\"T_32966_row3_col303\" class=\"data row3 col303\" >0</td>\n",
       "      <td id=\"T_32966_row3_col304\" class=\"data row3 col304\" >0</td>\n",
       "      <td id=\"T_32966_row3_col305\" class=\"data row3 col305\" >0</td>\n",
       "      <td id=\"T_32966_row3_col306\" class=\"data row3 col306\" >0</td>\n",
       "      <td id=\"T_32966_row3_col307\" class=\"data row3 col307\" >0</td>\n",
       "      <td id=\"T_32966_row3_col308\" class=\"data row3 col308\" >0</td>\n",
       "      <td id=\"T_32966_row3_col309\" class=\"data row3 col309\" >0</td>\n",
       "      <td id=\"T_32966_row3_col310\" class=\"data row3 col310\" >0</td>\n",
       "      <td id=\"T_32966_row3_col311\" class=\"data row3 col311\" >0</td>\n",
       "      <td id=\"T_32966_row3_col312\" class=\"data row3 col312\" >0</td>\n",
       "      <td id=\"T_32966_row3_col313\" class=\"data row3 col313\" >0</td>\n",
       "      <td id=\"T_32966_row3_col314\" class=\"data row3 col314\" >0</td>\n",
       "      <td id=\"T_32966_row3_col315\" class=\"data row3 col315\" >0</td>\n",
       "      <td id=\"T_32966_row3_col316\" class=\"data row3 col316\" >0</td>\n",
       "      <td id=\"T_32966_row3_col317\" class=\"data row3 col317\" >0</td>\n",
       "      <td id=\"T_32966_row3_col318\" class=\"data row3 col318\" >-1</td>\n",
       "      <td id=\"T_32966_row3_col319\" class=\"data row3 col319\" >0.000000</td>\n",
       "      <td id=\"T_32966_row3_col320\" class=\"data row3 col320\" >0</td>\n",
       "      <td id=\"T_32966_row3_col321\" class=\"data row3 col321\" >0</td>\n",
       "      <td id=\"T_32966_row3_col322\" class=\"data row3 col322\" >56</td>\n",
       "      <td id=\"T_32966_row3_col323\" class=\"data row3 col323\" >0</td>\n",
       "      <td id=\"T_32966_row3_col324\" class=\"data row3 col324\" >0</td>\n",
       "      <td id=\"T_32966_row3_col325\" class=\"data row3 col325\" >0</td>\n",
       "      <td id=\"T_32966_row3_col326\" class=\"data row3 col326\" >0</td>\n",
       "      <td id=\"T_32966_row3_col327\" class=\"data row3 col327\" >0</td>\n",
       "      <td id=\"T_32966_row3_col328\" class=\"data row3 col328\" >0</td>\n",
       "      <td id=\"T_32966_row3_col329\" class=\"data row3 col329\" >1</td>\n",
       "      <td id=\"T_32966_row3_col330\" class=\"data row3 col330\" >1</td>\n",
       "      <td id=\"T_32966_row3_col331\" class=\"data row3 col331\" >1</td>\n",
       "      <td id=\"T_32966_row3_col332\" class=\"data row3 col332\" >1</td>\n",
       "      <td id=\"T_32966_row3_col333\" class=\"data row3 col333\" >1</td>\n",
       "      <td id=\"T_32966_row3_col334\" class=\"data row3 col334\" >1</td>\n",
       "      <td id=\"T_32966_row3_col335\" class=\"data row3 col335\" >0</td>\n",
       "      <td id=\"T_32966_row3_col336\" class=\"data row3 col336\" >0</td>\n",
       "      <td id=\"T_32966_row3_col337\" class=\"data row3 col337\" >0</td>\n",
       "      <td id=\"T_32966_row3_col338\" class=\"data row3 col338\" >0</td>\n",
       "      <td id=\"T_32966_row3_col339\" class=\"data row3 col339\" >0</td>\n",
       "      <td id=\"T_32966_row3_col340\" class=\"data row3 col340\" >0</td>\n",
       "      <td id=\"T_32966_row3_col341\" class=\"data row3 col341\" >0</td>\n",
       "      <td id=\"T_32966_row3_col342\" class=\"data row3 col342\" >801</td>\n",
       "      <td id=\"T_32966_row3_col343\" class=\"data row3 col343\" >0</td>\n",
       "      <td id=\"T_32966_row3_col344\" class=\"data row3 col344\" >0</td>\n",
       "      <td id=\"T_32966_row3_col345\" class=\"data row3 col345\" >0</td>\n",
       "      <td id=\"T_32966_row3_col346\" class=\"data row3 col346\" >0</td>\n",
       "      <td id=\"T_32966_row3_col347\" class=\"data row3 col347\" >0</td>\n",
       "      <td id=\"T_32966_row3_col348\" class=\"data row3 col348\" >0</td>\n",
       "      <td id=\"T_32966_row3_col349\" class=\"data row3 col349\" >0</td>\n",
       "      <td id=\"T_32966_row3_col350\" class=\"data row3 col350\" >0</td>\n",
       "      <td id=\"T_32966_row3_col351\" class=\"data row3 col351\" >0</td>\n",
       "      <td id=\"T_32966_row3_col352\" class=\"data row3 col352\" >0</td>\n",
       "      <td id=\"T_32966_row3_col353\" class=\"data row3 col353\" >0</td>\n",
       "      <td id=\"T_32966_row3_col354\" class=\"data row3 col354\" >0</td>\n",
       "      <td id=\"T_32966_row3_col355\" class=\"data row3 col355\" >0</td>\n",
       "      <td id=\"T_32966_row3_col356\" class=\"data row3 col356\" >0</td>\n",
       "      <td id=\"T_32966_row3_col357\" class=\"data row3 col357\" >0</td>\n",
       "      <td id=\"T_32966_row3_col358\" class=\"data row3 col358\" >0</td>\n",
       "      <td id=\"T_32966_row3_col359\" class=\"data row3 col359\" >0</td>\n",
       "      <td id=\"T_32966_row3_col360\" class=\"data row3 col360\" >0</td>\n",
       "      <td id=\"T_32966_row3_col361\" class=\"data row3 col361\" >0</td>\n",
       "      <td id=\"T_32966_row3_col362\" class=\"data row3 col362\" >0</td>\n",
       "      <td id=\"T_32966_row3_col363\" class=\"data row3 col363\" >0</td>\n",
       "      <td id=\"T_32966_row3_col364\" class=\"data row3 col364\" >0</td>\n",
       "      <td id=\"T_32966_row3_col365\" class=\"data row3 col365\" >0</td>\n",
       "      <td id=\"T_32966_row3_col366\" class=\"data row3 col366\" >0</td>\n",
       "      <td id=\"T_32966_row3_col367\" class=\"data row3 col367\" >0</td>\n",
       "      <td id=\"T_32966_row3_col368\" class=\"data row3 col368\" >0</td>\n",
       "    </tr>\n",
       "    <tr>\n",
       "      <th id=\"T_32966_level0_row4\" class=\"row_heading level0 row4\" >18081</th>\n",
       "      <td id=\"T_32966_row4_col0\" class=\"data row4 col0\" >COID-4180632</td>\n",
       "      <td id=\"T_32966_row4_col1\" class=\"data row4 col1\" >20140300000000.000000</td>\n",
       "      <td id=\"T_32966_row4_col2\" class=\"data row4 col2\" >20140300000000.000000</td>\n",
       "      <td id=\"T_32966_row4_col3\" class=\"data row4 col3\" >OnL</td>\n",
       "      <td id=\"T_32966_row4_col4\" class=\"data row4 col4\" >External</td>\n",
       "      <td id=\"T_32966_row4_col5\" class=\"data row4 col5\" >none</td>\n",
       "      <td id=\"T_32966_row4_col6\" class=\"data row4 col6\" >ACCT-12561</td>\n",
       "      <td id=\"T_32966_row4_col7\" class=\"data row4 col7\" >CARD-12628</td>\n",
       "      <td id=\"T_32966_row4_col8\" class=\"data row4 col8\" >CARD-12628</td>\n",
       "      <td id=\"T_32966_row4_col9\" class=\"data row4 col9\" >DVID-112439</td>\n",
       "      <td id=\"T_32966_row4_col10\" class=\"data row4 col10\" >MRCH-269467</td>\n",
       "      <td id=\"T_32966_row4_col11\" class=\"data row4 col11\" >MERCHANT NAME: ANON(269467)</td>\n",
       "      <td id=\"T_32966_row4_col12\" class=\"data row4 col12\" >8398</td>\n",
       "      <td id=\"T_32966_row4_col13\" class=\"data row4 col13\" >ANON ADDRESS</td>\n",
       "      <td id=\"T_32966_row4_col14\" class=\"data row4 col14\" >who cares?</td>\n",
       "      <td id=\"T_32966_row4_col15\" class=\"data row4 col15\" >who cares?</td>\n",
       "      <td id=\"T_32966_row4_col16\" class=\"data row4 col16\" >LONDON</td>\n",
       "      <td id=\"T_32966_row4_col17\" class=\"data row4 col17\" >none</td>\n",
       "      <td id=\"T_32966_row4_col18\" class=\"data row4 col18\" >MISSING</td>\n",
       "      <td id=\"T_32966_row4_col19\" class=\"data row4 col19\" >GB</td>\n",
       "      <td id=\"T_32966_row4_col20\" class=\"data row4 col20\" >none</td>\n",
       "      <td id=\"T_32966_row4_col21\" class=\"data row4 col21\" >ACQR-715</td>\n",
       "      <td id=\"T_32966_row4_col22\" class=\"data row4 col22\" >none</td>\n",
       "      <td id=\"T_32966_row4_col23\" class=\"data row4 col23\" >AUTH-44549</td>\n",
       "      <td id=\"T_32966_row4_col24\" class=\"data row4 col24\" >20140300000000.000000</td>\n",
       "      <td id=\"T_32966_row4_col25\" class=\"data row4 col25\" >3</td>\n",
       "      <td id=\"T_32966_row4_col26\" class=\"data row4 col26\" >59</td>\n",
       "      <td id=\"T_32966_row4_col27\" class=\"data row4 col27\" >0</td>\n",
       "      <td id=\"T_32966_row4_col28\" class=\"data row4 col28\" >923</td>\n",
       "      <td id=\"T_32966_row4_col29\" class=\"data row4 col29\" >0</td>\n",
       "      <td id=\"T_32966_row4_col30\" class=\"data row4 col30\" >923</td>\n",
       "      <td id=\"T_32966_row4_col31\" class=\"data row4 col31\" >923</td>\n",
       "      <td id=\"T_32966_row4_col32\" class=\"data row4 col32\" >none</td>\n",
       "      <td id=\"T_32966_row4_col33\" class=\"data row4 col33\" >C</td>\n",
       "      <td id=\"T_32966_row4_col34\" class=\"data row4 col34\" >75</td>\n",
       "      <td id=\"T_32966_row4_col35\" class=\"data row4 col35\" >0</td>\n",
       "      <td id=\"T_32966_row4_col36\" class=\"data row4 col36\" >none</td>\n",
       "      <td id=\"T_32966_row4_col37\" class=\"data row4 col37\" >0</td>\n",
       "      <td id=\"T_32966_row4_col38\" class=\"data row4 col38\" >0</td>\n",
       "      <td id=\"T_32966_row4_col39\" class=\"data row4 col39\" >0</td>\n",
       "      <td id=\"T_32966_row4_col40\" class=\"data row4 col40\" >E-Commerce</td>\n",
       "      <td id=\"T_32966_row4_col41\" class=\"data row4 col41\" >2</td>\n",
       "      <td id=\"T_32966_row4_col42\" class=\"data row4 col42\" >TOP</td>\n",
       "      <td id=\"T_32966_row4_col43\" class=\"data row4 col43\" >N</td>\n",
       "      <td id=\"T_32966_row4_col44\" class=\"data row4 col44\" >N</td>\n",
       "      <td id=\"T_32966_row4_col45\" class=\"data row4 col45\" >none</td>\n",
       "      <td id=\"T_32966_row4_col46\" class=\"data row4 col46\" >none</td>\n",
       "      <td id=\"T_32966_row4_col47\" class=\"data row4 col47\" >none</td>\n",
       "      <td id=\"T_32966_row4_col48\" class=\"data row4 col48\" >none</td>\n",
       "      <td id=\"T_32966_row4_col49\" class=\"data row4 col49\" >none</td>\n",
       "      <td id=\"T_32966_row4_col50\" class=\"data row4 col50\" >none</td>\n",
       "      <td id=\"T_32966_row4_col51\" class=\"data row4 col51\" >none</td>\n",
       "      <td id=\"T_32966_row4_col52\" class=\"data row4 col52\" >N</td>\n",
       "      <td id=\"T_32966_row4_col53\" class=\"data row4 col53\" >none</td>\n",
       "      <td id=\"T_32966_row4_col54\" class=\"data row4 col54\" >none</td>\n",
       "      <td id=\"T_32966_row4_col55\" class=\"data row4 col55\" >none</td>\n",
       "      <td id=\"T_32966_row4_col56\" class=\"data row4 col56\" >LONDON</td>\n",
       "      <td id=\"T_32966_row4_col57\" class=\"data row4 col57\" >GB</td>\n",
       "      <td id=\"T_32966_row4_col58\" class=\"data row4 col58\" >MISSING</td>\n",
       "      <td id=\"T_32966_row4_col59\" class=\"data row4 col59\" >GB</td>\n",
       "      <td id=\"T_32966_row4_col60\" class=\"data row4 col60\" >Y</td>\n",
       "      <td id=\"T_32966_row4_col61\" class=\"data row4 col61\" >1</td>\n",
       "      <td id=\"T_32966_row4_col62\" class=\"data row4 col62\" >C</td>\n",
       "      <td id=\"T_32966_row4_col63\" class=\"data row4 col63\" >MISSING</td>\n",
       "      <td id=\"T_32966_row4_col64\" class=\"data row4 col64\" >MISSING</td>\n",
       "      <td id=\"T_32966_row4_col65\" class=\"data row4 col65\" >0</td>\n",
       "      <td id=\"T_32966_row4_col66\" class=\"data row4 col66\" >1</td>\n",
       "      <td id=\"T_32966_row4_col67\" class=\"data row4 col67\" >-1</td>\n",
       "      <td id=\"T_32966_row4_col68\" class=\"data row4 col68\" >-1</td>\n",
       "      <td id=\"T_32966_row4_col69\" class=\"data row4 col69\" >0</td>\n",
       "      <td id=\"T_32966_row4_col70\" class=\"data row4 col70\" >0</td>\n",
       "      <td id=\"T_32966_row4_col71\" class=\"data row4 col71\" >0</td>\n",
       "      <td id=\"T_32966_row4_col72\" class=\"data row4 col72\" >0</td>\n",
       "      <td id=\"T_32966_row4_col73\" class=\"data row4 col73\" >-317046</td>\n",
       "      <td id=\"T_32966_row4_col74\" class=\"data row4 col74\" >0</td>\n",
       "      <td id=\"T_32966_row4_col75\" class=\"data row4 col75\" >1</td>\n",
       "      <td id=\"T_32966_row4_col76\" class=\"data row4 col76\" >1</td>\n",
       "      <td id=\"T_32966_row4_col77\" class=\"data row4 col77\" >1</td>\n",
       "      <td id=\"T_32966_row4_col78\" class=\"data row4 col78\" >1</td>\n",
       "      <td id=\"T_32966_row4_col79\" class=\"data row4 col79\" >1</td>\n",
       "      <td id=\"T_32966_row4_col80\" class=\"data row4 col80\" >1</td>\n",
       "      <td id=\"T_32966_row4_col81\" class=\"data row4 col81\" >7393</td>\n",
       "      <td id=\"T_32966_row4_col82\" class=\"data row4 col82\" >7381</td>\n",
       "      <td id=\"T_32966_row4_col83\" class=\"data row4 col83\" >0</td>\n",
       "      <td id=\"T_32966_row4_col84\" class=\"data row4 col84\" >11</td>\n",
       "      <td id=\"T_32966_row4_col85\" class=\"data row4 col85\" >0</td>\n",
       "      <td id=\"T_32966_row4_col86\" class=\"data row4 col86\" >0</td>\n",
       "      <td id=\"T_32966_row4_col87\" class=\"data row4 col87\" >0</td>\n",
       "      <td id=\"T_32966_row4_col88\" class=\"data row4 col88\" >0</td>\n",
       "      <td id=\"T_32966_row4_col89\" class=\"data row4 col89\" >0</td>\n",
       "      <td id=\"T_32966_row4_col90\" class=\"data row4 col90\" >0</td>\n",
       "      <td id=\"T_32966_row4_col91\" class=\"data row4 col91\" >0</td>\n",
       "      <td id=\"T_32966_row4_col92\" class=\"data row4 col92\" >0</td>\n",
       "      <td id=\"T_32966_row4_col93\" class=\"data row4 col93\" >0</td>\n",
       "      <td id=\"T_32966_row4_col94\" class=\"data row4 col94\" >0</td>\n",
       "      <td id=\"T_32966_row4_col95\" class=\"data row4 col95\" >0</td>\n",
       "      <td id=\"T_32966_row4_col96\" class=\"data row4 col96\" >0</td>\n",
       "      <td id=\"T_32966_row4_col97\" class=\"data row4 col97\" >0</td>\n",
       "      <td id=\"T_32966_row4_col98\" class=\"data row4 col98\" >0</td>\n",
       "      <td id=\"T_32966_row4_col99\" class=\"data row4 col99\" >0</td>\n",
       "      <td id=\"T_32966_row4_col100\" class=\"data row4 col100\" >0</td>\n",
       "      <td id=\"T_32966_row4_col101\" class=\"data row4 col101\" >0</td>\n",
       "      <td id=\"T_32966_row4_col102\" class=\"data row4 col102\" >0</td>\n",
       "      <td id=\"T_32966_row4_col103\" class=\"data row4 col103\" >0</td>\n",
       "      <td id=\"T_32966_row4_col104\" class=\"data row4 col104\" >0</td>\n",
       "      <td id=\"T_32966_row4_col105\" class=\"data row4 col105\" >0</td>\n",
       "      <td id=\"T_32966_row4_col106\" class=\"data row4 col106\" >0</td>\n",
       "      <td id=\"T_32966_row4_col107\" class=\"data row4 col107\" >0</td>\n",
       "      <td id=\"T_32966_row4_col108\" class=\"data row4 col108\" >0</td>\n",
       "      <td id=\"T_32966_row4_col109\" class=\"data row4 col109\" >0</td>\n",
       "      <td id=\"T_32966_row4_col110\" class=\"data row4 col110\" >0</td>\n",
       "      <td id=\"T_32966_row4_col111\" class=\"data row4 col111\" >0</td>\n",
       "      <td id=\"T_32966_row4_col112\" class=\"data row4 col112\" >0</td>\n",
       "      <td id=\"T_32966_row4_col113\" class=\"data row4 col113\" >0</td>\n",
       "      <td id=\"T_32966_row4_col114\" class=\"data row4 col114\" >1</td>\n",
       "      <td id=\"T_32966_row4_col115\" class=\"data row4 col115\" >1</td>\n",
       "      <td id=\"T_32966_row4_col116\" class=\"data row4 col116\" >0</td>\n",
       "      <td id=\"T_32966_row4_col117\" class=\"data row4 col117\" >0</td>\n",
       "      <td id=\"T_32966_row4_col118\" class=\"data row4 col118\" >0</td>\n",
       "      <td id=\"T_32966_row4_col119\" class=\"data row4 col119\" >7393</td>\n",
       "      <td id=\"T_32966_row4_col120\" class=\"data row4 col120\" >7381</td>\n",
       "      <td id=\"T_32966_row4_col121\" class=\"data row4 col121\" >0</td>\n",
       "      <td id=\"T_32966_row4_col122\" class=\"data row4 col122\" >11</td>\n",
       "      <td id=\"T_32966_row4_col123\" class=\"data row4 col123\" >0</td>\n",
       "      <td id=\"T_32966_row4_col124\" class=\"data row4 col124\" >0</td>\n",
       "      <td id=\"T_32966_row4_col125\" class=\"data row4 col125\" >0</td>\n",
       "      <td id=\"T_32966_row4_col126\" class=\"data row4 col126\" >8305</td>\n",
       "      <td id=\"T_32966_row4_col127\" class=\"data row4 col127\" >8305</td>\n",
       "      <td id=\"T_32966_row4_col128\" class=\"data row4 col128\" >8305</td>\n",
       "      <td id=\"T_32966_row4_col129\" class=\"data row4 col129\" >8305</td>\n",
       "      <td id=\"T_32966_row4_col130\" class=\"data row4 col130\" >8305</td>\n",
       "      <td id=\"T_32966_row4_col131\" class=\"data row4 col131\" >8305</td>\n",
       "      <td id=\"T_32966_row4_col132\" class=\"data row4 col132\" >0</td>\n",
       "      <td id=\"T_32966_row4_col133\" class=\"data row4 col133\" >0</td>\n",
       "      <td id=\"T_32966_row4_col134\" class=\"data row4 col134\" >0</td>\n",
       "      <td id=\"T_32966_row4_col135\" class=\"data row4 col135\" >0</td>\n",
       "      <td id=\"T_32966_row4_col136\" class=\"data row4 col136\" >0</td>\n",
       "      <td id=\"T_32966_row4_col137\" class=\"data row4 col137\" >0</td>\n",
       "      <td id=\"T_32966_row4_col138\" class=\"data row4 col138\" >0</td>\n",
       "      <td id=\"T_32966_row4_col139\" class=\"data row4 col139\" >7</td>\n",
       "      <td id=\"T_32966_row4_col140\" class=\"data row4 col140\" >4</td>\n",
       "      <td id=\"T_32966_row4_col141\" class=\"data row4 col141\" >0</td>\n",
       "      <td id=\"T_32966_row4_col142\" class=\"data row4 col142\" >1</td>\n",
       "      <td id=\"T_32966_row4_col143\" class=\"data row4 col143\" >0</td>\n",
       "      <td id=\"T_32966_row4_col144\" class=\"data row4 col144\" >0</td>\n",
       "      <td id=\"T_32966_row4_col145\" class=\"data row4 col145\" >0</td>\n",
       "      <td id=\"T_32966_row4_col146\" class=\"data row4 col146\" >8342</td>\n",
       "      <td id=\"T_32966_row4_col147\" class=\"data row4 col147\" >8305</td>\n",
       "      <td id=\"T_32966_row4_col148\" class=\"data row4 col148\" >0</td>\n",
       "      <td id=\"T_32966_row4_col149\" class=\"data row4 col149\" >11</td>\n",
       "      <td id=\"T_32966_row4_col150\" class=\"data row4 col150\" >0</td>\n",
       "      <td id=\"T_32966_row4_col151\" class=\"data row4 col151\" >0</td>\n",
       "      <td id=\"T_32966_row4_col152\" class=\"data row4 col152\" >0</td>\n",
       "      <td id=\"T_32966_row4_col153\" class=\"data row4 col153\" >0</td>\n",
       "      <td id=\"T_32966_row4_col154\" class=\"data row4 col154\" >0</td>\n",
       "      <td id=\"T_32966_row4_col155\" class=\"data row4 col155\" >0</td>\n",
       "      <td id=\"T_32966_row4_col156\" class=\"data row4 col156\" >0</td>\n",
       "      <td id=\"T_32966_row4_col157\" class=\"data row4 col157\" >0</td>\n",
       "      <td id=\"T_32966_row4_col158\" class=\"data row4 col158\" >0</td>\n",
       "      <td id=\"T_32966_row4_col159\" class=\"data row4 col159\" >0</td>\n",
       "      <td id=\"T_32966_row4_col160\" class=\"data row4 col160\" >3</td>\n",
       "      <td id=\"T_32966_row4_col161\" class=\"data row4 col161\" >0</td>\n",
       "      <td id=\"T_32966_row4_col162\" class=\"data row4 col162\" >0</td>\n",
       "      <td id=\"T_32966_row4_col163\" class=\"data row4 col163\" >1</td>\n",
       "      <td id=\"T_32966_row4_col164\" class=\"data row4 col164\" >0</td>\n",
       "      <td id=\"T_32966_row4_col165\" class=\"data row4 col165\" >0</td>\n",
       "      <td id=\"T_32966_row4_col166\" class=\"data row4 col166\" >0</td>\n",
       "      <td id=\"T_32966_row4_col167\" class=\"data row4 col167\" >8342</td>\n",
       "      <td id=\"T_32966_row4_col168\" class=\"data row4 col168\" >8305</td>\n",
       "      <td id=\"T_32966_row4_col169\" class=\"data row4 col169\" >0</td>\n",
       "      <td id=\"T_32966_row4_col170\" class=\"data row4 col170\" >11</td>\n",
       "      <td id=\"T_32966_row4_col171\" class=\"data row4 col171\" >0</td>\n",
       "      <td id=\"T_32966_row4_col172\" class=\"data row4 col172\" >0</td>\n",
       "      <td id=\"T_32966_row4_col173\" class=\"data row4 col173\" >0</td>\n",
       "      <td id=\"T_32966_row4_col174\" class=\"data row4 col174\" >0</td>\n",
       "      <td id=\"T_32966_row4_col175\" class=\"data row4 col175\" >0</td>\n",
       "      <td id=\"T_32966_row4_col176\" class=\"data row4 col176\" >0</td>\n",
       "      <td id=\"T_32966_row4_col177\" class=\"data row4 col177\" >0</td>\n",
       "      <td id=\"T_32966_row4_col178\" class=\"data row4 col178\" >0</td>\n",
       "      <td id=\"T_32966_row4_col179\" class=\"data row4 col179\" >0</td>\n",
       "      <td id=\"T_32966_row4_col180\" class=\"data row4 col180\" >0</td>\n",
       "      <td id=\"T_32966_row4_col181\" class=\"data row4 col181\" >3</td>\n",
       "      <td id=\"T_32966_row4_col182\" class=\"data row4 col182\" >2</td>\n",
       "      <td id=\"T_32966_row4_col183\" class=\"data row4 col183\" >0</td>\n",
       "      <td id=\"T_32966_row4_col184\" class=\"data row4 col184\" >1</td>\n",
       "      <td id=\"T_32966_row4_col185\" class=\"data row4 col185\" >0</td>\n",
       "      <td id=\"T_32966_row4_col186\" class=\"data row4 col186\" >0</td>\n",
       "      <td id=\"T_32966_row4_col187\" class=\"data row4 col187\" >0</td>\n",
       "      <td id=\"T_32966_row4_col188\" class=\"data row4 col188\" >0</td>\n",
       "      <td id=\"T_32966_row4_col189\" class=\"data row4 col189\" >0</td>\n",
       "      <td id=\"T_32966_row4_col190\" class=\"data row4 col190\" >0</td>\n",
       "      <td id=\"T_32966_row4_col191\" class=\"data row4 col191\" >0</td>\n",
       "      <td id=\"T_32966_row4_col192\" class=\"data row4 col192\" >0</td>\n",
       "      <td id=\"T_32966_row4_col193\" class=\"data row4 col193\" >0</td>\n",
       "      <td id=\"T_32966_row4_col194\" class=\"data row4 col194\" >0</td>\n",
       "      <td id=\"T_32966_row4_col195\" class=\"data row4 col195\" >2</td>\n",
       "      <td id=\"T_32966_row4_col196\" class=\"data row4 col196\" >1</td>\n",
       "      <td id=\"T_32966_row4_col197\" class=\"data row4 col197\" >0</td>\n",
       "      <td id=\"T_32966_row4_col198\" class=\"data row4 col198\" >1</td>\n",
       "      <td id=\"T_32966_row4_col199\" class=\"data row4 col199\" >0</td>\n",
       "      <td id=\"T_32966_row4_col200\" class=\"data row4 col200\" >4</td>\n",
       "      <td id=\"T_32966_row4_col201\" class=\"data row4 col201\" >2</td>\n",
       "      <td id=\"T_32966_row4_col202\" class=\"data row4 col202\" >0</td>\n",
       "      <td id=\"T_32966_row4_col203\" class=\"data row4 col203\" >0</td>\n",
       "      <td id=\"T_32966_row4_col204\" class=\"data row4 col204\" >0</td>\n",
       "      <td id=\"T_32966_row4_col205\" class=\"data row4 col205\" >0</td>\n",
       "      <td id=\"T_32966_row4_col206\" class=\"data row4 col206\" >0</td>\n",
       "      <td id=\"T_32966_row4_col207\" class=\"data row4 col207\" >0</td>\n",
       "      <td id=\"T_32966_row4_col208\" class=\"data row4 col208\" >0</td>\n",
       "      <td id=\"T_32966_row4_col209\" class=\"data row4 col209\" >0</td>\n",
       "      <td id=\"T_32966_row4_col210\" class=\"data row4 col210\" >0</td>\n",
       "      <td id=\"T_32966_row4_col211\" class=\"data row4 col211\" >0</td>\n",
       "      <td id=\"T_32966_row4_col212\" class=\"data row4 col212\" >0</td>\n",
       "      <td id=\"T_32966_row4_col213\" class=\"data row4 col213\" >0</td>\n",
       "      <td id=\"T_32966_row4_col214\" class=\"data row4 col214\" >0</td>\n",
       "      <td id=\"T_32966_row4_col215\" class=\"data row4 col215\" >0</td>\n",
       "      <td id=\"T_32966_row4_col216\" class=\"data row4 col216\" >0</td>\n",
       "      <td id=\"T_32966_row4_col217\" class=\"data row4 col217\" >0</td>\n",
       "      <td id=\"T_32966_row4_col218\" class=\"data row4 col218\" >0</td>\n",
       "      <td id=\"T_32966_row4_col219\" class=\"data row4 col219\" >0</td>\n",
       "      <td id=\"T_32966_row4_col220\" class=\"data row4 col220\" >3</td>\n",
       "      <td id=\"T_32966_row4_col221\" class=\"data row4 col221\" >2</td>\n",
       "      <td id=\"T_32966_row4_col222\" class=\"data row4 col222\" >0</td>\n",
       "      <td id=\"T_32966_row4_col223\" class=\"data row4 col223\" >1</td>\n",
       "      <td id=\"T_32966_row4_col224\" class=\"data row4 col224\" >0</td>\n",
       "      <td id=\"T_32966_row4_col225\" class=\"data row4 col225\" >0</td>\n",
       "      <td id=\"T_32966_row4_col226\" class=\"data row4 col226\" >0</td>\n",
       "      <td id=\"T_32966_row4_col227\" class=\"data row4 col227\" >0</td>\n",
       "      <td id=\"T_32966_row4_col228\" class=\"data row4 col228\" >0</td>\n",
       "      <td id=\"T_32966_row4_col229\" class=\"data row4 col229\" >0</td>\n",
       "      <td id=\"T_32966_row4_col230\" class=\"data row4 col230\" >0</td>\n",
       "      <td id=\"T_32966_row4_col231\" class=\"data row4 col231\" >0</td>\n",
       "      <td id=\"T_32966_row4_col232\" class=\"data row4 col232\" >0</td>\n",
       "      <td id=\"T_32966_row4_col233\" class=\"data row4 col233\" >0</td>\n",
       "      <td id=\"T_32966_row4_col234\" class=\"data row4 col234\" >7</td>\n",
       "      <td id=\"T_32966_row4_col235\" class=\"data row4 col235\" >4</td>\n",
       "      <td id=\"T_32966_row4_col236\" class=\"data row4 col236\" >0</td>\n",
       "      <td id=\"T_32966_row4_col237\" class=\"data row4 col237\" >1</td>\n",
       "      <td id=\"T_32966_row4_col238\" class=\"data row4 col238\" >0</td>\n",
       "      <td id=\"T_32966_row4_col239\" class=\"data row4 col239\" >0</td>\n",
       "      <td id=\"T_32966_row4_col240\" class=\"data row4 col240\" >0</td>\n",
       "      <td id=\"T_32966_row4_col241\" class=\"data row4 col241\" >-7</td>\n",
       "      <td id=\"T_32966_row4_col242\" class=\"data row4 col242\" >0</td>\n",
       "      <td id=\"T_32966_row4_col243\" class=\"data row4 col243\" >0</td>\n",
       "      <td id=\"T_32966_row4_col244\" class=\"data row4 col244\" >0</td>\n",
       "      <td id=\"T_32966_row4_col245\" class=\"data row4 col245\" >0</td>\n",
       "      <td id=\"T_32966_row4_col246\" class=\"data row4 col246\" >0</td>\n",
       "      <td id=\"T_32966_row4_col247\" class=\"data row4 col247\" >0</td>\n",
       "      <td id=\"T_32966_row4_col248\" class=\"data row4 col248\" >0</td>\n",
       "      <td id=\"T_32966_row4_col249\" class=\"data row4 col249\" >0</td>\n",
       "      <td id=\"T_32966_row4_col250\" class=\"data row4 col250\" >0</td>\n",
       "      <td id=\"T_32966_row4_col251\" class=\"data row4 col251\" >0</td>\n",
       "      <td id=\"T_32966_row4_col252\" class=\"data row4 col252\" >0</td>\n",
       "      <td id=\"T_32966_row4_col253\" class=\"data row4 col253\" >0</td>\n",
       "      <td id=\"T_32966_row4_col254\" class=\"data row4 col254\" >0</td>\n",
       "      <td id=\"T_32966_row4_col255\" class=\"data row4 col255\" >0</td>\n",
       "      <td id=\"T_32966_row4_col256\" class=\"data row4 col256\" >0</td>\n",
       "      <td id=\"T_32966_row4_col257\" class=\"data row4 col257\" >0</td>\n",
       "      <td id=\"T_32966_row4_col258\" class=\"data row4 col258\" >0</td>\n",
       "      <td id=\"T_32966_row4_col259\" class=\"data row4 col259\" >0</td>\n",
       "      <td id=\"T_32966_row4_col260\" class=\"data row4 col260\" >0</td>\n",
       "      <td id=\"T_32966_row4_col261\" class=\"data row4 col261\" >0</td>\n",
       "      <td id=\"T_32966_row4_col262\" class=\"data row4 col262\" >4</td>\n",
       "      <td id=\"T_32966_row4_col263\" class=\"data row4 col263\" >4</td>\n",
       "      <td id=\"T_32966_row4_col264\" class=\"data row4 col264\" >4</td>\n",
       "      <td id=\"T_32966_row4_col265\" class=\"data row4 col265\" >4</td>\n",
       "      <td id=\"T_32966_row4_col266\" class=\"data row4 col266\" >4</td>\n",
       "      <td id=\"T_32966_row4_col267\" class=\"data row4 col267\" >4</td>\n",
       "      <td id=\"T_32966_row4_col268\" class=\"data row4 col268\" >0</td>\n",
       "      <td id=\"T_32966_row4_col269\" class=\"data row4 col269\" >0</td>\n",
       "      <td id=\"T_32966_row4_col270\" class=\"data row4 col270\" >0</td>\n",
       "      <td id=\"T_32966_row4_col271\" class=\"data row4 col271\" >0</td>\n",
       "      <td id=\"T_32966_row4_col272\" class=\"data row4 col272\" >0</td>\n",
       "      <td id=\"T_32966_row4_col273\" class=\"data row4 col273\" >0</td>\n",
       "      <td id=\"T_32966_row4_col274\" class=\"data row4 col274\" >0</td>\n",
       "      <td id=\"T_32966_row4_col275\" class=\"data row4 col275\" >0</td>\n",
       "      <td id=\"T_32966_row4_col276\" class=\"data row4 col276\" >0</td>\n",
       "      <td id=\"T_32966_row4_col277\" class=\"data row4 col277\" >0</td>\n",
       "      <td id=\"T_32966_row4_col278\" class=\"data row4 col278\" >0</td>\n",
       "      <td id=\"T_32966_row4_col279\" class=\"data row4 col279\" >0</td>\n",
       "      <td id=\"T_32966_row4_col280\" class=\"data row4 col280\" >0</td>\n",
       "      <td id=\"T_32966_row4_col281\" class=\"data row4 col281\" >0</td>\n",
       "      <td id=\"T_32966_row4_col282\" class=\"data row4 col282\" >1</td>\n",
       "      <td id=\"T_32966_row4_col283\" class=\"data row4 col283\" >1</td>\n",
       "      <td id=\"T_32966_row4_col284\" class=\"data row4 col284\" >0</td>\n",
       "      <td id=\"T_32966_row4_col285\" class=\"data row4 col285\" >0</td>\n",
       "      <td id=\"T_32966_row4_col286\" class=\"data row4 col286\" >0</td>\n",
       "      <td id=\"T_32966_row4_col287\" class=\"data row4 col287\" >0</td>\n",
       "      <td id=\"T_32966_row4_col288\" class=\"data row4 col288\" >0</td>\n",
       "      <td id=\"T_32966_row4_col289\" class=\"data row4 col289\" >0</td>\n",
       "      <td id=\"T_32966_row4_col290\" class=\"data row4 col290\" >0</td>\n",
       "      <td id=\"T_32966_row4_col291\" class=\"data row4 col291\" >0</td>\n",
       "      <td id=\"T_32966_row4_col292\" class=\"data row4 col292\" >0</td>\n",
       "      <td id=\"T_32966_row4_col293\" class=\"data row4 col293\" >0</td>\n",
       "      <td id=\"T_32966_row4_col294\" class=\"data row4 col294\" >0</td>\n",
       "      <td id=\"T_32966_row4_col295\" class=\"data row4 col295\" >0</td>\n",
       "      <td id=\"T_32966_row4_col296\" class=\"data row4 col296\" >0</td>\n",
       "      <td id=\"T_32966_row4_col297\" class=\"data row4 col297\" >0</td>\n",
       "      <td id=\"T_32966_row4_col298\" class=\"data row4 col298\" >0</td>\n",
       "      <td id=\"T_32966_row4_col299\" class=\"data row4 col299\" >12</td>\n",
       "      <td id=\"T_32966_row4_col300\" class=\"data row4 col300\" >1</td>\n",
       "      <td id=\"T_32966_row4_col301\" class=\"data row4 col301\" >0</td>\n",
       "      <td id=\"T_32966_row4_col302\" class=\"data row4 col302\" >11</td>\n",
       "      <td id=\"T_32966_row4_col303\" class=\"data row4 col303\" >0</td>\n",
       "      <td id=\"T_32966_row4_col304\" class=\"data row4 col304\" >0</td>\n",
       "      <td id=\"T_32966_row4_col305\" class=\"data row4 col305\" >0</td>\n",
       "      <td id=\"T_32966_row4_col306\" class=\"data row4 col306\" >0</td>\n",
       "      <td id=\"T_32966_row4_col307\" class=\"data row4 col307\" >0</td>\n",
       "      <td id=\"T_32966_row4_col308\" class=\"data row4 col308\" >0</td>\n",
       "      <td id=\"T_32966_row4_col309\" class=\"data row4 col309\" >0</td>\n",
       "      <td id=\"T_32966_row4_col310\" class=\"data row4 col310\" >0</td>\n",
       "      <td id=\"T_32966_row4_col311\" class=\"data row4 col311\" >0</td>\n",
       "      <td id=\"T_32966_row4_col312\" class=\"data row4 col312\" >0</td>\n",
       "      <td id=\"T_32966_row4_col313\" class=\"data row4 col313\" >0</td>\n",
       "      <td id=\"T_32966_row4_col314\" class=\"data row4 col314\" >0</td>\n",
       "      <td id=\"T_32966_row4_col315\" class=\"data row4 col315\" >0</td>\n",
       "      <td id=\"T_32966_row4_col316\" class=\"data row4 col316\" >0</td>\n",
       "      <td id=\"T_32966_row4_col317\" class=\"data row4 col317\" >0</td>\n",
       "      <td id=\"T_32966_row4_col318\" class=\"data row4 col318\" >-4</td>\n",
       "      <td id=\"T_32966_row4_col319\" class=\"data row4 col319\" >0.000000</td>\n",
       "      <td id=\"T_32966_row4_col320\" class=\"data row4 col320\" >-1</td>\n",
       "      <td id=\"T_32966_row4_col321\" class=\"data row4 col321\" >0</td>\n",
       "      <td id=\"T_32966_row4_col322\" class=\"data row4 col322\" >0</td>\n",
       "      <td id=\"T_32966_row4_col323\" class=\"data row4 col323\" >0</td>\n",
       "      <td id=\"T_32966_row4_col324\" class=\"data row4 col324\" >0</td>\n",
       "      <td id=\"T_32966_row4_col325\" class=\"data row4 col325\" >0</td>\n",
       "      <td id=\"T_32966_row4_col326\" class=\"data row4 col326\" >0</td>\n",
       "      <td id=\"T_32966_row4_col327\" class=\"data row4 col327\" >0</td>\n",
       "      <td id=\"T_32966_row4_col328\" class=\"data row4 col328\" >0</td>\n",
       "      <td id=\"T_32966_row4_col329\" class=\"data row4 col329\" >1</td>\n",
       "      <td id=\"T_32966_row4_col330\" class=\"data row4 col330\" >1</td>\n",
       "      <td id=\"T_32966_row4_col331\" class=\"data row4 col331\" >1</td>\n",
       "      <td id=\"T_32966_row4_col332\" class=\"data row4 col332\" >1</td>\n",
       "      <td id=\"T_32966_row4_col333\" class=\"data row4 col333\" >1</td>\n",
       "      <td id=\"T_32966_row4_col334\" class=\"data row4 col334\" >1</td>\n",
       "      <td id=\"T_32966_row4_col335\" class=\"data row4 col335\" >0</td>\n",
       "      <td id=\"T_32966_row4_col336\" class=\"data row4 col336\" >0</td>\n",
       "      <td id=\"T_32966_row4_col337\" class=\"data row4 col337\" >0</td>\n",
       "      <td id=\"T_32966_row4_col338\" class=\"data row4 col338\" >0</td>\n",
       "      <td id=\"T_32966_row4_col339\" class=\"data row4 col339\" >0</td>\n",
       "      <td id=\"T_32966_row4_col340\" class=\"data row4 col340\" >0</td>\n",
       "      <td id=\"T_32966_row4_col341\" class=\"data row4 col341\" >0</td>\n",
       "      <td id=\"T_32966_row4_col342\" class=\"data row4 col342\" >0</td>\n",
       "      <td id=\"T_32966_row4_col343\" class=\"data row4 col343\" >0</td>\n",
       "      <td id=\"T_32966_row4_col344\" class=\"data row4 col344\" >0</td>\n",
       "      <td id=\"T_32966_row4_col345\" class=\"data row4 col345\" >0</td>\n",
       "      <td id=\"T_32966_row4_col346\" class=\"data row4 col346\" >0</td>\n",
       "      <td id=\"T_32966_row4_col347\" class=\"data row4 col347\" >0</td>\n",
       "      <td id=\"T_32966_row4_col348\" class=\"data row4 col348\" >0</td>\n",
       "      <td id=\"T_32966_row4_col349\" class=\"data row4 col349\" >0</td>\n",
       "      <td id=\"T_32966_row4_col350\" class=\"data row4 col350\" >0</td>\n",
       "      <td id=\"T_32966_row4_col351\" class=\"data row4 col351\" >0</td>\n",
       "      <td id=\"T_32966_row4_col352\" class=\"data row4 col352\" >0</td>\n",
       "      <td id=\"T_32966_row4_col353\" class=\"data row4 col353\" >0</td>\n",
       "      <td id=\"T_32966_row4_col354\" class=\"data row4 col354\" >1</td>\n",
       "      <td id=\"T_32966_row4_col355\" class=\"data row4 col355\" >1</td>\n",
       "      <td id=\"T_32966_row4_col356\" class=\"data row4 col356\" >1</td>\n",
       "      <td id=\"T_32966_row4_col357\" class=\"data row4 col357\" >1</td>\n",
       "      <td id=\"T_32966_row4_col358\" class=\"data row4 col358\" >1</td>\n",
       "      <td id=\"T_32966_row4_col359\" class=\"data row4 col359\" >1</td>\n",
       "      <td id=\"T_32966_row4_col360\" class=\"data row4 col360\" >0</td>\n",
       "      <td id=\"T_32966_row4_col361\" class=\"data row4 col361\" >0</td>\n",
       "      <td id=\"T_32966_row4_col362\" class=\"data row4 col362\" >0</td>\n",
       "      <td id=\"T_32966_row4_col363\" class=\"data row4 col363\" >0</td>\n",
       "      <td id=\"T_32966_row4_col364\" class=\"data row4 col364\" >0</td>\n",
       "      <td id=\"T_32966_row4_col365\" class=\"data row4 col365\" >0</td>\n",
       "      <td id=\"T_32966_row4_col366\" class=\"data row4 col366\" >0</td>\n",
       "      <td id=\"T_32966_row4_col367\" class=\"data row4 col367\" >0</td>\n",
       "      <td id=\"T_32966_row4_col368\" class=\"data row4 col368\" >0</td>\n",
       "    </tr>\n",
       "  </tbody>\n",
       "</table>\n"
      ],
      "text/plain": [
       "<pandas.io.formats.style.Styler at 0x7fefc97f3070>"
      ]
     },
     "execution_count": 21,
     "metadata": {},
     "output_type": "execute_result"
    }
   ],
   "source": [
    "# Identify indices of rows with missing data\n",
    "indices_with_missing_data = df_dropped[df_dropped.isnull().any(axis=1)].index.tolist()\n",
    "\n",
    "# Select a random sample of 5 indices\n",
    "random_sample_indices = random.sample(indices_with_missing_data, 5)\n",
    "\n",
    "# Extract the rows corresponding to the random sample indices\n",
    "sampled_rows_with_missing_data = df_dropped.loc[random_sample_indices]\n",
    "\n",
    "# Display the rows in a way that allows scrolling through all values\n",
    "sampled_rows_with_missing_data.style.set_properties(**{'text-align': 'left'}).set_table_styles([{\n",
    "    'selector': 'th',\n",
    "    'props': [('text-align', 'left')]\n",
    "}]).format(None, na_rep='MISSING')"
   ]
  },
  {
   "cell_type": "code",
   "execution_count": 22,
   "id": "68ae8cd8-fb50-4bca-b945-35f133b0a24e",
   "metadata": {},
   "outputs": [],
   "source": [
    "# Calculate the percentage of missing data in each column of the reduced dataset\n",
    "missing_data_percentage_after_dropping = df_dropped.isnull().mean() * 100\n",
    "columns_with_missing_data_after_dropping = missing_data_percentage_after_dropping[missing_data_percentage_after_dropping > 0]\n",
    "\n",
    "# Convert the series to a DataFrame for better presentation\n",
    "missing_data_after_dropping_df = pd.DataFrame(columns_with_missing_data_after_dropping).reset_index()\n",
    "missing_data_after_dropping_df.columns = ['Dataset Column', 'PCT of Values Missing']"
   ]
  },
  {
   "cell_type": "code",
   "execution_count": 23,
   "id": "ac3cec80-7375-451e-8c59-43ebe2e59b0a",
   "metadata": {},
   "outputs": [
    {
     "data": {
      "text/html": [
       "<style type=\"text/css\">\n",
       "#T_9156a th {\n",
       "  text-align: left;\n",
       "}\n",
       "#T_9156a_row0_col0, #T_9156a_row0_col1, #T_9156a_row1_col0, #T_9156a_row1_col1, #T_9156a_row2_col0, #T_9156a_row2_col1, #T_9156a_row3_col0, #T_9156a_row3_col1, #T_9156a_row4_col0, #T_9156a_row4_col1, #T_9156a_row5_col0, #T_9156a_row5_col1, #T_9156a_row6_col0, #T_9156a_row6_col1 {\n",
       "  text-align: left;\n",
       "}\n",
       "</style>\n",
       "<table id=\"T_9156a\">\n",
       "  <thead>\n",
       "    <tr>\n",
       "      <th class=\"blank level0\" >&nbsp;</th>\n",
       "      <th id=\"T_9156a_level0_col0\" class=\"col_heading level0 col0\" >Dataset Column</th>\n",
       "      <th id=\"T_9156a_level0_col1\" class=\"col_heading level0 col1\" >PCT of Values Missing</th>\n",
       "    </tr>\n",
       "  </thead>\n",
       "  <tbody>\n",
       "    <tr>\n",
       "      <th id=\"T_9156a_level0_row0\" class=\"row_heading level0 row0\" >1</th>\n",
       "      <td id=\"T_9156a_row0_col0\" class=\"data row0 col0\" >MerchantPostalCode</td>\n",
       "      <td id=\"T_9156a_row0_col1\" class=\"data row0 col1\" >1.038682</td>\n",
       "    </tr>\n",
       "    <tr>\n",
       "      <th id=\"T_9156a_level0_row1\" class=\"row_heading level0 row1\" >3</th>\n",
       "      <td id=\"T_9156a_row1_col0\" class=\"data row1 col0\" >DevicePostalCode</td>\n",
       "      <td id=\"T_9156a_row1_col1\" class=\"data row1 col1\" >1.038682</td>\n",
       "    </tr>\n",
       "    <tr>\n",
       "      <th id=\"T_9156a_level0_row2\" class=\"row_heading level0 row2\" >4</th>\n",
       "      <td id=\"T_9156a_row2_col0\" class=\"data row2 col0\" >MerchantFSA</td>\n",
       "      <td id=\"T_9156a_row2_col1\" class=\"data row2 col1\" >1.038682</td>\n",
       "    </tr>\n",
       "    <tr>\n",
       "      <th id=\"T_9156a_level0_row3\" class=\"row_heading level0 row3\" >5</th>\n",
       "      <td id=\"T_9156a_row3_col0\" class=\"data row3 col0\" >DeviceFSA</td>\n",
       "      <td id=\"T_9156a_row3_col1\" class=\"data row3 col1\" >1.038682</td>\n",
       "    </tr>\n",
       "    <tr>\n",
       "      <th id=\"T_9156a_level0_row4\" class=\"row_heading level0 row4\" >0</th>\n",
       "      <td id=\"T_9156a_row4_col0\" class=\"data row4 col0\" >MerchantCity</td>\n",
       "      <td id=\"T_9156a_row4_col1\" class=\"data row4 col1\" >0.151226</td>\n",
       "    </tr>\n",
       "    <tr>\n",
       "      <th id=\"T_9156a_level0_row5\" class=\"row_heading level0 row5\" >2</th>\n",
       "      <td id=\"T_9156a_row5_col0\" class=\"data row5 col0\" >DeviceCity</td>\n",
       "      <td id=\"T_9156a_row5_col1\" class=\"data row5 col1\" >0.151226</td>\n",
       "    </tr>\n",
       "    <tr>\n",
       "      <th id=\"T_9156a_level0_row6\" class=\"row_heading level0 row6\" >6</th>\n",
       "      <td id=\"T_9156a_row6_col0\" class=\"data row6 col0\" >OnlinePOSCount.cnt.day.past1</td>\n",
       "      <td id=\"T_9156a_row6_col1\" class=\"data row6 col1\" >0.003980</td>\n",
       "    </tr>\n",
       "  </tbody>\n",
       "</table>\n"
      ],
      "text/plain": [
       "<pandas.io.formats.style.Styler at 0x7fefc95bd3d0>"
      ]
     },
     "execution_count": 23,
     "metadata": {},
     "output_type": "execute_result"
    }
   ],
   "source": [
    "# Order the DataFrame by 'PCT of Values Missing' in descending order\n",
    "missing_data_sorted_df = missing_data_after_dropping_df.sort_values(by='PCT of Values Missing', ascending=False)\n",
    "\n",
    "# Display the sorted DataFrame\n",
    "missing_data_sorted_df.style.set_properties(**{'text-align': 'left'}).set_table_styles([{\n",
    "    'selector': 'th',\n",
    "    'props': [('text-align', 'left')]\n",
    "}])"
   ]
  },
  {
   "cell_type": "markdown",
   "id": "3b49fd41-a541-437c-86b4-d4b516c23424",
   "metadata": {},
   "source": [
    "Quick re-check of rows with missing values"
   ]
  },
  {
   "cell_type": "code",
   "execution_count": 24,
   "id": "a94b9c2f-2fe4-42af-8d54-d59cc947cffb",
   "metadata": {},
   "outputs": [
    {
     "name": "stdout",
     "output_type": "stream",
     "text": [
      "Rows with missing values, and percentage of cells with missing data:\n",
      "\n"
     ]
    },
    {
     "data": {
      "text/plain": [
       "(297, 1.1819484240687679)"
      ]
     },
     "execution_count": 24,
     "metadata": {},
     "output_type": "execute_result"
    }
   ],
   "source": [
    "# Check if any rows in the dataset still have missing data\n",
    "rows_with_missing_data = df_dropped.isnull().any(axis=1).sum()\n",
    "rows_with_missing_data_percentage = (rows_with_missing_data / len(df_dropped)) * 100\n",
    "\n",
    "print(\"Rows with missing values, and percentage of cells with missing data:\\n\")\n",
    "rows_with_missing_data, rows_with_missing_data_percentage"
   ]
  },
  {
   "cell_type": "markdown",
   "id": "06d1d4e9-30db-4513-8f58-69f9d05a5a55",
   "metadata": {},
   "source": [
    "Quick re-check of columns with missing values"
   ]
  },
  {
   "cell_type": "code",
   "execution_count": 25,
   "id": "ca249a0c-5526-47e8-96b1-5de7abecef96",
   "metadata": {},
   "outputs": [],
   "source": [
    "# Determine the threshold for missing values\n",
    "threshold2 = 0.25 * len(df)"
   ]
  },
  {
   "cell_type": "code",
   "execution_count": 26,
   "id": "ee59e4b4-fe46-4e5b-b04a-c6c40193617d",
   "metadata": {},
   "outputs": [],
   "source": [
    "# Identify columns with missing values greater than the threshold\n",
    "missing_columns2 = df.columns[df.isnull().sum() > threshold2]"
   ]
  },
  {
   "cell_type": "code",
   "execution_count": 27,
   "id": "ee5eeee6-5e5a-4e06-af63-50894376f1c2",
   "metadata": {},
   "outputs": [
    {
     "name": "stdout",
     "output_type": "stream",
     "text": [
      "Columns with more than n% missing values: Index(['AuthResReasonCode', 'CurrencyCodeOrig', 'CurrencyCodeBase',\n",
      "       'Disposition', 'ATMDepositMax.max.day.total',\n",
      "       'ATMDepositMax.max.day.present', 'ATMDepositMax.max.day.past1',\n",
      "       'ATMDepositMax.max.day.past3', 'ATMDepositMax.max.day.past4',\n",
      "       'OnlinePOSCount.cnt.present'],\n",
      "      dtype='object')\n"
     ]
    }
   ],
   "source": [
    "# Print the columns with more than n% missing values\n",
    "print(\"Columns with more than n% missing values:\", missing_columns2)"
   ]
  },
  {
   "cell_type": "markdown",
   "id": "e3c9c6c1-98b1-4705-966d-9eb378ffbcee",
   "metadata": {
    "tags": []
   },
   "source": [
    "### Remove Cols/Rows with Missing Data (over threshold)"
   ]
  },
  {
   "cell_type": "markdown",
   "id": "e6ee0def-719b-4d25-ba20-47e0ae49cac6",
   "metadata": {},
   "source": [
    "Drop columns with missing values greater than the threshold"
   ]
  },
  {
   "cell_type": "code",
   "execution_count": 28,
   "id": "5227afb0-5a00-4a16-b3ca-219e14e0ad99",
   "metadata": {},
   "outputs": [],
   "source": [
    "df = df.drop(columns=missing_columns)"
   ]
  },
  {
   "cell_type": "markdown",
   "id": "4734e06e-474c-4f35-bfdc-19eccec5b07a",
   "metadata": {},
   "source": [
    "Drop rows with missing values - less than 1% of total dataframe"
   ]
  },
  {
   "cell_type": "code",
   "execution_count": 29,
   "id": "9246e5ee-1df5-4f28-afd6-1661d28a5ed4",
   "metadata": {},
   "outputs": [
    {
     "data": {
      "text/html": [
       "<style type=\"text/css\">\n",
       "#T_0ac74 th {\n",
       "  text-align: left;\n",
       "}\n",
       "#T_0ac74_row0_col0, #T_0ac74_row0_col1 {\n",
       "  text-align: left;\n",
       "}\n",
       "</style>\n",
       "<table id=\"T_0ac74\">\n",
       "  <thead>\n",
       "    <tr>\n",
       "      <th id=\"T_0ac74_level0_col0\" class=\"col_heading level0 col0\" >Description</th>\n",
       "      <th id=\"T_0ac74_level0_col1\" class=\"col_heading level0 col1\" >Count</th>\n",
       "    </tr>\n",
       "  </thead>\n",
       "  <tbody>\n",
       "    <tr>\n",
       "      <td id=\"T_0ac74_row0_col0\" class=\"data row0 col0\" >Number of Rows Removed</td>\n",
       "      <td id=\"T_0ac74_row0_col1\" class=\"data row0 col1\" >297</td>\n",
       "    </tr>\n",
       "  </tbody>\n",
       "</table>\n"
      ],
      "text/plain": [
       "<pandas.io.formats.style.Styler at 0x7fefc95c0220>"
      ]
     },
     "execution_count": 29,
     "metadata": {},
     "output_type": "execute_result"
    }
   ],
   "source": [
    "# Set row count before removal\n",
    "iOrig_rownum = len(df)\n",
    "\n",
    "# Remove rows with missing data from the original dataframe 'df'\n",
    "#df_cleaned = df_dropped.dropna()\n",
    "df = df.dropna()\n",
    "\n",
    "# Number of rows removed\n",
    "#num_rows_removed = len(df) - len(df_cleaned)\n",
    "num_rows_removed = iOrig_rownum - len(df)\n",
    "\n",
    "# Aesthetically pleasing output for the number of rows removed\n",
    "num_rows_removed_output = pd.DataFrame({'Description': ['Number of Rows Removed'],\n",
    "                                        'Count': [num_rows_removed]})\n",
    "num_rows_removed_output.style.hide_index().set_properties(**{'text-align': 'left'}).set_table_styles([{\n",
    "    'selector': 'th',\n",
    "    'props': [('text-align', 'left')]\n",
    "}])"
   ]
  },
  {
   "cell_type": "code",
   "execution_count": 30,
   "id": "c3b7196e-60e4-4aee-9a4d-4ccebaa921db",
   "metadata": {},
   "outputs": [
    {
     "data": {
      "text/html": [
       "<style type=\"text/css\">\n",
       "#T_a45a0 th {\n",
       "  text-align: left;\n",
       "}\n",
       "#T_a45a0_row0_col0, #T_a45a0_row0_col1 {\n",
       "  text-align: left;\n",
       "}\n",
       "</style>\n",
       "<table id=\"T_a45a0\">\n",
       "  <thead>\n",
       "    <tr>\n",
       "      <th id=\"T_a45a0_level0_col0\" class=\"col_heading level0 col0\" >Description</th>\n",
       "      <th id=\"T_a45a0_level0_col1\" class=\"col_heading level0 col1\" >Count</th>\n",
       "    </tr>\n",
       "  </thead>\n",
       "  <tbody>\n",
       "    <tr>\n",
       "      <td id=\"T_a45a0_row0_col0\" class=\"data row0 col0\" >Remaining Missing Values in DataFrame</td>\n",
       "      <td id=\"T_a45a0_row0_col1\" class=\"data row0 col1\" >0</td>\n",
       "    </tr>\n",
       "  </tbody>\n",
       "</table>\n"
      ],
      "text/plain": [
       "<pandas.io.formats.style.Styler at 0x7fefc97f37f0>"
      ]
     },
     "execution_count": 30,
     "metadata": {},
     "output_type": "execute_result"
    }
   ],
   "source": [
    "# Check for missing values in the cleaned dataframe\n",
    "#missing_values_check = df_cleaned.isnull().sum().sum()\n",
    "missing_values_check = df.isnull().sum().sum()\n",
    "\n",
    "# Aesthetically pleasing output for the missing values check\n",
    "missing_values_check_output = pd.DataFrame({'Description': ['Remaining Missing Values in DataFrame'],\n",
    "                                            'Count': [missing_values_check]})\n",
    "missing_values_check_output.style.hide_index().set_properties(**{'text-align': 'left'}).set_table_styles([{\n",
    "    'selector': 'th',\n",
    "    'props': [('text-align', 'left')]\n",
    "}])"
   ]
  },
  {
   "cell_type": "code",
   "execution_count": 31,
   "id": "6ea4b3f8-28be-4a39-a287-06decd271b2a",
   "metadata": {},
   "outputs": [
    {
     "data": {
      "text/plain": [
       "(24831, 370)"
      ]
     },
     "execution_count": 31,
     "metadata": {},
     "output_type": "execute_result"
    }
   ],
   "source": [
    "# Confirm dataframe dimentsions after feature column amendments\n",
    "df.shape"
   ]
  },
  {
   "cell_type": "code",
   "execution_count": 32,
   "id": "063e7ad1-7b94-4c3f-9cf5-55b20b20f3af",
   "metadata": {},
   "outputs": [
    {
     "data": {
      "text/html": [
       "<div>\n",
       "<style scoped>\n",
       "    .dataframe tbody tr th:only-of-type {\n",
       "        vertical-align: middle;\n",
       "    }\n",
       "\n",
       "    .dataframe tbody tr th {\n",
       "        vertical-align: top;\n",
       "    }\n",
       "\n",
       "    .dataframe thead th {\n",
       "        text-align: right;\n",
       "    }\n",
       "</style>\n",
       "<table border=\"1\" class=\"dataframe\">\n",
       "  <thead>\n",
       "    <tr style=\"text-align: right;\">\n",
       "      <th></th>\n",
       "      <th>CardOperationsId</th>\n",
       "      <th>RunTimestamp</th>\n",
       "      <th>LOCAL_TIMESTAMP</th>\n",
       "      <th>TxnChannelCode</th>\n",
       "      <th>TxnSourceTypeCode</th>\n",
       "      <th>SourceSystemCode</th>\n",
       "      <th>AccountSourceUniqueId</th>\n",
       "      <th>CardId</th>\n",
       "      <th>CardSourceRefId</th>\n",
       "      <th>DeviceId</th>\n",
       "      <th>...</th>\n",
       "      <th>SmallOnlineAuthorizationCount.cnt.hour24</th>\n",
       "      <th>HighRiskPOSSum.acc.hour.total</th>\n",
       "      <th>HighRiskPOSSum.acc.hour.present</th>\n",
       "      <th>HighRiskPOSSum.acc.hour.past1</th>\n",
       "      <th>HighRiskPOSSum.acc.hour.past3</th>\n",
       "      <th>HighRiskPOSSum.acc.hour.past4</th>\n",
       "      <th>HighRiskPOSSum.acc.hour.past10</th>\n",
       "      <th>HighRiskPOSSum.acc.hour.past15</th>\n",
       "      <th>HighRiskPOSSum.acc.hour.past24</th>\n",
       "      <th>HighRiskPOSSum.acc.hour.past29</th>\n",
       "    </tr>\n",
       "  </thead>\n",
       "  <tbody>\n",
       "    <tr>\n",
       "      <th>0</th>\n",
       "      <td>COID-1001227</td>\n",
       "      <td>2.014030e+13</td>\n",
       "      <td>2.014030e+13</td>\n",
       "      <td>POS</td>\n",
       "      <td>External</td>\n",
       "      <td>none</td>\n",
       "      <td>ACCT-24342</td>\n",
       "      <td>CARD-37899</td>\n",
       "      <td>CARD-37899</td>\n",
       "      <td>DVID-147119</td>\n",
       "      <td>...</td>\n",
       "      <td>0</td>\n",
       "      <td>0</td>\n",
       "      <td>0</td>\n",
       "      <td>0</td>\n",
       "      <td>0</td>\n",
       "      <td>0</td>\n",
       "      <td>0</td>\n",
       "      <td>0</td>\n",
       "      <td>0</td>\n",
       "      <td>0</td>\n",
       "    </tr>\n",
       "    <tr>\n",
       "      <th>1</th>\n",
       "      <td>COID-1001382</td>\n",
       "      <td>2.014030e+13</td>\n",
       "      <td>2.014030e+13</td>\n",
       "      <td>POS</td>\n",
       "      <td>External</td>\n",
       "      <td>none</td>\n",
       "      <td>ACCT-24342</td>\n",
       "      <td>CARD-37899</td>\n",
       "      <td>CARD-37899</td>\n",
       "      <td>DVID-44938</td>\n",
       "      <td>...</td>\n",
       "      <td>0</td>\n",
       "      <td>0</td>\n",
       "      <td>0</td>\n",
       "      <td>0</td>\n",
       "      <td>0</td>\n",
       "      <td>0</td>\n",
       "      <td>0</td>\n",
       "      <td>0</td>\n",
       "      <td>0</td>\n",
       "      <td>0</td>\n",
       "    </tr>\n",
       "    <tr>\n",
       "      <th>2</th>\n",
       "      <td>COID-1001539</td>\n",
       "      <td>2.014030e+13</td>\n",
       "      <td>2.014030e+13</td>\n",
       "      <td>POS</td>\n",
       "      <td>External</td>\n",
       "      <td>none</td>\n",
       "      <td>ACCT-24342</td>\n",
       "      <td>CARD-37899</td>\n",
       "      <td>CARD-37899</td>\n",
       "      <td>DVID-44938</td>\n",
       "      <td>...</td>\n",
       "      <td>0</td>\n",
       "      <td>100</td>\n",
       "      <td>0</td>\n",
       "      <td>0</td>\n",
       "      <td>0</td>\n",
       "      <td>0</td>\n",
       "      <td>0</td>\n",
       "      <td>0</td>\n",
       "      <td>0</td>\n",
       "      <td>0</td>\n",
       "    </tr>\n",
       "    <tr>\n",
       "      <th>3</th>\n",
       "      <td>COID-1001540</td>\n",
       "      <td>2.014030e+13</td>\n",
       "      <td>2.014030e+13</td>\n",
       "      <td>POS</td>\n",
       "      <td>External</td>\n",
       "      <td>none</td>\n",
       "      <td>ACCT-24342</td>\n",
       "      <td>CARD-37899</td>\n",
       "      <td>CARD-37899</td>\n",
       "      <td>DVID-316518</td>\n",
       "      <td>...</td>\n",
       "      <td>0</td>\n",
       "      <td>100</td>\n",
       "      <td>0</td>\n",
       "      <td>0</td>\n",
       "      <td>0</td>\n",
       "      <td>0</td>\n",
       "      <td>0</td>\n",
       "      <td>0</td>\n",
       "      <td>0</td>\n",
       "      <td>0</td>\n",
       "    </tr>\n",
       "    <tr>\n",
       "      <th>4</th>\n",
       "      <td>COID-100624</td>\n",
       "      <td>2.014030e+13</td>\n",
       "      <td>2.014030e+13</td>\n",
       "      <td>POS</td>\n",
       "      <td>External</td>\n",
       "      <td>none</td>\n",
       "      <td>ACCT-46712</td>\n",
       "      <td>CARD-624</td>\n",
       "      <td>CARD-624</td>\n",
       "      <td>DVID-54868</td>\n",
       "      <td>...</td>\n",
       "      <td>0</td>\n",
       "      <td>175</td>\n",
       "      <td>0</td>\n",
       "      <td>11</td>\n",
       "      <td>0</td>\n",
       "      <td>0</td>\n",
       "      <td>0</td>\n",
       "      <td>0</td>\n",
       "      <td>0</td>\n",
       "      <td>0</td>\n",
       "    </tr>\n",
       "  </tbody>\n",
       "</table>\n",
       "<p>5 rows × 370 columns</p>\n",
       "</div>"
      ],
      "text/plain": [
       "  CardOperationsId  RunTimestamp  LOCAL_TIMESTAMP TxnChannelCode  \\\n",
       "0     COID-1001227  2.014030e+13     2.014030e+13            POS   \n",
       "1     COID-1001382  2.014030e+13     2.014030e+13            POS   \n",
       "2     COID-1001539  2.014030e+13     2.014030e+13            POS   \n",
       "3     COID-1001540  2.014030e+13     2.014030e+13            POS   \n",
       "4      COID-100624  2.014030e+13     2.014030e+13            POS   \n",
       "\n",
       "  TxnSourceTypeCode SourceSystemCode AccountSourceUniqueId      CardId  \\\n",
       "0          External             none            ACCT-24342  CARD-37899   \n",
       "1          External             none            ACCT-24342  CARD-37899   \n",
       "2          External             none            ACCT-24342  CARD-37899   \n",
       "3          External             none            ACCT-24342  CARD-37899   \n",
       "4          External             none            ACCT-46712    CARD-624   \n",
       "\n",
       "  CardSourceRefId     DeviceId  ... SmallOnlineAuthorizationCount.cnt.hour24  \\\n",
       "0      CARD-37899  DVID-147119  ...                                        0   \n",
       "1      CARD-37899   DVID-44938  ...                                        0   \n",
       "2      CARD-37899   DVID-44938  ...                                        0   \n",
       "3      CARD-37899  DVID-316518  ...                                        0   \n",
       "4        CARD-624   DVID-54868  ...                                        0   \n",
       "\n",
       "  HighRiskPOSSum.acc.hour.total  HighRiskPOSSum.acc.hour.present  \\\n",
       "0                             0                                0   \n",
       "1                             0                                0   \n",
       "2                           100                                0   \n",
       "3                           100                                0   \n",
       "4                           175                                0   \n",
       "\n",
       "  HighRiskPOSSum.acc.hour.past1 HighRiskPOSSum.acc.hour.past3  \\\n",
       "0                             0                             0   \n",
       "1                             0                             0   \n",
       "2                             0                             0   \n",
       "3                             0                             0   \n",
       "4                            11                             0   \n",
       "\n",
       "  HighRiskPOSSum.acc.hour.past4 HighRiskPOSSum.acc.hour.past10  \\\n",
       "0                             0                              0   \n",
       "1                             0                              0   \n",
       "2                             0                              0   \n",
       "3                             0                              0   \n",
       "4                             0                              0   \n",
       "\n",
       "  HighRiskPOSSum.acc.hour.past15 HighRiskPOSSum.acc.hour.past24  \\\n",
       "0                              0                              0   \n",
       "1                              0                              0   \n",
       "2                              0                              0   \n",
       "3                              0                              0   \n",
       "4                              0                              0   \n",
       "\n",
       "  HighRiskPOSSum.acc.hour.past29  \n",
       "0                              0  \n",
       "1                              0  \n",
       "2                              0  \n",
       "3                              0  \n",
       "4                              0  \n",
       "\n",
       "[5 rows x 370 columns]"
      ]
     },
     "execution_count": 32,
     "metadata": {},
     "output_type": "execute_result"
    }
   ],
   "source": [
    "# Display the first few rows of the dataset to re-check structure once any columns with \n",
    "# significant amounts of missing data have been removed\n",
    "df.head()"
   ]
  },
  {
   "cell_type": "markdown",
   "id": "b08bb238-966e-4273-920f-3de94299256a",
   "metadata": {},
   "source": [
    "Final check that there is no missing data."
   ]
  },
  {
   "cell_type": "code",
   "execution_count": 33,
   "id": "cc2b8af5-c3cd-4ead-b9c7-b494426b075c",
   "metadata": {},
   "outputs": [
    {
     "data": {
      "text/plain": [
       "0"
      ]
     },
     "execution_count": 33,
     "metadata": {},
     "output_type": "execute_result"
    }
   ],
   "source": [
    "# Double check for missing values in the cleaned dataframe\n",
    "missing_values_double_check = df.isnull().sum().sum()\n",
    "missing_values_double_check"
   ]
  },
  {
   "cell_type": "markdown",
   "id": "872ce07f-e122-4cf2-90e8-61efb80d52d9",
   "metadata": {},
   "source": [
    "## Check for 'Redundant' Data"
   ]
  },
  {
   "cell_type": "markdown",
   "id": "c5a84a4b-dbca-49c8-a57b-45ec2f3afcd3",
   "metadata": {},
   "source": [
    "### Identify Columns with only one value"
   ]
  },
  {
   "cell_type": "code",
   "execution_count": 34,
   "id": "9029f917-a05f-4b4b-94a2-bed02b890f0d",
   "metadata": {},
   "outputs": [],
   "source": [
    "# Identify columns where all values are the same and their repeated values\n",
    "# unique_value_counts = df_cleaned.nunique()\n",
    "unique_value_counts = df.nunique()\n",
    "columns_with_single_value = unique_value_counts[unique_value_counts == 1].index\n",
    "single_value_columns_with_values = pd.DataFrame({\n",
    "    'Column': columns_with_single_value,\n",
    "    'Repeated Value': [df[col].iloc[0] for col in columns_with_single_value]\n",
    "    #'Repeated Value': [df_cleaned[col].iloc[0] for col in columns_with_single_value]\n",
    "})"
   ]
  },
  {
   "cell_type": "code",
   "execution_count": 35,
   "id": "251b9356-37ce-4c4a-9acf-ab41d260e382",
   "metadata": {},
   "outputs": [],
   "source": [
    "# Aesthetically pleasing output for the table\n",
    "single_value_columns_with_values_styled = single_value_columns_with_values.style.hide_index().set_properties(**{'text-align': 'left'}).set_table_styles([{\n",
    "    'selector': 'th',\n",
    "    'props': [('text-align', 'left')]\n",
    "}])"
   ]
  },
  {
   "cell_type": "code",
   "execution_count": 36,
   "id": "66cdbeb8-b9fc-4914-95cf-04da6854f5ec",
   "metadata": {},
   "outputs": [],
   "source": [
    "#single_value_columns_with_values_styled"
   ]
  },
  {
   "cell_type": "markdown",
   "id": "ceb7eeb8-80d9-4cb7-9a1a-94cb1ef652c9",
   "metadata": {},
   "source": [
    "### Remove Columns with only one value"
   ]
  },
  {
   "cell_type": "code",
   "execution_count": 37,
   "id": "9f03aa5e-2dd6-4914-a3f9-3896968ca638",
   "metadata": {},
   "outputs": [],
   "source": [
    "# Remove these columns from the dataframe\n",
    "#df = df_cleaned.drop(columns=columns_with_single_value)\n",
    "df = df.drop(columns=columns_with_single_value)"
   ]
  },
  {
   "cell_type": "code",
   "execution_count": 38,
   "id": "f467ecc4-2d5d-4a41-a9f1-daadfe67ca53",
   "metadata": {},
   "outputs": [
    {
     "data": {
      "text/plain": [
       "(24831, 263)"
      ]
     },
     "execution_count": 38,
     "metadata": {},
     "output_type": "execute_result"
    }
   ],
   "source": [
    "# Confirm dataframe dimentsions after this phase of feature column amendments\n",
    "df.shape"
   ]
  },
  {
   "cell_type": "code",
   "execution_count": 39,
   "id": "a8acea66-fd82-41ac-bd60-30c75e2ab676",
   "metadata": {},
   "outputs": [
    {
     "data": {
      "text/plain": [
       "0"
      ]
     },
     "execution_count": 39,
     "metadata": {},
     "output_type": "execute_result"
    }
   ],
   "source": [
    "# Double check for missing values in the cleaned dataframe\n",
    "missing_values_double_check = df.isnull().sum().sum()\n",
    "missing_values_double_check"
   ]
  },
  {
   "cell_type": "markdown",
   "id": "43c1ecd6-3c20-4019-a9ef-be8d512e5534",
   "metadata": {},
   "source": [
    "## Check for Outlier Data"
   ]
  },
  {
   "cell_type": "markdown",
   "id": "d823141b-d71c-4e61-a450-541b2e597931",
   "metadata": {},
   "source": [
    "### Identify Outlier Data in AmountBase Column"
   ]
  },
  {
   "cell_type": "markdown",
   "id": "26932823-1cd2-44b7-8865-083fa58e9f59",
   "metadata": {},
   "source": [
    "This column represents the value of the credit card transaction"
   ]
  },
  {
   "cell_type": "code",
   "execution_count": 40,
   "id": "98bfc329-e29b-4331-8ea7-ce0cc6477376",
   "metadata": {},
   "outputs": [],
   "source": [
    "# Calculating Q1, Q3, and IQR for identifying outliers in 'AmountOrig'\n",
    "Q1 = df['AmountBase'].quantile(0.25)\n",
    "Q3 = df['AmountBase'].quantile(0.75)\n",
    "IQR = Q3 - Q1\n",
    "\n",
    "# Define bounds for the outliers\n",
    "lower_bound = Q1 - 1.5 * IQR\n",
    "upper_bound = Q3 + 1.5 * IQR"
   ]
  },
  {
   "cell_type": "code",
   "execution_count": 41,
   "id": "9b74fb4f-8267-4e89-a266-d3694f58e7af",
   "metadata": {},
   "outputs": [
    {
     "name": "stdout",
     "output_type": "stream",
     "text": [
      "Identified 2340 outliers in the 'AmountBase' column:\n",
      "<pandas.io.formats.style.Styler object at 0x7fefc95dc340>\n"
     ]
    }
   ],
   "source": [
    "# Identify outliers\n",
    "outliers = df[(df['AmountBase'] < lower_bound) | (df['AmountBase'] > upper_bound)]\n",
    "print(f\"Identified {len(outliers)} outliers in the 'AmountBase' column:\")\n",
    "print(outliers[['AmountBase']].style.format(\"{:.2f}\").set_caption(\"Outliers in AmountBase\"))"
   ]
  },
  {
   "cell_type": "markdown",
   "id": "32b7a3fc-0a47-42bd-a8eb-24147afdb06c",
   "metadata": {},
   "source": [
    "### Remove Outlier Data in AmountBase Column"
   ]
  },
  {
   "cell_type": "code",
   "execution_count": 42,
   "id": "aa797a46-efdb-492f-81bd-ff244bac5e7b",
   "metadata": {},
   "outputs": [],
   "source": [
    "# Remove rows that are in the top 95% of the 'AmountOrig' column\n",
    "threshold = df['AmountBase'].quantile(0.95)\n",
    "data_filtered = df[df['AmountBase'] <= threshold]"
   ]
  },
  {
   "cell_type": "code",
   "execution_count": 43,
   "id": "3a57fcf6-f938-4d54-84a2-45639987b4cb",
   "metadata": {},
   "outputs": [
    {
     "name": "stdout",
     "output_type": "stream",
     "text": [
      "Original Data Size: 24831\n",
      "Filtered Data Size after removing top 95% values: 23591\n"
     ]
    }
   ],
   "source": [
    "print(\"Original Data Size: {}\".format(len(df)))\n",
    "print(\"Filtered Data Size after removing top 95% values: {}\".format(len(data_filtered)))"
   ]
  },
  {
   "cell_type": "code",
   "execution_count": 44,
   "id": "6bf6130f-c8ff-48d2-94db-fe956782e7fd",
   "metadata": {},
   "outputs": [
    {
     "data": {
      "text/plain": [
       "(23591, 263)"
      ]
     },
     "execution_count": 44,
     "metadata": {},
     "output_type": "execute_result"
    }
   ],
   "source": [
    "data_filtered.shape"
   ]
  },
  {
   "cell_type": "code",
   "execution_count": 45,
   "id": "c3494141-a44d-475e-be40-7a352d665fd2",
   "metadata": {},
   "outputs": [],
   "source": [
    "df = data_filtered"
   ]
  },
  {
   "cell_type": "code",
   "execution_count": 46,
   "id": "80beb97b-92fd-4328-a18a-cb1ebfbf5662",
   "metadata": {},
   "outputs": [
    {
     "data": {
      "text/plain": [
       "(23591, 263)"
      ]
     },
     "execution_count": 46,
     "metadata": {},
     "output_type": "execute_result"
    }
   ],
   "source": [
    "# Confirm dataframe dimentsions after feature outlier amendments\n",
    "df.shape"
   ]
  },
  {
   "cell_type": "markdown",
   "id": "958d2488-6e22-40df-9469-44b6a7a714e6",
   "metadata": {},
   "source": [
    "### General Outlier Check"
   ]
  },
  {
   "cell_type": "code",
   "execution_count": 47,
   "id": "94a36f46-39b1-4a28-bc29-088c9729b1f5",
   "metadata": {},
   "outputs": [],
   "source": [
    "# Initialize an empty dataframe to hold significant outlier counts\n",
    "significant_outlier_summary = pd.DataFrame(columns=['Column', 'Significant Outliers Count'])\n",
    "\n",
    "# Iterate through each numerical column in the dataframe\n",
    "for col in df.select_dtypes(include=['number']).columns:\n",
    "    # Calculating Q1, Q3, and IQR\n",
    "    Q1 = df[col].quantile(0.25)\n",
    "    Q3 = df[col].quantile(0.75)\n",
    "    IQR = Q3 - Q1\n",
    "\n",
    "    # Define bounds for the significant outliers (using 50 times the IQR)\n",
    "    significant_upper_bound = Q3 + 50 * IQR\n",
    "\n",
    "    # Determine significant outliers\n",
    "    significant_outliers = df[df[col] > significant_upper_bound]\n",
    "    significant_outlier_count = len(significant_outliers)\n",
    "\n",
    "    # Append to summary dataframe\n",
    "    significant_outlier_summary = significant_outlier_summary.append({\n",
    "        'Column': col,\n",
    "        'Significant Outliers Count': significant_outlier_count\n",
    "    }, ignore_index=True)"
   ]
  },
  {
   "cell_type": "code",
   "execution_count": 48,
   "id": "7ac5233f-11f3-46d7-aa77-0cc66139ac07",
   "metadata": {},
   "outputs": [],
   "source": [
    "# Displaying the results in a table format\n",
    "# significant_outlier_summary.style.set_caption(\"Significant Outlier Counts in Each Numerical Column\").hide_index()"
   ]
  },
  {
   "cell_type": "markdown",
   "id": "9c2e99cc-d47d-48f7-ac94-be913e6788e1",
   "metadata": {},
   "source": [
    "# Dataset Exploration - Visualisations"
   ]
  },
  {
   "cell_type": "markdown",
   "id": "8cb1361c-14a1-4f45-a810-555bc7778ed7",
   "metadata": {},
   "source": [
    "## Generate Visualizations"
   ]
  },
  {
   "cell_type": "markdown",
   "id": "785e3b1e-bee3-4b70-b3c7-fd24ce093192",
   "metadata": {},
   "source": [
    "#### Bar and Box Plot Visualisations"
   ]
  },
  {
   "cell_type": "code",
   "execution_count": 49,
   "id": "1eef4084-55fb-4e96-a1a2-ac8e84191c06",
   "metadata": {},
   "outputs": [],
   "source": [
    "# Set up the target and features to be visualised\n",
    "\n",
    "sTarget_feature = 'Fraud'\n",
    "sFeature_analysis_1 = 'AmountBase'\n",
    "sFeature_analysis_2 = 'CustomerPresentIndicator'\n",
    "sFeature_analysis_3 = 'ECommerceFlag'\n",
    "sFeature3_ticklabel1 = 'U'\n",
    "sFeature3_ticklabel2 = 'Y'"
   ]
  },
  {
   "cell_type": "code",
   "execution_count": 50,
   "id": "d19e099d-cf1c-4339-88aa-08ba2c11a8f7",
   "metadata": {},
   "outputs": [
    {
     "data": {
      "image/png": "[encoded data removed]",
      "text/plain": [
       "<Figure size 1008x720 with 4 Axes>"
      ]
     },
     "metadata": {
      "needs_background": "light"
     },
     "output_type": "display_data"
    }
   ],
   "source": [
    "generate_cc_f_box_plots(df, sTarget_feature, \n",
    "                       sFeature_analysis_1, \n",
    "                       sFeature_analysis_2, \n",
    "                       sFeature_analysis_3,\n",
    "                       sFeature3_ticklabel1, \n",
    "                       sFeature3_ticklabel2)"
   ]
  },
  {
   "cell_type": "markdown",
   "id": "85b5d788-4e43-4a42-9f8b-449f6d1dbba6",
   "metadata": {},
   "source": [
    "# Feature Engineering - II"
   ]
  },
  {
   "cell_type": "markdown",
   "id": "00789e0f-c6ed-423c-abfd-ee4fffa90e3a",
   "metadata": {},
   "source": [
    "## Feature Selection"
   ]
  },
  {
   "cell_type": "markdown",
   "id": "377bf8c6-7efc-44eb-89d5-f49f2b4a9e6f",
   "metadata": {},
   "source": [
    "Prior external analysis has confirmed the set of most relevant features for 'Fraud' prediction."
   ]
  },
  {
   "cell_type": "markdown",
   "id": "7e5e28c8-a102-49ee-81d4-696cdb7fe15b",
   "metadata": {},
   "source": [
    "This is loaded to filter out remaining columns in our CC Fraud dataframe."
   ]
  },
  {
   "cell_type": "markdown",
   "id": "e1f7d128-ed3b-4544-9acd-eee5391e1387",
   "metadata": {},
   "source": [
    "The 'Feature - I' adjustments are kept to illustrate the general strucure of the CC Fraud dataset."
   ]
  },
  {
   "cell_type": "code",
   "execution_count": 51,
   "id": "5f27bfff-ed27-4c50-b52d-f0fdae495021",
   "metadata": {},
   "outputs": [
    {
     "data": {
      "text/plain": [
       "(23591, 263)"
      ]
     },
     "execution_count": 51,
     "metadata": {},
     "output_type": "execute_result"
    }
   ],
   "source": [
    "# Confirm dataframe dimentsions before feature selection amendments\n",
    "df.shape"
   ]
  },
  {
   "cell_type": "code",
   "execution_count": 52,
   "id": "588ecc6c-99b2-4c6e-81a5-7375fb11b1f8",
   "metadata": {},
   "outputs": [],
   "source": [
    "# Path to the feature selection CSV file and the original data\n",
    "feature_csv_path = 'Select_CC_Fraud_Features_v1_1.csv'\n",
    "# Read the CSV file containing the selected features\n",
    "selected_features_df = pd.read_csv(feature_csv_path)"
   ]
  },
  {
   "cell_type": "code",
   "execution_count": 53,
   "id": "0d0c0936-3a8e-4def-b782-d2a267e1d7f8",
   "metadata": {},
   "outputs": [],
   "source": [
    "# Extract the feature names from the 'FEATURE' column of the CSV file\n",
    "selected_features = selected_features_df['FEATURE'].tolist()"
   ]
  },
  {
   "cell_type": "code",
   "execution_count": 54,
   "id": "4b7be402-0292-4e8d-b5e2-e93f4c7592fb",
   "metadata": {},
   "outputs": [],
   "source": [
    "# Drop all columns from df that are not listed in the selected features\n",
    "df = df[selected_features]"
   ]
  },
  {
   "cell_type": "code",
   "execution_count": 55,
   "id": "0e684c83-d1ed-4afc-8071-1acf6a2398c2",
   "metadata": {},
   "outputs": [
    {
     "name": "stdout",
     "output_type": "stream",
     "text": [
      "New structure of 'df':\n",
      "OnlinePOSCount.cnt.day.present                    int64\n",
      "EMVTransactionsCount.cnt.day.present              int64\n",
      "NonEMVTransactionsCount.cnt.day.present           int64\n",
      "MerchantCategory                                  int64\n",
      "POS_Count.cnt.day.present                         int64\n",
      "PinIndicator                                      int64\n",
      "DomesticAuthCount.cnt.hour1                       int64\n",
      "DomesticAuthCount.cnt.hour3                       int64\n",
      "DomesticAuthCount.cnt.hour4                       int64\n",
      "DomesticAuthCount.cnt.hour10                      int64\n",
      "DomesticAuthCount.cnt.hour15                      int64\n",
      "DomesticAuthCounter.cnt.day.present               int64\n",
      "DomesticAuthCount.cnt.hour25                      int64\n",
      "OnlinePOSCountForever.cnt.present                 int64\n",
      "POSTerminalAttendedAuthCount.cnt.day.present      int64\n",
      "CustomerNotPresentAuthCount.cnt.day.present       int64\n",
      "DvcVerificationCap                                int64\n",
      "ECommerceAuthCount.cnt.day.present                int64\n",
      "PosTerminalAttended                              object\n",
      "TxnChannelCode                                   object\n",
      "CustomerPresentIndicator                         object\n",
      "OnlineNewMerchCtryCntDaily.cnt.day.present        int64\n",
      "OnlineNewMerchCtryCntHourly.cnt.hour24            int64\n",
      "OnlineNewMerchCtryCntHourly.cnt.hour15            int64\n",
      "OnlineNewMerchCtryCntHourly.cnt.hour10            int64\n",
      "DvcPosEntryMode                                  object\n",
      "OnlineNewMerchCtryCntHourly.cnt.hour3             int64\n",
      "OnlineNewMerchCtryCntHourly.cnt.hour4             int64\n",
      "OnlineNewMerchCtryCntDaily.cnt.day.total          int64\n",
      "NotECommerceAuthCount.cnt.day.present             int64\n",
      "NewMerchantCountryCount.cnt.hour15                int64\n",
      "OnlineNewMerchCtryCntHourly.cnt.hour1             int64\n",
      "NewMerchantCountryCount.cnt.hour10                int64\n",
      "NewMerchantCountryCount.cnt.hour24                int64\n",
      "ECommerceFlag                                    object\n",
      "NewMerchantCountryCount.cnt.hour4                 int64\n",
      "NewMerchantCountryCount.cnt.hour3                 int64\n",
      "AuthResponse                                      int64\n",
      "NewMerchantCountryCount.cnt.hour1                 int64\n",
      "AmountBase                                        int64\n",
      "CardType                                          int64\n",
      "POSSum.acc.month.total                            int64\n",
      "NotECommerceAuthAmount.acc.day.total              int64\n",
      "NonEMVTransactionsAcc.acc.day.total               int64\n",
      "POSTerminalAttendedAuthAmount.acc.day.total       int64\n",
      "CustomerPresentAuthAmount.acc.day.total           int64\n",
      "EMVTransactionsAcc.acc.day.total                  int64\n",
      "CustomerNotPresentAuthAmount.acc.day.total        int64\n",
      "HourlyAuthAmt.acc.hour25                          int64\n",
      "NonEMVTransactionsAcc.acc.day.present             int64\n",
      "NotECommerceAuthAmount.acc.day.present            int64\n",
      "CustomerNotPresentAuthAmount.acc.day.present      int64\n",
      "POSTerminalAttendedAuthAmount.acc.day.present     int64\n",
      "CustomerPresentAuthAmount.acc.day.present         int64\n",
      "HighRiskPOSSum.acc.hour.total                     int64\n",
      "EMVTransactionsAcc.acc.day.present                int64\n",
      "Fraud                                             int64\n",
      "dtype: object\n"
     ]
    }
   ],
   "source": [
    "# Display the new structure of 'df'\n",
    "print(\"New structure of 'df':\")\n",
    "print(df.dtypes)"
   ]
  },
  {
   "cell_type": "code",
   "execution_count": 56,
   "id": "53e11c29-ddc6-4a59-b20c-3f5216c82784",
   "metadata": {},
   "outputs": [
    {
     "name": "stdout",
     "output_type": "stream",
     "text": [
      "\n",
      "New Shape of 'df':\n",
      "Rows: 23591, Columns: 57\n"
     ]
    }
   ],
   "source": [
    "# Aesthetically pleasing table output to confirm the new shape of 'df'\n",
    "print(\"\\nNew Shape of 'df':\")\n",
    "print(f\"Rows: {df.shape[0]}, Columns: {df.shape[1]}\")"
   ]
  },
  {
   "cell_type": "code",
   "execution_count": 57,
   "id": "cc14c6d7-339e-468a-b088-8878c05e25cc",
   "metadata": {},
   "outputs": [
    {
     "data": {
      "text/plain": [
       "0"
      ]
     },
     "execution_count": 57,
     "metadata": {},
     "output_type": "execute_result"
    }
   ],
   "source": [
    "# Double check for missing values in the cleaned dataframe\n",
    "missing_values_double_check = df.isnull().sum().sum()\n",
    "missing_values_double_check"
   ]
  },
  {
   "cell_type": "markdown",
   "id": "3bc8d72a-c894-4f84-be83-870cf8ad2538",
   "metadata": {},
   "source": [
    "## Manage Categorical Values"
   ]
  },
  {
   "cell_type": "markdown",
   "id": "39702187-2073-4803-ba0d-7844bd2e76d6",
   "metadata": {},
   "source": [
    "### Identify Categorical Values"
   ]
  },
  {
   "cell_type": "markdown",
   "id": "faefeb44-6317-4c40-8a63-f734601505f3",
   "metadata": {},
   "source": [
    "#### Show all Categorical Values w/Counts"
   ]
  },
  {
   "cell_type": "markdown",
   "id": "55c38d00-7ad2-427e-bb0b-e2699e67dc9e",
   "metadata": {},
   "source": [
    "Highlight the Categorical Values and how many unique values in each column"
   ]
  },
  {
   "cell_type": "code",
   "execution_count": 58,
   "id": "d76f2a7d-7e9e-4085-85d2-27467a61eb41",
   "metadata": {},
   "outputs": [],
   "source": [
    "def display_CC_cat_cols_cnt(df):\n",
    "    # Identify categorical columns\n",
    "    categorical_features = df.select_dtypes(include=['object', 'category']).columns\n",
    "\n",
    "    # Count the unique values in each categorical column\n",
    "    unique_counts = df[categorical_features].nunique()\n",
    "\n",
    "    # Create a DataFrame for better visualization\n",
    "    visualization_df = pd.DataFrame({\n",
    "        \"Categorical Column\": categorical_features,\n",
    "        \"Unique Values Count\": unique_counts\n",
    "    })\n",
    "\n",
    "    # Use the style property to better present the DataFrame\n",
    "    styled_df = visualization_df.style.set_table_styles(\n",
    "        [{\n",
    "            'selector': 'th',\n",
    "            'props': [('font-size', '12pt'), ('background-color', 'lightblue')]\n",
    "        },\n",
    "        {\n",
    "            'selector': 'td',\n",
    "            'props': [('font-size', '12pt')]\n",
    "        }]\n",
    "    ).set_properties(**{\n",
    "        'text-align': 'left',\n",
    "    }).set_caption(\"Categorical Columns and Unique Value Counts\")\n",
    "\n",
    "    # Display the styled DataFrame\n",
    "    return unique_counts, styled_df, categorical_features"
   ]
  },
  {
   "cell_type": "code",
   "execution_count": 59,
   "id": "1dbb28cc-6ee0-4fd2-8fe1-3bec74d442b3",
   "metadata": {},
   "outputs": [],
   "source": [
    "unique_counts, disp_df, lCatCols = display_CC_cat_cols_cnt(df)"
   ]
  },
  {
   "cell_type": "code",
   "execution_count": 60,
   "id": "24db812a-7628-436b-afcc-e450625c9434",
   "metadata": {},
   "outputs": [
    {
     "data": {
      "text/html": [
       "<style type=\"text/css\">\n",
       "#T_6c351 th {\n",
       "  font-size: 12pt;\n",
       "  background-color: lightblue;\n",
       "}\n",
       "#T_6c351 td {\n",
       "  font-size: 12pt;\n",
       "}\n",
       "#T_6c351_row0_col0, #T_6c351_row0_col1, #T_6c351_row1_col0, #T_6c351_row1_col1, #T_6c351_row2_col0, #T_6c351_row2_col1, #T_6c351_row3_col0, #T_6c351_row3_col1, #T_6c351_row4_col0, #T_6c351_row4_col1 {\n",
       "  text-align: left;\n",
       "}\n",
       "</style>\n",
       "<table id=\"T_6c351\">\n",
       "  <caption>Categorical Columns and Unique Value Counts</caption>\n",
       "  <thead>\n",
       "    <tr>\n",
       "      <th class=\"blank level0\" >&nbsp;</th>\n",
       "      <th id=\"T_6c351_level0_col0\" class=\"col_heading level0 col0\" >Categorical Column</th>\n",
       "      <th id=\"T_6c351_level0_col1\" class=\"col_heading level0 col1\" >Unique Values Count</th>\n",
       "    </tr>\n",
       "  </thead>\n",
       "  <tbody>\n",
       "    <tr>\n",
       "      <th id=\"T_6c351_level0_row0\" class=\"row_heading level0 row0\" >PosTerminalAttended</th>\n",
       "      <td id=\"T_6c351_row0_col0\" class=\"data row0 col0\" >PosTerminalAttended</td>\n",
       "      <td id=\"T_6c351_row0_col1\" class=\"data row0 col1\" >3</td>\n",
       "    </tr>\n",
       "    <tr>\n",
       "      <th id=\"T_6c351_level0_row1\" class=\"row_heading level0 row1\" >TxnChannelCode</th>\n",
       "      <td id=\"T_6c351_row1_col0\" class=\"data row1 col0\" >TxnChannelCode</td>\n",
       "      <td id=\"T_6c351_row1_col1\" class=\"data row1 col1\" >2</td>\n",
       "    </tr>\n",
       "    <tr>\n",
       "      <th id=\"T_6c351_level0_row2\" class=\"row_heading level0 row2\" >CustomerPresentIndicator</th>\n",
       "      <td id=\"T_6c351_row2_col0\" class=\"data row2 col0\" >CustomerPresentIndicator</td>\n",
       "      <td id=\"T_6c351_row2_col1\" class=\"data row2 col1\" >3</td>\n",
       "    </tr>\n",
       "    <tr>\n",
       "      <th id=\"T_6c351_level0_row3\" class=\"row_heading level0 row3\" >DvcPosEntryMode</th>\n",
       "      <td id=\"T_6c351_row3_col0\" class=\"data row3 col0\" >DvcPosEntryMode</td>\n",
       "      <td id=\"T_6c351_row3_col1\" class=\"data row3 col1\" >11</td>\n",
       "    </tr>\n",
       "    <tr>\n",
       "      <th id=\"T_6c351_level0_row4\" class=\"row_heading level0 row4\" >ECommerceFlag</th>\n",
       "      <td id=\"T_6c351_row4_col0\" class=\"data row4 col0\" >ECommerceFlag</td>\n",
       "      <td id=\"T_6c351_row4_col1\" class=\"data row4 col1\" >2</td>\n",
       "    </tr>\n",
       "  </tbody>\n",
       "</table>\n"
      ],
      "text/plain": [
       "<pandas.io.formats.style.Styler at 0x7fefc8f5c8b0>"
      ]
     },
     "execution_count": 60,
     "metadata": {},
     "output_type": "execute_result"
    }
   ],
   "source": [
    "disp_df"
   ]
  },
  {
   "cell_type": "code",
   "execution_count": 61,
   "id": "b861b028-dcb3-4c6b-8da1-2e1056d86464",
   "metadata": {},
   "outputs": [
    {
     "data": {
      "text/plain": [
       "Index(['PosTerminalAttended', 'TxnChannelCode', 'CustomerPresentIndicator',\n",
       "       'DvcPosEntryMode', 'ECommerceFlag'],\n",
       "      dtype='object')"
      ]
     },
     "execution_count": 61,
     "metadata": {},
     "output_type": "execute_result"
    }
   ],
   "source": [
    "lCatCols"
   ]
  },
  {
   "cell_type": "markdown",
   "id": "821f1bc7-84f0-4e66-a6b8-2d734d93bbb0",
   "metadata": {},
   "source": [
    "#### Focus on the Categorical Values with higher cardinality."
   ]
  },
  {
   "cell_type": "code",
   "execution_count": 62,
   "id": "c514e5f2-be2a-4cea-87f2-d621568d8ccf",
   "metadata": {},
   "outputs": [
    {
     "name": "stdout",
     "output_type": "stream",
     "text": [
      "+--------------------+---------------------+\n",
      "| Categorical Column | Unique Values Count |\n",
      "+--------------------+---------------------+\n",
      "|  DvcPosEntryMode   |          11         |\n",
      "+--------------------+---------------------+\n"
     ]
    }
   ],
   "source": [
    "# Filter features with more than four unique values\n",
    "features_more_than_four = unique_counts[unique_counts > 4]\n",
    "\n",
    "# Create a PrettyTable object\n",
    "table = PrettyTable()\n",
    "\n",
    "# Define column names\n",
    "table.field_names = [\"Categorical Column\", \"Unique Values Count\"]\n",
    "\n",
    "# Populate the table with data for features with more than four unique values\n",
    "for feature, count in features_more_than_four.items():\n",
    "    table.add_row([feature, count])\n",
    "\n",
    "# Print the table\n",
    "print(table)"
   ]
  },
  {
   "cell_type": "code",
   "execution_count": 63,
   "id": "c4a061dd-483b-4398-8dba-3bf0ad97d450",
   "metadata": {},
   "outputs": [],
   "source": [
    "def get_unique_CC_categorical_values(sCatColName, df):\n",
    "    # Retrieve and print unique values for the specified categorical column\n",
    "    if sCatColName in df.columns:\n",
    "        # Calculate the counts of each unique value in the column\n",
    "        value_counts = df[sCatColName].value_counts()\n",
    "\n",
    "        # Create a PrettyTable object for the categorical column unique values and counts\n",
    "        table = PrettyTable()\n",
    "\n",
    "        # Define column names for the table\n",
    "        table.field_names = [\"Unique Values in \" + sCatColName, \"Count\"]\n",
    "\n",
    "        # Populate the table with unique values and their counts\n",
    "        for value, count in value_counts.items():\n",
    "            table.add_row([value, count])\n",
    "\n",
    "        # Print the table for the specified categorical column unique values and counts\n",
    "        print(\"\\nUnique values and counts in \" + sCatColName +\":\")\n",
    "        print(table)\n",
    "    else:\n",
    "        print(\"\\n!\" + \"'\" + sCatColName + \"' column does not exist in the dataframe.\")\n"
   ]
  },
  {
   "cell_type": "code",
   "execution_count": 64,
   "id": "4a654ec9-ccb6-42be-bc4c-3df4ad604adf",
   "metadata": {},
   "outputs": [
    {
     "name": "stdout",
     "output_type": "stream",
     "text": [
      "\n",
      "Unique values and counts in DvcPosEntryMode:\n",
      "+----------------------------------+-------+\n",
      "| Unique Values in DvcPosEntryMode | Count |\n",
      "+----------------------------------+-------+\n",
      "|                U                 |  7153 |\n",
      "|            E-Commerce            |  5336 |\n",
      "|           Card Present           |  5132 |\n",
      "|                5                 |  3481 |\n",
      "|                81                |  835  |\n",
      "|                91                |  589  |\n",
      "|                90                |  507  |\n",
      "|                1                 |  434  |\n",
      "|                80                |   60  |\n",
      "|                96                |   41  |\n",
      "|                0                 |   23  |\n",
      "+----------------------------------+-------+\n"
     ]
    }
   ],
   "source": [
    "get_unique_CC_categorical_values('DvcPosEntryMode', df)"
   ]
  },
  {
   "cell_type": "markdown",
   "id": "97971313-732d-4ea1-98a5-249c03dfd98d",
   "metadata": {},
   "source": [
    "### Amend Categorical Values to Numeric"
   ]
  },
  {
   "cell_type": "markdown",
   "id": "0519a8d7-3f66-467a-961a-d9b2c08269c7",
   "metadata": {},
   "source": [
    "#### Group Categorical Values with higher cardinality"
   ]
  },
  {
   "cell_type": "markdown",
   "id": "a2fe66ff-9081-4353-b5c6-9625f3602562",
   "metadata": {},
   "source": [
    "Start with DvcPosEntryMode"
   ]
  },
  {
   "cell_type": "code",
   "execution_count": 65,
   "id": "31c4f1b0-d598-421f-b070-fc4873ed838c",
   "metadata": {},
   "outputs": [],
   "source": [
    "sCatCol = 'DvcPosEntryMode'"
   ]
  },
  {
   "cell_type": "code",
   "execution_count": 66,
   "id": "ddd6458e-f97d-45ba-b621-c260a165848c",
   "metadata": {},
   "outputs": [],
   "source": [
    "def replace_values_in_column(df, column_name, values_to_replace, new_value):\n",
    "    \"\"\"\n",
    "    Replace specified values in a DataFrame column with a new value.\n",
    "\n",
    "    Parameters:\n",
    "    df (DataFrame): The DataFrame to operate on.\n",
    "    column_name (str): The name of the column in the DataFrame.\n",
    "    values_to_replace (list): The values in the column to replace.\n",
    "    new_value (str): The new value to replace the old values with.\n",
    "\n",
    "    Returns:\n",
    "    DataFrame: The DataFrame with updated values.\n",
    "    \"\"\"\n",
    "    if column_name in df.columns:\n",
    "        # Replace the values with the new value\n",
    "        df.loc[df[column_name].isin(values_to_replace), column_name] = new_value\n",
    "        print(f\"Values updated in '{column_name}' column.\")\n",
    "    else:\n",
    "        print(f\"Warning: '{column_name}' column does not exist in the dataframe.\")\n",
    "    return df"
   ]
  },
  {
   "cell_type": "code",
   "execution_count": 67,
   "id": "df15f6e4-efaf-4b12-910b-cf4054fa53c8",
   "metadata": {},
   "outputs": [
    {
     "name": "stdout",
     "output_type": "stream",
     "text": [
      "Values updated in 'DvcPosEntryMode' column.\n"
     ]
    }
   ],
   "source": [
    "# This list of entries have been indentified as a group - for 'E-Commerce'\n",
    "df = replace_values_in_column(df, sCatCol, ['0', '1', '81'], 'E-Commerce')"
   ]
  },
  {
   "cell_type": "code",
   "execution_count": 68,
   "id": "90a908fc-80ea-4d18-a228-b3e65c834ab6",
   "metadata": {},
   "outputs": [
    {
     "name": "stdout",
     "output_type": "stream",
     "text": [
      "\n",
      "Unique values and counts in DvcPosEntryMode:\n",
      "+----------------------------------+-------+\n",
      "| Unique Values in DvcPosEntryMode | Count |\n",
      "+----------------------------------+-------+\n",
      "|                U                 |  7153 |\n",
      "|            E-Commerce            |  6628 |\n",
      "|           Card Present           |  5132 |\n",
      "|                5                 |  3481 |\n",
      "|                91                |  589  |\n",
      "|                90                |  507  |\n",
      "|                80                |   60  |\n",
      "|                96                |   41  |\n",
      "+----------------------------------+-------+\n"
     ]
    }
   ],
   "source": [
    "# Check Column entries after first grouping\n",
    "get_unique_CC_categorical_values(sCatCol, df)"
   ]
  },
  {
   "cell_type": "code",
   "execution_count": 69,
   "id": "ae08026d-d3a1-4236-8509-ed688d806ba0",
   "metadata": {},
   "outputs": [
    {
     "name": "stdout",
     "output_type": "stream",
     "text": [
      "Values updated in 'DvcPosEntryMode' column.\n"
     ]
    }
   ],
   "source": [
    "# This list of entries have been indentified as a group - for 'Card Present'\n",
    "df = replace_values_in_column(df, sCatCol, ['5','80','90','91','96'], 'Card Present')"
   ]
  },
  {
   "cell_type": "code",
   "execution_count": 70,
   "id": "03a4f9fc-906f-4d9b-8a47-7e367363fdad",
   "metadata": {},
   "outputs": [
    {
     "name": "stdout",
     "output_type": "stream",
     "text": [
      "\n",
      "Unique values and counts in DvcPosEntryMode:\n",
      "+----------------------------------+-------+\n",
      "| Unique Values in DvcPosEntryMode | Count |\n",
      "+----------------------------------+-------+\n",
      "|           Card Present           |  9810 |\n",
      "|                U                 |  7153 |\n",
      "|            E-Commerce            |  6628 |\n",
      "+----------------------------------+-------+\n"
     ]
    }
   ],
   "source": [
    "# Check Column entries after second grouping\n",
    "get_unique_CC_categorical_values(sCatCol, df)"
   ]
  },
  {
   "cell_type": "code",
   "execution_count": 71,
   "id": "d88ce210-80f2-41e6-bb57-96c5fa69c000",
   "metadata": {},
   "outputs": [],
   "source": [
    "unique_counts, disp_df, dfCatCol = display_CC_cat_cols_cnt(df)"
   ]
  },
  {
   "cell_type": "markdown",
   "id": "3992cc41-4674-4e93-a577-404dfb98f02f",
   "metadata": {},
   "source": [
    "Display Status of Categorical Colums after grouping"
   ]
  },
  {
   "cell_type": "code",
   "execution_count": 72,
   "id": "4e43332e-eba6-41d7-86eb-d5d23fcb57a8",
   "metadata": {},
   "outputs": [
    {
     "data": {
      "text/html": [
       "<style type=\"text/css\">\n",
       "#T_5f7ed th {\n",
       "  font-size: 12pt;\n",
       "  background-color: lightblue;\n",
       "}\n",
       "#T_5f7ed td {\n",
       "  font-size: 12pt;\n",
       "}\n",
       "#T_5f7ed_row0_col0, #T_5f7ed_row0_col1, #T_5f7ed_row1_col0, #T_5f7ed_row1_col1, #T_5f7ed_row2_col0, #T_5f7ed_row2_col1, #T_5f7ed_row3_col0, #T_5f7ed_row3_col1, #T_5f7ed_row4_col0, #T_5f7ed_row4_col1 {\n",
       "  text-align: left;\n",
       "}\n",
       "</style>\n",
       "<table id=\"T_5f7ed\">\n",
       "  <caption>Categorical Columns and Unique Value Counts</caption>\n",
       "  <thead>\n",
       "    <tr>\n",
       "      <th class=\"blank level0\" >&nbsp;</th>\n",
       "      <th id=\"T_5f7ed_level0_col0\" class=\"col_heading level0 col0\" >Categorical Column</th>\n",
       "      <th id=\"T_5f7ed_level0_col1\" class=\"col_heading level0 col1\" >Unique Values Count</th>\n",
       "    </tr>\n",
       "  </thead>\n",
       "  <tbody>\n",
       "    <tr>\n",
       "      <th id=\"T_5f7ed_level0_row0\" class=\"row_heading level0 row0\" >PosTerminalAttended</th>\n",
       "      <td id=\"T_5f7ed_row0_col0\" class=\"data row0 col0\" >PosTerminalAttended</td>\n",
       "      <td id=\"T_5f7ed_row0_col1\" class=\"data row0 col1\" >3</td>\n",
       "    </tr>\n",
       "    <tr>\n",
       "      <th id=\"T_5f7ed_level0_row1\" class=\"row_heading level0 row1\" >TxnChannelCode</th>\n",
       "      <td id=\"T_5f7ed_row1_col0\" class=\"data row1 col0\" >TxnChannelCode</td>\n",
       "      <td id=\"T_5f7ed_row1_col1\" class=\"data row1 col1\" >2</td>\n",
       "    </tr>\n",
       "    <tr>\n",
       "      <th id=\"T_5f7ed_level0_row2\" class=\"row_heading level0 row2\" >CustomerPresentIndicator</th>\n",
       "      <td id=\"T_5f7ed_row2_col0\" class=\"data row2 col0\" >CustomerPresentIndicator</td>\n",
       "      <td id=\"T_5f7ed_row2_col1\" class=\"data row2 col1\" >3</td>\n",
       "    </tr>\n",
       "    <tr>\n",
       "      <th id=\"T_5f7ed_level0_row3\" class=\"row_heading level0 row3\" >DvcPosEntryMode</th>\n",
       "      <td id=\"T_5f7ed_row3_col0\" class=\"data row3 col0\" >DvcPosEntryMode</td>\n",
       "      <td id=\"T_5f7ed_row3_col1\" class=\"data row3 col1\" >3</td>\n",
       "    </tr>\n",
       "    <tr>\n",
       "      <th id=\"T_5f7ed_level0_row4\" class=\"row_heading level0 row4\" >ECommerceFlag</th>\n",
       "      <td id=\"T_5f7ed_row4_col0\" class=\"data row4 col0\" >ECommerceFlag</td>\n",
       "      <td id=\"T_5f7ed_row4_col1\" class=\"data row4 col1\" >2</td>\n",
       "    </tr>\n",
       "  </tbody>\n",
       "</table>\n"
      ],
      "text/plain": [
       "<pandas.io.formats.style.Styler at 0x7fefc998ba90>"
      ]
     },
     "execution_count": 72,
     "metadata": {},
     "output_type": "execute_result"
    }
   ],
   "source": [
    "disp_df"
   ]
  },
  {
   "cell_type": "markdown",
   "id": "7bdba2c4-72a9-4e68-9cd1-b90bf82ddc7e",
   "metadata": {},
   "source": [
    "#### Convert Categorical Values "
   ]
  },
  {
   "cell_type": "code",
   "execution_count": 73,
   "id": "2ce73ea1-42f6-4ad5-a17b-af9ccb8db837",
   "metadata": {},
   "outputs": [],
   "source": [
    "# Assuming 'df' is your DataFrame after all preprocessing steps\n",
    "# Identify categorical columns\n",
    "\n",
    "# categorical_features = df.select_dtypes(include=['object', 'category']).columns"
   ]
  },
  {
   "cell_type": "code",
   "execution_count": 74,
   "id": "e09da1a0-1b4b-465d-9fec-b03599d9f0ef",
   "metadata": {},
   "outputs": [],
   "source": [
    "# Perform one-hot encoding on all categorical columns\n",
    "# df_encoded = pd.get_dummies(df, columns=categorical_features)  -- trying to remove duplicate code\n",
    "\n",
    "df_encoded = pd.get_dummies(df, columns=lCatCols)\n",
    "\n",
    "# Now df_encoded is the dataframe with one-hot encoded categorical variables"
   ]
  },
  {
   "cell_type": "code",
   "execution_count": 75,
   "id": "237977ac-ea8c-4a2b-b869-1bd783b8f21e",
   "metadata": {},
   "outputs": [],
   "source": [
    "# display all columns\n",
    "#pd.set_option('display.max_columns', None)\n",
    "#print(df_encoded)"
   ]
  },
  {
   "cell_type": "markdown",
   "id": "e2602141-a346-4f6e-be17-967f78aecf9d",
   "metadata": {},
   "source": [
    "## Downsample Majority Class"
   ]
  },
  {
   "cell_type": "code",
   "execution_count": 76,
   "id": "1c57b45e-21d6-4529-8fae-abe115456b84",
   "metadata": {},
   "outputs": [
    {
     "data": {
      "text/plain": [
       "0    20306\n",
       "1     3285\n",
       "Name: Fraud, dtype: int64"
      ]
     },
     "execution_count": 76,
     "metadata": {},
     "output_type": "execute_result"
    }
   ],
   "source": [
    "# Check the distribution of the target variable\n",
    "target_distribution = df_encoded['Fraud'].value_counts()\n",
    "\n",
    "target_distribution"
   ]
  },
  {
   "cell_type": "code",
   "execution_count": 77,
   "id": "5236772c-abc4-4fdd-baf9-3c62d85617f0",
   "metadata": {},
   "outputs": [],
   "source": [
    "# Separate the majority and minority classes\n",
    "df_majority = df_encoded[df_encoded['Fraud'] == 0]\n",
    "df_minority = df_encoded[df_encoded['Fraud'] == 1]"
   ]
  },
  {
   "cell_type": "code",
   "execution_count": 78,
   "id": "ef1bd3b4-8f1c-48ee-9695-aa75e74c7f4e",
   "metadata": {},
   "outputs": [],
   "source": [
    "# Downsample the majority class\n",
    "df_majority_downsampled = resample(df_majority, \n",
    "                                   replace=False, \n",
    "                                   n_samples=target_distribution[1], \n",
    "                                   random_state=42)"
   ]
  },
  {
   "cell_type": "code",
   "execution_count": 79,
   "id": "33936987-05cb-4d7c-a696-b56b5d7a51be",
   "metadata": {},
   "outputs": [],
   "source": [
    "# Combine the downsampled majority class with the minority class\n",
    "df_downsampled = pd.concat([df_majority_downsampled, df_minority])"
   ]
  },
  {
   "cell_type": "code",
   "execution_count": 80,
   "id": "5b4deca8-f70d-4548-a9fb-7b413d2170f6",
   "metadata": {},
   "outputs": [],
   "source": [
    "# Shuffle the dataset to mix the data points\n",
    "df_downsampled = df_downsampled.sample(frac=1, random_state=42).reset_index(drop=True)"
   ]
  },
  {
   "cell_type": "code",
   "execution_count": 81,
   "id": "87c68ac9-8415-4558-b62b-2160a0557ab3",
   "metadata": {},
   "outputs": [
    {
     "data": {
      "text/plain": [
       "1    3285\n",
       "0    3285\n",
       "Name: Fraud, dtype: int64"
      ]
     },
     "execution_count": 81,
     "metadata": {},
     "output_type": "execute_result"
    }
   ],
   "source": [
    "# Display the distribution of the target variable in the downsampled dataset\n",
    "df_downsampled['Fraud'].value_counts()"
   ]
  },
  {
   "cell_type": "markdown",
   "id": "0d185990-e9ed-4a18-b2d6-b1d0791cec8a",
   "metadata": {},
   "source": [
    "## Split Features + Target"
   ]
  },
  {
   "cell_type": "code",
   "execution_count": 82,
   "id": "82fef000-24e5-4689-b5f7-e56b0d5c2400",
   "metadata": {},
   "outputs": [],
   "source": [
    "# Splitting the features and target variable\n",
    "X = df_downsampled.drop('Fraud', axis=1)\n",
    "y = df_downsampled['Fraud']"
   ]
  },
  {
   "cell_type": "markdown",
   "id": "31e7489d-d5cc-4b38-9d25-146f906265ff",
   "metadata": {},
   "source": [
    "## Split Data into Test/Training Datasets"
   ]
  },
  {
   "cell_type": "code",
   "execution_count": 83,
   "id": "8889c833-8b2a-41da-a53a-fc2553d03958",
   "metadata": {},
   "outputs": [],
   "source": [
    "# Splitting the data into training and testing sets\n",
    "X_train_downsampled, X_test_downsampled, y_train_downsampled, y_test_downsampled = train_test_split(\n",
    "    X, y, test_size=0.2, random_state=42)"
   ]
  },
  {
   "cell_type": "code",
   "execution_count": 84,
   "id": "f54ce919-1aee-4bf4-b5ec-fe9c9b5df79e",
   "metadata": {},
   "outputs": [
    {
     "data": {
      "text/plain": [
       "((5256, 64), (1314, 64))"
      ]
     },
     "execution_count": 84,
     "metadata": {},
     "output_type": "execute_result"
    }
   ],
   "source": [
    "X_train_downsampled.shape, X_test_downsampled.shape"
   ]
  },
  {
   "cell_type": "code",
   "execution_count": 85,
   "id": "085c46cc-d55f-4dba-a5cc-afa1321bdf15",
   "metadata": {},
   "outputs": [],
   "source": [
    "# Reset Indexes\n",
    "X_train_downsampled = X_train_downsampled.reset_index(drop=True)\n",
    "X_test_downsampled = X_test_downsampled.reset_index(drop=True)\n",
    "\n",
    "y_train_downsampled = y_train_downsampled.reset_index(drop=True)\n",
    "y_test_downsampled = y_test_downsampled.reset_index(drop=True)"
   ]
  },
  {
   "cell_type": "code",
   "execution_count": 86,
   "id": "576c46ae-60b4-4fad-bfea-9df44202e902",
   "metadata": {},
   "outputs": [
    {
     "data": {
      "text/plain": [
       "((5256, 64), (1314, 64), (5256,), (1314,))"
      ]
     },
     "execution_count": 86,
     "metadata": {},
     "output_type": "execute_result"
    }
   ],
   "source": [
    "X_train_downsampled.shape, X_test_downsampled.shape, y_train_downsampled.shape, y_test_downsampled.shape"
   ]
  },
  {
   "cell_type": "markdown",
   "id": "d187cc60-5415-49b3-b8b5-1fb4c7aa530c",
   "metadata": {},
   "source": [
    "## Store Test Data to File"
   ]
  },
  {
   "cell_type": "code",
   "execution_count": 87,
   "id": "5b192ca6-9f9a-4359-87e2-fe42d7251ba9",
   "metadata": {},
   "outputs": [],
   "source": [
    "# Stored the model training and test data for use in XAI experiment Notebooks\n",
    "# Jan 5th 2023 - Change sequence so that Test Data is stored BEFORE Scaling\n",
    "result, X_test_df, y_test_df, X_train_df, y_train_df = store_CC_train_test_data(X_test_downsampled, \n",
    "                                                                                y_test_downsampled,\n",
    "                                                                                X_train_downsampled,\n",
    "                                                                                y_train_downsampled,\n",
    "                                                                                df_downsampled, \n",
    "                                                                                lCatCols)  "
   ]
  },
  {
   "cell_type": "code",
   "execution_count": 88,
   "id": "5e6e338a-85d4-48c2-9d41-102b9dc9238d",
   "metadata": {},
   "outputs": [
    {
     "name": "stdout",
     "output_type": "stream",
     "text": [
      "CC Data stored!\n"
     ]
    }
   ],
   "source": [
    "print(result)"
   ]
  },
  {
   "cell_type": "code",
   "execution_count": 89,
   "id": "599beabe-9f4c-4b46-b28e-9262a4cf47b7",
   "metadata": {},
   "outputs": [
    {
     "data": {
      "text/html": [
       "<div>\n",
       "<style scoped>\n",
       "    .dataframe tbody tr th:only-of-type {\n",
       "        vertical-align: middle;\n",
       "    }\n",
       "\n",
       "    .dataframe tbody tr th {\n",
       "        vertical-align: top;\n",
       "    }\n",
       "\n",
       "    .dataframe thead th {\n",
       "        text-align: right;\n",
       "    }\n",
       "</style>\n",
       "<table border=\"1\" class=\"dataframe\">\n",
       "  <thead>\n",
       "    <tr style=\"text-align: right;\">\n",
       "      <th></th>\n",
       "      <th>OnlinePOSCount.cnt.day.present</th>\n",
       "      <th>EMVTransactionsCount.cnt.day.present</th>\n",
       "      <th>NonEMVTransactionsCount.cnt.day.present</th>\n",
       "      <th>MerchantCategory</th>\n",
       "      <th>POS_Count.cnt.day.present</th>\n",
       "      <th>PinIndicator</th>\n",
       "      <th>DomesticAuthCount.cnt.hour1</th>\n",
       "      <th>DomesticAuthCount.cnt.hour3</th>\n",
       "      <th>DomesticAuthCount.cnt.hour4</th>\n",
       "      <th>DomesticAuthCount.cnt.hour10</th>\n",
       "      <th>...</th>\n",
       "      <th>TxnChannelCode_OnL</th>\n",
       "      <th>TxnChannelCode_POS</th>\n",
       "      <th>CustomerPresentIndicator_N</th>\n",
       "      <th>CustomerPresentIndicator_U</th>\n",
       "      <th>CustomerPresentIndicator_Y</th>\n",
       "      <th>DvcPosEntryMode_Card Present</th>\n",
       "      <th>DvcPosEntryMode_E-Commerce</th>\n",
       "      <th>DvcPosEntryMode_U</th>\n",
       "      <th>ECommerceFlag_U</th>\n",
       "      <th>ECommerceFlag_Y</th>\n",
       "    </tr>\n",
       "  </thead>\n",
       "  <tbody>\n",
       "    <tr>\n",
       "      <th>0</th>\n",
       "      <td>1</td>\n",
       "      <td>0</td>\n",
       "      <td>1</td>\n",
       "      <td>5541</td>\n",
       "      <td>1</td>\n",
       "      <td>0</td>\n",
       "      <td>1</td>\n",
       "      <td>1</td>\n",
       "      <td>1</td>\n",
       "      <td>1</td>\n",
       "      <td>...</td>\n",
       "      <td>0</td>\n",
       "      <td>1</td>\n",
       "      <td>0</td>\n",
       "      <td>0</td>\n",
       "      <td>1</td>\n",
       "      <td>1</td>\n",
       "      <td>0</td>\n",
       "      <td>0</td>\n",
       "      <td>1</td>\n",
       "      <td>0</td>\n",
       "    </tr>\n",
       "  </tbody>\n",
       "</table>\n",
       "<p>1 rows × 64 columns</p>\n",
       "</div>"
      ],
      "text/plain": [
       "   OnlinePOSCount.cnt.day.present  EMVTransactionsCount.cnt.day.present  \\\n",
       "0                               1                                     0   \n",
       "\n",
       "   NonEMVTransactionsCount.cnt.day.present  MerchantCategory  \\\n",
       "0                                        1              5541   \n",
       "\n",
       "   POS_Count.cnt.day.present  PinIndicator  DomesticAuthCount.cnt.hour1  \\\n",
       "0                          1             0                            1   \n",
       "\n",
       "   DomesticAuthCount.cnt.hour3  DomesticAuthCount.cnt.hour4  \\\n",
       "0                            1                            1   \n",
       "\n",
       "   DomesticAuthCount.cnt.hour10  ...  TxnChannelCode_OnL  TxnChannelCode_POS  \\\n",
       "0                             1  ...                   0                   1   \n",
       "\n",
       "   CustomerPresentIndicator_N  CustomerPresentIndicator_U  \\\n",
       "0                           0                           0   \n",
       "\n",
       "   CustomerPresentIndicator_Y  DvcPosEntryMode_Card Present  \\\n",
       "0                           1                             1   \n",
       "\n",
       "   DvcPosEntryMode_E-Commerce  DvcPosEntryMode_U  ECommerceFlag_U  \\\n",
       "0                           0                  0                1   \n",
       "\n",
       "   ECommerceFlag_Y  \n",
       "0                0  \n",
       "\n",
       "[1 rows x 64 columns]"
      ]
     },
     "execution_count": 89,
     "metadata": {},
     "output_type": "execute_result"
    }
   ],
   "source": [
    "X_test_df.head(1)"
   ]
  },
  {
   "cell_type": "code",
   "execution_count": 90,
   "id": "93a2b422-2443-41d9-8372-b618a4edf5e7",
   "metadata": {},
   "outputs": [
    {
     "data": {
      "text/html": [
       "<div>\n",
       "<style scoped>\n",
       "    .dataframe tbody tr th:only-of-type {\n",
       "        vertical-align: middle;\n",
       "    }\n",
       "\n",
       "    .dataframe tbody tr th {\n",
       "        vertical-align: top;\n",
       "    }\n",
       "\n",
       "    .dataframe thead th {\n",
       "        text-align: right;\n",
       "    }\n",
       "</style>\n",
       "<table border=\"1\" class=\"dataframe\">\n",
       "  <thead>\n",
       "    <tr style=\"text-align: right;\">\n",
       "      <th></th>\n",
       "      <th>Fraud</th>\n",
       "    </tr>\n",
       "  </thead>\n",
       "  <tbody>\n",
       "    <tr>\n",
       "      <th>0</th>\n",
       "      <td>1</td>\n",
       "    </tr>\n",
       "  </tbody>\n",
       "</table>\n",
       "</div>"
      ],
      "text/plain": [
       "   Fraud\n",
       "0      1"
      ]
     },
     "execution_count": 90,
     "metadata": {},
     "output_type": "execute_result"
    }
   ],
   "source": [
    "y_test_df.head(1)"
   ]
  },
  {
   "cell_type": "code",
   "execution_count": 91,
   "id": "9e25ebb6-f7f7-40d2-92b3-a504926c8c0d",
   "metadata": {},
   "outputs": [
    {
     "data": {
      "text/html": [
       "<div>\n",
       "<style scoped>\n",
       "    .dataframe tbody tr th:only-of-type {\n",
       "        vertical-align: middle;\n",
       "    }\n",
       "\n",
       "    .dataframe tbody tr th {\n",
       "        vertical-align: top;\n",
       "    }\n",
       "\n",
       "    .dataframe thead th {\n",
       "        text-align: right;\n",
       "    }\n",
       "</style>\n",
       "<table border=\"1\" class=\"dataframe\">\n",
       "  <thead>\n",
       "    <tr style=\"text-align: right;\">\n",
       "      <th></th>\n",
       "      <th>OnlinePOSCount.cnt.day.present</th>\n",
       "      <th>EMVTransactionsCount.cnt.day.present</th>\n",
       "      <th>NonEMVTransactionsCount.cnt.day.present</th>\n",
       "      <th>MerchantCategory</th>\n",
       "      <th>POS_Count.cnt.day.present</th>\n",
       "      <th>PinIndicator</th>\n",
       "      <th>DomesticAuthCount.cnt.hour1</th>\n",
       "      <th>DomesticAuthCount.cnt.hour3</th>\n",
       "      <th>DomesticAuthCount.cnt.hour4</th>\n",
       "      <th>DomesticAuthCount.cnt.hour10</th>\n",
       "      <th>...</th>\n",
       "      <th>TxnChannelCode_OnL</th>\n",
       "      <th>TxnChannelCode_POS</th>\n",
       "      <th>CustomerPresentIndicator_N</th>\n",
       "      <th>CustomerPresentIndicator_U</th>\n",
       "      <th>CustomerPresentIndicator_Y</th>\n",
       "      <th>DvcPosEntryMode_Card Present</th>\n",
       "      <th>DvcPosEntryMode_E-Commerce</th>\n",
       "      <th>DvcPosEntryMode_U</th>\n",
       "      <th>ECommerceFlag_U</th>\n",
       "      <th>ECommerceFlag_Y</th>\n",
       "    </tr>\n",
       "  </thead>\n",
       "  <tbody>\n",
       "    <tr>\n",
       "      <th>0</th>\n",
       "      <td>2</td>\n",
       "      <td>2</td>\n",
       "      <td>0</td>\n",
       "      <td>5462</td>\n",
       "      <td>2</td>\n",
       "      <td>1</td>\n",
       "      <td>1</td>\n",
       "      <td>1</td>\n",
       "      <td>1</td>\n",
       "      <td>2</td>\n",
       "      <td>...</td>\n",
       "      <td>0</td>\n",
       "      <td>1</td>\n",
       "      <td>0</td>\n",
       "      <td>0</td>\n",
       "      <td>1</td>\n",
       "      <td>1</td>\n",
       "      <td>0</td>\n",
       "      <td>0</td>\n",
       "      <td>1</td>\n",
       "      <td>0</td>\n",
       "    </tr>\n",
       "  </tbody>\n",
       "</table>\n",
       "<p>1 rows × 64 columns</p>\n",
       "</div>"
      ],
      "text/plain": [
       "   OnlinePOSCount.cnt.day.present  EMVTransactionsCount.cnt.day.present  \\\n",
       "0                               2                                     2   \n",
       "\n",
       "   NonEMVTransactionsCount.cnt.day.present  MerchantCategory  \\\n",
       "0                                        0              5462   \n",
       "\n",
       "   POS_Count.cnt.day.present  PinIndicator  DomesticAuthCount.cnt.hour1  \\\n",
       "0                          2             1                            1   \n",
       "\n",
       "   DomesticAuthCount.cnt.hour3  DomesticAuthCount.cnt.hour4  \\\n",
       "0                            1                            1   \n",
       "\n",
       "   DomesticAuthCount.cnt.hour10  ...  TxnChannelCode_OnL  TxnChannelCode_POS  \\\n",
       "0                             2  ...                   0                   1   \n",
       "\n",
       "   CustomerPresentIndicator_N  CustomerPresentIndicator_U  \\\n",
       "0                           0                           0   \n",
       "\n",
       "   CustomerPresentIndicator_Y  DvcPosEntryMode_Card Present  \\\n",
       "0                           1                             1   \n",
       "\n",
       "   DvcPosEntryMode_E-Commerce  DvcPosEntryMode_U  ECommerceFlag_U  \\\n",
       "0                           0                  0                1   \n",
       "\n",
       "   ECommerceFlag_Y  \n",
       "0                0  \n",
       "\n",
       "[1 rows x 64 columns]"
      ]
     },
     "execution_count": 91,
     "metadata": {},
     "output_type": "execute_result"
    }
   ],
   "source": [
    "X_train_df.head(1)"
   ]
  },
  {
   "cell_type": "code",
   "execution_count": 92,
   "id": "5fabe88d-acdc-4a3e-9135-df2042afb967",
   "metadata": {},
   "outputs": [
    {
     "data": {
      "text/html": [
       "<div>\n",
       "<style scoped>\n",
       "    .dataframe tbody tr th:only-of-type {\n",
       "        vertical-align: middle;\n",
       "    }\n",
       "\n",
       "    .dataframe tbody tr th {\n",
       "        vertical-align: top;\n",
       "    }\n",
       "\n",
       "    .dataframe thead th {\n",
       "        text-align: right;\n",
       "    }\n",
       "</style>\n",
       "<table border=\"1\" class=\"dataframe\">\n",
       "  <thead>\n",
       "    <tr style=\"text-align: right;\">\n",
       "      <th></th>\n",
       "      <th>Fraud</th>\n",
       "    </tr>\n",
       "  </thead>\n",
       "  <tbody>\n",
       "    <tr>\n",
       "      <th>0</th>\n",
       "      <td>0</td>\n",
       "    </tr>\n",
       "  </tbody>\n",
       "</table>\n",
       "</div>"
      ],
      "text/plain": [
       "   Fraud\n",
       "0      0"
      ]
     },
     "execution_count": 92,
     "metadata": {},
     "output_type": "execute_result"
    }
   ],
   "source": [
    "y_train_df.head(1)"
   ]
  },
  {
   "cell_type": "markdown",
   "id": "699468f6-22f5-437a-a9ca-f3e9c7258134",
   "metadata": {},
   "source": [
    "## Scale The Features"
   ]
  },
  {
   "cell_type": "code",
   "execution_count": 93,
   "id": "eb7914e6-c704-46d7-afc4-90fe8785775c",
   "metadata": {},
   "outputs": [
    {
     "data": {
      "text/html": [
       "<div>\n",
       "<style scoped>\n",
       "    .dataframe tbody tr th:only-of-type {\n",
       "        vertical-align: middle;\n",
       "    }\n",
       "\n",
       "    .dataframe tbody tr th {\n",
       "        vertical-align: top;\n",
       "    }\n",
       "\n",
       "    .dataframe thead th {\n",
       "        text-align: right;\n",
       "    }\n",
       "</style>\n",
       "<table border=\"1\" class=\"dataframe\">\n",
       "  <thead>\n",
       "    <tr style=\"text-align: right;\">\n",
       "      <th></th>\n",
       "      <th>OnlinePOSCount.cnt.day.present</th>\n",
       "      <th>EMVTransactionsCount.cnt.day.present</th>\n",
       "      <th>NonEMVTransactionsCount.cnt.day.present</th>\n",
       "      <th>MerchantCategory</th>\n",
       "      <th>POS_Count.cnt.day.present</th>\n",
       "      <th>PinIndicator</th>\n",
       "      <th>DomesticAuthCount.cnt.hour1</th>\n",
       "      <th>DomesticAuthCount.cnt.hour3</th>\n",
       "      <th>DomesticAuthCount.cnt.hour4</th>\n",
       "      <th>DomesticAuthCount.cnt.hour10</th>\n",
       "      <th>...</th>\n",
       "      <th>TxnChannelCode_OnL</th>\n",
       "      <th>TxnChannelCode_POS</th>\n",
       "      <th>CustomerPresentIndicator_N</th>\n",
       "      <th>CustomerPresentIndicator_U</th>\n",
       "      <th>CustomerPresentIndicator_Y</th>\n",
       "      <th>DvcPosEntryMode_Card Present</th>\n",
       "      <th>DvcPosEntryMode_E-Commerce</th>\n",
       "      <th>DvcPosEntryMode_U</th>\n",
       "      <th>ECommerceFlag_U</th>\n",
       "      <th>ECommerceFlag_Y</th>\n",
       "    </tr>\n",
       "  </thead>\n",
       "  <tbody>\n",
       "    <tr>\n",
       "      <th>0</th>\n",
       "      <td>2</td>\n",
       "      <td>2</td>\n",
       "      <td>0</td>\n",
       "      <td>5462</td>\n",
       "      <td>2</td>\n",
       "      <td>1</td>\n",
       "      <td>1</td>\n",
       "      <td>1</td>\n",
       "      <td>1</td>\n",
       "      <td>2</td>\n",
       "      <td>...</td>\n",
       "      <td>0</td>\n",
       "      <td>1</td>\n",
       "      <td>0</td>\n",
       "      <td>0</td>\n",
       "      <td>1</td>\n",
       "      <td>1</td>\n",
       "      <td>0</td>\n",
       "      <td>0</td>\n",
       "      <td>1</td>\n",
       "      <td>0</td>\n",
       "    </tr>\n",
       "    <tr>\n",
       "      <th>1</th>\n",
       "      <td>-2</td>\n",
       "      <td>0</td>\n",
       "      <td>4</td>\n",
       "      <td>8999</td>\n",
       "      <td>1</td>\n",
       "      <td>0</td>\n",
       "      <td>4</td>\n",
       "      <td>4</td>\n",
       "      <td>4</td>\n",
       "      <td>4</td>\n",
       "      <td>...</td>\n",
       "      <td>1</td>\n",
       "      <td>0</td>\n",
       "      <td>1</td>\n",
       "      <td>0</td>\n",
       "      <td>0</td>\n",
       "      <td>0</td>\n",
       "      <td>1</td>\n",
       "      <td>0</td>\n",
       "      <td>0</td>\n",
       "      <td>1</td>\n",
       "    </tr>\n",
       "    <tr>\n",
       "      <th>2</th>\n",
       "      <td>-1</td>\n",
       "      <td>0</td>\n",
       "      <td>1</td>\n",
       "      <td>9399</td>\n",
       "      <td>0</td>\n",
       "      <td>0</td>\n",
       "      <td>0</td>\n",
       "      <td>0</td>\n",
       "      <td>0</td>\n",
       "      <td>0</td>\n",
       "      <td>...</td>\n",
       "      <td>1</td>\n",
       "      <td>0</td>\n",
       "      <td>1</td>\n",
       "      <td>0</td>\n",
       "      <td>0</td>\n",
       "      <td>1</td>\n",
       "      <td>0</td>\n",
       "      <td>0</td>\n",
       "      <td>1</td>\n",
       "      <td>0</td>\n",
       "    </tr>\n",
       "    <tr>\n",
       "      <th>3</th>\n",
       "      <td>-4</td>\n",
       "      <td>0</td>\n",
       "      <td>4</td>\n",
       "      <td>7399</td>\n",
       "      <td>0</td>\n",
       "      <td>0</td>\n",
       "      <td>4</td>\n",
       "      <td>4</td>\n",
       "      <td>4</td>\n",
       "      <td>4</td>\n",
       "      <td>...</td>\n",
       "      <td>1</td>\n",
       "      <td>0</td>\n",
       "      <td>1</td>\n",
       "      <td>0</td>\n",
       "      <td>0</td>\n",
       "      <td>0</td>\n",
       "      <td>1</td>\n",
       "      <td>0</td>\n",
       "      <td>0</td>\n",
       "      <td>1</td>\n",
       "    </tr>\n",
       "    <tr>\n",
       "      <th>4</th>\n",
       "      <td>-1</td>\n",
       "      <td>0</td>\n",
       "      <td>1</td>\n",
       "      <td>4812</td>\n",
       "      <td>0</td>\n",
       "      <td>0</td>\n",
       "      <td>1</td>\n",
       "      <td>1</td>\n",
       "      <td>1</td>\n",
       "      <td>1</td>\n",
       "      <td>...</td>\n",
       "      <td>1</td>\n",
       "      <td>0</td>\n",
       "      <td>1</td>\n",
       "      <td>0</td>\n",
       "      <td>0</td>\n",
       "      <td>0</td>\n",
       "      <td>1</td>\n",
       "      <td>0</td>\n",
       "      <td>0</td>\n",
       "      <td>1</td>\n",
       "    </tr>\n",
       "  </tbody>\n",
       "</table>\n",
       "<p>5 rows × 64 columns</p>\n",
       "</div>"
      ],
      "text/plain": [
       "   OnlinePOSCount.cnt.day.present  EMVTransactionsCount.cnt.day.present  \\\n",
       "0                               2                                     2   \n",
       "1                              -2                                     0   \n",
       "2                              -1                                     0   \n",
       "3                              -4                                     0   \n",
       "4                              -1                                     0   \n",
       "\n",
       "   NonEMVTransactionsCount.cnt.day.present  MerchantCategory  \\\n",
       "0                                        0              5462   \n",
       "1                                        4              8999   \n",
       "2                                        1              9399   \n",
       "3                                        4              7399   \n",
       "4                                        1              4812   \n",
       "\n",
       "   POS_Count.cnt.day.present  PinIndicator  DomesticAuthCount.cnt.hour1  \\\n",
       "0                          2             1                            1   \n",
       "1                          1             0                            4   \n",
       "2                          0             0                            0   \n",
       "3                          0             0                            4   \n",
       "4                          0             0                            1   \n",
       "\n",
       "   DomesticAuthCount.cnt.hour3  DomesticAuthCount.cnt.hour4  \\\n",
       "0                            1                            1   \n",
       "1                            4                            4   \n",
       "2                            0                            0   \n",
       "3                            4                            4   \n",
       "4                            1                            1   \n",
       "\n",
       "   DomesticAuthCount.cnt.hour10  ...  TxnChannelCode_OnL  TxnChannelCode_POS  \\\n",
       "0                             2  ...                   0                   1   \n",
       "1                             4  ...                   1                   0   \n",
       "2                             0  ...                   1                   0   \n",
       "3                             4  ...                   1                   0   \n",
       "4                             1  ...                   1                   0   \n",
       "\n",
       "   CustomerPresentIndicator_N  CustomerPresentIndicator_U  \\\n",
       "0                           0                           0   \n",
       "1                           1                           0   \n",
       "2                           1                           0   \n",
       "3                           1                           0   \n",
       "4                           1                           0   \n",
       "\n",
       "   CustomerPresentIndicator_Y  DvcPosEntryMode_Card Present  \\\n",
       "0                           1                             1   \n",
       "1                           0                             0   \n",
       "2                           0                             1   \n",
       "3                           0                             0   \n",
       "4                           0                             0   \n",
       "\n",
       "   DvcPosEntryMode_E-Commerce  DvcPosEntryMode_U  ECommerceFlag_U  \\\n",
       "0                           0                  0                1   \n",
       "1                           1                  0                0   \n",
       "2                           0                  0                1   \n",
       "3                           1                  0                0   \n",
       "4                           1                  0                0   \n",
       "\n",
       "   ECommerceFlag_Y  \n",
       "0                0  \n",
       "1                1  \n",
       "2                0  \n",
       "3                1  \n",
       "4                1  \n",
       "\n",
       "[5 rows x 64 columns]"
      ]
     },
     "execution_count": 93,
     "metadata": {},
     "output_type": "execute_result"
    }
   ],
   "source": [
    "X_train_downsampled.head()"
   ]
  },
  {
   "cell_type": "code",
   "execution_count": 94,
   "id": "217d64aa-e1cd-4a9b-8535-73640e563583",
   "metadata": {},
   "outputs": [
    {
     "data": {
      "text/html": [
       "\n",
       "    <div style=\"font-size: 20px; font-weight: bold;\">\n",
       "        Visualise before scaling...\n",
       "    </div>\n",
       "    "
      ],
      "text/plain": [
       "<IPython.core.display.HTML object>"
      ]
     },
     "metadata": {},
     "output_type": "display_data"
    },
    {
     "data": {
      "image/png": "[encoded data removed]",
      "text/plain": [
       "<Figure size 864x432 with 1 Axes>"
      ]
     },
     "metadata": {
      "needs_background": "light"
     },
     "output_type": "display_data"
    },
    {
     "data": {
      "text/html": [
       "\n",
       "    <div style=\"font-size: 20px; font-weight: bold;\">\n",
       "        Visualise after scaling...\n",
       "    </div>\n",
       "    "
      ],
      "text/plain": [
       "<IPython.core.display.HTML object>"
      ]
     },
     "metadata": {},
     "output_type": "display_data"
    },
    {
     "data": {
      "image/png": "[encoded data removed]",
      "text/plain": [
       "<Figure size 864x432 with 1 Axes>"
      ]
     },
     "metadata": {
      "needs_background": "light"
     },
     "output_type": "display_data"
    }
   ],
   "source": [
    "X_train_downsampled, X_test_downsampled = scale_the_features(X_train_downsampled, X_test_downsampled, df_downsampled, 'Fraud')"
   ]
  },
  {
   "cell_type": "markdown",
   "id": "5703de47-7360-4ff5-ae4c-74c8a07d3e3a",
   "metadata": {},
   "source": [
    "## Basic Additional Data Exploration (Training Data)"
   ]
  },
  {
   "cell_type": "code",
   "execution_count": 95,
   "id": "7cbc7d39-423e-41fd-804a-7cb2991d87c3",
   "metadata": {},
   "outputs": [
    {
     "name": "stdout",
     "output_type": "stream",
     "text": [
      "Number of Features: 64\n",
      "Number Continuous Features: 59\n",
      "Number Categorical Features: 5\n",
      "Number Train Examples: 5256\n",
      "Number Positive Train Examples: 2635\n",
      "Number Negative Train Examples: 2621\n"
     ]
    }
   ],
   "source": [
    "# Train model Stats\n",
    "print(\"Number of Features:\", X_train_downsampled.shape[1])\n",
    "#print(\"Number Continuous Features:\", X_train_downsampled.shape[1] - len(categorical_features))\n",
    "#print(\"Number Categorical Features:\", len(categorical_features))\n",
    "\n",
    "#lCatCols\n",
    "print(\"Number Continuous Features:\", X_train_downsampled.shape[1] - len(lCatCols))\n",
    "print(\"Number Categorical Features:\", len(lCatCols))\n",
    "\n",
    "print(\"Number Train Examples:\", X_train_downsampled.shape[0])\n",
    "print(\"Number Positive Train Examples:\", (y_train_downsampled == 1).sum())\n",
    "print(\"Number Negative Train Examples:\", (y_train_downsampled == 0).sum())"
   ]
  },
  {
   "cell_type": "markdown",
   "id": "4d34c240-98c3-415b-b7fd-ca0348356af4",
   "metadata": {},
   "source": [
    "# Build Model"
   ]
  },
  {
   "cell_type": "markdown",
   "id": "db25a95a-bb49-4a87-997d-b56240575a06",
   "metadata": {},
   "source": [
    "## Set Up Hyperparameters"
   ]
  },
  {
   "cell_type": "markdown",
   "id": "2fa66279-a1de-41f5-9bd5-0cc5e5feda01",
   "metadata": {},
   "source": [
    "Define iterations/epochs to be used in model tuning"
   ]
  },
  {
   "cell_type": "code",
   "execution_count": 96,
   "id": "fe42a18f-6b56-4175-b972-4cb1a4fac67c",
   "metadata": {},
   "outputs": [],
   "source": [
    "number_of_trials = 5 #25\n",
    "number_of_epochs = 5 #50 or 100"
   ]
  },
  {
   "cell_type": "markdown",
   "id": "6fc837e7-b2ad-45c6-aa39-5a9c1090adb9",
   "metadata": {},
   "source": [
    "Set up model tuning routines"
   ]
  },
  {
   "cell_type": "code",
   "execution_count": 97,
   "id": "d2d076e0-305e-4ad9-9433-e6c6e176f724",
   "metadata": {},
   "outputs": [],
   "source": [
    "# Define the model with hyperparameter tuning\n",
    "def build_model(hp):\n",
    "    model = Sequential()\n",
    "    \n",
    "    model.add(Dense(units=hp.Int('units_input', min_value=32, max_value=512, step=32), \n",
    "                    activation='relu', input_shape=(X_train_downsampled.shape[1],)))\n",
    "    model.add(Dropout(rate=hp.Float('dropout_input', min_value=0.0, max_value=0.5, default=0.25, step=0.05)))\n",
    "    \n",
    "    for i in range(hp.Int('n_layers', 1, 3)):\n",
    "        model.add(Dense(units=hp.Int('units_' + str(i), min_value=32, max_value=512, step=32), activation='relu'))\n",
    "        model.add(Dropout(rate=hp.Float('dropout_' + str(i), min_value=0.0, max_value=0.5, default=0.25, step=0.05)))\n",
    "    \n",
    "    model.add(Dense(1, activation='sigmoid'))\n",
    "    \n",
    "    model.compile(optimizer=Adam(learning_rate=hp.Choice('learning_rate', values=[1e-2, 1e-3, 1e-4])),\n",
    "                  loss='binary_crossentropy', metrics=['accuracy'])\n",
    "    \n",
    "    return model"
   ]
  },
  {
   "cell_type": "code",
   "execution_count": 98,
   "id": "02224b24-e0b8-4545-8102-9775a3461bb9",
   "metadata": {},
   "outputs": [
    {
     "name": "stdout",
     "output_type": "stream",
     "text": [
      "Reloading Tuner from my_dir/ccfraudxai/tuner0.json\n"
     ]
    }
   ],
   "source": [
    "# Set up the tuner\n",
    "tuner = kt.RandomSearch(\n",
    "        build_model,\n",
    "        objective='val_accuracy',\n",
    "        max_trials=number_of_trials,#10 or 25\n",
    "        executions_per_trial=1,\n",
    "        directory='my_dir',\n",
    "        project_name='ccfraudxai'\n",
    ")"
   ]
  },
  {
   "cell_type": "code",
   "execution_count": 99,
   "id": "5e7de5ca-3783-47c7-81fc-d5cd6cba0370",
   "metadata": {},
   "outputs": [],
   "source": [
    "# Perform hyperparameter tuning\n",
    "tuner.search(X_train_downsampled, \n",
    "             y_train_downsampled, \n",
    "             epochs=number_of_epochs,#50 or 100\n",
    "             validation_split=0.2, \n",
    "             verbose=1)"
   ]
  },
  {
   "cell_type": "code",
   "execution_count": 100,
   "id": "6c5e012d-44cf-410e-97da-db3f2495a165",
   "metadata": {},
   "outputs": [],
   "source": [
    "# Get the best hyperparameters\n",
    "best_hps = tuner.get_best_hyperparameters(num_trials=1)[0]"
   ]
  },
  {
   "cell_type": "code",
   "execution_count": 101,
   "id": "3108cfc5-ab29-4ad3-97f2-e0e931b027bd",
   "metadata": {},
   "outputs": [
    {
     "name": "stdout",
     "output_type": "stream",
     "text": [
      "\n",
      "The hyperparameter search is complete. The optimal number of units in the first densely-connected\n",
      "layer is 192 and the optimal learning rate for the optimizer\n",
      "is 0.001.\n",
      "\n"
     ]
    }
   ],
   "source": [
    "print(f\"\"\"\n",
    "The hyperparameter search is complete. The optimal number of units in the first densely-connected\n",
    "layer is {best_hps.get('units_input')} and the optimal learning rate for the optimizer\n",
    "is {best_hps.get('learning_rate')}.\n",
    "\"\"\")"
   ]
  },
  {
   "cell_type": "markdown",
   "id": "f97377fc-aaeb-48ae-bcb4-406a1dfacc35",
   "metadata": {},
   "source": [
    "## Build Neural Network (w/TensorFlow/Keras)"
   ]
  },
  {
   "cell_type": "code",
   "execution_count": 102,
   "id": "b00586ff-e5c9-4e71-8695-a790a04f15fc",
   "metadata": {},
   "outputs": [],
   "source": [
    "# Build the model with the best hyperparameters\n",
    "model = build_model(best_hps)"
   ]
  },
  {
   "cell_type": "code",
   "execution_count": 103,
   "id": "692008a2-6be5-432d-9c97-84da6b95fa9e",
   "metadata": {},
   "outputs": [
    {
     "name": "stdout",
     "output_type": "stream",
     "text": [
      "Model: \"sequential\"\n",
      "_________________________________________________________________\n",
      " Layer (type)                Output Shape              Param #   \n",
      "=================================================================\n",
      " dense (Dense)               (None, 192)               12480     \n",
      "                                                                 \n",
      " dropout (Dropout)           (None, 192)               0         \n",
      "                                                                 \n",
      " dense_1 (Dense)             (None, 64)                12352     \n",
      "                                                                 \n",
      " dropout_1 (Dropout)         (None, 64)                0         \n",
      "                                                                 \n",
      " dense_2 (Dense)             (None, 32)                2080      \n",
      "                                                                 \n",
      " dropout_2 (Dropout)         (None, 32)                0         \n",
      "                                                                 \n",
      " dense_3 (Dense)             (None, 1)                 33        \n",
      "                                                                 \n",
      "=================================================================\n",
      "Total params: 26945 (105.25 KB)\n",
      "Trainable params: 26945 (105.25 KB)\n",
      "Non-trainable params: 0 (0.00 Byte)\n",
      "_________________________________________________________________\n"
     ]
    }
   ],
   "source": [
    "# Summary of the model\n",
    "model.summary()"
   ]
  },
  {
   "cell_type": "code",
   "execution_count": 104,
   "id": "89e4f9fc-1770-40b7-bf39-000d0c9d2336",
   "metadata": {},
   "outputs": [
    {
     "name": "stdout",
     "output_type": "stream",
     "text": [
      "Epoch 1/5\n",
      "132/132 [==============================] - 1s 3ms/step - loss: 0.5073 - accuracy: 0.7519 - val_loss: 0.3950 - val_accuracy: 0.8165\n",
      "Epoch 2/5\n",
      "132/132 [==============================] - 0s 2ms/step - loss: 0.4322 - accuracy: 0.8047 - val_loss: 0.3842 - val_accuracy: 0.8279\n",
      "Epoch 3/5\n",
      "132/132 [==============================] - 0s 2ms/step - loss: 0.4133 - accuracy: 0.8128 - val_loss: 0.3765 - val_accuracy: 0.8251\n",
      "Epoch 4/5\n",
      "132/132 [==============================] - 0s 2ms/step - loss: 0.3943 - accuracy: 0.8225 - val_loss: 0.3686 - val_accuracy: 0.8327\n",
      "Epoch 5/5\n",
      "132/132 [==============================] - 0s 2ms/step - loss: 0.3810 - accuracy: 0.8297 - val_loss: 0.3688 - val_accuracy: 0.8298\n"
     ]
    }
   ],
   "source": [
    "# Fit the model\n",
    "history = model.fit(X_train_downsampled, \n",
    "                    y_train_downsampled,\n",
    "                    epochs=number_of_epochs,#100,  \n",
    "                    batch_size=32,  \n",
    "                    validation_split=0.2,  # Use part of the training data for validation\n",
    "                    verbose=1)"
   ]
  },
  {
   "cell_type": "markdown",
   "id": "83294197-83eb-4f68-8af9-fe026174630d",
   "metadata": {},
   "source": [
    "# Evaluate Model"
   ]
  },
  {
   "cell_type": "markdown",
   "id": "ed78284c-f003-4601-85c8-d4128c0b1f00",
   "metadata": {},
   "source": [
    "## Assess and Display Model Peformance"
   ]
  },
  {
   "cell_type": "code",
   "execution_count": 105,
   "id": "517889d9-ec43-40b5-ad05-5e8de6d8f47e",
   "metadata": {},
   "outputs": [],
   "source": [
    "#X_test_downsampled"
   ]
  },
  {
   "cell_type": "code",
   "execution_count": 106,
   "id": "cfac0d80-d0af-4108-911c-1d7b2b7e996d",
   "metadata": {},
   "outputs": [],
   "source": [
    "#y_test_downsampled.head()"
   ]
  },
  {
   "cell_type": "code",
   "execution_count": 107,
   "id": "4979c9d3-8003-4966-a213-9bbb568e0357",
   "metadata": {},
   "outputs": [
    {
     "name": "stdout",
     "output_type": "stream",
     "text": [
      "Test Accuracy: 83.33%\n"
     ]
    }
   ],
   "source": [
    "# Evaluate the model on test data\n",
    "loss, accuracy = model.evaluate(X_test_downsampled, y_test_downsampled, verbose=0)\n",
    "print(\"Test Accuracy: {:.2f}%\".format(accuracy * 100))"
   ]
  },
  {
   "cell_type": "markdown",
   "id": "572bda2d-8502-4f71-a8f8-f1cceaf8ba04",
   "metadata": {},
   "source": [
    "### Tabular Data"
   ]
  },
  {
   "cell_type": "code",
   "execution_count": 108,
   "id": "1b369352-324f-42a8-859e-cd173c859a45",
   "metadata": {},
   "outputs": [
    {
     "data": {
      "text/html": [
       "\n",
       "    <div style=\"background-color: #4CAF50; padding: 7px; text-align: center; border-radius: 3px;\">\n",
       "        <h2 style=\"color: white;\">This is the Model Accuracy</h2>\n",
       "    </div>\n",
       "    "
      ],
      "text/plain": [
       "<IPython.core.display.HTML object>"
      ]
     },
     "metadata": {},
     "output_type": "display_data"
    },
    {
     "name": "stdout",
     "output_type": "stream",
     "text": [
      "42/42 [==============================] - 0s 1ms/step - loss: 0.3699 - accuracy: 0.8333\n"
     ]
    },
    {
     "data": {
      "text/html": [
       "\n",
       "    <div style=\"font-size: 20px; font-weight: bold;\">\n",
       "        Test Accuracy: 83.33%\n",
       "    </div>\n",
       "    "
      ],
      "text/plain": [
       "<IPython.core.display.HTML object>"
      ]
     },
     "metadata": {},
     "output_type": "display_data"
    },
    {
     "name": "stdout",
     "output_type": "stream",
     "text": [
      "42/42 [==============================] - 0s 920us/step\n"
     ]
    },
    {
     "data": {
      "text/html": [
       "\n",
       "    <div style=\"font-size: 20px; font-weight: bold;\">\n",
       "        Model Performance Metrics\n",
       "    </div>\n",
       "    "
      ],
      "text/plain": [
       "<IPython.core.display.HTML object>"
      ]
     },
     "metadata": {},
     "output_type": "display_data"
    },
    {
     "data": {
      "text/html": [
       "<table border=\"1\" class=\"dataframe table table-striped table-bordered\">\n",
       "  <thead>\n",
       "    <tr style=\"text-align: right;\">\n",
       "      <th>Metric</th>\n",
       "      <th>Value</th>\n",
       "    </tr>\n",
       "  </thead>\n",
       "  <tbody>\n",
       "    <tr>\n",
       "      <td>Accuracy</td>\n",
       "      <td>0.833333</td>\n",
       "    </tr>\n",
       "    <tr>\n",
       "      <td>ROC AUC Score</td>\n",
       "      <td>0.917089</td>\n",
       "    </tr>\n",
       "    <tr>\n",
       "      <td>Precision (Class 0)</td>\n",
       "      <td>0.852615</td>\n",
       "    </tr>\n",
       "    <tr>\n",
       "      <td>Recall (Class 0)</td>\n",
       "      <td>0.810241</td>\n",
       "    </tr>\n",
       "    <tr>\n",
       "      <td>F1-Score (Class 0)</td>\n",
       "      <td>0.830888</td>\n",
       "    </tr>\n",
       "    <tr>\n",
       "      <td>Precision (Class 1)</td>\n",
       "      <td>0.815520</td>\n",
       "    </tr>\n",
       "    <tr>\n",
       "      <td>Recall (Class 1)</td>\n",
       "      <td>0.856923</td>\n",
       "    </tr>\n",
       "    <tr>\n",
       "      <td>F1-Score (Class 1)</td>\n",
       "      <td>0.835709</td>\n",
       "    </tr>\n",
       "  </tbody>\n",
       "</table>"
      ],
      "text/plain": [
       "<IPython.core.display.HTML object>"
      ]
     },
     "metadata": {},
     "output_type": "display_data"
    },
    {
     "name": "stdout",
     "output_type": "stream",
     "text": [
      "Tablular Done!\n"
     ]
    }
   ],
   "source": [
    "y_pred = display_model_metrics_tabular(model, X_test_downsampled, y_test_downsampled)"
   ]
  },
  {
   "cell_type": "markdown",
   "id": "e29a652f-e688-4651-b2ce-492939a8ded4",
   "metadata": {},
   "source": [
    "### Confusion Matrix"
   ]
  },
  {
   "cell_type": "code",
   "execution_count": 109,
   "id": "8a62e334-7ef8-4a86-9f2d-d6047d4ec399",
   "metadata": {},
   "outputs": [
    {
     "data": {
      "text/html": [
       "\n",
       "    <div style=\"background-color: #4CAF50; padding: 7px; text-align: center; border-radius: 3px;\">\n",
       "        <h2 style=\"color: white;\">Confusion Matrix</h2>\n",
       "    </div>\n",
       "    "
      ],
      "text/plain": [
       "<IPython.core.display.HTML object>"
      ]
     },
     "metadata": {},
     "output_type": "display_data"
    },
    {
     "data": {
      "image/png": "[encoded data removed]",
      "text/plain": [
       "<Figure size 576x432 with 1 Axes>"
      ]
     },
     "metadata": {
      "needs_background": "light"
     },
     "output_type": "display_data"
    },
    {
     "data": {
      "text/plain": [
       "'Confusion Matrix!'"
      ]
     },
     "execution_count": 109,
     "metadata": {},
     "output_type": "execute_result"
    }
   ],
   "source": [
    "generate_confusion_matrix(y_test_downsampled, y_pred)"
   ]
  },
  {
   "cell_type": "markdown",
   "id": "8a627fab-1929-4ea5-b31d-4268c9f920ef",
   "metadata": {},
   "source": [
    ".."
   ]
  },
  {
   "cell_type": "markdown",
   "id": "bd3295e2-ae09-4a50-8b15-3998cf3a4d35",
   "metadata": {},
   "source": [
    "# Save Model"
   ]
  },
  {
   "cell_type": "markdown",
   "id": "4e9e2644-af9f-402d-a75c-a0e9a31d45ae",
   "metadata": {},
   "source": [
    "## Save Model for Re-Use"
   ]
  },
  {
   "cell_type": "markdown",
   "id": "2974b913-5e59-4907-8909-178a9765eafa",
   "metadata": {},
   "source": [
    "The model will be used in all the XAI metrics evaluation experiments for SHAP. LIME. ANCHORS and DiCE"
   ]
  },
  {
   "cell_type": "code",
   "execution_count": 110,
   "id": "3824352e-e9f8-40ff-af2e-09e3bf7c2a99",
   "metadata": {},
   "outputs": [
    {
     "name": "stdout",
     "output_type": "stream",
     "text": [
      "INFO:tensorflow:Assets written to: ccfraud_model_test/assets\n"
     ]
    },
    {
     "name": "stderr",
     "output_type": "stream",
     "text": [
      "INFO:tensorflow:Assets written to: ccfraud_model_test/assets\n"
     ]
    }
   ],
   "source": [
    "model.save('ccfraud_model_test')  # Saves to the TensorFlow SavedModel format"
   ]
  },
  {
   "cell_type": "markdown",
   "id": "d5db46a2-9c13-4755-80de-e454d97abf7f",
   "metadata": {},
   "source": [
    "## Check Re-Load of Model"
   ]
  },
  {
   "cell_type": "code",
   "execution_count": 111,
   "id": "2d22166a-4e18-4353-ab3a-9d01450e4b41",
   "metadata": {},
   "outputs": [],
   "source": [
    "loaded_model = keras.models.load_model('ccfraud_model')  # If saved as SavedModel"
   ]
  },
  {
   "cell_type": "code",
   "execution_count": 112,
   "id": "0f92947f-7b41-463d-8165-b52f2c414a63",
   "metadata": {},
   "outputs": [
    {
     "data": {
      "text/html": [
       "\n",
       "    <div style=\"background-color: #4CAF50; padding: 7px; text-align: center; border-radius: 3px;\">\n",
       "        <h2 style=\"color: white;\">This is the Model Accuracy</h2>\n",
       "    </div>\n",
       "    "
      ],
      "text/plain": [
       "<IPython.core.display.HTML object>"
      ]
     },
     "metadata": {},
     "output_type": "display_data"
    },
    {
     "name": "stdout",
     "output_type": "stream",
     "text": [
      "42/42 [==============================] - 0s 1ms/step - loss: 0.3541 - accuracy: 0.8752\n"
     ]
    },
    {
     "data": {
      "text/html": [
       "\n",
       "    <div style=\"font-size: 20px; font-weight: bold;\">\n",
       "        Test Accuracy: 87.52%\n",
       "    </div>\n",
       "    "
      ],
      "text/plain": [
       "<IPython.core.display.HTML object>"
      ]
     },
     "metadata": {},
     "output_type": "display_data"
    },
    {
     "name": "stdout",
     "output_type": "stream",
     "text": [
      "42/42 [==============================] - 0s 945us/step\n"
     ]
    },
    {
     "data": {
      "text/html": [
       "\n",
       "    <div style=\"font-size: 20px; font-weight: bold;\">\n",
       "        Model Performance Metrics\n",
       "    </div>\n",
       "    "
      ],
      "text/plain": [
       "<IPython.core.display.HTML object>"
      ]
     },
     "metadata": {},
     "output_type": "display_data"
    },
    {
     "data": {
      "text/html": [
       "<table border=\"1\" class=\"dataframe table table-striped table-bordered\">\n",
       "  <thead>\n",
       "    <tr style=\"text-align: right;\">\n",
       "      <th>Metric</th>\n",
       "      <th>Value</th>\n",
       "    </tr>\n",
       "  </thead>\n",
       "  <tbody>\n",
       "    <tr>\n",
       "      <td>Accuracy</td>\n",
       "      <td>0.875190</td>\n",
       "    </tr>\n",
       "    <tr>\n",
       "      <td>ROC AUC Score</td>\n",
       "      <td>0.942497</td>\n",
       "    </tr>\n",
       "    <tr>\n",
       "      <td>Precision (Class 0)</td>\n",
       "      <td>0.867647</td>\n",
       "    </tr>\n",
       "    <tr>\n",
       "      <td>Recall (Class 0)</td>\n",
       "      <td>0.888554</td>\n",
       "    </tr>\n",
       "    <tr>\n",
       "      <td>F1-Score (Class 0)</td>\n",
       "      <td>0.877976</td>\n",
       "    </tr>\n",
       "    <tr>\n",
       "      <td>Precision (Class 1)</td>\n",
       "      <td>0.883281</td>\n",
       "    </tr>\n",
       "    <tr>\n",
       "      <td>Recall (Class 1)</td>\n",
       "      <td>0.861538</td>\n",
       "    </tr>\n",
       "    <tr>\n",
       "      <td>F1-Score (Class 1)</td>\n",
       "      <td>0.872274</td>\n",
       "    </tr>\n",
       "  </tbody>\n",
       "</table>"
      ],
      "text/plain": [
       "<IPython.core.display.HTML object>"
      ]
     },
     "metadata": {},
     "output_type": "display_data"
    },
    {
     "name": "stdout",
     "output_type": "stream",
     "text": [
      "Tablular Done!\n"
     ]
    }
   ],
   "source": [
    "y_pred_loaded = display_model_metrics_tabular(loaded_model, X_test_downsampled, y_test_downsampled)"
   ]
  },
  {
   "cell_type": "code",
   "execution_count": 113,
   "id": "657d92a0-4f40-41d4-b477-4e3c3ff3a356",
   "metadata": {},
   "outputs": [
    {
     "data": {
      "text/html": [
       "\n",
       "    <div style=\"background-color: #4CAF50; padding: 7px; text-align: center; border-radius: 3px;\">\n",
       "        <h2 style=\"color: white;\">Confusion Matrix</h2>\n",
       "    </div>\n",
       "    "
      ],
      "text/plain": [
       "<IPython.core.display.HTML object>"
      ]
     },
     "metadata": {},
     "output_type": "display_data"
    },
    {
     "data": {
      "image/png": "[encoded data removed]",
      "text/plain": [
       "<Figure size 576x432 with 1 Axes>"
      ]
     },
     "metadata": {
      "needs_background": "light"
     },
     "output_type": "display_data"
    },
    {
     "data": {
      "text/plain": [
       "'Confusion Matrix!'"
      ]
     },
     "execution_count": 113,
     "metadata": {},
     "output_type": "execute_result"
    }
   ],
   "source": [
    "generate_confusion_matrix(y_test_downsampled, y_pred_loaded)"
   ]
  }
 ],
 "metadata": {
  "kernelspec": {
   "display_name": "Python 3 (ipykernel)",
   "language": "python",
   "name": "python3"
  },
  "language_info": {
   "codemirror_mode": {
    "name": "ipython",
    "version": 3
   },
   "file_extension": ".py",
   "mimetype": "text/x-python",
   "name": "python",
   "nbconvert_exporter": "python",
   "pygments_lexer": "ipython3",
   "version": "3.8.10"
  }
 },
 "nbformat": 4,
 "nbformat_minor": 5
}
