{
 "cells": [
  {
   "cell_type": "markdown",
   "id": "82645183-86de-4902-9b3a-daa39764ac58",
   "metadata": {},
   "source": [
    "# Disseration Experiment \n",
    "# Dataset Visualisations\n",
    "Ciaran Finnegan October 2023"
   ]
  },
  {
   "cell_type": "code",
   "execution_count": 1,
   "id": "7442ec22-f507-479f-a4a9-5d2f73dd16e0",
   "metadata": {},
   "outputs": [],
   "source": [
    "import matplotlib.pyplot as plt\n",
    "import seaborn as sns"
   ]
  },
  {
   "cell_type": "code",
   "execution_count": 2,
   "id": "14d5efc3-00d7-4fcf-bd44-511ebd0315f9",
   "metadata": {},
   "outputs": [],
   "source": [
    "def generate_box_plots(df, sTarget_feature, \n",
    "                       sFeature_analysis_1, \n",
    "                       sFeature_analysis_2, \n",
    "                       sFeature_analysis_3,\n",
    "                       sFeature3_ticklabel1, \n",
    "                       sFeature3_ticklabel2):\n",
    "    # Set up the figure and axes\n",
    "    fig, ax = plt.subplots(2, 2, figsize=(14, 10))\n",
    "\n",
    "    # Plot distribution of the dataset target variable\n",
    "    sns.countplot(data=df, x=sTarget_feature, ax=ax[0, 0])\n",
    "    sPlot_title1 = 'Distribution of ' + sTarget_feature.upper() + ' Status'\n",
    "    ax[0, 0].set_title(sPlot_title1)\n",
    "    ax[0, 0].set_xticklabels(['Non ' + sTarget_feature.upper(), sTarget_feature.upper()])\n",
    "\n",
    "    # Plot distribution of <feature one> based on target variable status\n",
    "    sns.boxplot(data=df, x=sTarget_feature, y=sFeature_analysis_1, ax=ax[0, 1])\n",
    "    sPlot_title2 = 'Credit Limit Distribution by ' + sTarget_feature.upper() + ' Status'\n",
    "    ax[0, 1].set_title(sPlot_title2)\n",
    "    ax[0, 1].set_xticklabels(['Non ' + sTarget_feature.upper(), sTarget_feature.upper()])\n",
    "\n",
    "    # Plot distribution of <feature two>  based on target variable status\n",
    "    sns.boxplot(data=df, x=sTarget_feature, y=sFeature_analysis_2, ax=ax[1, 0])\n",
    "    sPlot_title3 = 'Age Distribution by ' + sTarget_feature.upper() + ' Status'\n",
    "    ax[1, 0].set_title(sPlot_title3)\n",
    "    ax[1, 0].set_xticklabels(['Non ' + sTarget_feature.upper(), sTarget_feature.upper()])\n",
    "\n",
    "    # Plot distribution of <feature three> based on target variable status\n",
    "    sns.countplot(data=df, x=sFeature_analysis_3, hue=sTarget_feature, ax=ax[1, 1])\n",
    "    sPlot_title4 = sFeature_analysis_3.upper() + ' Distribution by ' + sTarget_feature.upper() + ' Status'\n",
    "    ax[1, 1].set_title(sPlot_title4)\n",
    "    ax[1, 1].set_xticklabels([sFeature3_ticklabel1, sFeature3_ticklabel2])\n",
    "    ax[1, 1].legend(title=sTarget_feature.upper() + ' Status', labels=['Non ' + sTarget_feature.upper(), sTarget_feature.upper()])\n",
    "\n",
    "    plt.tight_layout()\n",
    "    plt.show()"
   ]
  }
 ],
 "metadata": {
  "kernelspec": {
   "display_name": "Python 3",
   "language": "python",
   "name": "python3"
  },
  "language_info": {
   "codemirror_mode": {
    "name": "ipython",
    "version": 3
   },
   "file_extension": ".py",
   "mimetype": "text/x-python",
   "name": "python",
   "nbconvert_exporter": "python",
   "pygments_lexer": "ipython3",
   "version": "3.8.10"
  }
 },
 "nbformat": 4,
 "nbformat_minor": 5
}
