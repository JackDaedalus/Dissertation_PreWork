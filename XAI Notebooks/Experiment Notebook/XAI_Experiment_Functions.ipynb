{
 "cells": [
  {
   "cell_type": "markdown",
   "id": "2ff5b166-150a-40cb-83ba-c46b6d211a66",
   "metadata": {},
   "source": [
    "# Disseration Experiment 8a\n",
    "# Experiment Functions for XAI Metric Storage for Dissertation\n",
    "Ciaran Finnegan January 2024"
   ]
  },
  {
   "cell_type": "code",
   "execution_count": 1,
   "id": "2e008b52-12ba-4431-9619-ded695c0ad87",
   "metadata": {},
   "outputs": [],
   "source": [
    "import pandas as pd\n",
    "import os\n",
    "import time\n",
    "import random\n",
    "import openpyxl"
   ]
  },
  {
   "cell_type": "markdown",
   "id": "2619daf2-794e-48e6-8bbf-7121194bc089",
   "metadata": {},
   "source": [
    "### Suppress Warnings to clean up output"
   ]
  },
  {
   "cell_type": "code",
   "execution_count": 2,
   "id": "d5aa321b-0cbe-4b6e-8f20-b9d45b8995fb",
   "metadata": {},
   "outputs": [],
   "source": [
    "import warnings\n",
    "warnings.simplefilter(action='ignore', category=Warning)"
   ]
  },
  {
   "cell_type": "markdown",
   "id": "81ee39a7-0c5c-46fd-8711-1a0c957a8b76",
   "metadata": {},
   "source": [
    "## Read File and split into a list of dataframes"
   ]
  },
  {
   "cell_type": "code",
   "execution_count": 3,
   "id": "81893dd4-f91c-4331-b6de-cbb206093d93",
   "metadata": {},
   "outputs": [],
   "source": [
    "def split_TestData_into_nn_Blocks(df, num_splits = 20):\n",
    "    # Split the DataFrame into 20 consecutive smaller DataFrames\n",
    "    \n",
    "    split_size = len(df) // num_splits\n",
    "    list_df = [df.iloc[i * split_size: min((i + 1) * split_size, len(df))] for i in range(num_splits)]\n",
    "\n",
    "    # Print the dimensions of the data split\n",
    "    print(f\"Original DF Length: {len(df)}\")\n",
    "    print(f\"Split Size: {split_size}\")\n",
    "    \n",
    "    return split_size"
   ]
  },
  {
   "cell_type": "markdown",
   "id": "cfeaef61-c2a5-4939-b68c-686695d045e4",
   "metadata": {},
   "source": [
    "### Add a routine to check output values"
   ]
  },
  {
   "cell_type": "code",
   "execution_count": 4,
   "id": "f9d92413-f783-4cf3-8f22-4a7e59b0214c",
   "metadata": {},
   "outputs": [],
   "source": [
    "def startBlockDisplay(df, split_size, rec_cnt = 6):\n",
    "    # Display starting points in the first four sub dataframes\n",
    "    end = 0\n",
    "    debug_recs = rec_cnt  # Select 6 records\n",
    "    for start in range(0, len(df), split_size):\n",
    "        if end < len(df): # avoid out of bound errors\n",
    "            if end < (split_size * debug_recs):  # limit range of lines to check for write out\n",
    "                # Display the slice of the DataFrame\n",
    "                display(df.iloc[[end]])\n",
    "                end = start + split_size"
   ]
  },
  {
   "cell_type": "code",
   "execution_count": null,
   "id": "463a1ff2-ceca-419c-83db-ba2f2f0ef927",
   "metadata": {},
   "outputs": [],
   "source": []
  }
 ],
 "metadata": {
  "kernelspec": {
   "display_name": "Python 3",
   "language": "python",
   "name": "python3"
  },
  "language_info": {
   "codemirror_mode": {
    "name": "ipython",
    "version": 3
   },
   "file_extension": ".py",
   "mimetype": "text/x-python",
   "name": "python",
   "nbconvert_exporter": "python",
   "pygments_lexer": "ipython3",
   "version": "3.8.10"
  }
 },
 "nbformat": 4,
 "nbformat_minor": 5
}
