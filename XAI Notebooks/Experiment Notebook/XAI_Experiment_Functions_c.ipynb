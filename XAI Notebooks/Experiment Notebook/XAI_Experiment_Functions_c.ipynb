{
 "cells": [
  {
   "cell_type": "markdown",
   "id": "2ff5b166-150a-40cb-83ba-c46b6d211a66",
   "metadata": {},
   "source": [
    "# Disseration Experiment 8a\n",
    "# Experiment Functions for XAI Metric Storage for Dissertation\n",
    "Ciaran Finnegan January 2024"
   ]
  },
  {
   "cell_type": "code",
   "execution_count": 1,
   "id": "2e008b52-12ba-4431-9619-ded695c0ad87",
   "metadata": {},
   "outputs": [],
   "source": [
    "import pandas as pd\n",
    "import os\n",
    "import time\n",
    "import random\n",
    "import openpyxl"
   ]
  },
  {
   "cell_type": "markdown",
   "id": "2619daf2-794e-48e6-8bbf-7121194bc089",
   "metadata": {},
   "source": [
    "### Suppress Warnings to clean up output"
   ]
  },
  {
   "cell_type": "code",
   "execution_count": 2,
   "id": "d5aa321b-0cbe-4b6e-8f20-b9d45b8995fb",
   "metadata": {},
   "outputs": [],
   "source": [
    "import warnings\n",
    "warnings.simplefilter(action='ignore', category=Warning)"
   ]
  },
  {
   "cell_type": "markdown",
   "id": "81ee39a7-0c5c-46fd-8711-1a0c957a8b76",
   "metadata": {},
   "source": [
    "## Read File and split into a list of dataframes"
   ]
  },
  {
   "cell_type": "code",
   "execution_count": 3,
   "id": "81893dd4-f91c-4331-b6de-cbb206093d93",
   "metadata": {},
   "outputs": [],
   "source": [
    "def split_TestData_into_nn_Blocks(df, num_splits = 20):\n",
    "    # Split the DataFrame into 20 consecutive smaller DataFrames\n",
    "    \n",
    "    split_size = len(df) // num_splits\n",
    "    list_df = [df.iloc[i * split_size: min((i + 1) * split_size, len(df))] for i in range(num_splits)]\n",
    "\n",
    "    # Print the dimensions of the data split\n",
    "    print(f\"Original DF Length: {len(df)}\")\n",
    "    print(f\"Split Size: {split_size}\")\n",
    "    \n",
    "    return split_size, list_df"
   ]
  },
  {
   "cell_type": "markdown",
   "id": "cfeaef61-c2a5-4939-b68c-686695d045e4",
   "metadata": {},
   "source": [
    "## Add a routine to check output values"
   ]
  },
  {
   "cell_type": "code",
   "execution_count": 4,
   "id": "f9d92413-f783-4cf3-8f22-4a7e59b0214c",
   "metadata": {},
   "outputs": [],
   "source": [
    "def startBlockDisplay(df, split_size, rec_cnt = 6):\n",
    "    # Display starting points in the first four sub dataframes\n",
    "    end = 0\n",
    "    debug_recs = rec_cnt  # Select 6 records\n",
    "    for start in range(0, len(df), split_size):\n",
    "        if end < len(df): # avoid out of bound errors\n",
    "            if end < (split_size * debug_recs):  # limit range of lines to check for write out\n",
    "                # Display the slice of the DataFrame\n",
    "                display(df.iloc[[end]])\n",
    "                end = start + split_size"
   ]
  },
  {
   "cell_type": "markdown",
   "id": "a56a4f4b-dc9b-4edc-a8f6-65ceafd9aa54",
   "metadata": {},
   "source": [
    "## Function to update or create the spreadsheet and determine the 'Sample' number"
   ]
  },
  {
   "cell_type": "code",
   "execution_count": 5,
   "id": "463a1ff2-ceca-419c-83db-ba2f2f0ef927",
   "metadata": {},
   "outputs": [],
   "source": [
    "#def update_xai_spreadsheet(xai_file_path):\n",
    "def return_xai_spreadsheet_resumePoint(xai_file_path):    \n",
    "    if os.path.exists(xai_file_path):\n",
    "        # Read the existing spreadsheet\n",
    "        xai_df = pd.read_excel(xai_file_path)\n",
    "\n",
    "        # Check if 'Sample Number' column exists and find the next sample number\n",
    "        if 'Sample Number' in xai_df.columns:\n",
    "            sample = xai_df['Sample Number'].max() + 1\n",
    "        else:\n",
    "            sample = 1\n",
    "    else:\n",
    "        # Create an empty spreadsheet\n",
    "        pd.DataFrame().to_excel(xai_file_path, engine='openpyxl')\n",
    "        sample = 1\n",
    "\n",
    "    return sample"
   ]
  },
  {
   "cell_type": "markdown",
   "id": "0aed6e1a-7e97-4fae-8203-8b9f32ef1497",
   "metadata": {},
   "source": [
    "## Function to return next sample index to process"
   ]
  },
  {
   "cell_type": "code",
   "execution_count": 6,
   "id": "0f3530c9-16c8-42ff-8bf5-697d8fde2c45",
   "metadata": {},
   "outputs": [],
   "source": [
    "def return_next_sample_number_to_process(list_df, xai_file_path, xai_method):\n",
    "    # Call Function to update or create the spreadsheet and determine the 'Sample' number\n",
    "    # Process each dataframe in 'list_df'\n",
    "    for df in list_df:\n",
    "        # Update or create the spreadsheet and get the 'Sample' number\n",
    "        sample = return_xai_spreadsheet_resumePoint(xai_file_path)\n",
    "\n",
    "        # Print the 'Sample' number\n",
    "        print(f\"Sample Number for current {xai_method} XAI DataFrame: {sample}\")\n",
    "        break\n",
    "        \n",
    "    return sample"
   ]
  },
  {
   "cell_type": "markdown",
   "id": "92409c7e-9741-464c-a9b0-22df6a49f008",
   "metadata": {},
   "source": [
    "## Function to load next block of Test Data"
   ]
  },
  {
   "cell_type": "code",
   "execution_count": 7,
   "id": "351a42e0-9da4-4fc7-9939-eba7b6d98949",
   "metadata": {},
   "outputs": [],
   "source": [
    "def select_restart_testdata_block(df_Selected_from_List,list_df, xai_file_path):\n",
    "    # Process each dataframe in 'list_df'\n",
    "    for index, df in enumerate(list_df):\n",
    "        # Update or create the spreadsheet and get the 'Sample' number\n",
    "        sample = return_xai_spreadsheet_resumePoint(xai_file_path)\n",
    "\n",
    "        key = f'df_{sample}'\n",
    "        if key in list_df:\n",
    "            df_Selected_from_List = list_df[key]\n",
    "            print(f\"DataFrame selected for Sample Number {sample} witk key {key}\")\n",
    "            break\n",
    "        else:\n",
    "            print(f\"No DataFrame found for Sample Number {sample}\")   \n",
    "            break\n",
    "\n",
    "    return df_Selected_from_List, key"
   ]
  },
  {
   "cell_type": "markdown",
   "id": "70be49b5-7a84-4be7-8b68-b2b18a146110",
   "metadata": {},
   "source": [
    "## Function to write XAI metrics for tesrt data block to XL"
   ]
  },
  {
   "cell_type": "code",
   "execution_count": 8,
   "id": "32df6b39-1eb4-462c-8ee7-3a5648f9dda8",
   "metadata": {},
   "outputs": [],
   "source": [
    "def append_xai_metrics_to_excel(file_path, \n",
    "                    sample, \n",
    "                    xai_identity, \n",
    "                    xai_stability, \n",
    "                    xai_seperability, \n",
    "                    xai_similarity, \n",
    "                    comp_efficiency, \n",
    "                    df_row):\n",
    "    # Check if the file exists and read it; if not, create a new DataFrame\n",
    "    if os.path.exists(file_path):\n",
    "        existing_data = pd.read_excel(file_path, engine='openpyxl')\n",
    "    else:\n",
    "        existing_data = pd.DataFrame()\n",
    "\n",
    "    # Prepare the new row to be appended\n",
    "    new_row = {\n",
    "        'Sample Number': sample,\n",
    "        'XAI_Identity'    : xai_identity,\n",
    "        'XAI_Stability'   : xai_stability,\n",
    "        'XAI_Seperability': xai_seperability,\n",
    "        'XAI_Similairity' : xai_similarity,\n",
    "        'Comp_Efficiency' : comp_efficiency\n",
    "    }\n",
    "\n",
    "    # Add data from the first row of df_Selected_from_List\n",
    "    for col in df_row.index[:3]:  # Taking the first three columns\n",
    "        new_row[col] = df_row[col]\n",
    "\n",
    "    # Append the new row to the existing DataFrame\n",
    "    updated_data = existing_data.append(new_row, ignore_index=True)\n",
    "\n",
    "    # Write the updated DataFrame back to the Excel file\n",
    "    updated_data.to_excel(file_path, index=False, engine='openpyxl')"
   ]
  },
  {
   "cell_type": "markdown",
   "id": "08b204b9-c8bf-4207-841a-5fb5ba5395ee",
   "metadata": {},
   "source": [
    "## Wrapper function to call routine to write XAI metrics to XL"
   ]
  },
  {
   "cell_type": "code",
   "execution_count": 9,
   "id": "ac74ce94-d465-4af8-bb29-e2bc7bf589c7",
   "metadata": {},
   "outputs": [],
   "source": [
    "def write_xai_Metrics_to_XL(xai_file_path, \n",
    "                            sample, \n",
    "                            xai_identity, \n",
    "                            xai_stability, \n",
    "                            xai_seperability, \n",
    "                            xai_similarity, \n",
    "                            comp_efficiency,\n",
    "                            df_Selected_from_List):\n",
    "    \n",
    "    # Now, df_Selected_from_List should be a DataFrame. \n",
    "    # If a DataFrame was found, proceed with the next operations\n",
    "    if df_Selected_from_List is not None:\n",
    "\n",
    "        # Extract the first row from df_Selected_from_List\n",
    "        first_row_of_selected_df = df_Selected_from_List.iloc[0]\n",
    "\n",
    "        # Append the data to the Excel file\n",
    "        append_xai_metrics_to_excel(xai_file_path, \n",
    "                                    sample, \n",
    "                                    xai_identity, \n",
    "                                    xai_stability, \n",
    "                                    xai_seperability, \n",
    "                                    xai_similarity, \n",
    "                                    comp_efficiency, \n",
    "                                    first_row_of_selected_df)\n",
    "\n",
    "        print(f\"DiCE DataFrame selected for Sample Number {sample} witk key {key}\")\n",
    "\n",
    "    else:\n",
    "\n",
    "        print(\"DiCE DataFrame not selected or does not exist.\")"
   ]
  }
 ],
 "metadata": {
  "kernelspec": {
   "display_name": "Python 3",
   "language": "python",
   "name": "python3"
  },
  "language_info": {
   "codemirror_mode": {
    "name": "ipython",
    "version": 3
   },
   "file_extension": ".py",
   "mimetype": "text/x-python",
   "name": "python",
   "nbconvert_exporter": "python",
   "pygments_lexer": "ipython3",
   "version": "3.8.10"
  }
 },
 "nbformat": 4,
 "nbformat_minor": 5
}
