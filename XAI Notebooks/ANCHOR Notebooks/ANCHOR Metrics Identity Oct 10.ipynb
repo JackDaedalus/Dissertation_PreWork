{
 "cells": [
  {
   "cell_type": "markdown",
   "id": "6e6a486b-7a72-4691-8f57-260d79c5b234",
   "metadata": {},
   "source": [
    "# Disseration Experiment 5a\n",
    "# Generate ANCHOR Output (Credit Default) October Ten¶\n",
    "Ciaran Finnegan October 2023"
   ]
  },
  {
   "cell_type": "code",
   "execution_count": null,
   "id": "8884cf21-2d0d-457b-b738-8a9280059051",
   "metadata": {},
   "outputs": [],
   "source": [
    "# Import libs\n",
    "import numpy as np\n",
    "import pandas as pd\n",
    "import xgboost as xgb\n",
    "import lightgbm as lgb\n",
    "from sklearn.ensemble import RandomForestRegressor,RandomForestClassifier\n",
    "import shap\n",
    "import random\n",
    "\n",
    "from IPython.display import display, HTML\n",
    "\n",
    "# Import necessary libraries for LIME calculations\n",
    "import lime\n",
    "import lime.lime_tabular\n",
    "\n",
    "\n",
    "# Import necessary library for ANCHOR explainer\n",
    "from alibi.explainers import AnchorTabular\n",
    "\n",
    "# Libraries required for metrics calculations\n",
    "from scipy.spatial import distance\n",
    "from sklearn.cluster import KMeans\n",
    "\n",
    "from sklearn.preprocessing import LabelEncoder\n",
    "import warnings\n",
    "import sklearn.metrics\n",
    "from sklearn.metrics import classification_report\n",
    "from sklearn.metrics import confusion_matrix\n",
    "from sklearn.metrics import accuracy_score\n",
    "from sklearn.metrics import roc_auc_score\n",
    "from sklearn.utils import resample\n",
    "\n",
    "\n",
    "# Classifier training (not used for explainability)\n",
    "from sklearn.model_selection import train_test_split\n",
    "from sklearn.model_selection import GridSearchCV"
   ]
  },
  {
   "cell_type": "markdown",
   "id": "59b870fb-4d31-4f17-b2c0-06ee0a64ad77",
   "metadata": {},
   "source": [
    "# Data Visualisation and Exploration"
   ]
  },
  {
   "cell_type": "markdown",
   "id": "366b0a5f-a359-4cfe-9405-442819967397",
   "metadata": {},
   "source": [
    "## Import Data"
   ]
  },
  {
   "cell_type": "code",
   "execution_count": null,
   "id": "6b7f5037-d2de-467b-a6c9-f349aa02ff6d",
   "metadata": {},
   "outputs": [],
   "source": [
    "ds_file_to_load = 'credit_default_data.csv'\n",
    "df = pd.read_csv(ds_file_to_load)"
   ]
  },
  {
   "cell_type": "markdown",
   "id": "8f441068-8415-4b92-a460-cf9114203182",
   "metadata": {},
   "source": [
    "## Data Exploration"
   ]
  },
  {
   "cell_type": "code",
   "execution_count": null,
   "id": "f8ac2c74-f3f5-49bf-9806-38beb7aad7a7",
   "metadata": {},
   "outputs": [],
   "source": [
    "def styled_dataframe(df):\n",
    "    styles = {\n",
    "        'selector': 'table',\n",
    "        'props': [('background-color', '#f4f4f4'),\n",
    "                  ('color', '#000000'),\n",
    "                  ('border-color', '#e0e0e0'),\n",
    "                  ('border', '1px solid #e0e0e0'),\n",
    "                  ('font-family', 'Arial, sans-serif'),\n",
    "                  ('width', '100%')]\n",
    "    }\n",
    "    \n",
    "    # Apply the styles to the dataframe\n",
    "    styled_df = (df.style.set_table_styles([styles])\n",
    "                 .set_properties(subset=df.columns, **{'min-width': '5000px', 'text-align': 'center'})\n",
    "                 .format(None, na_rep='NA'))\n",
    "    \n",
    "    # Convert styled dataframe to HTML and wrap in a div container for scrolling\n",
    "    styled_html = f'<div style=\"width:100%; overflow-x:auto;\">{styled_df.render()}</div>'\n",
    "    \n",
    "    return display(HTML(styled_html))\n",
    "\n",
    "# To check the function (using a sample dataframe)\n",
    "sample_df = pd.DataFrame({\n",
    "    'A': [1, 2, 3, 4, 5],\n",
    "    'B': [5, 6, 7, 8, 9],\n",
    "    'C': [1, 2, 3, 4, 5],\n",
    "    'D': [5, 6, 7, 8, 9],\n",
    "    'E': [1, 2, 3, 4, 5]\n",
    "})\n",
    "styled_dataframe(sample_df)\n"
   ]
  },
  {
   "cell_type": "markdown",
   "id": "ed9fd32a-4e6e-4c8a-90ec-26cdc393b3f9",
   "metadata": {},
   "source": [
    "### Dataset Structure"
   ]
  },
  {
   "cell_type": "code",
   "execution_count": null,
   "id": "ab806442-7c69-4000-9d2b-7750821ae686",
   "metadata": {},
   "outputs": [],
   "source": [
    "# Display the first few rows of the dataset to understand its structure\n",
    "#df.head()\n",
    "#print(df.head().to_string())\n",
    "styled_dataframe(df.head())"
   ]
  },
  {
   "cell_type": "code",
   "execution_count": null,
   "id": "60554e45-6838-4bdf-9215-df247610bf90",
   "metadata": {},
   "outputs": [],
   "source": [
    "# Reset default Pandas display options\n",
    "pd.reset_option('display.max_columns')\n",
    "pd.reset_option('display.expand_frame_repr')\n",
    "pd.reset_option('display.max_colwidth')\n",
    "# Display the dataframe\n",
    "display(df.head())"
   ]
  },
  {
   "cell_type": "code",
   "execution_count": null,
   "id": "66afd082-80cc-451e-b1fa-b7b15ef882a5",
   "metadata": {},
   "outputs": [],
   "source": [
    "# Display the dataframe as plain text to bypass any CSS/HTML styles\n",
    "print(df.head().to_string())"
   ]
  },
  {
   "cell_type": "markdown",
   "id": "fa3aac53-60f1-4024-8932-e1f0465fc9ef",
   "metadata": {},
   "source": [
    "### Generate Visualizations"
   ]
  },
  {
   "cell_type": "code",
   "execution_count": null,
   "id": "9af400f1-66c3-4e31-a105-ae809bae7911",
   "metadata": {},
   "outputs": [],
   "source": [
    "# Set up the target and features to be visualised\n",
    "\n",
    "sTarget_feature = 'default'\n",
    "sFeature_analysis_1 = 'LIMIT_BAL'\n",
    "sFeature_analysis_2 = 'AGE'\n",
    "sFeature_analysis_3 = 'SEX'\n",
    "sFeature3_ticklabel1 = 'Male'\n",
    "sFeature3_ticklabel2 = 'Female'"
   ]
  },
  {
   "cell_type": "code",
   "execution_count": null,
   "id": "d8162f20-f1a4-4848-a629-145d3bd3ab43",
   "metadata": {},
   "outputs": [],
   "source": [
    "# Generate Visualizations to better understand the data distribution and relationships between features."
   ]
  },
  {
   "cell_type": "markdown",
   "id": "f12f0053-af14-457e-9f10-e05ccd03800d",
   "metadata": {},
   "source": [
    "#### Bar and Box Plot Visualisations"
   ]
  },
  {
   "cell_type": "code",
   "execution_count": null,
   "id": "29ba3ad7-896a-4171-a3fd-0b0546f59a60",
   "metadata": {},
   "outputs": [],
   "source": [
    "import matplotlib.pyplot as plt\n",
    "import seaborn as sns\n",
    "\n",
    "# Set up the figure and axes\n",
    "fig, ax = plt.subplots(2, 2, figsize=(14, 10))\n",
    "\n",
    "# Plot distribution of the dataset target variable\n",
    "sns.countplot(data=df, x=sTarget_feature, ax=ax[0, 0])\n",
    "sPlot_title1 = 'Distribution of ' + sTarget_feature.upper() + ' Status'\n",
    "ax[0, 0].set_title(sPlot_title1)\n",
    "ax[0, 0].set_xticklabels(['Non ' + sTarget_feature.upper(), sTarget_feature.upper()])\n",
    "\n",
    "# Plot distribution of <feature one> based on target variable status\n",
    "sns.boxplot(data=df, x=sTarget_feature, y=sFeature_analysis_1, ax=ax[0, 1])\n",
    "sPlot_title2 = 'Credit Limit Distribution by ' + sTarget_feature.upper() + ' Status'\n",
    "ax[0, 1].set_title(sPlot_title2)\n",
    "ax[0, 1].set_xticklabels(['Non ' + sTarget_feature.upper(), sTarget_feature.upper()])\n",
    "\n",
    "# Plot distribution of <feature two>  based on target variable status\n",
    "sns.boxplot(data=df, x=sTarget_feature, y=sFeature_analysis_2, ax=ax[1, 0])\n",
    "sPlot_title3 = 'Age Distribution by ' + sTarget_feature.upper() + ' Status'\n",
    "ax[1, 0].set_title(sPlot_title3)\n",
    "ax[1, 0].set_xticklabels(['Non ' + sTarget_feature.upper(), sTarget_feature.upper()])\n",
    "\n",
    "# Plot distribution of <feature three> based on target variable status\n",
    "sns.countplot(data=df, x=sFeature_analysis_3, hue=sTarget_feature, ax=ax[1, 1])\n",
    "sPlot_title4 = sFeature_analysis_3.upper() + ' Distribution by ' + sTarget_feature.upper() + ' Status'\n",
    "ax[1, 1].set_title(sPlot_title4)\n",
    "ax[1, 1].set_xticklabels([sFeature3_ticklabel1, sFeature3_ticklabel2])\n",
    "ax[1, 1].legend(title=sTarget_feature.upper() + ' Status', labels=['Non ' + sTarget_feature.upper(), sTarget_feature.upper()])\n",
    "\n",
    "plt.tight_layout()\n",
    "plt.show()\n"
   ]
  },
  {
   "cell_type": "markdown",
   "id": "4898cbdd-0b80-40fc-8bd9-a4b26a897fa4",
   "metadata": {},
   "source": [
    "#### Heatmap Visualisation"
   ]
  },
  {
   "cell_type": "code",
   "execution_count": null,
   "id": "94b7dd8e-dece-444f-b104-04cb2cd3363d",
   "metadata": {},
   "outputs": [],
   "source": [
    "# Would need feature reduction to work effectively - or some other filtering"
   ]
  },
  {
   "cell_type": "code",
   "execution_count": null,
   "id": "5a2410ba-995b-473f-bb4c-194c6fe978b1",
   "metadata": {},
   "outputs": [],
   "source": [
    "# Plotting correlation heatmap\n",
    "plt.figure(figsize=(15, 10))\n",
    "sns.heatmap(df.corr(), cmap='coolwarm', annot=True, fmt=\".2f\", linewidths=.5)\n",
    "plt.title(\"Correlation Heatmap\")\n",
    "plt.show()"
   ]
  },
  {
   "cell_type": "markdown",
   "id": "abca79a5-e86e-49a5-b892-bdd319eaab63",
   "metadata": {},
   "source": [
    "#### Distributions"
   ]
  },
  {
   "cell_type": "code",
   "execution_count": null,
   "id": "0f720328-93d6-4e13-8251-d0153f4e95a7",
   "metadata": {},
   "outputs": [],
   "source": [
    "# Plotting distributions for continuous features\n",
    "fig, ax = plt.subplots(1, 2, figsize=(15, 6))\n",
    "\n",
    "sns.histplot(df[sFeature_analysis_1], bins=30, ax=ax[0], color=\"skyblue\")\n",
    "ax[0].set_title(\"Distribution of \"+sFeature_analysis_1.upper())\n",
    "ax[0].set_xlabel(sFeature_analysis_1.upper())\n",
    "#ax[0].set_xlabel(\"Credit Limit\")\n",
    "ax[0].set_ylabel(\"Count\")\n",
    "\n",
    "sns.histplot(df[sFeature_analysis_2], bins=30, ax=ax[1], color=\"salmon\")\n",
    "ax[1].set_title(\"Distribution of \"+ sFeature_analysis_2.upper())\n",
    "ax[1].set_xlabel(sFeature_analysis_2.upper())\n",
    "ax[1].set_ylabel(\"Count\")\n",
    "\n",
    "plt.tight_layout()\n",
    "plt.show()\n",
    "\n",
    "# Plotting distributions for categorical features\n",
    "fig, ax = plt.subplots(1, 3, figsize=(18, 5))\n",
    "\n",
    "sns.countplot(data=df, x=sFeature_analysis_3, ax=ax[0], palette=\"pastel\")\n",
    "ax[0].set_title(\"Distribution of \" + sFeature_analysis_3.upper())\n",
    "ax[0].set_xlabel(\"Gender (1 = Male, 2 = Female)\")\n",
    "ax[0].set_ylabel(\"Count\")\n",
    "\n",
    "sns.countplot(data=df, x=\"EDUCATION\", ax=ax[1], palette=\"pastel\")\n",
    "ax[1].set_title(\"Distribution of Education\")\n",
    "ax[1].set_xlabel(\"Education Level\")\n",
    "ax[1].set_ylabel(\"Count\")\n",
    "\n",
    "sns.countplot(data=df, x=\"MARRIAGE\", ax=ax[2], palette=\"pastel\")\n",
    "ax[2].set_title(\"Distribution of Marital Status\")\n",
    "ax[2].set_xlabel(\"Marital Status\")\n",
    "ax[2].set_ylabel(\"Count\")\n",
    "\n",
    "plt.tight_layout()\n",
    "plt.show()\n"
   ]
  },
  {
   "cell_type": "markdown",
   "id": "eaea471b-1248-4723-975b-4bce3d50e520",
   "metadata": {},
   "source": [
    "# Feature Engineering"
   ]
  },
  {
   "cell_type": "markdown",
   "id": "fe2884b6-df2a-4ba1-ab2f-19e4080ed704",
   "metadata": {},
   "source": [
    "## Check for Missing Data"
   ]
  },
  {
   "cell_type": "code",
   "execution_count": null,
   "id": "9299a2c1-af6f-44aa-a71e-bac546b32f49",
   "metadata": {},
   "outputs": [],
   "source": [
    "# Determine the threshold for missing values\n",
    "threshold = 0.75 * len(df)\n",
    "\n",
    "# Identify columns with missing values greater than the threshold\n",
    "missing_columns = df.columns[df.isnull().sum() > threshold]\n",
    "\n",
    "# Print the columns with more than 75% missing values\n",
    "print(\"Columns with more than 75% missing values:\", missing_columns)\n",
    "\n",
    "# Drop columns with missing values greater than the threshold\n",
    "df = df.drop(columns=missing_columns)\n",
    "\n",
    "# Save or continue processing with columns removed that had high volumes of missing data\n"
   ]
  },
  {
   "cell_type": "code",
   "execution_count": null,
   "id": "0afd3c2f-8d53-46f2-b8b7-7b964f8da221",
   "metadata": {},
   "outputs": [],
   "source": [
    "# Display the first few rows of the dataset to re-check structure once any columns with \n",
    "# significant amounts of missing data have been removed\n",
    "df.head()"
   ]
  },
  {
   "cell_type": "markdown",
   "id": "86654757-2644-4c90-aa82-7c3a8e192bab",
   "metadata": {},
   "source": [
    "## Categorical Data "
   ]
  },
  {
   "cell_type": "code",
   "execution_count": null,
   "id": "6218545b-cfc6-4801-a6bd-890d8183d5c3",
   "metadata": {},
   "outputs": [],
   "source": [
    "# List of categorical columns\n",
    "cat_cols = ['SEX', 'EDUCATION', 'MARRIAGE', 'PAY_0', 'PAY_2', 'PAY_3', 'PAY_4', 'PAY_5', 'PAY_6']"
   ]
  },
  {
   "cell_type": "code",
   "execution_count": null,
   "id": "8c6f405e-9781-48cd-8a00-fb174fe80c57",
   "metadata": {},
   "outputs": [],
   "source": [
    "# Adjust cat columns to range from 0\n",
    "# df[cat_cols] = df[cat_cols] = df[cat_cols].apply(LabelEncoder().fit_transform)"
   ]
  },
  {
   "cell_type": "code",
   "execution_count": null,
   "id": "ea71ce08-645a-4728-981a-14def4345050",
   "metadata": {},
   "outputs": [],
   "source": [
    "# One-hot encode categorical variables\n",
    "#df_encoded = pd.get_dummies(df, columns=cat_cols, drop_first=True)\n",
    "df_encoded = pd.get_dummies(df, columns=cat_cols)"
   ]
  },
  {
   "cell_type": "code",
   "execution_count": null,
   "id": "1da6f013-35f5-41fe-8a27-888112891234",
   "metadata": {},
   "outputs": [],
   "source": [
    "df.head()"
   ]
  },
  {
   "cell_type": "code",
   "execution_count": null,
   "id": "fc5c2711-48cf-4b25-b05d-38df3833b7af",
   "metadata": {},
   "outputs": [],
   "source": [
    "# Display the first few rows of the dataset to understand its structure\n",
    "df_encoded.head()"
   ]
  },
  {
   "cell_type": "code",
   "execution_count": null,
   "id": "914485b0-df24-409c-a008-a12f02715454",
   "metadata": {},
   "outputs": [],
   "source": [
    "# display all columns\n",
    "pd.set_option('display.max_columns', None)\n",
    "print(df_encoded)"
   ]
  },
  {
   "cell_type": "markdown",
   "id": "61d5be9e-cf5e-4926-ad3d-29adaf23835e",
   "metadata": {},
   "source": [
    "# Build Model"
   ]
  },
  {
   "cell_type": "markdown",
   "id": "cbab533d-8738-489d-a1b5-6f58184d2fb1",
   "metadata": {},
   "source": [
    "## Split Features + Target"
   ]
  },
  {
   "cell_type": "code",
   "execution_count": null,
   "id": "09b0b01a-d15f-48b1-8d0d-095a22bf9254",
   "metadata": {},
   "outputs": [],
   "source": [
    "# Split data into features and target\n",
    "#X = df_encoded.drop('default', axis=1)\n",
    "#y = df_encoded['default']"
   ]
  },
  {
   "cell_type": "markdown",
   "id": "655bb3b1-242c-4ebb-8a44-d808236f7ecb",
   "metadata": {},
   "source": [
    "## Downsample Majority Class"
   ]
  },
  {
   "cell_type": "code",
   "execution_count": null,
   "id": "dafa59ad-d33e-433a-aab3-ea3b7f26e5ba",
   "metadata": {},
   "outputs": [],
   "source": [
    "# Check the distribution of the target variable\n",
    "target_distribution = df_encoded['default'].value_counts()\n",
    "\n",
    "target_distribution"
   ]
  },
  {
   "cell_type": "code",
   "execution_count": null,
   "id": "e7b153cd-d751-42ea-a9b4-fcabb15f6cd5",
   "metadata": {},
   "outputs": [],
   "source": [
    "# Separate the majority and minority classes\n",
    "df_majority = df_encoded[df_encoded['default'] == 0]\n",
    "df_minority = df_encoded[df_encoded['default'] == 1]"
   ]
  },
  {
   "cell_type": "code",
   "execution_count": null,
   "id": "ce058168-bf75-4069-b3ad-e30624bf8c2d",
   "metadata": {},
   "outputs": [],
   "source": [
    "# Downsample the majority class\n",
    "df_majority_downsampled = resample(df_majority, \n",
    "                                   replace=False, \n",
    "                                   n_samples=target_distribution[1], \n",
    "                                   random_state=42)"
   ]
  },
  {
   "cell_type": "code",
   "execution_count": null,
   "id": "162cbf28-d3c1-42ea-8ff3-76ad732a616f",
   "metadata": {},
   "outputs": [],
   "source": [
    "# Combine the downsampled majority class with the minority class\n",
    "df_downsampled = pd.concat([df_majority_downsampled, df_minority])"
   ]
  },
  {
   "cell_type": "code",
   "execution_count": null,
   "id": "f3a4ac2a-924e-446a-aed9-81f73f9ded0f",
   "metadata": {},
   "outputs": [],
   "source": [
    "# Shuffle the dataset to mix the data points\n",
    "df_downsampled = df_downsampled.sample(frac=1, random_state=42).reset_index(drop=True)"
   ]
  },
  {
   "cell_type": "markdown",
   "id": "d6226941-cf36-4298-9c98-20bb5e687023",
   "metadata": {},
   "source": [
    "## Split Features + Target"
   ]
  },
  {
   "cell_type": "code",
   "execution_count": null,
   "id": "fad4d198-0c4d-40b2-b576-a1deefa708ab",
   "metadata": {},
   "outputs": [],
   "source": [
    "# Splitting the features and target variable\n",
    "X = df_downsampled.drop('default', axis=1)\n",
    "y = df_downsampled['default']"
   ]
  },
  {
   "cell_type": "markdown",
   "id": "831ad677-6bce-4adf-91f0-9da4226c329a",
   "metadata": {},
   "source": [
    "## Split Data into Test/Training Datasets"
   ]
  },
  {
   "cell_type": "code",
   "execution_count": null,
   "id": "f98423fc-f450-4d0d-a4a6-283efcdcdd84",
   "metadata": {},
   "outputs": [],
   "source": [
    "# Splitting the dataset into training and testing sets\n",
    "X_train_downsampled, X_test, y_train_downsampled, y_test = train_test_split(X, y, test_size=0.3, random_state=42)"
   ]
  },
  {
   "cell_type": "code",
   "execution_count": null,
   "id": "0d58d2df-a65b-4174-ac51-7d18f9d5592d",
   "metadata": {},
   "outputs": [],
   "source": [
    "# Reset Indexes\n",
    "X_train_downsampled = X_train_downsampled.reset_index(drop=True)\n",
    "X_test = X_test.reset_index(drop=True)\n",
    "\n",
    "y_train_downsampled = y_train_downsampled.reset_index(drop=True)\n",
    "y_test = y_test.reset_index(drop=True)"
   ]
  },
  {
   "cell_type": "code",
   "execution_count": null,
   "id": "207971ca-f92c-4ab4-a5ae-59220f0a86f6",
   "metadata": {},
   "outputs": [],
   "source": [
    "# Split into inference and training splits\n",
    "#X_train, X_inf, y_train, y_inf = train_test_split(X, y, test_size=0.30, random_state=42)"
   ]
  },
  {
   "cell_type": "code",
   "execution_count": null,
   "id": "d45db580-8f2a-4eff-a2df-a90222bf247f",
   "metadata": {},
   "outputs": [],
   "source": [
    "# Split Train into train test\n",
    "#X_train, X_test, y_train, y_test = train_test_split(X_train, y_train, test_size=0.30, random_state=42)"
   ]
  },
  {
   "cell_type": "code",
   "execution_count": null,
   "id": "baaca924-fac0-4b32-be14-3d615dd4ae19",
   "metadata": {},
   "outputs": [],
   "source": [
    "#X_train = X_train.reset_index(drop=True)\n",
    "#X_test= X_test.reset_index(drop=True)\n",
    "#X_inf = X_inf.reset_index(drop=True)\n",
    "\n",
    "#y_train = y_train.reset_index(drop=True)\n",
    "#y_test= y_test.reset_index(drop=True)\n",
    "#y_inf = y_inf.reset_index(drop=True)"
   ]
  },
  {
   "cell_type": "markdown",
   "id": "0bffeaf9-bb7a-4cf0-8ad5-89245af4deb8",
   "metadata": {},
   "source": [
    "## Downsample Majority Class"
   ]
  },
  {
   "cell_type": "code",
   "execution_count": null,
   "id": "d1aa25a1-7dee-4ef1-b88b-b2da9c78843d",
   "metadata": {},
   "outputs": [],
   "source": [
    "# Separate the majority and minority classes in the training data\n",
    "#X_train_majority = X_train[y_train == 0]\n",
    "#X_train_minority = X_train[y_train == 1]\n",
    "#y_train_majority = y_train[y_train == 0]\n",
    "#y_train_minority = y_train[y_train == 1]\n",
    "\n",
    "# Under-sample the majority class\n",
    "#X_train_majority_downsampled, y_train_majority_downsampled = resample(\n",
    "#    X_train_majority, \n",
    "#    y_train_majority,\n",
    "#    replace=False, \n",
    "#   n_samples=len(y_train_minority), \n",
    "#    random_state=42\n",
    "#)\n",
    "\n",
    "# Combine the down-sampled majority class with the minority class\n",
    "#X_train_downsampled = pd.concat([X_train_majority_downsampled, X_train_minority])\n",
    "#y_train_downsampled = pd.concat([y_train_majority_downsampled, y_train_minority])"
   ]
  },
  {
   "cell_type": "markdown",
   "id": "30c78d3b-434a-4c73-bbae-8a6bb9d4d730",
   "metadata": {},
   "source": [
    "### Training Data Exploration - Post Downsampling"
   ]
  },
  {
   "cell_type": "code",
   "execution_count": null,
   "id": "9b4cec1b-a256-4917-b066-0e9fbaebdaf4",
   "metadata": {},
   "outputs": [],
   "source": [
    "# Train model Stats\n",
    "print(\"Number of Features:\", X_train_downsampled.shape[1])\n",
    "print(\"Number Continuous Features:\", X_train_downsampled.shape[1] - len(cat_cols))\n",
    "print(\"Number Categorical Features:\", len(cat_cols))\n",
    "print(\"Number Train Examples:\", X_train_downsampled.shape[0])\n",
    "print(\"Number Positive Train Examples:\", (y_train_downsampled == 1).sum())\n",
    "print(\"Number Negative Train Examples:\", (y_train_downsampled == 0).sum())"
   ]
  },
  {
   "cell_type": "markdown",
   "id": "f29aef58-94f8-4b59-844e-66ba17e9ae59",
   "metadata": {},
   "source": [
    "## Apply RF Hyperparameters"
   ]
  },
  {
   "cell_type": "code",
   "execution_count": null,
   "id": "49caf4a5-bee7-4bce-a734-15ec7fe97b62",
   "metadata": {},
   "outputs": [],
   "source": [
    "# Hyperparameter tuning using GridSearchCV\n",
    "param_grid = {\n",
    "    'n_estimators': [50, 100, 200],\n",
    "    'max_depth': [None, 10, 20, 30],\n",
    "    'min_samples_split': [2, 5, 10],\n",
    "    'min_samples_leaf': [1, 2, 4],\n",
    "    'bootstrap': [True, False]\n",
    "}\n",
    "\n",
    "grid_search = GridSearchCV(estimator=RandomForestClassifier(random_state=42),\n",
    "                           param_grid=param_grid,\n",
    "                           cv=3,\n",
    "                           n_jobs=-1,\n",
    "                           verbose=2,\n",
    "                           scoring='recall_macro')\n",
    "\n",
    "grid_search.fit(X_train_downsampled, y_train_downsampled)\n",
    "\n",
    "# Get the best parameters\n",
    "best_params = grid_search.best_params_\n",
    "\n",
    "print(best_params)"
   ]
  },
  {
   "cell_type": "markdown",
   "id": "999bb70e-a484-478d-a51a-e4b7bafb383f",
   "metadata": {},
   "source": [
    "## Train Model"
   ]
  },
  {
   "cell_type": "code",
   "execution_count": null,
   "id": "c31a4943-596e-4388-b6a3-48bd67c33125",
   "metadata": {},
   "outputs": [],
   "source": [
    "# Set Up Random Forest model\n",
    "# Train the Random Forest classifier with the best parameters\n",
    "rf_classifier = RandomForestClassifier(**best_params, random_state=42)\n",
    "#rf_classifier = RandomForestClassifier(random_state=42)\n",
    "#rf_classifier.fit(X_train, y_train)"
   ]
  },
  {
   "cell_type": "code",
   "execution_count": null,
   "id": "f24e7fed-e354-4d47-a1ab-fd91ad4167e8",
   "metadata": {},
   "outputs": [],
   "source": [
    "# Set up LGBMClassifier model\n",
    "lgbm_model = lgb.LGBMClassifier()"
   ]
  },
  {
   "cell_type": "code",
   "execution_count": null,
   "id": "6fd5cc34-08a8-4feb-aa6c-6b9f40292004",
   "metadata": {},
   "outputs": [],
   "source": [
    "# Assign model\n",
    "model = rf_classifier \n",
    "#model = lgbm_model "
   ]
  },
  {
   "cell_type": "code",
   "execution_count": null,
   "id": "0a6ea89a-1362-468d-8df0-ba73ec248753",
   "metadata": {},
   "outputs": [],
   "source": [
    "# Train chosen model\n",
    "#model.fit(X_train, y_train)\n",
    "# Retrain the Random Forest classifier on the downsampled data\n",
    "model.fit(X_train_downsampled, y_train_downsampled)"
   ]
  },
  {
   "cell_type": "code",
   "execution_count": null,
   "id": "5940ab28-7b89-4132-89d6-aff91d344d9f",
   "metadata": {},
   "outputs": [],
   "source": [
    "X_train_downsampled.head()"
   ]
  },
  {
   "cell_type": "markdown",
   "id": "219e8334-6afb-43d7-9f06-ef6eb7197751",
   "metadata": {},
   "source": [
    "# Evaluate Model"
   ]
  },
  {
   "cell_type": "markdown",
   "id": "64107311-ac3a-418a-bedc-4f0ea546dd43",
   "metadata": {},
   "source": [
    "## Predict on Test Data"
   ]
  },
  {
   "cell_type": "code",
   "execution_count": null,
   "id": "49eac20c-1c83-4b53-8858-af38172f50d5",
   "metadata": {},
   "outputs": [],
   "source": [
    "# Predict on the test data\n",
    "y_pred = model.predict(X_test)"
   ]
  },
  {
   "cell_type": "markdown",
   "id": "2b2c7032-065c-42ea-a4dc-07873283d110",
   "metadata": {},
   "source": [
    "## Assess Model Peformance"
   ]
  },
  {
   "cell_type": "markdown",
   "id": "d0b1ddda-744b-4cf1-8e05-7a678523f4a9",
   "metadata": {},
   "source": [
    "### Generate Accuracy Metrics"
   ]
  },
  {
   "cell_type": "code",
   "execution_count": null,
   "id": "36877399-8953-4983-b525-f49d34bf202e",
   "metadata": {},
   "outputs": [],
   "source": [
    "# Evaluate the model\n",
    "accuracy = accuracy_score(y_test, y_pred)\n",
    "classification_rep = classification_report(y_test, y_pred)\n",
    "roc_auc = roc_auc_score(y_test, y_pred)\n",
    "conf_matrix = confusion_matrix(y_test, y_pred)\n",
    "\n",
    "#accuracy, classification_rep, conf_matrix"
   ]
  },
  {
   "cell_type": "markdown",
   "id": "c80ff02f-5648-436c-b30b-78596e8db188",
   "metadata": {},
   "source": [
    "### Present Table of Metrcis"
   ]
  },
  {
   "cell_type": "code",
   "execution_count": null,
   "id": "cccb13b4-ba0a-40f8-8bc7-5710de3cb708",
   "metadata": {},
   "outputs": [],
   "source": [
    "# Extract metrics directly from the classification_report function in a structured format\n",
    "report_dict = classification_report(y_test, y_pred, output_dict=True)\n",
    "\n",
    "# Organize the metrics into a dataframe\n",
    "metrics_df = pd.DataFrame({\n",
    "    'Metric': ['Accuracy', 'ROC AUC Score', 'Precision (Class 0)', 'Recall (Class 0)', 'F1-Score (Class 0)', \n",
    "               'Precision (Class 1)', 'Recall (Class 1)', 'F1-Score (Class 1)'],\n",
    "    'Value': [accuracy, roc_auc, \n",
    "              report_dict['0']['precision'], report_dict['0']['recall'], report_dict['0']['f1-score'],\n",
    "              report_dict['1']['precision'], report_dict['1']['recall'], report_dict['1']['f1-score']]\n",
    "})\n",
    "\n",
    "# Display the dataframe in a tabular format\n",
    "display(HTML(metrics_df.to_html(index=False, classes=\"table table-striped table-bordered\")))\n"
   ]
  },
  {
   "cell_type": "markdown",
   "id": "70f2d64c-2805-4fb5-bfad-0c90283c79d1",
   "metadata": {},
   "source": [
    "### Generate Confusion Matrix"
   ]
  },
  {
   "cell_type": "code",
   "execution_count": null,
   "id": "d4ec3f85-72a3-480a-b051-8c859cf24d72",
   "metadata": {},
   "outputs": [],
   "source": [
    "# Plotting the confusion matrix\n",
    "conf_matrix = confusion_matrix(y_test, y_pred)\n",
    "plt.figure(figsize=(8, 6))\n",
    "sns.heatmap(conf_matrix, annot=True, fmt='g', cmap='Blues', cbar=False)\n",
    "plt.xlabel('Predicted Label')\n",
    "plt.ylabel('True Label')\n",
    "plt.title('Confusion Matrix')\n",
    "plt.show()"
   ]
  },
  {
   "cell_type": "markdown",
   "id": "119542a4-b5a9-44d8-8f61-296092e9ef6b",
   "metadata": {},
   "source": [
    "# Generate ANCHOR Values"
   ]
  },
  {
   "cell_type": "markdown",
   "id": "0d6a706c-aa38-4dc0-b31f-c685305d13fe",
   "metadata": {},
   "source": [
    "#### Suppress Warnings to clean up output"
   ]
  },
  {
   "cell_type": "code",
   "execution_count": null,
   "id": "d39feb23-23a9-41a8-b304-2c37bd766ae4",
   "metadata": {},
   "outputs": [],
   "source": [
    "import warnings\n",
    "warnings.simplefilter(action='ignore', category=Warning)"
   ]
  },
  {
   "cell_type": "markdown",
   "id": "2c813972-0c7d-4b99-84b6-1643ac0c1633",
   "metadata": {},
   "source": [
    "Check layout of X_train_downsampled"
   ]
  },
  {
   "cell_type": "code",
   "execution_count": null,
   "id": "45770351-5e28-440d-91b8-a6909b8cf66e",
   "metadata": {},
   "outputs": [],
   "source": [
    "X_train_downsampled.head()"
   ]
  },
  {
   "cell_type": "code",
   "execution_count": null,
   "id": "c290aad3-9108-4baa-af22-0feb064ec4e7",
   "metadata": {},
   "outputs": [],
   "source": [
    "# 1. Create the Anchor explainer for tabular data\n",
    "# We need to provide the training data for the explainer to learn the data distribution\n",
    "explainer = AnchorTabular(model.predict, X_train_downsampled.columns.tolist())"
   ]
  },
  {
   "cell_type": "code",
   "execution_count": null,
   "id": "71fe4a5b-6503-434b-acc6-5f587bfc873f",
   "metadata": {},
   "outputs": [],
   "source": [
    "# 2. Fit the explainer on the training data\n",
    "# The explainer needs to learn the statistics of the training data to work effectively\n",
    "explainer.fit(X_train_downsampled.values)"
   ]
  },
  {
   "cell_type": "code",
   "execution_count": null,
   "id": "1887bf35-c227-4bf2-be5e-1a1d5a472a65",
   "metadata": {},
   "outputs": [],
   "source": [
    "# 3. Select a random sample of 5 instances from the test data\n",
    "random_sample = X_test.sample(5, random_state=42)"
   ]
  },
  {
   "cell_type": "code",
   "execution_count": null,
   "id": "f4344faf-1b2b-4d47-aef9-d03f95b12f45",
   "metadata": {},
   "outputs": [],
   "source": [
    "# 4. For each instance in the random sample, generate an explanation\n",
    "explanations = []\n",
    "for idx, row in random_sample.iterrows():\n",
    "    explanation = explainer.explain(row.values, threshold=0.95)  # threshold ensures 95% confidence in explanation\n",
    "    explanations.append(explanation.anchor)"
   ]
  },
  {
   "cell_type": "code",
   "execution_count": null,
   "id": "d73b5d26-9917-4935-b62a-b3f3e0e250dc",
   "metadata": {},
   "outputs": [],
   "source": [
    "# 5. Convert explanations to a visually appealing format\n",
    "explanation_df = pd.DataFrame({'Instance Index': random_sample.index, 'Anchor Explanation': explanations})"
   ]
  },
  {
   "cell_type": "code",
   "execution_count": null,
   "id": "140758a0-1323-4c75-8664-3fb393965486",
   "metadata": {},
   "outputs": [],
   "source": [
    "# 6. Save the explanations to a CSV file\n",
    "explanation_filepath = \"anchor_explanations.csv\"\n",
    "explanation_df.to_csv(explanation_filepath, index=False)"
   ]
  },
  {
   "cell_type": "code",
   "execution_count": null,
   "id": "ee5486dd-52df-4b16-95b5-7120c5e9d8cc",
   "metadata": {},
   "outputs": [],
   "source": [
    "explanation_df"
   ]
  },
  {
   "cell_type": "markdown",
   "id": "c4722be4-4b0b-4154-a189-3888a94409ef",
   "metadata": {},
   "source": [
    "# Prepare ANCHOR Values"
   ]
  },
  {
   "cell_type": "markdown",
   "id": "2630a116-64f4-4b25-a345-a37493059979",
   "metadata": {},
   "source": [
    "In these ANCHOR examples for a Python Notebook generate two dataframes,\n",
    "one representing the individual instance features and the other a dataframe with corresponding \n",
    "rows to the feature dataframe that contain a sequence of columns based on each instance\n",
    "feature that represent a numerical conversion of the ANCHOR feature values.\n",
    "\n",
    "The dataframe for the ANCHOR feature values must have a consistent number of columns per \n",
    "features so that a Eulidean distance calculation can be correctly carried out on any two \n",
    "instances in the ANCHOR feature values dataframe. In other words, each feature column must \n",
    "have a consistent number of corresponding column cells across all the instances in the ANCHOR\n",
    "feature values dataframe.\n",
    "\n",
    "Generate Python code for a Kubeflow Notebook to extend the existing Phyton code above. \n",
    "\n",
    "Ensure every line is clearly commented with the exact steps being executed and why.\n",
    "\n",
    "Generate two output files for these dataframes but limit the output to 15 random features\n",
    "and their associated ANCHOR feature values, but with 3 instances that have a target values of \n",
    "'1' and 12 with a target value of '0'."
   ]
  },
  {
   "cell_type": "markdown",
   "id": "1b1e498b-e792-4e79-b4ba-04f44888ea12",
   "metadata": {},
   "source": [
    "To achieve the described task, we'll follow these steps:\n",
    "\n",
    "Create a dataframe (df_features) representing the individual instance features.\n",
    "Create a dataframe (df_anchors) that contains a sequence of columns for each instance feature representing a numerical conversion of the ANCHOR feature values.\n",
    "Ensure a consistent number of columns for each feature in df_anchors to facilitate Euclidean distance calculations.\n",
    "Save the dataframes to output files after limiting to 15 random features and the specified number of instances."
   ]
  },
  {
   "cell_type": "code",
   "execution_count": null,
   "id": "e35006c4-80d0-4bc7-9881-a73191fd306f",
   "metadata": {},
   "outputs": [],
   "source": [
    "# Step 1: Select instances based on the target values\n",
    "\n",
    "# Select 3 instances with target value '1' and 12 with target value '0'\n",
    "sample_1 = X_test[y_test == 1].sample(3, random_state=42)\n",
    "sample_0 = X_test[y_test == 0].sample(12, random_state=42)\n",
    "df_features = pd.concat([sample_1, sample_0])"
   ]
  },
  {
   "cell_type": "code",
   "execution_count": null,
   "id": "bf1ef323-1c51-4793-8be5-2009e5216bc5",
   "metadata": {},
   "outputs": [],
   "source": [
    "# Step 2: Initialize and fit the AnchorTabular explainer\n",
    "\n",
    "# Initialize the explainer with the model's predict function and feature names\n",
    "explainer = AnchorTabular(model.predict, X_train_downsampled.columns.tolist())\n",
    "\n",
    "# Fit the explainer on the training data to learn its statistics\n",
    "explainer.fit(X_train_downsampled.values)"
   ]
  },
  {
   "cell_type": "code",
   "execution_count": null,
   "id": "b2beaf08-d668-418c-90e2-60860104be60",
   "metadata": {},
   "outputs": [],
   "source": [
    "# Step 3 Generate the actual Anchor explanations for the selected instances\n",
    "\n",
    "# Generate the actual Anchor explanations for the selected instances\n",
    "anchor_explanations = [explainer.explain(row.values, threshold=0.95).anchor for _, row in df_features.iterrows()]\n",
    "\n",
    "# Convert the textual explanations to a format that ensures a consistent number of columns per feature\n",
    "max_num_conditions = max([len(explanation) for explanation in anchor_explanations])\n",
    "numerical_explanations = []\n",
    "\n",
    "for explanation in anchor_explanations:\n",
    "    numerical_representation = [-1] * len(df_features.columns) * max_num_conditions\n",
    "    for idx, (feature, value) in enumerate(explanation.items()):\n",
    "        feature_idx = X_train_downsampled.columns.tolist().index(feature)\n",
    "        numerical_representation[feature_idx * max_num_conditions + idx] = feature_idx\n",
    "    numerical_explanations.append(numerical_representation)\n",
    "\n",
    "df_anchors_actual = pd.DataFrame(numerical_explanations)"
   ]
  },
  {
   "cell_type": "markdown",
   "id": "c126bb30-3f3f-4dd5-8fba-6cef130b8bd4",
   "metadata": {},
   "source": [
    "In this modified code (above):\n",
    "\n",
    "We first determine the maximum number of conditions across all Anchor explanations (max_num_conditions).\n",
    "We then represent each instance's Anchor explanation in a consistent format with this maximum number. Each feature can have up to max_num_conditions columns in the ANCHOR feature values dataframe (df_anchors_actual), ensuring a consistent structure that's suitable for Euclidean distance calculations."
   ]
  },
  {
   "cell_type": "code",
   "execution_count": null,
   "id": "6c186a28-5b8e-474e-8d8b-b8e0c7a3b136",
   "metadata": {},
   "outputs": [],
   "source": [
    "# Step 4: Limit to 15 random features and their associated ANCHOR feature values\n",
    "selected_features = np.random.choice(df_features.columns, size=15, replace=False)\n",
    "df_features = df_features[selected_features]\n",
    "selected_anchor_columns = [col for feature in selected_features for col in range(feature * max_num_conditions, (feature + 1) * max_num_conditions)]\n",
    "df_anchors_actual = df_anchors_actual[selected_anchor_columns]\n"
   ]
  },
  {
   "cell_type": "code",
   "execution_count": null,
   "id": "3cc7cfaf-4002-4783-8528-3f7239924f87",
   "metadata": {},
   "outputs": [],
   "source": [
    "# Step 5: Save the dataframes to output files\n",
    "features_filepath = \"instance_features.csv\"\n",
    "anchors_filepath = \"anchor_features.csv\"\n",
    "df_features.to_csv(features_filepath, index=False)\n",
    "df_anchors_actual.to_csv(anchors_filepath, index=False)\n",
    "\n",
    "features_filepath, anchors_filepath"
   ]
  },
  {
   "cell_type": "markdown",
   "id": "9de73baf-3ce5-433a-8cab-b1c0ed8b9275",
   "metadata": {},
   "source": [
    "The code provided above illustrates how to utilize the AnchorTabular explainer from the alibi library to generate actual Anchor explanations for the selected instances in a Python Notebook.\n",
    "\n",
    "Here's a breakdown of the provided code:\n",
    "\n",
    "Initialization and Fitting the Explainer:\n",
    "\n",
    "The AnchorTabular explainer is initialized with the model's prediction function and the feature names from X_train_downsampled.\n",
    "The explainer is then fitted on the training data (X_train_downsampled) to learn its statistics, which is required to generate meaningful explanations.\n",
    "Generating Anchor Explanations:\n",
    "\n",
    "For each instance in df_features, we generate an Anchor explanation using the explain method of the explainer. We're using a threshold of 0.95, ensuring that the explanation holds true with a confidence of at least 95%.\n",
    "The textual explanations are converted into a numerical format. This format represents each feature in the explanation by its index in the original dataset.\n",
    "Saving the DataFrames:\n",
    "\n",
    "The df_features and df_anchors_actual dataframes are saved to CSV files.\n",
    "When you run this code in your local Python Notebook environment where the alibi library is available, it will generate the actual Anchor explanations for the instances and save them in the specified output files."
   ]
  },
  {
   "cell_type": "markdown",
   "id": "1ae39788-74ff-4e4d-a8c7-e0926d0fb9fc",
   "metadata": {},
   "source": [
    "Are we certain that in this last block of code two dataframes are correctly generated, one representing the individual instance features and the other a dataframe with corresponding \n",
    "rows to the feature dataframe that contain a sequence of columns based on each instance\n",
    "feature that represent a numerical conversion of the ANCHOR feature values?"
   ]
  },
  {
   "cell_type": "markdown",
   "id": "cbc05bb9-94e0-4e7a-82fc-2c55c17a590b",
   "metadata": {},
   "source": [
    "You're right to question it for clarity. Let's break down the process:\n",
    "\n",
    "df_features: This dataframe contains the actual feature values for the selected instances. Each row corresponds to an instance, and each column corresponds to a feature. This dataframe is a direct subset of the test data (X_test), limited to specific instances (3 with target value '1' and 12 with target value '0') and then further limited to 15 randomly selected features.\n",
    "\n",
    "df_anchors_actual: This dataframe represents the Anchor explanations for the same instances in df_features. Each row corresponds to an instance, and for each feature from df_features, there are multiple columns in df_anchors_actual. The number of columns per feature in df_anchors_actual is determined by the maximum number of conditions across all Anchor explanations for any instance.\n",
    "\n",
    "To ensure a consistent structure:\n",
    "\n",
    "We first determine the maximum number of conditions any instance has in its Anchor explanation.\n",
    "For each instance's Anchor explanation, we convert the conditions into a numerical format and represent them in a sequence of columns based on each instance's feature.\n",
    "If an instance's Anchor explanation has fewer conditions than the maximum, the remaining columns for that instance are filled with a placeholder value (-1).\n",
    "The key idea here is that df_anchors_actual will have multiple columns for each feature in df_features to represent the Anchor conditions in a numerical format. This ensures a consistent structure across all instances, allowing for calculations like Euclidean distance.\n",
    "\n",
    "To validate the correctness:\n",
    "\n",
    "The number of rows in df_features and df_anchors_actual should be the same.\n",
    "The number of columns in df_anchors_actual should be a multiple of the number of columns in df_features because each feature in df_features corresponds to multiple columns in df_anchors_actual.\n",
    "If you run the provided code in your Python Notebook environment with the alibi library installed, you should get these two dataframes constructed as described. You can then further inspect them to ensure they meet the requirements.\n",
    "\n",
    "\n",
    "\n",
    "\n"
   ]
  },
  {
   "cell_type": "code",
   "execution_count": null,
   "id": "1a0c7070-7d1c-468b-972f-8dd139a122d5",
   "metadata": {},
   "outputs": [],
   "source": []
  }
 ],
 "metadata": {
  "kernelspec": {
   "display_name": "Python 3",
   "language": "python",
   "name": "python3"
  },
  "language_info": {
   "codemirror_mode": {
    "name": "ipython",
    "version": 3
   },
   "file_extension": ".py",
   "mimetype": "text/x-python",
   "name": "python",
   "nbconvert_exporter": "python",
   "pygments_lexer": "ipython3",
   "version": "3.8.10"
  },
  "toc-showcode": false,
  "toc-showmarkdowntxt": false,
  "toc-showtags": false
 },
 "nbformat": 4,
 "nbformat_minor": 5
}
