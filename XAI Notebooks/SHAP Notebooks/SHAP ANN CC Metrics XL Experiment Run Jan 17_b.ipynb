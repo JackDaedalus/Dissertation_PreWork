{
 "cells": [
  {
   "cell_type": "markdown",
   "metadata": {},
   "source": [
    "# Disseration Experiment 3i\n",
    "# Generate SHAP XAI Output (Credit Card Fraud) \n",
    "# - Experiment January 17¶\n",
    "Ciaran Finnegan January 2023"
   ]
  },
  {
   "cell_type": "markdown",
   "metadata": {},
   "source": [
    "# Import Libraries + Custom Functions"
   ]
  },
  {
   "cell_type": "markdown",
   "metadata": {},
   "source": [
    "## Import Libraries"
   ]
  },
  {
   "cell_type": "code",
   "execution_count": 1,
   "metadata": {},
   "outputs": [],
   "source": [
    "import warnings\n",
    "warnings.simplefilter(action='ignore', category=Warning)"
   ]
  },
  {
   "cell_type": "code",
   "execution_count": 2,
   "metadata": {},
   "outputs": [
    {
     "name": "stderr",
     "output_type": "stream",
     "text": [
      "2024-01-17 16:41:45.787507: I tensorflow/core/util/port.cc:110] oneDNN custom operations are on. You may see slightly different numerical results due to floating-point round-off errors from different computation orders. To turn them off, set the environment variable `TF_ENABLE_ONEDNN_OPTS=0`.\n",
      "2024-01-17 16:41:45.789894: I tensorflow/tsl/cuda/cudart_stub.cc:28] Could not find cuda drivers on your machine, GPU will not be used.\n",
      "2024-01-17 16:41:45.838965: I tensorflow/tsl/cuda/cudart_stub.cc:28] Could not find cuda drivers on your machine, GPU will not be used.\n",
      "2024-01-17 16:41:45.840619: I tensorflow/core/platform/cpu_feature_guard.cc:182] This TensorFlow binary is optimized to use available CPU instructions in performance-critical operations.\n",
      "To enable the following instructions: AVX2 AVX512F AVX512_VNNI FMA, in other operations, rebuild TensorFlow with the appropriate compiler flags.\n",
      "2024-01-17 16:41:46.616677: W tensorflow/compiler/tf2tensorrt/utils/py_utils.cc:38] TF-TRT Warning: Could not find TensorRT\n"
     ]
    }
   ],
   "source": [
    "# Import libs\n",
    "import numpy as np\n",
    "import pandas as pd\n",
    "\n",
    "# Import SHAP libraries\n",
    "import shap\n",
    "\n",
    "# Import Display libraries\n",
    "from IPython.display import display, HTML\n",
    "import matplotlib.pyplot as plt\n",
    "import seaborn as sns\n",
    "from prettytable import PrettyTable\n",
    "import raiutils\n",
    "from raiutils.exceptions import UserConfigValidationException\n",
    "\n",
    "# Import libraries to build ANN model\n",
    "import tensorflow as tf\n",
    "import keras_tuner as kt\n",
    "from tensorflow import keras\n",
    "from tensorflow.keras import layers\n",
    "from tensorflow.keras.models import Sequential\n",
    "from tensorflow.keras.layers import Dense, Dropout\n",
    "from tensorflow.keras.optimizers import Adam\n",
    "\n",
    "\n",
    "# Import ML Workflow Libraries\n",
    "from sklearn.preprocessing import LabelEncoder\n",
    "from sklearn.preprocessing import StandardScaler, OneHotEncoder\n",
    "import sklearn.metrics\n",
    "from sklearn.metrics import classification_report\n",
    "from sklearn.metrics import confusion_matrix\n",
    "from sklearn.metrics import accuracy_score\n",
    "from sklearn.metrics import roc_auc_score\n",
    "from sklearn.utils import resample\n",
    "\n",
    "\n",
    "# Classifier training (not used for explainability)\n",
    "from sklearn.model_selection import train_test_split\n",
    "from sklearn.model_selection import GridSearchCV\n",
    "\n",
    "#Import libraries for explainer metrics\n",
    "from sklearn.cluster import KMeans\n",
    "from scipy.spatial import distance\n",
    "\n",
    "\n",
    "# Additional display libraires\n",
    "import contextlib\n",
    "import os\n",
    "import sys\n",
    "from contextlib import contextmanager\n",
    "\n",
    "\n",
    "# Libraries used in Experiment Creation of XL Output Metrics\n",
    "import os\n",
    "import time\n",
    "import random\n",
    "import openpyxl"
   ]
  },
  {
   "cell_type": "markdown",
   "metadata": {},
   "source": [
    "## Custom Functions"
   ]
  },
  {
   "cell_type": "markdown",
   "metadata": {},
   "source": [
    "Dataset Visualisations"
   ]
  },
  {
   "cell_type": "code",
   "execution_count": 3,
   "metadata": {},
   "outputs": [],
   "source": [
    "%run ./DS_Visualisation_Functions.ipynb"
   ]
  },
  {
   "cell_type": "markdown",
   "metadata": {},
   "source": [
    "Metrics"
   ]
  },
  {
   "cell_type": "code",
   "execution_count": 4,
   "metadata": {},
   "outputs": [
    {
     "name": "stdout",
     "output_type": "stream",
     "text": [
      "Function 'example_function' executed in 2.0021 seconds\n",
      "Result: Result, Execution Time: 2.002078056335449 seconds\n"
     ]
    }
   ],
   "source": [
    "%run ./XAI_Metrics_Functions.ipynb"
   ]
  },
  {
   "cell_type": "markdown",
   "metadata": {},
   "source": [
    "Model Evaluation Functions"
   ]
  },
  {
   "cell_type": "code",
   "execution_count": 5,
   "metadata": {},
   "outputs": [],
   "source": [
    "%run ./DS_Model_Build_Evaluation_Functions.ipynb"
   ]
  },
  {
   "cell_type": "markdown",
   "metadata": {},
   "source": [
    "Track Experiment Result Functions"
   ]
  },
  {
   "cell_type": "code",
   "execution_count": 6,
   "metadata": {},
   "outputs": [],
   "source": [
    "%run ./XAI_Experiment_Functions.ipynb"
   ]
  },
  {
   "cell_type": "markdown",
   "metadata": {},
   "source": [
    "# Load Model"
   ]
  },
  {
   "cell_type": "markdown",
   "metadata": {},
   "source": [
    "A Neural Network Model has been created in another Kubeflow Notebook and is being used in all the XAI experiments"
   ]
  },
  {
   "cell_type": "code",
   "execution_count": 7,
   "metadata": {},
   "outputs": [],
   "source": [
    "loaded_model = keras.models.load_model('ccfraud_model')  # If saved as SavedModel"
   ]
  },
  {
   "cell_type": "code",
   "execution_count": 8,
   "metadata": {},
   "outputs": [],
   "source": [
    "X_test_loaded, y_test_loaded, X_train_loaded, y_train_loaded, df_downsampled_loaded, dfCatCols = load_CC_train_test_data()"
   ]
  },
  {
   "cell_type": "code",
   "execution_count": 9,
   "metadata": {},
   "outputs": [
    {
     "data": {
      "text/html": [
       "<div>\n",
       "<style scoped>\n",
       "    .dataframe tbody tr th:only-of-type {\n",
       "        vertical-align: middle;\n",
       "    }\n",
       "\n",
       "    .dataframe tbody tr th {\n",
       "        vertical-align: top;\n",
       "    }\n",
       "\n",
       "    .dataframe thead th {\n",
       "        text-align: right;\n",
       "    }\n",
       "</style>\n",
       "<table border=\"1\" class=\"dataframe\">\n",
       "  <thead>\n",
       "    <tr style=\"text-align: right;\">\n",
       "      <th></th>\n",
       "      <th>OnlinePOSCount.cnt.day.present</th>\n",
       "      <th>EMVTransactionsCount.cnt.day.present</th>\n",
       "      <th>NonEMVTransactionsCount.cnt.day.present</th>\n",
       "      <th>MerchantCategory</th>\n",
       "      <th>POS_Count.cnt.day.present</th>\n",
       "      <th>PinIndicator</th>\n",
       "      <th>DomesticAuthCount.cnt.hour1</th>\n",
       "      <th>DomesticAuthCount.cnt.hour3</th>\n",
       "      <th>DomesticAuthCount.cnt.hour4</th>\n",
       "      <th>DomesticAuthCount.cnt.hour10</th>\n",
       "      <th>...</th>\n",
       "      <th>TxnChannelCode_OnL</th>\n",
       "      <th>TxnChannelCode_POS</th>\n",
       "      <th>CustomerPresentIndicator_N</th>\n",
       "      <th>CustomerPresentIndicator_U</th>\n",
       "      <th>CustomerPresentIndicator_Y</th>\n",
       "      <th>DvcPosEntryMode_Card_Present</th>\n",
       "      <th>DvcPosEntryMode_E_Commerce</th>\n",
       "      <th>DvcPosEntryMode_U</th>\n",
       "      <th>ECommerceFlag_U</th>\n",
       "      <th>ECommerceFlag_Y</th>\n",
       "    </tr>\n",
       "  </thead>\n",
       "  <tbody>\n",
       "    <tr>\n",
       "      <th>0</th>\n",
       "      <td>2</td>\n",
       "      <td>2</td>\n",
       "      <td>0</td>\n",
       "      <td>5462</td>\n",
       "      <td>2</td>\n",
       "      <td>1</td>\n",
       "      <td>1</td>\n",
       "      <td>1</td>\n",
       "      <td>1</td>\n",
       "      <td>2</td>\n",
       "      <td>...</td>\n",
       "      <td>0</td>\n",
       "      <td>1</td>\n",
       "      <td>0</td>\n",
       "      <td>0</td>\n",
       "      <td>1</td>\n",
       "      <td>1</td>\n",
       "      <td>0</td>\n",
       "      <td>0</td>\n",
       "      <td>1</td>\n",
       "      <td>0</td>\n",
       "    </tr>\n",
       "  </tbody>\n",
       "</table>\n",
       "<p>1 rows × 64 columns</p>\n",
       "</div>"
      ],
      "text/plain": [
       "   OnlinePOSCount.cnt.day.present  EMVTransactionsCount.cnt.day.present  \\\n",
       "0                               2                                     2   \n",
       "\n",
       "   NonEMVTransactionsCount.cnt.day.present  MerchantCategory  \\\n",
       "0                                        0              5462   \n",
       "\n",
       "   POS_Count.cnt.day.present  PinIndicator  DomesticAuthCount.cnt.hour1  \\\n",
       "0                          2             1                            1   \n",
       "\n",
       "   DomesticAuthCount.cnt.hour3  DomesticAuthCount.cnt.hour4  \\\n",
       "0                            1                            1   \n",
       "\n",
       "   DomesticAuthCount.cnt.hour10  ...  TxnChannelCode_OnL  TxnChannelCode_POS  \\\n",
       "0                             2  ...                   0                   1   \n",
       "\n",
       "   CustomerPresentIndicator_N  CustomerPresentIndicator_U  \\\n",
       "0                           0                           0   \n",
       "\n",
       "   CustomerPresentIndicator_Y  DvcPosEntryMode_Card_Present  \\\n",
       "0                           1                             1   \n",
       "\n",
       "   DvcPosEntryMode_E_Commerce  DvcPosEntryMode_U  ECommerceFlag_U  \\\n",
       "0                           0                  0                1   \n",
       "\n",
       "   ECommerceFlag_Y  \n",
       "0                0  \n",
       "\n",
       "[1 rows x 64 columns]"
      ]
     },
     "execution_count": 9,
     "metadata": {},
     "output_type": "execute_result"
    }
   ],
   "source": [
    "X_train_loaded.head(1)"
   ]
  },
  {
   "cell_type": "code",
   "execution_count": 10,
   "metadata": {},
   "outputs": [
    {
     "data": {
      "text/html": [
       "<div>\n",
       "<style scoped>\n",
       "    .dataframe tbody tr th:only-of-type {\n",
       "        vertical-align: middle;\n",
       "    }\n",
       "\n",
       "    .dataframe tbody tr th {\n",
       "        vertical-align: top;\n",
       "    }\n",
       "\n",
       "    .dataframe thead th {\n",
       "        text-align: right;\n",
       "    }\n",
       "</style>\n",
       "<table border=\"1\" class=\"dataframe\">\n",
       "  <thead>\n",
       "    <tr style=\"text-align: right;\">\n",
       "      <th></th>\n",
       "      <th>Fraud</th>\n",
       "    </tr>\n",
       "  </thead>\n",
       "  <tbody>\n",
       "    <tr>\n",
       "      <th>0</th>\n",
       "      <td>0</td>\n",
       "    </tr>\n",
       "    <tr>\n",
       "      <th>1</th>\n",
       "      <td>1</td>\n",
       "    </tr>\n",
       "  </tbody>\n",
       "</table>\n",
       "</div>"
      ],
      "text/plain": [
       "   Fraud\n",
       "0      0\n",
       "1      1"
      ]
     },
     "execution_count": 10,
     "metadata": {},
     "output_type": "execute_result"
    }
   ],
   "source": [
    "y_train_loaded.head(2)"
   ]
  },
  {
   "cell_type": "markdown",
   "metadata": {},
   "source": [
    "## Re-Display Model Peformance"
   ]
  },
  {
   "cell_type": "markdown",
   "metadata": {},
   "source": [
    "For illustration, the evualtion metrics of the NN model will be repeated here."
   ]
  },
  {
   "cell_type": "markdown",
   "metadata": {},
   "source": [
    "### Tabular Data"
   ]
  },
  {
   "cell_type": "code",
   "execution_count": 11,
   "metadata": {},
   "outputs": [],
   "source": [
    "scaler = StandardScaler()   \n",
    "X_test_loaded_scaled = scaler.fit_transform(X_test_loaded)"
   ]
  },
  {
   "cell_type": "code",
   "execution_count": 12,
   "metadata": {},
   "outputs": [
    {
     "data": {
      "text/html": [
       "\n",
       "    <div style=\"background-color: #4CAF50; padding: 7px; text-align: center; border-radius: 3px;\">\n",
       "        <h2 style=\"color: white;\">This is the Model Accuracy</h2>\n",
       "    </div>\n",
       "    "
      ],
      "text/plain": [
       "<IPython.core.display.HTML object>"
      ]
     },
     "metadata": {},
     "output_type": "display_data"
    },
    {
     "name": "stdout",
     "output_type": "stream",
     "text": [
      "42/42 [==============================] - 0s 1ms/step - loss: 0.6533 - accuracy: 0.8661\n"
     ]
    },
    {
     "data": {
      "text/html": [
       "\n",
       "    <div style=\"font-size: 20px; font-weight: bold;\">\n",
       "        Test Accuracy: 86.61%\n",
       "    </div>\n",
       "    "
      ],
      "text/plain": [
       "<IPython.core.display.HTML object>"
      ]
     },
     "metadata": {},
     "output_type": "display_data"
    },
    {
     "name": "stdout",
     "output_type": "stream",
     "text": [
      "42/42 [==============================] - 0s 1ms/step\n"
     ]
    },
    {
     "data": {
      "text/html": [
       "\n",
       "    <div style=\"font-size: 20px; font-weight: bold;\">\n",
       "        Model Performance Metrics\n",
       "    </div>\n",
       "    "
      ],
      "text/plain": [
       "<IPython.core.display.HTML object>"
      ]
     },
     "metadata": {},
     "output_type": "display_data"
    },
    {
     "data": {
      "text/html": [
       "<table border=\"1\" class=\"dataframe table table-striped table-bordered\">\n",
       "  <thead>\n",
       "    <tr style=\"text-align: right;\">\n",
       "      <th>Metric</th>\n",
       "      <th>Value</th>\n",
       "    </tr>\n",
       "  </thead>\n",
       "  <tbody>\n",
       "    <tr>\n",
       "      <td>Accuracy</td>\n",
       "      <td>0.866058</td>\n",
       "    </tr>\n",
       "    <tr>\n",
       "      <td>ROC AUC Score</td>\n",
       "      <td>0.932477</td>\n",
       "    </tr>\n",
       "    <tr>\n",
       "      <td>Precision (Class 0)</td>\n",
       "      <td>0.868580</td>\n",
       "    </tr>\n",
       "    <tr>\n",
       "      <td>Recall (Class 0)</td>\n",
       "      <td>0.865964</td>\n",
       "    </tr>\n",
       "    <tr>\n",
       "      <td>F1-Score (Class 0)</td>\n",
       "      <td>0.867270</td>\n",
       "    </tr>\n",
       "    <tr>\n",
       "      <td>Precision (Class 1)</td>\n",
       "      <td>0.863497</td>\n",
       "    </tr>\n",
       "    <tr>\n",
       "      <td>Recall (Class 1)</td>\n",
       "      <td>0.866154</td>\n",
       "    </tr>\n",
       "    <tr>\n",
       "      <td>F1-Score (Class 1)</td>\n",
       "      <td>0.864823</td>\n",
       "    </tr>\n",
       "  </tbody>\n",
       "</table>"
      ],
      "text/plain": [
       "<IPython.core.display.HTML object>"
      ]
     },
     "metadata": {},
     "output_type": "display_data"
    },
    {
     "name": "stdout",
     "output_type": "stream",
     "text": [
      "Tablular Done!\n"
     ]
    }
   ],
   "source": [
    "y_pred_loaded = display_model_metrics_tabular(loaded_model, X_test_loaded_scaled, y_test_loaded)"
   ]
  },
  {
   "cell_type": "markdown",
   "metadata": {},
   "source": [
    "### Confusion Matrix"
   ]
  },
  {
   "cell_type": "code",
   "execution_count": 13,
   "metadata": {},
   "outputs": [
    {
     "data": {
      "text/html": [
       "\n",
       "    <div style=\"background-color: #4CAF50; padding: 7px; text-align: center; border-radius: 3px;\">\n",
       "        <h2 style=\"color: white;\">Confusion Matrix</h2>\n",
       "    </div>\n",
       "    "
      ],
      "text/plain": [
       "<IPython.core.display.HTML object>"
      ]
     },
     "metadata": {},
     "output_type": "display_data"
    },
    {
     "data": {
      "image/png": "[encoded data removed]",
      "text/plain": [
       "<Figure size 576x432 with 1 Axes>"
      ]
     },
     "metadata": {
      "needs_background": "light"
     },
     "output_type": "display_data"
    },
    {
     "data": {
      "text/plain": [
       "'Confusion Matrix!'"
      ]
     },
     "execution_count": 13,
     "metadata": {},
     "output_type": "execute_result"
    }
   ],
   "source": [
    "generate_confusion_matrix(y_test_loaded, y_pred_loaded)"
   ]
  },
  {
   "cell_type": "markdown",
   "metadata": {},
   "source": [
    "-------------------------"
   ]
  },
  {
   "cell_type": "markdown",
   "metadata": {},
   "source": [
    "# Generate Shap Values"
   ]
  },
  {
   "cell_type": "markdown",
   "metadata": {},
   "source": [
    "## SHAP Summary Plot"
   ]
  },
  {
   "cell_type": "code",
   "execution_count": 14,
   "metadata": {},
   "outputs": [
    {
     "name": "stdout",
     "output_type": "stream",
     "text": [
      "1/1 [==============================] - 0s 48ms/step\n"
     ]
    }
   ],
   "source": [
    "# Create a SHAP explainer\n",
    "# explainer = shap.KernelExplainer(model.predict, shap.sample(X_train_downsampled, 10)) #100\n",
    "\n",
    "#Jan 6th - use new loaded model\n",
    "explainer = shap.KernelExplainer(loaded_model.predict, shap.sample(X_train_loaded, 10)) #100"
   ]
  },
  {
   "cell_type": "code",
   "execution_count": 15,
   "metadata": {},
   "outputs": [],
   "source": [
    "# Extract the feature names, excluding the target variable 'Fraud'\n",
    "#column_names = df_downsampled.drop('default', axis=1).columns\n",
    "\n",
    "#Jan 6th - use new loaded data\n",
    "column_names = df_downsampled_loaded.drop('Fraud', axis=1).columns"
   ]
  },
  {
   "cell_type": "code",
   "execution_count": 16,
   "metadata": {},
   "outputs": [
    {
     "name": "stdout",
     "output_type": "stream",
     "text": [
      "1/1 [==============================] - 0s 43ms/step\n",
      "680/680 [==============================] - 1s 918us/step\n",
      "1/1 [==============================] - 0s 18ms/step\n",
      "680/680 [==============================] - 1s 893us/step\n",
      "1/1 [==============================] - 0s 19ms/step\n",
      "680/680 [==============================] - 1s 906us/step\n",
      "1/1 [==============================] - 0s 19ms/step\n",
      "680/680 [==============================] - 1s 886us/step\n",
      "1/1 [==============================] - 0s 18ms/step\n",
      "680/680 [==============================] - 1s 926us/step\n",
      "1/1 [==============================] - 0s 19ms/step\n",
      "680/680 [==============================] - 1s 906us/step\n",
      "1/1 [==============================] - 0s 17ms/step\n",
      "680/680 [==============================] - 1s 906us/step\n",
      "1/1 [==============================] - 0s 18ms/step\n",
      "680/680 [==============================] - 1s 928us/step\n",
      "1/1 [==============================] - 0s 18ms/step\n",
      "680/680 [==============================] - 1s 925us/step\n",
      "1/1 [==============================] - 0s 18ms/step\n",
      "680/680 [==============================] - 1s 904us/step\n"
     ]
    }
   ],
   "source": [
    "with warnings.catch_warnings():\n",
    "    warnings.simplefilter('ignore')\n",
    "    # Jan 6th - use new loaded test data, which is already a dataframe\n",
    "    #shap_values = explainer.shap_values(X_test_downsampled.iloc[:5,:], silent=True) #100\n",
    "    shap_values = explainer.shap_values(X_test_loaded.iloc[:10,:], silent=True) #100"
   ]
  },
  {
   "cell_type": "code",
   "execution_count": 17,
   "metadata": {},
   "outputs": [
    {
     "data": {
      "image/png": "[encoded data removed]",
      "text/plain": [
       "<Figure size 576x684 with 1 Axes>"
      ]
     },
     "metadata": {
      "needs_background": "light"
     },
     "output_type": "display_data"
    }
   ],
   "source": [
    "# Create a SHAP summary plot\n",
    "#shap.summary_plot(shap_values, X_test_downsampled.iloc[:10,:], feature_names=X_train_downsampled.columns)\n",
    "\n",
    "#Jan 6th - use new loaded data, which is already a dataframe\n",
    "shap.summary_plot(shap_values, X_test_loaded.iloc[:10,:], feature_names=X_train_loaded.columns)"
   ]
  },
  {
   "cell_type": "markdown",
   "metadata": {},
   "source": [
    "## Single Random Observation (for illustration)"
   ]
  },
  {
   "cell_type": "code",
   "execution_count": 18,
   "metadata": {},
   "outputs": [],
   "source": [
    "# Select a random observation from the test dataset\n",
    "#random_observation = X_test_downsampled.sample(1, random_state=42)\n",
    "\n",
    "# Jan 6th - use loaded data\n",
    "random_observation = X_test_loaded.sample(1, random_state=42)"
   ]
  },
  {
   "cell_type": "code",
   "execution_count": 19,
   "metadata": {},
   "outputs": [
    {
     "data": {
      "application/json": {
       "ascii": false,
       "bar_format": null,
       "colour": null,
       "elapsed": 0.004714250564575195,
       "initial": 0,
       "n": 0,
       "ncols": null,
       "nrows": null,
       "postfix": null,
       "prefix": "",
       "rate": null,
       "total": 1,
       "unit": "it",
       "unit_divisor": 1000,
       "unit_scale": false
      },
      "application/vnd.jupyter.widget-view+json": {
       "model_id": "34c5253f25974794bdbad0d9bed70aea",
       "version_major": 2,
       "version_minor": 0
      },
      "text/plain": [
       "  0%|          | 0/1 [00:00<?, ?it/s]"
      ]
     },
     "metadata": {},
     "output_type": "display_data"
    },
    {
     "name": "stdout",
     "output_type": "stream",
     "text": [
      "1/1 [==============================] - 0s 18ms/step\n",
      "680/680 [==============================] - 1s 907us/step\n"
     ]
    }
   ],
   "source": [
    "# Generate SHAP values for the instances\n",
    "with warnings.catch_warnings():\n",
    "    warnings.simplefilter('ignore')\n",
    "    # Your code that produces warnings goes here\n",
    "    shap_values_random_observation = explainer.shap_values(random_observation)"
   ]
  },
  {
   "cell_type": "code",
   "execution_count": 20,
   "metadata": {},
   "outputs": [],
   "source": [
    "# Get the SHAP values for class 1 (default) for this observation\n",
    "shap_values_observation_class1 = shap_values_random_observation[0]"
   ]
  },
  {
   "cell_type": "code",
   "execution_count": 21,
   "metadata": {},
   "outputs": [],
   "source": [
    "# Convert SHAP values to a Series for easier manipulation\n",
    "shap_values_series = pd.Series(shap_values_observation_class1[0], index=random_observation.columns)"
   ]
  },
  {
   "cell_type": "code",
   "execution_count": 22,
   "metadata": {},
   "outputs": [],
   "source": [
    "# Sort the features based on absolute SHAP value\n",
    "sorted_features = shap_values_series.abs().sort_values(ascending=False)"
   ]
  },
  {
   "cell_type": "code",
   "execution_count": 23,
   "metadata": {},
   "outputs": [],
   "source": [
    "# Display the top 20 features for the random observation in an aesthetically pleasing tabular format\n",
    "top_20_features_observation = sorted_features.head(20)\n",
    "top_20_features_df_observation = pd.DataFrame({'Feature': top_20_features_observation.index, \n",
    "                                               'SHAP Value': top_20_features_observation.values})"
   ]
  },
  {
   "cell_type": "code",
   "execution_count": 24,
   "metadata": {},
   "outputs": [
    {
     "name": "stdout",
     "output_type": "stream",
     "text": [
      "Selected Row Number from Test Data: 1232\n"
     ]
    }
   ],
   "source": [
    "# Display the index (row number) of the selected observation\n",
    "print(f\"Selected Row Number from Test Data: {random_observation.index[0]}\")"
   ]
  },
  {
   "cell_type": "code",
   "execution_count": 25,
   "metadata": {},
   "outputs": [
    {
     "name": "stdout",
     "output_type": "stream",
     "text": [
      "\n",
      "Top 20 Features and Their SHAP Values:\n"
     ]
    },
    {
     "data": {
      "text/html": [
       "\n",
       "    <style>\n",
       "        table {\n",
       "            border-collapse: collapse;\n",
       "            width: 50%;\n",
       "            font-family: Arial, sans-serif;\n",
       "        }\n",
       "        th {\n",
       "            background-color: #4CAF50;\n",
       "            color: white;\n",
       "        }\n",
       "        th, td {\n",
       "            border: 1px solid #ddd;\n",
       "            padding: 8px;\n",
       "            text-align: left;\n",
       "        }\n",
       "        tr:nth-child(even) {\n",
       "            background-color: #f2f2f2;\n",
       "        }\n",
       "        tr:hover {\n",
       "            background-color: #ddd;\n",
       "        }\n",
       "    </style>\n",
       "<table border=\"1\" class=\"dataframe\">\n",
       "  <thead>\n",
       "    <tr style=\"text-align: right;\">\n",
       "      <th>Feature</th>\n",
       "      <th>SHAP Value</th>\n",
       "    </tr>\n",
       "  </thead>\n",
       "  <tbody>\n",
       "    <tr>\n",
       "      <td>CustomerPresentAuthAmount.acc.day.total</td>\n",
       "      <td>0.008120</td>\n",
       "    </tr>\n",
       "    <tr>\n",
       "      <td>POSTerminalAttendedAuthAmount.acc.day.total</td>\n",
       "      <td>0.005515</td>\n",
       "    </tr>\n",
       "    <tr>\n",
       "      <td>MerchantCategory</td>\n",
       "      <td>0.005335</td>\n",
       "    </tr>\n",
       "    <tr>\n",
       "      <td>HourlyAuthAmt.acc.hour25</td>\n",
       "      <td>0.004786</td>\n",
       "    </tr>\n",
       "    <tr>\n",
       "      <td>POSTerminalAttendedAuthAmount.acc.day.present</td>\n",
       "      <td>0.004767</td>\n",
       "    </tr>\n",
       "    <tr>\n",
       "      <td>CustomerPresentAuthAmount.acc.day.present</td>\n",
       "      <td>0.004350</td>\n",
       "    </tr>\n",
       "    <tr>\n",
       "      <td>POSSum.acc.month.total</td>\n",
       "      <td>0.004284</td>\n",
       "    </tr>\n",
       "    <tr>\n",
       "      <td>HighRiskPOSSum.acc.hour.total</td>\n",
       "      <td>0.003863</td>\n",
       "    </tr>\n",
       "    <tr>\n",
       "      <td>NotECommerceAuthAmount.acc.day.total</td>\n",
       "      <td>0.003319</td>\n",
       "    </tr>\n",
       "    <tr>\n",
       "      <td>EMVTransactionsAcc.acc.day.total</td>\n",
       "      <td>0.002988</td>\n",
       "    </tr>\n",
       "    <tr>\n",
       "      <td>CustomerNotPresentAuthAmount.acc.day.total</td>\n",
       "      <td>0.002260</td>\n",
       "    </tr>\n",
       "    <tr>\n",
       "      <td>NotECommerceAuthAmount.acc.day.present</td>\n",
       "      <td>0.002251</td>\n",
       "    </tr>\n",
       "    <tr>\n",
       "      <td>NewMerchantCountryCount.cnt.hour3</td>\n",
       "      <td>0.002011</td>\n",
       "    </tr>\n",
       "    <tr>\n",
       "      <td>NewMerchantCountryCount.cnt.hour15</td>\n",
       "      <td>0.001830</td>\n",
       "    </tr>\n",
       "    <tr>\n",
       "      <td>EMVTransactionsCount.cnt.day.present</td>\n",
       "      <td>0.001585</td>\n",
       "    </tr>\n",
       "    <tr>\n",
       "      <td>OnlineNewMerchCtryCntDaily.cnt.day.total</td>\n",
       "      <td>0.001462</td>\n",
       "    </tr>\n",
       "    <tr>\n",
       "      <td>OnlineNewMerchCtryCntHourly.cnt.hour1</td>\n",
       "      <td>0.001417</td>\n",
       "    </tr>\n",
       "    <tr>\n",
       "      <td>ECommerceFlag_U</td>\n",
       "      <td>0.001295</td>\n",
       "    </tr>\n",
       "    <tr>\n",
       "      <td>TxnChannelCode_POS</td>\n",
       "      <td>0.001292</td>\n",
       "    </tr>\n",
       "    <tr>\n",
       "      <td>OnlinePOSCountForever.cnt.present</td>\n",
       "      <td>0.001267</td>\n",
       "    </tr>\n",
       "  </tbody>\n",
       "</table>"
      ],
      "text/plain": [
       "<IPython.core.display.HTML object>"
      ]
     },
     "metadata": {},
     "output_type": "display_data"
    }
   ],
   "source": [
    "# Display the SHAP values for the top 20 features of the observation\n",
    "print(\"\\nTop 20 Features and Their SHAP Values:\")\n",
    "display(HTML(xai_styles + top_20_features_df_observation.to_html(index=False)))"
   ]
  },
  {
   "cell_type": "markdown",
   "metadata": {},
   "source": [
    "## Prepare SHAP Values Data for Metric Calculations"
   ]
  },
  {
   "cell_type": "markdown",
   "metadata": {},
   "source": [
    "Use a custom built decorator to track the time taken to generate the SHAP values"
   ]
  },
  {
   "cell_type": "code",
   "execution_count": 26,
   "metadata": {},
   "outputs": [],
   "source": [
    "@timeit\n",
    "def generate_shap_explanations(model, data, limit = 0, target_column='Fraud', \n",
    "                                output_instance_file='shap_instances_input.csv', \n",
    "                                output_shap_file='shap_value_results.csv'):\n",
    "    \n",
    "    # Reconfirm input as part of verification of model predictions\n",
    "    print(f'data[{target_column}] :')\n",
    "    print(data[target_column])\n",
    "    \n",
    "       \n",
    "    # Drop the target column from the data\n",
    "    data_features = data.drop(columns=[target_column])\n",
    "\n",
    "    \n",
    "    #######################\n",
    "    \n",
    "    # Assuming data_features is your DataFrame and model is your trained model\n",
    "    \n",
    "    # Check if the model has the 'classes_' attribute\n",
    "    #if hasattr(model, 'classes_'):\n",
    "    #    print(\"Classes recognized by the model:\", model.classes_)\n",
    "    #else:\n",
    "    #    print(\"The model does not have a 'classes_' attribute.\")\n",
    "\n",
    "    # Select a few sample instances (e.g., first 5 instances)\n",
    "    sample_instances = data_features.iloc[:5]\n",
    "\n",
    "    # Use the model's predict method\n",
    "    predicted_output = model.predict(sample_instances)\n",
    "    \n",
    "    # Print the output\n",
    "    #print(\"Predicted Output (predicted_output):\", predicted_output)\n",
    "    \n",
    "    # Convert probabilities to binary predictions\n",
    "    y_pred = [1 if prob > 0.5 else 0 for prob in predicted_output]\n",
    "\n",
    "    # Print the output - use this to provide additional validation of model performance\n",
    "    print(\"Predicted Output (y_pred):\", y_pred)\n",
    "\n",
    "\n",
    "    #######################\n",
    "    \n",
    "    # Select a subset of the data for explanation (first 60 instances)\n",
    "    if limit > 0:\n",
    "        instances_to_explain = data_features.iloc[:limit, :]#25\n",
    "    else:\n",
    "        # Select all input feature for which to generate SHAP values\n",
    "        instances_to_explain = data_features\n",
    "    \n",
    "    # Create a SHAP explainer\n",
    "    explainer = shap.KernelExplainer(model.predict, shap.sample(data_features, 100)) #100\n",
    "    \n",
    "    # Generate SHAP values for the instances\n",
    "    with warnings.catch_warnings():\n",
    "        warnings.simplefilter('ignore')\n",
    "        # Any code that produces warnings goes here = placeholder\n",
    "        # Retrieve SHAP values - original focus on mean values\n",
    "        # shap_values = explainer.shap_values(instances_to_explain)\n",
    "        # Retrieve all SHAP values\n",
    "        shap_values_all = explainer.shap_values(instances_to_explain)\n",
    "        \n",
    "    # Debug: Print the structure of shap_values_all\n",
    "    #print(type(shap_values_all))\n",
    "    #if isinstance(shap_values_all, list):\n",
    "    #    print(\"Length of list:\", len(shap_values_all))\n",
    "    #else:\n",
    "    #    print(\"Content:\", shap_values_all)\n",
    "        \n",
    "    # Assuming shap_values_all is a list of length 2, where the second element is for the 'fraud' class\n",
    "    shap_values_fraud = shap_values_all[0]    \n",
    "        \n",
    "    \n",
    "    # Convert the SHAP values to a DataFrame\n",
    "    #if isinstance(shap_values, list):\n",
    "        # For multi-class models, average the SHAP values over all classes\n",
    "    #    shap_values = np.mean(shap_values, axis=0)\n",
    "    \n",
    "    # df_shap_values = pd.DataFrame(shap_values, columns=data_features.columns)\n",
    "    \n",
    "    # Convert the SHAP values for 'fraud' to a DataFrame\n",
    "    df_shap_values = pd.DataFrame(shap_values_fraud, columns=data_features.columns)\n",
    "    \n",
    "    \n",
    "    # Jan 6th - align index of instances df to the newly created shap values\n",
    "    # Reindex df1 to the index of df2\n",
    "    #df_instances_to_explain_reindexed = instances_to_explain.reindex(df_shap_values.index)\n",
    "    instances_to_explain = instances_to_explain.reset_index(drop=True)\n",
    "    df_shap_values = df_shap_values.reset_index(drop=True)\n",
    "\n",
    "\n",
    "\n",
    "    # Output the SHAP values to a csv file\n",
    "    df_shap_values.to_csv(output_shap_file, index=False)\n",
    "    \n",
    "    # Output the instances to a csv file\n",
    "    instances_to_explain.to_csv(output_instance_file, index=False)\n",
    "    \n",
    "    return instances_to_explain, df_shap_values"
   ]
  },
  {
   "cell_type": "markdown",
   "metadata": {},
   "source": [
    "# Generate XAI Metrics "
   ]
  },
  {
   "cell_type": "markdown",
   "metadata": {},
   "source": [
    "## Identity"
   ]
  },
  {
   "cell_type": "code",
   "execution_count": 27,
   "metadata": {},
   "outputs": [],
   "source": [
    "#from scipy.spatial import distance\n",
    "#SHAP_Identity_Metric = get_identity_metric(df_instances, df_shap_values, \"SHAP\")"
   ]
  },
  {
   "cell_type": "code",
   "execution_count": 28,
   "metadata": {},
   "outputs": [],
   "source": [
    "#SHAP_Identity_Number = \"{:.2f}%\".format(SHAP_Identity_Metric)\n",
    "#display_text(\"SHAP Identity Metric Score: \" + SHAP_Identity_Number)"
   ]
  },
  {
   "cell_type": "markdown",
   "metadata": {},
   "source": [
    "## Stability"
   ]
  },
  {
   "cell_type": "code",
   "execution_count": 29,
   "metadata": {},
   "outputs": [],
   "source": [
    "# Jan 6th - use loaded data\n",
    "#SHAP_Stability_Metric = get_stability_metric_y(df_shap_values, y_test_loaded, 'SHAP')"
   ]
  },
  {
   "cell_type": "code",
   "execution_count": 30,
   "metadata": {},
   "outputs": [],
   "source": [
    "#SHAP_Stability_Number = \"{:.2f}%\".format(SHAP_Stability_Metric)\n",
    "#display_text(\"SHAP Stability Metric Score: \" + SHAP_Stability_Number)"
   ]
  },
  {
   "cell_type": "markdown",
   "metadata": {
    "tags": []
   },
   "source": [
    "## Seperability"
   ]
  },
  {
   "cell_type": "code",
   "execution_count": 31,
   "metadata": {},
   "outputs": [],
   "source": [
    "#SHAP_Seperability_Metric = get_seperability_metric(df_instances, df_shap_values, \"SHAP\")"
   ]
  },
  {
   "cell_type": "code",
   "execution_count": 32,
   "metadata": {},
   "outputs": [],
   "source": [
    "#SHAP_Seperability_Number = \"{:.2f}%\".format(SHAP_Seperability_Metric)\n",
    "#display_text(\"SHAP Seperability Metric Score: \" + SHAP_Seperability_Number)"
   ]
  },
  {
   "cell_type": "markdown",
   "metadata": {},
   "source": [
    "## Similarity"
   ]
  },
  {
   "cell_type": "code",
   "execution_count": 33,
   "metadata": {},
   "outputs": [],
   "source": [
    "#SHAP_Similarity_Metric = get_similarity_metric(df_instances, df_shap_values, \"SHAP\", use_dbscan=False)"
   ]
  },
  {
   "cell_type": "code",
   "execution_count": 34,
   "metadata": {},
   "outputs": [],
   "source": [
    "#SHAP_Similarity_Number = \"{:6.2f}\".format(SHAP_Similarity_Metric)\n",
    "#display_text(\"SHAP Similarity Metric Value: \" + SHAP_Similarity_Number)"
   ]
  },
  {
   "cell_type": "markdown",
   "metadata": {},
   "source": [
    "# XAI Experiments - Metrics Capture"
   ]
  },
  {
   "cell_type": "markdown",
   "metadata": {},
   "source": [
    "## Suppress Warnings to clean up output"
   ]
  },
  {
   "cell_type": "code",
   "execution_count": 35,
   "metadata": {},
   "outputs": [],
   "source": [
    "import warnings\n",
    "warnings.simplefilter(action='ignore', category=Warning)"
   ]
  },
  {
   "cell_type": "markdown",
   "metadata": {},
   "source": [
    "## Break out Model Test Data into a list of dataframes"
   ]
  },
  {
   "cell_type": "markdown",
   "metadata": {},
   "source": [
    "### Create Test Data for Experiment Input"
   ]
  },
  {
   "cell_type": "markdown",
   "metadata": {},
   "source": [
    "Ensure 'X_test' and 'y_test' Are DataFrames with Proper Columns"
   ]
  },
  {
   "cell_type": "code",
   "execution_count": 36,
   "metadata": {},
   "outputs": [],
   "source": [
    "# Assuming 'X_test' is a numpy array and you have a list of the original column names\n",
    "original_feature_names = [col for col in df_downsampled_loaded.columns if col != 'Fraud']\n",
    "\n",
    "# Ensure X_test_loaded has the correct column names (if necessary)\n",
    "X_test_loaded.columns = original_feature_names"
   ]
  },
  {
   "cell_type": "code",
   "execution_count": 37,
   "metadata": {},
   "outputs": [],
   "source": [
    "# Combine X_test_loaded and y_test into a single DataFrame\n",
    "df_TestData = pd.concat([X_test_loaded, y_test_loaded], axis=1)"
   ]
  },
  {
   "cell_type": "markdown",
   "metadata": {},
   "source": [
    "### Split the DataFrame into 20 consecutive smaller DataFrames"
   ]
  },
  {
   "cell_type": "code",
   "execution_count": 38,
   "metadata": {},
   "outputs": [
    {
     "name": "stdout",
     "output_type": "stream",
     "text": [
      "Original DF Length: 1314\n",
      "Split Size: 65\n"
     ]
    }
   ],
   "source": [
    "# Split the DataFrame into 20 consecutive smaller DataFrames\n",
    "split_size, list_df = split_TestData_into_nn_Blocks(df_TestData, num_splits = 20)"
   ]
  },
  {
   "cell_type": "markdown",
   "metadata": {},
   "source": [
    "### Check Label Count for Stability Metrics"
   ]
  },
  {
   "cell_type": "code",
   "execution_count": 39,
   "metadata": {},
   "outputs": [
    {
     "name": "stdout",
     "output_type": "stream",
     "text": [
      "Breakdown of 'Fraud' and non-Fraud label records in df_TestData:\n",
      "0    664\n",
      "1    650\n",
      "Name: Fraud, dtype: int64\n"
     ]
    }
   ],
   "source": [
    "# Count the occurrence of each unique value in the 'Fraud' column\n",
    "fraud_counts = df_TestData['Fraud'].value_counts()\n",
    "\n",
    "# Display the counts\n",
    "print(\"Breakdown of 'Fraud' and non-Fraud label records in df_TestData:\")\n",
    "print(fraud_counts)"
   ]
  },
  {
   "cell_type": "markdown",
   "metadata": {},
   "source": [
    "### Add a routine to check output values"
   ]
  },
  {
   "cell_type": "code",
   "execution_count": 40,
   "metadata": {},
   "outputs": [
    {
     "data": {
      "text/html": [
       "<div>\n",
       "<style scoped>\n",
       "    .dataframe tbody tr th:only-of-type {\n",
       "        vertical-align: middle;\n",
       "    }\n",
       "\n",
       "    .dataframe tbody tr th {\n",
       "        vertical-align: top;\n",
       "    }\n",
       "\n",
       "    .dataframe thead th {\n",
       "        text-align: right;\n",
       "    }\n",
       "</style>\n",
       "<table border=\"1\" class=\"dataframe\">\n",
       "  <thead>\n",
       "    <tr style=\"text-align: right;\">\n",
       "      <th></th>\n",
       "      <th>OnlinePOSCount.cnt.day.present</th>\n",
       "      <th>EMVTransactionsCount.cnt.day.present</th>\n",
       "      <th>NonEMVTransactionsCount.cnt.day.present</th>\n",
       "      <th>MerchantCategory</th>\n",
       "      <th>POS_Count.cnt.day.present</th>\n",
       "      <th>PinIndicator</th>\n",
       "      <th>DomesticAuthCount.cnt.hour1</th>\n",
       "      <th>DomesticAuthCount.cnt.hour3</th>\n",
       "      <th>DomesticAuthCount.cnt.hour4</th>\n",
       "      <th>DomesticAuthCount.cnt.hour10</th>\n",
       "      <th>...</th>\n",
       "      <th>TxnChannelCode_POS</th>\n",
       "      <th>CustomerPresentIndicator_N</th>\n",
       "      <th>CustomerPresentIndicator_U</th>\n",
       "      <th>CustomerPresentIndicator_Y</th>\n",
       "      <th>DvcPosEntryMode_Card_Present</th>\n",
       "      <th>DvcPosEntryMode_E_Commerce</th>\n",
       "      <th>DvcPosEntryMode_U</th>\n",
       "      <th>ECommerceFlag_U</th>\n",
       "      <th>ECommerceFlag_Y</th>\n",
       "      <th>Fraud</th>\n",
       "    </tr>\n",
       "  </thead>\n",
       "  <tbody>\n",
       "    <tr>\n",
       "      <th>0</th>\n",
       "      <td>1</td>\n",
       "      <td>0</td>\n",
       "      <td>1</td>\n",
       "      <td>5541</td>\n",
       "      <td>1</td>\n",
       "      <td>0</td>\n",
       "      <td>1</td>\n",
       "      <td>1</td>\n",
       "      <td>1</td>\n",
       "      <td>1</td>\n",
       "      <td>...</td>\n",
       "      <td>1</td>\n",
       "      <td>0</td>\n",
       "      <td>0</td>\n",
       "      <td>1</td>\n",
       "      <td>1</td>\n",
       "      <td>0</td>\n",
       "      <td>0</td>\n",
       "      <td>1</td>\n",
       "      <td>0</td>\n",
       "      <td>1</td>\n",
       "    </tr>\n",
       "  </tbody>\n",
       "</table>\n",
       "<p>1 rows × 65 columns</p>\n",
       "</div>"
      ],
      "text/plain": [
       "   OnlinePOSCount.cnt.day.present  EMVTransactionsCount.cnt.day.present  \\\n",
       "0                               1                                     0   \n",
       "\n",
       "   NonEMVTransactionsCount.cnt.day.present  MerchantCategory  \\\n",
       "0                                        1              5541   \n",
       "\n",
       "   POS_Count.cnt.day.present  PinIndicator  DomesticAuthCount.cnt.hour1  \\\n",
       "0                          1             0                            1   \n",
       "\n",
       "   DomesticAuthCount.cnt.hour3  DomesticAuthCount.cnt.hour4  \\\n",
       "0                            1                            1   \n",
       "\n",
       "   DomesticAuthCount.cnt.hour10  ...  TxnChannelCode_POS  \\\n",
       "0                             1  ...                   1   \n",
       "\n",
       "   CustomerPresentIndicator_N  CustomerPresentIndicator_U  \\\n",
       "0                           0                           0   \n",
       "\n",
       "   CustomerPresentIndicator_Y  DvcPosEntryMode_Card_Present  \\\n",
       "0                           1                             1   \n",
       "\n",
       "   DvcPosEntryMode_E_Commerce  DvcPosEntryMode_U  ECommerceFlag_U  \\\n",
       "0                           0                  0                1   \n",
       "\n",
       "   ECommerceFlag_Y  Fraud  \n",
       "0                0      1  \n",
       "\n",
       "[1 rows x 65 columns]"
      ]
     },
     "metadata": {},
     "output_type": "display_data"
    }
   ],
   "source": [
    "# Display starting points in the first nn sub dataframes\n",
    "startBlockDisplay(df_TestData, split_size, 1)"
   ]
  },
  {
   "cell_type": "markdown",
   "metadata": {},
   "source": [
    "## Confirm Starting Point in External SHAP XAI XL File"
   ]
  },
  {
   "cell_type": "markdown",
   "metadata": {},
   "source": [
    "The code below acts so that for each dataframe in the list just created the following actions are carried out;\n",
    "\n",
    "Check if an XAI results XL spreadsheet called 'SHAP_XAI_Metrics_Experiments.xls' exists;\n",
    "\n",
    "If not create an empty XL spreadsheet with the name 'SHAP_XAI_Metrics_Experiments.xls', and then define a variable called ‘Sample’ with an integer value of 1 and print the value of 'Sample' to output.\n",
    "\n",
    "If and XL spreadsheet called 'SHAP_XAI_Metrics_Experiments.xls' does exist, then read the entries in the spreadsheet in the first column named ‘Sample Number’ and create a variable in this Python program named ‘Sample’ that is one integer value higher than the highest integer number column named ‘Sample Number’ in the XL, and print this value of 'Sample' to output."
   ]
  },
  {
   "cell_type": "code",
   "execution_count": 41,
   "metadata": {},
   "outputs": [],
   "source": [
    "# Create a sequential number as an identifier for each DataFrame\n",
    "list_df = {f'df_{i + 1}': list_df[i] for i in range(len(list_df))}"
   ]
  },
  {
   "cell_type": "code",
   "execution_count": 42,
   "metadata": {},
   "outputs": [],
   "source": [
    "# File path for the SHAP XAI metrics results spreadsheet\n",
    "SHAP_xai_file_path = 'SHAP_XAI_Metrics_Experiments.xlsx'  # Stored locally"
   ]
  },
  {
   "cell_type": "code",
   "execution_count": 43,
   "metadata": {},
   "outputs": [
    {
     "name": "stdout",
     "output_type": "stream",
     "text": [
      "Sample Number for current SHAP XAI DataFrame: 1\n"
     ]
    }
   ],
   "source": [
    "# Call Function to update or create the spreadsheet and determine the 'Sample' number\n",
    "# Process each dataframe in 'list_df'\n",
    "sample = return_next_sample_number_to_process(list_df, SHAP_xai_file_path, \"SHAP\")"
   ]
  },
  {
   "cell_type": "markdown",
   "metadata": {},
   "source": [
    "## Select Next Dataframe to Process"
   ]
  },
  {
   "cell_type": "markdown",
   "metadata": {},
   "source": [
    "---------------------------------\n",
    "\n",
    "\t\n",
    "Extend the Python code so that the code reads in the dataframe from 'list df' that corresponds to the integer value in the \n",
    "variable named ‘Sample’. \n",
    "\n",
    "Assign this dataframe the name 'df_Selected_from_List'.\n",
    "\n",
    "\n",
    "----------------------------------"
   ]
  },
  {
   "cell_type": "markdown",
   "metadata": {},
   "source": [
    "### Initialize Dataframe to Capture Re-start Point as None"
   ]
  },
  {
   "cell_type": "code",
   "execution_count": 44,
   "metadata": {},
   "outputs": [],
   "source": [
    "# Initialize df_Selected_from_List as None\n",
    "df_Selected_from_List = None"
   ]
  },
  {
   "cell_type": "markdown",
   "metadata": {},
   "source": [
    "### Extract test data block to restart XAI metrics process"
   ]
  },
  {
   "cell_type": "code",
   "execution_count": 45,
   "metadata": {},
   "outputs": [
    {
     "name": "stdout",
     "output_type": "stream",
     "text": [
      "DataFrame selected for Sample Number 1 witk key df_1\n"
     ]
    }
   ],
   "source": [
    "df_Selected_from_List, key = select_restart_testdata_block(df_Selected_from_List, \n",
    "                                                           list_df, \n",
    "                                                           SHAP_xai_file_path)"
   ]
  },
  {
   "cell_type": "code",
   "execution_count": 46,
   "metadata": {},
   "outputs": [],
   "source": [
    "# If no DataFrame is selected (e.g., if 'Sample' exceeds the number of DataFrames in list_df)\n",
    "if 'df_Selected_from_List' not in locals():\n",
    "    print(\"No DataFrame selected. The 'Sample' number may exceed the number of DataFrames in list_df.\")"
   ]
  },
  {
   "cell_type": "markdown",
   "metadata": {},
   "source": [
    "---------------------------"
   ]
  },
  {
   "cell_type": "markdown",
   "metadata": {},
   "source": [
    "## Generate XAI Metrics from Dataframe"
   ]
  },
  {
   "cell_type": "markdown",
   "metadata": {},
   "source": [
    "### Generate the SHAP Values for the Test Data Block"
   ]
  },
  {
   "cell_type": "code",
   "execution_count": 47,
   "metadata": {},
   "outputs": [],
   "source": [
    "#df_Selected_from_List.head(2)"
   ]
  },
  {
   "cell_type": "code",
   "execution_count": 48,
   "metadata": {},
   "outputs": [],
   "source": [
    "#print(df_Selected_from_List['Fraud'])"
   ]
  },
  {
   "cell_type": "markdown",
   "metadata": {},
   "source": [
    "#### Pre-Process Values for Data Block"
   ]
  },
  {
   "cell_type": "markdown",
   "metadata": {},
   "source": [
    "Scale the feature values"
   ]
  },
  {
   "cell_type": "code",
   "execution_count": 49,
   "metadata": {},
   "outputs": [],
   "source": [
    "# Scale the feature inputs so that they work with the SHAP generation processs\n",
    "df_Selected_Scaled_Data_from_List = scale_feature_inputs(df_Selected_from_List, \n",
    "                                                         original_feature_names)"
   ]
  },
  {
   "cell_type": "code",
   "execution_count": 50,
   "metadata": {},
   "outputs": [],
   "source": [
    "#df_Selected_from_List_nolabel = df_Selected_from_List[original_feature_names]"
   ]
  },
  {
   "cell_type": "code",
   "execution_count": 51,
   "metadata": {},
   "outputs": [],
   "source": [
    "#df_Selected_from_List_wlabel = df_Selected_from_List['Fraud']"
   ]
  },
  {
   "cell_type": "code",
   "execution_count": 52,
   "metadata": {},
   "outputs": [],
   "source": [
    "#df_Selected_from_List_wlabel"
   ]
  },
  {
   "cell_type": "code",
   "execution_count": 53,
   "metadata": {},
   "outputs": [],
   "source": [
    "#print(df_Selected_from_List_nolabel)"
   ]
  },
  {
   "cell_type": "code",
   "execution_count": 54,
   "metadata": {},
   "outputs": [],
   "source": [
    "#scaler = StandardScaler()   \n",
    "#df_Selected_from_List_scaled = scaler.fit_transform(df_Selected_from_List_nolabel)"
   ]
  },
  {
   "cell_type": "code",
   "execution_count": 55,
   "metadata": {},
   "outputs": [],
   "source": [
    "#print(df_Selected_from_List_scaled)"
   ]
  },
  {
   "cell_type": "code",
   "execution_count": 56,
   "metadata": {},
   "outputs": [],
   "source": [
    "#print(df_Selected_from_List_scaled.index)"
   ]
  },
  {
   "cell_type": "code",
   "execution_count": 57,
   "metadata": {},
   "outputs": [],
   "source": [
    "#df_Selected_from_List_wlabel"
   ]
  },
  {
   "cell_type": "code",
   "execution_count": 58,
   "metadata": {},
   "outputs": [],
   "source": [
    "#df_Selected_from_List_wlabel = df_Selected_from_List_wlabel.reset_index(drop=True)"
   ]
  },
  {
   "cell_type": "code",
   "execution_count": 59,
   "metadata": {},
   "outputs": [],
   "source": [
    "#df_Selected_from_List_wlabel"
   ]
  },
  {
   "cell_type": "code",
   "execution_count": 60,
   "metadata": {},
   "outputs": [],
   "source": [
    "#print(df_Selected_from_List.index)"
   ]
  },
  {
   "cell_type": "code",
   "execution_count": 61,
   "metadata": {},
   "outputs": [],
   "source": [
    "#print(df_Selected_from_List['Fraud'])"
   ]
  },
  {
   "cell_type": "code",
   "execution_count": 62,
   "metadata": {},
   "outputs": [],
   "source": [
    "# Convert NumPy array to DataFrame\n",
    "#df_Selected_from_List_scaled = pd.DataFrame(df_Selected_from_List_scaled, columns=original_feature_names)"
   ]
  },
  {
   "cell_type": "code",
   "execution_count": 63,
   "metadata": {},
   "outputs": [],
   "source": [
    "# Combine scaled data chunk data with label\n",
    "#df_Selected_Scaled_Data_from_List2 = pd.concat([df_Selected_from_List_scaled, df_Selected_from_List_wlabel], axis=1)"
   ]
  },
  {
   "cell_type": "code",
   "execution_count": 64,
   "metadata": {},
   "outputs": [],
   "source": [
    "#print('df_Selected_Scaled_Data_from_List: ')"
   ]
  },
  {
   "cell_type": "code",
   "execution_count": 65,
   "metadata": {},
   "outputs": [],
   "source": [
    "#print(df_Selected_Scaled_Data_from_List)"
   ]
  },
  {
   "cell_type": "code",
   "execution_count": 66,
   "metadata": {},
   "outputs": [],
   "source": [
    "#print(df_Selected_from_List)"
   ]
  },
  {
   "cell_type": "markdown",
   "metadata": {},
   "source": [
    "Extract the label values from the data block"
   ]
  },
  {
   "cell_type": "code",
   "execution_count": 67,
   "metadata": {},
   "outputs": [],
   "source": [
    "y_test_block_labels_df = df_Selected_Scaled_Data_from_List['Fraud']"
   ]
  },
  {
   "cell_type": "code",
   "execution_count": 68,
   "metadata": {},
   "outputs": [
    {
     "data": {
      "text/plain": [
       "(65,)"
      ]
     },
     "execution_count": 68,
     "metadata": {},
     "output_type": "execute_result"
    }
   ],
   "source": [
    "y_test_block_labels_df.shape"
   ]
  },
  {
   "cell_type": "code",
   "execution_count": 69,
   "metadata": {},
   "outputs": [
    {
     "data": {
      "text/plain": [
       "RangeIndex(start=0, stop=65, step=1)"
      ]
     },
     "execution_count": 69,
     "metadata": {},
     "output_type": "execute_result"
    }
   ],
   "source": [
    "y_test_block_labels_df.index"
   ]
  },
  {
   "cell_type": "code",
   "execution_count": 70,
   "metadata": {},
   "outputs": [
    {
     "name": "stdout",
     "output_type": "stream",
     "text": [
      "y_test_block_labels_df\n",
      "0     1\n",
      "1     1\n",
      "2     0\n",
      "3     1\n",
      "4     0\n",
      "     ..\n",
      "60    1\n",
      "61    1\n",
      "62    1\n",
      "63    0\n",
      "64    0\n",
      "Name: Fraud, Length: 65, dtype: int64\n"
     ]
    }
   ],
   "source": [
    "print('y_test_block_labels_df')\n",
    "print(y_test_block_labels_df)"
   ]
  },
  {
   "cell_type": "code",
   "execution_count": 71,
   "metadata": {},
   "outputs": [
    {
     "data": {
      "text/plain": [
       "0    1\n",
       "1    1\n",
       "Name: Fraud, dtype: int64"
      ]
     },
     "execution_count": 71,
     "metadata": {},
     "output_type": "execute_result"
    }
   ],
   "source": [
    "y_test_block_labels_df.head(2)"
   ]
  },
  {
   "cell_type": "code",
   "execution_count": 72,
   "metadata": {},
   "outputs": [
    {
     "name": "stdout",
     "output_type": "stream",
     "text": [
      "df_Selected_Scaled_Data_from_List - Fraud\n",
      "0     1\n",
      "1     1\n",
      "2     0\n",
      "3     1\n",
      "4     0\n",
      "     ..\n",
      "60    1\n",
      "61    1\n",
      "62    1\n",
      "63    0\n",
      "64    0\n",
      "Name: Fraud, Length: 65, dtype: int64\n"
     ]
    }
   ],
   "source": [
    "print('df_Selected_Scaled_Data_from_List - Fraud')\n",
    "print(df_Selected_Scaled_Data_from_List['Fraud'])"
   ]
  },
  {
   "cell_type": "code",
   "execution_count": 73,
   "metadata": {},
   "outputs": [],
   "source": [
    "#print('df_Selected_Scaled_Data_from_List - Fraud')\n",
    "#print(df_Selected_Scaled_Data_from_List2['Fraud'])"
   ]
  },
  {
   "cell_type": "code",
   "execution_count": 74,
   "metadata": {},
   "outputs": [
    {
     "name": "stdout",
     "output_type": "stream",
     "text": [
      "df_Selected_from_List - Fraud\n",
      "0     1\n",
      "1     1\n",
      "2     0\n",
      "3     1\n",
      "4     0\n",
      "     ..\n",
      "60    1\n",
      "61    1\n",
      "62    1\n",
      "63    0\n",
      "64    0\n",
      "Name: Fraud, Length: 65, dtype: int64\n"
     ]
    }
   ],
   "source": [
    "print('df_Selected_from_List - Fraud')\n",
    "print(df_Selected_from_List['Fraud'])"
   ]
  },
  {
   "cell_type": "markdown",
   "metadata": {},
   "source": [
    "#### Get SHAP Values for Data Block"
   ]
  },
  {
   "cell_type": "code",
   "execution_count": 75,
   "metadata": {},
   "outputs": [],
   "source": [
    "# Jan 6th - use loaded data\n",
    "#results_SHAP, exec_time_SHAP = generate_shap_explanations(loaded_model, df_Selected_Scaled_Data_from_List)"
   ]
  },
  {
   "cell_type": "code",
   "execution_count": 76,
   "metadata": {},
   "outputs": [],
   "source": [
    "# Jan 6th - use loaded data\n",
    "#results_SHAP2, exec_time_SHAP2 = generate_shap_explanations(loaded_model, df_Selected_Scaled_Data_from_List2)"
   ]
  },
  {
   "cell_type": "code",
   "execution_count": 77,
   "metadata": {},
   "outputs": [],
   "source": [
    "# Jan 6th - use loaded data\n",
    "#results_SHAP3, exec_time_SHAP3 = generate_shap_explanations(loaded_model, df_Selected_from_List)"
   ]
  },
  {
   "cell_type": "markdown",
   "metadata": {},
   "source": [
    "Set limit value (for debugging)"
   ]
  },
  {
   "cell_type": "code",
   "execution_count": 78,
   "metadata": {},
   "outputs": [],
   "source": [
    "# A 'zero' limit value will process the entire data block\n",
    "limit_data_block_rows = 0"
   ]
  },
  {
   "cell_type": "code",
   "execution_count": 79,
   "metadata": {},
   "outputs": [
    {
     "name": "stdout",
     "output_type": "stream",
     "text": [
      "data[Fraud] :\n",
      "0     1\n",
      "1     1\n",
      "2     0\n",
      "3     1\n",
      "4     0\n",
      "     ..\n",
      "60    1\n",
      "61    1\n",
      "62    1\n",
      "63    0\n",
      "64    0\n",
      "Name: Fraud, Length: 65, dtype: int64\n",
      "1/1 [==============================] - 0s 48ms/step\n",
      "Predicted Output (y_pred): [0, 1, 0, 1, 0]\n",
      "3/3 [==============================] - 0s 2ms/step\n"
     ]
    },
    {
     "data": {
      "application/json": {
       "ascii": false,
       "bar_format": null,
       "colour": null,
       "elapsed": 0.005711078643798828,
       "initial": 0,
       "n": 0,
       "ncols": null,
       "nrows": null,
       "postfix": null,
       "prefix": "",
       "rate": null,
       "total": 65,
       "unit": "it",
       "unit_divisor": 1000,
       "unit_scale": false
      },
      "application/vnd.jupyter.widget-view+json": {
       "model_id": "45dc670239cd4861a76e2de7b846dcde",
       "version_major": 2,
       "version_minor": 0
      },
      "text/plain": [
       "  0%|          | 0/65 [00:00<?, ?it/s]"
      ]
     },
     "metadata": {},
     "output_type": "display_data"
    },
    {
     "name": "stdout",
     "output_type": "stream",
     "text": [
      "1/1 [==============================] - 0s 18ms/step\n",
      "4420/4420 [==============================] - 4s 898us/step\n",
      "1/1 [==============================] - 0s 22ms/step\n",
      "4420/4420 [==============================] - 4s 916us/step\n",
      "1/1 [==============================] - 0s 19ms/step\n",
      "4420/4420 [==============================] - 4s 919us/step\n",
      "1/1 [==============================] - 0s 19ms/step\n",
      "4420/4420 [==============================] - 4s 929us/step\n",
      "1/1 [==============================] - 0s 18ms/step\n",
      "4420/4420 [==============================] - 4s 974us/step\n",
      "1/1 [==============================] - 0s 22ms/step\n",
      "4420/4420 [==============================] - 4s 899us/step\n",
      "1/1 [==============================] - 0s 19ms/step\n",
      "4420/4420 [==============================] - 4s 904us/step\n",
      "1/1 [==============================] - 0s 19ms/step\n",
      "4420/4420 [==============================] - 4s 907us/step\n",
      "1/1 [==============================] - 0s 19ms/step\n",
      "4420/4420 [==============================] - 4s 912us/step\n",
      "1/1 [==============================] - 0s 18ms/step\n",
      "4420/4420 [==============================] - 4s 902us/step\n",
      "1/1 [==============================] - 0s 18ms/step\n",
      "4420/4420 [==============================] - 4s 899us/step\n",
      "1/1 [==============================] - 0s 20ms/step\n",
      "4420/4420 [==============================] - 4s 906us/step\n",
      "1/1 [==============================] - 0s 19ms/step\n",
      "4420/4420 [==============================] - 4s 932us/step\n",
      "1/1 [==============================] - 0s 19ms/step\n",
      "4420/4420 [==============================] - 4s 935us/step\n",
      "1/1 [==============================] - 0s 19ms/step\n",
      "4420/4420 [==============================] - 4s 910us/step\n",
      "1/1 [==============================] - 0s 19ms/step\n",
      "4420/4420 [==============================] - 4s 907us/step\n",
      "1/1 [==============================] - 0s 20ms/step\n",
      "4420/4420 [==============================] - 4s 905us/step\n",
      "1/1 [==============================] - 0s 18ms/step\n",
      "4420/4420 [==============================] - 4s 907us/step\n",
      "1/1 [==============================] - 0s 22ms/step\n",
      "4420/4420 [==============================] - 4s 922us/step\n",
      "1/1 [==============================] - 0s 20ms/step\n",
      "4420/4420 [==============================] - 4s 914us/step\n",
      "1/1 [==============================] - 0s 19ms/step\n",
      "4420/4420 [==============================] - 4s 908us/step\n",
      "1/1 [==============================] - 0s 19ms/step\n",
      "4420/4420 [==============================] - 4s 913us/step\n",
      "1/1 [==============================] - 0s 19ms/step\n",
      "4420/4420 [==============================] - 4s 913us/step\n",
      "1/1 [==============================] - 0s 18ms/step\n",
      "4420/4420 [==============================] - 4s 916us/step\n",
      "1/1 [==============================] - 0s 19ms/step\n",
      "4420/4420 [==============================] - 4s 911us/step\n",
      "1/1 [==============================] - 0s 18ms/step\n",
      "4420/4420 [==============================] - 4s 908us/step\n",
      "1/1 [==============================] - 0s 18ms/step\n",
      "4420/4420 [==============================] - 4s 898us/step\n",
      "1/1 [==============================] - 0s 18ms/step\n",
      "4420/4420 [==============================] - 4s 900us/step\n",
      "1/1 [==============================] - 0s 18ms/step\n",
      "4420/4420 [==============================] - 4s 894us/step\n",
      "1/1 [==============================] - 0s 18ms/step\n",
      "4420/4420 [==============================] - 4s 919us/step\n",
      "1/1 [==============================] - 0s 18ms/step\n",
      "4420/4420 [==============================] - 4s 904us/step\n",
      "1/1 [==============================] - 0s 19ms/step\n",
      "4420/4420 [==============================] - 4s 896us/step\n",
      "1/1 [==============================] - 0s 20ms/step\n",
      "4420/4420 [==============================] - 4s 916us/step\n",
      "1/1 [==============================] - 0s 19ms/step\n",
      "4420/4420 [==============================] - 4s 903us/step\n",
      "1/1 [==============================] - 0s 21ms/step\n",
      "4420/4420 [==============================] - 4s 917us/step\n",
      "1/1 [==============================] - 0s 19ms/step\n",
      "4420/4420 [==============================] - 4s 933us/step\n",
      "1/1 [==============================] - 0s 19ms/step\n",
      "4420/4420 [==============================] - 4s 920us/step\n",
      "1/1 [==============================] - 0s 18ms/step\n",
      "4420/4420 [==============================] - 4s 912us/step\n",
      "1/1 [==============================] - 0s 19ms/step\n",
      "4420/4420 [==============================] - 4s 919us/step\n",
      "1/1 [==============================] - 0s 18ms/step\n",
      "4420/4420 [==============================] - 4s 913us/step\n",
      "1/1 [==============================] - 0s 19ms/step\n",
      "4420/4420 [==============================] - 4s 913us/step\n",
      "1/1 [==============================] - 0s 18ms/step\n",
      "4420/4420 [==============================] - 4s 905us/step\n",
      "1/1 [==============================] - 0s 18ms/step\n",
      "4420/4420 [==============================] - 4s 911us/step\n",
      "1/1 [==============================] - 0s 25ms/step\n",
      "4420/4420 [==============================] - 4s 904us/step\n",
      "1/1 [==============================] - 0s 19ms/step\n",
      "4420/4420 [==============================] - 4s 913us/step\n",
      "1/1 [==============================] - 0s 18ms/step\n",
      "4420/4420 [==============================] - 4s 946us/step\n",
      "1/1 [==============================] - 0s 19ms/step\n",
      "4420/4420 [==============================] - 4s 934us/step\n",
      "1/1 [==============================] - 0s 19ms/step\n",
      "4420/4420 [==============================] - 4s 910us/step\n",
      "1/1 [==============================] - 0s 18ms/step\n",
      "4420/4420 [==============================] - 4s 911us/step\n",
      "1/1 [==============================] - 0s 18ms/step\n",
      "4420/4420 [==============================] - 4s 926us/step\n",
      "1/1 [==============================] - 0s 18ms/step\n",
      "4420/4420 [==============================] - 4s 918us/step\n",
      "1/1 [==============================] - 0s 19ms/step\n",
      "4420/4420 [==============================] - 4s 942us/step\n",
      "1/1 [==============================] - 0s 19ms/step\n",
      "4420/4420 [==============================] - 4s 911us/step\n",
      "1/1 [==============================] - 0s 18ms/step\n",
      "4420/4420 [==============================] - 4s 906us/step\n",
      "1/1 [==============================] - 0s 18ms/step\n",
      "4420/4420 [==============================] - 4s 911us/step\n",
      "1/1 [==============================] - 0s 18ms/step\n",
      "4420/4420 [==============================] - 4s 899us/step\n",
      "1/1 [==============================] - 0s 18ms/step\n",
      "4420/4420 [==============================] - 4s 903us/step\n",
      "1/1 [==============================] - 0s 18ms/step\n",
      "4420/4420 [==============================] - 4s 922us/step\n",
      "1/1 [==============================] - 0s 19ms/step\n",
      "4420/4420 [==============================] - 4s 943us/step\n",
      "1/1 [==============================] - 0s 19ms/step\n",
      "4420/4420 [==============================] - 4s 982us/step\n",
      "1/1 [==============================] - 0s 21ms/step\n",
      "4420/4420 [==============================] - 4s 917us/step\n",
      "1/1 [==============================] - 0s 20ms/step\n",
      "4420/4420 [==============================] - 4s 911us/step\n",
      "1/1 [==============================] - 0s 19ms/step\n",
      "4420/4420 [==============================] - 4s 907us/step\n",
      "1/1 [==============================] - 0s 23ms/step\n",
      "4420/4420 [==============================] - 4s 908us/step\n",
      "1/1 [==============================] - 0s 18ms/step\n",
      "4420/4420 [==============================] - 4s 918us/step\n",
      "Function 'generate_shap_explanations' executed in 387.1347 seconds\n"
     ]
    }
   ],
   "source": [
    "# Use loaded data - partial data blocl\n",
    "results_SHAP, exec_time_SHAP = generate_shap_explanations(loaded_model, \n",
    "                                                          df_Selected_Scaled_Data_from_List, \n",
    "                                                          limit_data_block_rows)"
   ]
  },
  {
   "cell_type": "code",
   "execution_count": 80,
   "metadata": {},
   "outputs": [],
   "source": [
    "# Use loaded data - full data blocl\n",
    "# results_SHAP, exec_time_SHAP = generate_shap_explanations(loaded_model, df_Selected_Scaled_Data_from_List)"
   ]
  },
  {
   "cell_type": "code",
   "execution_count": 81,
   "metadata": {},
   "outputs": [],
   "source": [
    "# Unpack the results to get df_instances_SHAP and df_shap_values\n",
    "df_instances_SHAP, df_shap_values = results_SHAP"
   ]
  },
  {
   "cell_type": "markdown",
   "metadata": {},
   "source": [
    "---------------------------"
   ]
  },
  {
   "cell_type": "markdown",
   "metadata": {},
   "source": [
    "### Generate Identity Metric"
   ]
  },
  {
   "cell_type": "markdown",
   "metadata": {},
   "source": [
    "#### Run a Basic Test First"
   ]
  },
  {
   "cell_type": "code",
   "execution_count": 82,
   "metadata": {},
   "outputs": [
    {
     "name": "stdout",
     "output_type": "stream",
     "text": [
      "\n",
      "Calculating Euclidean distance...\n",
      "\n",
      "\n",
      "Euclidean distance between instance 30 and instance 25: 0.1758\n"
     ]
    }
   ],
   "source": [
    "# Select two random instances from the SHAP value dataframe\n",
    "df_xai_numerical = df_shap_values\n",
    "\n",
    "random_indices = np.random.choice(df_xai_numerical.index, size=2, replace=False)\n",
    "instance_1 = df_xai_numerical.iloc[random_indices[0]]\n",
    "instance_2 = df_xai_numerical.iloc[random_indices[1]]\n",
    "\n",
    "# Compute the Euclidean distance between the selected instances - uses custom project function\n",
    "distance = get_euclidean_distance(instance_1, instance_2)\n",
    "print(f\"Euclidean distance between instance {random_indices[0]} and instance {random_indices[1]}: {distance:.4f}\")"
   ]
  },
  {
   "cell_type": "markdown",
   "metadata": {},
   "source": [
    "#### Retrieve Identity Score"
   ]
  },
  {
   "cell_type": "code",
   "execution_count": 83,
   "metadata": {},
   "outputs": [],
   "source": [
    "#df_instances_SHAP.head(2)"
   ]
  },
  {
   "cell_type": "code",
   "execution_count": 84,
   "metadata": {},
   "outputs": [
    {
     "name": "stdout",
     "output_type": "stream",
     "text": [
      "RangeIndex(start=0, stop=65, step=1)\n"
     ]
    }
   ],
   "source": [
    "print(df_instances_SHAP.index)"
   ]
  },
  {
   "cell_type": "code",
   "execution_count": 85,
   "metadata": {},
   "outputs": [],
   "source": [
    "#df_shap_values.head(2)"
   ]
  },
  {
   "cell_type": "code",
   "execution_count": 86,
   "metadata": {},
   "outputs": [
    {
     "name": "stdout",
     "output_type": "stream",
     "text": [
      "RangeIndex(start=0, stop=65, step=1)\n"
     ]
    }
   ],
   "source": [
    "print(df_shap_values.index)"
   ]
  },
  {
   "cell_type": "code",
   "execution_count": 87,
   "metadata": {},
   "outputs": [],
   "source": [
    "#print('df_instances_SHAP...')\n",
    "#print(df_instances_SHAP)"
   ]
  },
  {
   "cell_type": "code",
   "execution_count": 88,
   "metadata": {},
   "outputs": [],
   "source": [
    "#print('df_shap_values...')\n",
    "#print(df_shap_values)"
   ]
  },
  {
   "cell_type": "code",
   "execution_count": 89,
   "metadata": {},
   "outputs": [
    {
     "name": "stdout",
     "output_type": "stream",
     "text": [
      "Instance 0:   Current matches: 0\n",
      "\tClosest feature instance: 59 (Distance: 5.9319)\n",
      "\tClosest SHAP instance: {closest_xai_idx} (Distance: {xai_distances[closest_xai_idx]:.4f})\n",
      "Instance 1:   Current matches: 0\n",
      "\tClosest feature instance: 7 (Distance: 1.1317)\n",
      "\tClosest SHAP instance: {closest_xai_idx} (Distance: {xai_distances[closest_xai_idx]:.4f})\n",
      "Instance 2:   Current matches: 1\n",
      "\tClosest feature instance: 37 (Distance: 3.2491)\n",
      "\tClosest SHAP instance: {closest_xai_idx} (Distance: {xai_distances[closest_xai_idx]:.4f})\n",
      "Instance 3:   Current matches: 1\n",
      "\tClosest feature instance: 50 (Distance: 9.1439)\n",
      "\tClosest SHAP instance: {closest_xai_idx} (Distance: {xai_distances[closest_xai_idx]:.4f})\n",
      "Instance 4:   Current matches: 2\n",
      "\tClosest feature instance: 30 (Distance: 7.1036)\n",
      "\tClosest SHAP instance: {closest_xai_idx} (Distance: {xai_distances[closest_xai_idx]:.4f})\n",
      "Instance 5:   Current matches: 2\n",
      "\tClosest feature instance: 46 (Distance: 2.3300)\n",
      "\tClosest SHAP instance: {closest_xai_idx} (Distance: {xai_distances[closest_xai_idx]:.4f})\n",
      "Instance 6:   Current matches: 2\n",
      "\tClosest feature instance: 15 (Distance: 0.7009)\n",
      "\tClosest SHAP instance: {closest_xai_idx} (Distance: {xai_distances[closest_xai_idx]:.4f})\n",
      "Instance 7:   Current matches: 3\n",
      "\tClosest feature instance: 1 (Distance: 1.1317)\n",
      "\tClosest SHAP instance: {closest_xai_idx} (Distance: {xai_distances[closest_xai_idx]:.4f})\n",
      "Instance 8:   Current matches: 4\n",
      "\tClosest feature instance: 44 (Distance: 1.8720)\n",
      "\tClosest SHAP instance: {closest_xai_idx} (Distance: {xai_distances[closest_xai_idx]:.4f})\n",
      "Instance 9:   Current matches: 4\n",
      "\tClosest feature instance: 44 (Distance: 2.9127)\n",
      "\tClosest SHAP instance: {closest_xai_idx} (Distance: {xai_distances[closest_xai_idx]:.4f})\n",
      "Instance 10:   Current matches: 4\n",
      "\tClosest feature instance: 20 (Distance: 7.7258)\n",
      "\tClosest SHAP instance: {closest_xai_idx} (Distance: {xai_distances[closest_xai_idx]:.4f})\n",
      "Instance 11:   Current matches: 4\n",
      "\tClosest feature instance: 27 (Distance: 4.4902)\n",
      "\tClosest SHAP instance: {closest_xai_idx} (Distance: {xai_distances[closest_xai_idx]:.4f})\n",
      "Instance 12:   Current matches: 4\n",
      "\tClosest feature instance: 62 (Distance: 10.0372)\n",
      "\tClosest SHAP instance: {closest_xai_idx} (Distance: {xai_distances[closest_xai_idx]:.4f})\n",
      "Instance 13:   Current matches: 4\n",
      "\tClosest feature instance: 61 (Distance: 3.4669)\n",
      "\tClosest SHAP instance: {closest_xai_idx} (Distance: {xai_distances[closest_xai_idx]:.4f})\n",
      "Instance 14:   Current matches: 4\n",
      "\tClosest feature instance: 59 (Distance: 2.2438)\n",
      "\tClosest SHAP instance: {closest_xai_idx} (Distance: {xai_distances[closest_xai_idx]:.4f})\n",
      "Instance 15:   Current matches: 5\n",
      "\tClosest feature instance: 31 (Distance: 0.1766)\n",
      "\tClosest SHAP instance: {closest_xai_idx} (Distance: {xai_distances[closest_xai_idx]:.4f})\n",
      "Instance 16:   Current matches: 5\n",
      "\tClosest feature instance: 52 (Distance: 5.9674)\n",
      "\tClosest SHAP instance: {closest_xai_idx} (Distance: {xai_distances[closest_xai_idx]:.4f})\n",
      "Instance 17:   Current matches: 5\n",
      "\tClosest feature instance: 15 (Distance: 1.6032)\n",
      "\tClosest SHAP instance: {closest_xai_idx} (Distance: {xai_distances[closest_xai_idx]:.4f})\n",
      "Instance 18:   Current matches: 6\n",
      "\tClosest feature instance: 5 (Distance: 4.0460)\n",
      "\tClosest SHAP instance: {closest_xai_idx} (Distance: {xai_distances[closest_xai_idx]:.4f})\n",
      "Instance 19:   Current matches: 7\n",
      "\tClosest feature instance: 59 (Distance: 2.5419)\n",
      "\tClosest SHAP instance: {closest_xai_idx} (Distance: {xai_distances[closest_xai_idx]:.4f})\n",
      "Instance 20:   Current matches: 8\n",
      "\tClosest feature instance: 43 (Distance: 2.7268)\n",
      "\tClosest SHAP instance: {closest_xai_idx} (Distance: {xai_distances[closest_xai_idx]:.4f})\n",
      "Instance 21:   Current matches: 9\n",
      "\tClosest feature instance: 5 (Distance: 4.2990)\n",
      "\tClosest SHAP instance: {closest_xai_idx} (Distance: {xai_distances[closest_xai_idx]:.4f})\n",
      "Instance 22:   Current matches: 9\n",
      "\tClosest feature instance: 43 (Distance: 4.8663)\n",
      "\tClosest SHAP instance: {closest_xai_idx} (Distance: {xai_distances[closest_xai_idx]:.4f})\n",
      "Instance 23:   Current matches: 10\n",
      "\tClosest feature instance: 14 (Distance: 2.4738)\n",
      "\tClosest SHAP instance: {closest_xai_idx} (Distance: {xai_distances[closest_xai_idx]:.4f})\n",
      "Instance 24:   Current matches: 10\n",
      "\tClosest feature instance: 14 (Distance: 5.3325)\n",
      "\tClosest SHAP instance: {closest_xai_idx} (Distance: {xai_distances[closest_xai_idx]:.4f})\n",
      "Instance 25:   Current matches: 11\n",
      "\tClosest feature instance: 56 (Distance: 3.9043)\n",
      "\tClosest SHAP instance: {closest_xai_idx} (Distance: {xai_distances[closest_xai_idx]:.4f})\n",
      "Instance 26:   Current matches: 12\n",
      "\tClosest feature instance: 40 (Distance: 1.3460)\n",
      "\tClosest SHAP instance: {closest_xai_idx} (Distance: {xai_distances[closest_xai_idx]:.4f})\n",
      "Instance 27:   Current matches: 13\n",
      "\tClosest feature instance: 17 (Distance: 2.1511)\n",
      "\tClosest SHAP instance: {closest_xai_idx} (Distance: {xai_distances[closest_xai_idx]:.4f})\n",
      "Instance 28:   Current matches: 13\n",
      "\tClosest feature instance: 20 (Distance: 6.7767)\n",
      "\tClosest SHAP instance: {closest_xai_idx} (Distance: {xai_distances[closest_xai_idx]:.4f})\n",
      "Instance 29:   Current matches: 13\n",
      "\tClosest feature instance: 57 (Distance: 2.0849)\n",
      "\tClosest SHAP instance: {closest_xai_idx} (Distance: {xai_distances[closest_xai_idx]:.4f})\n",
      "Instance 30:   Current matches: 14\n",
      "\tClosest feature instance: 14 (Distance: 5.0524)\n",
      "\tClosest SHAP instance: {closest_xai_idx} (Distance: {xai_distances[closest_xai_idx]:.4f})\n",
      "Instance 31:   Current matches: 15\n",
      "\tClosest feature instance: 15 (Distance: 0.1766)\n",
      "\tClosest SHAP instance: {closest_xai_idx} (Distance: {xai_distances[closest_xai_idx]:.4f})\n",
      "Instance 32:   Current matches: 15\n",
      "\tClosest feature instance: 35 (Distance: 8.1909)\n",
      "\tClosest SHAP instance: {closest_xai_idx} (Distance: {xai_distances[closest_xai_idx]:.4f})\n",
      "Instance 33:   Current matches: 15\n",
      "\tClosest feature instance: 62 (Distance: 3.9476)\n",
      "\tClosest SHAP instance: {closest_xai_idx} (Distance: {xai_distances[closest_xai_idx]:.4f})\n",
      "Instance 34:   Current matches: 15\n",
      "\tClosest feature instance: 63 (Distance: 3.4497)\n",
      "\tClosest SHAP instance: {closest_xai_idx} (Distance: {xai_distances[closest_xai_idx]:.4f})\n",
      "Instance 35:   Current matches: 15\n",
      "\tClosest feature instance: 19 (Distance: 4.4060)\n",
      "\tClosest SHAP instance: {closest_xai_idx} (Distance: {xai_distances[closest_xai_idx]:.4f})\n",
      "Instance 36:   Current matches: 15\n",
      "\tClosest feature instance: 24 (Distance: 8.6616)\n",
      "\tClosest SHAP instance: {closest_xai_idx} (Distance: {xai_distances[closest_xai_idx]:.4f})\n",
      "Instance 37:   Current matches: 16\n",
      "\tClosest feature instance: 26 (Distance: 1.7752)\n",
      "\tClosest SHAP instance: {closest_xai_idx} (Distance: {xai_distances[closest_xai_idx]:.4f})\n",
      "Instance 38:   Current matches: 16\n",
      "\tClosest feature instance: 7 (Distance: 3.5873)\n",
      "\tClosest SHAP instance: {closest_xai_idx} (Distance: {xai_distances[closest_xai_idx]:.4f})\n",
      "Instance 39:   Current matches: 16\n",
      "\tClosest feature instance: 8 (Distance: 8.4483)\n",
      "\tClosest SHAP instance: {closest_xai_idx} (Distance: {xai_distances[closest_xai_idx]:.4f})\n",
      "Instance 40:   Current matches: 16\n",
      "\tClosest feature instance: 51 (Distance: 1.1943)\n",
      "\tClosest SHAP instance: {closest_xai_idx} (Distance: {xai_distances[closest_xai_idx]:.4f})\n",
      "Instance 41:   Current matches: 16\n",
      "\tClosest feature instance: 45 (Distance: 3.2358)\n",
      "\tClosest SHAP instance: {closest_xai_idx} (Distance: {xai_distances[closest_xai_idx]:.4f})\n",
      "Instance 42:   Current matches: 17\n",
      "\tClosest feature instance: 47 (Distance: 11.7986)\n",
      "\tClosest SHAP instance: {closest_xai_idx} (Distance: {xai_distances[closest_xai_idx]:.4f})\n",
      "Instance 43:   Current matches: 17\n",
      "\tClosest feature instance: 20 (Distance: 2.7268)\n",
      "\tClosest SHAP instance: {closest_xai_idx} (Distance: {xai_distances[closest_xai_idx]:.4f})\n",
      "Instance 44:   Current matches: 18\n",
      "\tClosest feature instance: 8 (Distance: 1.8720)\n",
      "\tClosest SHAP instance: {closest_xai_idx} (Distance: {xai_distances[closest_xai_idx]:.4f})\n",
      "Instance 45:   Current matches: 18\n",
      "\tClosest feature instance: 9 (Distance: 2.9816)\n",
      "\tClosest SHAP instance: {closest_xai_idx} (Distance: {xai_distances[closest_xai_idx]:.4f})\n",
      "Instance 46:   Current matches: 18\n",
      "\tClosest feature instance: 51 (Distance: 2.1486)\n",
      "\tClosest SHAP instance: {closest_xai_idx} (Distance: {xai_distances[closest_xai_idx]:.4f})\n",
      "Instance 47:   Current matches: 18\n",
      "\tClosest feature instance: 42 (Distance: 11.7986)\n",
      "\tClosest SHAP instance: {closest_xai_idx} (Distance: {xai_distances[closest_xai_idx]:.4f})\n",
      "Instance 48:   Current matches: 18\n",
      "\tClosest feature instance: 7 (Distance: 5.1152)\n",
      "\tClosest SHAP instance: {closest_xai_idx} (Distance: {xai_distances[closest_xai_idx]:.4f})\n",
      "Instance 49:   Current matches: 18\n",
      "\tClosest feature instance: 21 (Distance: 15.0084)\n",
      "\tClosest SHAP instance: {closest_xai_idx} (Distance: {xai_distances[closest_xai_idx]:.4f})\n",
      "Instance 50:   Current matches: 18\n",
      "\tClosest feature instance: 58 (Distance: 7.2760)\n",
      "\tClosest SHAP instance: {closest_xai_idx} (Distance: {xai_distances[closest_xai_idx]:.4f})\n",
      "Instance 51:   Current matches: 18\n",
      "\tClosest feature instance: 40 (Distance: 1.1943)\n",
      "\tClosest SHAP instance: {closest_xai_idx} (Distance: {xai_distances[closest_xai_idx]:.4f})\n",
      "Instance 52:   Current matches: 19\n",
      "\tClosest feature instance: 56 (Distance: 5.6036)\n",
      "\tClosest SHAP instance: {closest_xai_idx} (Distance: {xai_distances[closest_xai_idx]:.4f})\n",
      "Instance 53:   Current matches: 19\n",
      "\tClosest feature instance: 0 (Distance: 7.9094)\n",
      "\tClosest SHAP instance: {closest_xai_idx} (Distance: {xai_distances[closest_xai_idx]:.4f})\n",
      "Instance 54:   Current matches: 19\n",
      "\tClosest feature instance: 24 (Distance: 7.7657)\n",
      "\tClosest SHAP instance: {closest_xai_idx} (Distance: {xai_distances[closest_xai_idx]:.4f})\n",
      "Instance 55:   Current matches: 19\n",
      "\tClosest feature instance: 13 (Distance: 4.5248)\n",
      "\tClosest SHAP instance: {closest_xai_idx} (Distance: {xai_distances[closest_xai_idx]:.4f})\n",
      "Instance 56:   Current matches: 19\n",
      "\tClosest feature instance: 25 (Distance: 3.9043)\n",
      "\tClosest SHAP instance: {closest_xai_idx} (Distance: {xai_distances[closest_xai_idx]:.4f})\n",
      "Instance 57:   Current matches: 19\n",
      "\tClosest feature instance: 31 (Distance: 0.3799)\n",
      "\tClosest SHAP instance: {closest_xai_idx} (Distance: {xai_distances[closest_xai_idx]:.4f})\n",
      "Instance 58:   Current matches: 19\n",
      "\tClosest feature instance: 0 (Distance: 6.1132)\n",
      "\tClosest SHAP instance: {closest_xai_idx} (Distance: {xai_distances[closest_xai_idx]:.4f})\n",
      "Instance 59:   Current matches: 20\n",
      "\tClosest feature instance: 14 (Distance: 2.2438)\n",
      "\tClosest SHAP instance: {closest_xai_idx} (Distance: {xai_distances[closest_xai_idx]:.4f})\n",
      "Instance 60:   Current matches: 21\n",
      "\tClosest feature instance: 1 (Distance: 1.5625)\n",
      "\tClosest SHAP instance: {closest_xai_idx} (Distance: {xai_distances[closest_xai_idx]:.4f})\n",
      "Instance 61:   Current matches: 21\n",
      "\tClosest feature instance: 13 (Distance: 3.4669)\n",
      "\tClosest SHAP instance: {closest_xai_idx} (Distance: {xai_distances[closest_xai_idx]:.4f})\n",
      "Instance 62:   Current matches: 21\n",
      "\tClosest feature instance: 33 (Distance: 3.9476)\n",
      "\tClosest SHAP instance: {closest_xai_idx} (Distance: {xai_distances[closest_xai_idx]:.4f})\n",
      "Instance 63:   Current matches: 22\n",
      "\tClosest feature instance: 34 (Distance: 3.4497)\n",
      "\tClosest SHAP instance: {closest_xai_idx} (Distance: {xai_distances[closest_xai_idx]:.4f})\n",
      "Instance 64:   Current matches: 23\n",
      "\tClosest feature instance: 60 (Distance: 2.3774)\n",
      "\tClosest SHAP instance: {closest_xai_idx} (Distance: {xai_distances[closest_xai_idx]:.4f})\n",
      "\n",
      "\n",
      "This is the function in XAI_METRICS_FUNCTIONS -- IDENTITY for SHAP\n",
      "\n",
      "\n",
      "\n",
      "Percentage of matches: 35.38%   23 Matches of 65 Entries\n"
     ]
    }
   ],
   "source": [
    "from scipy.spatial import distance\n",
    "SHAP_Identity_Metric = get_identity_metric(df_instances_SHAP, df_shap_values, \"SHAP\")"
   ]
  },
  {
   "cell_type": "markdown",
   "metadata": {},
   "source": [
    "#### Display Identity Score Metric"
   ]
  },
  {
   "cell_type": "code",
   "execution_count": 90,
   "metadata": {},
   "outputs": [
    {
     "data": {
      "text/html": [
       "\n",
       "    <div style=\"font-size: 20px; font-weight: bold;\">\n",
       "        SHAP Identity Metric Score: 35.38%\n",
       "    </div>\n",
       "    "
      ],
      "text/plain": [
       "<IPython.core.display.HTML object>"
      ]
     },
     "metadata": {},
     "output_type": "display_data"
    }
   ],
   "source": [
    "SHAP_Identity_Number = \"{:.2f}%\".format(SHAP_Identity_Metric)\n",
    "display_text(\"SHAP Identity Metric Score: \" + SHAP_Identity_Number)"
   ]
  },
  {
   "cell_type": "code",
   "execution_count": 91,
   "metadata": {},
   "outputs": [],
   "source": [
    "# Read in XAI Metric for Identity\n",
    "XAI_Ident_Metric_1 = SHAP_Identity_Metric"
   ]
  },
  {
   "cell_type": "markdown",
   "metadata": {},
   "source": [
    "---------------------------"
   ]
  },
  {
   "cell_type": "markdown",
   "metadata": {},
   "source": [
    "### Generate Stability Metric"
   ]
  },
  {
   "cell_type": "markdown",
   "metadata": {},
   "source": [
    "#### Optional Pre-Processing of Stability Input Data"
   ]
  },
  {
   "cell_type": "code",
   "execution_count": 92,
   "metadata": {},
   "outputs": [
    {
     "data": {
      "text/plain": [
       "(65, 64)"
      ]
     },
     "execution_count": 92,
     "metadata": {},
     "output_type": "execute_result"
    }
   ],
   "source": [
    "df_shap_values.shape"
   ]
  },
  {
   "cell_type": "code",
   "execution_count": 93,
   "metadata": {},
   "outputs": [
    {
     "data": {
      "text/plain": [
       "RangeIndex(start=0, stop=65, step=1)"
      ]
     },
     "execution_count": 93,
     "metadata": {},
     "output_type": "execute_result"
    }
   ],
   "source": [
    "df_shap_values.index"
   ]
  },
  {
   "cell_type": "code",
   "execution_count": 94,
   "metadata": {},
   "outputs": [
    {
     "data": {
      "text/plain": [
       "(1314, 1)"
      ]
     },
     "execution_count": 94,
     "metadata": {},
     "output_type": "execute_result"
    }
   ],
   "source": [
    "y_test_loaded.shape"
   ]
  },
  {
   "cell_type": "code",
   "execution_count": 95,
   "metadata": {},
   "outputs": [
    {
     "data": {
      "text/plain": [
       "(65,)"
      ]
     },
     "execution_count": 95,
     "metadata": {},
     "output_type": "execute_result"
    }
   ],
   "source": [
    "y_test_block_labels_df.shape"
   ]
  },
  {
   "cell_type": "code",
   "execution_count": 96,
   "metadata": {},
   "outputs": [
    {
     "data": {
      "text/plain": [
       "RangeIndex(start=0, stop=65, step=1)"
      ]
     },
     "execution_count": 96,
     "metadata": {},
     "output_type": "execute_result"
    }
   ],
   "source": [
    "y_test_block_labels_df.index"
   ]
  },
  {
   "cell_type": "code",
   "execution_count": 97,
   "metadata": {},
   "outputs": [
    {
     "name": "stdout",
     "output_type": "stream",
     "text": [
      "y_test_block_labels_df\n",
      "0     1\n",
      "1     1\n",
      "2     0\n",
      "3     1\n",
      "4     0\n",
      "     ..\n",
      "60    1\n",
      "61    1\n",
      "62    1\n",
      "63    0\n",
      "64    0\n",
      "Name: Fraud, Length: 65, dtype: int64\n"
     ]
    }
   ],
   "source": [
    "print('y_test_block_labels_df')\n",
    "print(y_test_block_labels_df)"
   ]
  },
  {
   "cell_type": "markdown",
   "metadata": {},
   "source": [
    "For label data block, use limit value set during SHAP value creation "
   ]
  },
  {
   "cell_type": "code",
   "execution_count": 98,
   "metadata": {},
   "outputs": [],
   "source": [
    "# Adjust the label value input to match earlier adjustments in SHAP value creations\n",
    "if limit_data_block_rows > 0:\n",
    "    y_test_block_labels_df = y_test_block_labels_df.iloc[:limit_data_block_rows]    "
   ]
  },
  {
   "cell_type": "code",
   "execution_count": 99,
   "metadata": {},
   "outputs": [
    {
     "data": {
      "text/plain": [
       "(65,)"
      ]
     },
     "execution_count": 99,
     "metadata": {},
     "output_type": "execute_result"
    }
   ],
   "source": [
    "y_test_block_labels_df.shape"
   ]
  },
  {
   "cell_type": "code",
   "execution_count": 100,
   "metadata": {},
   "outputs": [
    {
     "data": {
      "text/plain": [
       "RangeIndex(start=0, stop=65, step=1)"
      ]
     },
     "execution_count": 100,
     "metadata": {},
     "output_type": "execute_result"
    }
   ],
   "source": [
    "y_test_block_labels_df.index"
   ]
  },
  {
   "cell_type": "code",
   "execution_count": 101,
   "metadata": {},
   "outputs": [],
   "source": [
    "# Assigning the column name 'Fraud'\n",
    "y_test_block_labels_df.columns = ['Fraud']"
   ]
  },
  {
   "cell_type": "code",
   "execution_count": 102,
   "metadata": {},
   "outputs": [
    {
     "name": "stdout",
     "output_type": "stream",
     "text": [
      "y_test_block_labels_df\n",
      "0     1\n",
      "1     1\n",
      "2     0\n",
      "3     1\n",
      "4     0\n",
      "     ..\n",
      "60    1\n",
      "61    1\n",
      "62    1\n",
      "63    0\n",
      "64    0\n",
      "Name: Fraud, Length: 65, dtype: int64\n"
     ]
    }
   ],
   "source": [
    "print('y_test_block_labels_df')\n",
    "print(y_test_block_labels_df)"
   ]
  },
  {
   "cell_type": "code",
   "execution_count": 103,
   "metadata": {},
   "outputs": [],
   "source": [
    "df = pd.DataFrame(y_test_block_labels_df)"
   ]
  },
  {
   "cell_type": "code",
   "execution_count": 104,
   "metadata": {},
   "outputs": [
    {
     "data": {
      "text/html": [
       "<div>\n",
       "<style scoped>\n",
       "    .dataframe tbody tr th:only-of-type {\n",
       "        vertical-align: middle;\n",
       "    }\n",
       "\n",
       "    .dataframe tbody tr th {\n",
       "        vertical-align: top;\n",
       "    }\n",
       "\n",
       "    .dataframe thead th {\n",
       "        text-align: right;\n",
       "    }\n",
       "</style>\n",
       "<table border=\"1\" class=\"dataframe\">\n",
       "  <thead>\n",
       "    <tr style=\"text-align: right;\">\n",
       "      <th></th>\n",
       "      <th>Fraud</th>\n",
       "    </tr>\n",
       "  </thead>\n",
       "  <tbody>\n",
       "    <tr>\n",
       "      <th>0</th>\n",
       "      <td>1</td>\n",
       "    </tr>\n",
       "    <tr>\n",
       "      <th>1</th>\n",
       "      <td>1</td>\n",
       "    </tr>\n",
       "    <tr>\n",
       "      <th>2</th>\n",
       "      <td>0</td>\n",
       "    </tr>\n",
       "    <tr>\n",
       "      <th>3</th>\n",
       "      <td>1</td>\n",
       "    </tr>\n",
       "    <tr>\n",
       "      <th>4</th>\n",
       "      <td>0</td>\n",
       "    </tr>\n",
       "  </tbody>\n",
       "</table>\n",
       "</div>"
      ],
      "text/plain": [
       "   Fraud\n",
       "0      1\n",
       "1      1\n",
       "2      0\n",
       "3      1\n",
       "4      0"
      ]
     },
     "execution_count": 104,
     "metadata": {},
     "output_type": "execute_result"
    }
   ],
   "source": [
    "df.head()"
   ]
  },
  {
   "cell_type": "code",
   "execution_count": 105,
   "metadata": {},
   "outputs": [
    {
     "name": "stdout",
     "output_type": "stream",
     "text": [
      "Breakdown of 'Fraud' and non-Fraud label records in df_TestData:\n",
      "1    34\n",
      "0    31\n",
      "Name: Fraud, dtype: int64\n"
     ]
    }
   ],
   "source": [
    "# Count the occurrence of each unique value in the 'Fraud' column\n",
    "fraud_counts_label = df['Fraud'].value_counts()\n",
    "\n",
    "# Display the counts\n",
    "print(\"Breakdown of 'Fraud' and non-Fraud label records in df_TestData:\")\n",
    "print(fraud_counts_label)"
   ]
  },
  {
   "cell_type": "code",
   "execution_count": 106,
   "metadata": {},
   "outputs": [
    {
     "name": "stdout",
     "output_type": "stream",
     "text": [
      "Label with most entries: 1\n",
      "Count of this label: 34\n"
     ]
    }
   ],
   "source": [
    "# Counting the occurrences of each label\n",
    "label_counts = df['Fraud'].value_counts()\n",
    "\n",
    "# Finding the label with the most entries\n",
    "largest_label = label_counts.idxmax()\n",
    "\n",
    "# Assigning it to largest_label_count\n",
    "largest_label_count = label_counts[largest_label]\n",
    "\n",
    "print(\"Label with most entries:\", largest_label)\n",
    "print(\"Count of this label:\", largest_label_count)"
   ]
  },
  {
   "cell_type": "markdown",
   "metadata": {},
   "source": [
    "#### Retrieve Stability Score"
   ]
  },
  {
   "cell_type": "code",
   "execution_count": 107,
   "metadata": {},
   "outputs": [],
   "source": [
    "# Jan 6th - use loaded data\n",
    "# SHAP_Stability_Metric = get_stability_metric_y(df_shap_values, y_test_loaded, 'SHAP')"
   ]
  },
  {
   "cell_type": "code",
   "execution_count": 108,
   "metadata": {},
   "outputs": [
    {
     "name": "stdout",
     "output_type": "stream",
     "text": [
      "Number of Instances in Cluster '0': 29\n",
      "Number of Instances in Cluster '1': 36\n",
      "\n",
      "For Class '0':\n",
      "Total Instances: total_class_0: 31\n",
      "Matching Cluster '0' Instances (matches_0): 26\n",
      "\n",
      "For Class '1':\n",
      "Total Instances: total_class_1: 34\n",
      "Matching Cluster '1' Instances (matches_1): 31\n",
      "\n",
      "\n",
      "This is the function in XAI_METRICS_FUNCTIONS -- STABILITY -- SHAP\n",
      "\n",
      "\n",
      "\n",
      "Percentage of matches: 87.69% : 57 Matches of 65 Entries\n"
     ]
    }
   ],
   "source": [
    "# Use loaded data and adjusted data block for SHAP Values and labels\n",
    "SHAP_Stability_Metric = get_stability_metric_y(df_shap_values, \n",
    "                                               y_test_block_labels_df, \n",
    "                                               largest_label, \n",
    "                                               'SHAP')"
   ]
  },
  {
   "cell_type": "markdown",
   "metadata": {},
   "source": [
    "#### Display Stability Score Metric"
   ]
  },
  {
   "cell_type": "code",
   "execution_count": 109,
   "metadata": {},
   "outputs": [
    {
     "data": {
      "text/html": [
       "\n",
       "    <div style=\"font-size: 20px; font-weight: bold;\">\n",
       "        SHAP Stability Metric Score: 87.69%\n",
       "    </div>\n",
       "    "
      ],
      "text/plain": [
       "<IPython.core.display.HTML object>"
      ]
     },
     "metadata": {},
     "output_type": "display_data"
    }
   ],
   "source": [
    "SHAP_Stability_Number = \"{:.2f}%\".format(SHAP_Stability_Metric)\n",
    "display_text(\"SHAP Stability Metric Score: \" + SHAP_Stability_Number)"
   ]
  },
  {
   "cell_type": "code",
   "execution_count": 110,
   "metadata": {},
   "outputs": [],
   "source": [
    "# Read in XAI Metric for Stability\n",
    "XAI_Stability_Metric_2 = SHAP_Stability_Metric"
   ]
  },
  {
   "cell_type": "markdown",
   "metadata": {},
   "source": [
    "----------------"
   ]
  },
  {
   "cell_type": "markdown",
   "metadata": {},
   "source": [
    "### Generate Seperability Metric"
   ]
  },
  {
   "cell_type": "markdown",
   "metadata": {},
   "source": [
    "#### Retrieve Seperability Score"
   ]
  },
  {
   "cell_type": "code",
   "execution_count": 111,
   "metadata": {},
   "outputs": [
    {
     "name": "stdout",
     "output_type": "stream",
     "text": [
      "RangeIndex(start=0, stop=65, step=1)\n"
     ]
    }
   ],
   "source": [
    "print(df_instances_SHAP.index)"
   ]
  },
  {
   "cell_type": "code",
   "execution_count": 112,
   "metadata": {},
   "outputs": [
    {
     "name": "stdout",
     "output_type": "stream",
     "text": [
      "RangeIndex(start=0, stop=65, step=1)\n"
     ]
    }
   ],
   "source": [
    "print(df_shap_values.index)"
   ]
  },
  {
   "cell_type": "code",
   "execution_count": 113,
   "metadata": {},
   "outputs": [
    {
     "name": "stdout",
     "output_type": "stream",
     "text": [
      "1:Before Dup check:Lenght of features df: 65\n",
      "1:Before Dup check:Lenght of xai_values_df: 65\n",
      "\n",
      "\n",
      "2:After Dup check:Lenght of features df: 65\n",
      "2:After Dup check:Lenght of xai_values_df: 65\n",
      "Result: 65 entries are shown to have dissimilar explanations in data block of 65 rows\n"
     ]
    },
    {
     "data": {
      "text/html": [
       "\n",
       "    <div style=\"font-size: 20px; font-weight: bold;\">\n",
       "        The Y Seperability Metric Score for SHAP: 100.0\n",
       "    </div>\n",
       "    "
      ],
      "text/plain": [
       "<IPython.core.display.HTML object>"
      ]
     },
     "metadata": {},
     "output_type": "display_data"
    }
   ],
   "source": [
    "SHAP_Seperability_Metric = get_seperability_metric(df_instances_SHAP, \n",
    "                                                   df_shap_values, \n",
    "                                                   \"SHAP\",\n",
    "                                                   0.80, # threshold  #0.51\n",
    "                                                   0.35) # tolerance"
   ]
  },
  {
   "cell_type": "markdown",
   "metadata": {},
   "source": [
    "#### Display Seperability Score Metric"
   ]
  },
  {
   "cell_type": "code",
   "execution_count": 114,
   "metadata": {},
   "outputs": [
    {
     "data": {
      "text/html": [
       "\n",
       "    <div style=\"font-size: 20px; font-weight: bold;\">\n",
       "        SHAP Seperability Metric Score: 100.00%\n",
       "    </div>\n",
       "    "
      ],
      "text/plain": [
       "<IPython.core.display.HTML object>"
      ]
     },
     "metadata": {},
     "output_type": "display_data"
    }
   ],
   "source": [
    "SHAP_Seperability_Number = \"{:.2f}%\".format(SHAP_Seperability_Metric)\n",
    "display_text(\"SHAP Seperability Metric Score: \" + SHAP_Seperability_Number)"
   ]
  },
  {
   "cell_type": "code",
   "execution_count": 115,
   "metadata": {},
   "outputs": [],
   "source": [
    "# Read in XAI Metric for Seperability\n",
    "XAI_Seperability_Metric_3 = SHAP_Seperability_Metric"
   ]
  },
  {
   "cell_type": "markdown",
   "metadata": {},
   "source": [
    "----------------------------------"
   ]
  },
  {
   "cell_type": "markdown",
   "metadata": {},
   "source": [
    "### Generate Similarity Metric"
   ]
  },
  {
   "cell_type": "markdown",
   "metadata": {},
   "source": [
    "#### Retrieve Similarity Score"
   ]
  },
  {
   "cell_type": "code",
   "execution_count": 116,
   "metadata": {},
   "outputs": [
    {
     "name": "stdout",
     "output_type": "stream",
     "text": [
      "RangeIndex(start=0, stop=65, step=1)\n"
     ]
    }
   ],
   "source": [
    "print(df_instances_SHAP.index)"
   ]
  },
  {
   "cell_type": "code",
   "execution_count": 117,
   "metadata": {},
   "outputs": [
    {
     "name": "stdout",
     "output_type": "stream",
     "text": [
      "RangeIndex(start=0, stop=65, step=1)\n"
     ]
    }
   ],
   "source": [
    "print(df_shap_values.index)"
   ]
  },
  {
   "cell_type": "code",
   "execution_count": 118,
   "metadata": {},
   "outputs": [],
   "source": [
    "#print(df_instances_SHAP)"
   ]
  },
  {
   "cell_type": "code",
   "execution_count": 119,
   "metadata": {},
   "outputs": [
    {
     "name": "stdout",
     "output_type": "stream",
     "text": [
      "\n",
      "Optimal number of clusters: 4\n"
     ]
    },
    {
     "data": {
      "text/html": [
       "\n",
       "    <div style=\"font-size: 20px; font-weight: bold;\">\n",
       "        The Similarity Metric Score for SHAP: 0.2353067427194401\n",
       "    </div>\n",
       "    "
      ],
      "text/plain": [
       "<IPython.core.display.HTML object>"
      ]
     },
     "metadata": {},
     "output_type": "display_data"
    }
   ],
   "source": [
    "SHAP_Similarity_Metric = get_similarity_metric(df_instances_SHAP, \n",
    "                                               df_shap_values, \n",
    "                                               \"SHAP\", \n",
    "                                               use_dbscan=False)"
   ]
  },
  {
   "cell_type": "markdown",
   "metadata": {},
   "source": [
    "#### Display Similarity Score Metric"
   ]
  },
  {
   "cell_type": "code",
   "execution_count": 120,
   "metadata": {},
   "outputs": [
    {
     "data": {
      "text/html": [
       "\n",
       "    <div style=\"font-size: 20px; font-weight: bold;\">\n",
       "        SHAP Similarity Metric Value:   0.24\n",
       "    </div>\n",
       "    "
      ],
      "text/plain": [
       "<IPython.core.display.HTML object>"
      ]
     },
     "metadata": {},
     "output_type": "display_data"
    }
   ],
   "source": [
    "SHAP_Similarity_Number = \"{:6.2f}\".format(SHAP_Similarity_Metric)\n",
    "display_text(\"SHAP Similarity Metric Value: \" + SHAP_Similarity_Number)"
   ]
  },
  {
   "cell_type": "code",
   "execution_count": 121,
   "metadata": {},
   "outputs": [],
   "source": [
    "# Read in XAI Metric for Similarity\n",
    "XAI_Similarity_Metric_4 = SHAP_Similarity_Metric"
   ]
  },
  {
   "cell_type": "markdown",
   "metadata": {},
   "source": [
    "-------------------"
   ]
  },
  {
   "cell_type": "markdown",
   "metadata": {},
   "source": [
    "### Display Final Set of Metrics (this run)"
   ]
  },
  {
   "cell_type": "code",
   "execution_count": 122,
   "metadata": {},
   "outputs": [
    {
     "name": "stdout",
     "output_type": "stream",
     "text": [
      "XAI Ident Metric 1: 35.38461538461539\n",
      "XAI Stability Metric 2: 87.6923076923077\n",
      "XAI Seperability Metric 1: 100.0\n",
      "XAI Similarity Metric 1: 0.2353067427194401\n",
      "XAI Time Metric 5: 387.13473653793335 seconds\n"
     ]
    }
   ],
   "source": [
    "# Print the results\n",
    "print(f\"XAI Ident Metric 1: {XAI_Ident_Metric_1}\")\n",
    "print(f\"XAI Stability Metric 2: {XAI_Stability_Metric_2}\")\n",
    "print(f\"XAI Seperability Metric 1: {XAI_Seperability_Metric_3}\")\n",
    "print(f\"XAI Similarity Metric 1: {XAI_Similarity_Metric_4}\")\n",
    "print(f\"XAI Time Metric 5: {exec_time_SHAP} seconds\")"
   ]
  },
  {
   "cell_type": "markdown",
   "metadata": {},
   "source": [
    "-------------------"
   ]
  },
  {
   "cell_type": "markdown",
   "metadata": {},
   "source": [
    "## Write Out Metrics to XL"
   ]
  },
  {
   "cell_type": "code",
   "execution_count": 123,
   "metadata": {},
   "outputs": [
    {
     "name": "stdout",
     "output_type": "stream",
     "text": [
      "SHAP DataFrame selected for Sample Number 1 witk key df_1\n"
     ]
    }
   ],
   "source": [
    "write_xai_Metrics_to_XL(SHAP_xai_file_path, \n",
    "                        sample, \n",
    "                        SHAP_Identity_Metric, \n",
    "                        SHAP_Stability_Metric, \n",
    "                        SHAP_Seperability_Metric, \n",
    "                        SHAP_Similarity_Metric, \n",
    "                        exec_time_SHAP, \n",
    "                        df_Selected_from_List,\n",
    "                        \"SHAP\")"
   ]
  },
  {
   "cell_type": "code",
   "execution_count": null,
   "metadata": {},
   "outputs": [],
   "source": []
  }
 ],
 "metadata": {
  "kernelspec": {
   "display_name": "Python 3 (ipykernel)",
   "language": "python",
   "name": "python3"
  },
  "language_info": {
   "codemirror_mode": {
    "name": "ipython",
    "version": 3
   },
   "file_extension": ".py",
   "mimetype": "text/x-python",
   "name": "python",
   "nbconvert_exporter": "python",
   "pygments_lexer": "ipython3",
   "version": "3.8.10"
  },
  "toc": {
   "base_numbering": 1,
   "nav_menu": {},
   "number_sections": true,
   "sideBar": true,
   "skip_h1_title": false,
   "title_cell": "Table of Contents",
   "title_sidebar": "Contents",
   "toc_cell": false,
   "toc_position": {},
   "toc_section_display": true,
   "toc_window_display": false
  }
 },
 "nbformat": 4,
 "nbformat_minor": 4
}
