{
 "cells": [
  {
   "cell_type": "markdown",
   "id": "9bee14d1-09de-45e3-92e9-a636f0b7c63a",
   "metadata": {
    "tags": []
   },
   "source": [
    "# Disseration Experiment FriedB\n",
    "# Friedman Analysis + W Signed Test - April 2024¶\n",
    "Ciaran Finnegan April 2024"
   ]
  },
  {
   "cell_type": "markdown",
   "id": "54f7ee5b-035d-451a-913c-87cb7dbead4c",
   "metadata": {},
   "source": [
    "This is the corrected final statistical analysis with the XAI experiment outputs as input test data."
   ]
  },
  {
   "cell_type": "markdown",
   "id": "0377edbd-e911-4711-b38e-0c0ec748d388",
   "metadata": {},
   "source": [
    "The purpose was to correct an error in the original statistical analysis."
   ]
  },
  {
   "cell_type": "markdown",
   "id": "46a88a50-57d3-44d3-a98b-13d9552b107e",
   "metadata": {},
   "source": [
    "The 20 results from the five custom evaluation metrics in each of the four XAI technique XLs are read directly as inout."
   ]
  },
  {
   "cell_type": "markdown",
   "id": "8cb05cb4-78d2-4f5b-9d2c-1c62cd2f0ef3",
   "metadata": {},
   "source": [
    "The inout data is not averaged per XAI method, and the significance tests are conducted using all the sample data directly."
   ]
  },
  {
   "cell_type": "markdown",
   "id": "c1a25d3e-4565-45b4-a7c7-36427c9f69f7",
   "metadata": {},
   "source": [
    "# Import Libraries + Custom Functions"
   ]
  },
  {
   "cell_type": "markdown",
   "id": "641038cd-5fb4-4fd4-b6f1-01535b3ae943",
   "metadata": {},
   "source": [
    "## Import Libraries"
   ]
  },
  {
   "cell_type": "code",
   "execution_count": 1,
   "id": "8fec94df-2e1d-424f-9807-2fba6fef2530",
   "metadata": {},
   "outputs": [],
   "source": [
    "import pandas as pd\n",
    "from scipy.stats import friedmanchisquare\n",
    "from scipy.stats import wilcoxon\n",
    "import itertools\n",
    "from itertools import combinations\n",
    "from tabulate import tabulate\n",
    "import seaborn as sns\n",
    "import matplotlib.pyplot as plt\n",
    "import numpy as np\n",
    "from sklearn.preprocessing import MinMaxScaler"
   ]
  },
  {
   "cell_type": "markdown",
   "id": "9163040a-742e-422a-a40c-b5a444fa86d7",
   "metadata": {},
   "source": [
    "#### Suppress Warnings to clean up output"
   ]
  },
  {
   "cell_type": "code",
   "execution_count": 2,
   "id": "f50be335-8934-406c-8b66-10d543a48699",
   "metadata": {},
   "outputs": [],
   "source": [
    "import warnings\n",
    "warnings.simplefilter(action='ignore', category=Warning)"
   ]
  },
  {
   "cell_type": "markdown",
   "id": "54309543-f7f5-478c-a75c-14bec97ead72",
   "metadata": {},
   "source": [
    "# Load Excel Data"
   ]
  },
  {
   "cell_type": "code",
   "execution_count": 3,
   "id": "e18df2ef-1a2b-405b-98cf-e0a0cd8ad36f",
   "metadata": {},
   "outputs": [],
   "source": [
    "# Load the full datasets from each file, focusing on the relevant columns\n",
    "columns_to_load = ['XAI_Identity', 'XAI_Stability', 'XAI_Seperability', 'XAI_Similairity', 'Comp_Efficiency']"
   ]
  },
  {
   "cell_type": "markdown",
   "id": "53980b1b-a463-43ae-ba00-e23edfe3e4ff",
   "metadata": {},
   "source": [
    "#### Set file path for input data from each XAI technique experiment"
   ]
  },
  {
   "cell_type": "code",
   "execution_count": 4,
   "id": "e598f710-f386-46dd-992c-b9b74a8104fd",
   "metadata": {},
   "outputs": [],
   "source": [
    "shap_file_path = 'SHAP_XAI_Metrics_Experiments Formatted cf v1-1 250324.xlsx'"
   ]
  },
  {
   "cell_type": "code",
   "execution_count": 5,
   "id": "ef8fcea7-7934-47f7-a4d2-9f646fe973c4",
   "metadata": {},
   "outputs": [],
   "source": [
    "lime_file_path = 'LIME_XAI_Metrics_Experiments Formatted cf v1-1 250324.xlsx'"
   ]
  },
  {
   "cell_type": "code",
   "execution_count": 6,
   "id": "cd4b14fb-621d-4927-8a00-6b2cd37c50a3",
   "metadata": {},
   "outputs": [],
   "source": [
    "anchors_file_path = 'ANCHOR_XAI_Metrics_Experiments Formatted cf v1-1 250324.xlsx'"
   ]
  },
  {
   "cell_type": "code",
   "execution_count": 7,
   "id": "cbc8b5b9-1a78-43d5-9cc5-5080c03eed3c",
   "metadata": {},
   "outputs": [],
   "source": [
    "dice_file_path = 'DiCE_XAI_Metrics_Experiments Formatted cf v1-1 250324.xlsx'"
   ]
  },
  {
   "cell_type": "code",
   "execution_count": 8,
   "id": "fdf40adf-5eee-4758-bfd2-cab52b3aed04",
   "metadata": {},
   "outputs": [],
   "source": [
    "# Load the first few rows of each file to examine their structure\n",
    "shap_df_preview = pd.read_excel(shap_file_path, nrows=5)\n",
    "lime_df_preview = pd.read_excel(lime_file_path, nrows=5)\n",
    "anchors_df_preview = pd.read_excel(anchors_file_path, nrows=5)\n",
    "dice_df_preview = pd.read_excel(dice_file_path, nrows=5)"
   ]
  },
  {
   "cell_type": "code",
   "execution_count": 9,
   "id": "29e1b453-4679-4cef-a82f-d1a8011fb4dd",
   "metadata": {},
   "outputs": [
    {
     "data": {
      "text/plain": [
       "(   Sample Number  XAI_Identity  XAI_Stability  XAI_Seperability  \\\n",
       " 0              1     40.000000      87.692308         96.923077   \n",
       " 1              2     46.153846      76.923077         96.923077   \n",
       " 2              3     49.230769      67.692308         90.769231   \n",
       " 3              4     36.923077      75.384615         93.846154   \n",
       " 4              5     47.692308      83.076923        100.000000   \n",
       " \n",
       "    XAI_Similairity  Comp_Efficiency  \n",
       " 0         0.274628       384.508690  \n",
       " 1         0.231959       386.190979  \n",
       " 2         0.207120       384.938421  \n",
       " 3         0.263651       386.692740  \n",
       " 4         0.280038       384.335014  ,\n",
       "    Sample Number  XAI_Identity  XAI_Stability  XAI_Seperability  \\\n",
       " 0              1     10.821400      26.232300        100.000000   \n",
       " 1              2      3.076923      78.461538         90.769231   \n",
       " 2              3      3.076923      60.000000        100.000000   \n",
       " 3              4      4.615385      33.846154         93.846154   \n",
       " 4              5     12.307692      40.000000        100.000000   \n",
       " \n",
       "    XAI_Similairity  Comp_Efficiency  \n",
       " 0         0.654100       754.960000  \n",
       " 1         0.576676       766.213522  \n",
       " 2         0.545709       726.493849  \n",
       " 3         0.623527       749.675456  \n",
       " 4         0.659302       740.318032  ,\n",
       "    Sample Number  XAI_Identity  XAI_Stability  XAI_Seperability  \\\n",
       " 0              1        15.625        82.8125           15.6250   \n",
       " 1              2        12.500        60.9375           20.3125   \n",
       " 2              3         6.250        60.9375           25.0000   \n",
       " 3              4         9.375        32.8125           20.3125   \n",
       " 4              5         6.250        20.3125           18.7500   \n",
       " \n",
       "    XAI_Similairity  Comp_Efficiency  \n",
       " 0         1.537724      2901.369307  \n",
       " 1         1.122623      2783.961542  \n",
       " 2         1.710437      2799.254250  \n",
       " 3         1.495576      2803.498666  \n",
       " 4         1.749300      2726.464160  ,\n",
       "    Sample Number  XAI_Identity  XAI_Stability  XAI_Seperability  \\\n",
       " 0              1      6.153846      58.461538         35.384615   \n",
       " 1              2     18.461538      46.153846         36.923077   \n",
       " 2              3      9.230769      56.923077         41.538462   \n",
       " 3              4     24.615385      55.384615         40.000000   \n",
       " 4              5      7.692308      55.384615         49.230769   \n",
       " \n",
       "    XAI_Similairity  Comp_Efficiency  \n",
       " 0        13.131632        76.470525  \n",
       " 1        16.216371        77.330148  \n",
       " 2        13.893658       122.515669  \n",
       " 3        14.915037        75.334447  \n",
       " 4        13.949027       121.449994  )"
      ]
     },
     "execution_count": 9,
     "metadata": {},
     "output_type": "execute_result"
    }
   ],
   "source": [
    "# Display the structure of the data from each file\n",
    "shap_df_preview.head(), lime_df_preview.head(), anchors_df_preview.head(), dice_df_preview.head()"
   ]
  },
  {
   "cell_type": "code",
   "execution_count": 10,
   "id": "6e72ebc7-8a66-4fdb-a61a-a3cff48450e8",
   "metadata": {},
   "outputs": [],
   "source": [
    "# Load all experiment data\n",
    "shap_df = pd.read_excel(shap_file_path, usecols=columns_to_load)\n",
    "lime_df = pd.read_excel(lime_file_path, usecols=columns_to_load)\n",
    "anchors_df = pd.read_excel(anchors_file_path, usecols=columns_to_load)\n",
    "dice_df = pd.read_excel(dice_file_path, usecols=columns_to_load)"
   ]
  },
  {
   "cell_type": "code",
   "execution_count": 11,
   "id": "4376104c-ef33-423b-ac67-adfcfa9ffe4e",
   "metadata": {},
   "outputs": [],
   "source": [
    "# Combine the data into a single DataFrame for analysis, with an added technique column\n",
    "shap_df['Technique'] = 'SHAP'\n",
    "lime_df['Technique'] = 'LIME'\n",
    "anchors_df['Technique'] = 'ANCHORS'\n",
    "dice_df['Technique'] = 'DiCE'"
   ]
  },
  {
   "cell_type": "code",
   "execution_count": 12,
   "id": "50f5abff-2c8b-46e7-bda9-c2dfafcf0fd6",
   "metadata": {},
   "outputs": [],
   "source": [
    "combined_df = pd.concat([shap_df, lime_df, anchors_df, dice_df], ignore_index=True)"
   ]
  },
  {
   "cell_type": "code",
   "execution_count": 13,
   "id": "9690ea82-ea02-41b8-a47d-e31855c23555",
   "metadata": {},
   "outputs": [],
   "source": [
    "# Prepare the data for Friedman test\n",
    "# The data needs to be reshaped such that each row represents a single measurement of a technique across all metrics\n",
    "combined_df_melt = combined_df.melt(id_vars=['Technique'], var_name='Metric', value_name='Score')"
   ]
  },
  {
   "cell_type": "code",
   "execution_count": 14,
   "id": "053fb2d5-9ebb-45f4-8e36-0aadde8a0782",
   "metadata": {},
   "outputs": [
    {
     "data": {
      "text/html": [
       "<div>\n",
       "<style scoped>\n",
       "    .dataframe tbody tr th:only-of-type {\n",
       "        vertical-align: middle;\n",
       "    }\n",
       "\n",
       "    .dataframe tbody tr th {\n",
       "        vertical-align: top;\n",
       "    }\n",
       "\n",
       "    .dataframe thead th {\n",
       "        text-align: right;\n",
       "    }\n",
       "</style>\n",
       "<table border=\"1\" class=\"dataframe\">\n",
       "  <thead>\n",
       "    <tr style=\"text-align: right;\">\n",
       "      <th></th>\n",
       "      <th>Technique</th>\n",
       "      <th>Metric</th>\n",
       "      <th>Score</th>\n",
       "    </tr>\n",
       "  </thead>\n",
       "  <tbody>\n",
       "    <tr>\n",
       "      <th>0</th>\n",
       "      <td>SHAP</td>\n",
       "      <td>XAI_Identity</td>\n",
       "      <td>40.000000</td>\n",
       "    </tr>\n",
       "    <tr>\n",
       "      <th>1</th>\n",
       "      <td>SHAP</td>\n",
       "      <td>XAI_Identity</td>\n",
       "      <td>46.153846</td>\n",
       "    </tr>\n",
       "    <tr>\n",
       "      <th>2</th>\n",
       "      <td>SHAP</td>\n",
       "      <td>XAI_Identity</td>\n",
       "      <td>49.230769</td>\n",
       "    </tr>\n",
       "    <tr>\n",
       "      <th>3</th>\n",
       "      <td>SHAP</td>\n",
       "      <td>XAI_Identity</td>\n",
       "      <td>36.923077</td>\n",
       "    </tr>\n",
       "    <tr>\n",
       "      <th>4</th>\n",
       "      <td>SHAP</td>\n",
       "      <td>XAI_Identity</td>\n",
       "      <td>47.692308</td>\n",
       "    </tr>\n",
       "  </tbody>\n",
       "</table>\n",
       "</div>"
      ],
      "text/plain": [
       "  Technique        Metric      Score\n",
       "0      SHAP  XAI_Identity  40.000000\n",
       "1      SHAP  XAI_Identity  46.153846\n",
       "2      SHAP  XAI_Identity  49.230769\n",
       "3      SHAP  XAI_Identity  36.923077\n",
       "4      SHAP  XAI_Identity  47.692308"
      ]
     },
     "execution_count": 14,
     "metadata": {},
     "output_type": "execute_result"
    }
   ],
   "source": [
    "# Show sample of loaded data thathas been reshaped\n",
    "combined_df_melt.head()"
   ]
  },
  {
   "cell_type": "code",
   "execution_count": 15,
   "id": "388b1878-3dad-4e65-99a7-0e5cb34c624e",
   "metadata": {},
   "outputs": [],
   "source": [
    "# Load the data from an Excel file\n",
    "#data = pd.read_excel('XAI_StatTest2_RowLables_v2.xlsx')"
   ]
  },
  {
   "cell_type": "code",
   "execution_count": 16,
   "id": "081b90ff-9e67-4541-b8f9-992d74560419",
   "metadata": {},
   "outputs": [],
   "source": [
    "# Extracting the values for each XAI method\n",
    "#shap = data['SHAP'].values\n",
    "#lime = data['LIME'].values\n",
    "#anchors = data['ANCHOR'].values\n",
    "#dice = data['DiCE'].values"
   ]
  },
  {
   "cell_type": "code",
   "execution_count": 17,
   "id": "ec62e8dc-cbe8-4935-a148-e1e0c9a391f5",
   "metadata": {},
   "outputs": [],
   "source": [
    "#data"
   ]
  },
  {
   "cell_type": "markdown",
   "id": "502e93ce-ba40-458b-bd00-fc9add3994c4",
   "metadata": {},
   "source": [
    "# Friedman Analysis"
   ]
  },
  {
   "cell_type": "markdown",
   "id": "e35f14f3-1d6c-4941-8d66-fa9122d6379c",
   "metadata": {},
   "source": [
    "## Perform Friedman Test"
   ]
  },
  {
   "cell_type": "code",
   "execution_count": 18,
   "id": "c7b24644-0a34-4ff3-94f7-56585694a1c5",
   "metadata": {},
   "outputs": [],
   "source": [
    "# Extract unique metrics\n",
    "metrics = combined_df_melt['Metric'].unique()"
   ]
  },
  {
   "cell_type": "code",
   "execution_count": 19,
   "id": "8200f771-227e-4136-a864-b279d510c318",
   "metadata": {},
   "outputs": [],
   "source": [
    "# Initialize a dictionary to hold Friedman test results\n",
    "friedman_results = {}"
   ]
  },
  {
   "cell_type": "code",
   "execution_count": 20,
   "id": "693218c9-3ce0-426f-a0a8-d101779f4ad8",
   "metadata": {},
   "outputs": [],
   "source": [
    "# Perform Friedman test for each metric\n",
    "for metric in metrics:\n",
    "    # Extract scores for each technique\n",
    "    scores = [combined_df_melt[(combined_df_melt['Technique'] == technique) \n",
    "                               & (combined_df_melt['Metric'] == metric)]['Score'].values \n",
    "                               for technique in ['SHAP', 'LIME', 'ANCHORS', 'DiCE']]\n",
    "    \n",
    "    # Perform the Friedman test\n",
    "    statistic, p_value = friedmanchisquare(*scores)\n",
    "    \n",
    "    # Store results\n",
    "    friedman_results[metric] = {\n",
    "        'Statistic': statistic,\n",
    "        'p-value': p_value,\n",
    "        'Significant Difference': 'Yes' if p_value < 0.05 else 'No'\n",
    "    }"
   ]
  },
  {
   "cell_type": "code",
   "execution_count": 21,
   "id": "a36210a0-0a22-439d-8c1a-2b92ab94d150",
   "metadata": {},
   "outputs": [],
   "source": [
    "# Convert results to DataFrame for easier viewing\n",
    "friedman_results_df = pd.DataFrame(friedman_results).T"
   ]
  },
  {
   "cell_type": "code",
   "execution_count": 22,
   "id": "7e43040c-e462-441f-aa38-14cb6cbf482f",
   "metadata": {},
   "outputs": [],
   "source": [
    "# Performing the Friedman test\n",
    "#friedman_test_result = friedmanchisquare(shap, lime, anchors, dice)"
   ]
  },
  {
   "cell_type": "markdown",
   "id": "eb0af40c-12bb-4498-970d-d6ffa87586fa",
   "metadata": {},
   "source": [
    "## Present Friedman Analysis"
   ]
  },
  {
   "cell_type": "code",
   "execution_count": 23,
   "id": "87395e1a-9f0c-4064-a08a-71504fb434a4",
   "metadata": {},
   "outputs": [
    {
     "data": {
      "text/html": [
       "<div>\n",
       "<style scoped>\n",
       "    .dataframe tbody tr th:only-of-type {\n",
       "        vertical-align: middle;\n",
       "    }\n",
       "\n",
       "    .dataframe tbody tr th {\n",
       "        vertical-align: top;\n",
       "    }\n",
       "\n",
       "    .dataframe thead th {\n",
       "        text-align: right;\n",
       "    }\n",
       "</style>\n",
       "<table border=\"1\" class=\"dataframe\">\n",
       "  <thead>\n",
       "    <tr style=\"text-align: right;\">\n",
       "      <th></th>\n",
       "      <th>Statistic</th>\n",
       "      <th>p-value</th>\n",
       "      <th>Significant Difference</th>\n",
       "    </tr>\n",
       "  </thead>\n",
       "  <tbody>\n",
       "    <tr>\n",
       "      <th>XAI_Identity</th>\n",
       "      <td>47.76</td>\n",
       "      <td>0.0</td>\n",
       "      <td>Yes</td>\n",
       "    </tr>\n",
       "    <tr>\n",
       "      <th>XAI_Stability</th>\n",
       "      <td>1.56</td>\n",
       "      <td>0.668493</td>\n",
       "      <td>No</td>\n",
       "    </tr>\n",
       "    <tr>\n",
       "      <th>XAI_Seperability</th>\n",
       "      <td>55.4</td>\n",
       "      <td>0.0</td>\n",
       "      <td>Yes</td>\n",
       "    </tr>\n",
       "    <tr>\n",
       "      <th>XAI_Similairity</th>\n",
       "      <td>60.0</td>\n",
       "      <td>0.0</td>\n",
       "      <td>Yes</td>\n",
       "    </tr>\n",
       "    <tr>\n",
       "      <th>Comp_Efficiency</th>\n",
       "      <td>60.0</td>\n",
       "      <td>0.0</td>\n",
       "      <td>Yes</td>\n",
       "    </tr>\n",
       "  </tbody>\n",
       "</table>\n",
       "</div>"
      ],
      "text/plain": [
       "                 Statistic   p-value Significant Difference\n",
       "XAI_Identity         47.76       0.0                    Yes\n",
       "XAI_Stability         1.56  0.668493                     No\n",
       "XAI_Seperability      55.4       0.0                    Yes\n",
       "XAI_Similairity       60.0       0.0                    Yes\n",
       "Comp_Efficiency       60.0       0.0                    Yes"
      ]
     },
     "execution_count": 23,
     "metadata": {},
     "output_type": "execute_result"
    }
   ],
   "source": [
    "friedman_results_df"
   ]
  },
  {
   "cell_type": "code",
   "execution_count": 24,
   "id": "383d1108-7d93-4c2d-b34c-adc8650420e9",
   "metadata": {},
   "outputs": [],
   "source": [
    "# Prepare Friedman test results for tabulate\n",
    "#friedman_results = [[\"Statistic\", \"{:.4f}\".format(friedman_test_result.statistic)],\n",
    "#                    [\"P-Value\", \"{:.4f}\".format(friedman_test_result.pvalue)]]\n",
    "\n",
    "#print(\"Friedman Test Results:\")\n",
    "#print(tabulate(friedman_results, headers=\"firstrow\", tablefmt=\"fancy_grid\"))"
   ]
  },
  {
   "cell_type": "markdown",
   "id": "3be7750f-db2a-4614-a8cf-296ea2221c29",
   "metadata": {},
   "source": [
    "# Plot Analysis"
   ]
  },
  {
   "cell_type": "markdown",
   "id": "8cb5ea70-cc50-4523-b552-2d0ab4a67a5d",
   "metadata": {},
   "source": [
    "## Generate Plots"
   ]
  },
  {
   "cell_type": "markdown",
   "id": "7c088421-028a-4e5f-b7bc-5bccb226809a",
   "metadata": {},
   "source": [
    "### Bar Charts "
   ]
  },
  {
   "cell_type": "markdown",
   "id": "32a0f734-5681-4941-be74-0431725a6f6d",
   "metadata": {},
   "source": [
    "Create bar charts for each metric, showing the average score for each XAI technique. This will help illustrate the differences in performance across the techniques for the metrics where significant differences were identified."
   ]
  },
  {
   "cell_type": "code",
   "execution_count": 25,
   "id": "ebc2cdbd-b008-4c06-8e5d-223e978ec968",
   "metadata": {},
   "outputs": [],
   "source": [
    "# Set the style of the seaborn\n",
    "sns.set(style=\"whitegrid\")"
   ]
  },
  {
   "cell_type": "code",
   "execution_count": 26,
   "id": "76f8bff6-8fc1-4b61-a9e7-cb5b4017b8b8",
   "metadata": {},
   "outputs": [],
   "source": [
    "# Filter out the metrics with significant differences for visualization\n",
    "significant_metrics = friedman_results_df[friedman_results_df['Significant Difference'] == 'Yes'].index.tolist()"
   ]
  },
  {
   "cell_type": "code",
   "execution_count": 27,
   "id": "938b42bf-03c8-4368-bf06-a0405c73cf2b",
   "metadata": {},
   "outputs": [
    {
     "data": {
      "image/png": "[encoded data removed]",
      "text/plain": [
       "<Figure size 720x1440 with 4 Axes>"
      ]
     },
     "metadata": {
      "needs_background": "light"
     },
     "output_type": "display_data"
    }
   ],
   "source": [
    "# Plotting\n",
    "fig, axes = plt.subplots(len(significant_metrics), 1, figsize=(10, 5 * len(significant_metrics)))\n",
    "\n",
    "if len(significant_metrics) == 1:  # Adjust if only one metric is significant to avoid indexing error\n",
    "    axes = [axes]\n",
    "\n",
    "for ax, metric in zip(axes, significant_metrics):\n",
    "    # Data preparation for plotting\n",
    "    data_to_plot = combined_df_melt[combined_df_melt['Metric'] == metric].groupby(['Technique'])['Score'].mean().reset_index()\n",
    "    sns.barplot(x='Technique', y='Score', data=data_to_plot, ax=ax, palette=\"Blues_d\")\n",
    "    ax.set_title(f'Mean Score for {metric}', fontsize=16)\n",
    "    ax.set_ylabel('Mean Score', fontsize=14)\n",
    "    ax.set_xlabel('Technique', fontsize=14)\n",
    "\n",
    "plt.tight_layout()\n",
    "plt.show()"
   ]
  },
  {
   "cell_type": "markdown",
   "id": "f912286e-c30d-44c5-a520-ceef158141ae",
   "metadata": {},
   "source": [
    "After the statistical analysis, we will generate both a box plot and a violin plot for your data. \n",
    "These plots will help visualize the distribution and spread of the data across the four XAI methods."
   ]
  },
  {
   "cell_type": "markdown",
   "id": "03ec011c-3a48-4488-9ba5-90760bb9ac64",
   "metadata": {},
   "source": [
    "### Box Plot\n",
    "\n",
    "In the Box Plot, the x-axis now correctly represents the four XAI methods (SHAP, LIME, ANCHORS, and DiCE):\n",
    "\n",
    "The box shows the interquartile range (IQR), indicating the middle 50% of scores for each method.\n",
    "\n",
    "The median is represented by the line within the box.\n",
    "\n",
    "The whiskers extend to show the range of the data, excluding outliers.\n",
    "\n",
    "Any outliers are shown as individual points beyond the whiskers.\n",
    "\n",
    "This plot allows us to compare the central tendency and variability in scores across the different XAI methods."
   ]
  },
  {
   "cell_type": "code",
   "execution_count": 28,
   "id": "25b7f094-0f90-450b-bec4-36799b5e01d3",
   "metadata": {},
   "outputs": [],
   "source": [
    "# Load the data from an Excel file\n",
    "data = pd.read_excel('XAI_StatTest2_RowLables_v1.xlsx')"
   ]
  },
  {
   "cell_type": "code",
   "execution_count": 29,
   "id": "a65115f5-4e12-4e9a-bcf2-178d1e4787b3",
   "metadata": {},
   "outputs": [],
   "source": [
    "# Extracting the values for each XAI method\n",
    "shap = data['SHAP'].values\n",
    "lime = data['LIME'].values\n",
    "anchors = data['ANCHOR'].values\n",
    "dice = data['DiCE'].values"
   ]
  },
  {
   "cell_type": "code",
   "execution_count": 30,
   "id": "5df55d9b-6961-494a-848d-e0dbe55e4b72",
   "metadata": {},
   "outputs": [],
   "source": [
    "# Reshape the data for plotting\n",
    "reshaped_data = pd.melt(data, id_vars=['Metric'], value_vars=['SHAP', 'LIME', 'ANCHOR', 'DiCE'],\n",
    "                        var_name='Method', value_name='Score')"
   ]
  },
  {
   "cell_type": "code",
   "execution_count": 31,
   "id": "1e85862f-f078-4167-97bf-1497e109fa78",
   "metadata": {},
   "outputs": [
    {
     "data": {
      "text/html": [
       "<div>\n",
       "<style scoped>\n",
       "    .dataframe tbody tr th:only-of-type {\n",
       "        vertical-align: middle;\n",
       "    }\n",
       "\n",
       "    .dataframe tbody tr th {\n",
       "        vertical-align: top;\n",
       "    }\n",
       "\n",
       "    .dataframe thead th {\n",
       "        text-align: right;\n",
       "    }\n",
       "</style>\n",
       "<table border=\"1\" class=\"dataframe\">\n",
       "  <thead>\n",
       "    <tr style=\"text-align: right;\">\n",
       "      <th></th>\n",
       "      <th>Metric</th>\n",
       "      <th>Method</th>\n",
       "      <th>Score</th>\n",
       "    </tr>\n",
       "  </thead>\n",
       "  <tbody>\n",
       "    <tr>\n",
       "      <th>0</th>\n",
       "      <td>Identity</td>\n",
       "      <td>SHAP</td>\n",
       "      <td>41.307692</td>\n",
       "    </tr>\n",
       "    <tr>\n",
       "      <th>1</th>\n",
       "      <td>Stability</td>\n",
       "      <td>SHAP</td>\n",
       "      <td>58.000000</td>\n",
       "    </tr>\n",
       "    <tr>\n",
       "      <th>2</th>\n",
       "      <td>Seperability</td>\n",
       "      <td>SHAP</td>\n",
       "      <td>97.384615</td>\n",
       "    </tr>\n",
       "    <tr>\n",
       "      <th>3</th>\n",
       "      <td>Similairity</td>\n",
       "      <td>SHAP</td>\n",
       "      <td>0.280949</td>\n",
       "    </tr>\n",
       "    <tr>\n",
       "      <th>4</th>\n",
       "      <td>Comp_Efficiency</td>\n",
       "      <td>SHAP</td>\n",
       "      <td>390.281732</td>\n",
       "    </tr>\n",
       "    <tr>\n",
       "      <th>5</th>\n",
       "      <td>Identity</td>\n",
       "      <td>LIME</td>\n",
       "      <td>4.617993</td>\n",
       "    </tr>\n",
       "    <tr>\n",
       "      <th>6</th>\n",
       "      <td>Stability</td>\n",
       "      <td>LIME</td>\n",
       "      <td>49.773153</td>\n",
       "    </tr>\n",
       "    <tr>\n",
       "      <th>7</th>\n",
       "      <td>Seperability</td>\n",
       "      <td>LIME</td>\n",
       "      <td>96.769231</td>\n",
       "    </tr>\n",
       "    <tr>\n",
       "      <th>8</th>\n",
       "      <td>Similairity</td>\n",
       "      <td>LIME</td>\n",
       "      <td>0.589751</td>\n",
       "    </tr>\n",
       "    <tr>\n",
       "      <th>9</th>\n",
       "      <td>Comp_Efficiency</td>\n",
       "      <td>LIME</td>\n",
       "      <td>738.144645</td>\n",
       "    </tr>\n",
       "    <tr>\n",
       "      <th>10</th>\n",
       "      <td>Identity</td>\n",
       "      <td>ANCHOR</td>\n",
       "      <td>9.687500</td>\n",
       "    </tr>\n",
       "    <tr>\n",
       "      <th>11</th>\n",
       "      <td>Stability</td>\n",
       "      <td>ANCHOR</td>\n",
       "      <td>49.921875</td>\n",
       "    </tr>\n",
       "    <tr>\n",
       "      <th>12</th>\n",
       "      <td>Seperability</td>\n",
       "      <td>ANCHOR</td>\n",
       "      <td>21.562500</td>\n",
       "    </tr>\n",
       "    <tr>\n",
       "      <th>13</th>\n",
       "      <td>Similairity</td>\n",
       "      <td>ANCHOR</td>\n",
       "      <td>1.627172</td>\n",
       "    </tr>\n",
       "    <tr>\n",
       "      <th>14</th>\n",
       "      <td>Comp_Efficiency</td>\n",
       "      <td>ANCHOR</td>\n",
       "      <td>2832.940816</td>\n",
       "    </tr>\n",
       "    <tr>\n",
       "      <th>15</th>\n",
       "      <td>Identity</td>\n",
       "      <td>DiCE</td>\n",
       "      <td>12.846154</td>\n",
       "    </tr>\n",
       "    <tr>\n",
       "      <th>16</th>\n",
       "      <td>Stability</td>\n",
       "      <td>DiCE</td>\n",
       "      <td>56.923077</td>\n",
       "    </tr>\n",
       "    <tr>\n",
       "      <th>17</th>\n",
       "      <td>Seperability</td>\n",
       "      <td>DiCE</td>\n",
       "      <td>47.000000</td>\n",
       "    </tr>\n",
       "    <tr>\n",
       "      <th>18</th>\n",
       "      <td>Similairity</td>\n",
       "      <td>DiCE</td>\n",
       "      <td>15.997687</td>\n",
       "    </tr>\n",
       "    <tr>\n",
       "      <th>19</th>\n",
       "      <td>Comp_Efficiency</td>\n",
       "      <td>DiCE</td>\n",
       "      <td>85.974151</td>\n",
       "    </tr>\n",
       "  </tbody>\n",
       "</table>\n",
       "</div>"
      ],
      "text/plain": [
       "             Metric  Method        Score\n",
       "0          Identity    SHAP    41.307692\n",
       "1         Stability    SHAP    58.000000\n",
       "2      Seperability    SHAP    97.384615\n",
       "3       Similairity    SHAP     0.280949\n",
       "4   Comp_Efficiency    SHAP   390.281732\n",
       "5          Identity    LIME     4.617993\n",
       "6         Stability    LIME    49.773153\n",
       "7      Seperability    LIME    96.769231\n",
       "8       Similairity    LIME     0.589751\n",
       "9   Comp_Efficiency    LIME   738.144645\n",
       "10         Identity  ANCHOR     9.687500\n",
       "11        Stability  ANCHOR    49.921875\n",
       "12     Seperability  ANCHOR    21.562500\n",
       "13      Similairity  ANCHOR     1.627172\n",
       "14  Comp_Efficiency  ANCHOR  2832.940816\n",
       "15         Identity    DiCE    12.846154\n",
       "16        Stability    DiCE    56.923077\n",
       "17     Seperability    DiCE    47.000000\n",
       "18      Similairity    DiCE    15.997687\n",
       "19  Comp_Efficiency    DiCE    85.974151"
      ]
     },
     "execution_count": 31,
     "metadata": {},
     "output_type": "execute_result"
    }
   ],
   "source": [
    "reshaped_data"
   ]
  },
  {
   "cell_type": "code",
   "execution_count": 32,
   "id": "e1cd6fd4-110a-4d5d-98af-3c74b30f8720",
   "metadata": {},
   "outputs": [
    {
     "data": {
      "image/png": "[encoded data removed]",
      "text/plain": [
       "<Figure size 864x576 with 1 Axes>"
      ]
     },
     "metadata": {
      "needs_background": "light"
     },
     "output_type": "display_data"
    }
   ],
   "source": [
    "# Creating and displaying a Box Plot\n",
    "plt.figure(figsize=(12, 8)) # Adjust the figure size as needed\n",
    "sns.boxplot(x='Method', y='Score', data=reshaped_data, showfliers=False)\n",
    "plt.title('Box Plot of XAI Methods')\n",
    "plt.ylabel('Scores')\n",
    "plt.xlabel('XAI Methods')\n",
    "plt.show() # Display the first plot"
   ]
  },
  {
   "cell_type": "markdown",
   "id": "f5456390-6e4d-4428-a669-73a36e670605",
   "metadata": {},
   "source": [
    "### Violin Plot\n",
    "In the Violin Plot, similar to the box plot, the x-axis correctly represents the XAI methods:\n",
    "\n",
    "The width of the plot at different score values indicates the density of scores.\n",
    "\n",
    "It combines features of the box plot, like the median and IQR, with the kernel density estimation.\n",
    "\n",
    "This plot provides a fuller picture of the distribution of scores, showing both the range and the density of scores for each method."
   ]
  },
  {
   "cell_type": "markdown",
   "id": "8df8681f-34fc-40a8-99c6-8843cee34c02",
   "metadata": {},
   "source": [
    "Use the \"scale='width'\" option to render Violin Plot graph"
   ]
  },
  {
   "cell_type": "code",
   "execution_count": 33,
   "id": "5af359e7-a1dc-4517-baf9-e3a30a39eb3d",
   "metadata": {},
   "outputs": [
    {
     "data": {
      "image/png": "[encoded data removed]",
      "text/plain": [
       "<Figure size 864x720 with 1 Axes>"
      ]
     },
     "metadata": {
      "needs_background": "light"
     },
     "output_type": "display_data"
    }
   ],
   "source": [
    "# Creating a horizontal Violin Plot\n",
    "plt.figure(figsize=(12, 10))\n",
    "sns.violinplot(x='Score', y='Method', data=reshaped_data, scale='width')\n",
    "plt.title('Horizontal Violin Plot of XAI Methods')\n",
    "plt.xlabel('Scores')\n",
    "plt.ylabel('XAI Methods')\n",
    "plt.show()"
   ]
  },
  {
   "cell_type": "markdown",
   "id": "20bb43dd-83c0-4130-acf3-72cb230cb7c3",
   "metadata": {},
   "source": [
    "## Plots Summary"
   ]
  },
  {
   "cell_type": "markdown",
   "id": "cbd7c4a1-5054-446a-8ab1-267acbd9cfdf",
   "metadata": {},
   "source": [
    "These visualizations accurately reflect the distribution of scores across the four XAI methods. \n",
    "\n",
    "They allow for a comprehensive comparison, showing not only the range and central tendencies but also the distribution patterns of scores for SHAP, LIME, ANCHORS, and DiCE. \n",
    "\n",
    "The box plot highlights the spread and central measures, while the violin plot offers a deeper insight into the density and distribution of the scores."
   ]
  },
  {
   "cell_type": "markdown",
   "id": "431d18bf-dcdb-4602-846d-36a3dc238ffa",
   "metadata": {},
   "source": [
    "# Wilcoxon Signed-Rank Test Analysis"
   ]
  },
  {
   "cell_type": "markdown",
   "id": "87cc284e-d936-453b-8b7b-b6d0db266c98",
   "metadata": {},
   "source": [
    "\n",
    "The Wilcoxon signed-rank test is a non-parametric test used to compare two related samples to assess whether their population mean ranks differ. \n",
    "It's an alternative to the paired t-test when the data cannot be assumed to be normally distributed."
   ]
  },
  {
   "cell_type": "markdown",
   "id": "9009a8e4-952c-4fbb-aa91-09658bdab204",
   "metadata": {},
   "source": [
    "## Wilcoxon Function"
   ]
  },
  {
   "cell_type": "markdown",
   "id": "18196f19-08ad-4cec-9a5f-b383c2a2bfc8",
   "metadata": {},
   "source": [
    "Focus on 'XAI_Identity' as an example"
   ]
  },
  {
   "cell_type": "code",
   "execution_count": 34,
   "id": "a6babc90-7e4d-466c-b44f-f91b3892e81c",
   "metadata": {},
   "outputs": [],
   "source": [
    "# Focus on 'XAI_Identity' as an example\n",
    "metric_to_analyze = 'XAI_Identity'\n",
    "data_for_analysis = combined_df_melt[combined_df_melt['Metric'] == metric_to_analyze]"
   ]
  },
  {
   "cell_type": "code",
   "execution_count": 35,
   "id": "dd429adb-4791-4aea-8521-526242c4ac9f",
   "metadata": {},
   "outputs": [],
   "source": [
    "# Techniques to compare\n",
    "techniques = data_for_analysis['Technique'].unique()"
   ]
  },
  {
   "cell_type": "code",
   "execution_count": 36,
   "id": "5f818a19-e3b4-4b0b-a75c-8945ae6fdf30",
   "metadata": {},
   "outputs": [],
   "source": [
    "# Pairwise comparisons\n",
    "pairwise_comparisons = list(itertools.combinations(techniques, 2))"
   ]
  },
  {
   "cell_type": "code",
   "execution_count": 37,
   "id": "99e6c06a-e7a7-47cc-972d-a1896adcdc47",
   "metadata": {},
   "outputs": [],
   "source": [
    "# Initialize a dictionary to store results\n",
    "wilcoxon_results = {}"
   ]
  },
  {
   "cell_type": "code",
   "execution_count": 38,
   "id": "cd1ca3a7-0b3f-46d4-9531-3883796b4ab4",
   "metadata": {},
   "outputs": [],
   "source": [
    "# Conduct Wilcoxon signed-rank test for each pair\n",
    "for pair in pairwise_comparisons:\n",
    "    scores1 = data_for_analysis[data_for_analysis['Technique'] == pair[0]]['Score'].values\n",
    "    scores2 = data_for_analysis[data_for_analysis['Technique'] == pair[1]]['Score'].values\n",
    "    \n",
    "    # Perform Wilcoxon signed-rank test\n",
    "    statistic, p_value = wilcoxon(scores1, scores2)\n",
    "    \n",
    "    # Store results with Bonferroni correction applied (adjust for 6 comparisons)\n",
    "    corrected_p_value = p_value * len(pairwise_comparisons)\n",
    "    wilcoxon_results[pair] = {\n",
    "        'Statistic': statistic,\n",
    "        'p-value': corrected_p_value,\n",
    "        'Significant Difference': 'Yes' if corrected_p_value < 0.05 else 'No'\n",
    "    }"
   ]
  },
  {
   "cell_type": "code",
   "execution_count": 39,
   "id": "3eb339c8-4a7a-4109-bb82-7d953c3896b1",
   "metadata": {},
   "outputs": [],
   "source": [
    "# Convert results to DataFrame for easier viewing\n",
    "wilcoxon_results_df = pd.DataFrame(wilcoxon_results).T"
   ]
  },
  {
   "cell_type": "code",
   "execution_count": 40,
   "id": "591e67a3-e1e0-40b9-8fc1-ebdf7356fee7",
   "metadata": {},
   "outputs": [
    {
     "data": {
      "text/html": [
       "<div>\n",
       "<style scoped>\n",
       "    .dataframe tbody tr th:only-of-type {\n",
       "        vertical-align: middle;\n",
       "    }\n",
       "\n",
       "    .dataframe tbody tr th {\n",
       "        vertical-align: top;\n",
       "    }\n",
       "\n",
       "    .dataframe thead th {\n",
       "        text-align: right;\n",
       "    }\n",
       "</style>\n",
       "<table border=\"1\" class=\"dataframe\">\n",
       "  <thead>\n",
       "    <tr style=\"text-align: right;\">\n",
       "      <th></th>\n",
       "      <th></th>\n",
       "      <th>Statistic</th>\n",
       "      <th>p-value</th>\n",
       "      <th>Significant Difference</th>\n",
       "    </tr>\n",
       "  </thead>\n",
       "  <tbody>\n",
       "    <tr>\n",
       "      <th rowspan=\"3\" valign=\"top\">SHAP</th>\n",
       "      <th>LIME</th>\n",
       "      <td>0.0</td>\n",
       "      <td>0.000011</td>\n",
       "      <td>Yes</td>\n",
       "    </tr>\n",
       "    <tr>\n",
       "      <th>ANCHORS</th>\n",
       "      <td>0.0</td>\n",
       "      <td>0.000011</td>\n",
       "      <td>Yes</td>\n",
       "    </tr>\n",
       "    <tr>\n",
       "      <th>DiCE</th>\n",
       "      <td>0.0</td>\n",
       "      <td>0.000011</td>\n",
       "      <td>Yes</td>\n",
       "    </tr>\n",
       "    <tr>\n",
       "      <th rowspan=\"2\" valign=\"top\">LIME</th>\n",
       "      <th>ANCHORS</th>\n",
       "      <td>25.0</td>\n",
       "      <td>0.010139</td>\n",
       "      <td>Yes</td>\n",
       "    </tr>\n",
       "    <tr>\n",
       "      <th>DiCE</th>\n",
       "      <td>9.0</td>\n",
       "      <td>0.000378</td>\n",
       "      <td>Yes</td>\n",
       "    </tr>\n",
       "    <tr>\n",
       "      <th>ANCHORS</th>\n",
       "      <th>DiCE</th>\n",
       "      <td>62.0</td>\n",
       "      <td>0.683922</td>\n",
       "      <td>No</td>\n",
       "    </tr>\n",
       "  </tbody>\n",
       "</table>\n",
       "</div>"
      ],
      "text/plain": [
       "                Statistic   p-value Significant Difference\n",
       "SHAP    LIME          0.0  0.000011                    Yes\n",
       "        ANCHORS       0.0  0.000011                    Yes\n",
       "        DiCE          0.0  0.000011                    Yes\n",
       "LIME    ANCHORS      25.0  0.010139                    Yes\n",
       "        DiCE          9.0  0.000378                    Yes\n",
       "ANCHORS DiCE         62.0  0.683922                     No"
      ]
     },
     "execution_count": 40,
     "metadata": {},
     "output_type": "execute_result"
    }
   ],
   "source": [
    "wilcoxon_results_df"
   ]
  },
  {
   "cell_type": "markdown",
   "id": "cdce9f48-c708-49ac-bfe6-fdc485378dbc",
   "metadata": {},
   "source": [
    "## Extend Pairwise Test Function"
   ]
  },
  {
   "cell_type": "code",
   "execution_count": 41,
   "id": "57298281-9c8c-4535-b4d0-24eeb244f154",
   "metadata": {},
   "outputs": [],
   "source": [
    "# Metrics to analyze, excluding 'XAI_Stability'\n",
    "metrics_to_analyze = ['XAI_Seperability', 'XAI_Similairity', 'Comp_Efficiency']"
   ]
  },
  {
   "cell_type": "code",
   "execution_count": 42,
   "id": "d78c0138-6d1e-4f92-9c5b-6131bb84f9cb",
   "metadata": {},
   "outputs": [],
   "source": [
    "# Initialize a dictionary to store results for all metrics\n",
    "all_metrics_wilcoxon_results = {}"
   ]
  },
  {
   "cell_type": "code",
   "execution_count": 43,
   "id": "e3b39bbe-217b-4c54-bc3a-9618b1abfca5",
   "metadata": {},
   "outputs": [],
   "source": [
    "for metric in metrics_to_analyze:\n",
    "    # Extract data for the current metric\n",
    "    data_for_metric = combined_df_melt[combined_df_melt['Metric'] == metric]\n",
    "    \n",
    "    # Dictionary to store results for this metric\n",
    "    metric_wilcoxon_results = {}\n",
    "    \n",
    "    # Conduct Wilcoxon signed-rank test for each pair for this metric\n",
    "    for pair in pairwise_comparisons:\n",
    "        scores1 = data_for_metric[data_for_metric['Technique'] == pair[0]]['Score'].values\n",
    "        scores2 = data_for_metric[data_for_metric['Technique'] == pair[1]]['Score'].values\n",
    "        \n",
    "        # Perform Wilcoxon signed-rank test\n",
    "        statistic, p_value = wilcoxon(scores1, scores2)\n",
    "        \n",
    "        # Apply Bonferroni correction (adjust for the number of pairwise comparisons across all metrics)\n",
    "        total_comparisons = len(pairwise_comparisons) * len(metrics_to_analyze)\n",
    "        corrected_p_value = p_value * total_comparisons\n",
    "        \n",
    "        # Ensure the corrected p-value does not exceed 1\n",
    "        corrected_p_value = min(corrected_p_value, 1)\n",
    "        \n",
    "        metric_wilcoxon_results[pair] = {\n",
    "            'Statistic': statistic,\n",
    "            'p-value': corrected_p_value,\n",
    "            'Significant Difference': 'Yes' if corrected_p_value < 0.05 else 'No'\n",
    "        }\n",
    "    \n",
    "    # Add results for this metric to the overall results\n",
    "    all_metrics_wilcoxon_results[metric] = metric_wilcoxon_results"
   ]
  },
  {
   "cell_type": "code",
   "execution_count": 44,
   "id": "4d1b46ef-86e8-4d4a-b6d2-f7e76c2b3540",
   "metadata": {},
   "outputs": [],
   "source": [
    "# Since the output might be extensive, let's display a summary instead of the full details\n",
    "summary_results = {metric: pd.DataFrame(results).T['Significant Difference'].value_counts() \n",
    "                   for metric, results in all_metrics_wilcoxon_results.items()}"
   ]
  },
  {
   "cell_type": "code",
   "execution_count": 45,
   "id": "e7b34be7-1366-48df-8ec9-0a8b8c49b053",
   "metadata": {},
   "outputs": [],
   "source": [
    "summary_results_df = pd.DataFrame(summary_results)"
   ]
  },
  {
   "cell_type": "code",
   "execution_count": 46,
   "id": "3c03942b-de7f-4d84-9100-39a53f73ae8c",
   "metadata": {},
   "outputs": [
    {
     "data": {
      "text/html": [
       "<div>\n",
       "<style scoped>\n",
       "    .dataframe tbody tr th:only-of-type {\n",
       "        vertical-align: middle;\n",
       "    }\n",
       "\n",
       "    .dataframe tbody tr th {\n",
       "        vertical-align: top;\n",
       "    }\n",
       "\n",
       "    .dataframe thead th {\n",
       "        text-align: right;\n",
       "    }\n",
       "</style>\n",
       "<table border=\"1\" class=\"dataframe\">\n",
       "  <thead>\n",
       "    <tr style=\"text-align: right;\">\n",
       "      <th></th>\n",
       "      <th>XAI_Seperability</th>\n",
       "      <th>XAI_Similairity</th>\n",
       "      <th>Comp_Efficiency</th>\n",
       "    </tr>\n",
       "  </thead>\n",
       "  <tbody>\n",
       "    <tr>\n",
       "      <th>No</th>\n",
       "      <td>1</td>\n",
       "      <td>NaN</td>\n",
       "      <td>NaN</td>\n",
       "    </tr>\n",
       "    <tr>\n",
       "      <th>Yes</th>\n",
       "      <td>5</td>\n",
       "      <td>6.0</td>\n",
       "      <td>6.0</td>\n",
       "    </tr>\n",
       "  </tbody>\n",
       "</table>\n",
       "</div>"
      ],
      "text/plain": [
       "     XAI_Seperability  XAI_Similairity  Comp_Efficiency\n",
       "No                  1              NaN              NaN\n",
       "Yes                 5              6.0              6.0"
      ]
     },
     "execution_count": 46,
     "metadata": {},
     "output_type": "execute_result"
    }
   ],
   "source": [
    "summary_results_df"
   ]
  },
  {
   "cell_type": "code",
   "execution_count": 50,
   "id": "4b3ca647-16d3-4fb6-82a3-7ac1cedd00f3",
   "metadata": {},
   "outputs": [],
   "source": [
    "# Reformatting the detailed results for display\n",
    "detailed_results_dfs = []"
   ]
  },
  {
   "cell_type": "code",
   "execution_count": 51,
   "id": "ec6c864b-d308-4989-8c19-d11f3e7309fa",
   "metadata": {},
   "outputs": [],
   "source": [
    "for metric, results in all_metrics_wilcoxon_results.items():\n",
    "    df = pd.DataFrame(results).T.reset_index()\n",
    "    df.rename(columns={'level_0': 'Technique 1', 'level_1': 'Technique 2', 'Statistic': 'Statistic', \n",
    "                       'p-value': 'Corrected p-value', 'Significant Difference': 'Significant'}, inplace=True)\n",
    "    df['Metric'] = metric\n",
    "    detailed_results_dfs.append(df[['Metric', 'Technique 1', 'Technique 2', 'Statistic', 'Corrected p-value', \n",
    "                                    'Significant']])"
   ]
  },
  {
   "cell_type": "code",
   "execution_count": 52,
   "id": "49e04c6a-a0bd-45b9-ad19-d4597c91aac8",
   "metadata": {},
   "outputs": [],
   "source": [
    "# Combine all detailed results into a single DataFrame for display\n",
    "detailed_results_combined_df = pd.concat(detailed_results_dfs, ignore_index=True).sort_values(by=['Metric', 'Technique 1'])"
   ]
  },
  {
   "cell_type": "code",
   "execution_count": 53,
   "id": "4e32ff87-3f71-4fcc-8064-b766014d9175",
   "metadata": {},
   "outputs": [
    {
     "data": {
      "text/html": [
       "<div>\n",
       "<style scoped>\n",
       "    .dataframe tbody tr th:only-of-type {\n",
       "        vertical-align: middle;\n",
       "    }\n",
       "\n",
       "    .dataframe tbody tr th {\n",
       "        vertical-align: top;\n",
       "    }\n",
       "\n",
       "    .dataframe thead th {\n",
       "        text-align: right;\n",
       "    }\n",
       "</style>\n",
       "<table border=\"1\" class=\"dataframe\">\n",
       "  <thead>\n",
       "    <tr style=\"text-align: right;\">\n",
       "      <th></th>\n",
       "      <th>Metric</th>\n",
       "      <th>Technique 1</th>\n",
       "      <th>Technique 2</th>\n",
       "      <th>Statistic</th>\n",
       "      <th>Corrected p-value</th>\n",
       "      <th>Significant</th>\n",
       "    </tr>\n",
       "  </thead>\n",
       "  <tbody>\n",
       "    <tr>\n",
       "      <th>17</th>\n",
       "      <td>Comp_Efficiency</td>\n",
       "      <td>ANCHORS</td>\n",
       "      <td>DiCE</td>\n",
       "      <td>0.0</td>\n",
       "      <td>0.000034</td>\n",
       "      <td>Yes</td>\n",
       "    </tr>\n",
       "    <tr>\n",
       "      <th>15</th>\n",
       "      <td>Comp_Efficiency</td>\n",
       "      <td>LIME</td>\n",
       "      <td>ANCHORS</td>\n",
       "      <td>0.0</td>\n",
       "      <td>0.000034</td>\n",
       "      <td>Yes</td>\n",
       "    </tr>\n",
       "    <tr>\n",
       "      <th>16</th>\n",
       "      <td>Comp_Efficiency</td>\n",
       "      <td>LIME</td>\n",
       "      <td>DiCE</td>\n",
       "      <td>0.0</td>\n",
       "      <td>0.000034</td>\n",
       "      <td>Yes</td>\n",
       "    </tr>\n",
       "    <tr>\n",
       "      <th>12</th>\n",
       "      <td>Comp_Efficiency</td>\n",
       "      <td>SHAP</td>\n",
       "      <td>LIME</td>\n",
       "      <td>0.0</td>\n",
       "      <td>0.000034</td>\n",
       "      <td>Yes</td>\n",
       "    </tr>\n",
       "    <tr>\n",
       "      <th>13</th>\n",
       "      <td>Comp_Efficiency</td>\n",
       "      <td>SHAP</td>\n",
       "      <td>ANCHORS</td>\n",
       "      <td>0.0</td>\n",
       "      <td>0.000034</td>\n",
       "      <td>Yes</td>\n",
       "    </tr>\n",
       "    <tr>\n",
       "      <th>14</th>\n",
       "      <td>Comp_Efficiency</td>\n",
       "      <td>SHAP</td>\n",
       "      <td>DiCE</td>\n",
       "      <td>0.0</td>\n",
       "      <td>0.000034</td>\n",
       "      <td>Yes</td>\n",
       "    </tr>\n",
       "    <tr>\n",
       "      <th>5</th>\n",
       "      <td>XAI_Seperability</td>\n",
       "      <td>ANCHORS</td>\n",
       "      <td>DiCE</td>\n",
       "      <td>0.0</td>\n",
       "      <td>0.000034</td>\n",
       "      <td>Yes</td>\n",
       "    </tr>\n",
       "    <tr>\n",
       "      <th>3</th>\n",
       "      <td>XAI_Seperability</td>\n",
       "      <td>LIME</td>\n",
       "      <td>ANCHORS</td>\n",
       "      <td>0.0</td>\n",
       "      <td>0.000034</td>\n",
       "      <td>Yes</td>\n",
       "    </tr>\n",
       "    <tr>\n",
       "      <th>4</th>\n",
       "      <td>XAI_Seperability</td>\n",
       "      <td>LIME</td>\n",
       "      <td>DiCE</td>\n",
       "      <td>0.0</td>\n",
       "      <td>0.000034</td>\n",
       "      <td>Yes</td>\n",
       "    </tr>\n",
       "    <tr>\n",
       "      <th>0</th>\n",
       "      <td>XAI_Seperability</td>\n",
       "      <td>SHAP</td>\n",
       "      <td>LIME</td>\n",
       "      <td>48.5</td>\n",
       "      <td>1</td>\n",
       "      <td>No</td>\n",
       "    </tr>\n",
       "    <tr>\n",
       "      <th>1</th>\n",
       "      <td>XAI_Seperability</td>\n",
       "      <td>SHAP</td>\n",
       "      <td>ANCHORS</td>\n",
       "      <td>0.0</td>\n",
       "      <td>0.000034</td>\n",
       "      <td>Yes</td>\n",
       "    </tr>\n",
       "    <tr>\n",
       "      <th>2</th>\n",
       "      <td>XAI_Seperability</td>\n",
       "      <td>SHAP</td>\n",
       "      <td>DiCE</td>\n",
       "      <td>0.0</td>\n",
       "      <td>0.000034</td>\n",
       "      <td>Yes</td>\n",
       "    </tr>\n",
       "    <tr>\n",
       "      <th>11</th>\n",
       "      <td>XAI_Similairity</td>\n",
       "      <td>ANCHORS</td>\n",
       "      <td>DiCE</td>\n",
       "      <td>0.0</td>\n",
       "      <td>0.000034</td>\n",
       "      <td>Yes</td>\n",
       "    </tr>\n",
       "    <tr>\n",
       "      <th>9</th>\n",
       "      <td>XAI_Similairity</td>\n",
       "      <td>LIME</td>\n",
       "      <td>ANCHORS</td>\n",
       "      <td>0.0</td>\n",
       "      <td>0.000034</td>\n",
       "      <td>Yes</td>\n",
       "    </tr>\n",
       "    <tr>\n",
       "      <th>10</th>\n",
       "      <td>XAI_Similairity</td>\n",
       "      <td>LIME</td>\n",
       "      <td>DiCE</td>\n",
       "      <td>0.0</td>\n",
       "      <td>0.000034</td>\n",
       "      <td>Yes</td>\n",
       "    </tr>\n",
       "    <tr>\n",
       "      <th>6</th>\n",
       "      <td>XAI_Similairity</td>\n",
       "      <td>SHAP</td>\n",
       "      <td>LIME</td>\n",
       "      <td>0.0</td>\n",
       "      <td>0.000034</td>\n",
       "      <td>Yes</td>\n",
       "    </tr>\n",
       "    <tr>\n",
       "      <th>7</th>\n",
       "      <td>XAI_Similairity</td>\n",
       "      <td>SHAP</td>\n",
       "      <td>ANCHORS</td>\n",
       "      <td>0.0</td>\n",
       "      <td>0.000034</td>\n",
       "      <td>Yes</td>\n",
       "    </tr>\n",
       "    <tr>\n",
       "      <th>8</th>\n",
       "      <td>XAI_Similairity</td>\n",
       "      <td>SHAP</td>\n",
       "      <td>DiCE</td>\n",
       "      <td>0.0</td>\n",
       "      <td>0.000034</td>\n",
       "      <td>Yes</td>\n",
       "    </tr>\n",
       "  </tbody>\n",
       "</table>\n",
       "</div>"
      ],
      "text/plain": [
       "              Metric Technique 1 Technique 2 Statistic Corrected p-value  \\\n",
       "17   Comp_Efficiency     ANCHORS        DiCE       0.0          0.000034   \n",
       "15   Comp_Efficiency        LIME     ANCHORS       0.0          0.000034   \n",
       "16   Comp_Efficiency        LIME        DiCE       0.0          0.000034   \n",
       "12   Comp_Efficiency        SHAP        LIME       0.0          0.000034   \n",
       "13   Comp_Efficiency        SHAP     ANCHORS       0.0          0.000034   \n",
       "14   Comp_Efficiency        SHAP        DiCE       0.0          0.000034   \n",
       "5   XAI_Seperability     ANCHORS        DiCE       0.0          0.000034   \n",
       "3   XAI_Seperability        LIME     ANCHORS       0.0          0.000034   \n",
       "4   XAI_Seperability        LIME        DiCE       0.0          0.000034   \n",
       "0   XAI_Seperability        SHAP        LIME      48.5                 1   \n",
       "1   XAI_Seperability        SHAP     ANCHORS       0.0          0.000034   \n",
       "2   XAI_Seperability        SHAP        DiCE       0.0          0.000034   \n",
       "11   XAI_Similairity     ANCHORS        DiCE       0.0          0.000034   \n",
       "9    XAI_Similairity        LIME     ANCHORS       0.0          0.000034   \n",
       "10   XAI_Similairity        LIME        DiCE       0.0          0.000034   \n",
       "6    XAI_Similairity        SHAP        LIME       0.0          0.000034   \n",
       "7    XAI_Similairity        SHAP     ANCHORS       0.0          0.000034   \n",
       "8    XAI_Similairity        SHAP        DiCE       0.0          0.000034   \n",
       "\n",
       "   Significant  \n",
       "17         Yes  \n",
       "15         Yes  \n",
       "16         Yes  \n",
       "12         Yes  \n",
       "13         Yes  \n",
       "14         Yes  \n",
       "5          Yes  \n",
       "3          Yes  \n",
       "4          Yes  \n",
       "0           No  \n",
       "1          Yes  \n",
       "2          Yes  \n",
       "11         Yes  \n",
       "9          Yes  \n",
       "10         Yes  \n",
       "6          Yes  \n",
       "7          Yes  \n",
       "8          Yes  "
      ]
     },
     "execution_count": 53,
     "metadata": {},
     "output_type": "execute_result"
    }
   ],
   "source": [
    "detailed_results_combined_df"
   ]
  },
  {
   "cell_type": "markdown",
   "id": "c23f6153-ff2b-409b-a14c-7a2d097a1833",
   "metadata": {},
   "source": [
    "## Perform Tests"
   ]
  },
  {
   "cell_type": "markdown",
   "id": "e108c392-b940-4d90-be32-fb9b4fd317a8",
   "metadata": {},
   "source": [
    "### Density Analysis"
   ]
  },
  {
   "cell_type": "code",
   "execution_count": 48,
   "id": "080c9841-57c8-4ca7-a49b-e478905e4950",
   "metadata": {},
   "outputs": [
    {
     "data": {
      "image/png": "[encoded data removed]",
      "text/plain": [
       "<Figure size 720x432 with 1 Axes>"
      ]
     },
     "metadata": {
      "needs_background": "light"
     },
     "output_type": "display_data"
    }
   ],
   "source": [
    "import numpy as np\n",
    "\n",
    "# Applying a log transformation to the scores\n",
    "reshaped_data_log = reshaped_data.copy()\n",
    "reshaped_data_log['Log_Score'] = reshaped_data_log['Score'].apply(lambda x: np.log(x+1))  # Adding 1 to avoid log(0)\n",
    "\n",
    "# Creating a density plot with log-transformed scores\n",
    "plt.figure(figsize=(10, 6))\n",
    "sns.kdeplot(data=reshaped_data_log, x='Log_Score', hue='Method', shade=True, palette=\"bright\")\n",
    "plt.title('Density Plot of Log-Transformed Scores for All XAI Methods Across All Metrics')\n",
    "plt.xlabel('Log-Score')\n",
    "plt.ylabel('Density')\n",
    "plt.show()"
   ]
  }
 ],
 "metadata": {
  "kernelspec": {
   "display_name": "Python 3 (ipykernel)",
   "language": "python",
   "name": "python3"
  },
  "language_info": {
   "codemirror_mode": {
    "name": "ipython",
    "version": 3
   },
   "file_extension": ".py",
   "mimetype": "text/x-python",
   "name": "python",
   "nbconvert_exporter": "python",
   "pygments_lexer": "ipython3",
   "version": "3.8.10"
  }
 },
 "nbformat": 4,
 "nbformat_minor": 5
}
