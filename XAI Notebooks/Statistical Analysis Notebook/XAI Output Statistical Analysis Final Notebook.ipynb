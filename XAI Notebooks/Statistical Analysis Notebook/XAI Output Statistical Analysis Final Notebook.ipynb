{
 "cells": [
  {
   "cell_type": "markdown",
   "id": "ba4a435f-f6ca-40cc-851f-25f00af982da",
   "metadata": {
    "tags": []
   },
   "source": [
    "# Disseration Experiment FriedB\n",
    "# Friedman Analysis + W Signed Test - April 2024¶\n",
    "Ciaran Finnegan April 2024"
   ]
  },
  {
   "cell_type": "markdown",
   "id": "7b55a510-5820-40f8-a61c-b643e2bfba2d",
   "metadata": {},
   "source": [
    "This is the corrected final statistical analysis with the XAI experiment outputs as input test data."
   ]
  },
  {
   "cell_type": "markdown",
   "id": "169cab00-4ac9-4bf2-979d-484c4f53a2e7",
   "metadata": {},
   "source": [
    "The purpose was to correct an error in the original statistical analysis."
   ]
  },
  {
   "cell_type": "markdown",
   "id": "f31c348a-5114-49fa-8b90-6d17504f3621",
   "metadata": {},
   "source": [
    "The 20 results from the five custom evaluation metrics in each of the four XAI technique XLs are read directly as input."
   ]
  },
  {
   "cell_type": "markdown",
   "id": "a12cca9a-5cdc-4d26-a185-9cf2e21216c3",
   "metadata": {},
   "source": [
    "The input data is not averaged per XAI method, and the significance tests are conducted using all the sample data directly."
   ]
  },
  {
   "cell_type": "markdown",
   "id": "e12b9cb4-7699-4e0d-966a-07ebbb78e8a5",
   "metadata": {},
   "source": [
    "# Import Libraries + Custom Functions"
   ]
  },
  {
   "cell_type": "markdown",
   "id": "e877f7ec-550c-4e33-85f6-c8c6667ccc8a",
   "metadata": {},
   "source": [
    "## Import Libraries"
   ]
  },
  {
   "cell_type": "code",
   "execution_count": 1,
   "id": "4c868911-61cf-4823-8b04-f0d42c940d2e",
   "metadata": {},
   "outputs": [],
   "source": [
    "import pandas as pd\n",
    "import numpy as np\n",
    "import itertools\n",
    "import seaborn as sns\n",
    "import matplotlib.pyplot as plt\n",
    "from scipy.stats import friedmanchisquare\n",
    "from scipy.stats import wilcoxon"
   ]
  },
  {
   "cell_type": "markdown",
   "id": "f3ee9a9d-0172-4fd5-b1fd-97e60dde4387",
   "metadata": {},
   "source": [
    "#### Suppress Warnings to clean up output"
   ]
  },
  {
   "cell_type": "code",
   "execution_count": 2,
   "id": "be78f652-2837-4c89-95eb-9f2e42c20746",
   "metadata": {},
   "outputs": [],
   "source": [
    "import warnings\n",
    "warnings.simplefilter(action='ignore', category=Warning)"
   ]
  },
  {
   "cell_type": "markdown",
   "id": "1cb2fc33-ed87-47e0-9798-248a3c9c3c17",
   "metadata": {},
   "source": [
    "# Load Excel Data"
   ]
  },
  {
   "cell_type": "markdown",
   "id": "31c4509a-516f-4d5e-bbab-58cce9777d5e",
   "metadata": {},
   "source": [
    "## Extract XAI (Mean) Experiment Values from EXCEL"
   ]
  },
  {
   "cell_type": "code",
   "execution_count": 3,
   "id": "c57dd0e6-a28c-4572-a276-0313d8da342f",
   "metadata": {},
   "outputs": [],
   "source": [
    "# Load the data from an Excel file\n",
    "data = pd.read_excel('XAI_StatTest2_RowLables_v1.xlsx')\n",
    "\n",
    "# Extracting the values for each XAI method\n",
    "shap = data['SHAP'].values\n",
    "lime = data['LIME'].values\n",
    "anchors = data['ANCHOR'].values\n",
    "dice = data['DiCE'].values"
   ]
  },
  {
   "cell_type": "code",
   "execution_count": 4,
   "id": "1e372a1f-6a75-43e9-a7d7-fd826a14b32e",
   "metadata": {},
   "outputs": [
    {
     "data": {
      "text/html": [
       "<div>\n",
       "<style scoped>\n",
       "    .dataframe tbody tr th:only-of-type {\n",
       "        vertical-align: middle;\n",
       "    }\n",
       "\n",
       "    .dataframe tbody tr th {\n",
       "        vertical-align: top;\n",
       "    }\n",
       "\n",
       "    .dataframe thead th {\n",
       "        text-align: right;\n",
       "    }\n",
       "</style>\n",
       "<table border=\"1\" class=\"dataframe\">\n",
       "  <thead>\n",
       "    <tr style=\"text-align: right;\">\n",
       "      <th></th>\n",
       "      <th>Metric</th>\n",
       "      <th>SHAP</th>\n",
       "      <th>LIME</th>\n",
       "      <th>ANCHOR</th>\n",
       "      <th>DiCE</th>\n",
       "    </tr>\n",
       "  </thead>\n",
       "  <tbody>\n",
       "    <tr>\n",
       "      <th>0</th>\n",
       "      <td>Identity</td>\n",
       "      <td>41.307692</td>\n",
       "      <td>4.617993</td>\n",
       "      <td>9.687500</td>\n",
       "      <td>12.846154</td>\n",
       "    </tr>\n",
       "    <tr>\n",
       "      <th>1</th>\n",
       "      <td>Stability</td>\n",
       "      <td>58.000000</td>\n",
       "      <td>49.773153</td>\n",
       "      <td>49.921875</td>\n",
       "      <td>56.923077</td>\n",
       "    </tr>\n",
       "    <tr>\n",
       "      <th>2</th>\n",
       "      <td>Seperability</td>\n",
       "      <td>97.384615</td>\n",
       "      <td>96.769231</td>\n",
       "      <td>21.562500</td>\n",
       "      <td>47.000000</td>\n",
       "    </tr>\n",
       "    <tr>\n",
       "      <th>3</th>\n",
       "      <td>Similairity</td>\n",
       "      <td>0.280949</td>\n",
       "      <td>0.589751</td>\n",
       "      <td>1.627172</td>\n",
       "      <td>15.997687</td>\n",
       "    </tr>\n",
       "    <tr>\n",
       "      <th>4</th>\n",
       "      <td>Comp_Efficiency</td>\n",
       "      <td>390.281732</td>\n",
       "      <td>738.144645</td>\n",
       "      <td>2832.940816</td>\n",
       "      <td>85.974151</td>\n",
       "    </tr>\n",
       "  </tbody>\n",
       "</table>\n",
       "</div>"
      ],
      "text/plain": [
       "            Metric        SHAP        LIME       ANCHOR       DiCE\n",
       "0         Identity   41.307692    4.617993     9.687500  12.846154\n",
       "1        Stability   58.000000   49.773153    49.921875  56.923077\n",
       "2     Seperability   97.384615   96.769231    21.562500  47.000000\n",
       "3      Similairity    0.280949    0.589751     1.627172  15.997687\n",
       "4  Comp_Efficiency  390.281732  738.144645  2832.940816  85.974151"
      ]
     },
     "execution_count": 4,
     "metadata": {},
     "output_type": "execute_result"
    }
   ],
   "source": [
    "data"
   ]
  },
  {
   "cell_type": "markdown",
   "id": "c4b06fed-5415-4889-b1fd-a9f059c8bd50",
   "metadata": {},
   "source": [
    "## Load Full Experiment Data from XL"
   ]
  },
  {
   "cell_type": "markdown",
   "id": "23330822-20bd-490d-bb40-6c1f8cd6820b",
   "metadata": {},
   "source": [
    "#### Set file path for input data from each XAI technique experiment"
   ]
  },
  {
   "cell_type": "code",
   "execution_count": 5,
   "id": "80c95dcd-1757-4a2d-9a64-14addeeb7988",
   "metadata": {},
   "outputs": [],
   "source": [
    "# Filenames of the spreadsheets for each XAI technique\n",
    "filepaths = {\n",
    "    \"SHAP\": \"SHAP_XAI_Metrics_Experiments Formatted cf v1-1 250324.xlsx\",\n",
    "    \"LIME\": \"LIME_XAI_Metrics_Experiments Formatted cf v1-1 250324.xlsx\",\n",
    "    \"ANCHORS\": \"ANCHOR_XAI_Metrics_Experiments Formatted cf v1-1 250324.xlsx\",\n",
    "    \"DiCE\": \"DiCE_XAI_Metrics_Experiments Formatted cf v1-1 250324.xlsx\",\n",
    "}"
   ]
  },
  {
   "cell_type": "code",
   "execution_count": 6,
   "id": "7f3c95fc-719b-48ff-a7ef-af6082f853dc",
   "metadata": {},
   "outputs": [],
   "source": [
    "# Load each spreadsheet into a dataframe\n",
    "dataframes = {technique: pd.read_excel(filepath) for technique, filepath in filepaths.items()}"
   ]
  },
  {
   "cell_type": "code",
   "execution_count": 7,
   "id": "afa64573-3f3c-4a72-b149-e63957846e86",
   "metadata": {},
   "outputs": [
    {
     "data": {
      "text/html": [
       "<div>\n",
       "<style scoped>\n",
       "    .dataframe tbody tr th:only-of-type {\n",
       "        vertical-align: middle;\n",
       "    }\n",
       "\n",
       "    .dataframe tbody tr th {\n",
       "        vertical-align: top;\n",
       "    }\n",
       "\n",
       "    .dataframe thead th {\n",
       "        text-align: right;\n",
       "    }\n",
       "</style>\n",
       "<table border=\"1\" class=\"dataframe\">\n",
       "  <thead>\n",
       "    <tr style=\"text-align: right;\">\n",
       "      <th></th>\n",
       "      <th>Sample Number</th>\n",
       "      <th>XAI_Identity</th>\n",
       "      <th>XAI_Stability</th>\n",
       "      <th>XAI_Seperability</th>\n",
       "      <th>XAI_Similairity</th>\n",
       "      <th>Comp_Efficiency</th>\n",
       "    </tr>\n",
       "  </thead>\n",
       "  <tbody>\n",
       "    <tr>\n",
       "      <th>0</th>\n",
       "      <td>1</td>\n",
       "      <td>40.000000</td>\n",
       "      <td>87.692308</td>\n",
       "      <td>96.923077</td>\n",
       "      <td>0.274628</td>\n",
       "      <td>384.508690</td>\n",
       "    </tr>\n",
       "    <tr>\n",
       "      <th>1</th>\n",
       "      <td>2</td>\n",
       "      <td>46.153846</td>\n",
       "      <td>76.923077</td>\n",
       "      <td>96.923077</td>\n",
       "      <td>0.231959</td>\n",
       "      <td>386.190979</td>\n",
       "    </tr>\n",
       "    <tr>\n",
       "      <th>2</th>\n",
       "      <td>3</td>\n",
       "      <td>49.230769</td>\n",
       "      <td>67.692308</td>\n",
       "      <td>90.769231</td>\n",
       "      <td>0.207120</td>\n",
       "      <td>384.938421</td>\n",
       "    </tr>\n",
       "    <tr>\n",
       "      <th>3</th>\n",
       "      <td>4</td>\n",
       "      <td>36.923077</td>\n",
       "      <td>75.384615</td>\n",
       "      <td>93.846154</td>\n",
       "      <td>0.263651</td>\n",
       "      <td>386.692740</td>\n",
       "    </tr>\n",
       "    <tr>\n",
       "      <th>4</th>\n",
       "      <td>5</td>\n",
       "      <td>47.692308</td>\n",
       "      <td>83.076923</td>\n",
       "      <td>100.000000</td>\n",
       "      <td>0.280038</td>\n",
       "      <td>384.335014</td>\n",
       "    </tr>\n",
       "  </tbody>\n",
       "</table>\n",
       "</div>"
      ],
      "text/plain": [
       "   Sample Number  XAI_Identity  XAI_Stability  XAI_Seperability  \\\n",
       "0              1     40.000000      87.692308         96.923077   \n",
       "1              2     46.153846      76.923077         96.923077   \n",
       "2              3     49.230769      67.692308         90.769231   \n",
       "3              4     36.923077      75.384615         93.846154   \n",
       "4              5     47.692308      83.076923        100.000000   \n",
       "\n",
       "   XAI_Similairity  Comp_Efficiency  \n",
       "0         0.274628       384.508690  \n",
       "1         0.231959       386.190979  \n",
       "2         0.207120       384.938421  \n",
       "3         0.263651       386.692740  \n",
       "4         0.280038       384.335014  "
      ]
     },
     "execution_count": 7,
     "metadata": {},
     "output_type": "execute_result"
    }
   ],
   "source": [
    "# Display the first few rows of one of the dataframes to understand its structure\n",
    "dataframes[\"SHAP\"].head()"
   ]
  },
  {
   "cell_type": "markdown",
   "id": "0e8fce7b-619a-47e4-b4c9-03d6ff9d3d1a",
   "metadata": {},
   "source": [
    "# Friedman Analysis"
   ]
  },
  {
   "cell_type": "markdown",
   "id": "d72b28f0-d913-4012-a89e-31e01e802851",
   "metadata": {},
   "source": [
    "## Perform Friedman Test"
   ]
  },
  {
   "cell_type": "code",
   "execution_count": 8,
   "id": "4cc0eed6-50db-49ea-8236-6258b63f1270",
   "metadata": {},
   "outputs": [],
   "source": [
    "# Prepare the data: Extract the evaluation metrics columns from each dataframe\n",
    "metrics_columns = [\"XAI_Identity\", \"XAI_Stability\", \"XAI_Seperability\", \"XAI_Similairity\", \"Comp_Efficiency\"]\n",
    "data_prepared = {technique: df[metrics_columns] for technique, df in dataframes.items()}"
   ]
  },
  {
   "cell_type": "code",
   "execution_count": 9,
   "id": "fa0a31d3-e3a2-405d-ae9a-0e7c332978c8",
   "metadata": {},
   "outputs": [],
   "source": [
    "# Check if all dataframes have the same shape, ensuring a matched set of observations\n",
    "all_same_shape = all(df.shape == list(data_prepared.values())[0].shape for df in data_prepared.values())\n",
    "\n",
    "if not all_same_shape:\n",
    "    raise ValueError(\"Dataframes have differing shapes, indicating unmatched sets of observations.\")"
   ]
  },
  {
   "cell_type": "code",
   "execution_count": 10,
   "id": "14892890-39b8-4263-9050-e13a5d58e598",
   "metadata": {},
   "outputs": [],
   "source": [
    "# Conduct the Friedman test for each evaluation metric\n",
    "friedman_results = {}\n",
    "\n",
    "for metric in metrics_columns:\n",
    "    \n",
    "    # Extract the corresponding metric across all techniques for the Friedman test\n",
    "    data_for_test = [df[metric] for df in data_prepared.values()]\n",
    "    \n",
    "    # Perform the Friedman test\n",
    "    stat, p_value = friedmanchisquare(*data_for_test)\n",
    "    \n",
    "    # Store results\n",
    "    friedman_results[metric] = {\n",
    "        \"Statistic\": stat, \n",
    "        \"p-Value\": p_value,\n",
    "        'Significant Difference': 'Yes' if p_value < 0.05 else 'No'\n",
    "    }"
   ]
  },
  {
   "cell_type": "code",
   "execution_count": 11,
   "id": "46318a13-8774-4c0b-abcf-ed67c9385a77",
   "metadata": {},
   "outputs": [],
   "source": [
    "# Convert the Friedman test results into a dataframe for display\n",
    "friedman_results_df = pd.DataFrame(friedman_results).T"
   ]
  },
  {
   "cell_type": "markdown",
   "id": "46ef15db-5a86-4ce6-820f-2a4e1d52834e",
   "metadata": {},
   "source": [
    "## Present Friedman Analysis"
   ]
  },
  {
   "cell_type": "code",
   "execution_count": 12,
   "id": "301f8ae2-5e02-4b6c-be0f-8c4ac474fb14",
   "metadata": {},
   "outputs": [
    {
     "data": {
      "text/html": [
       "<div>\n",
       "<style scoped>\n",
       "    .dataframe tbody tr th:only-of-type {\n",
       "        vertical-align: middle;\n",
       "    }\n",
       "\n",
       "    .dataframe tbody tr th {\n",
       "        vertical-align: top;\n",
       "    }\n",
       "\n",
       "    .dataframe thead th {\n",
       "        text-align: right;\n",
       "    }\n",
       "</style>\n",
       "<table border=\"1\" class=\"dataframe\">\n",
       "  <thead>\n",
       "    <tr style=\"text-align: right;\">\n",
       "      <th></th>\n",
       "      <th>Statistic</th>\n",
       "      <th>p-Value</th>\n",
       "      <th>Significant Difference</th>\n",
       "    </tr>\n",
       "  </thead>\n",
       "  <tbody>\n",
       "    <tr>\n",
       "      <th>XAI_Identity</th>\n",
       "      <td>47.76</td>\n",
       "      <td>0.0</td>\n",
       "      <td>Yes</td>\n",
       "    </tr>\n",
       "    <tr>\n",
       "      <th>XAI_Stability</th>\n",
       "      <td>1.56</td>\n",
       "      <td>0.668493</td>\n",
       "      <td>No</td>\n",
       "    </tr>\n",
       "    <tr>\n",
       "      <th>XAI_Seperability</th>\n",
       "      <td>55.4</td>\n",
       "      <td>0.0</td>\n",
       "      <td>Yes</td>\n",
       "    </tr>\n",
       "    <tr>\n",
       "      <th>XAI_Similairity</th>\n",
       "      <td>60.0</td>\n",
       "      <td>0.0</td>\n",
       "      <td>Yes</td>\n",
       "    </tr>\n",
       "    <tr>\n",
       "      <th>Comp_Efficiency</th>\n",
       "      <td>60.0</td>\n",
       "      <td>0.0</td>\n",
       "      <td>Yes</td>\n",
       "    </tr>\n",
       "  </tbody>\n",
       "</table>\n",
       "</div>"
      ],
      "text/plain": [
       "                 Statistic   p-Value Significant Difference\n",
       "XAI_Identity         47.76       0.0                    Yes\n",
       "XAI_Stability         1.56  0.668493                     No\n",
       "XAI_Seperability      55.4       0.0                    Yes\n",
       "XAI_Similairity       60.0       0.0                    Yes\n",
       "Comp_Efficiency       60.0       0.0                    Yes"
      ]
     },
     "execution_count": 12,
     "metadata": {},
     "output_type": "execute_result"
    }
   ],
   "source": [
    "friedman_results_df"
   ]
  },
  {
   "cell_type": "markdown",
   "id": "acce96b0-307b-47fe-af7b-6c6d44fbae60",
   "metadata": {},
   "source": [
    "# Plot Analysis"
   ]
  },
  {
   "cell_type": "markdown",
   "id": "6a06c467-03ee-47b6-a79f-58fd196dcb09",
   "metadata": {},
   "source": [
    "## Generate Plots"
   ]
  },
  {
   "cell_type": "markdown",
   "id": "dcbc4b0a-395d-4dfb-862d-0927ec391692",
   "metadata": {},
   "source": [
    "### Bar Charts "
   ]
  },
  {
   "cell_type": "markdown",
   "id": "9f8f3c08-f360-455e-9112-5e632ad6ece5",
   "metadata": {},
   "source": [
    "Create bar charts for each metric, showing the average score for each XAI technique. This will help illustrate the differences in performance across the techniques for the metrics where significant differences were identified."
   ]
  },
  {
   "cell_type": "code",
   "execution_count": 13,
   "id": "e4019e4b-cc7c-4432-a37e-0fd3354f94f3",
   "metadata": {},
   "outputs": [],
   "source": [
    "# Set the style of the seaborn\n",
    "sns.set(style=\"whitegrid\")"
   ]
  },
  {
   "cell_type": "code",
   "execution_count": 14,
   "id": "b350a777-1e29-44cf-9453-f26c544a0f44",
   "metadata": {},
   "outputs": [],
   "source": [
    "# Filter out the metrics with significant differences for visualization\n",
    "significant_metrics = friedman_results_df[friedman_results_df['Significant Difference'] == 'Yes'].index.tolist()"
   ]
  },
  {
   "cell_type": "code",
   "execution_count": 15,
   "id": "aa097a1a-2d65-4a43-85f6-58c9f84d62be",
   "metadata": {},
   "outputs": [
    {
     "data": {
      "text/plain": [
       "['XAI_Identity', 'XAI_Seperability', 'XAI_Similairity', 'Comp_Efficiency']"
      ]
     },
     "execution_count": 15,
     "metadata": {},
     "output_type": "execute_result"
    }
   ],
   "source": [
    "# Display the custom metrics that show significance in their differences\n",
    "significant_metrics"
   ]
  },
  {
   "cell_type": "markdown",
   "id": "4e99a2cf-f8ce-4ea3-91f6-3a2521d8cc7c",
   "metadata": {},
   "source": [
    "#### Display Friedman Results"
   ]
  },
  {
   "cell_type": "code",
   "execution_count": 16,
   "id": "3282d3c4-4aa2-4590-9a92-469033370a49",
   "metadata": {},
   "outputs": [
    {
     "data": {
      "image/png": "[encoded data removed]",
      "text/plain": [
       "<Figure size 1008x432 with 2 Axes>"
      ]
     },
     "metadata": {
      "needs_background": "light"
     },
     "output_type": "display_data"
    }
   ],
   "source": [
    "# Data from the Friedman analysis results to plot\n",
    "metrics = friedman_results_df.index.tolist()\n",
    "statistics = friedman_results_df['Statistic'].tolist()\n",
    "p_values = friedman_results_df['p-Value'].tolist()\n",
    "\n",
    "# Create bar chart for Friedman statistics\n",
    "plt.figure(figsize=(14, 6))\n",
    "\n",
    "# Bar chart for statistics\n",
    "plt.subplot(1, 2, 1)\n",
    "plt.bar(metrics, statistics, color='skyblue')\n",
    "plt.title('Friedman Test Statistics')\n",
    "plt.xlabel('Metric')\n",
    "plt.ylabel('Statistic')\n",
    "plt.xticks(rotation=45, ha='right')\n",
    "\n",
    "# Bar chart for p-values\n",
    "plt.subplot(1, 2, 2)\n",
    "plt.bar(metrics, p_values, color='salmon')\n",
    "plt.title('Friedman Test p-Values')\n",
    "plt.xlabel('Metric')\n",
    "plt.ylabel('p-Value')\n",
    "plt.yscale('log')  # Use logarithmic scale for better visualization of p-values\n",
    "plt.xticks(rotation=45, ha='right')\n",
    "\n",
    "plt.tight_layout()\n",
    "plt.show()"
   ]
  },
  {
   "cell_type": "markdown",
   "id": "8e4b77a6-b0d5-47d8-a8fc-5f886f6b6b8e",
   "metadata": {},
   "source": [
    "#### Display Metrics Scores"
   ]
  },
  {
   "cell_type": "code",
   "execution_count": 17,
   "id": "6d7f672a-9f95-47d3-8838-aff53e43e1ef",
   "metadata": {},
   "outputs": [],
   "source": [
    "# Assuming 'data_prepared' is a dictionary with technique names as keys and dataframes as values\n",
    "# We'll exclude 'XAI_Stability' from the metrics to be plotted\n",
    "metrics_columns_excluding_stability = [metric for metric in metrics_columns if metric != \"XAI_Stability\"]\n",
    "mean_scores = {metric: [] for metric in metrics_columns_excluding_stability}\n",
    "techniques = list(data_prepared.keys())"
   ]
  },
  {
   "cell_type": "code",
   "execution_count": 18,
   "id": "8dd2baf9-5c8b-4933-8be7-42ac9d06529f",
   "metadata": {},
   "outputs": [],
   "source": [
    "# Set colours on graph\n",
    "colors = {'SHAP': '#377eb8', 'LIME': '#ffbf00', 'ANCHORS': '#4daf4a', 'DiCE': '#e41a1c'}"
   ]
  },
  {
   "cell_type": "code",
   "execution_count": 19,
   "id": "70013cd2-d44a-4af3-9c19-6c8882792173",
   "metadata": {},
   "outputs": [],
   "source": [
    "# Prepare Bar Graph Data\n",
    "for metric in metrics_columns_excluding_stability:\n",
    "    for technique in techniques:\n",
    "        mean_score = data_prepared[technique][metric].mean()\n",
    "        mean_scores[metric].append(mean_score)"
   ]
  },
  {
   "cell_type": "code",
   "execution_count": 20,
   "id": "0c64781c-a685-42a0-9fb7-50011306ba24",
   "metadata": {},
   "outputs": [],
   "source": [
    "# Convert the mean scores to a DataFrame for easier plotting\n",
    "mean_scores_df = pd.DataFrame(mean_scores, index=techniques)"
   ]
  },
  {
   "cell_type": "code",
   "execution_count": 21,
   "id": "71d6d70a-7510-425a-8f95-6d8962ef3185",
   "metadata": {},
   "outputs": [
    {
     "data": {
      "image/png": "[encoded data removed]",
      "text/plain": [
       "<Figure size 720x1440 with 4 Axes>"
      ]
     },
     "metadata": {
      "needs_background": "light"
     },
     "output_type": "display_data"
    }
   ],
   "source": [
    "# Plotting\n",
    "num_metrics = len(metrics_columns_excluding_stability)\n",
    "fig, axes = plt.subplots(nrows=num_metrics, ncols=1, figsize=(10, 5*num_metrics))\n",
    "\n",
    "if num_metrics == 1:  # Adjust if there's only one metric to plot, to handle axes indexing\n",
    "    axes = [axes]\n",
    "\n",
    "for i, metric in enumerate(metrics_columns_excluding_stability):\n",
    "    bar_colors = [colors[technique] for technique in mean_scores_df.index]\n",
    "    axes[i].bar(mean_scores_df.index, mean_scores_df[metric], color=bar_colors)\n",
    "    axes[i].set_title(metric)\n",
    "    axes[i].set_xlabel('Technique')\n",
    "    axes[i].set_ylabel('Mean Score')\n",
    "    axes[i].tick_params(axis='x', rotation=45)\n",
    "\n",
    "plt.tight_layout()\n",
    "plt.show()\n",
    "# This code will generate bar charts with the specified colors for each technique, arranged one on top of the other instead of side by side, \n",
    "# and with an increased graph size."
   ]
  },
  {
   "cell_type": "markdown",
   "id": "04c4a399-b234-4744-a482-5254ca586504",
   "metadata": {},
   "source": [
    "# Wilcoxon Signed-Rank Test Analysis"
   ]
  },
  {
   "cell_type": "markdown",
   "id": "848295ed-8307-4f67-afb2-13f83651d202",
   "metadata": {},
   "source": [
    "The Wilcoxon signed-rank test is a non-parametric test used to compare two related samples to assess whether their population mean ranks differ. \n",
    "It's an alternative to the paired t-test when the data cannot be assumed to be normally distributed."
   ]
  },
  {
   "cell_type": "markdown",
   "id": "1347e29d-af7d-4e01-86f1-63cb984b7221",
   "metadata": {},
   "source": [
    "## Implement Wilcoxon Analysis"
   ]
  },
  {
   "cell_type": "code",
   "execution_count": 22,
   "id": "010fadc5-624e-476a-a4b1-9bc934f32909",
   "metadata": {},
   "outputs": [],
   "source": [
    "# List of XAI techniques for pairwise comparison\n",
    "xai_techniques = list(data_prepared.keys())"
   ]
  },
  {
   "cell_type": "code",
   "execution_count": 23,
   "id": "d727ad63-cd5c-40e0-b9fc-72db6c270232",
   "metadata": {},
   "outputs": [],
   "source": [
    "# Select \"XAI\" metrics for this analysis\n",
    "xai_metrics = [\"XAI_Identity\", \"XAI_Stability\", \"XAI_Seperability\", \"XAI_Similairity\", \"Comp_Efficiency\"]"
   ]
  },
  {
   "cell_type": "code",
   "execution_count": 24,
   "id": "312f8085-c885-4426-a08a-f5e661be555b",
   "metadata": {},
   "outputs": [],
   "source": [
    "# Initialize a structure to hold the Wilcoxon signed-rank test results\n",
    "wilcoxon_results = []"
   ]
  },
  {
   "cell_type": "code",
   "execution_count": 25,
   "id": "804c8b23-d137-4a1b-9674-3c5071082087",
   "metadata": {},
   "outputs": [],
   "source": [
    "# Bonferroni correction factor\n",
    "num_comparisons = len(list(itertools.combinations(xai_techniques, 2))) * len(xai_metrics)\n",
    "alpha = 0.05 / num_comparisons"
   ]
  },
  {
   "cell_type": "code",
   "execution_count": 26,
   "id": "93ef56b1-dde0-429d-a6be-51ff658bd1ab",
   "metadata": {},
   "outputs": [],
   "source": [
    "# Perform Wilcoxon signed-rank test for all pairwise comparisons and for each \"XAI\" metric\n",
    "for metric in xai_metrics:\n",
    "    for pair in itertools.combinations(xai_techniques, 2):\n",
    "        data1 = data_prepared[pair[0]][metric]\n",
    "        data2 = data_prepared[pair[1]][metric]\n",
    "        stat, p = wilcoxon(data1, data2)\n",
    "        wilcoxon_results.append({\n",
    "            \"Metric\": metric,\n",
    "            \"Comparison\": f\"{pair[0]} vs {pair[1]}\",\n",
    "            \"Statistic\": stat,\n",
    "            \"p-Value\": p,\n",
    "            \"Significant (α=0.05, Bonferroni corrected)\": \"Yes\" if p < alpha else \"No\"\n",
    "        })"
   ]
  },
  {
   "cell_type": "markdown",
   "id": "ec65d4f4-9902-4ef8-9591-c3edac989c7c",
   "metadata": {},
   "source": [
    "## Present Wilcoxon Analysis"
   ]
  },
  {
   "cell_type": "code",
   "execution_count": 27,
   "id": "34efee8c-0497-4ca9-a9bd-54e091ac26de",
   "metadata": {},
   "outputs": [],
   "source": [
    "# Convert the Wilcoxon signed-rank test results into a dataframe for display\n",
    "wilcoxon_results_df = pd.DataFrame(wilcoxon_results)"
   ]
  },
  {
   "cell_type": "code",
   "execution_count": 28,
   "id": "2fb1b757-4e97-43b4-98a4-bb815f2c7f4e",
   "metadata": {},
   "outputs": [
    {
     "data": {
      "text/html": [
       "<div>\n",
       "<style scoped>\n",
       "    .dataframe tbody tr th:only-of-type {\n",
       "        vertical-align: middle;\n",
       "    }\n",
       "\n",
       "    .dataframe tbody tr th {\n",
       "        vertical-align: top;\n",
       "    }\n",
       "\n",
       "    .dataframe thead th {\n",
       "        text-align: right;\n",
       "    }\n",
       "</style>\n",
       "<table border=\"1\" class=\"dataframe\">\n",
       "  <thead>\n",
       "    <tr style=\"text-align: right;\">\n",
       "      <th></th>\n",
       "      <th>Metric</th>\n",
       "      <th>Comparison</th>\n",
       "      <th>Statistic</th>\n",
       "      <th>p-Value</th>\n",
       "      <th>Significant (α=0.05, Bonferroni corrected)</th>\n",
       "    </tr>\n",
       "  </thead>\n",
       "  <tbody>\n",
       "    <tr>\n",
       "      <th>0</th>\n",
       "      <td>XAI_Identity</td>\n",
       "      <td>SHAP vs LIME</td>\n",
       "      <td>0.0</td>\n",
       "      <td>0.000002</td>\n",
       "      <td>Yes</td>\n",
       "    </tr>\n",
       "    <tr>\n",
       "      <th>1</th>\n",
       "      <td>XAI_Identity</td>\n",
       "      <td>SHAP vs ANCHORS</td>\n",
       "      <td>0.0</td>\n",
       "      <td>0.000002</td>\n",
       "      <td>Yes</td>\n",
       "    </tr>\n",
       "    <tr>\n",
       "      <th>2</th>\n",
       "      <td>XAI_Identity</td>\n",
       "      <td>SHAP vs DiCE</td>\n",
       "      <td>0.0</td>\n",
       "      <td>0.000002</td>\n",
       "      <td>Yes</td>\n",
       "    </tr>\n",
       "    <tr>\n",
       "      <th>3</th>\n",
       "      <td>XAI_Identity</td>\n",
       "      <td>LIME vs ANCHORS</td>\n",
       "      <td>25.0</td>\n",
       "      <td>0.001690</td>\n",
       "      <td>No</td>\n",
       "    </tr>\n",
       "    <tr>\n",
       "      <th>4</th>\n",
       "      <td>XAI_Identity</td>\n",
       "      <td>LIME vs DiCE</td>\n",
       "      <td>9.0</td>\n",
       "      <td>0.000063</td>\n",
       "      <td>Yes</td>\n",
       "    </tr>\n",
       "    <tr>\n",
       "      <th>5</th>\n",
       "      <td>XAI_Identity</td>\n",
       "      <td>ANCHORS vs DiCE</td>\n",
       "      <td>62.0</td>\n",
       "      <td>0.113987</td>\n",
       "      <td>No</td>\n",
       "    </tr>\n",
       "    <tr>\n",
       "      <th>6</th>\n",
       "      <td>XAI_Stability</td>\n",
       "      <td>SHAP vs LIME</td>\n",
       "      <td>76.0</td>\n",
       "      <td>0.294252</td>\n",
       "      <td>No</td>\n",
       "    </tr>\n",
       "    <tr>\n",
       "      <th>7</th>\n",
       "      <td>XAI_Stability</td>\n",
       "      <td>SHAP vs ANCHORS</td>\n",
       "      <td>81.0</td>\n",
       "      <td>0.388376</td>\n",
       "      <td>No</td>\n",
       "    </tr>\n",
       "    <tr>\n",
       "      <th>8</th>\n",
       "      <td>XAI_Stability</td>\n",
       "      <td>SHAP vs DiCE</td>\n",
       "      <td>105.0</td>\n",
       "      <td>1.000000</td>\n",
       "      <td>No</td>\n",
       "    </tr>\n",
       "    <tr>\n",
       "      <th>9</th>\n",
       "      <td>XAI_Stability</td>\n",
       "      <td>LIME vs ANCHORS</td>\n",
       "      <td>103.0</td>\n",
       "      <td>0.956329</td>\n",
       "      <td>No</td>\n",
       "    </tr>\n",
       "    <tr>\n",
       "      <th>10</th>\n",
       "      <td>XAI_Stability</td>\n",
       "      <td>LIME vs DiCE</td>\n",
       "      <td>62.0</td>\n",
       "      <td>0.113987</td>\n",
       "      <td>No</td>\n",
       "    </tr>\n",
       "    <tr>\n",
       "      <th>11</th>\n",
       "      <td>XAI_Stability</td>\n",
       "      <td>ANCHORS vs DiCE</td>\n",
       "      <td>75.0</td>\n",
       "      <td>0.277355</td>\n",
       "      <td>No</td>\n",
       "    </tr>\n",
       "    <tr>\n",
       "      <th>12</th>\n",
       "      <td>XAI_Seperability</td>\n",
       "      <td>SHAP vs LIME</td>\n",
       "      <td>48.5</td>\n",
       "      <td>0.508569</td>\n",
       "      <td>No</td>\n",
       "    </tr>\n",
       "    <tr>\n",
       "      <th>13</th>\n",
       "      <td>XAI_Seperability</td>\n",
       "      <td>SHAP vs ANCHORS</td>\n",
       "      <td>0.0</td>\n",
       "      <td>0.000002</td>\n",
       "      <td>Yes</td>\n",
       "    </tr>\n",
       "    <tr>\n",
       "      <th>14</th>\n",
       "      <td>XAI_Seperability</td>\n",
       "      <td>SHAP vs DiCE</td>\n",
       "      <td>0.0</td>\n",
       "      <td>0.000002</td>\n",
       "      <td>Yes</td>\n",
       "    </tr>\n",
       "    <tr>\n",
       "      <th>15</th>\n",
       "      <td>XAI_Seperability</td>\n",
       "      <td>LIME vs ANCHORS</td>\n",
       "      <td>0.0</td>\n",
       "      <td>0.000002</td>\n",
       "      <td>Yes</td>\n",
       "    </tr>\n",
       "    <tr>\n",
       "      <th>16</th>\n",
       "      <td>XAI_Seperability</td>\n",
       "      <td>LIME vs DiCE</td>\n",
       "      <td>0.0</td>\n",
       "      <td>0.000002</td>\n",
       "      <td>Yes</td>\n",
       "    </tr>\n",
       "    <tr>\n",
       "      <th>17</th>\n",
       "      <td>XAI_Seperability</td>\n",
       "      <td>ANCHORS vs DiCE</td>\n",
       "      <td>0.0</td>\n",
       "      <td>0.000002</td>\n",
       "      <td>Yes</td>\n",
       "    </tr>\n",
       "    <tr>\n",
       "      <th>18</th>\n",
       "      <td>XAI_Similairity</td>\n",
       "      <td>SHAP vs LIME</td>\n",
       "      <td>0.0</td>\n",
       "      <td>0.000002</td>\n",
       "      <td>Yes</td>\n",
       "    </tr>\n",
       "    <tr>\n",
       "      <th>19</th>\n",
       "      <td>XAI_Similairity</td>\n",
       "      <td>SHAP vs ANCHORS</td>\n",
       "      <td>0.0</td>\n",
       "      <td>0.000002</td>\n",
       "      <td>Yes</td>\n",
       "    </tr>\n",
       "    <tr>\n",
       "      <th>20</th>\n",
       "      <td>XAI_Similairity</td>\n",
       "      <td>SHAP vs DiCE</td>\n",
       "      <td>0.0</td>\n",
       "      <td>0.000002</td>\n",
       "      <td>Yes</td>\n",
       "    </tr>\n",
       "    <tr>\n",
       "      <th>21</th>\n",
       "      <td>XAI_Similairity</td>\n",
       "      <td>LIME vs ANCHORS</td>\n",
       "      <td>0.0</td>\n",
       "      <td>0.000002</td>\n",
       "      <td>Yes</td>\n",
       "    </tr>\n",
       "    <tr>\n",
       "      <th>22</th>\n",
       "      <td>XAI_Similairity</td>\n",
       "      <td>LIME vs DiCE</td>\n",
       "      <td>0.0</td>\n",
       "      <td>0.000002</td>\n",
       "      <td>Yes</td>\n",
       "    </tr>\n",
       "    <tr>\n",
       "      <th>23</th>\n",
       "      <td>XAI_Similairity</td>\n",
       "      <td>ANCHORS vs DiCE</td>\n",
       "      <td>0.0</td>\n",
       "      <td>0.000002</td>\n",
       "      <td>Yes</td>\n",
       "    </tr>\n",
       "    <tr>\n",
       "      <th>24</th>\n",
       "      <td>Comp_Efficiency</td>\n",
       "      <td>SHAP vs LIME</td>\n",
       "      <td>0.0</td>\n",
       "      <td>0.000002</td>\n",
       "      <td>Yes</td>\n",
       "    </tr>\n",
       "    <tr>\n",
       "      <th>25</th>\n",
       "      <td>Comp_Efficiency</td>\n",
       "      <td>SHAP vs ANCHORS</td>\n",
       "      <td>0.0</td>\n",
       "      <td>0.000002</td>\n",
       "      <td>Yes</td>\n",
       "    </tr>\n",
       "    <tr>\n",
       "      <th>26</th>\n",
       "      <td>Comp_Efficiency</td>\n",
       "      <td>SHAP vs DiCE</td>\n",
       "      <td>0.0</td>\n",
       "      <td>0.000002</td>\n",
       "      <td>Yes</td>\n",
       "    </tr>\n",
       "    <tr>\n",
       "      <th>27</th>\n",
       "      <td>Comp_Efficiency</td>\n",
       "      <td>LIME vs ANCHORS</td>\n",
       "      <td>0.0</td>\n",
       "      <td>0.000002</td>\n",
       "      <td>Yes</td>\n",
       "    </tr>\n",
       "    <tr>\n",
       "      <th>28</th>\n",
       "      <td>Comp_Efficiency</td>\n",
       "      <td>LIME vs DiCE</td>\n",
       "      <td>0.0</td>\n",
       "      <td>0.000002</td>\n",
       "      <td>Yes</td>\n",
       "    </tr>\n",
       "    <tr>\n",
       "      <th>29</th>\n",
       "      <td>Comp_Efficiency</td>\n",
       "      <td>ANCHORS vs DiCE</td>\n",
       "      <td>0.0</td>\n",
       "      <td>0.000002</td>\n",
       "      <td>Yes</td>\n",
       "    </tr>\n",
       "  </tbody>\n",
       "</table>\n",
       "</div>"
      ],
      "text/plain": [
       "              Metric       Comparison  Statistic   p-Value  \\\n",
       "0       XAI_Identity     SHAP vs LIME        0.0  0.000002   \n",
       "1       XAI_Identity  SHAP vs ANCHORS        0.0  0.000002   \n",
       "2       XAI_Identity     SHAP vs DiCE        0.0  0.000002   \n",
       "3       XAI_Identity  LIME vs ANCHORS       25.0  0.001690   \n",
       "4       XAI_Identity     LIME vs DiCE        9.0  0.000063   \n",
       "5       XAI_Identity  ANCHORS vs DiCE       62.0  0.113987   \n",
       "6      XAI_Stability     SHAP vs LIME       76.0  0.294252   \n",
       "7      XAI_Stability  SHAP vs ANCHORS       81.0  0.388376   \n",
       "8      XAI_Stability     SHAP vs DiCE      105.0  1.000000   \n",
       "9      XAI_Stability  LIME vs ANCHORS      103.0  0.956329   \n",
       "10     XAI_Stability     LIME vs DiCE       62.0  0.113987   \n",
       "11     XAI_Stability  ANCHORS vs DiCE       75.0  0.277355   \n",
       "12  XAI_Seperability     SHAP vs LIME       48.5  0.508569   \n",
       "13  XAI_Seperability  SHAP vs ANCHORS        0.0  0.000002   \n",
       "14  XAI_Seperability     SHAP vs DiCE        0.0  0.000002   \n",
       "15  XAI_Seperability  LIME vs ANCHORS        0.0  0.000002   \n",
       "16  XAI_Seperability     LIME vs DiCE        0.0  0.000002   \n",
       "17  XAI_Seperability  ANCHORS vs DiCE        0.0  0.000002   \n",
       "18   XAI_Similairity     SHAP vs LIME        0.0  0.000002   \n",
       "19   XAI_Similairity  SHAP vs ANCHORS        0.0  0.000002   \n",
       "20   XAI_Similairity     SHAP vs DiCE        0.0  0.000002   \n",
       "21   XAI_Similairity  LIME vs ANCHORS        0.0  0.000002   \n",
       "22   XAI_Similairity     LIME vs DiCE        0.0  0.000002   \n",
       "23   XAI_Similairity  ANCHORS vs DiCE        0.0  0.000002   \n",
       "24   Comp_Efficiency     SHAP vs LIME        0.0  0.000002   \n",
       "25   Comp_Efficiency  SHAP vs ANCHORS        0.0  0.000002   \n",
       "26   Comp_Efficiency     SHAP vs DiCE        0.0  0.000002   \n",
       "27   Comp_Efficiency  LIME vs ANCHORS        0.0  0.000002   \n",
       "28   Comp_Efficiency     LIME vs DiCE        0.0  0.000002   \n",
       "29   Comp_Efficiency  ANCHORS vs DiCE        0.0  0.000002   \n",
       "\n",
       "   Significant (α=0.05, Bonferroni corrected)  \n",
       "0                                         Yes  \n",
       "1                                         Yes  \n",
       "2                                         Yes  \n",
       "3                                          No  \n",
       "4                                         Yes  \n",
       "5                                          No  \n",
       "6                                          No  \n",
       "7                                          No  \n",
       "8                                          No  \n",
       "9                                          No  \n",
       "10                                         No  \n",
       "11                                         No  \n",
       "12                                         No  \n",
       "13                                        Yes  \n",
       "14                                        Yes  \n",
       "15                                        Yes  \n",
       "16                                        Yes  \n",
       "17                                        Yes  \n",
       "18                                        Yes  \n",
       "19                                        Yes  \n",
       "20                                        Yes  \n",
       "21                                        Yes  \n",
       "22                                        Yes  \n",
       "23                                        Yes  \n",
       "24                                        Yes  \n",
       "25                                        Yes  \n",
       "26                                        Yes  \n",
       "27                                        Yes  \n",
       "28                                        Yes  \n",
       "29                                        Yes  "
      ]
     },
     "execution_count": 28,
     "metadata": {},
     "output_type": "execute_result"
    }
   ],
   "source": [
    "wilcoxon_results_df"
   ]
  },
  {
   "cell_type": "markdown",
   "id": "9166f232-6763-4c09-9690-7647d52d6269",
   "metadata": {},
   "source": [
    "# Supplementary Graphs"
   ]
  },
  {
   "cell_type": "markdown",
   "id": "916a4322-7eea-45bc-b606-01a503f517e2",
   "metadata": {},
   "source": [
    "## Box Plot"
   ]
  },
  {
   "cell_type": "code",
   "execution_count": 29,
   "id": "396ca4cf-dc2f-4f03-b7d1-ae33dc9ab3ad",
   "metadata": {},
   "outputs": [],
   "source": [
    "# Load the data from an Excel file\n",
    "data = pd.read_excel('XAI_StatTest2_RowLables_v1.xlsx')"
   ]
  },
  {
   "cell_type": "code",
   "execution_count": 30,
   "id": "dc8e987f-4e12-4205-9acf-d5b675f6a97e",
   "metadata": {},
   "outputs": [],
   "source": [
    "# Extracting the values for each XAI method\n",
    "shap = data['SHAP'].values\n",
    "lime = data['LIME'].values\n",
    "anchors = data['ANCHOR'].values\n",
    "dice = data['DiCE'].values"
   ]
  },
  {
   "cell_type": "code",
   "execution_count": 31,
   "id": "be565a25-f687-4434-9e07-e4728997963c",
   "metadata": {},
   "outputs": [],
   "source": [
    "# Reshape the data for plotting\n",
    "reshaped_data = pd.melt(data, id_vars=['Metric'], value_vars=['SHAP', 'LIME', 'ANCHOR', 'DiCE'],\n",
    "                        var_name='Method', value_name='Score')"
   ]
  },
  {
   "cell_type": "code",
   "execution_count": 32,
   "id": "96475adb-ba02-4641-9d78-a108ad61291c",
   "metadata": {},
   "outputs": [],
   "source": [
    "box_colors = {'SHAP': '#377eb8', 'LIME': '#ffbf00', 'ANCHOR': '#4daf4a', 'DiCE': '#e41a1c'}"
   ]
  },
  {
   "cell_type": "code",
   "execution_count": 33,
   "id": "73bf951e-3400-4a75-b168-75ffaf748050",
   "metadata": {},
   "outputs": [
    {
     "data": {
      "image/png": "[encoded data removed]",
      "text/plain": [
       "<Figure size 864x288 with 1 Axes>"
      ]
     },
     "metadata": {
      "needs_background": "light"
     },
     "output_type": "display_data"
    }
   ],
   "source": [
    "# Creating and displaying a Box Plot\n",
    "plt.figure(figsize=(12, 4)) # Adjust the figure size as needed\n",
    "sns.boxplot(x='Method', y='Score', data=reshaped_data, showfliers=False, palette=box_colors)\n",
    "plt.title('Box Plot of XAI Methods')\n",
    "plt.ylabel('Scores')\n",
    "plt.xlabel('XAI Methods')\n",
    "plt.show() # Display the first plot"
   ]
  }
 ],
 "metadata": {
  "kernelspec": {
   "display_name": "Python 3 (ipykernel)",
   "language": "python",
   "name": "python3"
  },
  "language_info": {
   "codemirror_mode": {
    "name": "ipython",
    "version": 3
   },
   "file_extension": ".py",
   "mimetype": "text/x-python",
   "name": "python",
   "nbconvert_exporter": "python",
   "pygments_lexer": "ipython3",
   "version": "3.8.10"
  }
 },
 "nbformat": 4,
 "nbformat_minor": 5
}
